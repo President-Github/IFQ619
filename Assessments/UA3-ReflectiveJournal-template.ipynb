{
 "cells": [
  {
   "cell_type": "markdown",
   "metadata": {},
   "source": [
    "# IFQ619 Assessment 3 - Reflective Journal\n",
    "\n",
    "### Instructions\n",
    "\n",
    "1. Add your name and student number and run the cell below\n",
    "2. Change the name of this file to the format: **A3-studentNumber-full_Name.ipynb**\n",
    "3. Throughout the semester add regular reflections in **Part A**. Run the date and time cells for each reflection to record the current date and time.\n",
    "4. Include in **Part A**, supporting evidence\n",
    "5. At the conclusion of the semester write your reflective journal in **Part B**. Ensure that you follow the instructions on Canvas and include 3 threads (Experience, Personal, Learning). This part should be approximately 2-3 pages long when exported to PDF.\n",
    "6. Export this notebook as a PDF file - make sure it is named in the format: **A3-studentNumber-full_Name.pdf**\n",
    "7. Submit the exported PDF file to Canvas."
   ]
  },
  {
   "cell_type": "code",
   "execution_count": 2,
   "metadata": {},
   "outputs": [
    {
     "data": {
      "text/html": [
       "<h1>Morgan Meeuwissen (n12240800)</h1>"
      ],
      "text/plain": [
       "<IPython.core.display.HTML object>"
      ]
     },
     "metadata": {},
     "output_type": "display_data"
    }
   ],
   "source": [
    "# Complete the following cell with your details and run to produce your personalised header for this assignment\n",
    "\n",
    "import time\n",
    "from IPython.display import display, HTML\n",
    "\n",
    "first_name = \"Morgan\"\n",
    "last_name = \"Meeuwissen\"\n",
    "student_number = \"n12240800\"\n",
    "\n",
    "personal_header = \"<h1>\"+first_name+\" \"+last_name+\" (\"+student_number+\")</h1>\"\n",
    "display(HTML(personal_header))"
   ]
  },
  {
   "cell_type": "markdown",
   "metadata": {},
   "source": [
    "---\n",
    "\n",
    "## PART A - Records of regular reflection and supporting evidence"
   ]
  },
  {
   "cell_type": "code",
   "execution_count": 6,
   "metadata": {
    "scrolled": true
   },
   "outputs": [
    {
     "data": {
      "text/html": [
       "<h3>Regular reflection date: 2024.07.14</h3>"
      ],
      "text/plain": [
       "<IPython.core.display.HTML object>"
      ]
     },
     "metadata": {},
     "output_type": "display_data"
    }
   ],
   "source": [
    "# run this cell when you complete a reflection\n",
    "display(HTML(f\"<h3>Regular reflection date: {time.strftime('%Y.%m.%d')}</h3>\"))"
   ]
  },
  {
   "cell_type": "markdown",
   "metadata": {},
   "source": [
    "### Regular Reflection\n",
    "* This is my first time studying through QUT so applying for a CSP and finalising enrolment took longer than I expected. I have set myself a reminder to check back in that these were sucessful in two weeks.\n",
    "* I belive all my admin tasks and pre-work should be completed now\n",
    "* Having used R markdowns extensively I'm actually finding interacting with the Jupyter notebook a bit confusing\n",
    "* I am feeling quite confident in my understanding of the first half of the course materials, however will need to brush up on some of the statics particularly hypotheseis testing. Adapting to self-study will be a challenge.\n",
    "\n",
    "\n",
    "### Supporting evidence\n",
    "What is this? I have gone ahead and posted this to the discussion board. Maybe images of our learnings is what they are after?\n"
   ]
  },
  {
   "cell_type": "code",
   "execution_count": 3,
   "metadata": {},
   "outputs": [
    {
     "data": {
      "text/html": [
       "<h3>Regular reflection date: 2024.07.23</h3>"
      ],
      "text/plain": [
       "<IPython.core.display.HTML object>"
      ]
     },
     "metadata": {},
     "output_type": "display_data"
    }
   ],
   "source": [
    "# run this cell when you complete a reflection\n",
    "display(HTML(f\"<h3>Regular reflection date: {time.strftime('%Y.%m.%d')}</h3>\"))"
   ]
  },
  {
   "cell_type": "markdown",
   "metadata": {},
   "source": [
    "### Regular Reflection\n",
    "* At the beginning of this week I hadn't actually completed my notes on the data analytics cycle, however an experience in the office early in the week pushed me think about the strategy of how I approach problems\n",
    "* For context I work in a professional engineering role that uses data to form predictions about the performance of machinary and upcoming issues.\n",
    "* Early this week we had a work team meeting where somebody suggested that they were trying to run fast fourier tranform over a set of verall vibration data. This is something that with experience I knew wasn't worth doing, but breaking it down into QDAVI they hadn't taken the time to understand thaat the datat that was available had already been processed from raw data and so was unsuitable for a technique like an fft which relies upon using raw high frequency dat to convert from a time domain to frequency domain..\n",
    "* Honestly over the course of this week I have also been somewhat guilty of this as well in trying multiple exploratory data analytics techniques like density plots a clear intent of how I was planning to use the outputs... just attempting multiple analyses without a clea idea of how they will affect my insights.\n",
    "\n",
    "\n",
    "### Supporting evidence\n",
    "I can't really post work content here without it breaking coporate confidentially and privacy rules\n"
   ]
  },
  {
   "cell_type": "code",
   "execution_count": 3,
   "metadata": {},
   "outputs": [
    {
     "data": {
      "text/html": [
       "<h3>Regular reflection date: 2024.08.05</h3>"
      ],
      "text/plain": [
       "<IPython.core.display.HTML object>"
      ]
     },
     "metadata": {},
     "output_type": "display_data"
    }
   ],
   "source": [
    "# run this cell when you complete a reflection\n",
    "display(HTML(f\"<h3>Regular reflection date: {time.strftime('%Y.%m.%d')}</h3>\"))"
   ]
  },
  {
   "cell_type": "markdown",
   "metadata": {},
   "source": [
    "### Regular Reflection\n",
    "\n",
    "* Ended up losing this one as I didn't save the workbook...\n",
    "* I believe I related a story here where a co-worker had re-run reproduceable analysis of our team's, but purposely excluded the graphs to make it run faster. (I assume they hit an error and didn't understand it) I ended up reviewing this work as it has very large cost benefit and saw how odd the results looked. Later after insisting that the markdown be run again with the graphs we sat down together and saw that there was segments of bad data that had polluted the results, so their insights were actually way off. This seemed quite topical to me as I had already formatted my analyses like QDAVI, but they didn't take the bait when I mentioned it.\n",
    "\n",
    "### Supporting evidence\n",
    "\n"
   ]
  },
  {
   "cell_type": "code",
   "execution_count": 2,
   "metadata": {},
   "outputs": [
    {
     "data": {
      "text/html": [
       "<h3>Regular reflection date: 2024.08.05</h3>"
      ],
      "text/plain": [
       "<IPython.core.display.HTML object>"
      ]
     },
     "metadata": {},
     "output_type": "display_data"
    }
   ],
   "source": [
    "# run this cell when you complete a reflection\n",
    "display(HTML(f\"<h3>Regular reflection date: {time.strftime('%Y.%m.%d')}</h3>\"))"
   ]
  },
  {
   "cell_type": "markdown",
   "metadata": {},
   "source": [
    "### Regular Reflection\n",
    "\n",
    "* Visualisation in plotly express is rather clean, but I am still looking back to ggplot in R. WHile it may not apply to this course directly I spent some time investigateing the language of graphics.\n",
    "* I am procrastingating a bit on the assignment for next week, but still confident.\n",
    "* I do regret not asking about what the purpose of the index was in the discussion board previously as I had been assuming it was just a unique key, but then it has come up in the assignment and I feel overly self-conscious asking now.\n",
    "\n",
    "### Supporting evidence\n",
    "\n"
   ]
  },
  {
   "cell_type": "code",
   "execution_count": 3,
   "metadata": {},
   "outputs": [
    {
     "data": {
      "text/html": [
       "<h3>Regular reflection date: 2024.08.11</h3>"
      ],
      "text/plain": [
       "<IPython.core.display.HTML object>"
      ]
     },
     "metadata": {},
     "output_type": "display_data"
    }
   ],
   "source": [
    "# run this cell when you complete a reflection\n",
    "display(HTML(f\"<h3>Regular reflection date: {time.strftime('%Y.%m.%d')}</h3>\"))"
   ]
  },
  {
   "cell_type": "markdown",
   "metadata": {},
   "source": [
    "### Regular Reflection\n",
    "I am still in Part A.1 of Assignment 1, which is a fair bit behind where I intended to be.\n",
    "Finding explaining myself and formatting markdown frustrating, but having seen the mixed reception this gets in business it is well worth practicing.\n",
    "\n",
    "### Supporting evidence\n",
    "Adrian dicussion?\n"
   ]
  },
  {
   "cell_type": "code",
   "execution_count": 3,
   "metadata": {},
   "outputs": [
    {
     "data": {
      "text/html": [
       "<h3>Regular reflection date: 2024.08.23</h3>"
      ],
      "text/plain": [
       "<IPython.core.display.HTML object>"
      ]
     },
     "metadata": {},
     "output_type": "display_data"
    }
   ],
   "source": [
    "# run this cell when you complete a reflection\n",
    "display(HTML(f\"<h3>Regular reflection date: {time.strftime('%Y.%m.%d')}</h3>\"))"
   ]
  },
  {
   "cell_type": "markdown",
   "metadata": {},
   "source": [
    "### Regular Reflection\n",
    "\n",
    "* Last week's assignment was left too late before I started to be comfortable. It took until  I also found that I had missread part B, so I wasn't thinking about it until later than I had intended\n",
    "* My regret on the not asking about the index only grew more over the week. It took me multiple days to learn of multi-indexes, trial combinations, and then finally move on to Part A.2. As soon as I hit Part B though the usefulness of it all started to click. This is really a flaw in my character where I always look to teach myself and hate asking for help (Something that in retrospect has caused issues for me in both work and social contexts... I don't regret fixing my car's alternator by learning how they work and testing the individual components though!)\n",
    "* While I felt that I could have gone on for much longer through multiple QDAVI cylcs, I am confident I submitted a detailed and justified investigation.\n",
    "* Fortunately in the review session Cici was very quick to pass me, so I am hoping it was clear I understood what I had been doing.\n",
    "\n",
    "### Supporting evidence\n",
    "\n"
   ]
  },
  {
   "cell_type": "code",
   "execution_count": 2,
   "metadata": {},
   "outputs": [
    {
     "data": {
      "text/html": [
       "<h3>Regular reflection date: 2024.08.25</h3>"
      ],
      "text/plain": [
       "<IPython.core.display.HTML object>"
      ]
     },
     "metadata": {},
     "output_type": "display_data"
    }
   ],
   "source": [
    "# run this cell when you complete a reflection\n",
    "display(HTML(f\"<h3>Regular reflection date: {time.strftime('%Y.%m.%d')}</h3>\"))"
   ]
  },
  {
   "cell_type": "markdown",
   "metadata": {},
   "source": [
    "### Regular Reflection\n",
    "* I found the tutorial for very open ended. It was very easy to just copy code and make it run, but learning about stemming and lemmytising on my own took me down some rabbit warrens. (Still not confident in doing much more than replicating code here)\n",
    "* I'm not really happy with how my work looks in jupyter notebooks always displaying the code and I can't print to html. Surely there is a better way to produce something that would be targeted as non-code readers like knitr in R?\n",
    "* Experience at work reared it's head again this week when our presented and Agile showcase on a recent sprint. Most of the team didn't relate their outcomes back too the opportunity they were focused on and instead just described what they did in technical terms. This reminded me of insights need to relate back to the question. (I only realised after our manager mentioned the focus on the \"what\" was done and not the \"how\" this causes improvements)\n",
    "\n",
    "### Supporting evidence\n",
    "Posted response to group chat.\n"
   ]
  },
  {
   "cell_type": "code",
   "execution_count": 3,
   "metadata": {},
   "outputs": [
    {
     "data": {
      "text/html": [
       "<h3>Regular reflection date: 2024.09.04</h3>"
      ],
      "text/plain": [
       "<IPython.core.display.HTML object>"
      ]
     },
     "metadata": {},
     "output_type": "display_data"
    }
   ],
   "source": [
    "# run this cell when you complete a reflection\n",
    "display(HTML(f\"<h3>Regular reflection date: {time.strftime('%Y.%m.%d')}</h3>\"))"
   ]
  },
  {
   "cell_type": "markdown",
   "metadata": {},
   "source": [
    "### Regular Reflection\n",
    "\n",
    "\n",
    "\n",
    "### Supporting evidence\n",
    "\n"
   ]
  },
  {
   "cell_type": "code",
   "execution_count": null,
   "metadata": {},
   "outputs": [],
   "source": [
    "# run this cell when you complete a reflection\n",
    "display(HTML(f\"<h3>Regular reflection date: {time.strftime('%Y.%m.%d')}</h3>\"))"
   ]
  },
  {
   "cell_type": "markdown",
   "metadata": {},
   "source": [
    "### Regular Reflection\n",
    "* I don't actually know everything about ethics despite what I thought. I suspect many students actually skip this module, but \n",
    "\n",
    "\n",
    "### Supporting evidence\n",
    "\n"
   ]
  },
  {
   "cell_type": "code",
   "execution_count": null,
   "metadata": {},
   "outputs": [],
   "source": [
    "# run this cell when you complete a reflection\n",
    "display(HTML(f\"<h3>Regular reflection date: {time.strftime('%Y.%m.%d')}</h3>\"))"
   ]
  },
  {
   "cell_type": "markdown",
   "metadata": {},
   "source": [
    "### Regular Reflection\n",
    "\n",
    "\n",
    "\n",
    "### Supporting evidence\n",
    "\n"
   ]
  },
  {
   "cell_type": "code",
   "execution_count": null,
   "metadata": {},
   "outputs": [],
   "source": [
    "# run this cell when you complete a reflection\n",
    "display(HTML(f\"<h3>Regular reflection date: {time.strftime('%Y.%m.%d')}</h3>\"))"
   ]
  },
  {
   "cell_type": "markdown",
   "metadata": {},
   "source": [
    "### Regular Reflection\n",
    "\n",
    "\n",
    "\n",
    "### Supporting evidence\n",
    "\n"
   ]
  },
  {
   "cell_type": "code",
   "execution_count": null,
   "metadata": {},
   "outputs": [],
   "source": [
    "# run this cell when you complete a reflection\n",
    "display(HTML(f\"<h3>Regular reflection date: {time.strftime('%Y.%m.%d')}</h3>\"))"
   ]
  },
  {
   "cell_type": "markdown",
   "metadata": {},
   "source": [
    "### Regular Reflection\n",
    "\n",
    "\n",
    "\n",
    "### Supporting evidence\n",
    "\n"
   ]
  },
  {
   "cell_type": "code",
   "execution_count": null,
   "metadata": {},
   "outputs": [],
   "source": [
    "# run this cell when you complete a reflection\n",
    "display(HTML(f\"<h3>Regular reflection date: {time.strftime('%Y.%m.%d')}</h3>\"))"
   ]
  },
  {
   "cell_type": "markdown",
   "metadata": {},
   "source": [
    "---\n",
    "\n",
    "## PART B - Reflective Journal\n",
    "\n",
    "*Write your final reflective journal in the next cell (using markdown). This part should be 2-3 pages long when exported as PDF.*\n",
    "\n",
    "---"
   ]
  },
  {
   "cell_type": "markdown",
   "metadata": {},
   "source": []
  }
 ],
 "metadata": {
  "kernelspec": {
   "display_name": "Python 3 (ipykernel)",
   "language": "python",
   "name": "python3"
  },
  "language_info": {
   "codemirror_mode": {
    "name": "ipython",
    "version": 3
   },
   "file_extension": ".py",
   "mimetype": "text/x-python",
   "name": "python",
   "nbconvert_exporter": "python",
   "pygments_lexer": "ipython3",
   "version": "3.11.9"
  }
 },
 "nbformat": 4,
 "nbformat_minor": 4
}
