{
 "cells": [
  {
   "attachments": {},
   "cell_type": "markdown",
   "id": "8242ddf6-d35e-4cb6-9099-424c91161d1e",
   "metadata": {
    "cell_name": "header_cell"
   },
   "source": [
    "<div style=\"background:#FFFFEE; color:#440404; padding:8px; border-radius: 4px; text-align: center; font-weight: 500;\">IFQ619 - Data Analytics for Strategic Decision Makers (2024)</div>"
   ]
  },
  {
   "attachments": {},
   "cell_type": "markdown",
   "id": "a0e86c15-976b-47d8-bccf-f823198ebfb9",
   "metadata": {
    "cell_name": "title_cell"
   },
   "source": [
    "# IFQ619 :: UA1 - Assignment 1 - Foundational techniques (40%)\n",
    "\n",
    "**IMPORTANT:** Refer to the instructions in Canvas module [UA1 - Assignment 1]() *BEFORE* working on this assignment. Ensure that you are familiar with the marking rubric and understand how the grade for this assignment will be awarded according to the criteria.\n",
    "\n",
    "1. Complete and run the code cell below to display your name and student number\n",
    "2. Complete all questions in Part A (within 2 weeks) - you can get assistance from your tutor with this part.\n",
    "3. Ensure that your tutor has verified your understanding of your work in Part A (no later than week 5)\n",
    "4. Complete a full analysis for Part B. Ensure that you use the techniques and libraries/packages that have been used in class.\n",
    "5. Submit your final notebook on Canvas [UA1 - Assignment 1]()\n"
   ]
  },
  {
   "cell_type": "code",
   "execution_count": 5,
   "id": "763f6f63",
   "metadata": {},
   "outputs": [
    {
     "data": {
      "text/html": [
       "<h1>Morgan Meeuwissen (n12240800)</h1>"
      ],
      "text/plain": [
       "<IPython.core.display.HTML object>"
      ]
     },
     "execution_count": 5,
     "metadata": {},
     "output_type": "execute_result"
    }
   ],
   "source": [
    "# Complete the following cell with your details and run to produce your personalised header for this assignment\n",
    "\n",
    "from IPython.display import HTML\n",
    "\n",
    "first_name = \"Morgan\"\n",
    "last_name = \"Meeuwissen\"\n",
    "student_number = \"n12240800\"\n",
    "\n",
    "personal_header = f\"<h1>{first_name} {last_name} ({student_number})</h1>\"\n",
    "HTML(personal_header)"
   ]
  },
  {
   "cell_type": "markdown",
   "id": "81caa994",
   "metadata": {},
   "source": [
    "---\n",
    "\n",
    "## Data for both Part A and Part B\n",
    "\n",
    "This assignment uses data from the Queensland Government [Open Data Portal](https://www.data.qld.gov.au). Both parts will use data on [Advance Queensland Funding Recipients](https://www.data.qld.gov.au/dataset/advance-queensland-funding-recipients). You should familiarise yourself with the [Advance Queensland Program and Grants](https://advance.qld.gov.au) to understand the context for the data. You should also refer to the `field descriptions` metadata to better understand the fields that are relevant to the `funding recipients` data."
   ]
  },
  {
   "attachments": {},
   "cell_type": "markdown",
   "id": "24fbcf4f",
   "metadata": {},
   "source": [
    "---\n",
    "## Part A\n",
    "\n",
    "**IMPORTANT** For the following task, keep a record of the dates and times where you demonstrated your understanding with your tutor. These should be AFTER you have completed the questions, and BEFORE week 5."
   ]
  },
  {
   "attachments": {},
   "cell_type": "markdown",
   "id": "10629964",
   "metadata": {},
   "source": [
    "### [Q1] Read the data\n",
    "\n",
    "- Open the CSV version of the file. Open directly from the URL into a pandas dataframe.\n",
    "- Identify an appropriate index, and make a note of the columns."
   ]
  },
  {
   "cell_type": "code",
   "execution_count": 6,
   "id": "b3658086-fa39-4d38-97fd-91a2f1786a29",
   "metadata": {},
   "outputs": [],
   "source": [
    "# Import Libraries for later use\n",
    "import pandas as pd\n",
    "import plotly.express as px"
   ]
  },
  {
   "cell_type": "markdown",
   "id": "c7bd400f-fa41-4a56-a430-17f229c8a2ab",
   "metadata": {},
   "source": [
    "While retrieving the data from the [Queensland Government Open Data Portal](https://advance.qld.gov.au) (2024) there were issues experienced with the encoding of the dataset as it was not in the expected utf-8 encoding. Unable to find answers from the portal, the encoding was instead identified using [Abc File Encoding Detector](https://abctool.gitlab.io/encoding-detector/) (n.d.) as another common encoding variant: **'windows-1252'**.\n",
    "\n",
    "First look at the fields that are available:"
   ]
  },
  {
   "cell_type": "code",
   "execution_count": 7,
   "id": "d50aaa03",
   "metadata": {},
   "outputs": [
    {
     "data": {
      "text/html": [
       "<div>\n",
       "<style scoped>\n",
       "    .dataframe tbody tr th:only-of-type {\n",
       "        vertical-align: middle;\n",
       "    }\n",
       "\n",
       "    .dataframe tbody tr th {\n",
       "        vertical-align: top;\n",
       "    }\n",
       "\n",
       "    .dataframe thead th {\n",
       "        text-align: right;\n",
       "    }\n",
       "</style>\n",
       "<table border=\"1\" class=\"dataframe\">\n",
       "  <thead>\n",
       "    <tr style=\"text-align: right;\">\n",
       "      <th></th>\n",
       "      <th>Header</th>\n",
       "      <th>Description</th>\n",
       "      <th>Field Type</th>\n",
       "    </tr>\n",
       "  </thead>\n",
       "  <tbody>\n",
       "    <tr>\n",
       "      <th>0</th>\n",
       "      <td>Program</td>\n",
       "      <td>Name of Advance Queensland Program.</td>\n",
       "      <td>text</td>\n",
       "    </tr>\n",
       "    <tr>\n",
       "      <th>1</th>\n",
       "      <td>Round</td>\n",
       "      <td>The program's funding round in which the recipient was successful.</td>\n",
       "      <td>text</td>\n",
       "    </tr>\n",
       "    <tr>\n",
       "      <th>2</th>\n",
       "      <td>Recipient Name</td>\n",
       "      <td>Name of the primary successful applicant that received the funding/AQ opportunity - as set out on the original application/entry/response.</td>\n",
       "      <td>text</td>\n",
       "    </tr>\n",
       "    <tr>\n",
       "      <th>3</th>\n",
       "      <td>Physical Address of Recipient - Suburb/Location</td>\n",
       "      <td>Suburb or town of the recipient's address.</td>\n",
       "      <td>text</td>\n",
       "    </tr>\n",
       "    <tr>\n",
       "      <th>4</th>\n",
       "      <td>Physical Address of Recipient - Post Code</td>\n",
       "      <td>Postcode of the recipient's address.\\n</td>\n",
       "      <td>number</td>\n",
       "    </tr>\n",
       "    <tr>\n",
       "      <th>5</th>\n",
       "      <td>University Collaborator (if applicable)</td>\n",
       "      <td>The name of the university(ies) that  collaborate with the main recipient of the AQ funding to support delivery of the agreed project deliverables.</td>\n",
       "      <td>text</td>\n",
       "    </tr>\n",
       "    <tr>\n",
       "      <th>6</th>\n",
       "      <td>Other Partners | Collaborators (if applicable)</td>\n",
       "      <td>The name of the body(ies) other than universities [including individuals and business entities] that will collaborate with the main recipient of the AQ funding to support delivery of the agreed project deliverables.</td>\n",
       "      <td>text</td>\n",
       "    </tr>\n",
       "    <tr>\n",
       "      <th>7</th>\n",
       "      <td>Investment/Project Title</td>\n",
       "      <td>Brief title of the activity for which the recipient is receiving funding or benefit.</td>\n",
       "      <td>text</td>\n",
       "    </tr>\n",
       "    <tr>\n",
       "      <th>8</th>\n",
       "      <td>Primary Location of Activity/Project - Suburb</td>\n",
       "      <td>Suburb or Town of the recipient's project.\\n</td>\n",
       "      <td>text</td>\n",
       "    </tr>\n",
       "    <tr>\n",
       "      <th>9</th>\n",
       "      <td>Primary Location of Activity/Project - Post Code</td>\n",
       "      <td>Postcode of the recipient's project.\\n</td>\n",
       "      <td>number</td>\n",
       "    </tr>\n",
       "    <tr>\n",
       "      <th>10</th>\n",
       "      <td>Multiple Locations of Activity/Project (if applicable)</td>\n",
       "      <td>Where the activity/project will not be delivered in a single location but in multiple locations or across the State</td>\n",
       "      <td>text</td>\n",
       "    </tr>\n",
       "    <tr>\n",
       "      <th>11</th>\n",
       "      <td>Approval date</td>\n",
       "      <td>Date funding was approved to be given to the recipient.</td>\n",
       "      <td>date</td>\n",
       "    </tr>\n",
       "    <tr>\n",
       "      <th>12</th>\n",
       "      <td>Local Government /Council</td>\n",
       "      <td>Local Government area based on the recipient's address.</td>\n",
       "      <td>text</td>\n",
       "    </tr>\n",
       "    <tr>\n",
       "      <th>13</th>\n",
       "      <td>RAP Region</td>\n",
       "      <td>Regional Action Plan (RAP) region is based on the suburb/location of the project.</td>\n",
       "      <td>text</td>\n",
       "    </tr>\n",
       "    <tr>\n",
       "      <th>14</th>\n",
       "      <td>State Electorate</td>\n",
       "      <td>State electorate based on the recipient address.</td>\n",
       "      <td>text</td>\n",
       "    </tr>\n",
       "    <tr>\n",
       "      <th>15</th>\n",
       "      <td>Actual Contractual Commitment ($)</td>\n",
       "      <td>Amount of funding approved to be given to the recipient, exclusive of GST or where the contract has been varied and therefore the contractual commitment is different to the approved funding amount.</td>\n",
       "      <td>number</td>\n",
       "    </tr>\n",
       "  </tbody>\n",
       "</table>\n",
       "</div>"
      ],
      "text/plain": [
       "                                                    Header  \\\n",
       "0                                                  Program   \n",
       "1                                                   Round    \n",
       "2                                           Recipient Name   \n",
       "3          Physical Address of Recipient - Suburb/Location   \n",
       "4                Physical Address of Recipient - Post Code   \n",
       "5                  University Collaborator (if applicable)   \n",
       "6           Other Partners | Collaborators (if applicable)   \n",
       "7                                 Investment/Project Title   \n",
       "8            Primary Location of Activity/Project - Suburb   \n",
       "9         Primary Location of Activity/Project - Post Code   \n",
       "10  Multiple Locations of Activity/Project (if applicable)   \n",
       "11                                           Approval date   \n",
       "12                               Local Government /Council   \n",
       "13                                              RAP Region   \n",
       "14                                        State Electorate   \n",
       "15                       Actual Contractual Commitment ($)   \n",
       "\n",
       "                                                                                                                                                                                                                Description  \\\n",
       "0                                                                                                                                                                                       Name of Advance Queensland Program.   \n",
       "1                                                                                                                                                        The program's funding round in which the recipient was successful.   \n",
       "2                                                                               Name of the primary successful applicant that received the funding/AQ opportunity - as set out on the original application/entry/response.    \n",
       "3                                                                                                                                                                                Suburb or town of the recipient's address.   \n",
       "4                                                                                                                                                                                    Postcode of the recipient's address.\\n   \n",
       "5                                                                       The name of the university(ies) that  collaborate with the main recipient of the AQ funding to support delivery of the agreed project deliverables.   \n",
       "6   The name of the body(ies) other than universities [including individuals and business entities] that will collaborate with the main recipient of the AQ funding to support delivery of the agreed project deliverables.   \n",
       "7                                                                                                                                      Brief title of the activity for which the recipient is receiving funding or benefit.   \n",
       "8                                                                                                                                                                              Suburb or Town of the recipient's project.\\n   \n",
       "9                                                                                                                                                                                    Postcode of the recipient's project.\\n   \n",
       "10                                                                                                      Where the activity/project will not be delivered in a single location but in multiple locations or across the State   \n",
       "11                                                                                                                                                                  Date funding was approved to be given to the recipient.   \n",
       "12                                                                                                                                                                  Local Government area based on the recipient's address.   \n",
       "13                                                                                                                                        Regional Action Plan (RAP) region is based on the suburb/location of the project.   \n",
       "14                                                                                                                                                                         State electorate based on the recipient address.   \n",
       "15                    Amount of funding approved to be given to the recipient, exclusive of GST or where the contract has been varied and therefore the contractual commitment is different to the approved funding amount.   \n",
       "\n",
       "   Field Type  \n",
       "0        text  \n",
       "1        text  \n",
       "2        text  \n",
       "3        text  \n",
       "4      number  \n",
       "5        text  \n",
       "6        text  \n",
       "7        text  \n",
       "8        text  \n",
       "9      number  \n",
       "10       text  \n",
       "11       date  \n",
       "12       text  \n",
       "13       text  \n",
       "14       text  \n",
       "15     number  "
      ]
     },
     "execution_count": 7,
     "metadata": {},
     "output_type": "execute_result"
    }
   ],
   "source": [
    "# Retrieve both the fields\n",
    "fields_url = \"https://www.data.qld.gov.au/dataset/db190f2d-f866-4811-9a6e-4b78744b551b/resource/e4d8e24c-3e2b-41df-860f-9c292209d021/download/advance-queensland-funding-recipients-field-descriptions.csv\"\n",
    "\n",
    "fields_df = pd.read_csv(fields_url, encoding = 'windows-1252')\n",
    "fields_df"
   ]
  },
  {
   "cell_type": "markdown",
   "id": "db13a19d-c38a-4397-8501-572f5e3c0661",
   "metadata": {},
   "source": [
    "None of these appear to be an ID field appropriate to use as a unique index, so we will need to retrieve the data and confirm if there is any appropriate ID. It is likely only the text fields are appropriate, but I find the \"Program\", \"Round\", and \"Recipient Name\" to be the most likely."
   ]
  },
  {
   "cell_type": "code",
   "execution_count": 8,
   "id": "1fc1b58d-8f40-4399-a183-187d38d03c86",
   "metadata": {},
   "outputs": [
    {
     "data": {
      "text/html": [
       "<div>\n",
       "<style scoped>\n",
       "    .dataframe tbody tr th:only-of-type {\n",
       "        vertical-align: middle;\n",
       "    }\n",
       "\n",
       "    .dataframe tbody tr th {\n",
       "        vertical-align: top;\n",
       "    }\n",
       "\n",
       "    .dataframe thead th {\n",
       "        text-align: right;\n",
       "    }\n",
       "</style>\n",
       "<table border=\"1\" class=\"dataframe\">\n",
       "  <thead>\n",
       "    <tr style=\"text-align: right;\">\n",
       "      <th></th>\n",
       "      <th>Program Name</th>\n",
       "      <th>Round</th>\n",
       "      <th>Recipient Name</th>\n",
       "      <th>Physical Address of Recipient - Suburb/Location</th>\n",
       "      <th>Physical Address of Recipient - Post Code</th>\n",
       "      <th>University Collaborator (if applicable)</th>\n",
       "      <th>Other Partners/ Collaborators (if applicable)</th>\n",
       "      <th>Investment/Project Title</th>\n",
       "      <th>Primary Location of Activity/Project - Suburb/Location</th>\n",
       "      <th>Primary Location of Activity/Project - Post Code</th>\n",
       "      <th>Multiple Locations of Activity/Project</th>\n",
       "      <th>Approval date</th>\n",
       "      <th>Local Government Area (LGA)</th>\n",
       "      <th>RAP Region (based on Project Location)</th>\n",
       "      <th>State Electorate</th>\n",
       "      <th>Contractual Commitment (GST excl.)</th>\n",
       "    </tr>\n",
       "  </thead>\n",
       "  <tbody>\n",
       "    <tr>\n",
       "      <th>0</th>\n",
       "      <td>Aboriginal and Torres Strait Islander PhD Scholarships</td>\n",
       "      <td>AQ Aboriginal &amp; Torres Strait Islander PhD Scholarships 2018-19 Round 4</td>\n",
       "      <td>Central Queensland University</td>\n",
       "      <td>Norman Gardens</td>\n",
       "      <td>4701.0</td>\n",
       "      <td>NaN</td>\n",
       "      <td>BHP Billiton</td>\n",
       "      <td>Decolonising the systematic barriers and enablers of Indigenous career progression in MiningCo (BHP). An Aboriginal perspective - Terry Bell</td>\n",
       "      <td>Brisbane City</td>\n",
       "      <td>4001.0</td>\n",
       "      <td>NaN</td>\n",
       "      <td>14/06/2019 0:00</td>\n",
       "      <td>Rockhampton (R)</td>\n",
       "      <td>Brisbane and Redlands</td>\n",
       "      <td>Keppel</td>\n",
       "      <td>$107,084</td>\n",
       "    </tr>\n",
       "    <tr>\n",
       "      <th>1</th>\n",
       "      <td>Aboriginal and Torres Strait Islander PhD Scholarships</td>\n",
       "      <td>AQ Aboriginal &amp; Torres Strait Islander PhD Scholarships 2015-16 Round 1</td>\n",
       "      <td>Griffith University</td>\n",
       "      <td>Nathan</td>\n",
       "      <td>4111.0</td>\n",
       "      <td>NaN</td>\n",
       "      <td>NaN</td>\n",
       "      <td>An indigenous journey through the 21st century educational landscapes of new metrics - Troy Meston</td>\n",
       "      <td>Nathan</td>\n",
       "      <td>4111.0</td>\n",
       "      <td>NaN</td>\n",
       "      <td>28/01/2016 0:00</td>\n",
       "      <td>Brisbane (C)</td>\n",
       "      <td>Brisbane and Redlands</td>\n",
       "      <td>Toohey</td>\n",
       "      <td>$117,500</td>\n",
       "    </tr>\n",
       "    <tr>\n",
       "      <th>2</th>\n",
       "      <td>Aboriginal and Torres Strait Islander Research Fellowships</td>\n",
       "      <td>AQ Aboriginal &amp; Torres Strait Islander Research Fellowships 2015-16 Round 1</td>\n",
       "      <td>CSIRO</td>\n",
       "      <td>Smithfield</td>\n",
       "      <td>4878.0</td>\n",
       "      <td>NaN</td>\n",
       "      <td>CSIRO</td>\n",
       "      <td>Transforming hidden data: An integrative information system for Torres Strait - Cass Hunter</td>\n",
       "      <td>Smithfield</td>\n",
       "      <td>4878.0</td>\n",
       "      <td>NaN</td>\n",
       "      <td>28/01/2016 0:00</td>\n",
       "      <td>Cairns (R)</td>\n",
       "      <td>Far North Queensland</td>\n",
       "      <td>Barron River</td>\n",
       "      <td>$158,032</td>\n",
       "    </tr>\n",
       "    <tr>\n",
       "      <th>3</th>\n",
       "      <td>Aboriginal and Torres Strait Islander Research Fellowships</td>\n",
       "      <td>AQ Aboriginal &amp; Torres Strait Islander Research Fellowships 2017-18 Round 3</td>\n",
       "      <td>Queensland University of Technology</td>\n",
       "      <td>Brisbane City</td>\n",
       "      <td>4000.0</td>\n",
       "      <td>NaN</td>\n",
       "      <td>Engineered Wood Products Association Australasia Ltd</td>\n",
       "      <td>An Innovative Framing System for Taller Timber-Framed Buildings – Craig Cowled</td>\n",
       "      <td>Brisbane City</td>\n",
       "      <td>4000.0</td>\n",
       "      <td>NaN</td>\n",
       "      <td>21/08/2018 0:00</td>\n",
       "      <td>Brisbane (C)</td>\n",
       "      <td>Brisbane and Redlands</td>\n",
       "      <td>McConnel</td>\n",
       "      <td>$240,000</td>\n",
       "    </tr>\n",
       "    <tr>\n",
       "      <th>4</th>\n",
       "      <td>Advancing Regional Innovation Program</td>\n",
       "      <td>AQ Advancing Regional Innovation Full 2016-17</td>\n",
       "      <td>Central Highlands Development Corporation Limited</td>\n",
       "      <td>Emerald</td>\n",
       "      <td>4720.0</td>\n",
       "      <td>NaN</td>\n",
       "      <td>Central Queensland University (CQUniversity Australia) \\n Rural Business Collective Pty Ltd \\n C-Res (Qld) Pty Ltd \\n BHP Billiton Limited \\n Central Highlands Regional Council</td>\n",
       "      <td>Building and Bridging the Region’s New Economy</td>\n",
       "      <td>Emerald</td>\n",
       "      <td>4720.0</td>\n",
       "      <td>Theodore, Tieri</td>\n",
       "      <td>28/08/2017 0:00</td>\n",
       "      <td>Central Highlands (R)</td>\n",
       "      <td>Central Queensland</td>\n",
       "      <td>Gregory</td>\n",
       "      <td>$500,000</td>\n",
       "    </tr>\n",
       "    <tr>\n",
       "      <th>5</th>\n",
       "      <td>Advancing Regional Innovation Program</td>\n",
       "      <td>AQ Advancing Regional Innovation Full 2016-17</td>\n",
       "      <td>Central Western Queensland Remote Area Planning And Development Board</td>\n",
       "      <td>Longreach</td>\n",
       "      <td>4730.0</td>\n",
       "      <td>NaN</td>\n",
       "      <td>Price Waterhouse Coopers \\n Queensland University Of Technology \\n Education Queensland \\n University of Southern Queensland (Institute of Resilient Regions) \\n The Outback Queensland Tourism Association Inc \\n Local Government Association of Queensland \\n Mckinlay Shire Council \\n South West Regional Economic Development Association \\n James Cook University - Townsville Campus - Master \\n Central Queensland University - Rockhampton Campus - Master \\n GWI Pty Ltd \\n Telstra Corporation Limited</td>\n",
       "      <td>Outback Queensland Collaborative Innovation Project</td>\n",
       "      <td>Longreach</td>\n",
       "      <td>4730.0</td>\n",
       "      <td>Cunnamulla, Julia Creek</td>\n",
       "      <td>13/06/2017 0:00</td>\n",
       "      <td>Longreach (R)</td>\n",
       "      <td>Outback Queensland</td>\n",
       "      <td>Gregory</td>\n",
       "      <td>$487,248</td>\n",
       "    </tr>\n",
       "    <tr>\n",
       "      <th>6</th>\n",
       "      <td>Advancing Regional Innovation Program</td>\n",
       "      <td>AQ Advancing Regional Innovation Full 2016-17</td>\n",
       "      <td>GHD Pty Ltd</td>\n",
       "      <td>Townsville</td>\n",
       "      <td>4810.0</td>\n",
       "      <td>NaN</td>\n",
       "      <td>Townsville Chamber of Commerce \\n Charters Towers Regional Council \\n Palm Island Aboriginal Shire Council \\n Townsville City Council \\n Burdekin Shire Council</td>\n",
       "      <td>I-TAP North Queensland</td>\n",
       "      <td>Townsville City</td>\n",
       "      <td>4810.0</td>\n",
       "      <td>Charters Towers, Ayr, Ingham</td>\n",
       "      <td>26/09/2017 0:00</td>\n",
       "      <td>Townsville (C)</td>\n",
       "      <td>Townsville</td>\n",
       "      <td>Townsville</td>\n",
       "      <td>$74,000</td>\n",
       "    </tr>\n",
       "    <tr>\n",
       "      <th>7</th>\n",
       "      <td>Advancing Regional Innovation Program</td>\n",
       "      <td>AQ Advancing Regional Innovation Full 2016-17</td>\n",
       "      <td>Gold Coast Innovation Hub Limited</td>\n",
       "      <td>Varsity Lakes</td>\n",
       "      <td>4227.0</td>\n",
       "      <td>NaN</td>\n",
       "      <td>42 Innovations Pty Ltd \\n Scale Innovations Pty Ltd \\n Mclaughlins Lawyers Pty Ltd \\n Opmantek Software Pty Ltd \\n TAFE Queensland \\n Gold Coast Techspace Inc \\n Sports Gold Coast Limited \\n Prime Financial \\n Gold Coast City Council \\n IT Forum Gold Coast Inc</td>\n",
       "      <td>Gold Coast Hub</td>\n",
       "      <td>Varsity Lakes</td>\n",
       "      <td>4227.0</td>\n",
       "      <td>Coomera, Tweed Heads</td>\n",
       "      <td>27/07/2017 0:00</td>\n",
       "      <td>Gold Coast (C)</td>\n",
       "      <td>Gold Coast</td>\n",
       "      <td>Mermaid Beach</td>\n",
       "      <td>$500,000</td>\n",
       "    </tr>\n",
       "    <tr>\n",
       "      <th>8</th>\n",
       "      <td>Advancing Regional Innovation Program</td>\n",
       "      <td>AQ Advancing Regional Innovation Full 2016-17</td>\n",
       "      <td>Greater Whitsunday Alliance Limited</td>\n",
       "      <td>Mackay</td>\n",
       "      <td>4740.0</td>\n",
       "      <td>NaN</td>\n",
       "      <td>Isaac Regional Council \\n Whitsunday Regional Council \\n Mackay Innovation Centre \\n Resource Industry Network \\n Mackay Regional Council \\n Split Spaces Ltd \\n Startup Mackay Inc \\n Regional Development Australia Mackay-Isaac -Whitsunday Inc. \\n Central Queensland University - Mackay Campus</td>\n",
       "      <td>Growing the Innovation Ecosystem in the Greater Whitsunday Region (LINKED TO AQARIPSTAGED00216-17)</td>\n",
       "      <td>Mackay</td>\n",
       "      <td>4740.0</td>\n",
       "      <td>Bowen, Moranbah</td>\n",
       "      <td>11/08/2017 0:00</td>\n",
       "      <td>Mackay (R)</td>\n",
       "      <td>Mackay-Whitsunday</td>\n",
       "      <td>Mackay</td>\n",
       "      <td>$480,000</td>\n",
       "    </tr>\n",
       "    <tr>\n",
       "      <th>9</th>\n",
       "      <td>Advancing Regional Innovation Program</td>\n",
       "      <td>AQ Advancing Regional Innovation Full 2016-17</td>\n",
       "      <td>Ignite Far North Queensland Limited</td>\n",
       "      <td>Manunda</td>\n",
       "      <td>4870.0</td>\n",
       "      <td>NaN</td>\n",
       "      <td>enVizion Group Inc \\n Tablelands Regional Council \\n Northern Gulf Resource Management Group Ltd \\n The Space Australasia Pty Ltd \\n James Cook University - Cairns Campus - Master</td>\n",
       "      <td>Advancing Regional Innovation in FNQ through the IgniteFNQ Collaborative Action Plan (LINKED TO AQARIPSTAGED00316-17)</td>\n",
       "      <td>Cairns City</td>\n",
       "      <td>4870.0</td>\n",
       "      <td>Wujal Wujal, Mareeba, Mossman, Bamaga, Thursday island, Cooktown, Weipa</td>\n",
       "      <td>26/06/2017 0:00</td>\n",
       "      <td>Cairns (R)</td>\n",
       "      <td>Far North Queensland</td>\n",
       "      <td>Cairns</td>\n",
       "      <td>$315,000</td>\n",
       "    </tr>\n",
       "  </tbody>\n",
       "</table>\n",
       "</div>"
      ],
      "text/plain": [
       "                                                 Program Name  \\\n",
       "0      Aboriginal and Torres Strait Islander PhD Scholarships   \n",
       "1      Aboriginal and Torres Strait Islander PhD Scholarships   \n",
       "2  Aboriginal and Torres Strait Islander Research Fellowships   \n",
       "3  Aboriginal and Torres Strait Islander Research Fellowships   \n",
       "4                       Advancing Regional Innovation Program   \n",
       "5                       Advancing Regional Innovation Program   \n",
       "6                       Advancing Regional Innovation Program   \n",
       "7                       Advancing Regional Innovation Program   \n",
       "8                       Advancing Regional Innovation Program   \n",
       "9                       Advancing Regional Innovation Program   \n",
       "\n",
       "                                                                         Round  \\\n",
       "0      AQ Aboriginal & Torres Strait Islander PhD Scholarships 2018-19 Round 4   \n",
       "1      AQ Aboriginal & Torres Strait Islander PhD Scholarships 2015-16 Round 1   \n",
       "2  AQ Aboriginal & Torres Strait Islander Research Fellowships 2015-16 Round 1   \n",
       "3  AQ Aboriginal & Torres Strait Islander Research Fellowships 2017-18 Round 3   \n",
       "4                                AQ Advancing Regional Innovation Full 2016-17   \n",
       "5                                AQ Advancing Regional Innovation Full 2016-17   \n",
       "6                                AQ Advancing Regional Innovation Full 2016-17   \n",
       "7                                AQ Advancing Regional Innovation Full 2016-17   \n",
       "8                                AQ Advancing Regional Innovation Full 2016-17   \n",
       "9                                AQ Advancing Regional Innovation Full 2016-17   \n",
       "\n",
       "                                                          Recipient Name  \\\n",
       "0                                          Central Queensland University   \n",
       "1                                                    Griffith University   \n",
       "2                                                                  CSIRO   \n",
       "3                                    Queensland University of Technology   \n",
       "4                      Central Highlands Development Corporation Limited   \n",
       "5  Central Western Queensland Remote Area Planning And Development Board   \n",
       "6                                                            GHD Pty Ltd   \n",
       "7                                      Gold Coast Innovation Hub Limited   \n",
       "8                                    Greater Whitsunday Alliance Limited   \n",
       "9                                    Ignite Far North Queensland Limited   \n",
       "\n",
       "  Physical Address of Recipient - Suburb/Location  \\\n",
       "0                                  Norman Gardens   \n",
       "1                                          Nathan   \n",
       "2                                      Smithfield   \n",
       "3                                   Brisbane City   \n",
       "4                                         Emerald   \n",
       "5                                       Longreach   \n",
       "6                                      Townsville   \n",
       "7                                   Varsity Lakes   \n",
       "8                                          Mackay   \n",
       "9                                         Manunda   \n",
       "\n",
       "   Physical Address of Recipient - Post Code  \\\n",
       "0                                     4701.0   \n",
       "1                                     4111.0   \n",
       "2                                     4878.0   \n",
       "3                                     4000.0   \n",
       "4                                     4720.0   \n",
       "5                                     4730.0   \n",
       "6                                     4810.0   \n",
       "7                                     4227.0   \n",
       "8                                     4740.0   \n",
       "9                                     4870.0   \n",
       "\n",
       "  University Collaborator (if applicable)  \\\n",
       "0                                     NaN   \n",
       "1                                     NaN   \n",
       "2                                     NaN   \n",
       "3                                     NaN   \n",
       "4                                     NaN   \n",
       "5                                     NaN   \n",
       "6                                     NaN   \n",
       "7                                     NaN   \n",
       "8                                     NaN   \n",
       "9                                     NaN   \n",
       "\n",
       "                                                                                                                                                                                                                                                                                                                                                                                                                                                                         Other Partners/ Collaborators (if applicable)  \\\n",
       "0                                                                                                                                                                                                                                                                                                                                                                                                                                                                                                         BHP Billiton   \n",
       "1                                                                                                                                                                                                                                                                                                                                                                                                                                                                                                                  NaN   \n",
       "2                                                                                                                                                                                                                                                                                                                                                                                                                                                                                                                CSIRO   \n",
       "3                                                                                                                                                                                                                                                                                                                                                                                                                                                                 Engineered Wood Products Association Australasia Ltd   \n",
       "4                                                                                                                                                                                                                                                                                                                                     Central Queensland University (CQUniversity Australia) \\n Rural Business Collective Pty Ltd \\n C-Res (Qld) Pty Ltd \\n BHP Billiton Limited \\n Central Highlands Regional Council   \n",
       "5   Price Waterhouse Coopers \\n Queensland University Of Technology \\n Education Queensland \\n University of Southern Queensland (Institute of Resilient Regions) \\n The Outback Queensland Tourism Association Inc \\n Local Government Association of Queensland \\n Mckinlay Shire Council \\n South West Regional Economic Development Association \\n James Cook University - Townsville Campus - Master \\n Central Queensland University - Rockhampton Campus - Master \\n GWI Pty Ltd \\n Telstra Corporation Limited   \n",
       "6                                                                                                                                                                                                                                                                                                                                                      Townsville Chamber of Commerce \\n Charters Towers Regional Council \\n Palm Island Aboriginal Shire Council \\n Townsville City Council \\n Burdekin Shire Council   \n",
       "7                                                                                                                                                                                                                                                 42 Innovations Pty Ltd \\n Scale Innovations Pty Ltd \\n Mclaughlins Lawyers Pty Ltd \\n Opmantek Software Pty Ltd \\n TAFE Queensland \\n Gold Coast Techspace Inc \\n Sports Gold Coast Limited \\n Prime Financial \\n Gold Coast City Council \\n IT Forum Gold Coast Inc   \n",
       "8                                                                                                                                                                                                                 Isaac Regional Council \\n Whitsunday Regional Council \\n Mackay Innovation Centre \\n Resource Industry Network \\n Mackay Regional Council \\n Split Spaces Ltd \\n Startup Mackay Inc \\n Regional Development Australia Mackay-Isaac -Whitsunday Inc. \\n Central Queensland University - Mackay Campus   \n",
       "9                                                                                                                                                                                                                                                                                                                                  enVizion Group Inc \\n Tablelands Regional Council \\n Northern Gulf Resource Management Group Ltd \\n The Space Australasia Pty Ltd \\n James Cook University - Cairns Campus - Master   \n",
       "\n",
       "                                                                                                                       Investment/Project Title  \\\n",
       "0  Decolonising the systematic barriers and enablers of Indigenous career progression in MiningCo (BHP). An Aboriginal perspective - Terry Bell   \n",
       "1                                            An indigenous journey through the 21st century educational landscapes of new metrics - Troy Meston   \n",
       "2                                                   Transforming hidden data: An integrative information system for Torres Strait - Cass Hunter   \n",
       "3                                                                An Innovative Framing System for Taller Timber-Framed Buildings – Craig Cowled   \n",
       "4                                                                                                Building and Bridging the Region’s New Economy   \n",
       "5                                                                                           Outback Queensland Collaborative Innovation Project   \n",
       "6                                                                                                                        I-TAP North Queensland   \n",
       "7                                                                                                                                Gold Coast Hub   \n",
       "8                                            Growing the Innovation Ecosystem in the Greater Whitsunday Region (LINKED TO AQARIPSTAGED00216-17)   \n",
       "9                         Advancing Regional Innovation in FNQ through the IgniteFNQ Collaborative Action Plan (LINKED TO AQARIPSTAGED00316-17)   \n",
       "\n",
       "  Primary Location of Activity/Project - Suburb/Location  \\\n",
       "0                                          Brisbane City   \n",
       "1                                                 Nathan   \n",
       "2                                             Smithfield   \n",
       "3                                          Brisbane City   \n",
       "4                                                Emerald   \n",
       "5                                              Longreach   \n",
       "6                                        Townsville City   \n",
       "7                                          Varsity Lakes   \n",
       "8                                                 Mackay   \n",
       "9                                            Cairns City   \n",
       "\n",
       "   Primary Location of Activity/Project - Post Code  \\\n",
       "0                                            4001.0   \n",
       "1                                            4111.0   \n",
       "2                                            4878.0   \n",
       "3                                            4000.0   \n",
       "4                                            4720.0   \n",
       "5                                            4730.0   \n",
       "6                                            4810.0   \n",
       "7                                            4227.0   \n",
       "8                                            4740.0   \n",
       "9                                            4870.0   \n",
       "\n",
       "                                    Multiple Locations of Activity/Project  \\\n",
       "0                                                                      NaN   \n",
       "1                                                                      NaN   \n",
       "2                                                                      NaN   \n",
       "3                                                                      NaN   \n",
       "4                                                          Theodore, Tieri   \n",
       "5                                                  Cunnamulla, Julia Creek   \n",
       "6                                             Charters Towers, Ayr, Ingham   \n",
       "7                                                     Coomera, Tweed Heads   \n",
       "8                                                          Bowen, Moranbah   \n",
       "9  Wujal Wujal, Mareeba, Mossman, Bamaga, Thursday island, Cooktown, Weipa   \n",
       "\n",
       "     Approval date Local Government Area (LGA)  \\\n",
       "0  14/06/2019 0:00             Rockhampton (R)   \n",
       "1  28/01/2016 0:00                Brisbane (C)   \n",
       "2  28/01/2016 0:00                  Cairns (R)   \n",
       "3  21/08/2018 0:00                Brisbane (C)   \n",
       "4  28/08/2017 0:00       Central Highlands (R)   \n",
       "5  13/06/2017 0:00               Longreach (R)   \n",
       "6  26/09/2017 0:00              Townsville (C)   \n",
       "7  27/07/2017 0:00              Gold Coast (C)   \n",
       "8  11/08/2017 0:00                  Mackay (R)   \n",
       "9  26/06/2017 0:00                  Cairns (R)   \n",
       "\n",
       "  RAP Region (based on Project Location) State Electorate  \\\n",
       "0                  Brisbane and Redlands           Keppel   \n",
       "1                  Brisbane and Redlands           Toohey   \n",
       "2                   Far North Queensland     Barron River   \n",
       "3                  Brisbane and Redlands         McConnel   \n",
       "4                     Central Queensland          Gregory   \n",
       "5                     Outback Queensland          Gregory   \n",
       "6                             Townsville       Townsville   \n",
       "7                             Gold Coast    Mermaid Beach   \n",
       "8                      Mackay-Whitsunday           Mackay   \n",
       "9                   Far North Queensland           Cairns   \n",
       "\n",
       "  Contractual Commitment (GST excl.)  \n",
       "0                           $107,084  \n",
       "1                           $117,500  \n",
       "2                           $158,032  \n",
       "3                           $240,000  \n",
       "4                           $500,000  \n",
       "5                           $487,248  \n",
       "6                            $74,000  \n",
       "7                           $500,000  \n",
       "8                           $480,000  \n",
       "9                           $315,000  "
      ]
     },
     "execution_count": 8,
     "metadata": {},
     "output_type": "execute_result"
    }
   ],
   "source": [
    "# Retrieve the dataset and view the top\n",
    "data_url = \"https://www.data.qld.gov.au/dataset/db190f2d-f866-4811-9a6e-4b78744b551b/resource/0f97b985-f5c7-49d2-8b0a-bc5dfbe070b9/download/advance-queensland-funding-recipients.csv\"\n",
    "data_df = pd.read_csv(data_url, encoding = 'windows-1252')\n",
    "data_df.head(10)"
   ]
  },
  {
   "attachments": {},
   "cell_type": "markdown",
   "id": "4e64c82a-0300-4c3c-8787-cfd92bebc5aa",
   "metadata": {},
   "source": [
    "Based upon looking at the top 10 rows of the dataset shown above it can be seen that \"Program Name\" and \"Round\" aren't unique. In fact based upon some experimentation I have found even \"Program Name\", \"Round\", \"Recipient Name\", and \"Investment/Project Title\", and \"Approval date\" still wouldn't be unique. \n",
    "\n",
    "I will settle for \"Program Name\" for this demonstration though as I believe using too many columns would be excessive and overconstrain the index."
   ]
  },
  {
   "cell_type": "code",
   "execution_count": 9,
   "id": "6032f791-0419-46e1-a3de-3ef47fc07082",
   "metadata": {},
   "outputs": [
    {
     "name": "stdout",
     "output_type": "stream",
     "text": [
      "This returns a uniqueness check of the index as: False. This should be used with caution going forward to avoid issues such as cartesian joins in merges or selecting more rows than expected.\n"
     ]
    }
   ],
   "source": [
    "# Set the index\n",
    "data_df.set_index(\"Program Name\", inplace = True)\n",
    "\n",
    "print(f\"This returns a uniqueness check of the index as: {data_df.index.is_unique}. This should be used with caution going forward to avoid issues such as cartesian joins in merges or selecting more rows than expected.\")"
   ]
  },
  {
   "cell_type": "markdown",
   "id": "32ff170c",
   "metadata": {},
   "source": [
    "### [Q2] Group the data\n",
    "- Choose at least one category and group the data\n",
    "- Obtain an appropriate aggregate for the groups (e.g. Sum, Mean, etc)"
   ]
  },
  {
   "cell_type": "markdown",
   "id": "bed05ff2-c375-4fca-8516-6ff7de0d3e9e",
   "metadata": {},
   "source": [
    "My intent is to group by the LGA and compare total contractural commitments to check how even the distribuition is.\n",
    "\n",
    "Before continuing on with the analysis it is also wise to ensure the dataframe columns are in the appropriate datatypes and then rectify this. The following is what they have been read in from the csv and I will want to see the Contractual Commitment as a numeric."
   ]
  },
  {
   "cell_type": "code",
   "execution_count": 10,
   "id": "4940a485-7874-47a9-8b30-706728cc0cc2",
   "metadata": {},
   "outputs": [
    {
     "data": {
      "text/plain": [
       "Round                                                      object\n",
       "Recipient Name                                             object\n",
       "Physical Address of Recipient - Suburb/Location            object\n",
       "Physical Address of Recipient - Post Code                 float64\n",
       "University Collaborator (if applicable)                    object\n",
       "Other Partners/ Collaborators (if applicable)              object\n",
       "Investment/Project Title                                   object\n",
       "Primary Location of Activity/Project - Suburb/Location     object\n",
       "Primary Location of Activity/Project - Post Code          float64\n",
       "Multiple Locations of Activity/Project                     object\n",
       "Approval date                                              object\n",
       "Local Government Area (LGA)                                object\n",
       "RAP Region (based on Project Location)                     object\n",
       "State Electorate                                           object\n",
       "Contractual Commitment (GST excl.)                         object\n",
       "dtype: object"
      ]
     },
     "execution_count": 10,
     "metadata": {},
     "output_type": "execute_result"
    }
   ],
   "source": [
    "data_df.dtypes"
   ]
  },
  {
   "cell_type": "code",
   "execution_count": 11,
   "id": "2ae1384e-cb2a-4948-ba71-b8c0bbdb4cdd",
   "metadata": {},
   "outputs": [
    {
     "name": "stderr",
     "output_type": "stream",
     "text": [
      "<>:2: SyntaxWarning: invalid escape sequence '\\D'\n",
      "<>:2: SyntaxWarning: invalid escape sequence '\\D'\n",
      "C:\\Users\\Morgan\\AppData\\Local\\Temp\\ipykernel_23656\\3337410005.py:2: SyntaxWarning: invalid escape sequence '\\D'\n",
      "  data_df[\"Contractual Commitment ($ GST excl.)\"] = pd.to_numeric(data_df[\"Contractual Commitment (GST excl.)\"].str.replace('(\\D+)', \"\", regex = True)) # This regex removes all non-numeric characters\n"
     ]
    },
    {
     "data": {
      "text/plain": [
       "Local Government Area (LGA)\n",
       "Aurukun (S)                  25000\n",
       "Blackall-Tambo (R)           84219\n",
       "Brisbane (C)             158947003\n",
       "Bulloo (S)                   99964\n",
       "Bundaberg (R)              1078859\n",
       "Burdekin (S)                196600\n",
       "Cairns (R)                 3606310\n",
       "Cassowary Coast (R)         242400\n",
       "Central Highlands (R)      1181399\n",
       "Charters Towers (R)          21600\n",
       "Cherbourg (S)               195391\n",
       "Cook (S)                      9680\n",
       "Douglas (S)                  12830\n",
       "Fraser Coast (R)            128533\n",
       "Gladstone (R)               587290\n",
       "Gold Coast (C)            12618683\n",
       "Goondiwindi (R)             922180\n",
       "Gympie (R)                  723330\n",
       "Hinchinbrook (S)             17636\n",
       "Ipswich (C)                2974094\n",
       "Livingstone (S)              75000\n",
       "Lockyer Valley (R)          777730\n",
       "Logan (C)                  2019274\n",
       "Longreach (R)               597348\n",
       "Mackay (R)                 1388737\n",
       "Maranoa (R)                  80000\n",
       "Mareeba (S)                  98080\n",
       "Moreton Bay (R)            2346825\n",
       "Mount Isa (C)              1072697\n",
       "NonQueensland              2843721\n",
       "Noosa (S)                   939287\n",
       "North Burnett (R)            78190\n",
       "Palm Island (S)               4000\n",
       "Paroo (S)                    14580\n",
       "Redland (C)                 832518\n",
       "Rockhampton (R)            5386478\n",
       "Scenic Rim (R)              100000\n",
       "Southern Downs (R)          205600\n",
       "Sunshine Coast (R)         8278679\n",
       "Tablelands (R)              483839\n",
       "Toowoomba (R)              7624836\n",
       "Torres (S)                  152840\n",
       "Townsville (C)             5572423\n",
       "Weipa (T)                    15000\n",
       "Whitsunday (R)              411650\n",
       "Yarrabah (S)                300000\n",
       "nonQld                     9523854\n",
       "Name: Contractual Commitment ($ GST excl.), dtype: int64"
      ]
     },
     "execution_count": 11,
     "metadata": {},
     "output_type": "execute_result"
    }
   ],
   "source": [
    "#Clean the data we are interested in and convert to numeric\n",
    "data_df[\"Contractual Commitment ($ GST excl.)\"] = pd.to_numeric(data_df[\"Contractual Commitment (GST excl.)\"].str.replace('(\\D+)', \"\", regex = True)) # This regex removes all non-numeric characters\n",
    "# Create the grouped series of aggregated contractural agreements\n",
    "grouped_data = data_df.groupby(\"Local Government Area (LGA)\")[\"Contractual Commitment ($ GST excl.)\"].sum()\n",
    "grouped_data"
   ]
  },
  {
   "attachments": {},
   "cell_type": "markdown",
   "id": "f247e745",
   "metadata": {},
   "source": [
    "### [Q3] Save the data\n",
    "- Transform your grouped data into a dataframe\n",
    "- Save the dataframe as a CSV file\n"
   ]
  },
  {
   "cell_type": "code",
   "execution_count": 12,
   "id": "0fd535fe",
   "metadata": {},
   "outputs": [],
   "source": [
    "# Your answer here\n",
    "grouped_df = grouped_data.reset_index()\n",
    "\n",
    "# Change the column names\n",
    "grouped_df.rename(columns={\"Contractual Commitment ($ GST excl.)\": \"Total Contractual Commitment ($ GST excl.)\"}, inplace=True)\n",
    "\n",
    "# Save it to a csv in the data folder\n",
    "grouped_df.to_csv(\"../data/assignment1_total_contractual_commitments.csv\", index=False)"
   ]
  },
  {
   "attachments": {},
   "cell_type": "markdown",
   "id": "24e6cee2",
   "metadata": {},
   "source": [
    "### [Q4] Visualise the data\n",
    "\t\n",
    "- Visualise the grouped data with an appropriate chart\n",
    "- Ensure X and Y axes are labelled appropriately\n",
    "- Add an appropriate title for the chart"
   ]
  },
  {
   "cell_type": "markdown",
   "id": "495daac7-a782-46c2-9631-356968b88191",
   "metadata": {},
   "source": [
    "Using a bar chart allows for easy visualisation of aggregates such as the Total Contractual Commitment as the grouping by Local Government Area is a discrete variable. Additionally by sorting the values we can easily compare the relative size and rankings of the Total Contractual Commitment."
   ]
  },
  {
   "cell_type": "code",
   "execution_count": 13,
   "id": "92a5a7fa",
   "metadata": {},
   "outputs": [
    {
     "data": {
      "application/vnd.plotly.v1+json": {
       "config": {
        "plotlyServerURL": "https://plot.ly"
       },
       "data": [
        {
         "alignmentgroup": "True",
         "hovertemplate": "Local Government Area=%{x}<br>Contractual Commitment ($ GST excl.)=%{y}<extra></extra>",
         "legendgroup": "",
         "marker": {
          "color": "#636efa",
          "pattern": {
           "shape": ""
          }
         },
         "name": "",
         "offsetgroup": "",
         "orientation": "v",
         "showlegend": false,
         "textposition": "auto",
         "type": "bar",
         "x": [
          "Brisbane (C)",
          "Gold Coast (C)",
          "nonQld",
          "Sunshine Coast (R)",
          "Toowoomba (R)",
          "Townsville (C)",
          "Rockhampton (R)",
          "Cairns (R)",
          "Ipswich (C)",
          "NonQueensland",
          "Moreton Bay (R)",
          "Logan (C)",
          "Mackay (R)",
          "Central Highlands (R)",
          "Bundaberg (R)",
          "Mount Isa (C)",
          "Noosa (S)",
          "Goondiwindi (R)",
          "Redland (C)",
          "Lockyer Valley (R)",
          "Gympie (R)",
          "Longreach (R)",
          "Gladstone (R)",
          "Tablelands (R)",
          "Whitsunday (R)",
          "Yarrabah (S)",
          "Cassowary Coast (R)",
          "Southern Downs (R)",
          "Burdekin (S)",
          "Cherbourg (S)",
          "Torres (S)",
          "Fraser Coast (R)",
          "Scenic Rim (R)",
          "Bulloo (S)",
          "Mareeba (S)",
          "Blackall-Tambo (R)",
          "Maranoa (R)",
          "North Burnett (R)",
          "Livingstone (S)",
          "Aurukun (S)",
          "Charters Towers (R)",
          "Hinchinbrook (S)",
          "Weipa (T)",
          "Paroo (S)",
          "Douglas (S)",
          "Cook (S)",
          "Palm Island (S)"
         ],
         "xaxis": "x",
         "y": [
          158947003,
          12618683,
          9523854,
          8278679,
          7624836,
          5572423,
          5386478,
          3606310,
          2974094,
          2843721,
          2346825,
          2019274,
          1388737,
          1181399,
          1078859,
          1072697,
          939287,
          922180,
          832518,
          777730,
          723330,
          597348,
          587290,
          483839,
          411650,
          300000,
          242400,
          205600,
          196600,
          195391,
          152840,
          128533,
          100000,
          99964,
          98080,
          84219,
          80000,
          78190,
          75000,
          25000,
          21600,
          17636,
          15000,
          14580,
          12830,
          9680,
          4000
         ],
         "yaxis": "y"
        }
       ],
       "layout": {
        "barmode": "relative",
        "height": 750,
        "legend": {
         "title": {
          "font": {
           "size": 15
          }
         },
         "tracegroupgap": 0
        },
        "template": {
         "data": {
          "bar": [
           {
            "error_x": {
             "color": "#2a3f5f"
            },
            "error_y": {
             "color": "#2a3f5f"
            },
            "marker": {
             "line": {
              "color": "#E5ECF6",
              "width": 0.5
             },
             "pattern": {
              "fillmode": "overlay",
              "size": 10,
              "solidity": 0.2
             }
            },
            "type": "bar"
           }
          ],
          "barpolar": [
           {
            "marker": {
             "line": {
              "color": "#E5ECF6",
              "width": 0.5
             },
             "pattern": {
              "fillmode": "overlay",
              "size": 10,
              "solidity": 0.2
             }
            },
            "type": "barpolar"
           }
          ],
          "carpet": [
           {
            "aaxis": {
             "endlinecolor": "#2a3f5f",
             "gridcolor": "white",
             "linecolor": "white",
             "minorgridcolor": "white",
             "startlinecolor": "#2a3f5f"
            },
            "baxis": {
             "endlinecolor": "#2a3f5f",
             "gridcolor": "white",
             "linecolor": "white",
             "minorgridcolor": "white",
             "startlinecolor": "#2a3f5f"
            },
            "type": "carpet"
           }
          ],
          "choropleth": [
           {
            "colorbar": {
             "outlinewidth": 0,
             "ticks": ""
            },
            "type": "choropleth"
           }
          ],
          "contour": [
           {
            "colorbar": {
             "outlinewidth": 0,
             "ticks": ""
            },
            "colorscale": [
             [
              0,
              "#0d0887"
             ],
             [
              0.1111111111111111,
              "#46039f"
             ],
             [
              0.2222222222222222,
              "#7201a8"
             ],
             [
              0.3333333333333333,
              "#9c179e"
             ],
             [
              0.4444444444444444,
              "#bd3786"
             ],
             [
              0.5555555555555556,
              "#d8576b"
             ],
             [
              0.6666666666666666,
              "#ed7953"
             ],
             [
              0.7777777777777778,
              "#fb9f3a"
             ],
             [
              0.8888888888888888,
              "#fdca26"
             ],
             [
              1,
              "#f0f921"
             ]
            ],
            "type": "contour"
           }
          ],
          "contourcarpet": [
           {
            "colorbar": {
             "outlinewidth": 0,
             "ticks": ""
            },
            "type": "contourcarpet"
           }
          ],
          "heatmap": [
           {
            "colorbar": {
             "outlinewidth": 0,
             "ticks": ""
            },
            "colorscale": [
             [
              0,
              "#0d0887"
             ],
             [
              0.1111111111111111,
              "#46039f"
             ],
             [
              0.2222222222222222,
              "#7201a8"
             ],
             [
              0.3333333333333333,
              "#9c179e"
             ],
             [
              0.4444444444444444,
              "#bd3786"
             ],
             [
              0.5555555555555556,
              "#d8576b"
             ],
             [
              0.6666666666666666,
              "#ed7953"
             ],
             [
              0.7777777777777778,
              "#fb9f3a"
             ],
             [
              0.8888888888888888,
              "#fdca26"
             ],
             [
              1,
              "#f0f921"
             ]
            ],
            "type": "heatmap"
           }
          ],
          "heatmapgl": [
           {
            "colorbar": {
             "outlinewidth": 0,
             "ticks": ""
            },
            "colorscale": [
             [
              0,
              "#0d0887"
             ],
             [
              0.1111111111111111,
              "#46039f"
             ],
             [
              0.2222222222222222,
              "#7201a8"
             ],
             [
              0.3333333333333333,
              "#9c179e"
             ],
             [
              0.4444444444444444,
              "#bd3786"
             ],
             [
              0.5555555555555556,
              "#d8576b"
             ],
             [
              0.6666666666666666,
              "#ed7953"
             ],
             [
              0.7777777777777778,
              "#fb9f3a"
             ],
             [
              0.8888888888888888,
              "#fdca26"
             ],
             [
              1,
              "#f0f921"
             ]
            ],
            "type": "heatmapgl"
           }
          ],
          "histogram": [
           {
            "marker": {
             "pattern": {
              "fillmode": "overlay",
              "size": 10,
              "solidity": 0.2
             }
            },
            "type": "histogram"
           }
          ],
          "histogram2d": [
           {
            "colorbar": {
             "outlinewidth": 0,
             "ticks": ""
            },
            "colorscale": [
             [
              0,
              "#0d0887"
             ],
             [
              0.1111111111111111,
              "#46039f"
             ],
             [
              0.2222222222222222,
              "#7201a8"
             ],
             [
              0.3333333333333333,
              "#9c179e"
             ],
             [
              0.4444444444444444,
              "#bd3786"
             ],
             [
              0.5555555555555556,
              "#d8576b"
             ],
             [
              0.6666666666666666,
              "#ed7953"
             ],
             [
              0.7777777777777778,
              "#fb9f3a"
             ],
             [
              0.8888888888888888,
              "#fdca26"
             ],
             [
              1,
              "#f0f921"
             ]
            ],
            "type": "histogram2d"
           }
          ],
          "histogram2dcontour": [
           {
            "colorbar": {
             "outlinewidth": 0,
             "ticks": ""
            },
            "colorscale": [
             [
              0,
              "#0d0887"
             ],
             [
              0.1111111111111111,
              "#46039f"
             ],
             [
              0.2222222222222222,
              "#7201a8"
             ],
             [
              0.3333333333333333,
              "#9c179e"
             ],
             [
              0.4444444444444444,
              "#bd3786"
             ],
             [
              0.5555555555555556,
              "#d8576b"
             ],
             [
              0.6666666666666666,
              "#ed7953"
             ],
             [
              0.7777777777777778,
              "#fb9f3a"
             ],
             [
              0.8888888888888888,
              "#fdca26"
             ],
             [
              1,
              "#f0f921"
             ]
            ],
            "type": "histogram2dcontour"
           }
          ],
          "mesh3d": [
           {
            "colorbar": {
             "outlinewidth": 0,
             "ticks": ""
            },
            "type": "mesh3d"
           }
          ],
          "parcoords": [
           {
            "line": {
             "colorbar": {
              "outlinewidth": 0,
              "ticks": ""
             }
            },
            "type": "parcoords"
           }
          ],
          "pie": [
           {
            "automargin": true,
            "type": "pie"
           }
          ],
          "scatter": [
           {
            "fillpattern": {
             "fillmode": "overlay",
             "size": 10,
             "solidity": 0.2
            },
            "type": "scatter"
           }
          ],
          "scatter3d": [
           {
            "line": {
             "colorbar": {
              "outlinewidth": 0,
              "ticks": ""
             }
            },
            "marker": {
             "colorbar": {
              "outlinewidth": 0,
              "ticks": ""
             }
            },
            "type": "scatter3d"
           }
          ],
          "scattercarpet": [
           {
            "marker": {
             "colorbar": {
              "outlinewidth": 0,
              "ticks": ""
             }
            },
            "type": "scattercarpet"
           }
          ],
          "scattergeo": [
           {
            "marker": {
             "colorbar": {
              "outlinewidth": 0,
              "ticks": ""
             }
            },
            "type": "scattergeo"
           }
          ],
          "scattergl": [
           {
            "marker": {
             "colorbar": {
              "outlinewidth": 0,
              "ticks": ""
             }
            },
            "type": "scattergl"
           }
          ],
          "scattermapbox": [
           {
            "marker": {
             "colorbar": {
              "outlinewidth": 0,
              "ticks": ""
             }
            },
            "type": "scattermapbox"
           }
          ],
          "scatterpolar": [
           {
            "marker": {
             "colorbar": {
              "outlinewidth": 0,
              "ticks": ""
             }
            },
            "type": "scatterpolar"
           }
          ],
          "scatterpolargl": [
           {
            "marker": {
             "colorbar": {
              "outlinewidth": 0,
              "ticks": ""
             }
            },
            "type": "scatterpolargl"
           }
          ],
          "scatterternary": [
           {
            "marker": {
             "colorbar": {
              "outlinewidth": 0,
              "ticks": ""
             }
            },
            "type": "scatterternary"
           }
          ],
          "surface": [
           {
            "colorbar": {
             "outlinewidth": 0,
             "ticks": ""
            },
            "colorscale": [
             [
              0,
              "#0d0887"
             ],
             [
              0.1111111111111111,
              "#46039f"
             ],
             [
              0.2222222222222222,
              "#7201a8"
             ],
             [
              0.3333333333333333,
              "#9c179e"
             ],
             [
              0.4444444444444444,
              "#bd3786"
             ],
             [
              0.5555555555555556,
              "#d8576b"
             ],
             [
              0.6666666666666666,
              "#ed7953"
             ],
             [
              0.7777777777777778,
              "#fb9f3a"
             ],
             [
              0.8888888888888888,
              "#fdca26"
             ],
             [
              1,
              "#f0f921"
             ]
            ],
            "type": "surface"
           }
          ],
          "table": [
           {
            "cells": {
             "fill": {
              "color": "#EBF0F8"
             },
             "line": {
              "color": "white"
             }
            },
            "header": {
             "fill": {
              "color": "#C8D4E3"
             },
             "line": {
              "color": "white"
             }
            },
            "type": "table"
           }
          ]
         },
         "layout": {
          "annotationdefaults": {
           "arrowcolor": "#2a3f5f",
           "arrowhead": 0,
           "arrowwidth": 1
          },
          "autotypenumbers": "strict",
          "coloraxis": {
           "colorbar": {
            "outlinewidth": 0,
            "ticks": ""
           }
          },
          "colorscale": {
           "diverging": [
            [
             0,
             "#8e0152"
            ],
            [
             0.1,
             "#c51b7d"
            ],
            [
             0.2,
             "#de77ae"
            ],
            [
             0.3,
             "#f1b6da"
            ],
            [
             0.4,
             "#fde0ef"
            ],
            [
             0.5,
             "#f7f7f7"
            ],
            [
             0.6,
             "#e6f5d0"
            ],
            [
             0.7,
             "#b8e186"
            ],
            [
             0.8,
             "#7fbc41"
            ],
            [
             0.9,
             "#4d9221"
            ],
            [
             1,
             "#276419"
            ]
           ],
           "sequential": [
            [
             0,
             "#0d0887"
            ],
            [
             0.1111111111111111,
             "#46039f"
            ],
            [
             0.2222222222222222,
             "#7201a8"
            ],
            [
             0.3333333333333333,
             "#9c179e"
            ],
            [
             0.4444444444444444,
             "#bd3786"
            ],
            [
             0.5555555555555556,
             "#d8576b"
            ],
            [
             0.6666666666666666,
             "#ed7953"
            ],
            [
             0.7777777777777778,
             "#fb9f3a"
            ],
            [
             0.8888888888888888,
             "#fdca26"
            ],
            [
             1,
             "#f0f921"
            ]
           ],
           "sequentialminus": [
            [
             0,
             "#0d0887"
            ],
            [
             0.1111111111111111,
             "#46039f"
            ],
            [
             0.2222222222222222,
             "#7201a8"
            ],
            [
             0.3333333333333333,
             "#9c179e"
            ],
            [
             0.4444444444444444,
             "#bd3786"
            ],
            [
             0.5555555555555556,
             "#d8576b"
            ],
            [
             0.6666666666666666,
             "#ed7953"
            ],
            [
             0.7777777777777778,
             "#fb9f3a"
            ],
            [
             0.8888888888888888,
             "#fdca26"
            ],
            [
             1,
             "#f0f921"
            ]
           ]
          },
          "colorway": [
           "#636efa",
           "#EF553B",
           "#00cc96",
           "#ab63fa",
           "#FFA15A",
           "#19d3f3",
           "#FF6692",
           "#B6E880",
           "#FF97FF",
           "#FECB52"
          ],
          "font": {
           "color": "#2a3f5f"
          },
          "geo": {
           "bgcolor": "white",
           "lakecolor": "white",
           "landcolor": "#E5ECF6",
           "showlakes": true,
           "showland": true,
           "subunitcolor": "white"
          },
          "hoverlabel": {
           "align": "left"
          },
          "hovermode": "closest",
          "mapbox": {
           "style": "light"
          },
          "paper_bgcolor": "white",
          "plot_bgcolor": "#E5ECF6",
          "polar": {
           "angularaxis": {
            "gridcolor": "white",
            "linecolor": "white",
            "ticks": ""
           },
           "bgcolor": "#E5ECF6",
           "radialaxis": {
            "gridcolor": "white",
            "linecolor": "white",
            "ticks": ""
           }
          },
          "scene": {
           "xaxis": {
            "backgroundcolor": "#E5ECF6",
            "gridcolor": "white",
            "gridwidth": 2,
            "linecolor": "white",
            "showbackground": true,
            "ticks": "",
            "zerolinecolor": "white"
           },
           "yaxis": {
            "backgroundcolor": "#E5ECF6",
            "gridcolor": "white",
            "gridwidth": 2,
            "linecolor": "white",
            "showbackground": true,
            "ticks": "",
            "zerolinecolor": "white"
           },
           "zaxis": {
            "backgroundcolor": "#E5ECF6",
            "gridcolor": "white",
            "gridwidth": 2,
            "linecolor": "white",
            "showbackground": true,
            "ticks": "",
            "zerolinecolor": "white"
           }
          },
          "shapedefaults": {
           "line": {
            "color": "#2a3f5f"
           }
          },
          "ternary": {
           "aaxis": {
            "gridcolor": "white",
            "linecolor": "white",
            "ticks": ""
           },
           "baxis": {
            "gridcolor": "white",
            "linecolor": "white",
            "ticks": ""
           },
           "bgcolor": "#E5ECF6",
           "caxis": {
            "gridcolor": "white",
            "linecolor": "white",
            "ticks": ""
           }
          },
          "title": {
           "x": 0.05
          },
          "xaxis": {
           "automargin": true,
           "gridcolor": "white",
           "linecolor": "white",
           "ticks": "",
           "title": {
            "standoff": 15
           },
           "zerolinecolor": "white",
           "zerolinewidth": 2
          },
          "yaxis": {
           "automargin": true,
           "gridcolor": "white",
           "linecolor": "white",
           "ticks": "",
           "title": {
            "standoff": 15
           },
           "zerolinecolor": "white",
           "zerolinewidth": 2
          }
         }
        },
        "title": {
         "font": {
          "size": 25
         },
         "text": "Total Contractual Commitment ($ GST excl.) by Local Government Area",
         "x": 0.5
        },
        "xaxis": {
         "anchor": "y",
         "domain": [
          0,
          1
         ],
         "title": {
          "text": "Local Government Area"
         }
        },
        "yaxis": {
         "anchor": "x",
         "domain": [
          0,
          1
         ],
         "title": {
          "text": "Contractual Commitment ($ GST excl.)"
         }
        }
       }
      }
     },
     "metadata": {},
     "output_type": "display_data"
    }
   ],
   "source": [
    "# Your answer here\n",
    "commitments_fig = px.bar(grouped_df.sort_values(\"Total Contractual Commitment ($ GST excl.)\", ascending = False),\n",
    "       x = \"Local Government Area (LGA)\",\n",
    "       y =\"Total Contractual Commitment ($ GST excl.)\",\n",
    "       title = \"Total Contractual Commitment ($ GST excl.) by Local Government Area\",\n",
    "       labels = {\"Local Government Area (LGA)\": \"Local Government Area\", \n",
    "                 \"Total Contractual Commitment ($ GST excl.)\": \"Contractual Commitment ($ GST excl.)\"})\n",
    "\n",
    "commitments_fig.update_layout(\n",
    "    title_font_size=25,\n",
    "    title_x=0.5,\n",
    "    legend_title_font_size=15,\n",
    "    height=750\n",
    ")"
   ]
  },
  {
   "attachments": {},
   "cell_type": "markdown",
   "id": "6b76c25f",
   "metadata": {},
   "source": [
    "### [Q5] Create new dataframes\n",
    "- Select 2 groups from a particular category and filter the data into 2 separate dataframes\n",
    "- For each dataframe group by at least one logical category with meaningful aggregates"
   ]
  },
  {
   "cell_type": "markdown",
   "id": "ff51ceec-b1eb-491b-905f-e0f841f6a440",
   "metadata": {},
   "source": [
    "Selecting two different Programs \"Ignite Ideas Fund\" and \"Knowledge Transfer Partnerships\" as the overall groups to compare as dataframes and creating secondary groups within these by the year the funding was approved."
   ]
  },
  {
   "cell_type": "code",
   "execution_count": 14,
   "id": "28782429",
   "metadata": {},
   "outputs": [
    {
     "name": "stdout",
     "output_type": "stream",
     "text": [
      "Ignite Ideas Fund\n"
     ]
    },
    {
     "data": {
      "text/html": [
       "<div>\n",
       "<style scoped>\n",
       "    .dataframe tbody tr th:only-of-type {\n",
       "        vertical-align: middle;\n",
       "    }\n",
       "\n",
       "    .dataframe tbody tr th {\n",
       "        vertical-align: top;\n",
       "    }\n",
       "\n",
       "    .dataframe thead th {\n",
       "        text-align: right;\n",
       "    }\n",
       "</style>\n",
       "<table border=\"1\" class=\"dataframe\">\n",
       "  <thead>\n",
       "    <tr style=\"text-align: right;\">\n",
       "      <th></th>\n",
       "      <th>Approval Year</th>\n",
       "      <th>Mean Contractual Commitment ($ GST excl.)</th>\n",
       "    </tr>\n",
       "  </thead>\n",
       "  <tbody>\n",
       "    <tr>\n",
       "      <th>0</th>\n",
       "      <td>2016</td>\n",
       "      <td>140244.236842</td>\n",
       "    </tr>\n",
       "    <tr>\n",
       "      <th>1</th>\n",
       "      <td>2017</td>\n",
       "      <td>122976.658385</td>\n",
       "    </tr>\n",
       "    <tr>\n",
       "      <th>2</th>\n",
       "      <td>2018</td>\n",
       "      <td>112004.342857</td>\n",
       "    </tr>\n",
       "    <tr>\n",
       "      <th>3</th>\n",
       "      <td>2019</td>\n",
       "      <td>120906.403846</td>\n",
       "    </tr>\n",
       "    <tr>\n",
       "      <th>4</th>\n",
       "      <td>2020</td>\n",
       "      <td>117525.651163</td>\n",
       "    </tr>\n",
       "    <tr>\n",
       "      <th>5</th>\n",
       "      <td>2021</td>\n",
       "      <td>105390.714286</td>\n",
       "    </tr>\n",
       "    <tr>\n",
       "      <th>6</th>\n",
       "      <td>2022</td>\n",
       "      <td>114149.227273</td>\n",
       "    </tr>\n",
       "    <tr>\n",
       "      <th>7</th>\n",
       "      <td>2023</td>\n",
       "      <td>113437.750000</td>\n",
       "    </tr>\n",
       "    <tr>\n",
       "      <th>8</th>\n",
       "      <td>2024</td>\n",
       "      <td>113422.095238</td>\n",
       "    </tr>\n",
       "  </tbody>\n",
       "</table>\n",
       "</div>"
      ],
      "text/plain": [
       "   Approval Year  Mean Contractual Commitment ($ GST excl.)\n",
       "0           2016                              140244.236842\n",
       "1           2017                              122976.658385\n",
       "2           2018                              112004.342857\n",
       "3           2019                              120906.403846\n",
       "4           2020                              117525.651163\n",
       "5           2021                              105390.714286\n",
       "6           2022                              114149.227273\n",
       "7           2023                              113437.750000\n",
       "8           2024                              113422.095238"
      ]
     },
     "execution_count": 14,
     "metadata": {},
     "output_type": "execute_result"
    }
   ],
   "source": [
    "# Your answer here\n",
    "ignite_df = data_df.loc[\"Ignite Ideas Fund\"].reset_index()\n",
    "ignite_df[\"Approval Year\"] = pd.to_datetime(ignite_df[\"Approval date\"], format=\"%d/%m/%Y %H:%M\").dt.year\n",
    "mean_ignite_df = ignite_df.groupby(\"Approval Year\")[\"Contractual Commitment ($ GST excl.)\"].mean().reset_index()\n",
    "mean_ignite_df.rename(columns={mean_ignite_df.columns[1]: \"Mean Contractual Commitment ($ GST excl.)\"}, inplace=True)\n",
    "print(\"Ignite Ideas Fund\") \n",
    "mean_ignite_df"
   ]
  },
  {
   "cell_type": "code",
   "execution_count": 15,
   "id": "a683df51-81c2-400c-8405-8092531b770f",
   "metadata": {},
   "outputs": [
    {
     "data": {
      "text/html": [
       "<div>\n",
       "<style scoped>\n",
       "    .dataframe tbody tr th:only-of-type {\n",
       "        vertical-align: middle;\n",
       "    }\n",
       "\n",
       "    .dataframe tbody tr th {\n",
       "        vertical-align: top;\n",
       "    }\n",
       "\n",
       "    .dataframe thead th {\n",
       "        text-align: right;\n",
       "    }\n",
       "</style>\n",
       "<table border=\"1\" class=\"dataframe\">\n",
       "  <thead>\n",
       "    <tr style=\"text-align: right;\">\n",
       "      <th></th>\n",
       "      <th>Approval Year</th>\n",
       "      <th>Mean Contractual Commitment ($ GST excl.)</th>\n",
       "    </tr>\n",
       "  </thead>\n",
       "  <tbody>\n",
       "    <tr>\n",
       "      <th>0</th>\n",
       "      <td>2015</td>\n",
       "      <td>24660.000000</td>\n",
       "    </tr>\n",
       "    <tr>\n",
       "      <th>1</th>\n",
       "      <td>2016</td>\n",
       "      <td>25017.516129</td>\n",
       "    </tr>\n",
       "    <tr>\n",
       "      <th>2</th>\n",
       "      <td>2017</td>\n",
       "      <td>26550.325000</td>\n",
       "    </tr>\n",
       "    <tr>\n",
       "      <th>3</th>\n",
       "      <td>2018</td>\n",
       "      <td>25757.400000</td>\n",
       "    </tr>\n",
       "  </tbody>\n",
       "</table>\n",
       "</div>"
      ],
      "text/plain": [
       "   Approval Year  Mean Contractual Commitment ($ GST excl.)\n",
       "0           2015                               24660.000000\n",
       "1           2016                               25017.516129\n",
       "2           2017                               26550.325000\n",
       "3           2018                               25757.400000"
      ]
     },
     "execution_count": 15,
     "metadata": {},
     "output_type": "execute_result"
    }
   ],
   "source": [
    "knowl_df = data_df.loc[\"Knowledge Transfer Partnerships\"].reset_index()\n",
    "knowl_df[\"Approval Year\"] = pd.to_datetime(knowl_df[\"Approval date\"], format=\"%d/%m/%Y %H:%M\").dt.year\n",
    "mean_knowl_df = knowl_df.groupby(\"Approval Year\")[\"Contractual Commitment ($ GST excl.)\"].mean().reset_index()\n",
    "mean_knowl_df.rename(columns={mean_knowl_df.columns[1]: \"Mean Contractual Commitment ($ GST excl.)\"}, inplace=True)\n",
    "mean_knowl_df"
   ]
  },
  {
   "attachments": {},
   "cell_type": "markdown",
   "id": "a5e982cc",
   "metadata": {},
   "source": [
    "### [Q6] Obtain descriptive statistics\n",
    "\t\n",
    "- Find the descriptive statistics for the funds committed for the different groups.\n",
    "- Assign the `count`, `mean`, `min`, and `max` to variables. Round the mean to a reasonable precision.\n",
    "- Use the variables to create a string which describes in words the basic descriptive statistics of the committed funds.\n",
    "- Print the constructed strings for each group"
   ]
  },
  {
   "cell_type": "code",
   "execution_count": 16,
   "id": "a5e9a2a2",
   "metadata": {},
   "outputs": [
    {
     "name": "stdout",
     "output_type": "stream",
     "text": [
      "Out of the 440 grants allocated as part of the Ignite Ideas Fund the average grant was $119,948.11, which ranged between $23,397.00 and $250,000.00.\n",
      "\n",
      "Out of the 154 grants allocated by Knowledge Transfer Partnerships the average grant was $25,366.19, which ranged between $900.00 and $50,000.00.\n",
      "\n"
     ]
    }
   ],
   "source": [
    "# Your answer here\n",
    "ignite_stats_df = ignite_df.describe()\n",
    "(ignite_count, ignite_mean, ignite_min, ignite_max) = ignite_stats_df[\"Contractual Commitment ($ GST excl.)\"][[\"count\", \"mean\", \"min\", \"max\"]]\n",
    "ignite_mean = round(ignite_mean, 2)\n",
    "\n",
    "knowl_stats_df = knowl_df.describe()\n",
    "(knowl_count, knowl_mean, knowl_min, knowl_max) = knowl_stats_df[\"Contractual Commitment ($ GST excl.)\"][[\"count\", \"mean\", \"min\", \"max\"]]\n",
    "knowl_mean = round(knowl_mean, 2)\n",
    "\n",
    "ignite_stat_str = f\"Out of the {ignite_count:.0f} grants allocated as part of the Ignite Ideas Fund the average grant was ${ignite_mean:,.2f}, which ranged between ${ignite_min:,.2f} and ${ignite_max:,.2f}.\\n\"\n",
    "print(ignite_stat_str)\n",
    "\n",
    "knowl_stat_str = f\"Out of the {knowl_count:.0f} grants allocated by Knowledge Transfer Partnerships the average grant was ${knowl_mean:,.2f}, which ranged between ${knowl_min:,.2f} and ${knowl_max:,.2f}.\\n\"\n",
    "print(knowl_stat_str)"
   ]
  },
  {
   "cell_type": "markdown",
   "id": "1054a0af-e551-4b04-9e5d-8d1e257e7235",
   "metadata": {},
   "source": [
    "Generally speaking it is clear that the Ignite Ideas fund has provided more individual grants and an average higher level of funding even when they were running over the same time period. However, this comparison does not take into account other factors such as they likely had different target purposes and audiences. "
   ]
  },
  {
   "attachments": {},
   "cell_type": "markdown",
   "id": "1f643185",
   "metadata": {},
   "source": [
    "### [Q7] Visualise the data\n",
    "\n",
    "- Using the plotly library, create histograms of the committed funds for the different groups\n",
    "- Set the number of bins to an appropriate value\n",
    "- Display the actual counts in the bars\n",
    "- Enhance the visualisation of the variance by including a box plot\n",
    "- Use suitable colours and add appropriate textual information"
   ]
  },
  {
   "cell_type": "code",
   "execution_count": 17,
   "id": "ff7c22a4-d8e9-4247-b870-425f856790f0",
   "metadata": {},
   "outputs": [
    {
     "data": {
      "application/vnd.plotly.v1+json": {
       "config": {
        "plotlyServerURL": "https://plot.ly"
       },
       "data": [
        {
         "alignmentgroup": "True",
         "bingroup": "x",
         "hovertemplate": "Program Name=Ignite Ideas Fund<br>Contractual Commitment ($ GST excl.)=%{x}<br>count=%{y}<extra></extra>",
         "legendgroup": "Ignite Ideas Fund",
         "marker": {
          "color": "#636efa",
          "pattern": {
           "shape": ""
          }
         },
         "name": "Ignite Ideas Fund",
         "nbinsx": 40,
         "offsetgroup": "Ignite Ideas Fund",
         "orientation": "v",
         "showlegend": true,
         "texttemplate": "%{value}",
         "type": "histogram",
         "x": [
          187500,
          50000,
          100000,
          100000,
          93500,
          100000,
          100000,
          100000,
          244400,
          100700,
          97000,
          250000,
          250000,
          100000,
          100000,
          128175,
          178000,
          100000,
          98900,
          100000,
          100000,
          49834,
          91000,
          250000,
          250000,
          250000,
          250000,
          100000,
          100000,
          100000,
          250000,
          99144,
          79200,
          100000,
          250000,
          234128,
          100000,
          97800,
          100000,
          95000,
          99800,
          99390,
          100000,
          245500,
          74340,
          100000,
          100000,
          250000,
          94961,
          100000,
          100000,
          240000,
          79600,
          85000,
          100000,
          99500,
          100000,
          50000,
          96000,
          249150,
          56400,
          208000,
          100000,
          100000,
          250000,
          99245,
          100000,
          49140,
          99600,
          88975,
          250000,
          62500,
          187500,
          250000,
          71600,
          94000,
          100000,
          100000,
          187500,
          97593,
          222900,
          84518,
          250000,
          250000,
          99700,
          247228,
          245343,
          100000,
          100000,
          100000,
          88500,
          100000,
          99960,
          100000,
          97585,
          77568,
          80000,
          100000,
          100000,
          158872,
          97900,
          99710,
          220000,
          250000,
          250000,
          100000,
          100000,
          100000,
          100000,
          80000,
          100000,
          250000,
          100000,
          112500,
          250000,
          29745,
          97141,
          250000,
          100000,
          95597,
          242946,
          94350,
          100000,
          100000,
          92160,
          100000,
          100000,
          50000,
          97644,
          79520,
          250000,
          100000,
          95000,
          100000,
          99550,
          100000,
          100000,
          99500,
          100000,
          88190,
          100000,
          100000,
          250000,
          100000,
          98080,
          99871,
          68948,
          100000,
          249725,
          100000,
          99918,
          100000,
          100000,
          94000,
          100000,
          250000,
          99901,
          250000,
          100000,
          99297,
          100000,
          91123,
          100000,
          100000,
          100000,
          250000,
          100000,
          100000,
          75000,
          246500,
          96480,
          100000,
          100000,
          100000,
          97636,
          98100,
          100000,
          97664,
          100000,
          100000,
          100000,
          200386,
          98000,
          88969,
          97500,
          100000,
          100000,
          100000,
          100000,
          99280,
          100000,
          99123,
          100000,
          96000,
          88070,
          241750,
          98500,
          100000,
          100000,
          95500,
          78870,
          249360,
          100000,
          48550,
          100000,
          100000,
          100000,
          80000,
          100000,
          100000,
          100000,
          100000,
          100000,
          94000,
          95140,
          80000,
          90878,
          80000,
          100000,
          100000,
          250000,
          96644,
          100000,
          100000,
          87952,
          99964,
          100000,
          100000,
          60000,
          96630,
          100000,
          100000,
          250000,
          100000,
          100000,
          204614,
          79070,
          50000,
          100000,
          100000,
          100000,
          100000,
          99663,
          100000,
          79313,
          62500,
          250000,
          250000,
          250000,
          100000,
          100000,
          250000,
          197000,
          100000,
          100000,
          96700,
          50000,
          98633,
          100000,
          100000,
          100000,
          100000,
          100000,
          99485,
          100000,
          85408,
          100000,
          99930,
          100000,
          100000,
          100000,
          100000,
          100000,
          100000,
          150000,
          199456,
          99928,
          100000,
          100000,
          200000,
          100000,
          90000,
          100000,
          100000,
          100000,
          100000,
          98600,
          100000,
          100000,
          100000,
          100000,
          199739,
          100000,
          200000,
          100000,
          185449,
          200000,
          100000,
          100000,
          100000,
          100000,
          99500,
          90000,
          50000,
          100000,
          100000,
          100000,
          200000,
          100000,
          95000,
          99462,
          100000,
          160000,
          100000,
          180000,
          199999,
          100000,
          200000,
          200000,
          100000,
          90000,
          80000,
          100000,
          100000,
          150000,
          200000,
          90000,
          100000,
          100000,
          104000,
          50000,
          200000,
          100000,
          100000,
          99603,
          100000,
          100000,
          100000,
          180000,
          200000,
          200000,
          100000,
          100000,
          200000,
          100000,
          100000,
          200000,
          100000,
          100000,
          100000,
          100000,
          100000,
          100000,
          100000,
          100000,
          100000,
          100000,
          150000,
          100000,
          100000,
          100000,
          100000,
          50000,
          200000,
          100000,
          100000,
          100000,
          100000,
          97000,
          99996,
          100000,
          100000,
          92400,
          100000,
          200000,
          100000,
          50000,
          99560,
          99999,
          100000,
          100000,
          78000,
          150000,
          146250,
          100000,
          199357,
          23397,
          99999,
          100000,
          140000,
          100000,
          100000,
          100000,
          100000,
          198500,
          100000,
          100000,
          50000,
          45000,
          100000,
          100000,
          100000,
          197950,
          200000,
          100000,
          100000,
          57623,
          100000,
          92270,
          177000,
          100000,
          200000,
          98500,
          100000,
          100000,
          100000,
          100000,
          200000,
          92940,
          200000,
          100000,
          194900,
          200000,
          200000,
          100000,
          100000,
          98600,
          95000,
          100000,
          144500,
          100000,
          100000,
          98864,
          100000,
          75000,
          75000,
          75000,
          75000,
          75000,
          75000
         ],
         "xaxis": "x",
         "yaxis": "y"
        },
        {
         "alignmentgroup": "True",
         "hovertemplate": "Program Name=Ignite Ideas Fund<br>Contractual Commitment ($ GST excl.)=%{x}<extra></extra>",
         "legendgroup": "Ignite Ideas Fund",
         "marker": {
          "color": "#636efa"
         },
         "name": "Ignite Ideas Fund",
         "notched": true,
         "offsetgroup": "Ignite Ideas Fund",
         "showlegend": false,
         "type": "box",
         "x": [
          187500,
          50000,
          100000,
          100000,
          93500,
          100000,
          100000,
          100000,
          244400,
          100700,
          97000,
          250000,
          250000,
          100000,
          100000,
          128175,
          178000,
          100000,
          98900,
          100000,
          100000,
          49834,
          91000,
          250000,
          250000,
          250000,
          250000,
          100000,
          100000,
          100000,
          250000,
          99144,
          79200,
          100000,
          250000,
          234128,
          100000,
          97800,
          100000,
          95000,
          99800,
          99390,
          100000,
          245500,
          74340,
          100000,
          100000,
          250000,
          94961,
          100000,
          100000,
          240000,
          79600,
          85000,
          100000,
          99500,
          100000,
          50000,
          96000,
          249150,
          56400,
          208000,
          100000,
          100000,
          250000,
          99245,
          100000,
          49140,
          99600,
          88975,
          250000,
          62500,
          187500,
          250000,
          71600,
          94000,
          100000,
          100000,
          187500,
          97593,
          222900,
          84518,
          250000,
          250000,
          99700,
          247228,
          245343,
          100000,
          100000,
          100000,
          88500,
          100000,
          99960,
          100000,
          97585,
          77568,
          80000,
          100000,
          100000,
          158872,
          97900,
          99710,
          220000,
          250000,
          250000,
          100000,
          100000,
          100000,
          100000,
          80000,
          100000,
          250000,
          100000,
          112500,
          250000,
          29745,
          97141,
          250000,
          100000,
          95597,
          242946,
          94350,
          100000,
          100000,
          92160,
          100000,
          100000,
          50000,
          97644,
          79520,
          250000,
          100000,
          95000,
          100000,
          99550,
          100000,
          100000,
          99500,
          100000,
          88190,
          100000,
          100000,
          250000,
          100000,
          98080,
          99871,
          68948,
          100000,
          249725,
          100000,
          99918,
          100000,
          100000,
          94000,
          100000,
          250000,
          99901,
          250000,
          100000,
          99297,
          100000,
          91123,
          100000,
          100000,
          100000,
          250000,
          100000,
          100000,
          75000,
          246500,
          96480,
          100000,
          100000,
          100000,
          97636,
          98100,
          100000,
          97664,
          100000,
          100000,
          100000,
          200386,
          98000,
          88969,
          97500,
          100000,
          100000,
          100000,
          100000,
          99280,
          100000,
          99123,
          100000,
          96000,
          88070,
          241750,
          98500,
          100000,
          100000,
          95500,
          78870,
          249360,
          100000,
          48550,
          100000,
          100000,
          100000,
          80000,
          100000,
          100000,
          100000,
          100000,
          100000,
          94000,
          95140,
          80000,
          90878,
          80000,
          100000,
          100000,
          250000,
          96644,
          100000,
          100000,
          87952,
          99964,
          100000,
          100000,
          60000,
          96630,
          100000,
          100000,
          250000,
          100000,
          100000,
          204614,
          79070,
          50000,
          100000,
          100000,
          100000,
          100000,
          99663,
          100000,
          79313,
          62500,
          250000,
          250000,
          250000,
          100000,
          100000,
          250000,
          197000,
          100000,
          100000,
          96700,
          50000,
          98633,
          100000,
          100000,
          100000,
          100000,
          100000,
          99485,
          100000,
          85408,
          100000,
          99930,
          100000,
          100000,
          100000,
          100000,
          100000,
          100000,
          150000,
          199456,
          99928,
          100000,
          100000,
          200000,
          100000,
          90000,
          100000,
          100000,
          100000,
          100000,
          98600,
          100000,
          100000,
          100000,
          100000,
          199739,
          100000,
          200000,
          100000,
          185449,
          200000,
          100000,
          100000,
          100000,
          100000,
          99500,
          90000,
          50000,
          100000,
          100000,
          100000,
          200000,
          100000,
          95000,
          99462,
          100000,
          160000,
          100000,
          180000,
          199999,
          100000,
          200000,
          200000,
          100000,
          90000,
          80000,
          100000,
          100000,
          150000,
          200000,
          90000,
          100000,
          100000,
          104000,
          50000,
          200000,
          100000,
          100000,
          99603,
          100000,
          100000,
          100000,
          180000,
          200000,
          200000,
          100000,
          100000,
          200000,
          100000,
          100000,
          200000,
          100000,
          100000,
          100000,
          100000,
          100000,
          100000,
          100000,
          100000,
          100000,
          100000,
          150000,
          100000,
          100000,
          100000,
          100000,
          50000,
          200000,
          100000,
          100000,
          100000,
          100000,
          97000,
          99996,
          100000,
          100000,
          92400,
          100000,
          200000,
          100000,
          50000,
          99560,
          99999,
          100000,
          100000,
          78000,
          150000,
          146250,
          100000,
          199357,
          23397,
          99999,
          100000,
          140000,
          100000,
          100000,
          100000,
          100000,
          198500,
          100000,
          100000,
          50000,
          45000,
          100000,
          100000,
          100000,
          197950,
          200000,
          100000,
          100000,
          57623,
          100000,
          92270,
          177000,
          100000,
          200000,
          98500,
          100000,
          100000,
          100000,
          100000,
          200000,
          92940,
          200000,
          100000,
          194900,
          200000,
          200000,
          100000,
          100000,
          98600,
          95000,
          100000,
          144500,
          100000,
          100000,
          98864,
          100000,
          75000,
          75000,
          75000,
          75000,
          75000,
          75000
         ],
         "xaxis": "x2",
         "yaxis": "y2"
        },
        {
         "alignmentgroup": "True",
         "bingroup": "x",
         "hovertemplate": "Program Name=Knowledge Transfer Partnerships<br>Contractual Commitment ($ GST excl.)=%{x}<br>count=%{y}<extra></extra>",
         "legendgroup": "Knowledge Transfer Partnerships",
         "marker": {
          "color": "#EF553B",
          "pattern": {
           "shape": ""
          }
         },
         "name": "Knowledge Transfer Partnerships",
         "nbinsx": 40,
         "offsetgroup": "Knowledge Transfer Partnerships",
         "orientation": "v",
         "showlegend": true,
         "texttemplate": "%{value}",
         "type": "histogram",
         "x": [
          37000,
          47960,
          50000,
          39749,
          48527,
          50000,
          8092,
          41430,
          44267,
          1415,
          24960,
          22550,
          49332,
          37333,
          50000,
          40619,
          50000,
          33074,
          31066,
          48000,
          41153,
          36000,
          44000,
          20600,
          41515,
          40000,
          38000,
          50000,
          50000,
          45625,
          48889,
          35200,
          26320,
          44146,
          33412,
          29654,
          37167,
          36667,
          47793,
          40667,
          50000,
          46711,
          47539,
          35509,
          50000,
          25333,
          37963,
          24000,
          39316,
          49811,
          50000,
          44000,
          33333,
          26666,
          50000,
          40077,
          47000,
          48563,
          18816,
          42186,
          50000,
          30000,
          50000,
          46270,
          38098,
          42668,
          50000,
          50000,
          35430,
          42529,
          49351,
          50000,
          48000,
          48188,
          43909,
          50000,
          29831,
          40626,
          47533,
          10800,
          10800,
          10800,
          9693,
          10800,
          10800,
          10800,
          9000,
          10800,
          10800,
          10800,
          10800,
          10800,
          10800,
          10800,
          10800,
          10800,
          10800,
          10800,
          900,
          1800,
          10800,
          10800,
          8100,
          3600,
          10800,
          8100,
          10800,
          10800,
          10800,
          10800,
          7200,
          10800,
          10800,
          10800,
          10800,
          10800,
          10800,
          10800,
          6750,
          10800,
          10800,
          10800,
          7200,
          5400,
          9000,
          10800,
          8100,
          10800,
          10800,
          10800,
          10800,
          10800,
          10800,
          6300,
          10800,
          9112,
          5400,
          10800,
          900,
          9000,
          2925,
          10800,
          10800,
          10800,
          10800,
          10800,
          10800,
          10800,
          10800,
          10800,
          10800,
          8100,
          10800,
          5175
         ],
         "xaxis": "x",
         "yaxis": "y"
        },
        {
         "alignmentgroup": "True",
         "hovertemplate": "Program Name=Knowledge Transfer Partnerships<br>Contractual Commitment ($ GST excl.)=%{x}<extra></extra>",
         "legendgroup": "Knowledge Transfer Partnerships",
         "marker": {
          "color": "#EF553B"
         },
         "name": "Knowledge Transfer Partnerships",
         "notched": true,
         "offsetgroup": "Knowledge Transfer Partnerships",
         "showlegend": false,
         "type": "box",
         "x": [
          37000,
          47960,
          50000,
          39749,
          48527,
          50000,
          8092,
          41430,
          44267,
          1415,
          24960,
          22550,
          49332,
          37333,
          50000,
          40619,
          50000,
          33074,
          31066,
          48000,
          41153,
          36000,
          44000,
          20600,
          41515,
          40000,
          38000,
          50000,
          50000,
          45625,
          48889,
          35200,
          26320,
          44146,
          33412,
          29654,
          37167,
          36667,
          47793,
          40667,
          50000,
          46711,
          47539,
          35509,
          50000,
          25333,
          37963,
          24000,
          39316,
          49811,
          50000,
          44000,
          33333,
          26666,
          50000,
          40077,
          47000,
          48563,
          18816,
          42186,
          50000,
          30000,
          50000,
          46270,
          38098,
          42668,
          50000,
          50000,
          35430,
          42529,
          49351,
          50000,
          48000,
          48188,
          43909,
          50000,
          29831,
          40626,
          47533,
          10800,
          10800,
          10800,
          9693,
          10800,
          10800,
          10800,
          9000,
          10800,
          10800,
          10800,
          10800,
          10800,
          10800,
          10800,
          10800,
          10800,
          10800,
          10800,
          900,
          1800,
          10800,
          10800,
          8100,
          3600,
          10800,
          8100,
          10800,
          10800,
          10800,
          10800,
          7200,
          10800,
          10800,
          10800,
          10800,
          10800,
          10800,
          10800,
          6750,
          10800,
          10800,
          10800,
          7200,
          5400,
          9000,
          10800,
          8100,
          10800,
          10800,
          10800,
          10800,
          10800,
          10800,
          6300,
          10800,
          9112,
          5400,
          10800,
          900,
          9000,
          2925,
          10800,
          10800,
          10800,
          10800,
          10800,
          10800,
          10800,
          10800,
          10800,
          10800,
          8100,
          10800,
          5175
         ],
         "xaxis": "x2",
         "yaxis": "y2"
        }
       ],
       "layout": {
        "barmode": "relative",
        "height": 500,
        "legend": {
         "title": {
          "font": {
           "size": 15
          },
          "text": "Program Name"
         },
         "tracegroupgap": 0
        },
        "template": {
         "data": {
          "bar": [
           {
            "error_x": {
             "color": "#2a3f5f"
            },
            "error_y": {
             "color": "#2a3f5f"
            },
            "marker": {
             "line": {
              "color": "#E5ECF6",
              "width": 0.5
             },
             "pattern": {
              "fillmode": "overlay",
              "size": 10,
              "solidity": 0.2
             }
            },
            "type": "bar"
           }
          ],
          "barpolar": [
           {
            "marker": {
             "line": {
              "color": "#E5ECF6",
              "width": 0.5
             },
             "pattern": {
              "fillmode": "overlay",
              "size": 10,
              "solidity": 0.2
             }
            },
            "type": "barpolar"
           }
          ],
          "carpet": [
           {
            "aaxis": {
             "endlinecolor": "#2a3f5f",
             "gridcolor": "white",
             "linecolor": "white",
             "minorgridcolor": "white",
             "startlinecolor": "#2a3f5f"
            },
            "baxis": {
             "endlinecolor": "#2a3f5f",
             "gridcolor": "white",
             "linecolor": "white",
             "minorgridcolor": "white",
             "startlinecolor": "#2a3f5f"
            },
            "type": "carpet"
           }
          ],
          "choropleth": [
           {
            "colorbar": {
             "outlinewidth": 0,
             "ticks": ""
            },
            "type": "choropleth"
           }
          ],
          "contour": [
           {
            "colorbar": {
             "outlinewidth": 0,
             "ticks": ""
            },
            "colorscale": [
             [
              0,
              "#0d0887"
             ],
             [
              0.1111111111111111,
              "#46039f"
             ],
             [
              0.2222222222222222,
              "#7201a8"
             ],
             [
              0.3333333333333333,
              "#9c179e"
             ],
             [
              0.4444444444444444,
              "#bd3786"
             ],
             [
              0.5555555555555556,
              "#d8576b"
             ],
             [
              0.6666666666666666,
              "#ed7953"
             ],
             [
              0.7777777777777778,
              "#fb9f3a"
             ],
             [
              0.8888888888888888,
              "#fdca26"
             ],
             [
              1,
              "#f0f921"
             ]
            ],
            "type": "contour"
           }
          ],
          "contourcarpet": [
           {
            "colorbar": {
             "outlinewidth": 0,
             "ticks": ""
            },
            "type": "contourcarpet"
           }
          ],
          "heatmap": [
           {
            "colorbar": {
             "outlinewidth": 0,
             "ticks": ""
            },
            "colorscale": [
             [
              0,
              "#0d0887"
             ],
             [
              0.1111111111111111,
              "#46039f"
             ],
             [
              0.2222222222222222,
              "#7201a8"
             ],
             [
              0.3333333333333333,
              "#9c179e"
             ],
             [
              0.4444444444444444,
              "#bd3786"
             ],
             [
              0.5555555555555556,
              "#d8576b"
             ],
             [
              0.6666666666666666,
              "#ed7953"
             ],
             [
              0.7777777777777778,
              "#fb9f3a"
             ],
             [
              0.8888888888888888,
              "#fdca26"
             ],
             [
              1,
              "#f0f921"
             ]
            ],
            "type": "heatmap"
           }
          ],
          "heatmapgl": [
           {
            "colorbar": {
             "outlinewidth": 0,
             "ticks": ""
            },
            "colorscale": [
             [
              0,
              "#0d0887"
             ],
             [
              0.1111111111111111,
              "#46039f"
             ],
             [
              0.2222222222222222,
              "#7201a8"
             ],
             [
              0.3333333333333333,
              "#9c179e"
             ],
             [
              0.4444444444444444,
              "#bd3786"
             ],
             [
              0.5555555555555556,
              "#d8576b"
             ],
             [
              0.6666666666666666,
              "#ed7953"
             ],
             [
              0.7777777777777778,
              "#fb9f3a"
             ],
             [
              0.8888888888888888,
              "#fdca26"
             ],
             [
              1,
              "#f0f921"
             ]
            ],
            "type": "heatmapgl"
           }
          ],
          "histogram": [
           {
            "marker": {
             "pattern": {
              "fillmode": "overlay",
              "size": 10,
              "solidity": 0.2
             }
            },
            "type": "histogram"
           }
          ],
          "histogram2d": [
           {
            "colorbar": {
             "outlinewidth": 0,
             "ticks": ""
            },
            "colorscale": [
             [
              0,
              "#0d0887"
             ],
             [
              0.1111111111111111,
              "#46039f"
             ],
             [
              0.2222222222222222,
              "#7201a8"
             ],
             [
              0.3333333333333333,
              "#9c179e"
             ],
             [
              0.4444444444444444,
              "#bd3786"
             ],
             [
              0.5555555555555556,
              "#d8576b"
             ],
             [
              0.6666666666666666,
              "#ed7953"
             ],
             [
              0.7777777777777778,
              "#fb9f3a"
             ],
             [
              0.8888888888888888,
              "#fdca26"
             ],
             [
              1,
              "#f0f921"
             ]
            ],
            "type": "histogram2d"
           }
          ],
          "histogram2dcontour": [
           {
            "colorbar": {
             "outlinewidth": 0,
             "ticks": ""
            },
            "colorscale": [
             [
              0,
              "#0d0887"
             ],
             [
              0.1111111111111111,
              "#46039f"
             ],
             [
              0.2222222222222222,
              "#7201a8"
             ],
             [
              0.3333333333333333,
              "#9c179e"
             ],
             [
              0.4444444444444444,
              "#bd3786"
             ],
             [
              0.5555555555555556,
              "#d8576b"
             ],
             [
              0.6666666666666666,
              "#ed7953"
             ],
             [
              0.7777777777777778,
              "#fb9f3a"
             ],
             [
              0.8888888888888888,
              "#fdca26"
             ],
             [
              1,
              "#f0f921"
             ]
            ],
            "type": "histogram2dcontour"
           }
          ],
          "mesh3d": [
           {
            "colorbar": {
             "outlinewidth": 0,
             "ticks": ""
            },
            "type": "mesh3d"
           }
          ],
          "parcoords": [
           {
            "line": {
             "colorbar": {
              "outlinewidth": 0,
              "ticks": ""
             }
            },
            "type": "parcoords"
           }
          ],
          "pie": [
           {
            "automargin": true,
            "type": "pie"
           }
          ],
          "scatter": [
           {
            "fillpattern": {
             "fillmode": "overlay",
             "size": 10,
             "solidity": 0.2
            },
            "type": "scatter"
           }
          ],
          "scatter3d": [
           {
            "line": {
             "colorbar": {
              "outlinewidth": 0,
              "ticks": ""
             }
            },
            "marker": {
             "colorbar": {
              "outlinewidth": 0,
              "ticks": ""
             }
            },
            "type": "scatter3d"
           }
          ],
          "scattercarpet": [
           {
            "marker": {
             "colorbar": {
              "outlinewidth": 0,
              "ticks": ""
             }
            },
            "type": "scattercarpet"
           }
          ],
          "scattergeo": [
           {
            "marker": {
             "colorbar": {
              "outlinewidth": 0,
              "ticks": ""
             }
            },
            "type": "scattergeo"
           }
          ],
          "scattergl": [
           {
            "marker": {
             "colorbar": {
              "outlinewidth": 0,
              "ticks": ""
             }
            },
            "type": "scattergl"
           }
          ],
          "scattermapbox": [
           {
            "marker": {
             "colorbar": {
              "outlinewidth": 0,
              "ticks": ""
             }
            },
            "type": "scattermapbox"
           }
          ],
          "scatterpolar": [
           {
            "marker": {
             "colorbar": {
              "outlinewidth": 0,
              "ticks": ""
             }
            },
            "type": "scatterpolar"
           }
          ],
          "scatterpolargl": [
           {
            "marker": {
             "colorbar": {
              "outlinewidth": 0,
              "ticks": ""
             }
            },
            "type": "scatterpolargl"
           }
          ],
          "scatterternary": [
           {
            "marker": {
             "colorbar": {
              "outlinewidth": 0,
              "ticks": ""
             }
            },
            "type": "scatterternary"
           }
          ],
          "surface": [
           {
            "colorbar": {
             "outlinewidth": 0,
             "ticks": ""
            },
            "colorscale": [
             [
              0,
              "#0d0887"
             ],
             [
              0.1111111111111111,
              "#46039f"
             ],
             [
              0.2222222222222222,
              "#7201a8"
             ],
             [
              0.3333333333333333,
              "#9c179e"
             ],
             [
              0.4444444444444444,
              "#bd3786"
             ],
             [
              0.5555555555555556,
              "#d8576b"
             ],
             [
              0.6666666666666666,
              "#ed7953"
             ],
             [
              0.7777777777777778,
              "#fb9f3a"
             ],
             [
              0.8888888888888888,
              "#fdca26"
             ],
             [
              1,
              "#f0f921"
             ]
            ],
            "type": "surface"
           }
          ],
          "table": [
           {
            "cells": {
             "fill": {
              "color": "#EBF0F8"
             },
             "line": {
              "color": "white"
             }
            },
            "header": {
             "fill": {
              "color": "#C8D4E3"
             },
             "line": {
              "color": "white"
             }
            },
            "type": "table"
           }
          ]
         },
         "layout": {
          "annotationdefaults": {
           "arrowcolor": "#2a3f5f",
           "arrowhead": 0,
           "arrowwidth": 1
          },
          "autotypenumbers": "strict",
          "coloraxis": {
           "colorbar": {
            "outlinewidth": 0,
            "ticks": ""
           }
          },
          "colorscale": {
           "diverging": [
            [
             0,
             "#8e0152"
            ],
            [
             0.1,
             "#c51b7d"
            ],
            [
             0.2,
             "#de77ae"
            ],
            [
             0.3,
             "#f1b6da"
            ],
            [
             0.4,
             "#fde0ef"
            ],
            [
             0.5,
             "#f7f7f7"
            ],
            [
             0.6,
             "#e6f5d0"
            ],
            [
             0.7,
             "#b8e186"
            ],
            [
             0.8,
             "#7fbc41"
            ],
            [
             0.9,
             "#4d9221"
            ],
            [
             1,
             "#276419"
            ]
           ],
           "sequential": [
            [
             0,
             "#0d0887"
            ],
            [
             0.1111111111111111,
             "#46039f"
            ],
            [
             0.2222222222222222,
             "#7201a8"
            ],
            [
             0.3333333333333333,
             "#9c179e"
            ],
            [
             0.4444444444444444,
             "#bd3786"
            ],
            [
             0.5555555555555556,
             "#d8576b"
            ],
            [
             0.6666666666666666,
             "#ed7953"
            ],
            [
             0.7777777777777778,
             "#fb9f3a"
            ],
            [
             0.8888888888888888,
             "#fdca26"
            ],
            [
             1,
             "#f0f921"
            ]
           ],
           "sequentialminus": [
            [
             0,
             "#0d0887"
            ],
            [
             0.1111111111111111,
             "#46039f"
            ],
            [
             0.2222222222222222,
             "#7201a8"
            ],
            [
             0.3333333333333333,
             "#9c179e"
            ],
            [
             0.4444444444444444,
             "#bd3786"
            ],
            [
             0.5555555555555556,
             "#d8576b"
            ],
            [
             0.6666666666666666,
             "#ed7953"
            ],
            [
             0.7777777777777778,
             "#fb9f3a"
            ],
            [
             0.8888888888888888,
             "#fdca26"
            ],
            [
             1,
             "#f0f921"
            ]
           ]
          },
          "colorway": [
           "#636efa",
           "#EF553B",
           "#00cc96",
           "#ab63fa",
           "#FFA15A",
           "#19d3f3",
           "#FF6692",
           "#B6E880",
           "#FF97FF",
           "#FECB52"
          ],
          "font": {
           "color": "#2a3f5f"
          },
          "geo": {
           "bgcolor": "white",
           "lakecolor": "white",
           "landcolor": "#E5ECF6",
           "showlakes": true,
           "showland": true,
           "subunitcolor": "white"
          },
          "hoverlabel": {
           "align": "left"
          },
          "hovermode": "closest",
          "mapbox": {
           "style": "light"
          },
          "paper_bgcolor": "white",
          "plot_bgcolor": "#E5ECF6",
          "polar": {
           "angularaxis": {
            "gridcolor": "white",
            "linecolor": "white",
            "ticks": ""
           },
           "bgcolor": "#E5ECF6",
           "radialaxis": {
            "gridcolor": "white",
            "linecolor": "white",
            "ticks": ""
           }
          },
          "scene": {
           "xaxis": {
            "backgroundcolor": "#E5ECF6",
            "gridcolor": "white",
            "gridwidth": 2,
            "linecolor": "white",
            "showbackground": true,
            "ticks": "",
            "zerolinecolor": "white"
           },
           "yaxis": {
            "backgroundcolor": "#E5ECF6",
            "gridcolor": "white",
            "gridwidth": 2,
            "linecolor": "white",
            "showbackground": true,
            "ticks": "",
            "zerolinecolor": "white"
           },
           "zaxis": {
            "backgroundcolor": "#E5ECF6",
            "gridcolor": "white",
            "gridwidth": 2,
            "linecolor": "white",
            "showbackground": true,
            "ticks": "",
            "zerolinecolor": "white"
           }
          },
          "shapedefaults": {
           "line": {
            "color": "#2a3f5f"
           }
          },
          "ternary": {
           "aaxis": {
            "gridcolor": "white",
            "linecolor": "white",
            "ticks": ""
           },
           "baxis": {
            "gridcolor": "white",
            "linecolor": "white",
            "ticks": ""
           },
           "bgcolor": "#E5ECF6",
           "caxis": {
            "gridcolor": "white",
            "linecolor": "white",
            "ticks": ""
           }
          },
          "title": {
           "x": 0.05
          },
          "xaxis": {
           "automargin": true,
           "gridcolor": "white",
           "linecolor": "white",
           "ticks": "",
           "title": {
            "standoff": 15
           },
           "zerolinecolor": "white",
           "zerolinewidth": 2
          },
          "yaxis": {
           "automargin": true,
           "gridcolor": "white",
           "linecolor": "white",
           "ticks": "",
           "title": {
            "standoff": 15
           },
           "zerolinecolor": "white",
           "zerolinewidth": 2
          }
         }
        },
        "title": {
         "font": {
          "size": 25
         },
         "text": "Histogram of Contractual Commitment for Grants in Selected Advance Queensland Programs",
         "x": 0.5
        },
        "xaxis": {
         "anchor": "y",
         "domain": [
          0,
          1
         ],
         "dtick": 20000,
         "tick0": 0,
         "title": {
          "text": "Contractual Commitment ($ GST excl.)"
         }
        },
        "xaxis2": {
         "anchor": "y2",
         "domain": [
          0,
          1
         ],
         "dtick": 20000,
         "matches": "x",
         "showgrid": true,
         "showticklabels": false,
         "tick0": 0
        },
        "yaxis": {
         "anchor": "x",
         "domain": [
          0,
          0.7326
         ],
         "dtick": 25,
         "title": {
          "text": "count"
         }
        },
        "yaxis2": {
         "anchor": "x2",
         "domain": [
          0.7426,
          1
         ],
         "dtick": 25,
         "matches": "y2",
         "showgrid": false,
         "showline": false,
         "showticklabels": false,
         "ticks": ""
        }
       }
      }
     },
     "metadata": {},
     "output_type": "display_data"
    }
   ],
   "source": [
    "# Your answer here\n",
    "# Looks like concat serves the same purpose as rbind in R\n",
    "plot_df = pd.concat([ignite_df, knowl_df])\n",
    "\n",
    "#Set up the histogram\n",
    "plot7_fig = px.histogram(plot_df, x =\"Contractual Commitment ($ GST excl.)\", \n",
    "                         nbins = 40, \n",
    "                         color = \"Program Name\",\n",
    "                         marginal=\"box\",\n",
    "                         text_auto=True,\n",
    "                         title = \"Histogram of Contractual Commitment for Grants in Selected Advance Queensland Programs\")\n",
    "#Update the labels formatting\n",
    "plot7_fig.update_layout(\n",
    "    title_font_size=25,\n",
    "    title_x=0.5,\n",
    "    legend_title_font_size=15,\n",
    "    height=500\n",
    ")\n",
    "#Update the axes\n",
    "plot7_fig.update_xaxes(tick0=0, dtick=20000)\n",
    "plot7_fig.update_yaxes(dtick=25)\n",
    "plot7_fig.show()"
   ]
  },
  {
   "cell_type": "markdown",
   "id": "b3f7836b-50bb-4503-b9b8-f775e31b5b8d",
   "metadata": {},
   "source": [
    "Setting the number of bins to 40 is appropriate as this buckets the Contractual Commitments into $10k ranges and provides sufficicent resolution to both groups despite them having different distribuitons."
   ]
  },
  {
   "cell_type": "markdown",
   "id": "5b3317ce-a997-4d43-9aa4-f121cbe03e26",
   "metadata": {},
   "source": [
    "### Part A References\n",
    "\n",
    "AbcTool.info. (n.d). _Abc File Encoding Detector_.\n",
    "\n",
    "    https://abctool.gitlab.io/encoding-detector/\n",
    "\n",
    "Queensland Government Open Data Portal. (2024, July 1st) _Advance Queensland Funding Recipients_.\n",
    "\n",
    "    Retrieved August 12, 2024, from https://www.data.qld.gov.au/dataset/advance-queensland-funding-recipients"
   ]
  },
  {
   "attachments": {},
   "cell_type": "markdown",
   "id": "71115c60",
   "metadata": {},
   "source": [
    "---\n",
    "## Part B - creating a narrative to answer significant questions\n",
    "\n",
    "**SCENARIO:**  The allocation of public money (obtained from the public via taxes) is a politically sensitive activity with governments regularly coming under scrutiny for how this money is spent. A respected media organisation is looking into the Queensland Government's Advance Queensland program. The resulting story could be a \"good news\" story reporting on the success of the program, however if inappropriate spending or irregularities are found, it could become a story that is critical of the scheme, and potentially the Government.\n",
    "\n",
    "As a data analyst, your task is to analyse the publicly available data on the distribution of the funds over time. You are looking for patterns that may support the \"good news\" story, or which may be a cause for concern. It is up to you how deeply you explore the data, but at a minimum you should look at (a) the balance between South-East Queensland and the remainder of the state (regional Queensland); and (b) how distributions align with the objectives of the scheme which may include supporting specified groups of people. \n",
    "\n",
    "**ETHICAL APPROACH:** You are expected to be fair and ethical in your analysis, and therefore the insights that you draw should take into account contextual factors. You should avoid simplistic assumptions like assuming all groups and activities should receive equal funding. For example, disproportionate funding may be appropriate due to social circumstances or the costs involved in a particular activity. Further, benefits to Queensland may come in different forms. For example, cultural benefits cannot be directly compared to economic benefits.\n",
    "\n",
    "**ESSENTIAL REQUIREMENTS:** Your task as a data analyst is to:\n",
    "\n",
    "- Ensure that you use the techniques and libraries/packages that have been used in class\n",
    "- Identify high quality questions that when answered may be helpful in addressing the scenario above\n",
    "- Obtain the data in JSON form from the API.\n",
    "- Clean and filter the data as appropriate\n",
    "- Analyse the data in a way that answers your questions and ultimately addresses the concern in the scenario\n",
    "- Visualise your results in a meaningful way that is helpful in making visible key findings\n",
    "- Provide a detailed summary of the insights found and how they address the original questions and scenario\n",
    "\n",
    "**AUTHENTICITY AND INTEGRITY**: You will be marked on (a) *HOW* you undertake the task todgether; with (b) detail of *WHY* you made various decisions involved in the tasks; and (c) acknowledgement of **WHERE** you  used material that is not directly yours. Therefore, you must document your thinking and approach throughout the notebook using the Markdown cells, and give credit to other resources as appropriate. You are encouraged to use the `Exemplars` PDF to help write your code. You may use online resources including `GenAI tools` and `stackoverflow` to help you write your code, however you must acknowledge that you are using these resources in the markdown cells explaining your analysis. Note that you do not need to use formal referencing for this.\n",
    "\n",
    "---\n"
   ]
  },
  {
   "cell_type": "markdown",
   "id": "79ad50e9",
   "metadata": {},
   "source": [
    "<<<< INSERT CELLS BELOW >>>>\n",
    "\n",
    "\n",
    "\n",
    "\n",
    "\n"
   ]
  },
  {
   "cell_type": "markdown",
   "id": "8c5f1733-0b13-4aba-a1a7-193fbd06bde0",
   "metadata": {},
   "source": [
    "# Analysing Fund Allocation Patterns for Advance Queensland\n",
    "### Morgan Meeuwissen 2024"
   ]
  },
  {
   "cell_type": "markdown",
   "id": "f6f4dc99-fa3b-4574-8259-9f65151a14e8",
   "metadata": {},
   "source": [
    "## **Context**\n",
    "Advance Queensland is a government initiative designed to support and drive innovation across the state by providing funding, resources, and support to startups, entrepreneurs, and research organizations. As a data analyst for a respected media company I am interested in identifying newsworthy patterns or irregularities in the allocation of funds by the intiative as a whole rather than individual programs, but with particularly focus between cities and regional areas."
   ]
  },
  {
   "cell_type": "code",
   "execution_count": 18,
   "id": "1e33017c-c571-471b-8c4d-736785987f66",
   "metadata": {},
   "outputs": [],
   "source": [
    "# Import Libraries for later use\n",
    "import pandas as pd\n",
    "import plotly.express as px\n",
    "\n",
    "# Change pandas settings to ensure full dataframe columns display\n",
    "pd.set_option('display.max_colwidth', 1000)"
   ]
  },
  {
   "cell_type": "markdown",
   "id": "7497f005-c4b2-48c8-bce2-71d4b0289bcd",
   "metadata": {},
   "source": [
    "## **Question 1**\n",
    "\n",
    "> What proportion of funding has Advance Queensland allocated to city and regional recipients over recent years? Has this been fairly distribuited?"
   ]
  },
  {
   "cell_type": "markdown",
   "id": "aead8cf1-4789-4a4b-93f9-854d1a3081a4",
   "metadata": {},
   "source": [
    "## **Data 1**\n",
    "Data is being sourced from the Queensland Government's [Open Data Portal](https://www.data.qld.gov.au) to ensure that it is reliable source, however will also be filtered to the **five year period between 2019-2023** to ensure that it is of current interest to readers and that data only covers complete calendar years.\n",
    "\n",
    "The following fields are available from the [Advance Queensland Funding Recipients](https://www.data.qld.gov.au/dataset/advance-queensland-funding-recipients):"
   ]
  },
  {
   "cell_type": "code",
   "execution_count": 19,
   "id": "3a998e1f-e4c8-4ee5-8e51-971ddf4d2b32",
   "metadata": {},
   "outputs": [
    {
     "data": {
      "text/html": [
       "<div>\n",
       "<style scoped>\n",
       "    .dataframe tbody tr th:only-of-type {\n",
       "        vertical-align: middle;\n",
       "    }\n",
       "\n",
       "    .dataframe tbody tr th {\n",
       "        vertical-align: top;\n",
       "    }\n",
       "\n",
       "    .dataframe thead th {\n",
       "        text-align: right;\n",
       "    }\n",
       "</style>\n",
       "<table border=\"1\" class=\"dataframe\">\n",
       "  <thead>\n",
       "    <tr style=\"text-align: right;\">\n",
       "      <th></th>\n",
       "      <th>Header</th>\n",
       "      <th>Description</th>\n",
       "      <th>Field Type</th>\n",
       "    </tr>\n",
       "  </thead>\n",
       "  <tbody>\n",
       "    <tr>\n",
       "      <th>0</th>\n",
       "      <td>Program</td>\n",
       "      <td>Name of Advance Queensland Program.</td>\n",
       "      <td>text</td>\n",
       "    </tr>\n",
       "    <tr>\n",
       "      <th>1</th>\n",
       "      <td>Round</td>\n",
       "      <td>The program's funding round in which the recipient was successful.</td>\n",
       "      <td>text</td>\n",
       "    </tr>\n",
       "    <tr>\n",
       "      <th>2</th>\n",
       "      <td>Recipient Name</td>\n",
       "      <td>Name of the primary successful applicant that received the funding/AQ opportunity - as set out on the original application/entry/response.</td>\n",
       "      <td>text</td>\n",
       "    </tr>\n",
       "    <tr>\n",
       "      <th>3</th>\n",
       "      <td>Physical Address of Recipient - Suburb/Location</td>\n",
       "      <td>Suburb or town of the recipient's address.</td>\n",
       "      <td>text</td>\n",
       "    </tr>\n",
       "    <tr>\n",
       "      <th>4</th>\n",
       "      <td>Physical Address of Recipient - Post Code</td>\n",
       "      <td>Postcode of the recipient's address.\\n</td>\n",
       "      <td>number</td>\n",
       "    </tr>\n",
       "    <tr>\n",
       "      <th>5</th>\n",
       "      <td>University Collaborator (if applicable)</td>\n",
       "      <td>The name of the university(ies) that  collaborate with the main recipient of the AQ funding to support delivery of the agreed project deliverables.</td>\n",
       "      <td>text</td>\n",
       "    </tr>\n",
       "    <tr>\n",
       "      <th>6</th>\n",
       "      <td>Other Partners | Collaborators (if applicable)</td>\n",
       "      <td>The name of the body(ies) other than universities [including individuals and business entities] that will collaborate with the main recipient of the AQ funding to support delivery of the agreed project deliverables.</td>\n",
       "      <td>text</td>\n",
       "    </tr>\n",
       "    <tr>\n",
       "      <th>7</th>\n",
       "      <td>Investment/Project Title</td>\n",
       "      <td>Brief title of the activity for which the recipient is receiving funding or benefit.</td>\n",
       "      <td>text</td>\n",
       "    </tr>\n",
       "    <tr>\n",
       "      <th>8</th>\n",
       "      <td>Primary Location of Activity/Project - Suburb</td>\n",
       "      <td>Suburb or Town of the recipient's project.\\n</td>\n",
       "      <td>text</td>\n",
       "    </tr>\n",
       "    <tr>\n",
       "      <th>9</th>\n",
       "      <td>Primary Location of Activity/Project - Post Code</td>\n",
       "      <td>Postcode of the recipient's project.\\n</td>\n",
       "      <td>number</td>\n",
       "    </tr>\n",
       "    <tr>\n",
       "      <th>10</th>\n",
       "      <td>Multiple Locations of Activity/Project (if applicable)</td>\n",
       "      <td>Where the activity/project will not be delivered in a single location but in multiple locations or across the State</td>\n",
       "      <td>text</td>\n",
       "    </tr>\n",
       "    <tr>\n",
       "      <th>11</th>\n",
       "      <td>Approval date</td>\n",
       "      <td>Date funding was approved to be given to the recipient.</td>\n",
       "      <td>date</td>\n",
       "    </tr>\n",
       "    <tr>\n",
       "      <th>12</th>\n",
       "      <td>Local Government /Council</td>\n",
       "      <td>Local Government area based on the recipient's address.</td>\n",
       "      <td>text</td>\n",
       "    </tr>\n",
       "    <tr>\n",
       "      <th>13</th>\n",
       "      <td>RAP Region</td>\n",
       "      <td>Regional Action Plan (RAP) region is based on the suburb/location of the project.</td>\n",
       "      <td>text</td>\n",
       "    </tr>\n",
       "    <tr>\n",
       "      <th>14</th>\n",
       "      <td>State Electorate</td>\n",
       "      <td>State electorate based on the recipient address.</td>\n",
       "      <td>text</td>\n",
       "    </tr>\n",
       "    <tr>\n",
       "      <th>15</th>\n",
       "      <td>Actual Contractual Commitment ($)</td>\n",
       "      <td>Amount of funding approved to be given to the recipient, exclusive of GST or where the contract has been varied and therefore the contractual commitment is different to the approved funding amount.</td>\n",
       "      <td>number</td>\n",
       "    </tr>\n",
       "  </tbody>\n",
       "</table>\n",
       "</div>"
      ],
      "text/plain": [
       "                                                    Header  \\\n",
       "0                                                  Program   \n",
       "1                                                   Round    \n",
       "2                                           Recipient Name   \n",
       "3          Physical Address of Recipient - Suburb/Location   \n",
       "4                Physical Address of Recipient - Post Code   \n",
       "5                  University Collaborator (if applicable)   \n",
       "6           Other Partners | Collaborators (if applicable)   \n",
       "7                                 Investment/Project Title   \n",
       "8            Primary Location of Activity/Project - Suburb   \n",
       "9         Primary Location of Activity/Project - Post Code   \n",
       "10  Multiple Locations of Activity/Project (if applicable)   \n",
       "11                                           Approval date   \n",
       "12                               Local Government /Council   \n",
       "13                                              RAP Region   \n",
       "14                                        State Electorate   \n",
       "15                       Actual Contractual Commitment ($)   \n",
       "\n",
       "                                                                                                                                                                                                                Description  \\\n",
       "0                                                                                                                                                                                       Name of Advance Queensland Program.   \n",
       "1                                                                                                                                                        The program's funding round in which the recipient was successful.   \n",
       "2                                                                               Name of the primary successful applicant that received the funding/AQ opportunity - as set out on the original application/entry/response.    \n",
       "3                                                                                                                                                                                Suburb or town of the recipient's address.   \n",
       "4                                                                                                                                                                                    Postcode of the recipient's address.\\n   \n",
       "5                                                                       The name of the university(ies) that  collaborate with the main recipient of the AQ funding to support delivery of the agreed project deliverables.   \n",
       "6   The name of the body(ies) other than universities [including individuals and business entities] that will collaborate with the main recipient of the AQ funding to support delivery of the agreed project deliverables.   \n",
       "7                                                                                                                                      Brief title of the activity for which the recipient is receiving funding or benefit.   \n",
       "8                                                                                                                                                                              Suburb or Town of the recipient's project.\\n   \n",
       "9                                                                                                                                                                                    Postcode of the recipient's project.\\n   \n",
       "10                                                                                                      Where the activity/project will not be delivered in a single location but in multiple locations or across the State   \n",
       "11                                                                                                                                                                  Date funding was approved to be given to the recipient.   \n",
       "12                                                                                                                                                                  Local Government area based on the recipient's address.   \n",
       "13                                                                                                                                        Regional Action Plan (RAP) region is based on the suburb/location of the project.   \n",
       "14                                                                                                                                                                         State electorate based on the recipient address.   \n",
       "15                    Amount of funding approved to be given to the recipient, exclusive of GST or where the contract has been varied and therefore the contractual commitment is different to the approved funding amount.   \n",
       "\n",
       "   Field Type  \n",
       "0        text  \n",
       "1        text  \n",
       "2        text  \n",
       "3        text  \n",
       "4      number  \n",
       "5        text  \n",
       "6        text  \n",
       "7        text  \n",
       "8        text  \n",
       "9      number  \n",
       "10       text  \n",
       "11       date  \n",
       "12       text  \n",
       "13       text  \n",
       "14       text  \n",
       "15     number  "
      ]
     },
     "execution_count": 19,
     "metadata": {},
     "output_type": "execute_result"
    }
   ],
   "source": [
    "# Retrieve field information\n",
    "fields_url = \"https://www.data.qld.gov.au/dataset/db190f2d-f866-4811-9a6e-4b78744b551b/resource/e4d8e24c-3e2b-41df-860f-9c292209d021/download/advance-queensland-funding-recipients-field-descriptions.csv\"\n",
    "fields_df = pd.read_csv(fields_url, encoding = 'windows-1252') # Note dataset was found not be in in standard utf-8 \n",
    "\n",
    "fields_df"
   ]
  },
  {
   "cell_type": "markdown",
   "id": "9811a9dd-381d-4dd2-a37f-fbce7c7ee976",
   "metadata": {},
   "source": [
    "This explanation of the fields comes in useful reviewing the top rows of the dataset itself:"
   ]
  },
  {
   "cell_type": "code",
   "execution_count": 20,
   "id": "769604ea-10f3-4635-a67f-b403a9daa848",
   "metadata": {},
   "outputs": [
    {
     "data": {
      "text/html": [
       "<div>\n",
       "<style scoped>\n",
       "    .dataframe tbody tr th:only-of-type {\n",
       "        vertical-align: middle;\n",
       "    }\n",
       "\n",
       "    .dataframe tbody tr th {\n",
       "        vertical-align: top;\n",
       "    }\n",
       "\n",
       "    .dataframe thead th {\n",
       "        text-align: right;\n",
       "    }\n",
       "</style>\n",
       "<table border=\"1\" class=\"dataframe\">\n",
       "  <thead>\n",
       "    <tr style=\"text-align: right;\">\n",
       "      <th></th>\n",
       "      <th>Program Name</th>\n",
       "      <th>Round</th>\n",
       "      <th>Recipient Name</th>\n",
       "      <th>Physical Address of Recipient - Suburb/Location</th>\n",
       "      <th>Physical Address of Recipient - Post Code</th>\n",
       "      <th>University Collaborator (if applicable)</th>\n",
       "      <th>Other Partners/ Collaborators (if applicable)</th>\n",
       "      <th>Investment/Project Title</th>\n",
       "      <th>Primary Location of Activity/Project - Suburb/Location</th>\n",
       "      <th>Primary Location of Activity/Project - Post Code</th>\n",
       "      <th>Multiple Locations of Activity/Project</th>\n",
       "      <th>Approval date</th>\n",
       "      <th>Local Government Area (LGA)</th>\n",
       "      <th>RAP Region (based on Project Location)</th>\n",
       "      <th>State Electorate</th>\n",
       "      <th>Contractual Commitment (GST excl.)</th>\n",
       "    </tr>\n",
       "  </thead>\n",
       "  <tbody>\n",
       "    <tr>\n",
       "      <th>1409</th>\n",
       "      <td>Young Starters' Fund</td>\n",
       "      <td>AQ Young Starters Fund Round 2016-17 Round 9</td>\n",
       "      <td>Startup STEAM Incorporated</td>\n",
       "      <td>Alexandra Headland</td>\n",
       "      <td>4572.0</td>\n",
       "      <td>NaN</td>\n",
       "      <td>NaN</td>\n",
       "      <td>Startup Weekend for Youth 2017</td>\n",
       "      <td>Maroochydore</td>\n",
       "      <td>4558.0</td>\n",
       "      <td>NaN</td>\n",
       "      <td>28/08/2017 0:00</td>\n",
       "      <td>Sunshine Coast (R)</td>\n",
       "      <td>Sunshine Coast</td>\n",
       "      <td>Maroochydore</td>\n",
       "      <td>$11,200</td>\n",
       "    </tr>\n",
       "    <tr>\n",
       "      <th>1410</th>\n",
       "      <td>Young Starters' Fund</td>\n",
       "      <td>AQ Young Starters Fund Round 2017-18 Round 1</td>\n",
       "      <td>Central Queensland University</td>\n",
       "      <td>Cairns</td>\n",
       "      <td>4870.0</td>\n",
       "      <td>NaN</td>\n",
       "      <td>NaN</td>\n",
       "      <td>Big Fish Cairns</td>\n",
       "      <td>Cairns City</td>\n",
       "      <td>4870.0</td>\n",
       "      <td>NaN</td>\n",
       "      <td>22/01/2018 0:00</td>\n",
       "      <td>Cairns (R)</td>\n",
       "      <td>Far North Queensland</td>\n",
       "      <td>Cairns</td>\n",
       "      <td>$11,351</td>\n",
       "    </tr>\n",
       "    <tr>\n",
       "      <th>1411</th>\n",
       "      <td>Young Starters' Fund</td>\n",
       "      <td>AQ Young Starters Fund Round 2017-18 Round 1</td>\n",
       "      <td>Fifty Six Creations Pty Ltd - Head Office</td>\n",
       "      <td>Brisbane City</td>\n",
       "      <td>4000.0</td>\n",
       "      <td>NaN</td>\n",
       "      <td>NaN</td>\n",
       "      <td>Fiftysix Creations x Advance Queensland in Burdekin!</td>\n",
       "      <td>Ayr</td>\n",
       "      <td>4807.0</td>\n",
       "      <td>NaN</td>\n",
       "      <td>18/10/2017 0:00</td>\n",
       "      <td>Brisbane (C)</td>\n",
       "      <td>Townsville</td>\n",
       "      <td>McConnel</td>\n",
       "      <td>$15,000</td>\n",
       "    </tr>\n",
       "    <tr>\n",
       "      <th>1412</th>\n",
       "      <td>Young Starters' Fund</td>\n",
       "      <td>AQ Young Starters Fund Round 2017-18 Round 1</td>\n",
       "      <td>Gold Coast City Council</td>\n",
       "      <td>Bundall</td>\n",
       "      <td>4217.0</td>\n",
       "      <td>NaN</td>\n",
       "      <td>NaN</td>\n",
       "      <td>City Libraries Young Creatives Bootcamp</td>\n",
       "      <td>Helensvale</td>\n",
       "      <td>4212.0</td>\n",
       "      <td>NaN</td>\n",
       "      <td>22/01/2018 0:00</td>\n",
       "      <td>Gold Coast (C)</td>\n",
       "      <td>Gold Coast</td>\n",
       "      <td>Southport</td>\n",
       "      <td>$13,370</td>\n",
       "    </tr>\n",
       "    <tr>\n",
       "      <th>1413</th>\n",
       "      <td>Artificial Intelligence Hub</td>\n",
       "      <td>NaN</td>\n",
       "      <td>AI Consortium Pty Ltd</td>\n",
       "      <td>Fortitude Valley</td>\n",
       "      <td>4006.0</td>\n",
       "      <td>The University of Queensland, Queensland University of Technology</td>\n",
       "      <td>KPMG</td>\n",
       "      <td>Artificial Intelligence Hub</td>\n",
       "      <td>Fortitude Valley</td>\n",
       "      <td>4006.0</td>\n",
       "      <td>NaN</td>\n",
       "      <td>43896</td>\n",
       "      <td>Brisbane (C)</td>\n",
       "      <td>Brisbane and Redlands</td>\n",
       "      <td>McConnel</td>\n",
       "      <td>5160000</td>\n",
       "    </tr>\n",
       "  </tbody>\n",
       "</table>\n",
       "</div>"
      ],
      "text/plain": [
       "                     Program Name  \\\n",
       "1409         Young Starters' Fund   \n",
       "1410         Young Starters' Fund   \n",
       "1411         Young Starters' Fund   \n",
       "1412         Young Starters' Fund   \n",
       "1413  Artificial Intelligence Hub   \n",
       "\n",
       "                                             Round  \\\n",
       "1409  AQ Young Starters Fund Round 2016-17 Round 9   \n",
       "1410  AQ Young Starters Fund Round 2017-18 Round 1   \n",
       "1411  AQ Young Starters Fund Round 2017-18 Round 1   \n",
       "1412  AQ Young Starters Fund Round 2017-18 Round 1   \n",
       "1413                                           NaN   \n",
       "\n",
       "                                 Recipient Name  \\\n",
       "1409                 Startup STEAM Incorporated   \n",
       "1410              Central Queensland University   \n",
       "1411  Fifty Six Creations Pty Ltd - Head Office   \n",
       "1412                    Gold Coast City Council   \n",
       "1413                      AI Consortium Pty Ltd   \n",
       "\n",
       "     Physical Address of Recipient - Suburb/Location  \\\n",
       "1409                              Alexandra Headland   \n",
       "1410                                          Cairns   \n",
       "1411                                   Brisbane City   \n",
       "1412                                         Bundall   \n",
       "1413                                Fortitude Valley   \n",
       "\n",
       "      Physical Address of Recipient - Post Code  \\\n",
       "1409                                     4572.0   \n",
       "1410                                     4870.0   \n",
       "1411                                     4000.0   \n",
       "1412                                     4217.0   \n",
       "1413                                     4006.0   \n",
       "\n",
       "                                University Collaborator (if applicable)  \\\n",
       "1409                                                                NaN   \n",
       "1410                                                                NaN   \n",
       "1411                                                                NaN   \n",
       "1412                                                                NaN   \n",
       "1413  The University of Queensland, Queensland University of Technology   \n",
       "\n",
       "     Other Partners/ Collaborators (if applicable)  \\\n",
       "1409                                           NaN   \n",
       "1410                                           NaN   \n",
       "1411                                           NaN   \n",
       "1412                                           NaN   \n",
       "1413                                          KPMG   \n",
       "\n",
       "                                  Investment/Project Title  \\\n",
       "1409                        Startup Weekend for Youth 2017   \n",
       "1410                                       Big Fish Cairns   \n",
       "1411  Fiftysix Creations x Advance Queensland in Burdekin!   \n",
       "1412               City Libraries Young Creatives Bootcamp   \n",
       "1413                           Artificial Intelligence Hub   \n",
       "\n",
       "     Primary Location of Activity/Project - Suburb/Location  \\\n",
       "1409                                           Maroochydore   \n",
       "1410                                            Cairns City   \n",
       "1411                                                    Ayr   \n",
       "1412                                             Helensvale   \n",
       "1413                                       Fortitude Valley   \n",
       "\n",
       "      Primary Location of Activity/Project - Post Code  \\\n",
       "1409                                            4558.0   \n",
       "1410                                            4870.0   \n",
       "1411                                            4807.0   \n",
       "1412                                            4212.0   \n",
       "1413                                            4006.0   \n",
       "\n",
       "     Multiple Locations of Activity/Project    Approval date  \\\n",
       "1409                                    NaN  28/08/2017 0:00   \n",
       "1410                                    NaN  22/01/2018 0:00   \n",
       "1411                                    NaN  18/10/2017 0:00   \n",
       "1412                                    NaN  22/01/2018 0:00   \n",
       "1413                                    NaN            43896   \n",
       "\n",
       "     Local Government Area (LGA) RAP Region (based on Project Location)  \\\n",
       "1409          Sunshine Coast (R)                         Sunshine Coast   \n",
       "1410                  Cairns (R)                   Far North Queensland   \n",
       "1411                Brisbane (C)                             Townsville   \n",
       "1412              Gold Coast (C)                             Gold Coast   \n",
       "1413                Brisbane (C)                  Brisbane and Redlands   \n",
       "\n",
       "     State Electorate Contractual Commitment (GST excl.)  \n",
       "1409     Maroochydore                            $11,200  \n",
       "1410           Cairns                            $11,351  \n",
       "1411         McConnel                            $15,000  \n",
       "1412        Southport                            $13,370  \n",
       "1413         McConnel                            5160000  "
      ]
     },
     "execution_count": 20,
     "metadata": {},
     "output_type": "execute_result"
    }
   ],
   "source": [
    "# Retrieve the dataset and view the top 10 rows\n",
    "data_url = \"https://www.data.qld.gov.au/dataset/db190f2d-f866-4811-9a6e-4b78744b551b/resource/0f97b985-f5c7-49d2-8b0a-bc5dfbe070b9/download/advance-queensland-funding-recipients.csv\"\n",
    "data_df = pd.read_csv(data_url, encoding = 'windows-1252')\n",
    "data_df.tail(5)"
   ]
  },
  {
   "cell_type": "markdown",
   "id": "0da8e4e3-731b-4735-bbe4-55c7e89e6107",
   "metadata": {},
   "source": [
    "Out of these the following fields are of the most interest in answering the questions that have been set: \"Program Name\", \"Approval date\", \"Contractual Commitment (GST excl.)\", and \"Local Government Area (LGA)\". This last field is of interest as according to the [Australian Bureuu of Statistics](https://www.abs.gov.au/ausstats/abs@.nsf/Lookup/by%20Subject/1270.0.55.003~July%202016~Main%20Features~Local%20Government%20Areas%20(LGA)~7) the suffix on the LGA indicates its status as City/Regional.\n",
    "\n",
    "\n",
    "It is also worth noting for later review of insights that there is a mixture of fields for recipient location and project location, so by using the recipient's LGA it leaves the possibility that the project was conducted elsewhere. **There is an assumption being made here that the recipient location benefits from the funding.**\n",
    "\n",
    "Next steps in the code will be:\n",
    "* Calculate a new column for the \"LGA Status\" as either Cities (C) or Regional Councils (R)\n",
    "* Clean the \"Approval date\" and \"Contractual Commitment (GST excl.)\" to appropriate datatypes to facilitate further analysis\n",
    "* Filter to only rows with a valid \"LGA Status\" and from 2019-2023 to ensure five complete years of data is available\n",
    "* Set the \"LGA Status\" as an index so the groups can be accessed easily"
   ]
  },
  {
   "cell_type": "code",
   "execution_count": 21,
   "id": "50bd473d-702b-40eb-9610-20ba2211efa2",
   "metadata": {},
   "outputs": [
    {
     "name": "stdout",
     "output_type": "stream",
     "text": [
      "Note that 1 out of the total 1292 funding records for regional councils and cities didn't have a valid date and so was excluded from further analysis. This was possibly in an epoch timestamp, but correcting it was beyond my abilities.\n"
     ]
    },
    {
     "name": "stderr",
     "output_type": "stream",
     "text": [
      "<>:3: SyntaxWarning:\n",
      "\n",
      "invalid escape sequence '\\('\n",
      "\n",
      "<>:5: SyntaxWarning:\n",
      "\n",
      "invalid escape sequence '\\('\n",
      "\n",
      "<>:10: SyntaxWarning:\n",
      "\n",
      "invalid escape sequence '\\D'\n",
      "\n",
      "<>:3: SyntaxWarning:\n",
      "\n",
      "invalid escape sequence '\\('\n",
      "\n",
      "<>:5: SyntaxWarning:\n",
      "\n",
      "invalid escape sequence '\\('\n",
      "\n",
      "<>:10: SyntaxWarning:\n",
      "\n",
      "invalid escape sequence '\\D'\n",
      "\n",
      "C:\\Users\\Morgan\\AppData\\Local\\Temp\\ipykernel_23656\\3762225543.py:3: SyntaxWarning:\n",
      "\n",
      "invalid escape sequence '\\('\n",
      "\n",
      "C:\\Users\\Morgan\\AppData\\Local\\Temp\\ipykernel_23656\\3762225543.py:5: SyntaxWarning:\n",
      "\n",
      "invalid escape sequence '\\('\n",
      "\n",
      "C:\\Users\\Morgan\\AppData\\Local\\Temp\\ipykernel_23656\\3762225543.py:10: SyntaxWarning:\n",
      "\n",
      "invalid escape sequence '\\D'\n",
      "\n"
     ]
    }
   ],
   "source": [
    "# Add LGA Status Row (And implicit filter)\n",
    "# There is probably a better way to add a new column with an if statement, but I am going to stick to the limits of my python knowledge and it will filter at the same time\n",
    "city_df = data_df[data_df[\"Local Government Area (LGA)\"].str.contains(\"\\(C\\)\")].copy() # Had to go educate myself anyway on copys and views in pandas here\n",
    "city_df.loc[:, \"LGA Status\"] = \"Cities\"\n",
    "regional_df = data_df[data_df[\"Local Government Area (LGA)\"].str.contains(\"\\(R\\)\")].copy()\n",
    "regional_df[\"LGA Status\"] = \"Regional Councils\"\n",
    "cleaned_df = pd.concat([city_df, regional_df])\n",
    "\n",
    "# Convert Types\n",
    "cleaned_df[\"Contractual Commitment ($ GST excl.)\"] = pd.to_numeric(cleaned_df[\"Contractual Commitment (GST excl.)\"].str.replace('(\\D+)', \"\", regex = True))\n",
    "cleaned_df[\"Approval Date\"] = pd.to_datetime(cleaned_df[\"Approval date\"], format=\"%d/%m/%Y %H:%M\", errors = \"coerce\") # Some of the dates seem to be in epoch, but not many so will just force it through and convert to integer\n",
    "cleaned_df[\"Approval Year\"] = cleaned_df[\"Approval Date\"].dt.year.convert_dtypes()\n",
    "total_rows = cleaned_df[\"Approval Year\"].count()\n",
    "dt_error_rows = cleaned_df[\"Approval Year\"].isna().sum()\n",
    "\n",
    "# Filter to selected years\n",
    "cleaned_df = cleaned_df[cleaned_df[\"Approval Year\"].isin([2019,2020,2021,2022,2023])]\n",
    "print(f\"Note that {dt_error_rows} out of the total {total_rows} funding records for regional councils and cities didn't have a valid date and so was excluded from further analysis. This was possibly in an epoch timestamp, but correcting it was beyond my abilities.\")\n",
    "\n",
    "# Unselect raw columns that were transformed and sort data\n",
    "cleaned_df = cleaned_df.drop([\"Contractual Commitment (GST excl.)\", \"Approval date\"], axis=1).sort_values(by=\"Approval Year\")\n",
    "\n",
    "# Set the index\n",
    "cleaned_df.set_index(\"LGA Status\", inplace = True)"
   ]
  },
  {
   "cell_type": "markdown",
   "id": "73605a51-6e5b-4c7f-b7c2-e5221c08c125",
   "metadata": {},
   "source": [
    "## **Analysis 1**\n",
    "\n",
    "Investigate across the regional and city groups to see how the grants allocated over the five year compare in total number, average amount, maximums, and standard deviation"
   ]
  },
  {
   "cell_type": "code",
   "execution_count": 22,
   "id": "edc35467-bca8-4c19-bd2d-15c35d6701c1",
   "metadata": {},
   "outputs": [
    {
     "name": "stdout",
     "output_type": "stream",
     "text": [
      "Out of the total $16,059,887.00 supplied to regional recipients across 97 grants, the average grant was $165,565.85 with a standard deviation of $407,428.54\n",
      "\n",
      "Out of the total $60,727,648.00 supplied to city recipients across 297 grants, the average grant was $204,470.20 with a standard deviation of $593,064.43\n",
      "\n",
      "Comparatively regional councils recieved 24.6% of the total number of grants, but only 20.9% of the total funding due to having 19.03% lower grants on average compared to city recipients.\n"
     ]
    }
   ],
   "source": [
    "# Assign aggregate statistics to variables and use in a summary string\n",
    "(regional_count, regional_mean, regional_std) = cleaned_df.loc[\"Regional Councils\"].describe()[\"Contractual Commitment ($ GST excl.)\"][[\"count\", \"mean\", \"std\"]]\n",
    "regional_stat_str = f\"Out of the total ${regional_count*regional_mean:,.2f} supplied to regional recipients across {regional_count:.0f} grants, the average grant was ${regional_mean:,.2f} with a standard deviation of ${regional_std:,.2f}\\n\"\n",
    "print(regional_stat_str)\n",
    "\n",
    "(city_count, city_mean, city_std) = cleaned_df.loc[\"Cities\"].describe()[\"Contractual Commitment ($ GST excl.)\"][[\"count\", \"mean\", \"std\"]]\n",
    "city_stat_str = f\"Out of the total ${city_count*city_mean:,.2f} supplied to city recipients across {city_count:.0f} grants, the average grant was ${city_mean:,.2f} with a standard deviation of ${city_std:,.2f}\\n\"\n",
    "print(city_stat_str)\n",
    "\n",
    "# Generate a comparison string that uses some calculation\n",
    "compare_str = f\"Comparatively regional councils recieved {regional_count/(city_count+regional_count):.1%} of the total number of grants, but only {regional_count*regional_mean/(city_count*city_mean+regional_count*regional_mean):.1%} of the total funding due to having {1-regional_mean/city_mean:.2%} lower grants on average compared to city recipients.\"\n",
    "print(compare_str)"
   ]
  },
  {
   "cell_type": "markdown",
   "id": "5d3693cd-7c9e-4736-a8ee-8a757dc6174f",
   "metadata": {},
   "source": [
    "## **Visualisation 1**\n",
    "Using a pie pie chart to re-interate the above funding distribuitions to give a more intuitive understanding of the funding ratio allocated to regional and city recipients."
   ]
  },
  {
   "cell_type": "code",
   "execution_count": 23,
   "id": "42f7c948-5b90-4dee-acc7-2e29cb7af551",
   "metadata": {},
   "outputs": [
    {
     "data": {
      "application/vnd.plotly.v1+json": {
       "config": {
        "plotlyServerURL": "https://plot.ly"
       },
       "data": [
        {
         "domain": {
          "x": [
           0,
           1
          ],
          "y": [
           0,
           1
          ]
         },
         "hovertemplate": "LGA Status=%{label}<br>Contractual Commitment ($ GST excl.)=%{value}<extra></extra>",
         "labels": [
          "Regional Councils",
          "Cities",
          "Cities",
          "Cities",
          "Cities",
          "Cities",
          "Cities",
          "Regional Councils",
          "Regional Councils",
          "Regional Councils",
          "Regional Councils",
          "Regional Councils",
          "Regional Councils",
          "Regional Councils",
          "Cities",
          "Regional Councils",
          "Cities",
          "Regional Councils",
          "Regional Councils",
          "Regional Councils",
          "Regional Councils",
          "Regional Councils",
          "Regional Councils",
          "Regional Councils",
          "Cities",
          "Cities",
          "Cities",
          "Cities",
          "Cities",
          "Regional Councils",
          "Cities",
          "Cities",
          "Cities",
          "Cities",
          "Cities",
          "Cities",
          "Cities",
          "Cities",
          "Cities",
          "Cities",
          "Cities",
          "Cities",
          "Cities",
          "Cities",
          "Cities",
          "Cities",
          "Regional Councils",
          "Cities",
          "Cities",
          "Cities",
          "Cities",
          "Cities",
          "Cities",
          "Cities",
          "Cities",
          "Cities",
          "Cities",
          "Cities",
          "Cities",
          "Cities",
          "Cities",
          "Cities",
          "Cities",
          "Cities",
          "Cities",
          "Cities",
          "Cities",
          "Cities",
          "Regional Councils",
          "Regional Councils",
          "Regional Councils",
          "Cities",
          "Regional Councils",
          "Cities",
          "Cities",
          "Cities",
          "Cities",
          "Cities",
          "Cities",
          "Cities",
          "Cities",
          "Cities",
          "Cities",
          "Cities",
          "Cities",
          "Cities",
          "Cities",
          "Cities",
          "Cities",
          "Cities",
          "Cities",
          "Cities",
          "Cities",
          "Cities",
          "Regional Councils",
          "Cities",
          "Cities",
          "Cities",
          "Cities",
          "Cities",
          "Cities",
          "Cities",
          "Regional Councils",
          "Regional Councils",
          "Regional Councils",
          "Cities",
          "Regional Councils",
          "Regional Councils",
          "Regional Councils",
          "Cities",
          "Cities",
          "Cities",
          "Cities",
          "Cities",
          "Cities",
          "Cities",
          "Cities",
          "Regional Councils",
          "Regional Councils",
          "Cities",
          "Cities",
          "Cities",
          "Cities",
          "Cities",
          "Regional Councils",
          "Regional Councils",
          "Regional Councils",
          "Cities",
          "Cities",
          "Cities",
          "Cities",
          "Cities",
          "Cities",
          "Cities",
          "Cities",
          "Cities",
          "Cities",
          "Cities",
          "Cities",
          "Cities",
          "Cities",
          "Cities",
          "Regional Councils",
          "Regional Councils",
          "Regional Councils",
          "Regional Councils",
          "Regional Councils",
          "Regional Councils",
          "Cities",
          "Regional Councils",
          "Regional Councils",
          "Regional Councils",
          "Regional Councils",
          "Regional Councils",
          "Regional Councils",
          "Regional Councils",
          "Regional Councils",
          "Regional Councils",
          "Regional Councils",
          "Cities",
          "Cities",
          "Cities",
          "Cities",
          "Cities",
          "Cities",
          "Cities",
          "Cities",
          "Cities",
          "Cities",
          "Cities",
          "Cities",
          "Cities",
          "Cities",
          "Cities",
          "Cities",
          "Cities",
          "Cities",
          "Cities",
          "Cities",
          "Cities",
          "Cities",
          "Cities",
          "Cities",
          "Regional Councils",
          "Cities",
          "Cities",
          "Cities",
          "Cities",
          "Cities",
          "Cities",
          "Cities",
          "Cities",
          "Cities",
          "Cities",
          "Cities",
          "Cities",
          "Cities",
          "Cities",
          "Cities",
          "Cities",
          "Cities",
          "Cities",
          "Cities",
          "Cities",
          "Cities",
          "Cities",
          "Cities",
          "Cities",
          "Cities",
          "Cities",
          "Cities",
          "Cities",
          "Cities",
          "Cities",
          "Cities",
          "Cities",
          "Cities",
          "Cities",
          "Cities",
          "Cities",
          "Cities",
          "Cities",
          "Cities",
          "Cities",
          "Cities",
          "Cities",
          "Cities",
          "Cities",
          "Cities",
          "Cities",
          "Cities",
          "Cities",
          "Regional Councils",
          "Cities",
          "Cities",
          "Cities",
          "Cities",
          "Cities",
          "Cities",
          "Cities",
          "Cities",
          "Regional Councils",
          "Cities",
          "Regional Councils",
          "Regional Councils",
          "Regional Councils",
          "Regional Councils",
          "Regional Councils",
          "Regional Councils",
          "Regional Councils",
          "Regional Councils",
          "Regional Councils",
          "Regional Councils",
          "Regional Councils",
          "Regional Councils",
          "Regional Councils",
          "Regional Councils",
          "Regional Councils",
          "Regional Councils",
          "Regional Councils",
          "Regional Councils",
          "Regional Councils",
          "Regional Councils",
          "Cities",
          "Cities",
          "Cities",
          "Cities",
          "Cities",
          "Cities",
          "Cities",
          "Cities",
          "Cities",
          "Cities",
          "Cities",
          "Cities",
          "Cities",
          "Cities",
          "Cities",
          "Cities",
          "Cities",
          "Cities",
          "Cities",
          "Cities",
          "Cities",
          "Cities",
          "Cities",
          "Cities",
          "Cities",
          "Cities",
          "Cities",
          "Cities",
          "Cities",
          "Cities",
          "Regional Councils",
          "Regional Councils",
          "Regional Councils",
          "Regional Councils",
          "Regional Councils",
          "Regional Councils",
          "Cities",
          "Regional Councils",
          "Cities",
          "Regional Councils",
          "Cities",
          "Cities",
          "Regional Councils",
          "Regional Councils",
          "Cities",
          "Cities",
          "Cities",
          "Regional Councils",
          "Cities",
          "Cities",
          "Cities",
          "Cities",
          "Cities",
          "Cities",
          "Cities",
          "Cities",
          "Cities",
          "Cities",
          "Cities",
          "Cities",
          "Cities",
          "Cities",
          "Cities",
          "Cities",
          "Cities",
          "Cities",
          "Cities",
          "Cities",
          "Cities",
          "Cities",
          "Cities",
          "Cities",
          "Cities",
          "Cities",
          "Cities",
          "Cities",
          "Cities",
          "Regional Councils",
          "Cities",
          "Cities",
          "Cities",
          "Cities",
          "Cities",
          "Cities",
          "Cities",
          "Cities",
          "Cities",
          "Cities",
          "Cities",
          "Regional Councils",
          "Cities",
          "Cities",
          "Regional Councils",
          "Cities",
          "Cities",
          "Cities",
          "Cities",
          "Cities",
          "Cities",
          "Cities",
          "Cities",
          "Cities",
          "Cities",
          "Cities",
          "Cities",
          "Cities",
          "Cities",
          "Cities",
          "Cities",
          "Cities",
          "Cities",
          "Regional Councils",
          "Regional Councils",
          "Regional Councils",
          "Regional Councils",
          "Regional Councils",
          "Cities",
          "Cities",
          "Cities",
          "Cities",
          "Cities",
          "Cities",
          "Regional Councils",
          "Regional Councils",
          "Regional Councils",
          "Cities",
          "Cities",
          "Regional Councils",
          "Regional Councils",
          "Cities",
          "Cities"
         ],
         "legendgroup": "",
         "name": "",
         "showlegend": true,
         "type": "pie",
         "values": [
          90000,
          75000,
          75000,
          51824,
          75000,
          1000000,
          300000,
          107084,
          8000,
          6000,
          6000,
          100000,
          100000,
          100000,
          192394,
          100000,
          180000,
          99462,
          100000,
          82440,
          300000,
          300000,
          180000,
          80000,
          90000,
          100000,
          200000,
          200000,
          100000,
          99500,
          199999,
          1500000,
          300000,
          139682,
          180000,
          162889,
          180000,
          300000,
          31569,
          180000,
          178043,
          180000,
          174793,
          180000,
          161221,
          118647,
          60000,
          300000,
          300000,
          300000,
          300000,
          180000,
          300000,
          180000,
          180000,
          180000,
          300000,
          180000,
          99800,
          180000,
          180000,
          180000,
          180000,
          300000,
          160000,
          100000,
          100000,
          100000,
          21347,
          75000,
          75000,
          100000,
          75000,
          90000,
          75000,
          100000,
          200000,
          100000,
          100000,
          99928,
          10000,
          8000,
          6000,
          199456,
          150000,
          8000,
          8000,
          8000,
          100000,
          8000,
          100000,
          100000,
          98600,
          100000,
          43750,
          100000,
          95000,
          100000,
          200000,
          100000,
          100000,
          100000,
          2800000,
          7500,
          7500,
          100000,
          75000,
          40290,
          7500,
          50000,
          100000,
          100000,
          200000,
          199739,
          100000,
          200000,
          100000,
          75000,
          75000,
          100000,
          76500,
          1452855,
          185449,
          100000,
          75000,
          75000,
          75000,
          74786,
          150000,
          150000,
          90000,
          55000,
          180000,
          180000,
          120000,
          90000,
          53062,
          180000,
          10000,
          150000,
          10000000,
          500000,
          230000,
          45000,
          3000000,
          70000,
          150000,
          200000,
          114309,
          100000,
          100000,
          150000,
          86952,
          90000,
          74000,
          96190,
          100000,
          52668,
          100000,
          300000,
          400000,
          334800,
          300000,
          300000,
          90000,
          300000,
          300000,
          150000,
          300000,
          300000,
          52500,
          90000,
          300000,
          180000,
          300000,
          546027,
          450000,
          52499,
          120000,
          197000,
          300000,
          500000,
          135223,
          160000,
          200000,
          100000,
          100000,
          99603,
          100000,
          100000,
          100000,
          150000,
          100000,
          100000,
          100000,
          100000,
          100000,
          180000,
          200000,
          200000,
          100000,
          100000,
          200000,
          100000,
          200000,
          100000,
          100000,
          100000,
          100000,
          50000,
          100000,
          104000,
          100000,
          356396,
          100000,
          60000,
          100000,
          72986,
          100000,
          75000,
          95409,
          100000,
          300000,
          100000,
          80000,
          100000,
          50000,
          200000,
          90000,
          100000,
          100000,
          100000,
          100000,
          100000,
          157440,
          30000,
          15000,
          100000,
          99996,
          200000,
          100000,
          100000,
          100000,
          25108,
          5000,
          20000,
          680,
          30000,
          30000,
          21726,
          203750,
          203750,
          203750,
          240000,
          160000,
          240000,
          360000,
          150000,
          100000,
          99560,
          92400,
          100000,
          100000,
          50000,
          97000,
          160000,
          360000,
          100000,
          240000,
          360000,
          240000,
          360000,
          240000,
          160000,
          100000,
          146250,
          160000,
          240000,
          360000,
          240000,
          360000,
          78000,
          99999,
          100000,
          240000,
          200000,
          240000,
          360000,
          360000,
          240000,
          360000,
          240000,
          240000,
          199676,
          100000,
          60000,
          240000,
          360000,
          240000,
          57623,
          37500,
          100000,
          200000,
          100000,
          240000,
          100000,
          100000,
          100000,
          100000,
          197950,
          22000,
          240000,
          360000,
          360000,
          200000,
          30505,
          10976,
          30000,
          150000,
          10000,
          10000,
          30000,
          40000,
          30000,
          92940,
          200000,
          200000,
          150000,
          172500,
          77500,
          430550,
          47345,
          30000,
          360000,
          40000,
          100000,
          50000,
          360000,
          92270,
          177000,
          15250,
          100000,
          100000,
          200000,
          98500,
          100000,
          45000,
          86666,
          80000,
          116000,
          87590,
          100000,
          10000,
          100000,
          100000,
          200000,
          96550,
          50182,
          198500,
          160000,
          360000,
          240000,
          360000,
          240000,
          360000,
          360000,
          360000,
          240000,
          360000,
          199357,
          20000,
          945000,
          39600,
          240000,
          36960,
          36650,
          90000,
          240000,
          360000,
          100000,
          100000,
          140000,
          100000,
          99999,
          23397,
          100000,
          100000,
          100000,
          49000,
          240000,
          99944,
          100000,
          100000,
          148475
         ]
        }
       ],
       "layout": {
        "height": 400,
        "legend": {
         "title": {
          "font": {
           "size": 15
          }
         },
         "tracegroupgap": 0
        },
        "template": {
         "data": {
          "bar": [
           {
            "error_x": {
             "color": "#2a3f5f"
            },
            "error_y": {
             "color": "#2a3f5f"
            },
            "marker": {
             "line": {
              "color": "#E5ECF6",
              "width": 0.5
             },
             "pattern": {
              "fillmode": "overlay",
              "size": 10,
              "solidity": 0.2
             }
            },
            "type": "bar"
           }
          ],
          "barpolar": [
           {
            "marker": {
             "line": {
              "color": "#E5ECF6",
              "width": 0.5
             },
             "pattern": {
              "fillmode": "overlay",
              "size": 10,
              "solidity": 0.2
             }
            },
            "type": "barpolar"
           }
          ],
          "carpet": [
           {
            "aaxis": {
             "endlinecolor": "#2a3f5f",
             "gridcolor": "white",
             "linecolor": "white",
             "minorgridcolor": "white",
             "startlinecolor": "#2a3f5f"
            },
            "baxis": {
             "endlinecolor": "#2a3f5f",
             "gridcolor": "white",
             "linecolor": "white",
             "minorgridcolor": "white",
             "startlinecolor": "#2a3f5f"
            },
            "type": "carpet"
           }
          ],
          "choropleth": [
           {
            "colorbar": {
             "outlinewidth": 0,
             "ticks": ""
            },
            "type": "choropleth"
           }
          ],
          "contour": [
           {
            "colorbar": {
             "outlinewidth": 0,
             "ticks": ""
            },
            "colorscale": [
             [
              0,
              "#0d0887"
             ],
             [
              0.1111111111111111,
              "#46039f"
             ],
             [
              0.2222222222222222,
              "#7201a8"
             ],
             [
              0.3333333333333333,
              "#9c179e"
             ],
             [
              0.4444444444444444,
              "#bd3786"
             ],
             [
              0.5555555555555556,
              "#d8576b"
             ],
             [
              0.6666666666666666,
              "#ed7953"
             ],
             [
              0.7777777777777778,
              "#fb9f3a"
             ],
             [
              0.8888888888888888,
              "#fdca26"
             ],
             [
              1,
              "#f0f921"
             ]
            ],
            "type": "contour"
           }
          ],
          "contourcarpet": [
           {
            "colorbar": {
             "outlinewidth": 0,
             "ticks": ""
            },
            "type": "contourcarpet"
           }
          ],
          "heatmap": [
           {
            "colorbar": {
             "outlinewidth": 0,
             "ticks": ""
            },
            "colorscale": [
             [
              0,
              "#0d0887"
             ],
             [
              0.1111111111111111,
              "#46039f"
             ],
             [
              0.2222222222222222,
              "#7201a8"
             ],
             [
              0.3333333333333333,
              "#9c179e"
             ],
             [
              0.4444444444444444,
              "#bd3786"
             ],
             [
              0.5555555555555556,
              "#d8576b"
             ],
             [
              0.6666666666666666,
              "#ed7953"
             ],
             [
              0.7777777777777778,
              "#fb9f3a"
             ],
             [
              0.8888888888888888,
              "#fdca26"
             ],
             [
              1,
              "#f0f921"
             ]
            ],
            "type": "heatmap"
           }
          ],
          "heatmapgl": [
           {
            "colorbar": {
             "outlinewidth": 0,
             "ticks": ""
            },
            "colorscale": [
             [
              0,
              "#0d0887"
             ],
             [
              0.1111111111111111,
              "#46039f"
             ],
             [
              0.2222222222222222,
              "#7201a8"
             ],
             [
              0.3333333333333333,
              "#9c179e"
             ],
             [
              0.4444444444444444,
              "#bd3786"
             ],
             [
              0.5555555555555556,
              "#d8576b"
             ],
             [
              0.6666666666666666,
              "#ed7953"
             ],
             [
              0.7777777777777778,
              "#fb9f3a"
             ],
             [
              0.8888888888888888,
              "#fdca26"
             ],
             [
              1,
              "#f0f921"
             ]
            ],
            "type": "heatmapgl"
           }
          ],
          "histogram": [
           {
            "marker": {
             "pattern": {
              "fillmode": "overlay",
              "size": 10,
              "solidity": 0.2
             }
            },
            "type": "histogram"
           }
          ],
          "histogram2d": [
           {
            "colorbar": {
             "outlinewidth": 0,
             "ticks": ""
            },
            "colorscale": [
             [
              0,
              "#0d0887"
             ],
             [
              0.1111111111111111,
              "#46039f"
             ],
             [
              0.2222222222222222,
              "#7201a8"
             ],
             [
              0.3333333333333333,
              "#9c179e"
             ],
             [
              0.4444444444444444,
              "#bd3786"
             ],
             [
              0.5555555555555556,
              "#d8576b"
             ],
             [
              0.6666666666666666,
              "#ed7953"
             ],
             [
              0.7777777777777778,
              "#fb9f3a"
             ],
             [
              0.8888888888888888,
              "#fdca26"
             ],
             [
              1,
              "#f0f921"
             ]
            ],
            "type": "histogram2d"
           }
          ],
          "histogram2dcontour": [
           {
            "colorbar": {
             "outlinewidth": 0,
             "ticks": ""
            },
            "colorscale": [
             [
              0,
              "#0d0887"
             ],
             [
              0.1111111111111111,
              "#46039f"
             ],
             [
              0.2222222222222222,
              "#7201a8"
             ],
             [
              0.3333333333333333,
              "#9c179e"
             ],
             [
              0.4444444444444444,
              "#bd3786"
             ],
             [
              0.5555555555555556,
              "#d8576b"
             ],
             [
              0.6666666666666666,
              "#ed7953"
             ],
             [
              0.7777777777777778,
              "#fb9f3a"
             ],
             [
              0.8888888888888888,
              "#fdca26"
             ],
             [
              1,
              "#f0f921"
             ]
            ],
            "type": "histogram2dcontour"
           }
          ],
          "mesh3d": [
           {
            "colorbar": {
             "outlinewidth": 0,
             "ticks": ""
            },
            "type": "mesh3d"
           }
          ],
          "parcoords": [
           {
            "line": {
             "colorbar": {
              "outlinewidth": 0,
              "ticks": ""
             }
            },
            "type": "parcoords"
           }
          ],
          "pie": [
           {
            "automargin": true,
            "type": "pie"
           }
          ],
          "scatter": [
           {
            "fillpattern": {
             "fillmode": "overlay",
             "size": 10,
             "solidity": 0.2
            },
            "type": "scatter"
           }
          ],
          "scatter3d": [
           {
            "line": {
             "colorbar": {
              "outlinewidth": 0,
              "ticks": ""
             }
            },
            "marker": {
             "colorbar": {
              "outlinewidth": 0,
              "ticks": ""
             }
            },
            "type": "scatter3d"
           }
          ],
          "scattercarpet": [
           {
            "marker": {
             "colorbar": {
              "outlinewidth": 0,
              "ticks": ""
             }
            },
            "type": "scattercarpet"
           }
          ],
          "scattergeo": [
           {
            "marker": {
             "colorbar": {
              "outlinewidth": 0,
              "ticks": ""
             }
            },
            "type": "scattergeo"
           }
          ],
          "scattergl": [
           {
            "marker": {
             "colorbar": {
              "outlinewidth": 0,
              "ticks": ""
             }
            },
            "type": "scattergl"
           }
          ],
          "scattermapbox": [
           {
            "marker": {
             "colorbar": {
              "outlinewidth": 0,
              "ticks": ""
             }
            },
            "type": "scattermapbox"
           }
          ],
          "scatterpolar": [
           {
            "marker": {
             "colorbar": {
              "outlinewidth": 0,
              "ticks": ""
             }
            },
            "type": "scatterpolar"
           }
          ],
          "scatterpolargl": [
           {
            "marker": {
             "colorbar": {
              "outlinewidth": 0,
              "ticks": ""
             }
            },
            "type": "scatterpolargl"
           }
          ],
          "scatterternary": [
           {
            "marker": {
             "colorbar": {
              "outlinewidth": 0,
              "ticks": ""
             }
            },
            "type": "scatterternary"
           }
          ],
          "surface": [
           {
            "colorbar": {
             "outlinewidth": 0,
             "ticks": ""
            },
            "colorscale": [
             [
              0,
              "#0d0887"
             ],
             [
              0.1111111111111111,
              "#46039f"
             ],
             [
              0.2222222222222222,
              "#7201a8"
             ],
             [
              0.3333333333333333,
              "#9c179e"
             ],
             [
              0.4444444444444444,
              "#bd3786"
             ],
             [
              0.5555555555555556,
              "#d8576b"
             ],
             [
              0.6666666666666666,
              "#ed7953"
             ],
             [
              0.7777777777777778,
              "#fb9f3a"
             ],
             [
              0.8888888888888888,
              "#fdca26"
             ],
             [
              1,
              "#f0f921"
             ]
            ],
            "type": "surface"
           }
          ],
          "table": [
           {
            "cells": {
             "fill": {
              "color": "#EBF0F8"
             },
             "line": {
              "color": "white"
             }
            },
            "header": {
             "fill": {
              "color": "#C8D4E3"
             },
             "line": {
              "color": "white"
             }
            },
            "type": "table"
           }
          ]
         },
         "layout": {
          "annotationdefaults": {
           "arrowcolor": "#2a3f5f",
           "arrowhead": 0,
           "arrowwidth": 1
          },
          "autotypenumbers": "strict",
          "coloraxis": {
           "colorbar": {
            "outlinewidth": 0,
            "ticks": ""
           }
          },
          "colorscale": {
           "diverging": [
            [
             0,
             "#8e0152"
            ],
            [
             0.1,
             "#c51b7d"
            ],
            [
             0.2,
             "#de77ae"
            ],
            [
             0.3,
             "#f1b6da"
            ],
            [
             0.4,
             "#fde0ef"
            ],
            [
             0.5,
             "#f7f7f7"
            ],
            [
             0.6,
             "#e6f5d0"
            ],
            [
             0.7,
             "#b8e186"
            ],
            [
             0.8,
             "#7fbc41"
            ],
            [
             0.9,
             "#4d9221"
            ],
            [
             1,
             "#276419"
            ]
           ],
           "sequential": [
            [
             0,
             "#0d0887"
            ],
            [
             0.1111111111111111,
             "#46039f"
            ],
            [
             0.2222222222222222,
             "#7201a8"
            ],
            [
             0.3333333333333333,
             "#9c179e"
            ],
            [
             0.4444444444444444,
             "#bd3786"
            ],
            [
             0.5555555555555556,
             "#d8576b"
            ],
            [
             0.6666666666666666,
             "#ed7953"
            ],
            [
             0.7777777777777778,
             "#fb9f3a"
            ],
            [
             0.8888888888888888,
             "#fdca26"
            ],
            [
             1,
             "#f0f921"
            ]
           ],
           "sequentialminus": [
            [
             0,
             "#0d0887"
            ],
            [
             0.1111111111111111,
             "#46039f"
            ],
            [
             0.2222222222222222,
             "#7201a8"
            ],
            [
             0.3333333333333333,
             "#9c179e"
            ],
            [
             0.4444444444444444,
             "#bd3786"
            ],
            [
             0.5555555555555556,
             "#d8576b"
            ],
            [
             0.6666666666666666,
             "#ed7953"
            ],
            [
             0.7777777777777778,
             "#fb9f3a"
            ],
            [
             0.8888888888888888,
             "#fdca26"
            ],
            [
             1,
             "#f0f921"
            ]
           ]
          },
          "colorway": [
           "#636efa",
           "#EF553B",
           "#00cc96",
           "#ab63fa",
           "#FFA15A",
           "#19d3f3",
           "#FF6692",
           "#B6E880",
           "#FF97FF",
           "#FECB52"
          ],
          "font": {
           "color": "#2a3f5f"
          },
          "geo": {
           "bgcolor": "white",
           "lakecolor": "white",
           "landcolor": "#E5ECF6",
           "showlakes": true,
           "showland": true,
           "subunitcolor": "white"
          },
          "hoverlabel": {
           "align": "left"
          },
          "hovermode": "closest",
          "mapbox": {
           "style": "light"
          },
          "paper_bgcolor": "white",
          "plot_bgcolor": "#E5ECF6",
          "polar": {
           "angularaxis": {
            "gridcolor": "white",
            "linecolor": "white",
            "ticks": ""
           },
           "bgcolor": "#E5ECF6",
           "radialaxis": {
            "gridcolor": "white",
            "linecolor": "white",
            "ticks": ""
           }
          },
          "scene": {
           "xaxis": {
            "backgroundcolor": "#E5ECF6",
            "gridcolor": "white",
            "gridwidth": 2,
            "linecolor": "white",
            "showbackground": true,
            "ticks": "",
            "zerolinecolor": "white"
           },
           "yaxis": {
            "backgroundcolor": "#E5ECF6",
            "gridcolor": "white",
            "gridwidth": 2,
            "linecolor": "white",
            "showbackground": true,
            "ticks": "",
            "zerolinecolor": "white"
           },
           "zaxis": {
            "backgroundcolor": "#E5ECF6",
            "gridcolor": "white",
            "gridwidth": 2,
            "linecolor": "white",
            "showbackground": true,
            "ticks": "",
            "zerolinecolor": "white"
           }
          },
          "shapedefaults": {
           "line": {
            "color": "#2a3f5f"
           }
          },
          "ternary": {
           "aaxis": {
            "gridcolor": "white",
            "linecolor": "white",
            "ticks": ""
           },
           "baxis": {
            "gridcolor": "white",
            "linecolor": "white",
            "ticks": ""
           },
           "bgcolor": "#E5ECF6",
           "caxis": {
            "gridcolor": "white",
            "linecolor": "white",
            "ticks": ""
           }
          },
          "title": {
           "x": 0.05
          },
          "xaxis": {
           "automargin": true,
           "gridcolor": "white",
           "linecolor": "white",
           "ticks": "",
           "title": {
            "standoff": 15
           },
           "zerolinecolor": "white",
           "zerolinewidth": 2
          },
          "yaxis": {
           "automargin": true,
           "gridcolor": "white",
           "linecolor": "white",
           "ticks": "",
           "title": {
            "standoff": 15
           },
           "zerolinecolor": "white",
           "zerolinewidth": 2
          }
         }
        },
        "title": {
         "font": {
          "size": 25
         },
         "text": "Fraction of Total Funding By LGA Status Between 2019 and 2023",
         "x": 0.5
        },
        "width": 1000
       }
      }
     },
     "metadata": {},
     "output_type": "display_data"
    }
   ],
   "source": [
    "# produce pi chart from existing data\n",
    "part_b_pi = px.pie(cleaned_df.reset_index(), \n",
    "                   values=\"Contractual Commitment ($ GST excl.)\", \n",
    "                   names=\"LGA Status\",\n",
    "                   title = \"Fraction of Total Funding By LGA Status Between 2019 and 2023\")\n",
    "part_b_pi.update_layout(\n",
    "    title_font_size=25,\n",
    "    title_x=0.5,\n",
    "    legend_title_font_size=15,\n",
    "    height=400,\n",
    "    width = 1000\n",
    ")\n",
    "\n",
    "part_b_pi.show(align=\"center\")"
   ]
  },
  {
   "cell_type": "markdown",
   "id": "43e8950b-1ca0-4d1f-b3b8-e6503187fa86",
   "metadata": {},
   "source": [
    "## **Insight 1**\n",
    "\n",
    "> What proportion of funding has Advance Queensland allocated to city and regional recipients over recent years? Has this been fairly distribuited?\n",
    "\n",
    "The investigation has shown Advance Queensland has invested substantially more total funding to recipients within cities when compared to regional councils (Approximately quadruple). It must be noted though that the analysis so far has taken quite a high level view of the funding distribuition for the entire Advance Queensland initiative and has not taken into account the purpose of individual programs, population size, or that there appear to be significant outliers that may have been driven by external factors. It is not appropriate to draw any newsworthy conclusions on the investigation so far, so **we will need to refine the analysis to normalise for the population size to judge if the distribuition is fair**.\n",
    "\n",
    "\n",
    "Additionally it would be very unusual to see such large standard deviations compared to the mean in homogenuous groups, but with so many different programs being funded by Advance Australia it is not too surprising. Considering that grants cannot be negative and the relative size of the standard deviation compared to the mean, it can be infered that there are some very large outliers in grant size for both groups. This gives rise to a new question for later analysis:\n",
    "\n",
    "*What outlier grants exist and how much do they impact the funding allocations for city and regional recipients?*\n",
    "\n",
    "\n",
    "\n"
   ]
  },
  {
   "cell_type": "markdown",
   "id": "b9c19002-48c9-473b-bca5-2e1aa24e23c8",
   "metadata": {},
   "source": [
    "## **Data 1b**\n",
    "\n",
    "*Note that this is a continuation of Question 1*\n",
    "\n",
    "Additional data about regional and city population sizes required to proceed with the intended analysis, however it appears that the [Estimated resident populations](https://www.qgso.qld.gov.au/issues/5496/estimated-resident-population-lga-qld-2001-2023p.csv) available from the [Queensland Government Statistician's Office page](https://www.qgso.qld.gov.au/statistics/theme/population/population-estimates/regions#current-release-estimated-resident-population) has been configured to prevent automated downloading. (The link also shows as broken on the Queensland Government Open Data Portal which has been taken as confirmation that there is likely some sort of anti-scraping measure in place).\n",
    "\n",
    "For the purposes of continuing the investigation this data has been manually downloaded and transformed to sum the annual population totals for regional and city LGAs:"
   ]
  },
  {
   "cell_type": "code",
   "execution_count": 24,
   "id": "40876f4d-380b-4583-9ff2-26a063065753",
   "metadata": {},
   "outputs": [
    {
     "data": {
      "text/html": [
       "<div>\n",
       "<style scoped>\n",
       "    .dataframe tbody tr th:only-of-type {\n",
       "        vertical-align: middle;\n",
       "    }\n",
       "\n",
       "    .dataframe tbody tr th {\n",
       "        vertical-align: top;\n",
       "    }\n",
       "\n",
       "    .dataframe thead th {\n",
       "        text-align: right;\n",
       "    }\n",
       "</style>\n",
       "<table border=\"1\" class=\"dataframe\">\n",
       "  <thead>\n",
       "    <tr style=\"text-align: right;\">\n",
       "      <th></th>\n",
       "      <th>City LGA Population</th>\n",
       "      <th>Regional Councils LGA Population</th>\n",
       "    </tr>\n",
       "    <tr>\n",
       "      <th>Year</th>\n",
       "      <th></th>\n",
       "      <th></th>\n",
       "    </tr>\n",
       "  </thead>\n",
       "  <tbody>\n",
       "    <tr>\n",
       "      <th>2019</th>\n",
       "      <td>3256513</td>\n",
       "      <td>1608265</td>\n",
       "    </tr>\n",
       "    <tr>\n",
       "      <th>2020</th>\n",
       "      <td>3311475</td>\n",
       "      <td>1628719</td>\n",
       "    </tr>\n",
       "    <tr>\n",
       "      <th>2021</th>\n",
       "      <td>3341289</td>\n",
       "      <td>1647929</td>\n",
       "    </tr>\n",
       "    <tr>\n",
       "      <th>2022</th>\n",
       "      <td>3413990</td>\n",
       "      <td>1677941</td>\n",
       "    </tr>\n",
       "    <tr>\n",
       "      <th>2023</th>\n",
       "      <td>3515461</td>\n",
       "      <td>1712553</td>\n",
       "    </tr>\n",
       "  </tbody>\n",
       "</table>\n",
       "</div>"
      ],
      "text/plain": [
       "      City LGA Population  Regional Councils LGA Population\n",
       "Year                                                       \n",
       "2019              3256513                           1608265\n",
       "2020              3311475                           1628719\n",
       "2021              3341289                           1647929\n",
       "2022              3413990                           1677941\n",
       "2023              3515461                           1712553"
      ]
     },
     "execution_count": 24,
     "metadata": {},
     "output_type": "execute_result"
    }
   ],
   "source": [
    "# Output of Excel Sumif\n",
    "pop_df = pd.DataFrame({\"Year\": [2019, 2020, 2021, 2022, 2023], \n",
    "                       \"City LGA Population\": [3256513, 3311475, 3341289, 3413990, 3515461], \n",
    "                       \"Regional Councils LGA Population\": [1608265,1628719,1647929,1677941,1712553]})\n",
    "\n",
    "pop_df.set_index(\"Year\")"
   ]
  },
  {
   "cell_type": "markdown",
   "id": "b8094bf6-86e0-464b-ba13-56734b58915b",
   "metadata": {},
   "source": [
    "## **Analysis 1b**\n",
    "\n",
    "As the population data is representative of the entire regional and city populations **it is only appropriate to normalise the grants when aggegated to the same groups.** This normalising cannot be used when looking at outliers or individual programs.\n",
    "\n",
    "To ensure this alignment the grants need to be aggregated to the total funding by year and LGA status and then merged with the population numbers so that the funding per person can be calculated"
   ]
  },
  {
   "cell_type": "code",
   "execution_count": 25,
   "id": "022c76c2-d5e0-44f5-9457-f60df96c8e47",
   "metadata": {},
   "outputs": [
    {
     "data": {
      "text/html": [
       "<div>\n",
       "<style scoped>\n",
       "    .dataframe tbody tr th:only-of-type {\n",
       "        vertical-align: middle;\n",
       "    }\n",
       "\n",
       "    .dataframe tbody tr th {\n",
       "        vertical-align: top;\n",
       "    }\n",
       "\n",
       "    .dataframe thead th {\n",
       "        text-align: right;\n",
       "    }\n",
       "</style>\n",
       "<table border=\"1\" class=\"dataframe\">\n",
       "  <thead>\n",
       "    <tr style=\"text-align: right;\">\n",
       "      <th></th>\n",
       "      <th>City Recipient Funding Per Capita</th>\n",
       "      <th>Regional Recipient Funding Per Capita</th>\n",
       "    </tr>\n",
       "    <tr>\n",
       "      <th>Approval Year</th>\n",
       "      <th></th>\n",
       "      <th></th>\n",
       "    </tr>\n",
       "  </thead>\n",
       "  <tbody>\n",
       "    <tr>\n",
       "      <th>2019</th>\n",
       "      <td>5.13</td>\n",
       "      <td>3.34</td>\n",
       "    </tr>\n",
       "    <tr>\n",
       "      <th>2020</th>\n",
       "      <td>7.27</td>\n",
       "      <td>3.04</td>\n",
       "    </tr>\n",
       "    <tr>\n",
       "      <th>2021</th>\n",
       "      <td>1.64</td>\n",
       "      <td>1.57</td>\n",
       "    </tr>\n",
       "    <tr>\n",
       "      <th>2022</th>\n",
       "      <td>2.30</td>\n",
       "      <td>1.00</td>\n",
       "    </tr>\n",
       "    <tr>\n",
       "      <th>2023</th>\n",
       "      <td>1.88</td>\n",
       "      <td>0.86</td>\n",
       "    </tr>\n",
       "  </tbody>\n",
       "</table>\n",
       "</div>"
      ],
      "text/plain": [
       "               City Recipient Funding Per Capita  \\\n",
       "Approval Year                                      \n",
       "2019                                        5.13   \n",
       "2020                                        7.27   \n",
       "2021                                        1.64   \n",
       "2022                                        2.30   \n",
       "2023                                        1.88   \n",
       "\n",
       "               Regional Recipient Funding Per Capita  \n",
       "Approval Year                                         \n",
       "2019                                            3.34  \n",
       "2020                                            3.04  \n",
       "2021                                            1.57  \n",
       "2022                                            1.00  \n",
       "2023                                            0.86  "
      ]
     },
     "execution_count": 25,
     "metadata": {},
     "output_type": "execute_result"
    }
   ],
   "source": [
    "# Find total funding sum by year and LGA status\n",
    "yearly_funding_df = cleaned_df.reset_index().groupby([\"LGA Status\", \"Approval Year\"])[\"Contractual Commitment ($ GST excl.)\"].sum().reset_index()\n",
    "#Pivot the data to align layouts\n",
    "yearly_funding_df = yearly_funding_df.pivot(index=\"Approval Year\", columns=\"LGA Status\", values=\"Contractual Commitment ($ GST excl.)\")\n",
    "\n",
    "# Merge the Dfs and normalise the funding by population\n",
    "normalised_df = pd.merge(yearly_funding_df.reset_index(), pop_df, left_index=True,right_index=True)\n",
    "normalised_df[\"City Recipient Funding Per Capita\"] = round(normalised_df.loc[:, \"Cities\"]/normalised_df.loc[:, \"City LGA Population\"],2)\n",
    "normalised_df[\"Regional Recipient Funding Per Capita\"] = round(normalised_df.loc[:, \"Regional Councils\"]/normalised_df.loc[:, \"Regional Councils LGA Population\"],2)\n",
    "#normalised_df = normalised_df[[\"Approval Year\", \"City Recipient Funding Per Capita\", \"Regional Recipient Funding Per Capita\"]]\n",
    "normalised_df[[\"Approval Year\", \"City Recipient Funding Per Capita\", \"Regional Recipient Funding Per Capita\"]].set_index(\"Approval Year\")"
   ]
  },
  {
   "cell_type": "markdown",
   "id": "8f5c4804-5ad5-416d-aebb-751bf650d909",
   "metadata": {},
   "source": [
    "This table represents the total per capita funding ($/person) that the Advance Queensland allocated across all programs. Now that the data is normalised it is much more acceptable to perform comparisons across the regional and city recipient funding allocations."
   ]
  },
  {
   "cell_type": "markdown",
   "id": "bfde3a5e-0515-4adb-8ca5-61b4ff0e0be2",
   "metadata": {},
   "source": [
    "## **Visualisation 1b**\n",
    "Display the above results using a bar chart to give a more intuitive view of how the per capita funding is changing over time for the groups."
   ]
  },
  {
   "cell_type": "code",
   "execution_count": 26,
   "id": "4902ecf8-cdb7-4266-a7e5-f8bbc6da4cf2",
   "metadata": {},
   "outputs": [
    {
     "data": {
      "application/vnd.plotly.v1+json": {
       "config": {
        "plotlyServerURL": "https://plot.ly"
       },
       "data": [
        {
         "alignmentgroup": "True",
         "hovertemplate": "LGA Status=Cities<br>Approval Year=%{x}<br>Funding ($)=%{y}<extra></extra>",
         "legendgroup": "Cities",
         "marker": {
          "color": "#636efa",
          "pattern": {
           "shape": ""
          }
         },
         "name": "Cities",
         "offsetgroup": "Cities",
         "orientation": "v",
         "showlegend": true,
         "textposition": "auto",
         "type": "bar",
         "x": [
          2019,
          2020,
          2021,
          2022,
          2023
         ],
         "xaxis": "x",
         "y": [
          16714388,
          24058600,
          5493685,
          7860659,
          6600316
         ],
         "yaxis": "y"
        },
        {
         "alignmentgroup": "True",
         "hovertemplate": "LGA Status=Regional Councils<br>Approval Year=%{x}<br>Funding ($)=%{y}<extra></extra>",
         "legendgroup": "Regional Councils",
         "marker": {
          "color": "#EF553B",
          "pattern": {
           "shape": ""
          }
         },
         "name": "Regional Councils",
         "offsetgroup": "Regional Councils",
         "orientation": "v",
         "showlegend": true,
         "textposition": "auto",
         "type": "bar",
         "x": [
          2019,
          2020,
          2021,
          2022,
          2023
         ],
         "xaxis": "x",
         "y": [
          5371373,
          4954810,
          2585724,
          1674426,
          1473554
         ],
         "yaxis": "y"
        }
       ],
       "layout": {
        "barmode": "group",
        "height": 500,
        "legend": {
         "title": {
          "font": {
           "size": 15
          },
          "text": "LGA Status"
         },
         "tracegroupgap": 0
        },
        "template": {
         "data": {
          "bar": [
           {
            "error_x": {
             "color": "#2a3f5f"
            },
            "error_y": {
             "color": "#2a3f5f"
            },
            "marker": {
             "line": {
              "color": "#E5ECF6",
              "width": 0.5
             },
             "pattern": {
              "fillmode": "overlay",
              "size": 10,
              "solidity": 0.2
             }
            },
            "type": "bar"
           }
          ],
          "barpolar": [
           {
            "marker": {
             "line": {
              "color": "#E5ECF6",
              "width": 0.5
             },
             "pattern": {
              "fillmode": "overlay",
              "size": 10,
              "solidity": 0.2
             }
            },
            "type": "barpolar"
           }
          ],
          "carpet": [
           {
            "aaxis": {
             "endlinecolor": "#2a3f5f",
             "gridcolor": "white",
             "linecolor": "white",
             "minorgridcolor": "white",
             "startlinecolor": "#2a3f5f"
            },
            "baxis": {
             "endlinecolor": "#2a3f5f",
             "gridcolor": "white",
             "linecolor": "white",
             "minorgridcolor": "white",
             "startlinecolor": "#2a3f5f"
            },
            "type": "carpet"
           }
          ],
          "choropleth": [
           {
            "colorbar": {
             "outlinewidth": 0,
             "ticks": ""
            },
            "type": "choropleth"
           }
          ],
          "contour": [
           {
            "colorbar": {
             "outlinewidth": 0,
             "ticks": ""
            },
            "colorscale": [
             [
              0,
              "#0d0887"
             ],
             [
              0.1111111111111111,
              "#46039f"
             ],
             [
              0.2222222222222222,
              "#7201a8"
             ],
             [
              0.3333333333333333,
              "#9c179e"
             ],
             [
              0.4444444444444444,
              "#bd3786"
             ],
             [
              0.5555555555555556,
              "#d8576b"
             ],
             [
              0.6666666666666666,
              "#ed7953"
             ],
             [
              0.7777777777777778,
              "#fb9f3a"
             ],
             [
              0.8888888888888888,
              "#fdca26"
             ],
             [
              1,
              "#f0f921"
             ]
            ],
            "type": "contour"
           }
          ],
          "contourcarpet": [
           {
            "colorbar": {
             "outlinewidth": 0,
             "ticks": ""
            },
            "type": "contourcarpet"
           }
          ],
          "heatmap": [
           {
            "colorbar": {
             "outlinewidth": 0,
             "ticks": ""
            },
            "colorscale": [
             [
              0,
              "#0d0887"
             ],
             [
              0.1111111111111111,
              "#46039f"
             ],
             [
              0.2222222222222222,
              "#7201a8"
             ],
             [
              0.3333333333333333,
              "#9c179e"
             ],
             [
              0.4444444444444444,
              "#bd3786"
             ],
             [
              0.5555555555555556,
              "#d8576b"
             ],
             [
              0.6666666666666666,
              "#ed7953"
             ],
             [
              0.7777777777777778,
              "#fb9f3a"
             ],
             [
              0.8888888888888888,
              "#fdca26"
             ],
             [
              1,
              "#f0f921"
             ]
            ],
            "type": "heatmap"
           }
          ],
          "heatmapgl": [
           {
            "colorbar": {
             "outlinewidth": 0,
             "ticks": ""
            },
            "colorscale": [
             [
              0,
              "#0d0887"
             ],
             [
              0.1111111111111111,
              "#46039f"
             ],
             [
              0.2222222222222222,
              "#7201a8"
             ],
             [
              0.3333333333333333,
              "#9c179e"
             ],
             [
              0.4444444444444444,
              "#bd3786"
             ],
             [
              0.5555555555555556,
              "#d8576b"
             ],
             [
              0.6666666666666666,
              "#ed7953"
             ],
             [
              0.7777777777777778,
              "#fb9f3a"
             ],
             [
              0.8888888888888888,
              "#fdca26"
             ],
             [
              1,
              "#f0f921"
             ]
            ],
            "type": "heatmapgl"
           }
          ],
          "histogram": [
           {
            "marker": {
             "pattern": {
              "fillmode": "overlay",
              "size": 10,
              "solidity": 0.2
             }
            },
            "type": "histogram"
           }
          ],
          "histogram2d": [
           {
            "colorbar": {
             "outlinewidth": 0,
             "ticks": ""
            },
            "colorscale": [
             [
              0,
              "#0d0887"
             ],
             [
              0.1111111111111111,
              "#46039f"
             ],
             [
              0.2222222222222222,
              "#7201a8"
             ],
             [
              0.3333333333333333,
              "#9c179e"
             ],
             [
              0.4444444444444444,
              "#bd3786"
             ],
             [
              0.5555555555555556,
              "#d8576b"
             ],
             [
              0.6666666666666666,
              "#ed7953"
             ],
             [
              0.7777777777777778,
              "#fb9f3a"
             ],
             [
              0.8888888888888888,
              "#fdca26"
             ],
             [
              1,
              "#f0f921"
             ]
            ],
            "type": "histogram2d"
           }
          ],
          "histogram2dcontour": [
           {
            "colorbar": {
             "outlinewidth": 0,
             "ticks": ""
            },
            "colorscale": [
             [
              0,
              "#0d0887"
             ],
             [
              0.1111111111111111,
              "#46039f"
             ],
             [
              0.2222222222222222,
              "#7201a8"
             ],
             [
              0.3333333333333333,
              "#9c179e"
             ],
             [
              0.4444444444444444,
              "#bd3786"
             ],
             [
              0.5555555555555556,
              "#d8576b"
             ],
             [
              0.6666666666666666,
              "#ed7953"
             ],
             [
              0.7777777777777778,
              "#fb9f3a"
             ],
             [
              0.8888888888888888,
              "#fdca26"
             ],
             [
              1,
              "#f0f921"
             ]
            ],
            "type": "histogram2dcontour"
           }
          ],
          "mesh3d": [
           {
            "colorbar": {
             "outlinewidth": 0,
             "ticks": ""
            },
            "type": "mesh3d"
           }
          ],
          "parcoords": [
           {
            "line": {
             "colorbar": {
              "outlinewidth": 0,
              "ticks": ""
             }
            },
            "type": "parcoords"
           }
          ],
          "pie": [
           {
            "automargin": true,
            "type": "pie"
           }
          ],
          "scatter": [
           {
            "fillpattern": {
             "fillmode": "overlay",
             "size": 10,
             "solidity": 0.2
            },
            "type": "scatter"
           }
          ],
          "scatter3d": [
           {
            "line": {
             "colorbar": {
              "outlinewidth": 0,
              "ticks": ""
             }
            },
            "marker": {
             "colorbar": {
              "outlinewidth": 0,
              "ticks": ""
             }
            },
            "type": "scatter3d"
           }
          ],
          "scattercarpet": [
           {
            "marker": {
             "colorbar": {
              "outlinewidth": 0,
              "ticks": ""
             }
            },
            "type": "scattercarpet"
           }
          ],
          "scattergeo": [
           {
            "marker": {
             "colorbar": {
              "outlinewidth": 0,
              "ticks": ""
             }
            },
            "type": "scattergeo"
           }
          ],
          "scattergl": [
           {
            "marker": {
             "colorbar": {
              "outlinewidth": 0,
              "ticks": ""
             }
            },
            "type": "scattergl"
           }
          ],
          "scattermapbox": [
           {
            "marker": {
             "colorbar": {
              "outlinewidth": 0,
              "ticks": ""
             }
            },
            "type": "scattermapbox"
           }
          ],
          "scatterpolar": [
           {
            "marker": {
             "colorbar": {
              "outlinewidth": 0,
              "ticks": ""
             }
            },
            "type": "scatterpolar"
           }
          ],
          "scatterpolargl": [
           {
            "marker": {
             "colorbar": {
              "outlinewidth": 0,
              "ticks": ""
             }
            },
            "type": "scatterpolargl"
           }
          ],
          "scatterternary": [
           {
            "marker": {
             "colorbar": {
              "outlinewidth": 0,
              "ticks": ""
             }
            },
            "type": "scatterternary"
           }
          ],
          "surface": [
           {
            "colorbar": {
             "outlinewidth": 0,
             "ticks": ""
            },
            "colorscale": [
             [
              0,
              "#0d0887"
             ],
             [
              0.1111111111111111,
              "#46039f"
             ],
             [
              0.2222222222222222,
              "#7201a8"
             ],
             [
              0.3333333333333333,
              "#9c179e"
             ],
             [
              0.4444444444444444,
              "#bd3786"
             ],
             [
              0.5555555555555556,
              "#d8576b"
             ],
             [
              0.6666666666666666,
              "#ed7953"
             ],
             [
              0.7777777777777778,
              "#fb9f3a"
             ],
             [
              0.8888888888888888,
              "#fdca26"
             ],
             [
              1,
              "#f0f921"
             ]
            ],
            "type": "surface"
           }
          ],
          "table": [
           {
            "cells": {
             "fill": {
              "color": "#EBF0F8"
             },
             "line": {
              "color": "white"
             }
            },
            "header": {
             "fill": {
              "color": "#C8D4E3"
             },
             "line": {
              "color": "white"
             }
            },
            "type": "table"
           }
          ]
         },
         "layout": {
          "annotationdefaults": {
           "arrowcolor": "#2a3f5f",
           "arrowhead": 0,
           "arrowwidth": 1
          },
          "autotypenumbers": "strict",
          "coloraxis": {
           "colorbar": {
            "outlinewidth": 0,
            "ticks": ""
           }
          },
          "colorscale": {
           "diverging": [
            [
             0,
             "#8e0152"
            ],
            [
             0.1,
             "#c51b7d"
            ],
            [
             0.2,
             "#de77ae"
            ],
            [
             0.3,
             "#f1b6da"
            ],
            [
             0.4,
             "#fde0ef"
            ],
            [
             0.5,
             "#f7f7f7"
            ],
            [
             0.6,
             "#e6f5d0"
            ],
            [
             0.7,
             "#b8e186"
            ],
            [
             0.8,
             "#7fbc41"
            ],
            [
             0.9,
             "#4d9221"
            ],
            [
             1,
             "#276419"
            ]
           ],
           "sequential": [
            [
             0,
             "#0d0887"
            ],
            [
             0.1111111111111111,
             "#46039f"
            ],
            [
             0.2222222222222222,
             "#7201a8"
            ],
            [
             0.3333333333333333,
             "#9c179e"
            ],
            [
             0.4444444444444444,
             "#bd3786"
            ],
            [
             0.5555555555555556,
             "#d8576b"
            ],
            [
             0.6666666666666666,
             "#ed7953"
            ],
            [
             0.7777777777777778,
             "#fb9f3a"
            ],
            [
             0.8888888888888888,
             "#fdca26"
            ],
            [
             1,
             "#f0f921"
            ]
           ],
           "sequentialminus": [
            [
             0,
             "#0d0887"
            ],
            [
             0.1111111111111111,
             "#46039f"
            ],
            [
             0.2222222222222222,
             "#7201a8"
            ],
            [
             0.3333333333333333,
             "#9c179e"
            ],
            [
             0.4444444444444444,
             "#bd3786"
            ],
            [
             0.5555555555555556,
             "#d8576b"
            ],
            [
             0.6666666666666666,
             "#ed7953"
            ],
            [
             0.7777777777777778,
             "#fb9f3a"
            ],
            [
             0.8888888888888888,
             "#fdca26"
            ],
            [
             1,
             "#f0f921"
            ]
           ]
          },
          "colorway": [
           "#636efa",
           "#EF553B",
           "#00cc96",
           "#ab63fa",
           "#FFA15A",
           "#19d3f3",
           "#FF6692",
           "#B6E880",
           "#FF97FF",
           "#FECB52"
          ],
          "font": {
           "color": "#2a3f5f"
          },
          "geo": {
           "bgcolor": "white",
           "lakecolor": "white",
           "landcolor": "#E5ECF6",
           "showlakes": true,
           "showland": true,
           "subunitcolor": "white"
          },
          "hoverlabel": {
           "align": "left"
          },
          "hovermode": "closest",
          "mapbox": {
           "style": "light"
          },
          "paper_bgcolor": "white",
          "plot_bgcolor": "#E5ECF6",
          "polar": {
           "angularaxis": {
            "gridcolor": "white",
            "linecolor": "white",
            "ticks": ""
           },
           "bgcolor": "#E5ECF6",
           "radialaxis": {
            "gridcolor": "white",
            "linecolor": "white",
            "ticks": ""
           }
          },
          "scene": {
           "xaxis": {
            "backgroundcolor": "#E5ECF6",
            "gridcolor": "white",
            "gridwidth": 2,
            "linecolor": "white",
            "showbackground": true,
            "ticks": "",
            "zerolinecolor": "white"
           },
           "yaxis": {
            "backgroundcolor": "#E5ECF6",
            "gridcolor": "white",
            "gridwidth": 2,
            "linecolor": "white",
            "showbackground": true,
            "ticks": "",
            "zerolinecolor": "white"
           },
           "zaxis": {
            "backgroundcolor": "#E5ECF6",
            "gridcolor": "white",
            "gridwidth": 2,
            "linecolor": "white",
            "showbackground": true,
            "ticks": "",
            "zerolinecolor": "white"
           }
          },
          "shapedefaults": {
           "line": {
            "color": "#2a3f5f"
           }
          },
          "ternary": {
           "aaxis": {
            "gridcolor": "white",
            "linecolor": "white",
            "ticks": ""
           },
           "baxis": {
            "gridcolor": "white",
            "linecolor": "white",
            "ticks": ""
           },
           "bgcolor": "#E5ECF6",
           "caxis": {
            "gridcolor": "white",
            "linecolor": "white",
            "ticks": ""
           }
          },
          "title": {
           "x": 0.05
          },
          "xaxis": {
           "automargin": true,
           "gridcolor": "white",
           "linecolor": "white",
           "ticks": "",
           "title": {
            "standoff": 15
           },
           "zerolinecolor": "white",
           "zerolinewidth": 2
          },
          "yaxis": {
           "automargin": true,
           "gridcolor": "white",
           "linecolor": "white",
           "ticks": "",
           "title": {
            "standoff": 15
           },
           "zerolinecolor": "white",
           "zerolinewidth": 2
          }
         }
        },
        "title": {
         "font": {
          "size": 25
         },
         "text": "Total Annual Funding by Advance Queensland by LGA Status",
         "x": 0.5
        },
        "xaxis": {
         "anchor": "y",
         "domain": [
          0,
          1
         ],
         "title": {
          "text": "Approval Year"
         }
        },
        "yaxis": {
         "anchor": "x",
         "domain": [
          0,
          1
         ],
         "title": {
          "text": "Funding ($)"
         }
        }
       }
      }
     },
     "metadata": {},
     "output_type": "display_data"
    },
    {
     "data": {
      "application/vnd.plotly.v1+json": {
       "config": {
        "plotlyServerURL": "https://plot.ly"
       },
       "data": [
        {
         "alignmentgroup": "True",
         "hovertemplate": "LGA Status=City Recipient Funding Per Capita<br>Approval Year=%{x}<br>Funding Per Capita ($)=%{y}<extra></extra>",
         "legendgroup": "City Recipient Funding Per Capita",
         "marker": {
          "color": "#636efa",
          "pattern": {
           "shape": ""
          }
         },
         "name": "City Recipient Funding Per Capita",
         "offsetgroup": "City Recipient Funding Per Capita",
         "orientation": "v",
         "showlegend": true,
         "textposition": "auto",
         "type": "bar",
         "x": [
          2019,
          2020,
          2021,
          2022,
          2023
         ],
         "xaxis": "x",
         "y": [
          5.13,
          7.27,
          1.64,
          2.3,
          1.88
         ],
         "yaxis": "y"
        },
        {
         "alignmentgroup": "True",
         "hovertemplate": "LGA Status=Regional Recipient Funding Per Capita<br>Approval Year=%{x}<br>Funding Per Capita ($)=%{y}<extra></extra>",
         "legendgroup": "Regional Recipient Funding Per Capita",
         "marker": {
          "color": "#EF553B",
          "pattern": {
           "shape": ""
          }
         },
         "name": "Regional Recipient Funding Per Capita",
         "offsetgroup": "Regional Recipient Funding Per Capita",
         "orientation": "v",
         "showlegend": true,
         "textposition": "auto",
         "type": "bar",
         "x": [
          2019,
          2020,
          2021,
          2022,
          2023
         ],
         "xaxis": "x",
         "y": [
          3.34,
          3.04,
          1.57,
          1,
          0.86
         ],
         "yaxis": "y"
        }
       ],
       "layout": {
        "barmode": "group",
        "height": 500,
        "legend": {
         "title": {
          "font": {
           "size": 15
          },
          "text": "LGA Status"
         },
         "tracegroupgap": 0
        },
        "template": {
         "data": {
          "bar": [
           {
            "error_x": {
             "color": "#2a3f5f"
            },
            "error_y": {
             "color": "#2a3f5f"
            },
            "marker": {
             "line": {
              "color": "#E5ECF6",
              "width": 0.5
             },
             "pattern": {
              "fillmode": "overlay",
              "size": 10,
              "solidity": 0.2
             }
            },
            "type": "bar"
           }
          ],
          "barpolar": [
           {
            "marker": {
             "line": {
              "color": "#E5ECF6",
              "width": 0.5
             },
             "pattern": {
              "fillmode": "overlay",
              "size": 10,
              "solidity": 0.2
             }
            },
            "type": "barpolar"
           }
          ],
          "carpet": [
           {
            "aaxis": {
             "endlinecolor": "#2a3f5f",
             "gridcolor": "white",
             "linecolor": "white",
             "minorgridcolor": "white",
             "startlinecolor": "#2a3f5f"
            },
            "baxis": {
             "endlinecolor": "#2a3f5f",
             "gridcolor": "white",
             "linecolor": "white",
             "minorgridcolor": "white",
             "startlinecolor": "#2a3f5f"
            },
            "type": "carpet"
           }
          ],
          "choropleth": [
           {
            "colorbar": {
             "outlinewidth": 0,
             "ticks": ""
            },
            "type": "choropleth"
           }
          ],
          "contour": [
           {
            "colorbar": {
             "outlinewidth": 0,
             "ticks": ""
            },
            "colorscale": [
             [
              0,
              "#0d0887"
             ],
             [
              0.1111111111111111,
              "#46039f"
             ],
             [
              0.2222222222222222,
              "#7201a8"
             ],
             [
              0.3333333333333333,
              "#9c179e"
             ],
             [
              0.4444444444444444,
              "#bd3786"
             ],
             [
              0.5555555555555556,
              "#d8576b"
             ],
             [
              0.6666666666666666,
              "#ed7953"
             ],
             [
              0.7777777777777778,
              "#fb9f3a"
             ],
             [
              0.8888888888888888,
              "#fdca26"
             ],
             [
              1,
              "#f0f921"
             ]
            ],
            "type": "contour"
           }
          ],
          "contourcarpet": [
           {
            "colorbar": {
             "outlinewidth": 0,
             "ticks": ""
            },
            "type": "contourcarpet"
           }
          ],
          "heatmap": [
           {
            "colorbar": {
             "outlinewidth": 0,
             "ticks": ""
            },
            "colorscale": [
             [
              0,
              "#0d0887"
             ],
             [
              0.1111111111111111,
              "#46039f"
             ],
             [
              0.2222222222222222,
              "#7201a8"
             ],
             [
              0.3333333333333333,
              "#9c179e"
             ],
             [
              0.4444444444444444,
              "#bd3786"
             ],
             [
              0.5555555555555556,
              "#d8576b"
             ],
             [
              0.6666666666666666,
              "#ed7953"
             ],
             [
              0.7777777777777778,
              "#fb9f3a"
             ],
             [
              0.8888888888888888,
              "#fdca26"
             ],
             [
              1,
              "#f0f921"
             ]
            ],
            "type": "heatmap"
           }
          ],
          "heatmapgl": [
           {
            "colorbar": {
             "outlinewidth": 0,
             "ticks": ""
            },
            "colorscale": [
             [
              0,
              "#0d0887"
             ],
             [
              0.1111111111111111,
              "#46039f"
             ],
             [
              0.2222222222222222,
              "#7201a8"
             ],
             [
              0.3333333333333333,
              "#9c179e"
             ],
             [
              0.4444444444444444,
              "#bd3786"
             ],
             [
              0.5555555555555556,
              "#d8576b"
             ],
             [
              0.6666666666666666,
              "#ed7953"
             ],
             [
              0.7777777777777778,
              "#fb9f3a"
             ],
             [
              0.8888888888888888,
              "#fdca26"
             ],
             [
              1,
              "#f0f921"
             ]
            ],
            "type": "heatmapgl"
           }
          ],
          "histogram": [
           {
            "marker": {
             "pattern": {
              "fillmode": "overlay",
              "size": 10,
              "solidity": 0.2
             }
            },
            "type": "histogram"
           }
          ],
          "histogram2d": [
           {
            "colorbar": {
             "outlinewidth": 0,
             "ticks": ""
            },
            "colorscale": [
             [
              0,
              "#0d0887"
             ],
             [
              0.1111111111111111,
              "#46039f"
             ],
             [
              0.2222222222222222,
              "#7201a8"
             ],
             [
              0.3333333333333333,
              "#9c179e"
             ],
             [
              0.4444444444444444,
              "#bd3786"
             ],
             [
              0.5555555555555556,
              "#d8576b"
             ],
             [
              0.6666666666666666,
              "#ed7953"
             ],
             [
              0.7777777777777778,
              "#fb9f3a"
             ],
             [
              0.8888888888888888,
              "#fdca26"
             ],
             [
              1,
              "#f0f921"
             ]
            ],
            "type": "histogram2d"
           }
          ],
          "histogram2dcontour": [
           {
            "colorbar": {
             "outlinewidth": 0,
             "ticks": ""
            },
            "colorscale": [
             [
              0,
              "#0d0887"
             ],
             [
              0.1111111111111111,
              "#46039f"
             ],
             [
              0.2222222222222222,
              "#7201a8"
             ],
             [
              0.3333333333333333,
              "#9c179e"
             ],
             [
              0.4444444444444444,
              "#bd3786"
             ],
             [
              0.5555555555555556,
              "#d8576b"
             ],
             [
              0.6666666666666666,
              "#ed7953"
             ],
             [
              0.7777777777777778,
              "#fb9f3a"
             ],
             [
              0.8888888888888888,
              "#fdca26"
             ],
             [
              1,
              "#f0f921"
             ]
            ],
            "type": "histogram2dcontour"
           }
          ],
          "mesh3d": [
           {
            "colorbar": {
             "outlinewidth": 0,
             "ticks": ""
            },
            "type": "mesh3d"
           }
          ],
          "parcoords": [
           {
            "line": {
             "colorbar": {
              "outlinewidth": 0,
              "ticks": ""
             }
            },
            "type": "parcoords"
           }
          ],
          "pie": [
           {
            "automargin": true,
            "type": "pie"
           }
          ],
          "scatter": [
           {
            "fillpattern": {
             "fillmode": "overlay",
             "size": 10,
             "solidity": 0.2
            },
            "type": "scatter"
           }
          ],
          "scatter3d": [
           {
            "line": {
             "colorbar": {
              "outlinewidth": 0,
              "ticks": ""
             }
            },
            "marker": {
             "colorbar": {
              "outlinewidth": 0,
              "ticks": ""
             }
            },
            "type": "scatter3d"
           }
          ],
          "scattercarpet": [
           {
            "marker": {
             "colorbar": {
              "outlinewidth": 0,
              "ticks": ""
             }
            },
            "type": "scattercarpet"
           }
          ],
          "scattergeo": [
           {
            "marker": {
             "colorbar": {
              "outlinewidth": 0,
              "ticks": ""
             }
            },
            "type": "scattergeo"
           }
          ],
          "scattergl": [
           {
            "marker": {
             "colorbar": {
              "outlinewidth": 0,
              "ticks": ""
             }
            },
            "type": "scattergl"
           }
          ],
          "scattermapbox": [
           {
            "marker": {
             "colorbar": {
              "outlinewidth": 0,
              "ticks": ""
             }
            },
            "type": "scattermapbox"
           }
          ],
          "scatterpolar": [
           {
            "marker": {
             "colorbar": {
              "outlinewidth": 0,
              "ticks": ""
             }
            },
            "type": "scatterpolar"
           }
          ],
          "scatterpolargl": [
           {
            "marker": {
             "colorbar": {
              "outlinewidth": 0,
              "ticks": ""
             }
            },
            "type": "scatterpolargl"
           }
          ],
          "scatterternary": [
           {
            "marker": {
             "colorbar": {
              "outlinewidth": 0,
              "ticks": ""
             }
            },
            "type": "scatterternary"
           }
          ],
          "surface": [
           {
            "colorbar": {
             "outlinewidth": 0,
             "ticks": ""
            },
            "colorscale": [
             [
              0,
              "#0d0887"
             ],
             [
              0.1111111111111111,
              "#46039f"
             ],
             [
              0.2222222222222222,
              "#7201a8"
             ],
             [
              0.3333333333333333,
              "#9c179e"
             ],
             [
              0.4444444444444444,
              "#bd3786"
             ],
             [
              0.5555555555555556,
              "#d8576b"
             ],
             [
              0.6666666666666666,
              "#ed7953"
             ],
             [
              0.7777777777777778,
              "#fb9f3a"
             ],
             [
              0.8888888888888888,
              "#fdca26"
             ],
             [
              1,
              "#f0f921"
             ]
            ],
            "type": "surface"
           }
          ],
          "table": [
           {
            "cells": {
             "fill": {
              "color": "#EBF0F8"
             },
             "line": {
              "color": "white"
             }
            },
            "header": {
             "fill": {
              "color": "#C8D4E3"
             },
             "line": {
              "color": "white"
             }
            },
            "type": "table"
           }
          ]
         },
         "layout": {
          "annotationdefaults": {
           "arrowcolor": "#2a3f5f",
           "arrowhead": 0,
           "arrowwidth": 1
          },
          "autotypenumbers": "strict",
          "coloraxis": {
           "colorbar": {
            "outlinewidth": 0,
            "ticks": ""
           }
          },
          "colorscale": {
           "diverging": [
            [
             0,
             "#8e0152"
            ],
            [
             0.1,
             "#c51b7d"
            ],
            [
             0.2,
             "#de77ae"
            ],
            [
             0.3,
             "#f1b6da"
            ],
            [
             0.4,
             "#fde0ef"
            ],
            [
             0.5,
             "#f7f7f7"
            ],
            [
             0.6,
             "#e6f5d0"
            ],
            [
             0.7,
             "#b8e186"
            ],
            [
             0.8,
             "#7fbc41"
            ],
            [
             0.9,
             "#4d9221"
            ],
            [
             1,
             "#276419"
            ]
           ],
           "sequential": [
            [
             0,
             "#0d0887"
            ],
            [
             0.1111111111111111,
             "#46039f"
            ],
            [
             0.2222222222222222,
             "#7201a8"
            ],
            [
             0.3333333333333333,
             "#9c179e"
            ],
            [
             0.4444444444444444,
             "#bd3786"
            ],
            [
             0.5555555555555556,
             "#d8576b"
            ],
            [
             0.6666666666666666,
             "#ed7953"
            ],
            [
             0.7777777777777778,
             "#fb9f3a"
            ],
            [
             0.8888888888888888,
             "#fdca26"
            ],
            [
             1,
             "#f0f921"
            ]
           ],
           "sequentialminus": [
            [
             0,
             "#0d0887"
            ],
            [
             0.1111111111111111,
             "#46039f"
            ],
            [
             0.2222222222222222,
             "#7201a8"
            ],
            [
             0.3333333333333333,
             "#9c179e"
            ],
            [
             0.4444444444444444,
             "#bd3786"
            ],
            [
             0.5555555555555556,
             "#d8576b"
            ],
            [
             0.6666666666666666,
             "#ed7953"
            ],
            [
             0.7777777777777778,
             "#fb9f3a"
            ],
            [
             0.8888888888888888,
             "#fdca26"
            ],
            [
             1,
             "#f0f921"
            ]
           ]
          },
          "colorway": [
           "#636efa",
           "#EF553B",
           "#00cc96",
           "#ab63fa",
           "#FFA15A",
           "#19d3f3",
           "#FF6692",
           "#B6E880",
           "#FF97FF",
           "#FECB52"
          ],
          "font": {
           "color": "#2a3f5f"
          },
          "geo": {
           "bgcolor": "white",
           "lakecolor": "white",
           "landcolor": "#E5ECF6",
           "showlakes": true,
           "showland": true,
           "subunitcolor": "white"
          },
          "hoverlabel": {
           "align": "left"
          },
          "hovermode": "closest",
          "mapbox": {
           "style": "light"
          },
          "paper_bgcolor": "white",
          "plot_bgcolor": "#E5ECF6",
          "polar": {
           "angularaxis": {
            "gridcolor": "white",
            "linecolor": "white",
            "ticks": ""
           },
           "bgcolor": "#E5ECF6",
           "radialaxis": {
            "gridcolor": "white",
            "linecolor": "white",
            "ticks": ""
           }
          },
          "scene": {
           "xaxis": {
            "backgroundcolor": "#E5ECF6",
            "gridcolor": "white",
            "gridwidth": 2,
            "linecolor": "white",
            "showbackground": true,
            "ticks": "",
            "zerolinecolor": "white"
           },
           "yaxis": {
            "backgroundcolor": "#E5ECF6",
            "gridcolor": "white",
            "gridwidth": 2,
            "linecolor": "white",
            "showbackground": true,
            "ticks": "",
            "zerolinecolor": "white"
           },
           "zaxis": {
            "backgroundcolor": "#E5ECF6",
            "gridcolor": "white",
            "gridwidth": 2,
            "linecolor": "white",
            "showbackground": true,
            "ticks": "",
            "zerolinecolor": "white"
           }
          },
          "shapedefaults": {
           "line": {
            "color": "#2a3f5f"
           }
          },
          "ternary": {
           "aaxis": {
            "gridcolor": "white",
            "linecolor": "white",
            "ticks": ""
           },
           "baxis": {
            "gridcolor": "white",
            "linecolor": "white",
            "ticks": ""
           },
           "bgcolor": "#E5ECF6",
           "caxis": {
            "gridcolor": "white",
            "linecolor": "white",
            "ticks": ""
           }
          },
          "title": {
           "x": 0.05
          },
          "xaxis": {
           "automargin": true,
           "gridcolor": "white",
           "linecolor": "white",
           "ticks": "",
           "title": {
            "standoff": 15
           },
           "zerolinecolor": "white",
           "zerolinewidth": 2
          },
          "yaxis": {
           "automargin": true,
           "gridcolor": "white",
           "linecolor": "white",
           "ticks": "",
           "title": {
            "standoff": 15
           },
           "zerolinecolor": "white",
           "zerolinewidth": 2
          }
         }
        },
        "title": {
         "font": {
          "size": 25
         },
         "text": "Total Annual Funding Per Capita by Advance Queensland by LGA Status",
         "x": 0.5
        },
        "xaxis": {
         "anchor": "y",
         "domain": [
          0,
          1
         ],
         "title": {
          "text": "Approval Year"
         }
        },
        "yaxis": {
         "anchor": "x",
         "domain": [
          0,
          1
         ],
         "title": {
          "text": "Funding Per Capita ($)"
         }
        }
       }
      }
     },
     "metadata": {},
     "output_type": "display_data"
    }
   ],
   "source": [
    "part_b_bar1 = px.bar(pd.melt(normalised_df, id_vars=\"Approval Year\", value_vars = [\"Cities\", \"Regional Councils\"], value_name=\"Funding ($)\"), \n",
    "                       x = \"Approval Year\", \n",
    "                       y=\"Funding ($)\", \n",
    "                       color = \"variable\",\n",
    "                       barmode = \"group\",\n",
    "                       title = \"Total Annual Funding by Advance Queensland by LGA Status\",\n",
    "                       labels={\"variable\": \"LGA Status\"})\n",
    "\n",
    "part_b_bar1.update_layout(\n",
    "    title_font_size=25,\n",
    "    title_x=0.5,\n",
    "    legend_title_font_size=15,\n",
    "    height=500\n",
    ")\n",
    "\n",
    "part_b_bar2 = px.bar(pd.melt(normalised_df, id_vars=\"Approval Year\", value_vars = [\"City Recipient Funding Per Capita\", \"Regional Recipient Funding Per Capita\"], value_name=\"Funding Per Capita ($)\"), \n",
    "                       x = \"Approval Year\", \n",
    "                       y=\"Funding Per Capita ($)\", \n",
    "                       color = \"variable\",\n",
    "                       barmode = \"group\",\n",
    "                       title = \"Total Annual Funding Per Capita by Advance Queensland by LGA Status\",\n",
    "                       labels={\"variable\": \"LGA Status\"})\n",
    "\n",
    "part_b_bar2.update_layout(\n",
    "    title_font_size=25,\n",
    "    title_x=0.5,\n",
    "    legend_title_font_size=15,\n",
    "    height=500\n",
    ")\n",
    "\n",
    "# Ideally I would have liked to have used a facet wrap here to display both as part of the same figure\n",
    "part_b_bar1.show()\n",
    "part_b_bar2.show()"
   ]
  },
  {
   "cell_type": "markdown",
   "id": "fa5f5981-7a02-4578-b240-b92ea23f7d48",
   "metadata": {},
   "source": [
    "## **Insight 1b**\n",
    "> What proportion of funding has Advance Queensland allocated to city and regional recipients over recent years? Has this been fairly distribuited?\n",
    "\n",
    "By following the inital insight that more total funding was indeed given to city recipients, this further analysis has done much to provide informative basis on which to assess the fairness of the funding distribuiton by normalising for population of regional and city areas. Compared to the initial finding that showed nearly four times the funding provided to city recipients over the entire four year period, the normalised total funding in the above chart shows that this is much closer on a per capita basis. Regardless both visualisations show a significant bias towards city recipients in both the Total Annual Funding and Total Annual Funding Per Capita that do seem indicative that that the distribuition may be unfair.\n",
    "\n",
    "However, this approach is still susceptible to outliers and relies upon the assumption that recipients are located in the region that benefit from the grant. In order to evaluate if regional areas are being unfairly descriminated we would need to examine the outliers, have a much more detailed understanding of objectives of each program, and know what benefits each funded project was having.\n",
    "\n",
    "---"
   ]
  },
  {
   "cell_type": "markdown",
   "id": "129c0bd7-82ba-4d59-a4c3-eb17a33e449e",
   "metadata": {},
   "source": [
    "## **Question 2**\n",
    "Referring back to Insight 1 there was some discussion of the large standard deviation compared to the mean and how this indicated the presence of outliers. This led to the following question that will now be investigated:\n",
    "> What outlier grants exist and how much do they impact the funding allocations for city and regional recipients?"
   ]
  },
  {
   "cell_type": "markdown",
   "id": "95cfbeb2-9777-47ac-b44c-514870eea991",
   "metadata": {},
   "source": [
    "## **Data 2**\n",
    "\n",
    "No new source of data required. The same cleaned dataset from Question 1 will suffice. (without normalising to per capita as to investigate outliers individual grant amounts will need investigation.)"
   ]
  },
  {
   "cell_type": "code",
   "execution_count": 27,
   "id": "5494273e-3b79-40a1-9856-bd2b56775be1",
   "metadata": {},
   "outputs": [
    {
     "data": {
      "text/html": [
       "<div>\n",
       "<style scoped>\n",
       "    .dataframe tbody tr th:only-of-type {\n",
       "        vertical-align: middle;\n",
       "    }\n",
       "\n",
       "    .dataframe tbody tr th {\n",
       "        vertical-align: top;\n",
       "    }\n",
       "\n",
       "    .dataframe thead th {\n",
       "        text-align: right;\n",
       "    }\n",
       "</style>\n",
       "<table border=\"1\" class=\"dataframe\">\n",
       "  <thead>\n",
       "    <tr style=\"text-align: right;\">\n",
       "      <th></th>\n",
       "      <th>Program Name</th>\n",
       "      <th>Round</th>\n",
       "      <th>Recipient Name</th>\n",
       "      <th>Physical Address of Recipient - Suburb/Location</th>\n",
       "      <th>Physical Address of Recipient - Post Code</th>\n",
       "      <th>University Collaborator (if applicable)</th>\n",
       "      <th>Other Partners/ Collaborators (if applicable)</th>\n",
       "      <th>Investment/Project Title</th>\n",
       "      <th>Primary Location of Activity/Project - Suburb/Location</th>\n",
       "      <th>Primary Location of Activity/Project - Post Code</th>\n",
       "      <th>Multiple Locations of Activity/Project</th>\n",
       "      <th>Local Government Area (LGA)</th>\n",
       "      <th>RAP Region (based on Project Location)</th>\n",
       "      <th>State Electorate</th>\n",
       "      <th>Contractual Commitment ($ GST excl.)</th>\n",
       "      <th>Approval Date</th>\n",
       "      <th>Approval Year</th>\n",
       "    </tr>\n",
       "    <tr>\n",
       "      <th>LGA Status</th>\n",
       "      <th></th>\n",
       "      <th></th>\n",
       "      <th></th>\n",
       "      <th></th>\n",
       "      <th></th>\n",
       "      <th></th>\n",
       "      <th></th>\n",
       "      <th></th>\n",
       "      <th></th>\n",
       "      <th></th>\n",
       "      <th></th>\n",
       "      <th></th>\n",
       "      <th></th>\n",
       "      <th></th>\n",
       "      <th></th>\n",
       "      <th></th>\n",
       "      <th></th>\n",
       "    </tr>\n",
       "  </thead>\n",
       "  <tbody>\n",
       "    <tr>\n",
       "      <th>Regional Councils</th>\n",
       "      <td>Ignite Ideas Fund</td>\n",
       "      <td>AQ Ignite Ideas Fund 2018-19 Round 5</td>\n",
       "      <td>NexusMyst Pty Ltd</td>\n",
       "      <td>Brendale</td>\n",
       "      <td>4500.0</td>\n",
       "      <td>NaN</td>\n",
       "      <td>NaN</td>\n",
       "      <td>Commercialising NexusMyst for Law enforcement</td>\n",
       "      <td>Brendale</td>\n",
       "      <td>4500.0</td>\n",
       "      <td>Ferny Grove QLD</td>\n",
       "      <td>Moreton Bay (R)</td>\n",
       "      <td>Moreton Bay</td>\n",
       "      <td>Pine Rivers</td>\n",
       "      <td>90000</td>\n",
       "      <td>2019-08-19</td>\n",
       "      <td>2019</td>\n",
       "    </tr>\n",
       "    <tr>\n",
       "      <th>Cities</th>\n",
       "      <td>Regional Startup Hubs Support Program</td>\n",
       "      <td>Regional Startup Hubs Support Program 17-18 Round 1</td>\n",
       "      <td>Gold Coast Innovation Hub Limited</td>\n",
       "      <td>Varsity Lakes</td>\n",
       "      <td>4227.0</td>\n",
       "      <td>NaN</td>\n",
       "      <td>NaN</td>\n",
       "      <td>Gold Coast Regional Administration and Reporting</td>\n",
       "      <td>Varsity Lakes</td>\n",
       "      <td>4227.0</td>\n",
       "      <td>NaN</td>\n",
       "      <td>Gold Coast (C)</td>\n",
       "      <td>Gold Coast</td>\n",
       "      <td>Mermaid Beach</td>\n",
       "      <td>75000</td>\n",
       "      <td>2019-05-21</td>\n",
       "      <td>2019</td>\n",
       "    </tr>\n",
       "    <tr>\n",
       "      <th>Cities</th>\n",
       "      <td>Regional Startup Hubs Support Program</td>\n",
       "      <td>Regional Startup Hubs Support Program 17-18 Round 1</td>\n",
       "      <td>Ipswich City Council</td>\n",
       "      <td>Ipswich</td>\n",
       "      <td>4305.0</td>\n",
       "      <td>NaN</td>\n",
       "      <td>NaN</td>\n",
       "      <td>Make Possible Workshop Series</td>\n",
       "      <td>Ipswich</td>\n",
       "      <td>4305.0</td>\n",
       "      <td>NaN</td>\n",
       "      <td>Ipswich (C)</td>\n",
       "      <td>Ipswich</td>\n",
       "      <td>Ipswich</td>\n",
       "      <td>75000</td>\n",
       "      <td>2019-05-21</td>\n",
       "      <td>2019</td>\n",
       "    </tr>\n",
       "    <tr>\n",
       "      <th>Cities</th>\n",
       "      <td>Regional Startup Hubs Support Program</td>\n",
       "      <td>Regional Startup Hubs Support Program 17-18 Round 1</td>\n",
       "      <td>Logan Startup Hub</td>\n",
       "      <td>Woodridge</td>\n",
       "      <td>4114.0</td>\n",
       "      <td>NaN</td>\n",
       "      <td>NaN</td>\n",
       "      <td>Logan Startup Hub</td>\n",
       "      <td>Woodridge</td>\n",
       "      <td>4114.0</td>\n",
       "      <td>NaN</td>\n",
       "      <td>Logan (C)</td>\n",
       "      <td>Logan</td>\n",
       "      <td>Woodridge</td>\n",
       "      <td>51824</td>\n",
       "      <td>2019-05-21</td>\n",
       "      <td>2019</td>\n",
       "    </tr>\n",
       "    <tr>\n",
       "      <th>Cities</th>\n",
       "      <td>Regional Startup Hubs Support Program</td>\n",
       "      <td>Regional Startup Hubs Support Program 17-18 Round 1</td>\n",
       "      <td>theSPACE Australasia Pty Ltd</td>\n",
       "      <td>Southport</td>\n",
       "      <td>4215.0</td>\n",
       "      <td>NaN</td>\n",
       "      <td>Ignite FNQ \\n Startup Tablelands \\n Crowe Horwath \\n MacDonnells Law \\n FNQ Angels \\n Cairns Regional Council \\n Angel Loop</td>\n",
       "      <td>12 Month Incubation Program &amp; Raising Angel Investment</td>\n",
       "      <td>Southport</td>\n",
       "      <td>4215.0</td>\n",
       "      <td>Online activities, and included Cairns Beaches, Tablelands, Port Douglas, Weipa Town, Wujal Wujal, Cook Shire, Bamaga, Thursday Island, Gulf Savannah (Georgetown, Chillagoe, Normaton) and The Precinct, Sunshine Coast, Gold Coast</td>\n",
       "      <td>Gold Coast (C)</td>\n",
       "      <td>Gold Coast</td>\n",
       "      <td>Bonney</td>\n",
       "      <td>75000</td>\n",
       "      <td>2019-05-21</td>\n",
       "      <td>2019</td>\n",
       "    </tr>\n",
       "  </tbody>\n",
       "</table>\n",
       "</div>"
      ],
      "text/plain": [
       "                                            Program Name  \\\n",
       "LGA Status                                                 \n",
       "Regional Councils                      Ignite Ideas Fund   \n",
       "Cities             Regional Startup Hubs Support Program   \n",
       "Cities             Regional Startup Hubs Support Program   \n",
       "Cities             Regional Startup Hubs Support Program   \n",
       "Cities             Regional Startup Hubs Support Program   \n",
       "\n",
       "                                                                 Round  \\\n",
       "LGA Status                                                               \n",
       "Regional Councils                 AQ Ignite Ideas Fund 2018-19 Round 5   \n",
       "Cities             Regional Startup Hubs Support Program 17-18 Round 1   \n",
       "Cities             Regional Startup Hubs Support Program 17-18 Round 1   \n",
       "Cities             Regional Startup Hubs Support Program 17-18 Round 1   \n",
       "Cities             Regional Startup Hubs Support Program 17-18 Round 1   \n",
       "\n",
       "                                      Recipient Name  \\\n",
       "LGA Status                                             \n",
       "Regional Councils                  NexusMyst Pty Ltd   \n",
       "Cities             Gold Coast Innovation Hub Limited   \n",
       "Cities                          Ipswich City Council   \n",
       "Cities                             Logan Startup Hub   \n",
       "Cities                  theSPACE Australasia Pty Ltd   \n",
       "\n",
       "                  Physical Address of Recipient - Suburb/Location  \\\n",
       "LGA Status                                                          \n",
       "Regional Councils                                        Brendale   \n",
       "Cities                                              Varsity Lakes   \n",
       "Cities                                                    Ipswich   \n",
       "Cities                                                  Woodridge   \n",
       "Cities                                                  Southport   \n",
       "\n",
       "                   Physical Address of Recipient - Post Code  \\\n",
       "LGA Status                                                     \n",
       "Regional Councils                                     4500.0   \n",
       "Cities                                                4227.0   \n",
       "Cities                                                4305.0   \n",
       "Cities                                                4114.0   \n",
       "Cities                                                4215.0   \n",
       "\n",
       "                  University Collaborator (if applicable)  \\\n",
       "LGA Status                                                  \n",
       "Regional Councils                                     NaN   \n",
       "Cities                                                NaN   \n",
       "Cities                                                NaN   \n",
       "Cities                                                NaN   \n",
       "Cities                                                NaN   \n",
       "\n",
       "                                                                                                  Other Partners/ Collaborators (if applicable)  \\\n",
       "LGA Status                                                                                                                                        \n",
       "Regional Councils                                                                                                                           NaN   \n",
       "Cities                                                                                                                                      NaN   \n",
       "Cities                                                                                                                                      NaN   \n",
       "Cities                                                                                                                                      NaN   \n",
       "Cities              Ignite FNQ \\n Startup Tablelands \\n Crowe Horwath \\n MacDonnells Law \\n FNQ Angels \\n Cairns Regional Council \\n Angel Loop   \n",
       "\n",
       "                                                 Investment/Project Title  \\\n",
       "LGA Status                                                                  \n",
       "Regional Councils           Commercialising NexusMyst for Law enforcement   \n",
       "Cities                   Gold Coast Regional Administration and Reporting   \n",
       "Cities                                      Make Possible Workshop Series   \n",
       "Cities                                                  Logan Startup Hub   \n",
       "Cities             12 Month Incubation Program & Raising Angel Investment   \n",
       "\n",
       "                  Primary Location of Activity/Project - Suburb/Location  \\\n",
       "LGA Status                                                                 \n",
       "Regional Councils                                               Brendale   \n",
       "Cities                                                     Varsity Lakes   \n",
       "Cities                                                           Ipswich   \n",
       "Cities                                                         Woodridge   \n",
       "Cities                                                         Southport   \n",
       "\n",
       "                   Primary Location of Activity/Project - Post Code  \\\n",
       "LGA Status                                                            \n",
       "Regional Councils                                            4500.0   \n",
       "Cities                                                       4227.0   \n",
       "Cities                                                       4305.0   \n",
       "Cities                                                       4114.0   \n",
       "Cities                                                       4215.0   \n",
       "\n",
       "                                                                                                                                                                                                                 Multiple Locations of Activity/Project  \\\n",
       "LGA Status                                                                                                                                                                                                                                                \n",
       "Regional Councils                                                                                                                                                                                                                       Ferny Grove QLD   \n",
       "Cities                                                                                                                                                                                                                                              NaN   \n",
       "Cities                                                                                                                                                                                                                                              NaN   \n",
       "Cities                                                                                                                                                                                                                                              NaN   \n",
       "Cities             Online activities, and included Cairns Beaches, Tablelands, Port Douglas, Weipa Town, Wujal Wujal, Cook Shire, Bamaga, Thursday Island, Gulf Savannah (Georgetown, Chillagoe, Normaton) and The Precinct, Sunshine Coast, Gold Coast   \n",
       "\n",
       "                  Local Government Area (LGA)  \\\n",
       "LGA Status                                      \n",
       "Regional Councils             Moreton Bay (R)   \n",
       "Cities                         Gold Coast (C)   \n",
       "Cities                            Ipswich (C)   \n",
       "Cities                              Logan (C)   \n",
       "Cities                         Gold Coast (C)   \n",
       "\n",
       "                  RAP Region (based on Project Location) State Electorate  \\\n",
       "LGA Status                                                                  \n",
       "Regional Councils                            Moreton Bay      Pine Rivers   \n",
       "Cities                                        Gold Coast    Mermaid Beach   \n",
       "Cities                                           Ipswich          Ipswich   \n",
       "Cities                                             Logan        Woodridge   \n",
       "Cities                                        Gold Coast           Bonney   \n",
       "\n",
       "                   Contractual Commitment ($ GST excl.) Approval Date  \\\n",
       "LGA Status                                                              \n",
       "Regional Councils                                 90000    2019-08-19   \n",
       "Cities                                            75000    2019-05-21   \n",
       "Cities                                            75000    2019-05-21   \n",
       "Cities                                            51824    2019-05-21   \n",
       "Cities                                            75000    2019-05-21   \n",
       "\n",
       "                   Approval Year  \n",
       "LGA Status                        \n",
       "Regional Councils           2019  \n",
       "Cities                      2019  \n",
       "Cities                      2019  \n",
       "Cities                      2019  \n",
       "Cities                      2019  "
      ]
     },
     "execution_count": 27,
     "metadata": {},
     "output_type": "execute_result"
    }
   ],
   "source": [
    "cleaned_df.head()"
   ]
  },
  {
   "cell_type": "markdown",
   "id": "7b78331e-dad5-40af-8268-8cad09f781b5",
   "metadata": {},
   "source": [
    "## **Analysis 2**\n",
    "The fastest way to spot some of the largest individual grants is to to sort them as a table and view a selection:"
   ]
  },
  {
   "cell_type": "code",
   "execution_count": 28,
   "id": "9456a613-25a2-4f92-a469-34a616955a11",
   "metadata": {},
   "outputs": [
    {
     "data": {
      "text/html": [
       "<div>\n",
       "<style scoped>\n",
       "    .dataframe tbody tr th:only-of-type {\n",
       "        vertical-align: middle;\n",
       "    }\n",
       "\n",
       "    .dataframe tbody tr th {\n",
       "        vertical-align: top;\n",
       "    }\n",
       "\n",
       "    .dataframe thead th {\n",
       "        text-align: right;\n",
       "    }\n",
       "</style>\n",
       "<table border=\"1\" class=\"dataframe\">\n",
       "  <thead>\n",
       "    <tr style=\"text-align: right;\">\n",
       "      <th></th>\n",
       "      <th>Program Name</th>\n",
       "      <th>Round</th>\n",
       "      <th>Recipient Name</th>\n",
       "      <th>Investment/Project Title</th>\n",
       "      <th>Contractual Commitment ($ GST excl.)</th>\n",
       "      <th>Approval Date</th>\n",
       "    </tr>\n",
       "    <tr>\n",
       "      <th>LGA Status</th>\n",
       "      <th></th>\n",
       "      <th></th>\n",
       "      <th></th>\n",
       "      <th></th>\n",
       "      <th></th>\n",
       "      <th></th>\n",
       "    </tr>\n",
       "  </thead>\n",
       "  <tbody>\n",
       "    <tr>\n",
       "      <th>Cities</th>\n",
       "      <td>UQ - COVID-19 Vaccine</td>\n",
       "      <td>UQ - COVID-19 Vaccine</td>\n",
       "      <td>The University of Queensland</td>\n",
       "      <td>Rapid Acceleration of the UQ COVID-19 Vaccine Program</td>\n",
       "      <td>10000000</td>\n",
       "      <td>2020-04-16</td>\n",
       "    </tr>\n",
       "    <tr>\n",
       "      <th>Regional Councils</th>\n",
       "      <td>Agtech and Logistics Hub</td>\n",
       "      <td>NaN</td>\n",
       "      <td>Agrifood Connect Limited</td>\n",
       "      <td>Agtech and Logistics Hub</td>\n",
       "      <td>3000000</td>\n",
       "      <td>2020-09-25</td>\n",
       "    </tr>\n",
       "    <tr>\n",
       "      <th>Regional Councils</th>\n",
       "      <td>Rockhampton Technology and Innovation Centre</td>\n",
       "      <td>NaN</td>\n",
       "      <td>Central Queensland University</td>\n",
       "      <td>Rockhampton Advanced Technology and Innovation Centre</td>\n",
       "      <td>2800000</td>\n",
       "      <td>2019-12-12</td>\n",
       "    </tr>\n",
       "    <tr>\n",
       "      <th>Cities</th>\n",
       "      <td>Platform Technology Program</td>\n",
       "      <td>AQ Platform Technology Program 2016-17 Round 1</td>\n",
       "      <td>DataRWE Pty Ltd</td>\n",
       "      <td>Precision Medicine Data Platform</td>\n",
       "      <td>1500000</td>\n",
       "      <td>2019-05-21</td>\n",
       "    </tr>\n",
       "    <tr>\n",
       "      <th>Cities</th>\n",
       "      <td>Female Founders Program</td>\n",
       "      <td>NaN</td>\n",
       "      <td>Impact Innovation Group Pty Ltd</td>\n",
       "      <td>Provision of Innovation Services Contract No. DITID 25-19</td>\n",
       "      <td>1452855</td>\n",
       "      <td>2019-03-05</td>\n",
       "    </tr>\n",
       "    <tr>\n",
       "      <th>Cities</th>\n",
       "      <td>Research Fellowships</td>\n",
       "      <td>Research Fellowships</td>\n",
       "      <td>Defence CRC TAS Limited</td>\n",
       "      <td>Establishment and operation of the DCRC TAS in Queensland</td>\n",
       "      <td>1000000</td>\n",
       "      <td>2019-01-31</td>\n",
       "    </tr>\n",
       "    <tr>\n",
       "      <th>Cities</th>\n",
       "      <td>Open Innovation Challenge</td>\n",
       "      <td>Round 1</td>\n",
       "      <td>Queensland XR Hub Pty Ltd</td>\n",
       "      <td>Two year funding for operational costs and to deliver key activities to support and develop the immersive technology sector in Queensland</td>\n",
       "      <td>945000</td>\n",
       "      <td>2023-08-11</td>\n",
       "    </tr>\n",
       "    <tr>\n",
       "      <th>Cities</th>\n",
       "      <td>Industry Tech Fund</td>\n",
       "      <td>AQ IndustryTech Fund 2019-20 Round 2</td>\n",
       "      <td>Xing Group Holdings Pty Ltd</td>\n",
       "      <td>XavTrap® Platform Development and Deployment for detection of COVID-19, influenzas and other contagious viral pathogens in humans</td>\n",
       "      <td>546027</td>\n",
       "      <td>2020-09-15</td>\n",
       "    </tr>\n",
       "    <tr>\n",
       "      <th>Cities</th>\n",
       "      <td>Advancing Regional Innovation Program</td>\n",
       "      <td>AQ Advancing Regional Innovation Full 2020-21</td>\n",
       "      <td>Smart Precinct NQ Limited</td>\n",
       "      <td>North Queensland Investment, Innovation &amp; Industry Catalyst</td>\n",
       "      <td>500000</td>\n",
       "      <td>2020-07-02</td>\n",
       "    </tr>\n",
       "    <tr>\n",
       "      <th>Cities</th>\n",
       "      <td>WaterStart</td>\n",
       "      <td>Round 1</td>\n",
       "      <td>WaterStart Pty Ltd</td>\n",
       "      <td>WaterStart</td>\n",
       "      <td>500000</td>\n",
       "      <td>2020-05-19</td>\n",
       "    </tr>\n",
       "  </tbody>\n",
       "</table>\n",
       "</div>"
      ],
      "text/plain": [
       "                                                   Program Name  \\\n",
       "LGA Status                                                        \n",
       "Cities                                    UQ - COVID-19 Vaccine   \n",
       "Regional Councils                      Agtech and Logistics Hub   \n",
       "Regional Councils  Rockhampton Technology and Innovation Centre   \n",
       "Cities                              Platform Technology Program   \n",
       "Cities                                  Female Founders Program   \n",
       "Cities                                     Research Fellowships   \n",
       "Cities                                Open Innovation Challenge   \n",
       "Cities                                       Industry Tech Fund   \n",
       "Cities                    Advancing Regional Innovation Program   \n",
       "Cities                                               WaterStart   \n",
       "\n",
       "                                                            Round  \\\n",
       "LGA Status                                                          \n",
       "Cities                                      UQ - COVID-19 Vaccine   \n",
       "Regional Councils                                             NaN   \n",
       "Regional Councils                                             NaN   \n",
       "Cities             AQ Platform Technology Program 2016-17 Round 1   \n",
       "Cities                                                        NaN   \n",
       "Cities                                       Research Fellowships   \n",
       "Cities                                                    Round 1   \n",
       "Cities                       AQ IndustryTech Fund 2019-20 Round 2   \n",
       "Cities              AQ Advancing Regional Innovation Full 2020-21   \n",
       "Cities                                                    Round 1   \n",
       "\n",
       "                                    Recipient Name  \\\n",
       "LGA Status                                           \n",
       "Cities                The University of Queensland   \n",
       "Regional Councils         Agrifood Connect Limited   \n",
       "Regional Councils    Central Queensland University   \n",
       "Cities                             DataRWE Pty Ltd   \n",
       "Cities             Impact Innovation Group Pty Ltd   \n",
       "Cities                     Defence CRC TAS Limited   \n",
       "Cities                   Queensland XR Hub Pty Ltd   \n",
       "Cities                 Xing Group Holdings Pty Ltd   \n",
       "Cities                   Smart Precinct NQ Limited   \n",
       "Cities                          WaterStart Pty Ltd   \n",
       "\n",
       "                                                                                                                                    Investment/Project Title  \\\n",
       "LGA Status                                                                                                                                                     \n",
       "Cities                                                                                                 Rapid Acceleration of the UQ COVID-19 Vaccine Program   \n",
       "Regional Councils                                                                                                                   Agtech and Logistics Hub   \n",
       "Regional Councils                                                                                      Rockhampton Advanced Technology and Innovation Centre   \n",
       "Cities                                                                                                                      Precision Medicine Data Platform   \n",
       "Cities                                                                                             Provision of Innovation Services Contract No. DITID 25-19   \n",
       "Cities                                                                                             Establishment and operation of the DCRC TAS in Queensland   \n",
       "Cities             Two year funding for operational costs and to deliver key activities to support and develop the immersive technology sector in Queensland   \n",
       "Cities                     XavTrap® Platform Development and Deployment for detection of COVID-19, influenzas and other contagious viral pathogens in humans   \n",
       "Cities                                                                                           North Queensland Investment, Innovation & Industry Catalyst   \n",
       "Cities                                                                                                                                            WaterStart   \n",
       "\n",
       "                   Contractual Commitment ($ GST excl.) Approval Date  \n",
       "LGA Status                                                             \n",
       "Cities                                         10000000    2020-04-16  \n",
       "Regional Councils                               3000000    2020-09-25  \n",
       "Regional Councils                               2800000    2019-12-12  \n",
       "Cities                                          1500000    2019-05-21  \n",
       "Cities                                          1452855    2019-03-05  \n",
       "Cities                                          1000000    2019-01-31  \n",
       "Cities                                           945000    2023-08-11  \n",
       "Cities                                           546027    2020-09-15  \n",
       "Cities                                           500000    2020-07-02  \n",
       "Cities                                           500000    2020-05-19  "
      ]
     },
     "execution_count": 28,
     "metadata": {},
     "output_type": "execute_result"
    }
   ],
   "source": [
    "# Sorting and only displaying relevant columns\n",
    "cleaned_df[[\"Program Name\", \"Round\", \"Recipient Name\", \"Investment/Project Title\", \"Contractual Commitment ($ GST excl.)\", \"Approval Date\"]].sort_values(\"Contractual Commitment ($ GST excl.)\", ascending=False).head(10)\n"
   ]
  },
  {
   "cell_type": "code",
   "execution_count": 29,
   "id": "211912af-7088-4230-942c-493af11dccbc",
   "metadata": {},
   "outputs": [
    {
     "name": "stdout",
     "output_type": "stream",
     "text": [
      "As a reminder the mean funding amount for cities was $204,470.20 and $165,565.85 for regional grants.\n"
     ]
    }
   ],
   "source": [
    "print(f\"As a reminder the mean funding amount for cities was ${city_mean:,.2f} and ${regional_mean:,.2f} for regional grants.\")"
   ]
  },
  {
   "cell_type": "markdown",
   "id": "8f61c1d3-76ad-44d5-9772-e4178f53f8eb",
   "metadata": {},
   "source": [
    "We can see that the majority of these outlier grants are recipients in the city, with the largest grant of $10million going to the The University of Queensland for \"Rapid Acceleration of the UQ COVID-19 Vaccine Program\" at nearly 50 times the average grant amount for cities. This also corresponds to one sixth of the total funding given to City-based recipients over the whole five year period.\n",
    "\n",
    "There also appear to be multiple other types of investments in Defence, Female business innovation, and medicine with recipients in the city. These are all notable as they will provide benefits state-wide even if the recipient is located in a city."
   ]
  },
  {
   "cell_type": "markdown",
   "id": "9dc88e18-2a58-45b8-bbc3-cdf29432fbfa",
   "metadata": {},
   "source": [
    "## **Visualisation 2**\n",
    "Considering that the presence of large outliers is known, using box plots provide informative visualiation of the distribuiton of the grants as outliers won't impact the median as much as the mean. This is also being split over multiple years to highlight any trends in the outliers.\n",
    "\n"
   ]
  },
  {
   "cell_type": "code",
   "execution_count": 30,
   "id": "d9b586a7-13a0-44fb-9091-8fd28f4213aa",
   "metadata": {},
   "outputs": [
    {
     "data": {
      "application/vnd.plotly.v1+json": {
       "config": {
        "plotlyServerURL": "https://plot.ly"
       },
       "data": [
        {
         "alignmentgroup": "True",
         "customdata": [
          [
           "NexusMyst Pty Ltd",
           "Commercialising NexusMyst for Law enforcement"
          ],
          [
           "Central Queensland University",
           "Decolonising the systematic barriers and enablers of Indigenous career progression in MiningCo (BHP). An Aboriginal perspective - Terry Bell"
          ],
          [
           "The Space Australasia Pty Ltd",
           "Host"
          ],
          [
           "The Space Australasia Pty Ltd",
           "Host"
          ],
          [
           "The Space Australasia Pty Ltd",
           "Host"
          ],
          [
           "(UI!) The Urban Institute Pty Ltd",
           "UrbanInsight Smart City Data Platform"
          ],
          [
           "Aquafarms Queensland Pty Ltd",
           "Scaling to export"
          ],
          [
           "McGregor Diesel Pty Ltd ATF The S & A McGregor Trust",
           "Fuelling Innovation in Regional Queensland"
          ],
          [
           "Micromelon Pty Ltd",
           "Micromelon Robotics"
          ],
          [
           "Sensor Bridge Technologies Pty Ltd",
           "Smart Irrigation System"
          ],
          [
           "Simpori Pty Ltd",
           "Innovative sanitation of poultry sheds"
          ],
          [
           "Central Queensland University",
           "Automating crop estimation and harvest of Calypso mango - Zhenglin Wang"
          ],
          [
           "University of Southern Queensland",
           "Individualised Digital Twins for aerospace and space systems for enhanced analysis, prediction and health monitoring - Ingo Jahn"
          ],
          [
           "University of Southern Queensland",
           "Future Proofing Queensland’s Infrastructure through Climate Resilient Concrete Technologies – Allan Manalo"
          ],
          [
           "University of Southern Queensland",
           "Using nano-sensors to monitor the production of graphene-based construction materials - Leila Javazmi"
          ],
          [
           "University of the Sunshine Coast",
           "Predicting \"jellymeat\" in swordfish for fisheries sustainability under climate change - Kylie Scales"
          ],
          [
           "NetHealth Pty Ltd",
           "Commercialisation of Net-HealthData in Australia"
          ],
          [
           "Start-up Gladstone Inc",
           "EarlyPrenuer Program Support"
          ],
          [
           "Innovation Centre Sunshine Coast Pty Ltd",
           "Founder Fast Track Program"
          ],
          [
           "CLS Ability Enterprises Ltd",
           "AT_Incubator: Hardware Entrepreneurship Program"
          ],
          [
           "Canvas Coworking Inc",
           "Canvas Coworking Inc Programs and Activities Support"
          ],
          [
           "Bundaberg Enterprise Centre Association Inc",
           "Startup Switchboard"
          ],
          [
           "iiHub Ltd",
           "Building skills and capacity through education empowerment and collaboration"
          ],
          [
           "Central Queensland University",
           "Rockhampton Advanced Technology and Innovation Centre"
          ],
          [
           "Stepping Black Indigenous Corporation Australia",
           "Stepping Up through Business Enterprise"
          ],
          [
           "Startup Gladstone Inc",
           "Startup Gladstone Events 2019"
          ],
          [
           "Split Spaces Ltd",
           "Split Spaces Community Manager"
          ],
          [
           "Spark Bureau Limited",
           "Support program for Sunshine Coast Innovators"
          ],
          [
           "Silicon Coast Limited",
           "Connecting Startup Founders"
          ],
          [
           "Moneyley Pty Ltd",
           "Sustainable Startup Hub"
          ],
          [
           "Rockhampton Regional Council - SmartHub",
           "Rockhampton SmartHub Administrative Support"
          ],
          [
           "Rural and Remote Innovation Australia (RRIA) Inc",
           "Startup Tablelands Hub"
          ],
          [
           "Central Highlands Development Corporation",
           "Food and Fibre Plus"
          ],
          [
           "Sunshine Coast Regional Council",
           "Queensland Regional Innovation Benchmark (QRIB)"
          ],
          [
           "Health Management Pty Ltd",
           "Launch FNQ Innovation Ecosystem Activation and Education Project"
          ],
          [
           "Tablelands Regional Council",
           "Tablelands Innovation Program"
          ],
          [
           "Agrifood Connect Limited",
           "Agtech and Logistics Hub"
          ],
          [
           "BCF Concreting Solutions Pty Ltd",
           "Top Con GPS millimietre guidance system for Wirtgen former."
          ],
          [
           "Engag3d Pty Ltd",
           "Engag3d Autonomous Marketing using SmartSkills"
          ],
          [
           "Health Management Pty Ltd",
           "Sophus Nutrition Commercialisation"
          ],
          [
           "Shop Ferret Pty Ltd",
           "Qld Tourism Boost with Chat2Concierge!"
          ],
          [
           "GB Operations Pty Ltd",
           "GreaseBoss Industry Trials and Market Launch"
          ],
          [
           "Central Queensland University",
           "Preventing secondary harm: Scaffolding healthcare capacity to promote Indigenous adolescents’ mental health - Janya McCalman"
          ],
          [
           "The University of Queensland - Rural Clinical School",
           "Impact of and implications beyond COVID-19 on clinical supervision of staff and students in hospital and health settings - Priya Martin"
          ],
          [
           "University of the Sunshine Coast",
           "CoViBac: Host response and secondary pneumonia in COVID-19 - Olusola Olagoke"
          ],
          [
           "Start-up Gladstone Inc",
           "Blueprint Accelerator: Here for Gladstone - Here for Innovation (Innov8ors)"
          ],
          [
           "Central Queensland University",
           "Queensland Connects - Cohort 1 - Gladstone"
          ],
          [
           "Greater Whitsunday Alliance Limited",
           "Queensland Connects - Cohort 1 - Mackay"
          ],
          [
           "Toowoomba and Surat Basin Enterprise Pty Ltd",
           "Queensland Connects - Cohort 1 - Toowoomba"
          ],
          [
           "Cardly Pty Ltd",
           "Promoting Cardly to Australia & the World"
          ],
          [
           "Sunshine Coast Regional Council",
           "SunRamp Accelerator Program Sunshine Coast"
          ],
          [
           "Davis Trading Pty Ltd",
           "Effective Feral Pig Control Traps"
          ],
          [
           "Hero Software Pty Ltd",
           "Home Energy Rating & Optimisation (Hero) - Building Simulation Software"
          ],
          [
           "James Cook University",
           "FNQ Innovation Strategy and Action Plan"
          ],
          [
           "James Cook University",
           "The Northern Australia Indigenous Datathon 2021"
          ],
          [
           "Resources Centre of Excellence Ltd (RCOE)",
           "LeadIN 2022 - event series Mackay-Whitsunday"
          ],
          [
           "Engage and Create Consulting Pty Ltd",
           "AgTech 2021"
          ],
          [
           "Roma Commerce and Tourism Inc",
           "Queensland Connects Cohort 2 - Roma"
          ],
          [
           "Discover Farming Inc",
           "Queensland Connects Cohort 2 - Goondiwindi"
          ],
          [
           "Central Queensland University",
           "Queensland Connects Cohort 2 - Wide Bay Burnett"
          ],
          [
           "James Cook University",
           "Partner Up Queensland Regional Science and Innovation Network - Far North Queensland Hub"
          ],
          [
           "Central Queensland University",
           "Partner Up Queensland Regional Science and Innovation Network - Central Queensland Hub"
          ],
          [
           "Amaroo Environmental Education Centre",
           "Partner Up Queensland Regional Science and Innovation Network - Darling Downs Queensland Hub"
          ],
          [
           "University of Southern Queensland",
           "Novel and Sustainable Protective Concrete Seawall Infrastructure - Omar Alajarmeh"
          ],
          [
           "University of Southern Queensland",
           "Integrating waste plastics into sleeper for sustainable railway infrastructure - Wahid Ferdous"
          ],
          [
           "Central Queensland University",
           "New methane mitigation technology to increase Queensland’s beef industry sustainability –Diogo Costa"
          ],
          [
           "Central Queensland University",
           "Cheaper greener Queensland: Optimising renewable fuel production from mixed-waste - Jahirul Islam"
          ],
          [
           "Tomkat Global Solutions Pty Ltd",
           "Commercialisation of the KoolPak"
          ],
          [
           "Span Engineering Pty Ltd",
           "Doover - Industrial remote control system for agriculture"
          ],
          [
           "OPS (Aust) Pty Ltd",
           "Smart Remote Water Monitoring and Control"
          ],
          [
           "Jennifer Isobel McKee",
           "Compliance Management Digitalisation for Horticulture Industry"
          ],
          [
           "Hoops Crm Pty Ltd",
           "Business Management Software for Print, Promo and Decorated Apparel Businesses"
          ],
          [
           "Concrete Data Sensors Pty Ltd",
           "Structural Integrity monitoring of Concrete and Wall Structures"
          ],
          [
           "Food and Agribusiness Network Limited",
           "Accelerating innovation in place"
          ],
          [
           "Gladstone Engineering Alliance Inc",
           "Gladstone Connects Supplier Platform"
          ],
          [
           "Red Ridge Interior Queensland Ltd",
           "Canvas to Catwalk"
          ],
          [
           "University of Southern Queensland",
           "Sustainable and flood-resilient composite aids to navigation structures - Hamid Ahmadi"
          ],
          [
           "The University of Queensland",
           "Integrating technologies for rapid domestication in macadamia - Mobashwer Alam"
          ],
          [
           "Central Queensland University",
           "Shaping Queensland’s Grid for Sustainable Growth of Renewables in Rural Communities-Umme Mumtahina"
          ],
          [
           "Regional Development Australia Tropical North Incorporated",
           "TNQ Food Network Cluster Project Plan"
          ],
          [
           "Health Management Pty Ltd",
           "TNQ Seeding Future Innovation"
          ],
          [
           "Mineral Fox Pty Ltd",
           "Commercialisation of Mineral Fox Botanicrete to the Australian Market"
          ],
          [
           "TerraCipher Pty Ltd",
           "Shaipup - A knowledge brokering marketplace"
          ],
          [
           "Health Management Pty Ltd T/as YEP Cairns and Launch FNQ",
           "Tropical Innovation Festival 2022"
          ],
          [
           "Silicon Coast Limited",
           "Forward Festival (FWD Fest) - September 2022"
          ],
          [
           "Busness Enterprise Centre Association Inc T/A Regional Business HQ",
           "Agtech Showcase - Bundaberg - April 2023"
          ],
          [
           "Mackay Canegrowers Ltd",
           "Adapting a spatial irrigation tool"
          ],
          [
           "Central Queensland University",
           "Queensland Regional Impact Female Founders (QRIFF)"
          ],
          [
           "Circulanation Ltd",
           "Boosting Business Innovation Masterclass"
          ],
          [
           "Food and Agribusiness Network Limited",
           "Grow Coastal23+"
          ],
          [
           "University of Southern Queensland",
           "Repurposing Landfill Wastes for Sustainable and Flood Resilient Roads"
          ],
          [
           "Central Queensland University",
           "Energy efficient rail vehicle design and digital rating system - Qing Wu"
          ],
          [
           "Thermal Armour Pty Ltd",
           "Wearable warming device for preventing serious complications in surgery"
          ],
          [
           "MotoDNA Technology Pty Ltd",
           "Digital Motorcycle Academy - An Online, Data Driven Training Platform"
          ],
          [
           "Leakster Operations Pty Ltd",
           "Commercialising remote AI leak detection for water utilities"
          ],
          [
           "University of Southern Queensland",
           "Female Founders Fast-track: Elevating Queensland Rural, Regional and Remote Female Founders by Leveraging Artificial Intelligence (AI) and Innovative Growth  Strategies"
          ],
          [
           "Health Management Pty Ltd",
           "Launching TNQ Female Founders"
          ]
         ],
         "hovertemplate": "<b>%{hovertext}</b><br><br>LGA Status=Regional Councils<br>Approval Year=%{x}<br>Contractual Commitment ($ GST excl.)=%{y}<br>Recipient Name=%{customdata[0]}<br>Investment/Project Title=%{customdata[1]}<extra></extra>",
         "hovertext": [
          "Ignite Ideas Fund",
          "Aboriginal and Torres Strait Islander PhD Scholarships",
          "Hot DesQ",
          "Hot DesQ",
          "Hot DesQ",
          "Ignite Ideas Fund",
          "Ignite Ideas Fund",
          "Ignite Ideas Fund",
          "Ignite Ideas Fund",
          "Ignite Ideas Fund",
          "Ignite Ideas Fund",
          "Industry Research Fellowships",
          "Industry Research Fellowships",
          "Industry Research Fellowships",
          "Industry Research Fellowships",
          "Industry Research Fellowships",
          "Ignite Ideas Fund",
          "Startup Gladstone - EarlyPreneur Programme",
          "Regional Startup Hubs Support Program",
          "Regional Startup Hubs Support Program",
          "Regional Startup Hubs Support Program",
          "Regional Startup Hubs Support Program",
          "Regional Startup Hubs Support Program",
          "Rockhampton Technology and Innovation Centre",
          "Regional Startup Hubs Support Program",
          "Regional Startup Hubs Support Program",
          "Regional Startup Hubs Support Program",
          "Regional Startup Hubs Support Program",
          "Regional Startup Hubs Support Program",
          "Regional Startup Hubs Support Program",
          "Regional Startup Hubs Support Program",
          "Regional Startup Hubs Support Program",
          "Regional Network Fund",
          "Regional Network Fund",
          "Advancing Regional Innovation Program",
          "Advancing Regional Innovation Program",
          "Agtech and Logistics Hub",
          "Deadly Innovation",
          "Ignite Ideas Fund",
          "Ignite Ideas Fund",
          "Ignite Ideas Fund",
          "Ignite Ideas Fund",
          "Industry Research Fellowships",
          "Industry Research Fellowships",
          "Industry Research Fellowships",
          "Open Innovation Challenge",
          "Queensland Connects",
          "Queensland Connects",
          "Queensland Connects",
          "Ignite Ideas Fund",
          "Sunramp Accelerator Program",
          "Deadly Innovation",
          "Ignite Ideas Fund",
          "Regional Network Fund",
          "Regional Futures - Events and Activations",
          "Regional Futures - Events and Activations",
          "Regional Futures - Events and Activations",
          "Regional Futures - ED Qld Con Teams",
          "Regional Futures - ED Qld Con Teams",
          "Regional Futures - ED Qld Con Teams",
          "Regional Futures - ED PUQRSIN",
          "Regional Futures - ED PUQRSIN",
          "Regional Futures - ED PUQRSIN",
          "Industry Research Fellowships",
          "Industry Research Fellowships",
          "Industry Research Fellowships",
          "Industry Research Fellowships",
          "Ignite Ideas Fund",
          "Ignite Ideas Fund",
          "Ignite Ideas Fund",
          "Ignite Ideas Fund",
          "Ignite Ideas Fund",
          "Ignite Ideas Fund",
          "Regional Futures - Collaborative Projects",
          "Regional Futures - Collaborative Projects",
          "Regional Futures - Collaborative Projects",
          "Industry Research Fellowships",
          "Industry Research Fellowships",
          "Industry Research Fellowships",
          "Regional Futures - ED TFN Cluster",
          "Regional Futures - Ecosystem Development",
          "Ignite Ideas Fund",
          "Ignite Ideas Fund",
          "Regional Futures - Events and Activations",
          "Regional Futures - Events and Activations",
          "Regional Futures - Events and Activations",
          "Regional Futures - Collaborative Projects",
          "Female Founders Program",
          "Female Founders Program",
          "Female Founders Program",
          "Industry Research Fellowships",
          "Industry Research Fellowships",
          "Ignite Ideas Fund",
          "Ignite Ideas Fund",
          "Ignite Ideas Fund",
          "Female Founders Program",
          "Female Founders Program"
         ],
         "legendgroup": "Regional Councils",
         "marker": {
          "color": "#636efa"
         },
         "name": "Regional Councils",
         "notched": false,
         "offsetgroup": "Regional Councils",
         "orientation": "v",
         "showlegend": true,
         "type": "box",
         "x": [
          2019,
          2019,
          2019,
          2019,
          2019,
          2019,
          2019,
          2019,
          2019,
          2019,
          2019,
          2019,
          2019,
          2019,
          2019,
          2019,
          2019,
          2019,
          2019,
          2019,
          2019,
          2019,
          2019,
          2019,
          2019,
          2019,
          2019,
          2019,
          2019,
          2019,
          2019,
          2019,
          2020,
          2020,
          2020,
          2020,
          2020,
          2020,
          2020,
          2020,
          2020,
          2020,
          2020,
          2020,
          2020,
          2020,
          2020,
          2020,
          2020,
          2020,
          2020,
          2021,
          2021,
          2021,
          2021,
          2021,
          2021,
          2021,
          2021,
          2021,
          2021,
          2021,
          2021,
          2021,
          2021,
          2021,
          2021,
          2021,
          2021,
          2021,
          2021,
          2021,
          2021,
          2022,
          2022,
          2022,
          2022,
          2022,
          2022,
          2022,
          2022,
          2022,
          2022,
          2022,
          2022,
          2023,
          2023,
          2023,
          2023,
          2023,
          2023,
          2023,
          2023,
          2023,
          2023,
          2023,
          2023
         ],
         "x0": " ",
         "xaxis": "x",
         "y": [
          90000,
          107084,
          8000,
          6000,
          6000,
          100000,
          100000,
          100000,
          100000,
          99462,
          100000,
          82440,
          300000,
          300000,
          180000,
          80000,
          99500,
          60000,
          21347,
          75000,
          75000,
          75000,
          43750,
          2800000,
          7500,
          7500,
          75000,
          40290,
          7500,
          75000,
          75000,
          75000,
          75000,
          75000,
          230000,
          45000,
          3000000,
          70000,
          150000,
          200000,
          100000,
          100000,
          150000,
          86952,
          90000,
          74000,
          96190,
          100000,
          52668,
          100000,
          160000,
          100000,
          100000,
          25108,
          5000,
          20000,
          680,
          30000,
          30000,
          21726,
          203750,
          203750,
          203750,
          240000,
          160000,
          240000,
          360000,
          150000,
          100000,
          99560,
          92400,
          100000,
          100000,
          199676,
          100000,
          60000,
          240000,
          360000,
          240000,
          37500,
          200000,
          100000,
          100000,
          22000,
          15250,
          10000,
          200000,
          36960,
          36650,
          90000,
          240000,
          360000,
          100000,
          100000,
          100000,
          99944,
          100000
         ],
         "y0": " ",
         "yaxis": "y"
        },
        {
         "alignmentgroup": "True",
         "customdata": [
          [
           "Gold Coast Innovation Hub Limited",
           "Gold Coast Regional Administration and Reporting"
          ],
          [
           "Ipswich City Council",
           "Make Possible Workshop Series"
          ],
          [
           "Logan Startup Hub",
           "Logan Startup Hub"
          ],
          [
           "theSPACE Australasia Pty Ltd",
           "12 Month Incubation Program & Raising Angel Investment"
          ],
          [
           "Defence CRC TAS Limited",
           "Establishment and operation of the DCRC TAS in Queensland"
          ],
          [
           "Travello Pty Ltd",
           "Travello - Traveller Marketing & Data Insights Platform"
          ],
          [
           "Townsville City Council",
           "Delivery of Townsville Point of Interconnect (POI)"
          ],
          [
           "The University of Queensland",
           "Green nanotechnology-based antibiotic-free poultry feed against coccidiosis – Jie Tang"
          ],
          [
           "Yodal Pty Ltd",
           "Yodal Scale"
          ],
          [
           "WeKo Pty Ltd",
           "WeKoGP (General Practice)"
          ],
          [
           "Vostronet (Australia) Pty Ltd",
           "Commercialisation of PrivateMesh vLAN Technology"
          ],
          [
           "Vorteil.io Pty Ltd",
           "Vorteil - A Cloud Operating System"
          ],
          [
           "Unified Ar System Pty Ltd",
           "UnifiedAR - Distribution commercialisation project"
          ],
          [
           "Talkvia Enterprise Pty Ltd",
           "Automating voice access to services"
          ],
          [
           "DataRWE Pty Ltd",
           "Precision Medicine Data Platform"
          ],
          [
           "The University of Queensland",
           "Overcoming pyrite challenges in Queensland’s ore reserves and mine tailings – Elizaveta Forbes"
          ],
          [
           "The University of Queensland",
           "Create a stronger economic driver for biogas production and utilization- Chunyu Lai"
          ],
          [
           "The University of Queensland",
           "BioClay innovation: sustainable alternative to pesticides for protecting Queensland’s livestock - Karishma Mody"
          ],
          [
           "The University of Queensland",
           "Implementing non-dangerous frothers in coal preparation plants – Yufan Mu"
          ],
          [
           "The University of Queensland",
           "Advanced Manufacturing of Radiopaque, Implantable Micro-components - Jeffrey Venezuela"
          ],
          [
           "The University of Queensland",
           "Toward routine blood testing for early cardiovascular disease detection - Jacky Suen."
          ],
          [
           "The University of Queensland",
           "Improving fine-coal production and safety through advanced froth management - Yangyang Huai"
          ],
          [
           "The University of Queensland",
           "AI-based Cyber-Attack Detection and Response System for Queensland based SMEs - Siamak Layeghy"
          ],
          [
           "The University of Queensland",
           "The development of the radiofrequency and imaging systems for a compact 3T musculoskeletal MRI scanner – Mingyan Li"
          ],
          [
           "The University of Queensland",
           "Finally Biobased and Biodegradable Packaging for Australian Berries - Luigi Vandi"
          ],
          [
           "The University of Queensland",
           "Novel techniques for monitoring and classifying brain stroke – Lei Guo"
          ],
          [
           "The University of Queensland",
           "Portable and fast medical imaging using electromagnetic beamography - Ali Zamani"
          ],
          [
           "The University of Queensland",
           "Rapid and Comprehensive Microbial Profiling for Water Sustainability – Gaofeng Ni"
          ],
          [
           "The University of Queensland",
           "Increasing electric vehicle uptake to deliver energy sector co-benefits - Jake Whitehead"
          ],
          [
           "The University of Queensland",
           "Beyond visible:  A Queensland technology for early skin cancer diagnosis -Xiaoqiong Qi"
          ],
          [
           "The University of Queensland",
           "Developing low cost technology to turn clay to zeolite-Hong Peng"
          ],
          [
           "The Council of the Queensland Institute of Medical Research",
           "brAIn: Enabling Precision Treatment for Brain Cancers using Artificial Intelligence - Sriganesh Srihari"
          ],
          [
           "Queensland University of Technology",
           "Bioengineered Platforms for Individualised Therapy Guidance in Breast Cancer - Nathalie Bock"
          ],
          [
           "Queensland University of Technology",
           "Protecting the Great Barrier Reef by quantifying fine sediment discharge - Daniel Livsey"
          ],
          [
           "Queensland University of Technology",
           "A personalised blood test for better prostate cancer patient outcome - Jyotsna Batra"
          ],
          [
           "Queensland University of Technology",
           "The development of a new compound to treat Alzheimer's disease - Dr Alexander Martyn"
          ],
          [
           "Griffith University",
           "Future proofing Queensland’s drinking water supply using green infrastructure - Hannah Franklin"
          ],
          [
           "Griffith University",
           "Improving emergency trauma care for rural, regional, and remote Queenslanders - Chiara Santomauro"
          ],
          [
           "Griffith University",
           "Wetlands for improving water quality of the Great Barrier Reef- Fernanda Adame"
          ],
          [
           "Griffith University",
           "Risks of microplastics in biosolids to soils and agro-ecosystems - Shimaalsadat Ziajahromi"
          ],
          [
           "ARC Hardware Incubator Pty Ltd",
           "Arc Hardware Incubator - Hardware Innovation for Global Startups"
          ],
          [
           "The University of Queensland",
           "Integrated computational materials model using AI for advanced manufacturing – Yunpeng Zhang"
          ],
          [
           "The University of Queensland",
           "Aggregated Algal / Bacterial Flocs for Wastewater Treatment and Algae Industries- Andrew Ward "
          ],
          [
           "The University of Queensland",
           "Developing marine bacteria biotechnology for red mud rehabilitation and rare-earth recovery - Fang You"
          ],
          [
           "Swift Performance Pty Ltd",
           "Athletic Movement Monitoring"
          ],
          [
           "The University of Queensland",
           "Enabling Transition: understanding co-benefits of new energy projects - Kathy Witt"
          ],
          [
           "SiteSee Pty Ltd",
           "AI infrastructure analysis"
          ],
          [
           "GaardTech Pty ltd",
           "GaardTech Global Commercialisation"
          ],
          [
           "Field QL Pty Ltd",
           "Real estate lease analysis platform"
          ],
          [
           "DocSols Pty Ltd",
           "Commercialisation of the DocSols platform"
          ],
          [
           "Digital Technologies Institute Pty Ltd",
           "Artificial Intelligence STEM Platform"
          ],
          [
           "Cyborg Dynamics Engineering Pty Ltd",
           "Eye Align Automated Construction Sketcher"
          ],
          [
           "Creative Industries Precinct Pty Ltd",
           "Global CEO Scale-Up Program"
          ],
          [
           "Cubiko Pty Ltd",
           "Commercialisation of Cubiko Multisite (CM)"
          ],
          [
           "Core Resources Pty Ltd",
           "Toowong Process"
          ],
          [
           "Codestream Solutions Pty Ltd",
           "FloodMapp - Predictive Flood Mapping"
          ],
          [
           "Chromoxyion Pty Ltd",
           "Sex Selection in Farm Animals"
          ],
          [
           "Australian Kunzea Pty Ltd",
           "Accelerate Commercialisation of Kunzea Products"
          ],
          [
           "Creative Industries Precinct Pty Ltd T/A QUT Creative Enterprise Australia",
           "Host"
          ],
          [
           "Fishburners Limited",
           "Host"
          ],
          [
           "Fishburners Limited",
           "Host"
          ],
          [
           "Aurtra Pty Ltd",
           "Automated Global Provisioning"
          ],
          [
           "Arthritis Relief Plus Limited",
           "Novel Osteoarthritis Drug US Launch"
          ],
          [
           "Fishburners Limited",
           "Host"
          ],
          [
           "Gold Coast Innovation Hub Limited",
           "Host"
          ],
          [
           "River City Labs Pty Ltd",
           "Host"
          ],
          [
           "Sportech Industries Pty Ltd",
           "MyCall No Ball Detector (‘MyCall’)"
          ],
          [
           "River City Labs Pty Ltd",
           "Host"
          ],
          [
           "Welio Pty Ltd",
           "Commercialising Welio for GP eConsults"
          ],
          [
           "ABM Technologies Australia Pty Ltd",
           "International Growth of ACE-Insights solution"
          ],
          [
           "Gelomics Pty Ltd",
           "Next-generation 3D cell culture technologies"
          ],
          [
           "Haystack Australia Pty Ltd",
           "Commercialising Haystack for Enterprise SaaS"
          ],
          [
           "Ikara Group Pty Ltd",
           "Commercialisation of the Echelon Technology"
          ],
          [
           "RR Tek Pty Ltd",
           "Adding Value to Waste-Water Treatment"
          ],
          [
           "RapidAIM Pty Ltd",
           "Commercialising RapidAIM Real-time Insect Monitoring"
          ],
          [
           "Q L Spacer Blocks Pty Ltd",
           "Q L Medical"
          ],
          [
           "Physiotherapy Innovations Pty Ltd",
           "International Commercialisation of Therabubble™"
          ],
          [
           "OreFox Pty Ltd",
           "OreFox Scale and Acquisition"
          ],
          [
           "Norbit Software Pty Ltd",
           "SaaS Loyalty Solution for Precincts"
          ],
          [
           "Holospace Pty Ltd",
           "HoloSpace Air -  Border protection"
          ],
          [
           "NoiseNet Operations Pty Ltd",
           "Smart Noise Monitoring Global Rollout"
          ],
          [
           "Marine Composites Pty Ltd",
           "Fibre Composite Marine Piles"
          ],
          [
           "Sobah Beverages Pty Ltd",
           "Dry Shelf Stabilisation of Products"
          ],
          [
           "M3dicine Pty Ltd",
           "Commercialising IOT Stethoscope with AI"
          ],
          [
           "Immersive Robotics Pty Ltd",
           "Commercialising 4K120 wireless streaming solution"
          ],
          [
           "Macrobotix Pty Ltd",
           "Painting Robotics-as-a-service Commercial Launch"
          ],
          [
           "Kynd Pty Ltd",
           "Regional NDIS Market Expansion"
          ],
          [
           "Laird and Pascoe Trading Company Pty Ltd",
           "Frozen Herbs & Spices"
          ],
          [
           "Inndox Pty Ltd",
           "Commercialisation of Inndox ‘Builder Handover’"
          ],
          [
           "Advisory Board Centre Pty Ltd",
           "Provision of Innovation Services Contract No. DITID 26-19"
          ],
          [
           "Impact Innovation Group Pty Ltd",
           "Provision of Innovation Services Contract No. DITID 25-19"
          ],
          [
           "LincRobotics Pty Ltd",
           "Grass Advertising Robots"
          ],
          [
           "Alumtek Minerals Pty Ltd",
           "Project Reclaim Bauxite Residue Valorisation"
          ],
          [
           "Griffith University",
           "Evaluation of COVID-19 antiviral and vaccine candidates, using a non-infectious virus-like-particle platform – Belinda deVilliers"
          ],
          [
           "Griffith University",
           "Optimising telehealth to future-proof the delivery of autism related services – David Trembath"
          ],
          [
           "Queensland University of Technology - Translational Research Institute",
           "Preventing the respiratory failure causing COVID-19 mortality, potent new drugs targeting hyperinflammation – Lisa Philp"
          ],
          [
           "Griffith University",
           "Accelerating technology uptake during a pandemic: enabling and extending delivery of rehabilitation - Camila Shirota"
          ],
          [
           "Griffith University",
           "Development and evaluation of crisis management toolkits for Queensland industry – Tristan Casey"
          ],
          [
           "James Cook University",
           "Identifying and mitigating future risks from  Queensland wastewater industry through biosolids technology innovation - Elsa Antunes"
          ],
          [
           "Queensland University of Technology",
           "Rapid Response Medical Manufacturing – Naomi Paxton"
          ],
          [
           "Queensland University of Technology",
           "Antiviral and antibacterial surfaces using nanotechnology for Queensland hospitals – Alka Jaggessar"
          ],
          [
           "Queensland University of Technology",
           "Development and validation of a Raman spectroscopy assay for COVID-19 antigen detection in mucus - Kristyan Guppy-Coles"
          ],
          [
           "Queensland University of Technology",
           "Statistical modelling to support clinical decision making for critically ill COVID-19 patients - Nicole White"
          ],
          [
           "Griffith University",
           "Improving Advanced Life Support training for frontline healthcare workers under novel conditions – Yoriko Kikkawa"
          ],
          [
           "Queensland Treasury Corporation",
           "Comparative Economic Analysis of Innovation Precincts"
          ],
          [
           "The University of Queensland",
           "Developing on-line oxidation measurement for remote operation of coal mines during pandemic - Xumeng Chen"
          ],
          [
           "The University of Queensland",
           "Rapid Acceleration of the UQ COVID-19 Vaccine Program"
          ],
          [
           "WaterStart Pty Ltd",
           "WaterStart"
          ],
          [
           "Physiotherapy Innovations Pty Ltd",
           "Therabubble™ - Accelerated Research and Development for a Covid-19 Response"
          ],
          [
           "The University of Queensland",
           "Enhancing COVID-19 vaccination and pandemic preparedness via Nanopatch skin delivery - David Muller"
          ],
          [
           "77 Partners Pty Ltd",
           "Robotics Accelerator"
          ],
          [
           "Queensland University of Technology",
           "Queensland Connects - Cohort 1 - QUT"
          ],
          [
           "The University of Queensland",
           "Point-of-care diagnostic device incorporating microfluidic technology and electrochemical biosensing platform for COVID-19 detection-Yusuf Kaneti"
          ],
          [
           "The University of Queensland",
           "Chimeric insect-specific viruses for laboratory and point-of-care diagnosis of emergent viral disease - Jody Hobson-Peters"
          ],
          [
           "The University of Queensland",
           "Developing an antiviral surface cleaner utilising unique surface adsorption properties of gelatine-hydrolysate - Heather Shewan"
          ],
          [
           "The University of Queensland",
           "Application of separation technologies for rapid treatment of COVID-19 and related outbreaks – Craig Bell"
          ],
          [
           "The University of Queensland",
           "Novel Virus Trap Nanotechnology for COVID-19 Detection - Christopher Howard"
          ],
          [
           "The University of Queensland",
           "Advancing a clinical drug targeting the complement system to treat COVID-19 - John Lee"
          ],
          [
           "The University of Queensland",
           "Queensland Tourism Workforce Strategy V2: A Crisis Resilience and Recovery Plan - Richard Robinson"
          ],
          [
           "The University of Queensland",
           "Nanofibers with antiviral activity: potential applications for improving personal protective equipment safety- Nasim Amiralian"
          ],
          [
           "Gold Coast Innovation Hub Limited",
           "Scaling Wisdom Across Regional Queensland"
          ],
          [
           "The University of Queensland",
           "Creating out loud: Developing sustainable peer-mentoring to rebuild the arts post COVID-19 – Kate Power"
          ],
          [
           "The University of Queensland - RBWH - Herston",
           "Automating Infectious Disease Surveillance with Artificial Intelligence - Brian Forde "
          ],
          [
           "The University of Queensland",
           "Combating the transmission of coronavirus in urban water systems through novel disinfection - Ji Lu"
          ],
          [
           "University of Southern Queensland",
           "Using Artificial Intelligence to prioritise emergency calls for suicide prevention due to COVID-19 pandemic - Rajib Rana"
          ],
          [
           "Xing Group Holdings Pty Ltd",
           "XavTrap® Platform Development and Deployment for detection of COVID-19, influenzas and other contagious viral pathogens in humans"
          ],
          [
           "Life Sciences Queensland Limited",
           "Life Sciences Queensland Project Delivery from 1 April 2020 to 31 March 2021"
          ],
          [
           "Australian Computer Society Incorporated t/a River City Labs",
           "Mental Health for Founders"
          ],
          [
           "Orange Sky Australia Limited",
           "Campfire"
          ],
          [
           "Queensland Capacity Network Pty Ltd",
           "QCN Pilots Project"
          ],
          [
           "The University of Queensland",
           "MitoKhondrion: Decreasing COVID-19 mortality by increasing the functioning of our cell’s powerhouses – Mitchell Sullivan"
          ],
          [
           "Smart Precinct NQ Limited",
           "North Queensland Investment, Innovation & Industry Catalyst"
          ],
          [
           "Queensland University of Technology - Translational Research Institute",
           "Stopping COVID-19 by targeting the viral replication - Mark Adams"
          ],
          [
           "The Trustee for the Ride Free Media Trust T/A Ride Free Media",
           "Wrappt National Expansion"
          ],
          [
           "WorkGuru Pty Ltd",
           "Enabling Qld Manufacturing with WorkGuru.io"
          ],
          [
           "Yodel Digital Pty Ltd",
           "Yodel Commercialisation Project"
          ],
          [
           "Amtac Professional Services Pty Ltd",
           "BackFlowID"
          ],
          [
           "Anti Ordinary Pty Ltd",
           "Anti Ordinary Global Launch"
          ],
          [
           "Scott Airway Management Pty Ltd",
           "SAM Safety Seal  - oropharyngeal shield"
          ],
          [
           "Puctto Pty Ltd",
           "Commercialisation of PUCTTO: Fashion Visualization Technology"
          ],
          [
           "Pinch Labs Pty Ltd",
           "Notiv Commercialisation in Professional Services Market"
          ],
          [
           "Padmore City Pty Ltd",
           "Online Virtual, City-Themed Learning Platform."
          ],
          [
           "Native Beeings Pty Ltd",
           "Commercialising Australian Native Bee Propolis Products"
          ],
          [
           "National Plastics & Rubber Pty Ltd",
           "HoseMate™ Commercialisation"
          ],
          [
           "AssetAccountant Pty Ltd",
           "AssetAccountant (AA) Global Readiness"
          ],
          [
           "BidCrete Pty Ltd",
           "Bidcrete"
          ],
          [
           "Bidhive Pty Ltd",
           "Bidhive mid-market channel partner project"
          ],
          [
           "Bioherbicide Australia Pty Ltd",
           "Di-Bak G scale up to broader market"
          ],
          [
           "Blenktech Pty Ltd",
           "ProcurePro: AI-based, Scalable, High-Volume Contracting Software for Construction/Infrastructure"
          ],
          [
           "Cake Equity Pty Ltd",
           "Cake Sydney Launch"
          ],
          [
           "Calvett Co Pty Ltd",
           "Commercialisation of The Herd digital platform"
          ],
          [
           "Canaria Technologies Pty Ltd",
           "Commercialising the Canaria-V"
          ],
          [
           "Charlton Innovation Pty Ltd",
           "International Commercialisation of Lock Jaw Ladder Grip"
          ],
          [
           "Docto Holdings Pty Ltd",
           "Medical Specialist Telehealth Service for Rural Queensland"
          ],
          [
           "Fiffy Solutions Pty Ltd",
           "Commercialisation of People Counting Solution"
          ],
          [
           "IDU Technologies Pty Ltd",
           "IDU Verification of Identity (VOI) Scale Up Programme"
          ],
          [
           "IISolutions Pty Ltd",
           "Smart City Infrastructure Management OSP"
          ],
          [
           "Law On Earth Au Pty Ltd",
           "Automated, Self-Service legal platform"
          ],
          [
           "Sonder Place Pty Ltd",
           "Waste to Workwear  BeauTex Launch"
          ],
          [
           "Literacy for Boys Pty Ltd",
           "Literacy for Boys Commercialisation"
          ],
          [
           "Skynet Satellite Communications Pty Ltd",
           "SkyNet Commercial ADS-B"
          ],
          [
           "SensaWeb Pty Ltd",
           "SensaWeb Real-time Radiation Area Monitoring"
          ],
          [
           "Acceler8 Pty Ltd",
           "Acceler8 for delivery of the BDO Business of Entrepreneurship Program: supporting startups and scaleups in a COVID-19 world"
          ],
          [
           "Bionics Queensland Limited",
           "Bionics Queensland Innovation and Research Challenge"
          ],
          [
           "Bionics Queensland Limited",
           "Bionics Ecosystem Mapping Study"
          ],
          [
           "Islex Australia Pty Ltd",
           "Smart Syphon Commercialisation"
          ],
          [
           "Nourishing Bites Pty Ltd",
           "Commercialise Heavenly Hazel ChocHazelnut Spread"
          ],
          [
           "Pwron Pty Ltd",
           "PWRON Temperature Alert Log System"
          ],
          [
           "Solar Relief Pty Ltd",
           "Commercialisation of Portable Power Supply."
          ],
          [
           "Scrunch Enterprises Pty Ltd",
           "Female Founders Scrunch Program"
          ],
          [
           "Next World Enterprises Pty Ltd",
           "Build Your Own VR Induction"
          ],
          [
           "Real Serious Games Pty Ltd",
           "Immersive Technologies Hub"
          ],
          [
           "MCT (Australia) Pty Ltd",
           "Pro-grade physio relief anywhere – BearTrap"
          ],
          [
           "Bankedge Pty Ltd",
           "Bank Margin Reviews as a Service"
          ],
          [
           "Social Impact Group Pty Ltd",
           "Little Phil Fundraising Platform"
          ],
          [
           "Sunbirds Aero Pty Ltd",
           "Solar Powered Drones for Long Range Mapping Solutions"
          ],
          [
           "Wildfire Energy Pty Ltd",
           "Waste to Hydrogen"
          ],
          [
           "Heartbeat Enterprises Pty Ltd",
           "Commercialisation of Squizify Food Safety Technology Platform"
          ],
          [
           "CyberMetrix Pty Ltd",
           "Cyberturity® Pro 3rd Party Digital Trust Platform"
          ],
          [
           "Cogniom Pty Ltd",
           "Cogniom's TANDM Suite"
          ],
          [
           "Earthoffset Pty Ltd",
           "Commercialisation of organic waste recycling technology"
          ],
          [
           "Aeromech Pty Ltd",
           "SARGO - Search and Rescue GO"
          ],
          [
           "TAFE Queensland",
           "Queensland Future Skill Partnership Project"
          ],
          [
           "Co Hort Space Pty Ltd",
           "Queensland Connects Cohort 2 - Gold Coast HealthTech"
          ],
          [
           "Bright Humans Pty Ltd",
           "Something Digital 2021"
          ],
          [
           "Brancher Pty Ltd",
           "Virtual Mentoring and Career development for Businesses and Industry Associations"
          ],
          [
           "Geobotica Pty Ltd",
           "3D Cognitive Mapping"
          ],
          [
           "LiXiA Pty Ltd",
           "Pole-top sensor for power grid safety and asset life extension"
          ],
          [
           "Kova Australia Pty Ltd",
           "Syla - tax reporting and portfolio management software for cryptocurrency"
          ],
          [
           "LYRO Robotics Pty Ltd",
           "Commercialisation of automated produce packing system"
          ],
          [
           "Nu Flow Technologies 2000 Pty Ltd",
           "Structural rehabilitation of water mains using UV curing epoxy technology"
          ],
          [
           "Embrayse Pty Ltd",
           "Embrayse Meal Management Solution for Aged Care"
          ],
          [
           "The University of Queensland",
           "Novel statistical estimation of fugitive methane emissions using drones - Sebastian Hoerning"
          ],
          [
           "University of Southern Queensland",
           "Early detection of chronic health conditions using AI prediction model- Xujuan Zhou"
          ],
          [
           "University of Queensland",
           "Graph-based learning approaches for monitoring clinical outcome of stroke patients - Guohun Zhu"
          ],
          [
           "The University of Queensland",
           "Innovating avocado for indoor cropping - Advanced climate-smart production systems.  Christopher O'Brien"
          ],
          [
           "The University of Queensland",
           "RNA vaccines for next generation crop protection: facilitating adoption - Anne Sawyer"
          ],
          [
           "The University of Queensland",
           "Enhancing pandemic preparedness through nucleic acid Nanopatch skin vaccination – Christopher McMillan"
          ],
          [
           "The University of Queensland",
           "Development of Sustainable Shotcrete using Cullet - Mehdi Serati"
          ],
          [
           "The University of Queensland",
           "Using AI to save lives: identifying deteriorating patients earlier  - Anton van der Vegt"
          ],
          [
           "The University of Queensland",
           "Robust cathode materials for next-generation high-energy-density and low-cost lithium-ion batteries- Xia Huang"
          ],
          [
           "World's Biggest Garage Sale Pty Ltd",
           "Retail Returns Resource Recovery Platform"
          ],
          [
           "Urpla Software Pty Ltd",
           "Simplifying Development Applications across the Globe"
          ],
          [
           "The University of Queensland",
           "Using artificial intelligence to increase gas supply - Ruizhi Zhong"
          ],
          [
           "Queensland University of Technology",
           "Advanced Engineered Materials from Queensland Natural Resources – John Outram"
          ],
          [
           "Queensland University of Technology",
           "Artificial Intelligence Enabled Mine Site Rehabilitation - Kien Nguyen"
          ],
          [
           "Griffith University",
           "Production of value-added products from waste extinguishers and tyres – Tak Kim"
          ],
          [
           "Griffith University",
           "Advancing Queensland nut industry using machine vision - Shahla Hosseini Bai"
          ],
          [
           "Spatial Innovation Pty Ltd",
           "Flood Information Portal for Local Government"
          ],
          [
           "SendFX Limited",
           "Foreign exchange payments as embedded financial services for corporate clients"
          ],
          [
           "Simulation Training Group Pty Ltd",
           "Virtual-Shot: Virtual Firearms Training Platform and Smartphone Mount"
          ],
          [
           "Griffith University",
           "Transforming Queensland Tourism with Micro-transport – Abraham Leung"
          ],
          [
           "Layer Labs Pty Ltd",
           "Digital IP Licensing Marketplace for Video Gaming Industry"
          ],
          [
           "The University of Queensland",
           "Automated Electromagnetic Probe for Artificial Intelligence-Driven Skin Cancer Detection_Syed Naqvi"
          ],
          [
           "The University of Queensland",
           "Biopharmaceuticals 4.0: Designing Cell Factories for difficult to express proteins- Veronica Martinez"
          ],
          [
           "The University of Queensland",
           "Sustainable Sugarcane and Mining Industries– Innovative Alloys for Lower Emissions– Yahia Ali"
          ],
          [
           "The University of Queensland",
           "Tailor-made nanocomposite membranes for greenhouse gas capture – Gloria M. Monsalve-Bravo"
          ],
          [
           "Queensland University of Technology",
           "Abatement or sequestration - A preferred Queensland industry strategy - Kameron Dunn"
          ],
          [
           "Queensland University of Technology",
           "AI-enabled Fragmentation and Ore Intelligence through Machine Vision - Osman Tursun"
          ],
          [
           "Griffith University",
           "Applying sports-tech to prevent knee injuries in Queensland's female athletes -Matthew Bourne"
          ],
          [
           "My Virtual Freight Forwarder Pty Ltd",
           "All-in-one digital freight management platform for small cargo importer businesses"
          ],
          [
           "Liquid State Pty Ltd",
           "Patient-centred platform for chronic disease self-monitoring, management, and communication"
          ],
          [
           "Emerging Healthcare Operations Pty Ltd",
           "Virtual Paediatric Emergency Care for Queensland Health Services"
          ],
          [
           "The University of Queensland",
           "Cost-effective iron-flow-battery for next-generation large-scale energy storage applications - Md Masud Rana"
          ],
          [
           "Flametree Technologies Pty Ltd",
           "Portfolio risk analysis software"
          ],
          [
           "Global Road Technology Holdings Pty Ltd",
           "SMART Dosing Unit for Mining Dust Suppression & Water Management"
          ],
          [
           "Laronix Pty Ltd",
           "Commercialising Voice Technology Supporting Phone/Online Communication in Voice-Impaired Communities"
          ],
          [
           "The University of Queensland",
           "Resilient and sustainable supply chain of water treatment chemicals - Min Zheng"
          ],
          [
           "The University of Queensland - St Lucia, QLD",
           "Synthetic biology for critical metals recovery from mine waste - Denys Villa-Gomez"
          ],
          [
           "The University of Queensland",
           "A cloning technology to advance the Australian dates industry - Sundaravelpandian Kalaipandian"
          ],
          [
           "Watergum Community Inc",
           "Watergum Cane Toad Tadpole Trap and Lures"
          ],
          [
           "Gow Services Pty Ltd",
           "International Speaker Series 2022 – Mr Gary Bolles, Future of Work Events"
          ],
          [
           "Defence CRC for Trusted Autonomous Systems",
           "2022 Accelerating Trusted Autonomous Systems Symposium"
          ],
          [
           "Napalao Pty Ltd ATF Moore Family Trust T/A Nectar Creative Communications",
           "National Cleantech Conference and Exhibition"
          ],
          [
           "The Queensland XR Hub Pty Ltd",
           "Immersive Technologies Corporate Innovation Partnership"
          ],
          [
           "BOP Industries Pty Ltd",
           "Innovation in Education Festival in July 2022 and Young Entrepreneurs Hub 2022-23 program"
          ],
          [
           "ASE Group",
           "Young Entrepreneurs Summit events to be held in June and September 2022"
          ],
          [
           "Smart Precinct NQ Limited",
           "Queensland Connects Cohort 3 - Smart Precinct NQ Ltd"
          ],
          [
           "Queensland XR Hub Pty Ltd",
           "Aerospace Xelerated Pitch Challenge"
          ],
          [
           "Regional Development Australia Ipswich and West Moreton Inc",
           "Queensland Connects Cohort 3 - Ipswich & West Moreton Inc"
          ],
          [
           "WDU Enterprises Pty Ltd",
           "Modular, scalable & flat-packable commercial (large-scale) worm farms"
          ],
          [
           "NeuTex Pty Ltd",
           "Image-guided Surgical Technologies Centre"
          ],
          [
           "Griffith University",
           "Clinical Entrepreneurship Change Agents Program"
          ],
          [
           "Co Spaces Pty Ltd",
           "LuminaX Health Accelerator"
          ],
          [
           "Mater Misericordiae Ltd",
           "Virtual Cardiac Rehabilitation for Queensland Regional and Remote Communities Program - Mater"
          ],
          [
           "Cardihab Pty Ltd",
           "Virtual Cardiac Rehabilitation for Queensland Regional and Remote Communities Program - Cardihab"
          ],
          [
           "Advisory Board Centre Pty Ltd",
           "Ignite+"
          ],
          [
           "CPD Central Pty Ltd",
           "Improving Student Retention and Engagement with Integrated & Innovative Education Delivery"
          ],
          [
           "Logan City Council",
           "Queensland Connects Cohort 3 - Logan City Council"
          ],
          [
           "The University of Queensland",
           "Enhanced carbon-capture in pigeonpea: an innovative approach for carbon sequestration- Linh Hoang"
          ],
          [
           "Mater Education Ltd",
           "Immersive Learning at Mater Education"
          ],
          [
           "Townlec Auto Electrical Pty Ltd",
           "Commercialising LokaBox"
          ],
          [
           "Bloom Impact Investing Pty Ltd",
           "Digital Platform to make Renewables and Cleantech investments accessible"
          ],
          [
           "University of Southern Queensland",
           "AI-powered condition monitoring technology for safe-guarding Queensland’s tunnel infrastructure - Andy Nguyen"
          ],
          [
           "PEMDx Pty Ltd",
           "Flow-Bag Oxygen Mask Respiratory Indicator"
          ],
          [
           "Predico Software Pty Ltd",
           "Data Driven AI for Resource Optimisation"
          ],
          [
           "S4S Trading Pty Ltd",
           "Switch4Schools - student mental health and wellbeing"
          ],
          [
           "Voltin Operations Pty Ltd",
           "10,000 Safer Cities - Autonomous Façade Assessment System"
          ],
          [
           "Spur Labs Pty Ltd",
           "Toucan"
          ],
          [
           "Stackle Pty Ltd",
           "Stackle for Innovating and Personalising Online Learning"
          ],
          [
           "The Smarter Towing Company Pty Ltd",
           "Real-time wheel bearing monitoring for trucks caravans and trailers."
          ],
          [
           "Elemental Instruments Pty Ltd",
           "Precision magnetic fields for scientific and industrial applications"
          ],
          [
           "Annuo Medical Technology Solutions Pty Ltd",
           "Seed round 2023"
          ],
          [
           "Spacecubed Ventures Pty Ltd",
           "She Codes Female Founder program"
          ],
          [
           "Stripped Supply Pty Ltd",
           "Stripped Supply Pre-Seed Raise 2023"
          ],
          [
           "Impact Boom Pty Ltd",
           "FFFWD Accelerator Program"
          ],
          [
           "Australian Sports Technologies Network Ltd",
           "Change the Ratio: Bridging the Gender Gap in Sportstech"
          ],
          [
           "Australian Computer Society Incorporated",
           "Elevating Queensland Female Founders - Taking businesses to the next level of their growth journey."
          ],
          [
           "Advanced Robotics For Manufacturing Hub Ltd",
           "Business and Technology Accelerator Roadmap Development Program for Female Founders"
          ],
          [
           "Startup Onramp Pty Ltd",
           "Startup Onramp Female Founders Program"
          ],
          [
           "Work Window Australia Pty Ltd",
           "Work Window Virtual Reality Tourism and Hospitality"
          ],
          [
           "Social Impact Group Pty Ltd",
           "AI Fundraising & Marketing Assistant"
          ],
          [
           "Queensland University of Technology",
           "Novel in-silico musculoskeletal simulation tool for shoulder joint surgery - Maxence Lavaill"
          ],
          [
           "The University of Queensland",
           "Supporting more effective disease control in Queensland’s livestock industries - Lida Omaleki"
          ],
          [
           "The University of Queensland",
           "AI-based automated inspection system for custom-made endografts - Yuan Wang"
          ],
          [
           "The University of Queensland",
           "Developing microbial nitrogen supply biotechnology for Queensland mined land rehabilitation- Fang You"
          ],
          [
           "The University of Queensland",
           "Critical metal recovery from Queensland mine tailings - Ummul Khair Sultana"
          ],
          [
           "The University of Queensland",
           "Geochronologic mapping towards net-zero: potentials of Queensland’s critical minerals - Renjie Zhou"
          ],
          [
           "Griffith University",
           "Improving Coastal Erosion Assessment to Support Local Government Operations–Guilherme Vieira da Silva"
          ],
          [
           "The University of Queensland",
           "Al-driven holistic monitoring and management of mine waste and tailings- Chenming Zhang"
          ],
          [
           "The University of Queensland",
           "Next-Gen Reconfigurable Antenna System for Broadband Vehicular SatCom - Dr Kamel Sultan"
          ],
          [
           "The University of Queensland",
           "Targeted Alpha Therapies and immunological responses: Next-generation cancer treatments – Nicholas Fletcher"
          ],
          [
           "Access Intell Pty Ltd",
           "Access Monitor - Digital Platform for Trade Credit Risk Detection"
          ],
          [
           "Sandra Lorrel Bungaree King",
           "Black Bold and Beautiful First Nations Women's Luncheon 2023"
          ],
          [
           "Queensland XR Hub Pty Ltd",
           "Two year funding for operational costs and to deliver key activities to support and develop the immersive technology sector in Queensland"
          ],
          [
           "Boeing Defence Australia Ltd",
           "Space and Sustainability Pitch Event"
          ],
          [
           "The University of Queensland",
           "Enabling aluminium-ion battery manufacturing via separator innovation - Yueqi Kong"
          ],
          [
           "SNAPI Pty Ltd",
           "AI-powered digital Meter Readers delivering Meter-Reading-as-a-Service"
          ],
          [
           "Smart AI Connect Pty Ltd",
           "Commercialisation of an AI governance, compliance assurance and management framework"
          ],
          [
           "Goheadhunt Pty Ltd",
           "Goheadhunt - Digital Marketplace for Headhunting"
          ],
          [
           "ExtrasJar Pty Ltd",
           "Self-insurance investment deposit to solve the insurance affordability crisis"
          ],
          [
           "Clover Hill Logistics Pty Ltd",
           "Commercialisation of zero emissions heavy vehicles starting in Queensland \"EcoHaul\""
          ],
          [
           "Brio Group Pty Ltd",
           "Meet Aandi Go to Market"
          ],
          [
           "Imagine Realities",
           "QSO TuneUp"
          ],
          [
           "Griffith University",
           "Invigorating the coffee industry in Tropical North Queensland- Fawad Ali"
          ],
          [
           "Veterinarians for Climate Action Ltd",
           "Digital Toolkit to half emissions across the animal health sector"
          ],
          [
           "Startup OnRamp",
           "Ignite+ Spark"
          ]
         ],
         "hovertemplate": "<b>%{hovertext}</b><br><br>LGA Status=Cities<br>Approval Year=%{x}<br>Contractual Commitment ($ GST excl.)=%{y}<br>Recipient Name=%{customdata[0]}<br>Investment/Project Title=%{customdata[1]}<extra></extra>",
         "hovertext": [
          "Regional Startup Hubs Support Program",
          "Regional Startup Hubs Support Program",
          "Regional Startup Hubs Support Program",
          "Regional Startup Hubs Support Program",
          "Research Fellowships",
          "Travello",
          "QCN Fibre connection to North Queensland Regional Data Centre",
          "Industry Research Fellowships",
          "Ignite Ideas Fund",
          "Ignite Ideas Fund",
          "Ignite Ideas Fund",
          "Ignite Ideas Fund",
          "Ignite Ideas Fund",
          "Ignite Ideas Fund",
          "Platform Technology Program",
          "Industry Research Fellowships",
          "Industry Research Fellowships",
          "Industry Research Fellowships",
          "Industry Research Fellowships",
          "Industry Research Fellowships",
          "Industry Research Fellowships",
          "Industry Research Fellowships",
          "Industry Research Fellowships",
          "Industry Research Fellowships",
          "Industry Research Fellowships",
          "Industry Research Fellowships",
          "Industry Research Fellowships",
          "Industry Research Fellowships",
          "Industry Research Fellowships",
          "Industry Research Fellowships",
          "Industry Research Fellowships",
          "Industry Research Fellowships",
          "Industry Research Fellowships",
          "Industry Research Fellowships",
          "Industry Research Fellowships",
          "Industry Research Fellowships",
          "Industry Research Fellowships",
          "Industry Research Fellowships",
          "Industry Research Fellowships",
          "Industry Research Fellowships",
          "Industry Accelerators",
          "Industry Research Fellowships",
          "Industry Research Fellowships",
          "Industry Research Fellowships",
          "Ignite Ideas Fund",
          "Industry Research Fellowships",
          "Ignite Ideas Fund",
          "Ignite Ideas Fund",
          "Ignite Ideas Fund",
          "Ignite Ideas Fund",
          "Ignite Ideas Fund",
          "Ignite Ideas Fund",
          "Global CEO Challenge",
          "Ignite Ideas Fund",
          "Ignite Ideas Fund",
          "Ignite Ideas Fund",
          "Ignite Ideas Fund",
          "Ignite Ideas Fund",
          "Hot DesQ",
          "Hot DesQ",
          "Hot DesQ",
          "Ignite Ideas Fund",
          "Ignite Ideas Fund",
          "Hot DesQ",
          "Hot DesQ",
          "Hot DesQ",
          "Ignite Ideas Fund",
          "Hot DesQ",
          "Ignite Ideas Fund",
          "Ignite Ideas Fund",
          "Ignite Ideas Fund",
          "Ignite Ideas Fund",
          "Ignite Ideas Fund",
          "Ignite Ideas Fund",
          "Ignite Ideas Fund",
          "Ignite Ideas Fund",
          "Ignite Ideas Fund",
          "Ignite Ideas Fund",
          "Ignite Ideas Fund",
          "Ignite Ideas Fund",
          "Ignite Ideas Fund",
          "Ignite Ideas Fund",
          "Deadly Innovation",
          "Ignite Ideas Fund",
          "Ignite Ideas Fund",
          "Ignite Ideas Fund",
          "Ignite Ideas Fund",
          "Ignite Ideas Fund",
          "Ignite Ideas Fund",
          "Female Founders Program",
          "Female Founders Program",
          "Ignite Ideas Fund",
          "Ignite Ideas Fund",
          "Industry Research Fellowships",
          "Industry Research Fellowships",
          "Industry Research Fellowships",
          "Industry Research Fellowships",
          "Industry Research Fellowships",
          "Industry Research Fellowships",
          "Industry Research Fellowships",
          "Industry Research Fellowships",
          "Industry Research Fellowships",
          "Industry Research Fellowships",
          "Industry Research Fellowships",
          "Innovation Precincts and Places",
          "Industry Research Fellowships",
          "UQ - COVID-19 Vaccine",
          "WaterStart",
          "Therabubble",
          "Industry Research Fellowships",
          "SoftBank",
          "Queensland Connects",
          "Industry Research Fellowships",
          "Industry Research Fellowships",
          "Industry Research Fellowships",
          "Industry Research Fellowships",
          "Industry Research Fellowships",
          "Industry Research Fellowships",
          "Industry Research Fellowships",
          "Industry Research Fellowships",
          "Regional Network Fund",
          "Industry Research Fellowships",
          "Industry Research Fellowships",
          "Industry Research Fellowships",
          "Industry Research Fellowships",
          "Industry Tech Fund",
          "Life Sciences Queensland",
          "Mental Health Services for Founders",
          "Orange Sky - Campfire",
          "QCN Fibre Regional Pilot Program",
          "Industry Research Fellowships",
          "Advancing Regional Innovation Program",
          "Industry Research Fellowships",
          "Ignite Ideas Fund",
          "Ignite Ideas Fund",
          "Ignite Ideas Fund",
          "Ignite Ideas Fund",
          "Ignite Ideas Fund",
          "Ignite Ideas Fund",
          "Ignite Ideas Fund",
          "Ignite Ideas Fund",
          "Ignite Ideas Fund",
          "Ignite Ideas Fund",
          "Ignite Ideas Fund",
          "Ignite Ideas Fund",
          "Ignite Ideas Fund",
          "Ignite Ideas Fund",
          "Ignite Ideas Fund",
          "Ignite Ideas Fund",
          "Ignite Ideas Fund",
          "Ignite Ideas Fund",
          "Ignite Ideas Fund",
          "Ignite Ideas Fund",
          "Ignite Ideas Fund",
          "Ignite Ideas Fund",
          "Ignite Ideas Fund",
          "Ignite Ideas Fund",
          "Ignite Ideas Fund",
          "Ignite Ideas Fund",
          "Ignite Ideas Fund",
          "Ignite Ideas Fund",
          "Ignite Ideas Fund",
          "BDO Business of Entrepreneurship",
          "Bionics",
          "Bionics",
          "Deadly Innovation",
          "Deadly Innovation",
          "Deadly Innovation",
          "Deadly Innovation",
          "Female Founders Program",
          "Ignite Ideas Fund",
          "Industry Accelerators",
          "Ignite Ideas Fund",
          "Ignite Ideas Fund",
          "Ignite Ideas Fund",
          "Ignite Ideas Fund",
          "Ignite Ideas Fund",
          "Ignite Ideas Fund",
          "Ignite Ideas Fund",
          "Ignite Ideas Fund",
          "Ignite Ideas Fund",
          "Ignite Ideas Fund",
          "Queensland Future Skills Project",
          "Regional Futures - ED Qld Con Teams",
          "Regional Futures - Events and Activations",
          "Ignite Ideas Fund",
          "Ignite Ideas Fund",
          "Ignite Ideas Fund",
          "Ignite Ideas Fund",
          "Ignite Ideas Fund",
          "Ignite Ideas Fund",
          "Ignite Ideas Fund",
          "Industry Research Fellowships",
          "Industry Research Fellowships",
          "Industry Research Fellowships",
          "Industry Research Fellowships",
          "Industry Research Fellowships",
          "Industry Research Fellowships",
          "Industry Research Fellowships",
          "Industry Research Fellowships",
          "Industry Research Fellowships",
          "Ignite Ideas Fund",
          "Ignite Ideas Fund",
          "Industry Research Fellowships",
          "Industry Research Fellowships",
          "Industry Research Fellowships",
          "Industry Research Fellowships",
          "Industry Research Fellowships",
          "Ignite Ideas Fund",
          "Ignite Ideas Fund",
          "Ignite Ideas Fund",
          "Industry Research Fellowships",
          "Ignite Ideas Fund",
          "Industry Research Fellowships",
          "Industry Research Fellowships",
          "Industry Research Fellowships",
          "Industry Research Fellowships",
          "Industry Research Fellowships",
          "Industry Research Fellowships",
          "Industry Research Fellowships",
          "Ignite Ideas Fund",
          "Ignite Ideas Fund",
          "Ignite Ideas Fund",
          "Industry Research Fellowships",
          "Ignite Ideas Fund",
          "Ignite Ideas Fund",
          "Ignite Ideas Fund",
          "Industry Research Fellowships",
          "Industry Research Fellowships",
          "Industry Research Fellowships",
          "Ignite Ideas Fund",
          "Regional Futures - Events and Activations",
          "Regional Futures - Events and Activations",
          "Regional Futures - Events and Activations",
          "Open Innovation Challenge",
          "Regional Futures - Events and Activations",
          "Regional Futures - Events and Activations",
          "Regional Futures - ED Qld Con Teams",
          "Open Innovation Challenge",
          "Regional Futures - ED Qld Con Teams",
          "Ignite Ideas Fund",
          "Regional Futures - Collaborative Projects",
          "Regional Futures - Collaborative Projects",
          "Regional Futures - Collaborative Projects",
          "Regional Futures - Collaborative Projects",
          "Regional Futures - Collaborative Projects",
          "Ignite+",
          "Private Sector Pathways Program",
          "Regional Futures - ED Qld Con Teams",
          "Industry Research Fellowships",
          "Open Innovation Challenge",
          "Ignite Ideas Fund",
          "Ignite Ideas Fund",
          "Industry Research Fellowships",
          "Ignite Ideas Fund",
          "Ignite Ideas Fund",
          "Ignite Ideas Fund",
          "Ignite Ideas Fund",
          "Ignite Ideas Fund",
          "Ignite Ideas Fund",
          "Ignite Ideas Fund",
          "Ignite Ideas Fund",
          "Female Founders Program",
          "Female Founders Program",
          "Female Founders Program",
          "Female Founders Program",
          "Female Founders Program",
          "Female Founders Program",
          "Female Founders Program",
          "Female Founders Program",
          "Private Sector Pathways Program",
          "Ignite Ideas Fund",
          "Industry Research Fellowships",
          "Industry Research Fellowships",
          "Industry Research Fellowships",
          "Industry Research Fellowships",
          "Industry Research Fellowships",
          "Industry Research Fellowships",
          "Industry Research Fellowships",
          "Industry Research Fellowships",
          "Industry Research Fellowships",
          "Industry Research Fellowships",
          "Ignite Ideas Fund",
          "Regional Futures - Events and Activations",
          "Open Innovation Challenge",
          "Open Innovation Challenge",
          "Industry Research Fellowships",
          "Ignite Ideas Fund",
          "Ignite Ideas Fund",
          "Ignite Ideas Fund",
          "Ignite Ideas Fund",
          "Ignite Ideas Fund",
          "Ignite Ideas Fund",
          "Private Sector Pathways Program",
          "Industry Research Fellowships",
          "Ignite Ideas Fund",
          "Ignite+"
         ],
         "legendgroup": "Cities",
         "marker": {
          "color": "#EF553B"
         },
         "name": "Cities",
         "notched": false,
         "offsetgroup": "Cities",
         "orientation": "v",
         "showlegend": true,
         "type": "box",
         "x": [
          2019,
          2019,
          2019,
          2019,
          2019,
          2019,
          2019,
          2019,
          2019,
          2019,
          2019,
          2019,
          2019,
          2019,
          2019,
          2019,
          2019,
          2019,
          2019,
          2019,
          2019,
          2019,
          2019,
          2019,
          2019,
          2019,
          2019,
          2019,
          2019,
          2019,
          2019,
          2019,
          2019,
          2019,
          2019,
          2019,
          2019,
          2019,
          2019,
          2019,
          2019,
          2019,
          2019,
          2019,
          2019,
          2019,
          2019,
          2019,
          2019,
          2019,
          2019,
          2019,
          2019,
          2019,
          2019,
          2019,
          2019,
          2019,
          2019,
          2019,
          2019,
          2019,
          2019,
          2019,
          2019,
          2019,
          2019,
          2019,
          2019,
          2019,
          2019,
          2019,
          2019,
          2019,
          2019,
          2019,
          2019,
          2019,
          2019,
          2019,
          2019,
          2019,
          2019,
          2019,
          2019,
          2019,
          2019,
          2019,
          2019,
          2019,
          2019,
          2019,
          2019,
          2020,
          2020,
          2020,
          2020,
          2020,
          2020,
          2020,
          2020,
          2020,
          2020,
          2020,
          2020,
          2020,
          2020,
          2020,
          2020,
          2020,
          2020,
          2020,
          2020,
          2020,
          2020,
          2020,
          2020,
          2020,
          2020,
          2020,
          2020,
          2020,
          2020,
          2020,
          2020,
          2020,
          2020,
          2020,
          2020,
          2020,
          2020,
          2020,
          2020,
          2020,
          2020,
          2020,
          2020,
          2020,
          2020,
          2020,
          2020,
          2020,
          2020,
          2020,
          2020,
          2020,
          2020,
          2020,
          2020,
          2020,
          2020,
          2020,
          2020,
          2020,
          2020,
          2020,
          2020,
          2020,
          2020,
          2020,
          2020,
          2020,
          2020,
          2020,
          2020,
          2020,
          2020,
          2020,
          2020,
          2020,
          2020,
          2020,
          2020,
          2020,
          2020,
          2020,
          2020,
          2020,
          2020,
          2020,
          2021,
          2021,
          2021,
          2021,
          2021,
          2021,
          2021,
          2021,
          2021,
          2021,
          2021,
          2021,
          2021,
          2021,
          2021,
          2021,
          2021,
          2021,
          2021,
          2021,
          2021,
          2021,
          2021,
          2021,
          2021,
          2021,
          2021,
          2021,
          2021,
          2021,
          2021,
          2021,
          2022,
          2022,
          2022,
          2022,
          2022,
          2022,
          2022,
          2022,
          2022,
          2022,
          2022,
          2022,
          2022,
          2022,
          2022,
          2022,
          2022,
          2022,
          2022,
          2022,
          2022,
          2022,
          2022,
          2022,
          2022,
          2022,
          2022,
          2022,
          2022,
          2022,
          2022,
          2022,
          2022,
          2022,
          2022,
          2022,
          2022,
          2022,
          2022,
          2022,
          2022,
          2022,
          2022,
          2022,
          2022,
          2022,
          2022,
          2022,
          2022,
          2022,
          2023,
          2023,
          2023,
          2023,
          2023,
          2023,
          2023,
          2023,
          2023,
          2023,
          2023,
          2023,
          2023,
          2023,
          2023,
          2023,
          2023,
          2023,
          2023,
          2023,
          2023,
          2023,
          2023,
          2023,
          2023,
          2023,
          2023,
          2023,
          2023,
          2023,
          2023,
          2023,
          2023,
          2023,
          2023
         ],
         "x0": " ",
         "xaxis": "x",
         "y": [
          75000,
          75000,
          51824,
          75000,
          1000000,
          300000,
          192394,
          180000,
          90000,
          100000,
          200000,
          200000,
          100000,
          199999,
          1500000,
          300000,
          139682,
          180000,
          162889,
          180000,
          300000,
          31569,
          180000,
          178043,
          180000,
          174793,
          180000,
          161221,
          118647,
          300000,
          300000,
          300000,
          300000,
          180000,
          300000,
          180000,
          180000,
          180000,
          300000,
          180000,
          99800,
          180000,
          180000,
          180000,
          180000,
          300000,
          160000,
          100000,
          100000,
          100000,
          100000,
          90000,
          75000,
          100000,
          200000,
          100000,
          100000,
          99928,
          10000,
          8000,
          6000,
          199456,
          150000,
          8000,
          8000,
          8000,
          100000,
          8000,
          100000,
          100000,
          98600,
          100000,
          100000,
          95000,
          100000,
          200000,
          100000,
          100000,
          100000,
          100000,
          50000,
          100000,
          100000,
          200000,
          199739,
          100000,
          200000,
          100000,
          100000,
          76500,
          1452855,
          185449,
          100000,
          74786,
          150000,
          150000,
          90000,
          55000,
          180000,
          180000,
          120000,
          90000,
          53062,
          180000,
          10000,
          150000,
          10000000,
          500000,
          114309,
          300000,
          400000,
          334800,
          300000,
          300000,
          90000,
          300000,
          300000,
          150000,
          300000,
          300000,
          52500,
          90000,
          300000,
          180000,
          300000,
          546027,
          450000,
          52499,
          120000,
          197000,
          300000,
          500000,
          135223,
          200000,
          100000,
          100000,
          99603,
          100000,
          100000,
          100000,
          150000,
          100000,
          100000,
          100000,
          100000,
          100000,
          180000,
          200000,
          200000,
          100000,
          100000,
          200000,
          100000,
          200000,
          100000,
          100000,
          100000,
          100000,
          50000,
          100000,
          104000,
          100000,
          356396,
          100000,
          60000,
          100000,
          72986,
          100000,
          75000,
          95409,
          100000,
          300000,
          100000,
          80000,
          100000,
          50000,
          200000,
          90000,
          100000,
          100000,
          100000,
          100000,
          157440,
          30000,
          15000,
          100000,
          99996,
          200000,
          100000,
          100000,
          50000,
          97000,
          160000,
          360000,
          100000,
          240000,
          360000,
          240000,
          360000,
          240000,
          160000,
          100000,
          146250,
          160000,
          240000,
          360000,
          240000,
          360000,
          78000,
          99999,
          100000,
          240000,
          200000,
          240000,
          360000,
          360000,
          240000,
          360000,
          240000,
          240000,
          57623,
          100000,
          100000,
          240000,
          100000,
          100000,
          197950,
          240000,
          360000,
          360000,
          200000,
          30505,
          10976,
          30000,
          150000,
          10000,
          10000,
          30000,
          40000,
          30000,
          92940,
          200000,
          200000,
          150000,
          172500,
          77500,
          430550,
          47345,
          30000,
          360000,
          40000,
          100000,
          50000,
          360000,
          92270,
          177000,
          100000,
          100000,
          200000,
          98500,
          100000,
          45000,
          86666,
          80000,
          116000,
          87590,
          100000,
          100000,
          100000,
          96550,
          50182,
          198500,
          160000,
          360000,
          240000,
          360000,
          240000,
          360000,
          360000,
          360000,
          240000,
          360000,
          199357,
          20000,
          945000,
          39600,
          240000,
          100000,
          100000,
          140000,
          100000,
          99999,
          23397,
          49000,
          240000,
          100000,
          148475
         ],
         "y0": " ",
         "yaxis": "y"
        }
       ],
       "layout": {
        "boxmode": "group",
        "height": 500,
        "legend": {
         "title": {
          "font": {
           "size": 15
          },
          "text": "LGA Status"
         },
         "tracegroupgap": 0
        },
        "template": {
         "data": {
          "bar": [
           {
            "error_x": {
             "color": "#2a3f5f"
            },
            "error_y": {
             "color": "#2a3f5f"
            },
            "marker": {
             "line": {
              "color": "#E5ECF6",
              "width": 0.5
             },
             "pattern": {
              "fillmode": "overlay",
              "size": 10,
              "solidity": 0.2
             }
            },
            "type": "bar"
           }
          ],
          "barpolar": [
           {
            "marker": {
             "line": {
              "color": "#E5ECF6",
              "width": 0.5
             },
             "pattern": {
              "fillmode": "overlay",
              "size": 10,
              "solidity": 0.2
             }
            },
            "type": "barpolar"
           }
          ],
          "carpet": [
           {
            "aaxis": {
             "endlinecolor": "#2a3f5f",
             "gridcolor": "white",
             "linecolor": "white",
             "minorgridcolor": "white",
             "startlinecolor": "#2a3f5f"
            },
            "baxis": {
             "endlinecolor": "#2a3f5f",
             "gridcolor": "white",
             "linecolor": "white",
             "minorgridcolor": "white",
             "startlinecolor": "#2a3f5f"
            },
            "type": "carpet"
           }
          ],
          "choropleth": [
           {
            "colorbar": {
             "outlinewidth": 0,
             "ticks": ""
            },
            "type": "choropleth"
           }
          ],
          "contour": [
           {
            "colorbar": {
             "outlinewidth": 0,
             "ticks": ""
            },
            "colorscale": [
             [
              0,
              "#0d0887"
             ],
             [
              0.1111111111111111,
              "#46039f"
             ],
             [
              0.2222222222222222,
              "#7201a8"
             ],
             [
              0.3333333333333333,
              "#9c179e"
             ],
             [
              0.4444444444444444,
              "#bd3786"
             ],
             [
              0.5555555555555556,
              "#d8576b"
             ],
             [
              0.6666666666666666,
              "#ed7953"
             ],
             [
              0.7777777777777778,
              "#fb9f3a"
             ],
             [
              0.8888888888888888,
              "#fdca26"
             ],
             [
              1,
              "#f0f921"
             ]
            ],
            "type": "contour"
           }
          ],
          "contourcarpet": [
           {
            "colorbar": {
             "outlinewidth": 0,
             "ticks": ""
            },
            "type": "contourcarpet"
           }
          ],
          "heatmap": [
           {
            "colorbar": {
             "outlinewidth": 0,
             "ticks": ""
            },
            "colorscale": [
             [
              0,
              "#0d0887"
             ],
             [
              0.1111111111111111,
              "#46039f"
             ],
             [
              0.2222222222222222,
              "#7201a8"
             ],
             [
              0.3333333333333333,
              "#9c179e"
             ],
             [
              0.4444444444444444,
              "#bd3786"
             ],
             [
              0.5555555555555556,
              "#d8576b"
             ],
             [
              0.6666666666666666,
              "#ed7953"
             ],
             [
              0.7777777777777778,
              "#fb9f3a"
             ],
             [
              0.8888888888888888,
              "#fdca26"
             ],
             [
              1,
              "#f0f921"
             ]
            ],
            "type": "heatmap"
           }
          ],
          "heatmapgl": [
           {
            "colorbar": {
             "outlinewidth": 0,
             "ticks": ""
            },
            "colorscale": [
             [
              0,
              "#0d0887"
             ],
             [
              0.1111111111111111,
              "#46039f"
             ],
             [
              0.2222222222222222,
              "#7201a8"
             ],
             [
              0.3333333333333333,
              "#9c179e"
             ],
             [
              0.4444444444444444,
              "#bd3786"
             ],
             [
              0.5555555555555556,
              "#d8576b"
             ],
             [
              0.6666666666666666,
              "#ed7953"
             ],
             [
              0.7777777777777778,
              "#fb9f3a"
             ],
             [
              0.8888888888888888,
              "#fdca26"
             ],
             [
              1,
              "#f0f921"
             ]
            ],
            "type": "heatmapgl"
           }
          ],
          "histogram": [
           {
            "marker": {
             "pattern": {
              "fillmode": "overlay",
              "size": 10,
              "solidity": 0.2
             }
            },
            "type": "histogram"
           }
          ],
          "histogram2d": [
           {
            "colorbar": {
             "outlinewidth": 0,
             "ticks": ""
            },
            "colorscale": [
             [
              0,
              "#0d0887"
             ],
             [
              0.1111111111111111,
              "#46039f"
             ],
             [
              0.2222222222222222,
              "#7201a8"
             ],
             [
              0.3333333333333333,
              "#9c179e"
             ],
             [
              0.4444444444444444,
              "#bd3786"
             ],
             [
              0.5555555555555556,
              "#d8576b"
             ],
             [
              0.6666666666666666,
              "#ed7953"
             ],
             [
              0.7777777777777778,
              "#fb9f3a"
             ],
             [
              0.8888888888888888,
              "#fdca26"
             ],
             [
              1,
              "#f0f921"
             ]
            ],
            "type": "histogram2d"
           }
          ],
          "histogram2dcontour": [
           {
            "colorbar": {
             "outlinewidth": 0,
             "ticks": ""
            },
            "colorscale": [
             [
              0,
              "#0d0887"
             ],
             [
              0.1111111111111111,
              "#46039f"
             ],
             [
              0.2222222222222222,
              "#7201a8"
             ],
             [
              0.3333333333333333,
              "#9c179e"
             ],
             [
              0.4444444444444444,
              "#bd3786"
             ],
             [
              0.5555555555555556,
              "#d8576b"
             ],
             [
              0.6666666666666666,
              "#ed7953"
             ],
             [
              0.7777777777777778,
              "#fb9f3a"
             ],
             [
              0.8888888888888888,
              "#fdca26"
             ],
             [
              1,
              "#f0f921"
             ]
            ],
            "type": "histogram2dcontour"
           }
          ],
          "mesh3d": [
           {
            "colorbar": {
             "outlinewidth": 0,
             "ticks": ""
            },
            "type": "mesh3d"
           }
          ],
          "parcoords": [
           {
            "line": {
             "colorbar": {
              "outlinewidth": 0,
              "ticks": ""
             }
            },
            "type": "parcoords"
           }
          ],
          "pie": [
           {
            "automargin": true,
            "type": "pie"
           }
          ],
          "scatter": [
           {
            "fillpattern": {
             "fillmode": "overlay",
             "size": 10,
             "solidity": 0.2
            },
            "type": "scatter"
           }
          ],
          "scatter3d": [
           {
            "line": {
             "colorbar": {
              "outlinewidth": 0,
              "ticks": ""
             }
            },
            "marker": {
             "colorbar": {
              "outlinewidth": 0,
              "ticks": ""
             }
            },
            "type": "scatter3d"
           }
          ],
          "scattercarpet": [
           {
            "marker": {
             "colorbar": {
              "outlinewidth": 0,
              "ticks": ""
             }
            },
            "type": "scattercarpet"
           }
          ],
          "scattergeo": [
           {
            "marker": {
             "colorbar": {
              "outlinewidth": 0,
              "ticks": ""
             }
            },
            "type": "scattergeo"
           }
          ],
          "scattergl": [
           {
            "marker": {
             "colorbar": {
              "outlinewidth": 0,
              "ticks": ""
             }
            },
            "type": "scattergl"
           }
          ],
          "scattermapbox": [
           {
            "marker": {
             "colorbar": {
              "outlinewidth": 0,
              "ticks": ""
             }
            },
            "type": "scattermapbox"
           }
          ],
          "scatterpolar": [
           {
            "marker": {
             "colorbar": {
              "outlinewidth": 0,
              "ticks": ""
             }
            },
            "type": "scatterpolar"
           }
          ],
          "scatterpolargl": [
           {
            "marker": {
             "colorbar": {
              "outlinewidth": 0,
              "ticks": ""
             }
            },
            "type": "scatterpolargl"
           }
          ],
          "scatterternary": [
           {
            "marker": {
             "colorbar": {
              "outlinewidth": 0,
              "ticks": ""
             }
            },
            "type": "scatterternary"
           }
          ],
          "surface": [
           {
            "colorbar": {
             "outlinewidth": 0,
             "ticks": ""
            },
            "colorscale": [
             [
              0,
              "#0d0887"
             ],
             [
              0.1111111111111111,
              "#46039f"
             ],
             [
              0.2222222222222222,
              "#7201a8"
             ],
             [
              0.3333333333333333,
              "#9c179e"
             ],
             [
              0.4444444444444444,
              "#bd3786"
             ],
             [
              0.5555555555555556,
              "#d8576b"
             ],
             [
              0.6666666666666666,
              "#ed7953"
             ],
             [
              0.7777777777777778,
              "#fb9f3a"
             ],
             [
              0.8888888888888888,
              "#fdca26"
             ],
             [
              1,
              "#f0f921"
             ]
            ],
            "type": "surface"
           }
          ],
          "table": [
           {
            "cells": {
             "fill": {
              "color": "#EBF0F8"
             },
             "line": {
              "color": "white"
             }
            },
            "header": {
             "fill": {
              "color": "#C8D4E3"
             },
             "line": {
              "color": "white"
             }
            },
            "type": "table"
           }
          ]
         },
         "layout": {
          "annotationdefaults": {
           "arrowcolor": "#2a3f5f",
           "arrowhead": 0,
           "arrowwidth": 1
          },
          "autotypenumbers": "strict",
          "coloraxis": {
           "colorbar": {
            "outlinewidth": 0,
            "ticks": ""
           }
          },
          "colorscale": {
           "diverging": [
            [
             0,
             "#8e0152"
            ],
            [
             0.1,
             "#c51b7d"
            ],
            [
             0.2,
             "#de77ae"
            ],
            [
             0.3,
             "#f1b6da"
            ],
            [
             0.4,
             "#fde0ef"
            ],
            [
             0.5,
             "#f7f7f7"
            ],
            [
             0.6,
             "#e6f5d0"
            ],
            [
             0.7,
             "#b8e186"
            ],
            [
             0.8,
             "#7fbc41"
            ],
            [
             0.9,
             "#4d9221"
            ],
            [
             1,
             "#276419"
            ]
           ],
           "sequential": [
            [
             0,
             "#0d0887"
            ],
            [
             0.1111111111111111,
             "#46039f"
            ],
            [
             0.2222222222222222,
             "#7201a8"
            ],
            [
             0.3333333333333333,
             "#9c179e"
            ],
            [
             0.4444444444444444,
             "#bd3786"
            ],
            [
             0.5555555555555556,
             "#d8576b"
            ],
            [
             0.6666666666666666,
             "#ed7953"
            ],
            [
             0.7777777777777778,
             "#fb9f3a"
            ],
            [
             0.8888888888888888,
             "#fdca26"
            ],
            [
             1,
             "#f0f921"
            ]
           ],
           "sequentialminus": [
            [
             0,
             "#0d0887"
            ],
            [
             0.1111111111111111,
             "#46039f"
            ],
            [
             0.2222222222222222,
             "#7201a8"
            ],
            [
             0.3333333333333333,
             "#9c179e"
            ],
            [
             0.4444444444444444,
             "#bd3786"
            ],
            [
             0.5555555555555556,
             "#d8576b"
            ],
            [
             0.6666666666666666,
             "#ed7953"
            ],
            [
             0.7777777777777778,
             "#fb9f3a"
            ],
            [
             0.8888888888888888,
             "#fdca26"
            ],
            [
             1,
             "#f0f921"
            ]
           ]
          },
          "colorway": [
           "#636efa",
           "#EF553B",
           "#00cc96",
           "#ab63fa",
           "#FFA15A",
           "#19d3f3",
           "#FF6692",
           "#B6E880",
           "#FF97FF",
           "#FECB52"
          ],
          "font": {
           "color": "#2a3f5f"
          },
          "geo": {
           "bgcolor": "white",
           "lakecolor": "white",
           "landcolor": "#E5ECF6",
           "showlakes": true,
           "showland": true,
           "subunitcolor": "white"
          },
          "hoverlabel": {
           "align": "left"
          },
          "hovermode": "closest",
          "mapbox": {
           "style": "light"
          },
          "paper_bgcolor": "white",
          "plot_bgcolor": "#E5ECF6",
          "polar": {
           "angularaxis": {
            "gridcolor": "white",
            "linecolor": "white",
            "ticks": ""
           },
           "bgcolor": "#E5ECF6",
           "radialaxis": {
            "gridcolor": "white",
            "linecolor": "white",
            "ticks": ""
           }
          },
          "scene": {
           "xaxis": {
            "backgroundcolor": "#E5ECF6",
            "gridcolor": "white",
            "gridwidth": 2,
            "linecolor": "white",
            "showbackground": true,
            "ticks": "",
            "zerolinecolor": "white"
           },
           "yaxis": {
            "backgroundcolor": "#E5ECF6",
            "gridcolor": "white",
            "gridwidth": 2,
            "linecolor": "white",
            "showbackground": true,
            "ticks": "",
            "zerolinecolor": "white"
           },
           "zaxis": {
            "backgroundcolor": "#E5ECF6",
            "gridcolor": "white",
            "gridwidth": 2,
            "linecolor": "white",
            "showbackground": true,
            "ticks": "",
            "zerolinecolor": "white"
           }
          },
          "shapedefaults": {
           "line": {
            "color": "#2a3f5f"
           }
          },
          "ternary": {
           "aaxis": {
            "gridcolor": "white",
            "linecolor": "white",
            "ticks": ""
           },
           "baxis": {
            "gridcolor": "white",
            "linecolor": "white",
            "ticks": ""
           },
           "bgcolor": "#E5ECF6",
           "caxis": {
            "gridcolor": "white",
            "linecolor": "white",
            "ticks": ""
           }
          },
          "title": {
           "x": 0.05
          },
          "xaxis": {
           "automargin": true,
           "gridcolor": "white",
           "linecolor": "white",
           "ticks": "",
           "title": {
            "standoff": 15
           },
           "zerolinecolor": "white",
           "zerolinewidth": 2
          },
          "yaxis": {
           "automargin": true,
           "gridcolor": "white",
           "linecolor": "white",
           "ticks": "",
           "title": {
            "standoff": 15
           },
           "zerolinecolor": "white",
           "zerolinewidth": 2
          }
         }
        },
        "title": {
         "font": {
          "size": 25
         },
         "text": "Boxplots of Funding Amounts Between 2019 and 2023",
         "x": 0.5
        },
        "xaxis": {
         "anchor": "y",
         "domain": [
          0,
          1
         ],
         "title": {
          "text": "Approval Year"
         }
        },
        "yaxis": {
         "anchor": "x",
         "domain": [
          0,
          1
         ],
         "title": {
          "text": "Contractual Commitment ($ GST excl.)"
         }
        }
       }
      }
     },
     "metadata": {},
     "output_type": "display_data"
    }
   ],
   "source": [
    "# Set up Boxplot\n",
    "part_b_boxes1 = px.box(cleaned_df.reset_index(), \n",
    "                       x = \"Approval Year\", \n",
    "                       y=\"Contractual Commitment ($ GST excl.)\", \n",
    "                       color = \"LGA Status\",\n",
    "                       hover_name = \"Program Name\",\n",
    "                       hover_data = [\"Recipient Name\", \"Investment/Project Title\"],\n",
    "                       title = \"Boxplots of Funding Amounts Between 2019 and 2023\")\n",
    "\n",
    "part_b_boxes1.update_layout(\n",
    "    title_font_size=25,\n",
    "    title_x=0.5,\n",
    "    legend_title_font_size=15,\n",
    "    height=500\n",
    ")"
   ]
  },
  {
   "cell_type": "markdown",
   "id": "c215d7a3-f30c-48b7-a2a3-0efb3524657d",
   "metadata": {},
   "source": [
    "This visualisation shows same the large outliers that were identified in the earlier analysis with more of these occuring in the earlier years. (Hover over to reveal the Project Name and other information). Using a boxplot though has the benefit of visualising exactly how much greater the outliers are than the rest of the distibuted grants.\n",
    "\n",
    "In order to see the details of the box plots themselves it is necessary to zoom in to only grants under a certain funding value. This has been arbitarily chosen to hide grants over $500k as none in the top ten largest grants are below that number."
   ]
  },
  {
   "cell_type": "code",
   "execution_count": 31,
   "id": "c5c2f5f8-a6bc-44b9-acc3-91351a5a58e5",
   "metadata": {
    "scrolled": true
   },
   "outputs": [
    {
     "data": {
      "application/vnd.plotly.v1+json": {
       "config": {
        "plotlyServerURL": "https://plot.ly"
       },
       "data": [
        {
         "alignmentgroup": "True",
         "customdata": [
          [
           "NexusMyst Pty Ltd",
           "Commercialising NexusMyst for Law enforcement"
          ],
          [
           "Central Queensland University",
           "Decolonising the systematic barriers and enablers of Indigenous career progression in MiningCo (BHP). An Aboriginal perspective - Terry Bell"
          ],
          [
           "The Space Australasia Pty Ltd",
           "Host"
          ],
          [
           "The Space Australasia Pty Ltd",
           "Host"
          ],
          [
           "The Space Australasia Pty Ltd",
           "Host"
          ],
          [
           "(UI!) The Urban Institute Pty Ltd",
           "UrbanInsight Smart City Data Platform"
          ],
          [
           "Aquafarms Queensland Pty Ltd",
           "Scaling to export"
          ],
          [
           "McGregor Diesel Pty Ltd ATF The S & A McGregor Trust",
           "Fuelling Innovation in Regional Queensland"
          ],
          [
           "Micromelon Pty Ltd",
           "Micromelon Robotics"
          ],
          [
           "Sensor Bridge Technologies Pty Ltd",
           "Smart Irrigation System"
          ],
          [
           "Simpori Pty Ltd",
           "Innovative sanitation of poultry sheds"
          ],
          [
           "Central Queensland University",
           "Automating crop estimation and harvest of Calypso mango - Zhenglin Wang"
          ],
          [
           "University of Southern Queensland",
           "Individualised Digital Twins for aerospace and space systems for enhanced analysis, prediction and health monitoring - Ingo Jahn"
          ],
          [
           "University of Southern Queensland",
           "Future Proofing Queensland’s Infrastructure through Climate Resilient Concrete Technologies – Allan Manalo"
          ],
          [
           "University of Southern Queensland",
           "Using nano-sensors to monitor the production of graphene-based construction materials - Leila Javazmi"
          ],
          [
           "University of the Sunshine Coast",
           "Predicting \"jellymeat\" in swordfish for fisheries sustainability under climate change - Kylie Scales"
          ],
          [
           "NetHealth Pty Ltd",
           "Commercialisation of Net-HealthData in Australia"
          ],
          [
           "Start-up Gladstone Inc",
           "EarlyPrenuer Program Support"
          ],
          [
           "Innovation Centre Sunshine Coast Pty Ltd",
           "Founder Fast Track Program"
          ],
          [
           "CLS Ability Enterprises Ltd",
           "AT_Incubator: Hardware Entrepreneurship Program"
          ],
          [
           "Canvas Coworking Inc",
           "Canvas Coworking Inc Programs and Activities Support"
          ],
          [
           "Bundaberg Enterprise Centre Association Inc",
           "Startup Switchboard"
          ],
          [
           "iiHub Ltd",
           "Building skills and capacity through education empowerment and collaboration"
          ],
          [
           "Central Queensland University",
           "Rockhampton Advanced Technology and Innovation Centre"
          ],
          [
           "Stepping Black Indigenous Corporation Australia",
           "Stepping Up through Business Enterprise"
          ],
          [
           "Startup Gladstone Inc",
           "Startup Gladstone Events 2019"
          ],
          [
           "Split Spaces Ltd",
           "Split Spaces Community Manager"
          ],
          [
           "Spark Bureau Limited",
           "Support program for Sunshine Coast Innovators"
          ],
          [
           "Silicon Coast Limited",
           "Connecting Startup Founders"
          ],
          [
           "Moneyley Pty Ltd",
           "Sustainable Startup Hub"
          ],
          [
           "Rockhampton Regional Council - SmartHub",
           "Rockhampton SmartHub Administrative Support"
          ],
          [
           "Rural and Remote Innovation Australia (RRIA) Inc",
           "Startup Tablelands Hub"
          ],
          [
           "Central Highlands Development Corporation",
           "Food and Fibre Plus"
          ],
          [
           "Sunshine Coast Regional Council",
           "Queensland Regional Innovation Benchmark (QRIB)"
          ],
          [
           "Health Management Pty Ltd",
           "Launch FNQ Innovation Ecosystem Activation and Education Project"
          ],
          [
           "Tablelands Regional Council",
           "Tablelands Innovation Program"
          ],
          [
           "Agrifood Connect Limited",
           "Agtech and Logistics Hub"
          ],
          [
           "BCF Concreting Solutions Pty Ltd",
           "Top Con GPS millimietre guidance system for Wirtgen former."
          ],
          [
           "Engag3d Pty Ltd",
           "Engag3d Autonomous Marketing using SmartSkills"
          ],
          [
           "Health Management Pty Ltd",
           "Sophus Nutrition Commercialisation"
          ],
          [
           "Shop Ferret Pty Ltd",
           "Qld Tourism Boost with Chat2Concierge!"
          ],
          [
           "GB Operations Pty Ltd",
           "GreaseBoss Industry Trials and Market Launch"
          ],
          [
           "Central Queensland University",
           "Preventing secondary harm: Scaffolding healthcare capacity to promote Indigenous adolescents’ mental health - Janya McCalman"
          ],
          [
           "The University of Queensland - Rural Clinical School",
           "Impact of and implications beyond COVID-19 on clinical supervision of staff and students in hospital and health settings - Priya Martin"
          ],
          [
           "University of the Sunshine Coast",
           "CoViBac: Host response and secondary pneumonia in COVID-19 - Olusola Olagoke"
          ],
          [
           "Start-up Gladstone Inc",
           "Blueprint Accelerator: Here for Gladstone - Here for Innovation (Innov8ors)"
          ],
          [
           "Central Queensland University",
           "Queensland Connects - Cohort 1 - Gladstone"
          ],
          [
           "Greater Whitsunday Alliance Limited",
           "Queensland Connects - Cohort 1 - Mackay"
          ],
          [
           "Toowoomba and Surat Basin Enterprise Pty Ltd",
           "Queensland Connects - Cohort 1 - Toowoomba"
          ],
          [
           "Cardly Pty Ltd",
           "Promoting Cardly to Australia & the World"
          ],
          [
           "Sunshine Coast Regional Council",
           "SunRamp Accelerator Program Sunshine Coast"
          ],
          [
           "Davis Trading Pty Ltd",
           "Effective Feral Pig Control Traps"
          ],
          [
           "Hero Software Pty Ltd",
           "Home Energy Rating & Optimisation (Hero) - Building Simulation Software"
          ],
          [
           "James Cook University",
           "FNQ Innovation Strategy and Action Plan"
          ],
          [
           "James Cook University",
           "The Northern Australia Indigenous Datathon 2021"
          ],
          [
           "Resources Centre of Excellence Ltd (RCOE)",
           "LeadIN 2022 - event series Mackay-Whitsunday"
          ],
          [
           "Engage and Create Consulting Pty Ltd",
           "AgTech 2021"
          ],
          [
           "Roma Commerce and Tourism Inc",
           "Queensland Connects Cohort 2 - Roma"
          ],
          [
           "Discover Farming Inc",
           "Queensland Connects Cohort 2 - Goondiwindi"
          ],
          [
           "Central Queensland University",
           "Queensland Connects Cohort 2 - Wide Bay Burnett"
          ],
          [
           "James Cook University",
           "Partner Up Queensland Regional Science and Innovation Network - Far North Queensland Hub"
          ],
          [
           "Central Queensland University",
           "Partner Up Queensland Regional Science and Innovation Network - Central Queensland Hub"
          ],
          [
           "Amaroo Environmental Education Centre",
           "Partner Up Queensland Regional Science and Innovation Network - Darling Downs Queensland Hub"
          ],
          [
           "University of Southern Queensland",
           "Novel and Sustainable Protective Concrete Seawall Infrastructure - Omar Alajarmeh"
          ],
          [
           "University of Southern Queensland",
           "Integrating waste plastics into sleeper for sustainable railway infrastructure - Wahid Ferdous"
          ],
          [
           "Central Queensland University",
           "New methane mitigation technology to increase Queensland’s beef industry sustainability –Diogo Costa"
          ],
          [
           "Central Queensland University",
           "Cheaper greener Queensland: Optimising renewable fuel production from mixed-waste - Jahirul Islam"
          ],
          [
           "Tomkat Global Solutions Pty Ltd",
           "Commercialisation of the KoolPak"
          ],
          [
           "Span Engineering Pty Ltd",
           "Doover - Industrial remote control system for agriculture"
          ],
          [
           "OPS (Aust) Pty Ltd",
           "Smart Remote Water Monitoring and Control"
          ],
          [
           "Jennifer Isobel McKee",
           "Compliance Management Digitalisation for Horticulture Industry"
          ],
          [
           "Hoops Crm Pty Ltd",
           "Business Management Software for Print, Promo and Decorated Apparel Businesses"
          ],
          [
           "Concrete Data Sensors Pty Ltd",
           "Structural Integrity monitoring of Concrete and Wall Structures"
          ],
          [
           "Food and Agribusiness Network Limited",
           "Accelerating innovation in place"
          ],
          [
           "Gladstone Engineering Alliance Inc",
           "Gladstone Connects Supplier Platform"
          ],
          [
           "Red Ridge Interior Queensland Ltd",
           "Canvas to Catwalk"
          ],
          [
           "University of Southern Queensland",
           "Sustainable and flood-resilient composite aids to navigation structures - Hamid Ahmadi"
          ],
          [
           "The University of Queensland",
           "Integrating technologies for rapid domestication in macadamia - Mobashwer Alam"
          ],
          [
           "Central Queensland University",
           "Shaping Queensland’s Grid for Sustainable Growth of Renewables in Rural Communities-Umme Mumtahina"
          ],
          [
           "Regional Development Australia Tropical North Incorporated",
           "TNQ Food Network Cluster Project Plan"
          ],
          [
           "Health Management Pty Ltd",
           "TNQ Seeding Future Innovation"
          ],
          [
           "Mineral Fox Pty Ltd",
           "Commercialisation of Mineral Fox Botanicrete to the Australian Market"
          ],
          [
           "TerraCipher Pty Ltd",
           "Shaipup - A knowledge brokering marketplace"
          ],
          [
           "Health Management Pty Ltd T/as YEP Cairns and Launch FNQ",
           "Tropical Innovation Festival 2022"
          ],
          [
           "Silicon Coast Limited",
           "Forward Festival (FWD Fest) - September 2022"
          ],
          [
           "Busness Enterprise Centre Association Inc T/A Regional Business HQ",
           "Agtech Showcase - Bundaberg - April 2023"
          ],
          [
           "Mackay Canegrowers Ltd",
           "Adapting a spatial irrigation tool"
          ],
          [
           "Central Queensland University",
           "Queensland Regional Impact Female Founders (QRIFF)"
          ],
          [
           "Circulanation Ltd",
           "Boosting Business Innovation Masterclass"
          ],
          [
           "Food and Agribusiness Network Limited",
           "Grow Coastal23+"
          ],
          [
           "University of Southern Queensland",
           "Repurposing Landfill Wastes for Sustainable and Flood Resilient Roads"
          ],
          [
           "Central Queensland University",
           "Energy efficient rail vehicle design and digital rating system - Qing Wu"
          ],
          [
           "Thermal Armour Pty Ltd",
           "Wearable warming device for preventing serious complications in surgery"
          ],
          [
           "MotoDNA Technology Pty Ltd",
           "Digital Motorcycle Academy - An Online, Data Driven Training Platform"
          ],
          [
           "Leakster Operations Pty Ltd",
           "Commercialising remote AI leak detection for water utilities"
          ],
          [
           "University of Southern Queensland",
           "Female Founders Fast-track: Elevating Queensland Rural, Regional and Remote Female Founders by Leveraging Artificial Intelligence (AI) and Innovative Growth  Strategies"
          ],
          [
           "Health Management Pty Ltd",
           "Launching TNQ Female Founders"
          ]
         ],
         "hovertemplate": "<b>%{hovertext}</b><br><br>LGA Status=Regional Councils<br>Approval Year=%{x}<br>Contractual Commitment ($ GST excl.)=%{y}<br>Recipient Name=%{customdata[0]}<br>Investment/Project Title=%{customdata[1]}<extra></extra>",
         "hovertext": [
          "Ignite Ideas Fund",
          "Aboriginal and Torres Strait Islander PhD Scholarships",
          "Hot DesQ",
          "Hot DesQ",
          "Hot DesQ",
          "Ignite Ideas Fund",
          "Ignite Ideas Fund",
          "Ignite Ideas Fund",
          "Ignite Ideas Fund",
          "Ignite Ideas Fund",
          "Ignite Ideas Fund",
          "Industry Research Fellowships",
          "Industry Research Fellowships",
          "Industry Research Fellowships",
          "Industry Research Fellowships",
          "Industry Research Fellowships",
          "Ignite Ideas Fund",
          "Startup Gladstone - EarlyPreneur Programme",
          "Regional Startup Hubs Support Program",
          "Regional Startup Hubs Support Program",
          "Regional Startup Hubs Support Program",
          "Regional Startup Hubs Support Program",
          "Regional Startup Hubs Support Program",
          "Rockhampton Technology and Innovation Centre",
          "Regional Startup Hubs Support Program",
          "Regional Startup Hubs Support Program",
          "Regional Startup Hubs Support Program",
          "Regional Startup Hubs Support Program",
          "Regional Startup Hubs Support Program",
          "Regional Startup Hubs Support Program",
          "Regional Startup Hubs Support Program",
          "Regional Startup Hubs Support Program",
          "Regional Network Fund",
          "Regional Network Fund",
          "Advancing Regional Innovation Program",
          "Advancing Regional Innovation Program",
          "Agtech and Logistics Hub",
          "Deadly Innovation",
          "Ignite Ideas Fund",
          "Ignite Ideas Fund",
          "Ignite Ideas Fund",
          "Ignite Ideas Fund",
          "Industry Research Fellowships",
          "Industry Research Fellowships",
          "Industry Research Fellowships",
          "Open Innovation Challenge",
          "Queensland Connects",
          "Queensland Connects",
          "Queensland Connects",
          "Ignite Ideas Fund",
          "Sunramp Accelerator Program",
          "Deadly Innovation",
          "Ignite Ideas Fund",
          "Regional Network Fund",
          "Regional Futures - Events and Activations",
          "Regional Futures - Events and Activations",
          "Regional Futures - Events and Activations",
          "Regional Futures - ED Qld Con Teams",
          "Regional Futures - ED Qld Con Teams",
          "Regional Futures - ED Qld Con Teams",
          "Regional Futures - ED PUQRSIN",
          "Regional Futures - ED PUQRSIN",
          "Regional Futures - ED PUQRSIN",
          "Industry Research Fellowships",
          "Industry Research Fellowships",
          "Industry Research Fellowships",
          "Industry Research Fellowships",
          "Ignite Ideas Fund",
          "Ignite Ideas Fund",
          "Ignite Ideas Fund",
          "Ignite Ideas Fund",
          "Ignite Ideas Fund",
          "Ignite Ideas Fund",
          "Regional Futures - Collaborative Projects",
          "Regional Futures - Collaborative Projects",
          "Regional Futures - Collaborative Projects",
          "Industry Research Fellowships",
          "Industry Research Fellowships",
          "Industry Research Fellowships",
          "Regional Futures - ED TFN Cluster",
          "Regional Futures - Ecosystem Development",
          "Ignite Ideas Fund",
          "Ignite Ideas Fund",
          "Regional Futures - Events and Activations",
          "Regional Futures - Events and Activations",
          "Regional Futures - Events and Activations",
          "Regional Futures - Collaborative Projects",
          "Female Founders Program",
          "Female Founders Program",
          "Female Founders Program",
          "Industry Research Fellowships",
          "Industry Research Fellowships",
          "Ignite Ideas Fund",
          "Ignite Ideas Fund",
          "Ignite Ideas Fund",
          "Female Founders Program",
          "Female Founders Program"
         ],
         "legendgroup": "Regional Councils",
         "marker": {
          "color": "#636efa"
         },
         "name": "Regional Councils",
         "notched": false,
         "offsetgroup": "Regional Councils",
         "orientation": "v",
         "showlegend": true,
         "type": "box",
         "x": [
          2019,
          2019,
          2019,
          2019,
          2019,
          2019,
          2019,
          2019,
          2019,
          2019,
          2019,
          2019,
          2019,
          2019,
          2019,
          2019,
          2019,
          2019,
          2019,
          2019,
          2019,
          2019,
          2019,
          2019,
          2019,
          2019,
          2019,
          2019,
          2019,
          2019,
          2019,
          2019,
          2020,
          2020,
          2020,
          2020,
          2020,
          2020,
          2020,
          2020,
          2020,
          2020,
          2020,
          2020,
          2020,
          2020,
          2020,
          2020,
          2020,
          2020,
          2020,
          2021,
          2021,
          2021,
          2021,
          2021,
          2021,
          2021,
          2021,
          2021,
          2021,
          2021,
          2021,
          2021,
          2021,
          2021,
          2021,
          2021,
          2021,
          2021,
          2021,
          2021,
          2021,
          2022,
          2022,
          2022,
          2022,
          2022,
          2022,
          2022,
          2022,
          2022,
          2022,
          2022,
          2022,
          2023,
          2023,
          2023,
          2023,
          2023,
          2023,
          2023,
          2023,
          2023,
          2023,
          2023,
          2023
         ],
         "x0": " ",
         "xaxis": "x",
         "y": [
          90000,
          107084,
          8000,
          6000,
          6000,
          100000,
          100000,
          100000,
          100000,
          99462,
          100000,
          82440,
          300000,
          300000,
          180000,
          80000,
          99500,
          60000,
          21347,
          75000,
          75000,
          75000,
          43750,
          2800000,
          7500,
          7500,
          75000,
          40290,
          7500,
          75000,
          75000,
          75000,
          75000,
          75000,
          230000,
          45000,
          3000000,
          70000,
          150000,
          200000,
          100000,
          100000,
          150000,
          86952,
          90000,
          74000,
          96190,
          100000,
          52668,
          100000,
          160000,
          100000,
          100000,
          25108,
          5000,
          20000,
          680,
          30000,
          30000,
          21726,
          203750,
          203750,
          203750,
          240000,
          160000,
          240000,
          360000,
          150000,
          100000,
          99560,
          92400,
          100000,
          100000,
          199676,
          100000,
          60000,
          240000,
          360000,
          240000,
          37500,
          200000,
          100000,
          100000,
          22000,
          15250,
          10000,
          200000,
          36960,
          36650,
          90000,
          240000,
          360000,
          100000,
          100000,
          100000,
          99944,
          100000
         ],
         "y0": " ",
         "yaxis": "y"
        },
        {
         "alignmentgroup": "True",
         "customdata": [
          [
           "Gold Coast Innovation Hub Limited",
           "Gold Coast Regional Administration and Reporting"
          ],
          [
           "Ipswich City Council",
           "Make Possible Workshop Series"
          ],
          [
           "Logan Startup Hub",
           "Logan Startup Hub"
          ],
          [
           "theSPACE Australasia Pty Ltd",
           "12 Month Incubation Program & Raising Angel Investment"
          ],
          [
           "Defence CRC TAS Limited",
           "Establishment and operation of the DCRC TAS in Queensland"
          ],
          [
           "Travello Pty Ltd",
           "Travello - Traveller Marketing & Data Insights Platform"
          ],
          [
           "Townsville City Council",
           "Delivery of Townsville Point of Interconnect (POI)"
          ],
          [
           "The University of Queensland",
           "Green nanotechnology-based antibiotic-free poultry feed against coccidiosis – Jie Tang"
          ],
          [
           "Yodal Pty Ltd",
           "Yodal Scale"
          ],
          [
           "WeKo Pty Ltd",
           "WeKoGP (General Practice)"
          ],
          [
           "Vostronet (Australia) Pty Ltd",
           "Commercialisation of PrivateMesh vLAN Technology"
          ],
          [
           "Vorteil.io Pty Ltd",
           "Vorteil - A Cloud Operating System"
          ],
          [
           "Unified Ar System Pty Ltd",
           "UnifiedAR - Distribution commercialisation project"
          ],
          [
           "Talkvia Enterprise Pty Ltd",
           "Automating voice access to services"
          ],
          [
           "DataRWE Pty Ltd",
           "Precision Medicine Data Platform"
          ],
          [
           "The University of Queensland",
           "Overcoming pyrite challenges in Queensland’s ore reserves and mine tailings – Elizaveta Forbes"
          ],
          [
           "The University of Queensland",
           "Create a stronger economic driver for biogas production and utilization- Chunyu Lai"
          ],
          [
           "The University of Queensland",
           "BioClay innovation: sustainable alternative to pesticides for protecting Queensland’s livestock - Karishma Mody"
          ],
          [
           "The University of Queensland",
           "Implementing non-dangerous frothers in coal preparation plants – Yufan Mu"
          ],
          [
           "The University of Queensland",
           "Advanced Manufacturing of Radiopaque, Implantable Micro-components - Jeffrey Venezuela"
          ],
          [
           "The University of Queensland",
           "Toward routine blood testing for early cardiovascular disease detection - Jacky Suen."
          ],
          [
           "The University of Queensland",
           "Improving fine-coal production and safety through advanced froth management - Yangyang Huai"
          ],
          [
           "The University of Queensland",
           "AI-based Cyber-Attack Detection and Response System for Queensland based SMEs - Siamak Layeghy"
          ],
          [
           "The University of Queensland",
           "The development of the radiofrequency and imaging systems for a compact 3T musculoskeletal MRI scanner – Mingyan Li"
          ],
          [
           "The University of Queensland",
           "Finally Biobased and Biodegradable Packaging for Australian Berries - Luigi Vandi"
          ],
          [
           "The University of Queensland",
           "Novel techniques for monitoring and classifying brain stroke – Lei Guo"
          ],
          [
           "The University of Queensland",
           "Portable and fast medical imaging using electromagnetic beamography - Ali Zamani"
          ],
          [
           "The University of Queensland",
           "Rapid and Comprehensive Microbial Profiling for Water Sustainability – Gaofeng Ni"
          ],
          [
           "The University of Queensland",
           "Increasing electric vehicle uptake to deliver energy sector co-benefits - Jake Whitehead"
          ],
          [
           "The University of Queensland",
           "Beyond visible:  A Queensland technology for early skin cancer diagnosis -Xiaoqiong Qi"
          ],
          [
           "The University of Queensland",
           "Developing low cost technology to turn clay to zeolite-Hong Peng"
          ],
          [
           "The Council of the Queensland Institute of Medical Research",
           "brAIn: Enabling Precision Treatment for Brain Cancers using Artificial Intelligence - Sriganesh Srihari"
          ],
          [
           "Queensland University of Technology",
           "Bioengineered Platforms for Individualised Therapy Guidance in Breast Cancer - Nathalie Bock"
          ],
          [
           "Queensland University of Technology",
           "Protecting the Great Barrier Reef by quantifying fine sediment discharge - Daniel Livsey"
          ],
          [
           "Queensland University of Technology",
           "A personalised blood test for better prostate cancer patient outcome - Jyotsna Batra"
          ],
          [
           "Queensland University of Technology",
           "The development of a new compound to treat Alzheimer's disease - Dr Alexander Martyn"
          ],
          [
           "Griffith University",
           "Future proofing Queensland’s drinking water supply using green infrastructure - Hannah Franklin"
          ],
          [
           "Griffith University",
           "Improving emergency trauma care for rural, regional, and remote Queenslanders - Chiara Santomauro"
          ],
          [
           "Griffith University",
           "Wetlands for improving water quality of the Great Barrier Reef- Fernanda Adame"
          ],
          [
           "Griffith University",
           "Risks of microplastics in biosolids to soils and agro-ecosystems - Shimaalsadat Ziajahromi"
          ],
          [
           "ARC Hardware Incubator Pty Ltd",
           "Arc Hardware Incubator - Hardware Innovation for Global Startups"
          ],
          [
           "The University of Queensland",
           "Integrated computational materials model using AI for advanced manufacturing – Yunpeng Zhang"
          ],
          [
           "The University of Queensland",
           "Aggregated Algal / Bacterial Flocs for Wastewater Treatment and Algae Industries- Andrew Ward "
          ],
          [
           "The University of Queensland",
           "Developing marine bacteria biotechnology for red mud rehabilitation and rare-earth recovery - Fang You"
          ],
          [
           "Swift Performance Pty Ltd",
           "Athletic Movement Monitoring"
          ],
          [
           "The University of Queensland",
           "Enabling Transition: understanding co-benefits of new energy projects - Kathy Witt"
          ],
          [
           "SiteSee Pty Ltd",
           "AI infrastructure analysis"
          ],
          [
           "GaardTech Pty ltd",
           "GaardTech Global Commercialisation"
          ],
          [
           "Field QL Pty Ltd",
           "Real estate lease analysis platform"
          ],
          [
           "DocSols Pty Ltd",
           "Commercialisation of the DocSols platform"
          ],
          [
           "Digital Technologies Institute Pty Ltd",
           "Artificial Intelligence STEM Platform"
          ],
          [
           "Cyborg Dynamics Engineering Pty Ltd",
           "Eye Align Automated Construction Sketcher"
          ],
          [
           "Creative Industries Precinct Pty Ltd",
           "Global CEO Scale-Up Program"
          ],
          [
           "Cubiko Pty Ltd",
           "Commercialisation of Cubiko Multisite (CM)"
          ],
          [
           "Core Resources Pty Ltd",
           "Toowong Process"
          ],
          [
           "Codestream Solutions Pty Ltd",
           "FloodMapp - Predictive Flood Mapping"
          ],
          [
           "Chromoxyion Pty Ltd",
           "Sex Selection in Farm Animals"
          ],
          [
           "Australian Kunzea Pty Ltd",
           "Accelerate Commercialisation of Kunzea Products"
          ],
          [
           "Creative Industries Precinct Pty Ltd T/A QUT Creative Enterprise Australia",
           "Host"
          ],
          [
           "Fishburners Limited",
           "Host"
          ],
          [
           "Fishburners Limited",
           "Host"
          ],
          [
           "Aurtra Pty Ltd",
           "Automated Global Provisioning"
          ],
          [
           "Arthritis Relief Plus Limited",
           "Novel Osteoarthritis Drug US Launch"
          ],
          [
           "Fishburners Limited",
           "Host"
          ],
          [
           "Gold Coast Innovation Hub Limited",
           "Host"
          ],
          [
           "River City Labs Pty Ltd",
           "Host"
          ],
          [
           "Sportech Industries Pty Ltd",
           "MyCall No Ball Detector (‘MyCall’)"
          ],
          [
           "River City Labs Pty Ltd",
           "Host"
          ],
          [
           "Welio Pty Ltd",
           "Commercialising Welio for GP eConsults"
          ],
          [
           "ABM Technologies Australia Pty Ltd",
           "International Growth of ACE-Insights solution"
          ],
          [
           "Gelomics Pty Ltd",
           "Next-generation 3D cell culture technologies"
          ],
          [
           "Haystack Australia Pty Ltd",
           "Commercialising Haystack for Enterprise SaaS"
          ],
          [
           "Ikara Group Pty Ltd",
           "Commercialisation of the Echelon Technology"
          ],
          [
           "RR Tek Pty Ltd",
           "Adding Value to Waste-Water Treatment"
          ],
          [
           "RapidAIM Pty Ltd",
           "Commercialising RapidAIM Real-time Insect Monitoring"
          ],
          [
           "Q L Spacer Blocks Pty Ltd",
           "Q L Medical"
          ],
          [
           "Physiotherapy Innovations Pty Ltd",
           "International Commercialisation of Therabubble™"
          ],
          [
           "OreFox Pty Ltd",
           "OreFox Scale and Acquisition"
          ],
          [
           "Norbit Software Pty Ltd",
           "SaaS Loyalty Solution for Precincts"
          ],
          [
           "Holospace Pty Ltd",
           "HoloSpace Air -  Border protection"
          ],
          [
           "NoiseNet Operations Pty Ltd",
           "Smart Noise Monitoring Global Rollout"
          ],
          [
           "Marine Composites Pty Ltd",
           "Fibre Composite Marine Piles"
          ],
          [
           "Sobah Beverages Pty Ltd",
           "Dry Shelf Stabilisation of Products"
          ],
          [
           "M3dicine Pty Ltd",
           "Commercialising IOT Stethoscope with AI"
          ],
          [
           "Immersive Robotics Pty Ltd",
           "Commercialising 4K120 wireless streaming solution"
          ],
          [
           "Macrobotix Pty Ltd",
           "Painting Robotics-as-a-service Commercial Launch"
          ],
          [
           "Kynd Pty Ltd",
           "Regional NDIS Market Expansion"
          ],
          [
           "Laird and Pascoe Trading Company Pty Ltd",
           "Frozen Herbs & Spices"
          ],
          [
           "Inndox Pty Ltd",
           "Commercialisation of Inndox ‘Builder Handover’"
          ],
          [
           "Advisory Board Centre Pty Ltd",
           "Provision of Innovation Services Contract No. DITID 26-19"
          ],
          [
           "Impact Innovation Group Pty Ltd",
           "Provision of Innovation Services Contract No. DITID 25-19"
          ],
          [
           "LincRobotics Pty Ltd",
           "Grass Advertising Robots"
          ],
          [
           "Alumtek Minerals Pty Ltd",
           "Project Reclaim Bauxite Residue Valorisation"
          ],
          [
           "Griffith University",
           "Evaluation of COVID-19 antiviral and vaccine candidates, using a non-infectious virus-like-particle platform – Belinda deVilliers"
          ],
          [
           "Griffith University",
           "Optimising telehealth to future-proof the delivery of autism related services – David Trembath"
          ],
          [
           "Queensland University of Technology - Translational Research Institute",
           "Preventing the respiratory failure causing COVID-19 mortality, potent new drugs targeting hyperinflammation – Lisa Philp"
          ],
          [
           "Griffith University",
           "Accelerating technology uptake during a pandemic: enabling and extending delivery of rehabilitation - Camila Shirota"
          ],
          [
           "Griffith University",
           "Development and evaluation of crisis management toolkits for Queensland industry – Tristan Casey"
          ],
          [
           "James Cook University",
           "Identifying and mitigating future risks from  Queensland wastewater industry through biosolids technology innovation - Elsa Antunes"
          ],
          [
           "Queensland University of Technology",
           "Rapid Response Medical Manufacturing – Naomi Paxton"
          ],
          [
           "Queensland University of Technology",
           "Antiviral and antibacterial surfaces using nanotechnology for Queensland hospitals – Alka Jaggessar"
          ],
          [
           "Queensland University of Technology",
           "Development and validation of a Raman spectroscopy assay for COVID-19 antigen detection in mucus - Kristyan Guppy-Coles"
          ],
          [
           "Queensland University of Technology",
           "Statistical modelling to support clinical decision making for critically ill COVID-19 patients - Nicole White"
          ],
          [
           "Griffith University",
           "Improving Advanced Life Support training for frontline healthcare workers under novel conditions – Yoriko Kikkawa"
          ],
          [
           "Queensland Treasury Corporation",
           "Comparative Economic Analysis of Innovation Precincts"
          ],
          [
           "The University of Queensland",
           "Developing on-line oxidation measurement for remote operation of coal mines during pandemic - Xumeng Chen"
          ],
          [
           "The University of Queensland",
           "Rapid Acceleration of the UQ COVID-19 Vaccine Program"
          ],
          [
           "WaterStart Pty Ltd",
           "WaterStart"
          ],
          [
           "Physiotherapy Innovations Pty Ltd",
           "Therabubble™ - Accelerated Research and Development for a Covid-19 Response"
          ],
          [
           "The University of Queensland",
           "Enhancing COVID-19 vaccination and pandemic preparedness via Nanopatch skin delivery - David Muller"
          ],
          [
           "77 Partners Pty Ltd",
           "Robotics Accelerator"
          ],
          [
           "Queensland University of Technology",
           "Queensland Connects - Cohort 1 - QUT"
          ],
          [
           "The University of Queensland",
           "Point-of-care diagnostic device incorporating microfluidic technology and electrochemical biosensing platform for COVID-19 detection-Yusuf Kaneti"
          ],
          [
           "The University of Queensland",
           "Chimeric insect-specific viruses for laboratory and point-of-care diagnosis of emergent viral disease - Jody Hobson-Peters"
          ],
          [
           "The University of Queensland",
           "Developing an antiviral surface cleaner utilising unique surface adsorption properties of gelatine-hydrolysate - Heather Shewan"
          ],
          [
           "The University of Queensland",
           "Application of separation technologies for rapid treatment of COVID-19 and related outbreaks – Craig Bell"
          ],
          [
           "The University of Queensland",
           "Novel Virus Trap Nanotechnology for COVID-19 Detection - Christopher Howard"
          ],
          [
           "The University of Queensland",
           "Advancing a clinical drug targeting the complement system to treat COVID-19 - John Lee"
          ],
          [
           "The University of Queensland",
           "Queensland Tourism Workforce Strategy V2: A Crisis Resilience and Recovery Plan - Richard Robinson"
          ],
          [
           "The University of Queensland",
           "Nanofibers with antiviral activity: potential applications for improving personal protective equipment safety- Nasim Amiralian"
          ],
          [
           "Gold Coast Innovation Hub Limited",
           "Scaling Wisdom Across Regional Queensland"
          ],
          [
           "The University of Queensland",
           "Creating out loud: Developing sustainable peer-mentoring to rebuild the arts post COVID-19 – Kate Power"
          ],
          [
           "The University of Queensland - RBWH - Herston",
           "Automating Infectious Disease Surveillance with Artificial Intelligence - Brian Forde "
          ],
          [
           "The University of Queensland",
           "Combating the transmission of coronavirus in urban water systems through novel disinfection - Ji Lu"
          ],
          [
           "University of Southern Queensland",
           "Using Artificial Intelligence to prioritise emergency calls for suicide prevention due to COVID-19 pandemic - Rajib Rana"
          ],
          [
           "Xing Group Holdings Pty Ltd",
           "XavTrap® Platform Development and Deployment for detection of COVID-19, influenzas and other contagious viral pathogens in humans"
          ],
          [
           "Life Sciences Queensland Limited",
           "Life Sciences Queensland Project Delivery from 1 April 2020 to 31 March 2021"
          ],
          [
           "Australian Computer Society Incorporated t/a River City Labs",
           "Mental Health for Founders"
          ],
          [
           "Orange Sky Australia Limited",
           "Campfire"
          ],
          [
           "Queensland Capacity Network Pty Ltd",
           "QCN Pilots Project"
          ],
          [
           "The University of Queensland",
           "MitoKhondrion: Decreasing COVID-19 mortality by increasing the functioning of our cell’s powerhouses – Mitchell Sullivan"
          ],
          [
           "Smart Precinct NQ Limited",
           "North Queensland Investment, Innovation & Industry Catalyst"
          ],
          [
           "Queensland University of Technology - Translational Research Institute",
           "Stopping COVID-19 by targeting the viral replication - Mark Adams"
          ],
          [
           "The Trustee for the Ride Free Media Trust T/A Ride Free Media",
           "Wrappt National Expansion"
          ],
          [
           "WorkGuru Pty Ltd",
           "Enabling Qld Manufacturing with WorkGuru.io"
          ],
          [
           "Yodel Digital Pty Ltd",
           "Yodel Commercialisation Project"
          ],
          [
           "Amtac Professional Services Pty Ltd",
           "BackFlowID"
          ],
          [
           "Anti Ordinary Pty Ltd",
           "Anti Ordinary Global Launch"
          ],
          [
           "Scott Airway Management Pty Ltd",
           "SAM Safety Seal  - oropharyngeal shield"
          ],
          [
           "Puctto Pty Ltd",
           "Commercialisation of PUCTTO: Fashion Visualization Technology"
          ],
          [
           "Pinch Labs Pty Ltd",
           "Notiv Commercialisation in Professional Services Market"
          ],
          [
           "Padmore City Pty Ltd",
           "Online Virtual, City-Themed Learning Platform."
          ],
          [
           "Native Beeings Pty Ltd",
           "Commercialising Australian Native Bee Propolis Products"
          ],
          [
           "National Plastics & Rubber Pty Ltd",
           "HoseMate™ Commercialisation"
          ],
          [
           "AssetAccountant Pty Ltd",
           "AssetAccountant (AA) Global Readiness"
          ],
          [
           "BidCrete Pty Ltd",
           "Bidcrete"
          ],
          [
           "Bidhive Pty Ltd",
           "Bidhive mid-market channel partner project"
          ],
          [
           "Bioherbicide Australia Pty Ltd",
           "Di-Bak G scale up to broader market"
          ],
          [
           "Blenktech Pty Ltd",
           "ProcurePro: AI-based, Scalable, High-Volume Contracting Software for Construction/Infrastructure"
          ],
          [
           "Cake Equity Pty Ltd",
           "Cake Sydney Launch"
          ],
          [
           "Calvett Co Pty Ltd",
           "Commercialisation of The Herd digital platform"
          ],
          [
           "Canaria Technologies Pty Ltd",
           "Commercialising the Canaria-V"
          ],
          [
           "Charlton Innovation Pty Ltd",
           "International Commercialisation of Lock Jaw Ladder Grip"
          ],
          [
           "Docto Holdings Pty Ltd",
           "Medical Specialist Telehealth Service for Rural Queensland"
          ],
          [
           "Fiffy Solutions Pty Ltd",
           "Commercialisation of People Counting Solution"
          ],
          [
           "IDU Technologies Pty Ltd",
           "IDU Verification of Identity (VOI) Scale Up Programme"
          ],
          [
           "IISolutions Pty Ltd",
           "Smart City Infrastructure Management OSP"
          ],
          [
           "Law On Earth Au Pty Ltd",
           "Automated, Self-Service legal platform"
          ],
          [
           "Sonder Place Pty Ltd",
           "Waste to Workwear  BeauTex Launch"
          ],
          [
           "Literacy for Boys Pty Ltd",
           "Literacy for Boys Commercialisation"
          ],
          [
           "Skynet Satellite Communications Pty Ltd",
           "SkyNet Commercial ADS-B"
          ],
          [
           "SensaWeb Pty Ltd",
           "SensaWeb Real-time Radiation Area Monitoring"
          ],
          [
           "Acceler8 Pty Ltd",
           "Acceler8 for delivery of the BDO Business of Entrepreneurship Program: supporting startups and scaleups in a COVID-19 world"
          ],
          [
           "Bionics Queensland Limited",
           "Bionics Queensland Innovation and Research Challenge"
          ],
          [
           "Bionics Queensland Limited",
           "Bionics Ecosystem Mapping Study"
          ],
          [
           "Islex Australia Pty Ltd",
           "Smart Syphon Commercialisation"
          ],
          [
           "Nourishing Bites Pty Ltd",
           "Commercialise Heavenly Hazel ChocHazelnut Spread"
          ],
          [
           "Pwron Pty Ltd",
           "PWRON Temperature Alert Log System"
          ],
          [
           "Solar Relief Pty Ltd",
           "Commercialisation of Portable Power Supply."
          ],
          [
           "Scrunch Enterprises Pty Ltd",
           "Female Founders Scrunch Program"
          ],
          [
           "Next World Enterprises Pty Ltd",
           "Build Your Own VR Induction"
          ],
          [
           "Real Serious Games Pty Ltd",
           "Immersive Technologies Hub"
          ],
          [
           "MCT (Australia) Pty Ltd",
           "Pro-grade physio relief anywhere – BearTrap"
          ],
          [
           "Bankedge Pty Ltd",
           "Bank Margin Reviews as a Service"
          ],
          [
           "Social Impact Group Pty Ltd",
           "Little Phil Fundraising Platform"
          ],
          [
           "Sunbirds Aero Pty Ltd",
           "Solar Powered Drones for Long Range Mapping Solutions"
          ],
          [
           "Wildfire Energy Pty Ltd",
           "Waste to Hydrogen"
          ],
          [
           "Heartbeat Enterprises Pty Ltd",
           "Commercialisation of Squizify Food Safety Technology Platform"
          ],
          [
           "CyberMetrix Pty Ltd",
           "Cyberturity® Pro 3rd Party Digital Trust Platform"
          ],
          [
           "Cogniom Pty Ltd",
           "Cogniom's TANDM Suite"
          ],
          [
           "Earthoffset Pty Ltd",
           "Commercialisation of organic waste recycling technology"
          ],
          [
           "Aeromech Pty Ltd",
           "SARGO - Search and Rescue GO"
          ],
          [
           "TAFE Queensland",
           "Queensland Future Skill Partnership Project"
          ],
          [
           "Co Hort Space Pty Ltd",
           "Queensland Connects Cohort 2 - Gold Coast HealthTech"
          ],
          [
           "Bright Humans Pty Ltd",
           "Something Digital 2021"
          ],
          [
           "Brancher Pty Ltd",
           "Virtual Mentoring and Career development for Businesses and Industry Associations"
          ],
          [
           "Geobotica Pty Ltd",
           "3D Cognitive Mapping"
          ],
          [
           "LiXiA Pty Ltd",
           "Pole-top sensor for power grid safety and asset life extension"
          ],
          [
           "Kova Australia Pty Ltd",
           "Syla - tax reporting and portfolio management software for cryptocurrency"
          ],
          [
           "LYRO Robotics Pty Ltd",
           "Commercialisation of automated produce packing system"
          ],
          [
           "Nu Flow Technologies 2000 Pty Ltd",
           "Structural rehabilitation of water mains using UV curing epoxy technology"
          ],
          [
           "Embrayse Pty Ltd",
           "Embrayse Meal Management Solution for Aged Care"
          ],
          [
           "The University of Queensland",
           "Novel statistical estimation of fugitive methane emissions using drones - Sebastian Hoerning"
          ],
          [
           "University of Southern Queensland",
           "Early detection of chronic health conditions using AI prediction model- Xujuan Zhou"
          ],
          [
           "University of Queensland",
           "Graph-based learning approaches for monitoring clinical outcome of stroke patients - Guohun Zhu"
          ],
          [
           "The University of Queensland",
           "Innovating avocado for indoor cropping - Advanced climate-smart production systems.  Christopher O'Brien"
          ],
          [
           "The University of Queensland",
           "RNA vaccines for next generation crop protection: facilitating adoption - Anne Sawyer"
          ],
          [
           "The University of Queensland",
           "Enhancing pandemic preparedness through nucleic acid Nanopatch skin vaccination – Christopher McMillan"
          ],
          [
           "The University of Queensland",
           "Development of Sustainable Shotcrete using Cullet - Mehdi Serati"
          ],
          [
           "The University of Queensland",
           "Using AI to save lives: identifying deteriorating patients earlier  - Anton van der Vegt"
          ],
          [
           "The University of Queensland",
           "Robust cathode materials for next-generation high-energy-density and low-cost lithium-ion batteries- Xia Huang"
          ],
          [
           "World's Biggest Garage Sale Pty Ltd",
           "Retail Returns Resource Recovery Platform"
          ],
          [
           "Urpla Software Pty Ltd",
           "Simplifying Development Applications across the Globe"
          ],
          [
           "The University of Queensland",
           "Using artificial intelligence to increase gas supply - Ruizhi Zhong"
          ],
          [
           "Queensland University of Technology",
           "Advanced Engineered Materials from Queensland Natural Resources – John Outram"
          ],
          [
           "Queensland University of Technology",
           "Artificial Intelligence Enabled Mine Site Rehabilitation - Kien Nguyen"
          ],
          [
           "Griffith University",
           "Production of value-added products from waste extinguishers and tyres – Tak Kim"
          ],
          [
           "Griffith University",
           "Advancing Queensland nut industry using machine vision - Shahla Hosseini Bai"
          ],
          [
           "Spatial Innovation Pty Ltd",
           "Flood Information Portal for Local Government"
          ],
          [
           "SendFX Limited",
           "Foreign exchange payments as embedded financial services for corporate clients"
          ],
          [
           "Simulation Training Group Pty Ltd",
           "Virtual-Shot: Virtual Firearms Training Platform and Smartphone Mount"
          ],
          [
           "Griffith University",
           "Transforming Queensland Tourism with Micro-transport – Abraham Leung"
          ],
          [
           "Layer Labs Pty Ltd",
           "Digital IP Licensing Marketplace for Video Gaming Industry"
          ],
          [
           "The University of Queensland",
           "Automated Electromagnetic Probe for Artificial Intelligence-Driven Skin Cancer Detection_Syed Naqvi"
          ],
          [
           "The University of Queensland",
           "Biopharmaceuticals 4.0: Designing Cell Factories for difficult to express proteins- Veronica Martinez"
          ],
          [
           "The University of Queensland",
           "Sustainable Sugarcane and Mining Industries– Innovative Alloys for Lower Emissions– Yahia Ali"
          ],
          [
           "The University of Queensland",
           "Tailor-made nanocomposite membranes for greenhouse gas capture – Gloria M. Monsalve-Bravo"
          ],
          [
           "Queensland University of Technology",
           "Abatement or sequestration - A preferred Queensland industry strategy - Kameron Dunn"
          ],
          [
           "Queensland University of Technology",
           "AI-enabled Fragmentation and Ore Intelligence through Machine Vision - Osman Tursun"
          ],
          [
           "Griffith University",
           "Applying sports-tech to prevent knee injuries in Queensland's female athletes -Matthew Bourne"
          ],
          [
           "My Virtual Freight Forwarder Pty Ltd",
           "All-in-one digital freight management platform for small cargo importer businesses"
          ],
          [
           "Liquid State Pty Ltd",
           "Patient-centred platform for chronic disease self-monitoring, management, and communication"
          ],
          [
           "Emerging Healthcare Operations Pty Ltd",
           "Virtual Paediatric Emergency Care for Queensland Health Services"
          ],
          [
           "The University of Queensland",
           "Cost-effective iron-flow-battery for next-generation large-scale energy storage applications - Md Masud Rana"
          ],
          [
           "Flametree Technologies Pty Ltd",
           "Portfolio risk analysis software"
          ],
          [
           "Global Road Technology Holdings Pty Ltd",
           "SMART Dosing Unit for Mining Dust Suppression & Water Management"
          ],
          [
           "Laronix Pty Ltd",
           "Commercialising Voice Technology Supporting Phone/Online Communication in Voice-Impaired Communities"
          ],
          [
           "The University of Queensland",
           "Resilient and sustainable supply chain of water treatment chemicals - Min Zheng"
          ],
          [
           "The University of Queensland - St Lucia, QLD",
           "Synthetic biology for critical metals recovery from mine waste - Denys Villa-Gomez"
          ],
          [
           "The University of Queensland",
           "A cloning technology to advance the Australian dates industry - Sundaravelpandian Kalaipandian"
          ],
          [
           "Watergum Community Inc",
           "Watergum Cane Toad Tadpole Trap and Lures"
          ],
          [
           "Gow Services Pty Ltd",
           "International Speaker Series 2022 – Mr Gary Bolles, Future of Work Events"
          ],
          [
           "Defence CRC for Trusted Autonomous Systems",
           "2022 Accelerating Trusted Autonomous Systems Symposium"
          ],
          [
           "Napalao Pty Ltd ATF Moore Family Trust T/A Nectar Creative Communications",
           "National Cleantech Conference and Exhibition"
          ],
          [
           "The Queensland XR Hub Pty Ltd",
           "Immersive Technologies Corporate Innovation Partnership"
          ],
          [
           "BOP Industries Pty Ltd",
           "Innovation in Education Festival in July 2022 and Young Entrepreneurs Hub 2022-23 program"
          ],
          [
           "ASE Group",
           "Young Entrepreneurs Summit events to be held in June and September 2022"
          ],
          [
           "Smart Precinct NQ Limited",
           "Queensland Connects Cohort 3 - Smart Precinct NQ Ltd"
          ],
          [
           "Queensland XR Hub Pty Ltd",
           "Aerospace Xelerated Pitch Challenge"
          ],
          [
           "Regional Development Australia Ipswich and West Moreton Inc",
           "Queensland Connects Cohort 3 - Ipswich & West Moreton Inc"
          ],
          [
           "WDU Enterprises Pty Ltd",
           "Modular, scalable & flat-packable commercial (large-scale) worm farms"
          ],
          [
           "NeuTex Pty Ltd",
           "Image-guided Surgical Technologies Centre"
          ],
          [
           "Griffith University",
           "Clinical Entrepreneurship Change Agents Program"
          ],
          [
           "Co Spaces Pty Ltd",
           "LuminaX Health Accelerator"
          ],
          [
           "Mater Misericordiae Ltd",
           "Virtual Cardiac Rehabilitation for Queensland Regional and Remote Communities Program - Mater"
          ],
          [
           "Cardihab Pty Ltd",
           "Virtual Cardiac Rehabilitation for Queensland Regional and Remote Communities Program - Cardihab"
          ],
          [
           "Advisory Board Centre Pty Ltd",
           "Ignite+"
          ],
          [
           "CPD Central Pty Ltd",
           "Improving Student Retention and Engagement with Integrated & Innovative Education Delivery"
          ],
          [
           "Logan City Council",
           "Queensland Connects Cohort 3 - Logan City Council"
          ],
          [
           "The University of Queensland",
           "Enhanced carbon-capture in pigeonpea: an innovative approach for carbon sequestration- Linh Hoang"
          ],
          [
           "Mater Education Ltd",
           "Immersive Learning at Mater Education"
          ],
          [
           "Townlec Auto Electrical Pty Ltd",
           "Commercialising LokaBox"
          ],
          [
           "Bloom Impact Investing Pty Ltd",
           "Digital Platform to make Renewables and Cleantech investments accessible"
          ],
          [
           "University of Southern Queensland",
           "AI-powered condition monitoring technology for safe-guarding Queensland’s tunnel infrastructure - Andy Nguyen"
          ],
          [
           "PEMDx Pty Ltd",
           "Flow-Bag Oxygen Mask Respiratory Indicator"
          ],
          [
           "Predico Software Pty Ltd",
           "Data Driven AI for Resource Optimisation"
          ],
          [
           "S4S Trading Pty Ltd",
           "Switch4Schools - student mental health and wellbeing"
          ],
          [
           "Voltin Operations Pty Ltd",
           "10,000 Safer Cities - Autonomous Façade Assessment System"
          ],
          [
           "Spur Labs Pty Ltd",
           "Toucan"
          ],
          [
           "Stackle Pty Ltd",
           "Stackle for Innovating and Personalising Online Learning"
          ],
          [
           "The Smarter Towing Company Pty Ltd",
           "Real-time wheel bearing monitoring for trucks caravans and trailers."
          ],
          [
           "Elemental Instruments Pty Ltd",
           "Precision magnetic fields for scientific and industrial applications"
          ],
          [
           "Annuo Medical Technology Solutions Pty Ltd",
           "Seed round 2023"
          ],
          [
           "Spacecubed Ventures Pty Ltd",
           "She Codes Female Founder program"
          ],
          [
           "Stripped Supply Pty Ltd",
           "Stripped Supply Pre-Seed Raise 2023"
          ],
          [
           "Impact Boom Pty Ltd",
           "FFFWD Accelerator Program"
          ],
          [
           "Australian Sports Technologies Network Ltd",
           "Change the Ratio: Bridging the Gender Gap in Sportstech"
          ],
          [
           "Australian Computer Society Incorporated",
           "Elevating Queensland Female Founders - Taking businesses to the next level of their growth journey."
          ],
          [
           "Advanced Robotics For Manufacturing Hub Ltd",
           "Business and Technology Accelerator Roadmap Development Program for Female Founders"
          ],
          [
           "Startup Onramp Pty Ltd",
           "Startup Onramp Female Founders Program"
          ],
          [
           "Work Window Australia Pty Ltd",
           "Work Window Virtual Reality Tourism and Hospitality"
          ],
          [
           "Social Impact Group Pty Ltd",
           "AI Fundraising & Marketing Assistant"
          ],
          [
           "Queensland University of Technology",
           "Novel in-silico musculoskeletal simulation tool for shoulder joint surgery - Maxence Lavaill"
          ],
          [
           "The University of Queensland",
           "Supporting more effective disease control in Queensland’s livestock industries - Lida Omaleki"
          ],
          [
           "The University of Queensland",
           "AI-based automated inspection system for custom-made endografts - Yuan Wang"
          ],
          [
           "The University of Queensland",
           "Developing microbial nitrogen supply biotechnology for Queensland mined land rehabilitation- Fang You"
          ],
          [
           "The University of Queensland",
           "Critical metal recovery from Queensland mine tailings - Ummul Khair Sultana"
          ],
          [
           "The University of Queensland",
           "Geochronologic mapping towards net-zero: potentials of Queensland’s critical minerals - Renjie Zhou"
          ],
          [
           "Griffith University",
           "Improving Coastal Erosion Assessment to Support Local Government Operations–Guilherme Vieira da Silva"
          ],
          [
           "The University of Queensland",
           "Al-driven holistic monitoring and management of mine waste and tailings- Chenming Zhang"
          ],
          [
           "The University of Queensland",
           "Next-Gen Reconfigurable Antenna System for Broadband Vehicular SatCom - Dr Kamel Sultan"
          ],
          [
           "The University of Queensland",
           "Targeted Alpha Therapies and immunological responses: Next-generation cancer treatments – Nicholas Fletcher"
          ],
          [
           "Access Intell Pty Ltd",
           "Access Monitor - Digital Platform for Trade Credit Risk Detection"
          ],
          [
           "Sandra Lorrel Bungaree King",
           "Black Bold and Beautiful First Nations Women's Luncheon 2023"
          ],
          [
           "Queensland XR Hub Pty Ltd",
           "Two year funding for operational costs and to deliver key activities to support and develop the immersive technology sector in Queensland"
          ],
          [
           "Boeing Defence Australia Ltd",
           "Space and Sustainability Pitch Event"
          ],
          [
           "The University of Queensland",
           "Enabling aluminium-ion battery manufacturing via separator innovation - Yueqi Kong"
          ],
          [
           "SNAPI Pty Ltd",
           "AI-powered digital Meter Readers delivering Meter-Reading-as-a-Service"
          ],
          [
           "Smart AI Connect Pty Ltd",
           "Commercialisation of an AI governance, compliance assurance and management framework"
          ],
          [
           "Goheadhunt Pty Ltd",
           "Goheadhunt - Digital Marketplace for Headhunting"
          ],
          [
           "ExtrasJar Pty Ltd",
           "Self-insurance investment deposit to solve the insurance affordability crisis"
          ],
          [
           "Clover Hill Logistics Pty Ltd",
           "Commercialisation of zero emissions heavy vehicles starting in Queensland \"EcoHaul\""
          ],
          [
           "Brio Group Pty Ltd",
           "Meet Aandi Go to Market"
          ],
          [
           "Imagine Realities",
           "QSO TuneUp"
          ],
          [
           "Griffith University",
           "Invigorating the coffee industry in Tropical North Queensland- Fawad Ali"
          ],
          [
           "Veterinarians for Climate Action Ltd",
           "Digital Toolkit to half emissions across the animal health sector"
          ],
          [
           "Startup OnRamp",
           "Ignite+ Spark"
          ]
         ],
         "hovertemplate": "<b>%{hovertext}</b><br><br>LGA Status=Cities<br>Approval Year=%{x}<br>Contractual Commitment ($ GST excl.)=%{y}<br>Recipient Name=%{customdata[0]}<br>Investment/Project Title=%{customdata[1]}<extra></extra>",
         "hovertext": [
          "Regional Startup Hubs Support Program",
          "Regional Startup Hubs Support Program",
          "Regional Startup Hubs Support Program",
          "Regional Startup Hubs Support Program",
          "Research Fellowships",
          "Travello",
          "QCN Fibre connection to North Queensland Regional Data Centre",
          "Industry Research Fellowships",
          "Ignite Ideas Fund",
          "Ignite Ideas Fund",
          "Ignite Ideas Fund",
          "Ignite Ideas Fund",
          "Ignite Ideas Fund",
          "Ignite Ideas Fund",
          "Platform Technology Program",
          "Industry Research Fellowships",
          "Industry Research Fellowships",
          "Industry Research Fellowships",
          "Industry Research Fellowships",
          "Industry Research Fellowships",
          "Industry Research Fellowships",
          "Industry Research Fellowships",
          "Industry Research Fellowships",
          "Industry Research Fellowships",
          "Industry Research Fellowships",
          "Industry Research Fellowships",
          "Industry Research Fellowships",
          "Industry Research Fellowships",
          "Industry Research Fellowships",
          "Industry Research Fellowships",
          "Industry Research Fellowships",
          "Industry Research Fellowships",
          "Industry Research Fellowships",
          "Industry Research Fellowships",
          "Industry Research Fellowships",
          "Industry Research Fellowships",
          "Industry Research Fellowships",
          "Industry Research Fellowships",
          "Industry Research Fellowships",
          "Industry Research Fellowships",
          "Industry Accelerators",
          "Industry Research Fellowships",
          "Industry Research Fellowships",
          "Industry Research Fellowships",
          "Ignite Ideas Fund",
          "Industry Research Fellowships",
          "Ignite Ideas Fund",
          "Ignite Ideas Fund",
          "Ignite Ideas Fund",
          "Ignite Ideas Fund",
          "Ignite Ideas Fund",
          "Ignite Ideas Fund",
          "Global CEO Challenge",
          "Ignite Ideas Fund",
          "Ignite Ideas Fund",
          "Ignite Ideas Fund",
          "Ignite Ideas Fund",
          "Ignite Ideas Fund",
          "Hot DesQ",
          "Hot DesQ",
          "Hot DesQ",
          "Ignite Ideas Fund",
          "Ignite Ideas Fund",
          "Hot DesQ",
          "Hot DesQ",
          "Hot DesQ",
          "Ignite Ideas Fund",
          "Hot DesQ",
          "Ignite Ideas Fund",
          "Ignite Ideas Fund",
          "Ignite Ideas Fund",
          "Ignite Ideas Fund",
          "Ignite Ideas Fund",
          "Ignite Ideas Fund",
          "Ignite Ideas Fund",
          "Ignite Ideas Fund",
          "Ignite Ideas Fund",
          "Ignite Ideas Fund",
          "Ignite Ideas Fund",
          "Ignite Ideas Fund",
          "Ignite Ideas Fund",
          "Ignite Ideas Fund",
          "Deadly Innovation",
          "Ignite Ideas Fund",
          "Ignite Ideas Fund",
          "Ignite Ideas Fund",
          "Ignite Ideas Fund",
          "Ignite Ideas Fund",
          "Ignite Ideas Fund",
          "Female Founders Program",
          "Female Founders Program",
          "Ignite Ideas Fund",
          "Ignite Ideas Fund",
          "Industry Research Fellowships",
          "Industry Research Fellowships",
          "Industry Research Fellowships",
          "Industry Research Fellowships",
          "Industry Research Fellowships",
          "Industry Research Fellowships",
          "Industry Research Fellowships",
          "Industry Research Fellowships",
          "Industry Research Fellowships",
          "Industry Research Fellowships",
          "Industry Research Fellowships",
          "Innovation Precincts and Places",
          "Industry Research Fellowships",
          "UQ - COVID-19 Vaccine",
          "WaterStart",
          "Therabubble",
          "Industry Research Fellowships",
          "SoftBank",
          "Queensland Connects",
          "Industry Research Fellowships",
          "Industry Research Fellowships",
          "Industry Research Fellowships",
          "Industry Research Fellowships",
          "Industry Research Fellowships",
          "Industry Research Fellowships",
          "Industry Research Fellowships",
          "Industry Research Fellowships",
          "Regional Network Fund",
          "Industry Research Fellowships",
          "Industry Research Fellowships",
          "Industry Research Fellowships",
          "Industry Research Fellowships",
          "Industry Tech Fund",
          "Life Sciences Queensland",
          "Mental Health Services for Founders",
          "Orange Sky - Campfire",
          "QCN Fibre Regional Pilot Program",
          "Industry Research Fellowships",
          "Advancing Regional Innovation Program",
          "Industry Research Fellowships",
          "Ignite Ideas Fund",
          "Ignite Ideas Fund",
          "Ignite Ideas Fund",
          "Ignite Ideas Fund",
          "Ignite Ideas Fund",
          "Ignite Ideas Fund",
          "Ignite Ideas Fund",
          "Ignite Ideas Fund",
          "Ignite Ideas Fund",
          "Ignite Ideas Fund",
          "Ignite Ideas Fund",
          "Ignite Ideas Fund",
          "Ignite Ideas Fund",
          "Ignite Ideas Fund",
          "Ignite Ideas Fund",
          "Ignite Ideas Fund",
          "Ignite Ideas Fund",
          "Ignite Ideas Fund",
          "Ignite Ideas Fund",
          "Ignite Ideas Fund",
          "Ignite Ideas Fund",
          "Ignite Ideas Fund",
          "Ignite Ideas Fund",
          "Ignite Ideas Fund",
          "Ignite Ideas Fund",
          "Ignite Ideas Fund",
          "Ignite Ideas Fund",
          "Ignite Ideas Fund",
          "Ignite Ideas Fund",
          "BDO Business of Entrepreneurship",
          "Bionics",
          "Bionics",
          "Deadly Innovation",
          "Deadly Innovation",
          "Deadly Innovation",
          "Deadly Innovation",
          "Female Founders Program",
          "Ignite Ideas Fund",
          "Industry Accelerators",
          "Ignite Ideas Fund",
          "Ignite Ideas Fund",
          "Ignite Ideas Fund",
          "Ignite Ideas Fund",
          "Ignite Ideas Fund",
          "Ignite Ideas Fund",
          "Ignite Ideas Fund",
          "Ignite Ideas Fund",
          "Ignite Ideas Fund",
          "Ignite Ideas Fund",
          "Queensland Future Skills Project",
          "Regional Futures - ED Qld Con Teams",
          "Regional Futures - Events and Activations",
          "Ignite Ideas Fund",
          "Ignite Ideas Fund",
          "Ignite Ideas Fund",
          "Ignite Ideas Fund",
          "Ignite Ideas Fund",
          "Ignite Ideas Fund",
          "Ignite Ideas Fund",
          "Industry Research Fellowships",
          "Industry Research Fellowships",
          "Industry Research Fellowships",
          "Industry Research Fellowships",
          "Industry Research Fellowships",
          "Industry Research Fellowships",
          "Industry Research Fellowships",
          "Industry Research Fellowships",
          "Industry Research Fellowships",
          "Ignite Ideas Fund",
          "Ignite Ideas Fund",
          "Industry Research Fellowships",
          "Industry Research Fellowships",
          "Industry Research Fellowships",
          "Industry Research Fellowships",
          "Industry Research Fellowships",
          "Ignite Ideas Fund",
          "Ignite Ideas Fund",
          "Ignite Ideas Fund",
          "Industry Research Fellowships",
          "Ignite Ideas Fund",
          "Industry Research Fellowships",
          "Industry Research Fellowships",
          "Industry Research Fellowships",
          "Industry Research Fellowships",
          "Industry Research Fellowships",
          "Industry Research Fellowships",
          "Industry Research Fellowships",
          "Ignite Ideas Fund",
          "Ignite Ideas Fund",
          "Ignite Ideas Fund",
          "Industry Research Fellowships",
          "Ignite Ideas Fund",
          "Ignite Ideas Fund",
          "Ignite Ideas Fund",
          "Industry Research Fellowships",
          "Industry Research Fellowships",
          "Industry Research Fellowships",
          "Ignite Ideas Fund",
          "Regional Futures - Events and Activations",
          "Regional Futures - Events and Activations",
          "Regional Futures - Events and Activations",
          "Open Innovation Challenge",
          "Regional Futures - Events and Activations",
          "Regional Futures - Events and Activations",
          "Regional Futures - ED Qld Con Teams",
          "Open Innovation Challenge",
          "Regional Futures - ED Qld Con Teams",
          "Ignite Ideas Fund",
          "Regional Futures - Collaborative Projects",
          "Regional Futures - Collaborative Projects",
          "Regional Futures - Collaborative Projects",
          "Regional Futures - Collaborative Projects",
          "Regional Futures - Collaborative Projects",
          "Ignite+",
          "Private Sector Pathways Program",
          "Regional Futures - ED Qld Con Teams",
          "Industry Research Fellowships",
          "Open Innovation Challenge",
          "Ignite Ideas Fund",
          "Ignite Ideas Fund",
          "Industry Research Fellowships",
          "Ignite Ideas Fund",
          "Ignite Ideas Fund",
          "Ignite Ideas Fund",
          "Ignite Ideas Fund",
          "Ignite Ideas Fund",
          "Ignite Ideas Fund",
          "Ignite Ideas Fund",
          "Ignite Ideas Fund",
          "Female Founders Program",
          "Female Founders Program",
          "Female Founders Program",
          "Female Founders Program",
          "Female Founders Program",
          "Female Founders Program",
          "Female Founders Program",
          "Female Founders Program",
          "Private Sector Pathways Program",
          "Ignite Ideas Fund",
          "Industry Research Fellowships",
          "Industry Research Fellowships",
          "Industry Research Fellowships",
          "Industry Research Fellowships",
          "Industry Research Fellowships",
          "Industry Research Fellowships",
          "Industry Research Fellowships",
          "Industry Research Fellowships",
          "Industry Research Fellowships",
          "Industry Research Fellowships",
          "Ignite Ideas Fund",
          "Regional Futures - Events and Activations",
          "Open Innovation Challenge",
          "Open Innovation Challenge",
          "Industry Research Fellowships",
          "Ignite Ideas Fund",
          "Ignite Ideas Fund",
          "Ignite Ideas Fund",
          "Ignite Ideas Fund",
          "Ignite Ideas Fund",
          "Ignite Ideas Fund",
          "Private Sector Pathways Program",
          "Industry Research Fellowships",
          "Ignite Ideas Fund",
          "Ignite+"
         ],
         "legendgroup": "Cities",
         "marker": {
          "color": "#EF553B"
         },
         "name": "Cities",
         "notched": false,
         "offsetgroup": "Cities",
         "orientation": "v",
         "showlegend": true,
         "type": "box",
         "x": [
          2019,
          2019,
          2019,
          2019,
          2019,
          2019,
          2019,
          2019,
          2019,
          2019,
          2019,
          2019,
          2019,
          2019,
          2019,
          2019,
          2019,
          2019,
          2019,
          2019,
          2019,
          2019,
          2019,
          2019,
          2019,
          2019,
          2019,
          2019,
          2019,
          2019,
          2019,
          2019,
          2019,
          2019,
          2019,
          2019,
          2019,
          2019,
          2019,
          2019,
          2019,
          2019,
          2019,
          2019,
          2019,
          2019,
          2019,
          2019,
          2019,
          2019,
          2019,
          2019,
          2019,
          2019,
          2019,
          2019,
          2019,
          2019,
          2019,
          2019,
          2019,
          2019,
          2019,
          2019,
          2019,
          2019,
          2019,
          2019,
          2019,
          2019,
          2019,
          2019,
          2019,
          2019,
          2019,
          2019,
          2019,
          2019,
          2019,
          2019,
          2019,
          2019,
          2019,
          2019,
          2019,
          2019,
          2019,
          2019,
          2019,
          2019,
          2019,
          2019,
          2019,
          2020,
          2020,
          2020,
          2020,
          2020,
          2020,
          2020,
          2020,
          2020,
          2020,
          2020,
          2020,
          2020,
          2020,
          2020,
          2020,
          2020,
          2020,
          2020,
          2020,
          2020,
          2020,
          2020,
          2020,
          2020,
          2020,
          2020,
          2020,
          2020,
          2020,
          2020,
          2020,
          2020,
          2020,
          2020,
          2020,
          2020,
          2020,
          2020,
          2020,
          2020,
          2020,
          2020,
          2020,
          2020,
          2020,
          2020,
          2020,
          2020,
          2020,
          2020,
          2020,
          2020,
          2020,
          2020,
          2020,
          2020,
          2020,
          2020,
          2020,
          2020,
          2020,
          2020,
          2020,
          2020,
          2020,
          2020,
          2020,
          2020,
          2020,
          2020,
          2020,
          2020,
          2020,
          2020,
          2020,
          2020,
          2020,
          2020,
          2020,
          2020,
          2020,
          2020,
          2020,
          2020,
          2020,
          2020,
          2021,
          2021,
          2021,
          2021,
          2021,
          2021,
          2021,
          2021,
          2021,
          2021,
          2021,
          2021,
          2021,
          2021,
          2021,
          2021,
          2021,
          2021,
          2021,
          2021,
          2021,
          2021,
          2021,
          2021,
          2021,
          2021,
          2021,
          2021,
          2021,
          2021,
          2021,
          2021,
          2022,
          2022,
          2022,
          2022,
          2022,
          2022,
          2022,
          2022,
          2022,
          2022,
          2022,
          2022,
          2022,
          2022,
          2022,
          2022,
          2022,
          2022,
          2022,
          2022,
          2022,
          2022,
          2022,
          2022,
          2022,
          2022,
          2022,
          2022,
          2022,
          2022,
          2022,
          2022,
          2022,
          2022,
          2022,
          2022,
          2022,
          2022,
          2022,
          2022,
          2022,
          2022,
          2022,
          2022,
          2022,
          2022,
          2022,
          2022,
          2022,
          2022,
          2023,
          2023,
          2023,
          2023,
          2023,
          2023,
          2023,
          2023,
          2023,
          2023,
          2023,
          2023,
          2023,
          2023,
          2023,
          2023,
          2023,
          2023,
          2023,
          2023,
          2023,
          2023,
          2023,
          2023,
          2023,
          2023,
          2023,
          2023,
          2023,
          2023,
          2023,
          2023,
          2023,
          2023,
          2023
         ],
         "x0": " ",
         "xaxis": "x",
         "y": [
          75000,
          75000,
          51824,
          75000,
          1000000,
          300000,
          192394,
          180000,
          90000,
          100000,
          200000,
          200000,
          100000,
          199999,
          1500000,
          300000,
          139682,
          180000,
          162889,
          180000,
          300000,
          31569,
          180000,
          178043,
          180000,
          174793,
          180000,
          161221,
          118647,
          300000,
          300000,
          300000,
          300000,
          180000,
          300000,
          180000,
          180000,
          180000,
          300000,
          180000,
          99800,
          180000,
          180000,
          180000,
          180000,
          300000,
          160000,
          100000,
          100000,
          100000,
          100000,
          90000,
          75000,
          100000,
          200000,
          100000,
          100000,
          99928,
          10000,
          8000,
          6000,
          199456,
          150000,
          8000,
          8000,
          8000,
          100000,
          8000,
          100000,
          100000,
          98600,
          100000,
          100000,
          95000,
          100000,
          200000,
          100000,
          100000,
          100000,
          100000,
          50000,
          100000,
          100000,
          200000,
          199739,
          100000,
          200000,
          100000,
          100000,
          76500,
          1452855,
          185449,
          100000,
          74786,
          150000,
          150000,
          90000,
          55000,
          180000,
          180000,
          120000,
          90000,
          53062,
          180000,
          10000,
          150000,
          10000000,
          500000,
          114309,
          300000,
          400000,
          334800,
          300000,
          300000,
          90000,
          300000,
          300000,
          150000,
          300000,
          300000,
          52500,
          90000,
          300000,
          180000,
          300000,
          546027,
          450000,
          52499,
          120000,
          197000,
          300000,
          500000,
          135223,
          200000,
          100000,
          100000,
          99603,
          100000,
          100000,
          100000,
          150000,
          100000,
          100000,
          100000,
          100000,
          100000,
          180000,
          200000,
          200000,
          100000,
          100000,
          200000,
          100000,
          200000,
          100000,
          100000,
          100000,
          100000,
          50000,
          100000,
          104000,
          100000,
          356396,
          100000,
          60000,
          100000,
          72986,
          100000,
          75000,
          95409,
          100000,
          300000,
          100000,
          80000,
          100000,
          50000,
          200000,
          90000,
          100000,
          100000,
          100000,
          100000,
          157440,
          30000,
          15000,
          100000,
          99996,
          200000,
          100000,
          100000,
          50000,
          97000,
          160000,
          360000,
          100000,
          240000,
          360000,
          240000,
          360000,
          240000,
          160000,
          100000,
          146250,
          160000,
          240000,
          360000,
          240000,
          360000,
          78000,
          99999,
          100000,
          240000,
          200000,
          240000,
          360000,
          360000,
          240000,
          360000,
          240000,
          240000,
          57623,
          100000,
          100000,
          240000,
          100000,
          100000,
          197950,
          240000,
          360000,
          360000,
          200000,
          30505,
          10976,
          30000,
          150000,
          10000,
          10000,
          30000,
          40000,
          30000,
          92940,
          200000,
          200000,
          150000,
          172500,
          77500,
          430550,
          47345,
          30000,
          360000,
          40000,
          100000,
          50000,
          360000,
          92270,
          177000,
          100000,
          100000,
          200000,
          98500,
          100000,
          45000,
          86666,
          80000,
          116000,
          87590,
          100000,
          100000,
          100000,
          96550,
          50182,
          198500,
          160000,
          360000,
          240000,
          360000,
          240000,
          360000,
          360000,
          360000,
          240000,
          360000,
          199357,
          20000,
          945000,
          39600,
          240000,
          100000,
          100000,
          140000,
          100000,
          99999,
          23397,
          49000,
          240000,
          100000,
          148475
         ],
         "y0": " ",
         "yaxis": "y"
        }
       ],
       "layout": {
        "boxmode": "group",
        "height": 500,
        "legend": {
         "title": {
          "font": {
           "size": 15
          },
          "text": "LGA Status"
         },
         "tracegroupgap": 0
        },
        "template": {
         "data": {
          "bar": [
           {
            "error_x": {
             "color": "#2a3f5f"
            },
            "error_y": {
             "color": "#2a3f5f"
            },
            "marker": {
             "line": {
              "color": "#E5ECF6",
              "width": 0.5
             },
             "pattern": {
              "fillmode": "overlay",
              "size": 10,
              "solidity": 0.2
             }
            },
            "type": "bar"
           }
          ],
          "barpolar": [
           {
            "marker": {
             "line": {
              "color": "#E5ECF6",
              "width": 0.5
             },
             "pattern": {
              "fillmode": "overlay",
              "size": 10,
              "solidity": 0.2
             }
            },
            "type": "barpolar"
           }
          ],
          "carpet": [
           {
            "aaxis": {
             "endlinecolor": "#2a3f5f",
             "gridcolor": "white",
             "linecolor": "white",
             "minorgridcolor": "white",
             "startlinecolor": "#2a3f5f"
            },
            "baxis": {
             "endlinecolor": "#2a3f5f",
             "gridcolor": "white",
             "linecolor": "white",
             "minorgridcolor": "white",
             "startlinecolor": "#2a3f5f"
            },
            "type": "carpet"
           }
          ],
          "choropleth": [
           {
            "colorbar": {
             "outlinewidth": 0,
             "ticks": ""
            },
            "type": "choropleth"
           }
          ],
          "contour": [
           {
            "colorbar": {
             "outlinewidth": 0,
             "ticks": ""
            },
            "colorscale": [
             [
              0,
              "#0d0887"
             ],
             [
              0.1111111111111111,
              "#46039f"
             ],
             [
              0.2222222222222222,
              "#7201a8"
             ],
             [
              0.3333333333333333,
              "#9c179e"
             ],
             [
              0.4444444444444444,
              "#bd3786"
             ],
             [
              0.5555555555555556,
              "#d8576b"
             ],
             [
              0.6666666666666666,
              "#ed7953"
             ],
             [
              0.7777777777777778,
              "#fb9f3a"
             ],
             [
              0.8888888888888888,
              "#fdca26"
             ],
             [
              1,
              "#f0f921"
             ]
            ],
            "type": "contour"
           }
          ],
          "contourcarpet": [
           {
            "colorbar": {
             "outlinewidth": 0,
             "ticks": ""
            },
            "type": "contourcarpet"
           }
          ],
          "heatmap": [
           {
            "colorbar": {
             "outlinewidth": 0,
             "ticks": ""
            },
            "colorscale": [
             [
              0,
              "#0d0887"
             ],
             [
              0.1111111111111111,
              "#46039f"
             ],
             [
              0.2222222222222222,
              "#7201a8"
             ],
             [
              0.3333333333333333,
              "#9c179e"
             ],
             [
              0.4444444444444444,
              "#bd3786"
             ],
             [
              0.5555555555555556,
              "#d8576b"
             ],
             [
              0.6666666666666666,
              "#ed7953"
             ],
             [
              0.7777777777777778,
              "#fb9f3a"
             ],
             [
              0.8888888888888888,
              "#fdca26"
             ],
             [
              1,
              "#f0f921"
             ]
            ],
            "type": "heatmap"
           }
          ],
          "heatmapgl": [
           {
            "colorbar": {
             "outlinewidth": 0,
             "ticks": ""
            },
            "colorscale": [
             [
              0,
              "#0d0887"
             ],
             [
              0.1111111111111111,
              "#46039f"
             ],
             [
              0.2222222222222222,
              "#7201a8"
             ],
             [
              0.3333333333333333,
              "#9c179e"
             ],
             [
              0.4444444444444444,
              "#bd3786"
             ],
             [
              0.5555555555555556,
              "#d8576b"
             ],
             [
              0.6666666666666666,
              "#ed7953"
             ],
             [
              0.7777777777777778,
              "#fb9f3a"
             ],
             [
              0.8888888888888888,
              "#fdca26"
             ],
             [
              1,
              "#f0f921"
             ]
            ],
            "type": "heatmapgl"
           }
          ],
          "histogram": [
           {
            "marker": {
             "pattern": {
              "fillmode": "overlay",
              "size": 10,
              "solidity": 0.2
             }
            },
            "type": "histogram"
           }
          ],
          "histogram2d": [
           {
            "colorbar": {
             "outlinewidth": 0,
             "ticks": ""
            },
            "colorscale": [
             [
              0,
              "#0d0887"
             ],
             [
              0.1111111111111111,
              "#46039f"
             ],
             [
              0.2222222222222222,
              "#7201a8"
             ],
             [
              0.3333333333333333,
              "#9c179e"
             ],
             [
              0.4444444444444444,
              "#bd3786"
             ],
             [
              0.5555555555555556,
              "#d8576b"
             ],
             [
              0.6666666666666666,
              "#ed7953"
             ],
             [
              0.7777777777777778,
              "#fb9f3a"
             ],
             [
              0.8888888888888888,
              "#fdca26"
             ],
             [
              1,
              "#f0f921"
             ]
            ],
            "type": "histogram2d"
           }
          ],
          "histogram2dcontour": [
           {
            "colorbar": {
             "outlinewidth": 0,
             "ticks": ""
            },
            "colorscale": [
             [
              0,
              "#0d0887"
             ],
             [
              0.1111111111111111,
              "#46039f"
             ],
             [
              0.2222222222222222,
              "#7201a8"
             ],
             [
              0.3333333333333333,
              "#9c179e"
             ],
             [
              0.4444444444444444,
              "#bd3786"
             ],
             [
              0.5555555555555556,
              "#d8576b"
             ],
             [
              0.6666666666666666,
              "#ed7953"
             ],
             [
              0.7777777777777778,
              "#fb9f3a"
             ],
             [
              0.8888888888888888,
              "#fdca26"
             ],
             [
              1,
              "#f0f921"
             ]
            ],
            "type": "histogram2dcontour"
           }
          ],
          "mesh3d": [
           {
            "colorbar": {
             "outlinewidth": 0,
             "ticks": ""
            },
            "type": "mesh3d"
           }
          ],
          "parcoords": [
           {
            "line": {
             "colorbar": {
              "outlinewidth": 0,
              "ticks": ""
             }
            },
            "type": "parcoords"
           }
          ],
          "pie": [
           {
            "automargin": true,
            "type": "pie"
           }
          ],
          "scatter": [
           {
            "fillpattern": {
             "fillmode": "overlay",
             "size": 10,
             "solidity": 0.2
            },
            "type": "scatter"
           }
          ],
          "scatter3d": [
           {
            "line": {
             "colorbar": {
              "outlinewidth": 0,
              "ticks": ""
             }
            },
            "marker": {
             "colorbar": {
              "outlinewidth": 0,
              "ticks": ""
             }
            },
            "type": "scatter3d"
           }
          ],
          "scattercarpet": [
           {
            "marker": {
             "colorbar": {
              "outlinewidth": 0,
              "ticks": ""
             }
            },
            "type": "scattercarpet"
           }
          ],
          "scattergeo": [
           {
            "marker": {
             "colorbar": {
              "outlinewidth": 0,
              "ticks": ""
             }
            },
            "type": "scattergeo"
           }
          ],
          "scattergl": [
           {
            "marker": {
             "colorbar": {
              "outlinewidth": 0,
              "ticks": ""
             }
            },
            "type": "scattergl"
           }
          ],
          "scattermapbox": [
           {
            "marker": {
             "colorbar": {
              "outlinewidth": 0,
              "ticks": ""
             }
            },
            "type": "scattermapbox"
           }
          ],
          "scatterpolar": [
           {
            "marker": {
             "colorbar": {
              "outlinewidth": 0,
              "ticks": ""
             }
            },
            "type": "scatterpolar"
           }
          ],
          "scatterpolargl": [
           {
            "marker": {
             "colorbar": {
              "outlinewidth": 0,
              "ticks": ""
             }
            },
            "type": "scatterpolargl"
           }
          ],
          "scatterternary": [
           {
            "marker": {
             "colorbar": {
              "outlinewidth": 0,
              "ticks": ""
             }
            },
            "type": "scatterternary"
           }
          ],
          "surface": [
           {
            "colorbar": {
             "outlinewidth": 0,
             "ticks": ""
            },
            "colorscale": [
             [
              0,
              "#0d0887"
             ],
             [
              0.1111111111111111,
              "#46039f"
             ],
             [
              0.2222222222222222,
              "#7201a8"
             ],
             [
              0.3333333333333333,
              "#9c179e"
             ],
             [
              0.4444444444444444,
              "#bd3786"
             ],
             [
              0.5555555555555556,
              "#d8576b"
             ],
             [
              0.6666666666666666,
              "#ed7953"
             ],
             [
              0.7777777777777778,
              "#fb9f3a"
             ],
             [
              0.8888888888888888,
              "#fdca26"
             ],
             [
              1,
              "#f0f921"
             ]
            ],
            "type": "surface"
           }
          ],
          "table": [
           {
            "cells": {
             "fill": {
              "color": "#EBF0F8"
             },
             "line": {
              "color": "white"
             }
            },
            "header": {
             "fill": {
              "color": "#C8D4E3"
             },
             "line": {
              "color": "white"
             }
            },
            "type": "table"
           }
          ]
         },
         "layout": {
          "annotationdefaults": {
           "arrowcolor": "#2a3f5f",
           "arrowhead": 0,
           "arrowwidth": 1
          },
          "autotypenumbers": "strict",
          "coloraxis": {
           "colorbar": {
            "outlinewidth": 0,
            "ticks": ""
           }
          },
          "colorscale": {
           "diverging": [
            [
             0,
             "#8e0152"
            ],
            [
             0.1,
             "#c51b7d"
            ],
            [
             0.2,
             "#de77ae"
            ],
            [
             0.3,
             "#f1b6da"
            ],
            [
             0.4,
             "#fde0ef"
            ],
            [
             0.5,
             "#f7f7f7"
            ],
            [
             0.6,
             "#e6f5d0"
            ],
            [
             0.7,
             "#b8e186"
            ],
            [
             0.8,
             "#7fbc41"
            ],
            [
             0.9,
             "#4d9221"
            ],
            [
             1,
             "#276419"
            ]
           ],
           "sequential": [
            [
             0,
             "#0d0887"
            ],
            [
             0.1111111111111111,
             "#46039f"
            ],
            [
             0.2222222222222222,
             "#7201a8"
            ],
            [
             0.3333333333333333,
             "#9c179e"
            ],
            [
             0.4444444444444444,
             "#bd3786"
            ],
            [
             0.5555555555555556,
             "#d8576b"
            ],
            [
             0.6666666666666666,
             "#ed7953"
            ],
            [
             0.7777777777777778,
             "#fb9f3a"
            ],
            [
             0.8888888888888888,
             "#fdca26"
            ],
            [
             1,
             "#f0f921"
            ]
           ],
           "sequentialminus": [
            [
             0,
             "#0d0887"
            ],
            [
             0.1111111111111111,
             "#46039f"
            ],
            [
             0.2222222222222222,
             "#7201a8"
            ],
            [
             0.3333333333333333,
             "#9c179e"
            ],
            [
             0.4444444444444444,
             "#bd3786"
            ],
            [
             0.5555555555555556,
             "#d8576b"
            ],
            [
             0.6666666666666666,
             "#ed7953"
            ],
            [
             0.7777777777777778,
             "#fb9f3a"
            ],
            [
             0.8888888888888888,
             "#fdca26"
            ],
            [
             1,
             "#f0f921"
            ]
           ]
          },
          "colorway": [
           "#636efa",
           "#EF553B",
           "#00cc96",
           "#ab63fa",
           "#FFA15A",
           "#19d3f3",
           "#FF6692",
           "#B6E880",
           "#FF97FF",
           "#FECB52"
          ],
          "font": {
           "color": "#2a3f5f"
          },
          "geo": {
           "bgcolor": "white",
           "lakecolor": "white",
           "landcolor": "#E5ECF6",
           "showlakes": true,
           "showland": true,
           "subunitcolor": "white"
          },
          "hoverlabel": {
           "align": "left"
          },
          "hovermode": "closest",
          "mapbox": {
           "style": "light"
          },
          "paper_bgcolor": "white",
          "plot_bgcolor": "#E5ECF6",
          "polar": {
           "angularaxis": {
            "gridcolor": "white",
            "linecolor": "white",
            "ticks": ""
           },
           "bgcolor": "#E5ECF6",
           "radialaxis": {
            "gridcolor": "white",
            "linecolor": "white",
            "ticks": ""
           }
          },
          "scene": {
           "xaxis": {
            "backgroundcolor": "#E5ECF6",
            "gridcolor": "white",
            "gridwidth": 2,
            "linecolor": "white",
            "showbackground": true,
            "ticks": "",
            "zerolinecolor": "white"
           },
           "yaxis": {
            "backgroundcolor": "#E5ECF6",
            "gridcolor": "white",
            "gridwidth": 2,
            "linecolor": "white",
            "showbackground": true,
            "ticks": "",
            "zerolinecolor": "white"
           },
           "zaxis": {
            "backgroundcolor": "#E5ECF6",
            "gridcolor": "white",
            "gridwidth": 2,
            "linecolor": "white",
            "showbackground": true,
            "ticks": "",
            "zerolinecolor": "white"
           }
          },
          "shapedefaults": {
           "line": {
            "color": "#2a3f5f"
           }
          },
          "ternary": {
           "aaxis": {
            "gridcolor": "white",
            "linecolor": "white",
            "ticks": ""
           },
           "baxis": {
            "gridcolor": "white",
            "linecolor": "white",
            "ticks": ""
           },
           "bgcolor": "#E5ECF6",
           "caxis": {
            "gridcolor": "white",
            "linecolor": "white",
            "ticks": ""
           }
          },
          "title": {
           "x": 0.05
          },
          "xaxis": {
           "automargin": true,
           "gridcolor": "white",
           "linecolor": "white",
           "ticks": "",
           "title": {
            "standoff": 15
           },
           "zerolinecolor": "white",
           "zerolinewidth": 2
          },
          "yaxis": {
           "automargin": true,
           "gridcolor": "white",
           "linecolor": "white",
           "ticks": "",
           "title": {
            "standoff": 15
           },
           "zerolinecolor": "white",
           "zerolinewidth": 2
          }
         }
        },
        "title": {
         "text": "Boxplots of Funding Amounts Between 2019 and 2023 (Zoomed to hide Outliers)"
        },
        "xaxis": {
         "anchor": "y",
         "domain": [
          0,
          1
         ],
         "title": {
          "text": "Approval Year"
         }
        },
        "yaxis": {
         "anchor": "x",
         "domain": [
          0,
          1
         ],
         "range": [
          0,
          500000
         ],
         "title": {
          "text": "Contractual Commitment ($ GST excl.)"
         }
        }
       }
      }
     },
     "metadata": {},
     "output_type": "display_data"
    }
   ],
   "source": [
    "part_b_boxes1.update_yaxes(range=[0, 500000])\n",
    "part_b_boxes1.update_layout(title = \"Boxplots of Funding Amounts Between 2019 and 2023 (Zoomed to hide Outliers)\")"
   ]
  },
  {
   "cell_type": "markdown",
   "id": "5dd1b9c9-29ed-4c2b-9d08-b68b96591cc2",
   "metadata": {},
   "source": [
    "## **Insight 2**\n",
    "> What outlier grants exist and how much do they impact the funding allocations for city and regional recipients?\n",
    "\n",
    "In the box plot view we can see that the median funding grants have remained stable over time for city and regional recipients, unlike the means which would be more affected by the outliers in 2019 and 2020. This stability suggests that **despite outliers having a significant impact on the total funding distribuition, the core offerings that Advance Queensland provide remain consistent**. It seems likely that the outliers are a result of one-off programs or even other government departments turning to Advance Queensland to distribute additonal funding. This hypothesis of external funding being distribuited by Advance Queensland is supported by the bar chart in the earlier visualisation 1b showing inconsistent annual funding allocations.\n",
    "\n",
    "These outliers could be filtered out of the dataset and then total funding analysed again, but it would be preferable to form a better understanding of where projects are providing value across the state in a more accurate manner since the analysis showed multiple \n",
    "\n",
    "An additonal thing of note is that the boxplot don't exhibit any trend of increasing each year. This could provide an interesting avenue of whether government funding to the core programs for Advance Queensland are maintaining their value respective to inflation."
   ]
  },
  {
   "cell_type": "markdown",
   "id": "97a8afe1-725c-4d4a-ba4b-a1f54de54f88",
   "metadata": {},
   "source": [
    "## **Conclusions**\n",
    "\n",
    "From the investigation that was conducted it appears that Advance Queensland as a whole has done a suitable job balancing funding grants across core programs programs between regional and city areas.\n",
    "\n",
    "More investigation could be done into individual programs and response to inflation, but would require detailed and time-consuming augmentation of the data set to understand the focus of individual programs and the finacial/health/environmental/societal benefits each funded project provides to the state of Queensland."
   ]
  },
  {
   "cell_type": "markdown",
   "id": "bd445636-923d-41a1-a469-2d48fcf35cfd",
   "metadata": {},
   "source": [
    "### **References**\n",
    "\n",
    "Queensland Government Open Data Portal. (2024, July 1st) _Advance Queensland Funding Recipients_.\n",
    "\n",
    "    Retrieved August 12, 2024, from https://www.data.qld.gov.au/dataset/advance-queensland-funding-recipients\n",
    "\n",
    "Queensland Government Statistician's Office. (2024, April 4th) _Estimated Resident Populations_.\n",
    "\n",
    "    Retrieved August 12, 2024, from https://www.qgso.qld.gov.au/statistics/theme/population/population-estimates/regions#current-release-estimated-resident-population"
   ]
  }
 ],
 "metadata": {
  "creation_period": "",
  "kernelspec": {
   "display_name": "Python 3 (ipykernel)",
   "language": "python",
   "name": "python3"
  },
  "language_info": {
   "codemirror_mode": {
    "name": "ipython",
    "version": 3
   },
   "file_extension": ".py",
   "mimetype": "text/x-python",
   "name": "python",
   "nbconvert_exporter": "python",
   "pygments_lexer": "ipython3",
   "version": "3.12.3"
  },
  "nb_name": "template",
  "qut": {
   "creation_period": "2023_sem1",
   "nb_name": "template-assignment1",
   "unit_code": "IFN619"
  },
  "unit_code": "",
  "vscode": {
   "interpreter": {
    "hash": "d4d1e4263499bec80672ea0156c357c1ee493ec2b1c70f0acce89fc37c4a6abe"
   }
  }
 },
 "nbformat": 4,
 "nbformat_minor": 5
}
