{
 "cells": [
  {
   "cell_type": "markdown",
   "metadata": {},
   "source": [
    "# IFQ619 Assessment 3 - Reflective Journal\n",
    "\n",
    "### Instructions\n",
    "\n",
    "1. Add your name and student number and run the cell below\n",
    "2. Change the name of this file to the format: **A3-studentNumber-full_Name.ipynb**\n",
    "3. Throughout the semester add regular reflections in **Part A**. Run the date and time cells for each reflection to record the current date and time.\n",
    "4. Include in **Part A**, supporting evidence\n",
    "5. At the conclusion of the semester write your reflective journal in **Part B**. Ensure that you follow the instructions on Canvas and include 3 threads (Experience, Personal, Learning). This part should be approximately 2-3 pages long when exported to PDF.\n",
    "6. Export this notebook as a PDF file - make sure it is named in the format: **A3-studentNumber-full_Name.pdf**\n",
    "7. Submit the exported PDF file to Canvas."
   ]
  },
  {
   "cell_type": "code",
   "execution_count": 2,
   "metadata": {},
   "outputs": [
    {
     "data": {
      "text/html": [
       "<h1>Morgan Meeuwissen (n12240800)</h1>"
      ],
      "text/plain": [
       "<IPython.core.display.HTML object>"
      ]
     },
     "metadata": {},
     "output_type": "display_data"
    }
   ],
   "source": [
    "# Complete the following cell with your details and run to produce your personalised header for this assignment\n",
    "\n",
    "import time\n",
    "from IPython.display import display, HTML,Image\n",
    "\n",
    "first_name = \"Morgan\"\n",
    "last_name = \"Meeuwissen\"\n",
    "student_number = \"n12240800\"\n",
    "\n",
    "personal_header = \"<h1>\"+first_name+\" \"+last_name+\" (\"+student_number+\")</h1>\"\n",
    "display(HTML(personal_header))"
   ]
  },
  {
   "cell_type": "markdown",
   "metadata": {},
   "source": [
    "---\n",
    "\n",
    "## PART A - Records of regular reflection and supporting evidence"
   ]
  },
  {
   "cell_type": "code",
   "execution_count": 6,
   "metadata": {
    "scrolled": true
   },
   "outputs": [
    {
     "data": {
      "text/html": [
       "<h3>Regular reflection date: 2024.07.14</h3>"
      ],
      "text/plain": [
       "<IPython.core.display.HTML object>"
      ]
     },
     "metadata": {},
     "output_type": "display_data"
    }
   ],
   "source": [
    "# run this cell when you complete a reflection\n",
    "display(HTML(f\"<h3>Regular reflection date: {time.strftime('%Y.%m.%d')}</h3>\"))"
   ]
  },
  {
   "cell_type": "markdown",
   "metadata": {},
   "source": [
    "### Regular Reflection - Analytics Cycle\n",
    "* This is my first time studying through QUT so applying for a CSP and finalising enrolment took longer than I expected. I have set myself a reminder to check back in that these were successful in two weeks.\n",
    "* I belive all my admin tasks and pre-work should be completed now, but there is a huge amount that I am reading through about writing references and other supporting material that seems unrelated. This is pretty confusing as to whether it impacts the course.\n",
    "* Having used R markdowns extensively I'm actually finding interacting with the Jupyter notebook a bit confusing due to unexpected differences in how they function.\n",
    "* I am feeling quite confident in my understanding of the first half of the course materials, however will need to brush up on some of the statistics particularly hypotheseis testing. Adapting to self-study will be a challenge.\n",
    "\n",
    "\n",
    "### Supporting evidence\n",
    "What is this? I have gone ahead and posted this to the discussion board. Maybe images of our learnings is what they are after?"
   ]
  },
  {
   "cell_type": "code",
   "execution_count": 3,
   "metadata": {},
   "outputs": [
    {
     "data": {
      "text/html": [
       "<h3>Regular reflection date: 2024.07.23</h3>"
      ],
      "text/plain": [
       "<IPython.core.display.HTML object>"
      ]
     },
     "metadata": {},
     "output_type": "display_data"
    }
   ],
   "source": [
    "# run this cell when you complete a reflection\n",
    "display(HTML(f\"<h3>Regular reflection date: {time.strftime('%Y.%m.%d')}</h3>\"))"
   ]
  },
  {
   "cell_type": "markdown",
   "metadata": {},
   "source": [
    "### Regular Reflection - Data Structures\n",
    "* At the beginning of this week I hadn't actually completed my notes on the data analytics cycle, however an experience in the office early in the week pushed me think about the strategy of how I approach problems. For context I work in a professional engineering role that uses data to form predictions about the performance of machinary and upcoming issues. Early this week we had a team meeting where somebody suggested that they were trying to run fast fourier tranform over a set of overall vibration data. This is something that with experience I knew wasn't worth doing, but breaking it down into QDAVI they hadn't taken the time to understand that the data that was available had already been aggregated and so was unsuitable for a technique like an fast fourier transform which relies upon using raw high frequency data to convert from a time domain to frequency domain.\n",
    "* Honestly over the course of this week I have also been somewhat guilty of this as well in trying multiple exploratory data analytics techniques like density plots without a clear vision of how I was planning to use the outputs... just attempting multiple analyses without a clear idea of how they will affect my insights.\n",
    "\n",
    "\n",
    "### Supporting evidence\n",
    "N/A\n",
    "\n",
    "\n"
   ]
  },
  {
   "cell_type": "code",
   "execution_count": 3,
   "metadata": {},
   "outputs": [
    {
     "data": {
      "text/html": [
       "<h3>Regular reflection date: 2024.07.30"
      ],
      "text/plain": [
       "<IPython.core.display.HTML object>"
      ]
     },
     "metadata": {},
     "output_type": "display_data"
    }
   ],
   "source": [
    "# run this cell when you complete a reflection\n",
    "display(HTML(f\"<h3>Regular reflection date: {time.strftime('%Y.%m.%d')}</h3>\"))"
   ]
  },
  {
   "cell_type": "markdown",
   "metadata": {},
   "source": [
    "### Regular Reflection - Structured Analytics\n",
    "* Not much to say about the content being covered here except that the rate at which we are covering Python is really speeding up. Fortunately I am familiar with the \n",
    "* At work this week a co-worker re-ran an old analysis of our team's, but purposely excluded the graphs to make it run faster. (I assume they hit an error and didn't understand it) I ended up reviewing this work as it has very large cost benefit and saw that the results looked very strange, so insisted that they include the visualisations. Later we sat down together and saw that there was segments of bad data that had polluted the results, so their insights were actually way off. This seemed quite topical to me as as it illustrates how the visualisations in QDAVI are a key part in the analysis.\n",
    "\n",
    "### Supporting evidence\n",
    "N/A\n",
    "\n",
    "\n",
    "\n",
    "\n"
   ]
  },
  {
   "cell_type": "code",
   "execution_count": 2,
   "metadata": {},
   "outputs": [
    {
     "data": {
      "text/html": [
       "<h3>Regular reflection date: 2024.08.05</h3>"
      ],
      "text/plain": [
       "<IPython.core.display.HTML object>"
      ]
     },
     "metadata": {},
     "output_type": "display_data"
    }
   ],
   "source": [
    "# run this cell when you complete a reflection\n",
    "display(HTML(f\"<h3>Regular reflection date: {time.strftime('%Y.%m.%d')}</h3>\"))"
   ]
  },
  {
   "cell_type": "markdown",
   "metadata": {},
   "source": [
    "### Regular Reflection - Visualisations\n",
    "\n",
    "* Visualisation in plotly express is rather clean, but I am still looking back to ggplot in R so I have asked to see if anyone has a good cheatsheet. While it may not apply to this course directly I spent some time investigating the language of graphics.\n",
    "* I am procrastinating a bit on the assignment for next week, but still confident.\n",
    "* I regret not asking about what the purpose of the pandas index was in the discussion board during week 4. Previously I had been assuming it was just a unique key, but then it has come up in the assignment and I feel overly self-conscious asking now.\n",
    "\n",
    "### Supporting evidence\n",
    "<img src=\"img/plotly-express-discussion.png\">\n",
    "\n",
    "\n"
   ]
  },
  {
   "cell_type": "code",
   "execution_count": 3,
   "metadata": {},
   "outputs": [
    {
     "data": {
      "text/html": [
       "<h3>Regular reflection date: 2024.08.12</h3>"
      ],
      "text/plain": [
       "<IPython.core.display.HTML object>"
      ]
     },
     "metadata": {},
     "output_type": "display_data"
    }
   ],
   "source": [
    "# run this cell when you complete a reflection\n",
    "display(HTML(f\"<h3>Regular reflection date: {time.strftime('%Y.%m.%d')}</h3>\"))"
   ]
  },
  {
   "cell_type": "markdown",
   "metadata": {},
   "source": [
    "### Regular Reflection - Assignment 1 Work\n",
    "* I am still in Part A.1 of Assignment 1, which is a fair bit behind where I intended to be and my study buddy is well ahead. I've now spent hours trying to wrap my head around the what we can use as a unique index. (I really need to get moving and it is starting to weigh on me)\n",
    "* I'm finding explaining myself and formatting markdown frustrating, but having seen the mixed reception this gets in business it is well worth practicing as it is a weak point of mine.\n",
    "\n",
    "### Supporting evidence\n",
    "<img src=\"img/adrian-email-prompting-me-to-start.png\">\n"
   ]
  },
  {
   "cell_type": "code",
   "execution_count": 3,
   "metadata": {},
   "outputs": [
    {
     "data": {
      "text/html": [
       "<h3>Regular reflection date: 2024.08.23</h3>"
      ],
      "text/plain": [
       "<IPython.core.display.HTML object>"
      ]
     },
     "metadata": {},
     "output_type": "display_data"
    }
   ],
   "source": [
    "# run this cell when you complete a reflection\n",
    "display(HTML(f\"<h3>Regular reflection date: {time.strftime('%Y.%m.%d')}</h3>\"))"
   ]
  },
  {
   "cell_type": "markdown",
   "metadata": {},
   "source": [
    "### Regular Reflection - Post-Assignment 1\n",
    "\n",
    "* Last week's assignment was left too late before I started to be comfortable. It took until  I also found that I had missread part B, so I wasn't thinking about it until later than I had intended\n",
    "* My regret on the not asking about the index only grew more over the week. It took me multiple days to learn of multi-indexes, trial combinations, and then finally move on to Part A.2. As soon as I hit Part B though the usefulness of it all started to click. This is really a flaw in my character where I always look to teach myself and hate asking for help (Something that in retrospect has caused issues for me in both work and social contexts... I don't regret fixing my car's alternator by learning how they work and testing the individual components though!)\n",
    "* While I felt that I could have gone on for much longer through multiple QDAVI cylcs, I am confident I submitted a detailed and justified investigation.\n",
    "* Fortunately in the review session Cici was very quick to pass me, so I am hoping it was clear I understood what I had been doing.\n",
    "\n",
    "### Supporting evidence\n",
    "N/A\n"
   ]
  },
  {
   "cell_type": "code",
   "execution_count": 2,
   "metadata": {},
   "outputs": [
    {
     "data": {
      "text/html": [
       "<h3>Regular reflection date: 2024.08.25</h3>"
      ],
      "text/plain": [
       "<IPython.core.display.HTML object>"
      ]
     },
     "metadata": {},
     "output_type": "display_data"
    }
   ],
   "source": [
    "# run this cell when you complete a reflection\n",
    "display(HTML(f\"<h3>Regular reflection date: {time.strftime('%Y.%m.%d')}</h3>\"))"
   ]
  },
  {
   "cell_type": "markdown",
   "metadata": {},
   "source": [
    "### Regular Reflection - Unstructured Analytics\n",
    "* I found the tutorial for very open ended. It was very easy to just copy code and make it run, but learning about stemming and lemmytising on my own took me down some rabbit warrens. I'm still not confident in doing much more than replicating code here, but I will work on it since it seems like it could be applyed in a work context for picking up failure history of components.\n",
    "* I'm not really happy with how my work looks in jupyter notebooks always displaying the code and I can't print to html. Surely there is a better way to produce something that would be targeted as non-code readers like knitr in R?\n",
    "* Experience at work reared it's head again this week when our presented and Agile showcase on a recent sprint. Most of the team didn't relate their outcomes back too the opportunity they were focused on and instead just described what they did in technical terms. This reminded me of insights need to relate back to the question. (I only realised after our manager mentioned the focus on the \"what\" was done and not the \"how\" this causes improvements)\n",
    "\n",
    "### Supporting evidence\n",
    "N/A\n"
   ]
  },
  {
   "cell_type": "code",
   "execution_count": 5,
   "metadata": {},
   "outputs": [
    {
     "data": {
      "text/html": [
       "<h3>Regular reflection date: 2024.09.01</h3>"
      ],
      "text/plain": [
       "<IPython.core.display.HTML object>"
      ]
     },
     "metadata": {},
     "output_type": "display_data"
    }
   ],
   "source": [
    "# run this cell when you complete a reflection\n",
    "display(HTML(f\"<h3>Regular reflection date: {time.strftime('%Y.%m.%d')}</h3>\"))"
   ]
  },
  {
   "cell_type": "markdown",
   "metadata": {},
   "source": [
    "### Regular Reflection - Assignment 1 Results and Machine Learning\n",
    "* The results of assignment 1 was a serious shock to me as I felt I had done better, however after reading through the feedback and grading rubric in detail I actually feel somewhat lucky to have picked up the marks that I did since my explanations were so sparse. (And I even reflected on how I found adding explanations frustrating a couple weeks back...)\n",
    "* Since I found myself doubting my understanding of the course so I decided that I would reach out to Cici and make sure I understood the feedback clearly. (I did consider going through the discussion board, but I dislike asking for help at the best of times)\n",
    "* On the other hand, machine learning was really fun to work through the tutorial as I could actually see myself utilising some of the techniques in the office.\n",
    "\n",
    "### Supporting evidence\n",
    "<img src=\"img/cici-email-on-assignment1.png\">\n"
   ]
  },
  {
   "cell_type": "code",
   "execution_count": 3,
   "metadata": {},
   "outputs": [
    {
     "data": {
      "text/html": [
       "<h3>Regular reflection date: 2024.09.04</h3>"
      ],
      "text/plain": [
       "<IPython.core.display.HTML object>"
      ]
     },
     "metadata": {},
     "output_type": "display_data"
    }
   ],
   "source": [
    "# run this cell when you complete a reflection\n",
    "display(HTML(f\"<h3>Regular reflection date: {time.strftime('%Y.%m.%d')}</h3>\"))"
   ]
  },
  {
   "cell_type": "markdown",
   "metadata": {},
   "source": [
    "### Regular Reflection - Ethics\n",
    "* I wasn't really expecting much out of the ethics unit. I seemed more like module that wouldn't really apply to my industry and I haven't really heard much discussion about it beyond privacy and avoiding descrimination\n",
    "* What really got me paying attention to the module was the blood plot that and the imagery it invoked as a bias despite being accurate. In the end it was actually quite fun and poignant that I had entered it with a bias.\n",
    "* To understand more about how the how ethics applies in technical analyses in mining I have been talking to some of the data scientist at work about how they percieve it. Mostly the feedback has been around remaining conscious of the audience and avoiding only presenting results with a bias that only supports personal/team agendas\n",
    "* In order to achieve a more cohesive narrative I am trying to form an understanding and outline for assignment 2 early. One of the steps I have taken is to admit my dissatisfaction with how my assignment 1 went on the discussion board and seek clarification of how we would go about re-approaching it for assignment 2.\n",
    "\n",
    "\n",
    "### Supporting evidence\n",
    "<img src=\"img/querying-assignment-2-discussion.png\">\n"
   ]
  },
  {
   "cell_type": "code",
   "execution_count": 7,
   "metadata": {},
   "outputs": [
    {
     "data": {
      "text/html": [
       "<h3>Regular reflection date: 2024.09.11"
      ],
      "text/plain": [
       "<IPython.core.display.HTML object>"
      ]
     },
     "metadata": {},
     "output_type": "display_data"
    }
   ],
   "source": [
    "# run this cell when you complete a reflection\n",
    "display(HTML(f\"<h3>Regular reflection date: {time.strftime('%Y.%m.%d')}</h3>\"))"
   ]
  },
  {
   "cell_type": "markdown",
   "metadata": {},
   "source": [
    "### Regular Reflection - Assignment Progress\n",
    "* I have partially drafted the second assignment now and am glad that I confirmed how it ties back to the first assignment with Cici last week. I'll take some time later this week to compare the planned submission to how well it matches the grading rubric.\n",
    "* Things are getting quite busy for me personally now with trying to find painters before the house raise, so I am considering taking advantage of a 48hr so I can properly draft my submission.\n",
    "* While doing an outline for this reflection and reviewing some of my module notes I noticed that *Norman's Principles of Human Centred Design* actually mirrored a lot of the mistakes I made in the first assignment. I kind of wish this had come earlier in the course content, but don't see how it would have fit the pacing of the course.\n",
    "* Listening to the state of the Generative AI industry was interesting and has given me some insight on how the vendors pushing predictive maintenance solutions at work function.\n",
    "\n",
    "\n",
    "### Supporting evidence\n",
    "N/A\n"
   ]
  },
  {
   "cell_type": "markdown",
   "metadata": {},
   "source": [
    "---\n",
    "\n",
    "## PART B - Reflective Journal\n",
    "\n",
    "*Write your final reflective journal in the next cell (using markdown). This part should be 2-3 pages long when exported as PDF.*\n",
    "\n",
    "---"
   ]
  },
  {
   "cell_type": "markdown",
   "metadata": {},
   "source": [
    "When I first decided to study a post-graduate degree it was a rather sudden decision made after nearly a decade of professional work experience and being in a very different stage of my life than when I completed  my engineering undergraduate. This made me feel somewhat excited, but also with an undercurrent of nervousness that I would struggle keeping up with work, study, negotiating house renovations, and social activities. What I felt really made a difference in combating this nervousness was filling in the teaching period and study planner templates that QUT provided and also signing up to the study buddy program so that I could stay connected with fellow students even when studying online. \n",
    "\n",
    "Much of the first week of the course was spent adapting to Canvas and trawling through the copious amount of additional course content that had been assigned to me. I now realise much of this was largely unrelated content, but at the time I found this overwhelming combined with everything else going on in my life. Fortunately however, the introductory Collaborate session helped clarify the course structure and re-focused me on its content. Going forward into future online study courses this is a lesson that I intend to learn from, that understanding the core course content early is essential to maintaining focused learning goals.\n",
    "\n",
    "Now more focused on the lecture and tutorial content I was pleasantly surprised to find that the first few weeks content seemed fairly similar to the professional work that I do predicting equipment failures. In fact, it felt so similar that I was able to race through the content at speed since QDAVI seemed analogous with the reproducible technical analyses I did for work and much of the Python techniques mirrored those I practised in R. It wasn’t until I had begun working through Part A of the first assignment to catch up with my study buddy that I realised how atrophied my Python skills actually were. Having a study buddy was actually a lifesaver here since hearing about their difficulties in Part B was what prompted me to start working on the assignment in earnest rather than spending so much time tinkering with the early coding sections and obsessing over small details that I didn’t understand in pandas. While I plan to continue in the study program, the real learning for me was that I had let my study planner targets lapse due to the perceived familiarity of the content being a lower priority than renovation planning. Had I have followed this planner as intended I’d have had an entire extra fortnight to complete and refine my submission rather working through to the Sunday evening.\n",
    "\n",
    "To put it lightly, I found the results of assignment 1 to be a shock. I’d actually felt pretty justified in the way I had conducted the analysis since I was accustomed to justifying technical analysis of equipment health and then explaining insights to stakeholders. Seeing the result come back as a 5 despite feedback about *“Strong technical handling ”* actually invoked a visceral reaction with my heart starting to race and adrenaline pumping. (Even a bit of denial if I’m honest)\n",
    "\n",
    "Reading through Cici’s feedback it was pretty clear that I had taken the wrong approach, but it wasn’t until I carefully compared my submission to the marking rubric that I really understood how little I had explained of my thought process during the analysis, instead only focusing on the question and insights. In hindsight, I realised what I had done was **applied QDAVI as an analytical approach** and not **presented a narrative using QDAVI**. In my professional career this would have been fine for an initial analysis since anything presented to senior stakeholders would be separate slides focusing on the visualisations and insights, however what I’d submitted definitely wasn’t something suited for consumption by anyone apart from myself.  Perhaps this would have been improved with more time available, but more importantly in future I resolved to spend more time carefully examining the grading rubric prior to commencing work and then keep the final submission separate from the initial investigation. This should keep future assessments targeted at the correct objectives and produce a clearer overall narrative that reaches my audience.\n",
    "\n",
    "Seeking help is something that I am not really comfortable with. I actually find that I am much better showing care for others than revealing my own feelings or uncertainty. However, in light of how misguided my approach to the first assignment had been, I felt the need to reach out to Cici directly via email to confirm my improved understanding of what the objectives I should have targeted. Her confirmation that the analysis was on the right path, but it suffered from a lacklustre narrative helped restore my confidence in the course because I understood where I had gone wrong and could improve on this in the future. It is clear to me that utilising teaching staff by asking for help is not a sign of inadequacy but rather a critical step in overcoming obstacles and clarifying misunderstandings. I resolved to be more mindful of my bias against questions in the future and reach out more proactively in both academics and professionally.\n",
    "\n",
    "Going into the second half of the course I maintained a stricter adherence to my study plan, which left me feeling more in control, despite the fact that the Python content had grown exponentially more complicated. (It definitely also helped that renovation contracts were now signed!) Some of the content I found most interesting were the techniques I could see myself applying at work. For example, topic modelling could be used in combination with lemmytising to get improved failure data from maintenance work orders. Also building simple logistic regression algorithms was fascinating as they have the potential to be useful in predicting whether equipment is currently failing or in a healthy condition based upon a number of factors. I look forward to using both of these more in the future, but will keep within my limits of understanding until I complete further courses or self-study.\n",
    "\n",
    "Ethics as a module seemed fairly simple to me before I started working through it and I was very surprised to find how much I enjoyed thinking about some of the concepts and readings that were presented. Adrian discussing how the infographic for “Iraq’s Bloody Toll” could be both accurate, but misleading was what really roused my attention and got me to re-examine what I already knew about ethics in analyses with an open mind so that I could discover deeper depths of understanding. Without this I probably wouldn’t have noticed the irony that following *Norman's Principles of Human Centred Design* would have helped me in avoiding three of the most egregious mistakes I had made in the first assignment:\n",
    "\n",
    "1. \"Understand and Address the Core Problems\": Not properly understanding the marking rubric before starting work\n",
    "2. \"Be People-Centered\": Largely ignoring the impacts to specifics groups in favour of a generic analysis and also not keeping my audience in mind by skipping explanations of thought processes or developing a narrative\n",
    "3. \"Use an Activity-Centered Systems Approach\": Spending hours on small details that didn’t impact the end result\n",
    "\n",
    "I definitely have only just started applying what I have learnt about ethics to my professional work, but feel like it has switched from something that only applies to other careers to something that impacts how I conduct myself as well. I’ve also been talking data scientists in other teams to understand how ethics applies to their work even in industrial applications.\n",
    "\n",
    "Overall I think my experience with “IFQ619 Data Analytics for Strategic Decision Makers” has had some challenges, but without these I doubt I would have taken the time to re-evaluate my learning process and gain insights that can applied to both my academic and professional careers. Some of the key insights about my own learning process were to understand the requirements thoroughly without preconceived notions, be mindful of my audience, and to reach out for assistance proactively to avoid getting mired in detail. Embracing a growth mindset, I look forward to putting both the content I have learned and these personal insights to use."
   ]
  }
 ],
 "metadata": {
  "kernelspec": {
   "display_name": "Python 3 (ipykernel)",
   "language": "python",
   "name": "python3"
  },
  "language_info": {
   "codemirror_mode": {
    "name": "ipython",
    "version": 3
   },
   "file_extension": ".py",
   "mimetype": "text/x-python",
   "name": "python",
   "nbconvert_exporter": "python",
   "pygments_lexer": "ipython3",
   "version": "3.11.9"
  }
 },
 "nbformat": 4,
 "nbformat_minor": 4
}
