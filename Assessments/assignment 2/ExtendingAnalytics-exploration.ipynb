{
 "cells": [
  {
   "attachments": {},
   "cell_type": "markdown",
   "id": "4f25fb7c-b847-446d-96a8-244b809fa314",
   "metadata": {
    "cell_name": "header_cell"
   },
   "source": [
    "<div style=\"background:#FFFFEE; color:#440404; padding:8px; border-radius: 4px; text-align: center; font-weight: 500;\">IFQ619 - Data Analytics for Strategic Decision Makers (2024)</div>"
   ]
  },
  {
   "attachments": {},
   "cell_type": "markdown",
   "id": "e620670b-943c-4faf-86c0-7c94a885210b",
   "metadata": {
    "cell_name": "title_cell"
   },
   "source": [
    "# IFQ619 :: UA2 - Extending Analytics (40%)\n",
    "\n",
    "**IMPORTANT:** Refer to the instructions in Canvas [UA2 - Assignment 2 - extending analytics] *BEFORE* working on this assignment.\n",
    "\n",
    "#### REQUIREMENTS ####\n",
    "\n",
    "1. Complete and run the code cell below to display your name, student number, and assignment option\n",
    "2. Identify an appropriate question (or questions) to be addressed by your overall data analytics narrative\n",
    "3. Extend your analysis in assignment 1 with:\n",
    "    - the analysis of additional unstructured data using the Guardian API (See accessing the Guardian API notebook),\n",
    "    - the use of one machine learning technique (as used in the class materials), and\n",
    "    - identification of ethical considerations relevant to the analysis (by drawing on class materials).\n",
    "4. Ensure that you include documentation of your thinking and decision-making using markdown cells\n",
    "5. Ensure that you include appropriate visualisations, and that they support the overall narrative\n",
    "6. Ensure that your insights answer your question/s and are appropriate to your narrative. \n",
    "7. Ensure that your insights are consistent with the ethical considerations identified.\n",
    "\n",
    "**NOTE:** you should not repeat the analysis from assignment 1, but you may need to save dataframes from assignment 1 and reload for use in this assignment. You may also summarise your assignment 1 insights as part of the process of identifying questions for analysis.\n",
    "\n",
    "#### SUBMISSION ####\n",
    "\n",
    "1. Create an assignment 2 folder named in the form **UA2-surname-idnumber** and put your notebook and any data files inside this folder. Note, do not put large training data in this folder (reference any training data that you used but keep it outside this folder), only keep small data files and models in this folder with your notebook.\n",
    "2. When you have everything in the correct folder, reset all cells and restart the kernel, then run the notebook completely, checking that all cells have run without error. If you encounter errors, fix your notebook and re-run the process. It is important that your notebook runs without errors only requiring the files in the folder that you have created.\n",
    "3. When the notebook is error free, zip the entire folder (you can select download folder in Jupyter).\n",
    "4. Submit the zipped folder in Canvas\n"
   ]
  },
  {
   "cell_type": "code",
   "execution_count": 10,
   "id": "763f6f63",
   "metadata": {},
   "outputs": [
    {
     "data": {
      "text/html": [
       "<h1>Morgan Meeuwissen (n12240800)</h1>"
      ],
      "text/plain": [
       "<IPython.core.display.HTML object>"
      ]
     },
     "execution_count": 10,
     "metadata": {},
     "output_type": "execute_result"
    }
   ],
   "source": [
    "# Complete the following cell with your details and run to produce your personalised header for this assignment\n",
    "\n",
    "from IPython.display import HTML\n",
    "\n",
    "# personal details\n",
    "first_name = \"Morgan\"\n",
    "last_name = \"Meeuwissen\"\n",
    "student_number = \"n12240800\"\n",
    "\n",
    "personal_header = f\"<h1>{first_name} {last_name} ({student_number})</h1>\"\n",
    "HTML(personal_header)"
   ]
  },
  {
   "attachments": {},
   "cell_type": "markdown",
   "id": "24fbcf4f",
   "metadata": {},
   "source": [
    "---\n"
   ]
  },
  {
   "cell_type": "markdown",
   "id": "904011a8-fec2-4f47-99b3-6fb5504726fd",
   "metadata": {},
   "source": [
    "# Themes that use topic modelling?\n",
    "* Long term affects of funding? still remain in news or short-lived?\n",
    "* Funding as a result of news (public image leading funding)\n",
    "* Funding to be lagged one year from the news? Gov funding cyle?\n",
    "* Impact on Local Jobs: The Guardian’s coverage of labor market issues and economic policies provides a context for evaluating how programs like Advance Queensland impact local employment. Discussions on job creation and displacement relate directly to the ethical consideration of benefiting local communities through such initiatives."
   ]
  },
  {
   "cell_type": "markdown",
   "id": "376672c0-203d-4738-8dc6-56e9d5bbd3d5",
   "metadata": {},
   "source": [
    "Word limit: 1500–3000 words. Three-four analytics cycles?\n",
    "\n",
    "**Outline:**\n",
    "\n",
    "* COntext from first assignment and final insight + graph - fairly distributed -> Overarching question... does it make a difference?\n",
    "* Question: What does the media attention show? Topic Cluser graphs * How much of the media attention is for indigenous matters? Cumulative clusters bar chart by articles.\n",
    "* Question: What impacts media attention from the funding (count articles on the topic and correlelgram)\n",
    "* Question: Can a relationship be established? Predict funding from public opinion. articles from linreg or perhaps a logistic regression of if there is any attention given by topic. (if low articles)\n",
    "\n",
    "\n",
    "CAN WE TOPIC MODEL ACROSS MULTIPLE CORPUS? TOPICS FROM THE PROGRAM NAME/PROJECT NAME AND FIND MATCHES IN THE GUARDIAN\n",
    "https://towardsdatascience.com/unsupervised-nlp-topic-models-as-a-supervised-learning-input-cf8ee9e5cf28\n",
    "rain LDA Model on 100,000 Restaurant Reviews from 2016\n",
    "Grab Topic distributions for every review using the LDA Model\n",
    "Use Topic Distributions directly as feature vectors in supervised classification models (Logistic Regression, SVC, etc) and get F1-score.\n",
    "Use the same 2016 LDA model to get topic distributions from 2017 (the LDA model did not see this data!)\n",
    "Want a topic that combines regional and indigenous? bigram traditional owner"
   ]
  },
  {
   "cell_type": "markdown",
   "id": "a6430e73",
   "metadata": {},
   "source": [
    "# Past assignment Andrew notes\n",
    "d your assignment 1 analysis by including consideration of ethical and human factors, including 1 extended analysis technique, and using at least 1 additional data source. Possible additional data sources:\n",
    "\n",
    "    Guardian API (See accessing the Guardian API notebook)\n",
    "    Hospital location data (Provided, see data folder)\n",
    "\n",
    "**NOTE: you should not repeat the analysis from assignment 1, but you may need to save dataframes from assignment 1 and reload for use in this assignment. You may also summarise your assignment 1 insights as part of the process of identifying questions for analysis.**"
   ]
  },
  {
   "cell_type": "markdown",
   "id": "ff0a413d",
   "metadata": {},
   "source": [
    "# Insights\n",
    "Start off by working out what the QLD gov articles actually show. This will be done through topic modelling variants and then clustering\n",
    "articles json only has the title as a key and the text, but the title has the date that can be extracted for potential use.\n",
    "\n",
    "\n",
    "clustering to topics already done lda and nmf?  TFIDF is doc specific, others take into account the whole corpus\n",
    "Establish topics that match Advance Queensland and then use as predictors by year?\n",
    "\n",
    "No mentions of Advance QLD\n",
    "QLD Gov search not finding a cluster for Regional\n",
    "**Try working from regional queensland back? Just regional? If taking a specific approach like this could have way less clusters....**\n",
    "\n",
    "https://open-platform.theguardian.com/explore/ very useful. Narrow down from 79"
   ]
  },
  {
   "cell_type": "code",
   "execution_count": 11,
   "id": "746d576c",
   "metadata": {},
   "outputs": [],
   "source": [
    "# Import the necessary libraries\n",
    "from sklearn.feature_extraction.text import TfidfVectorizer, CountVectorizer, ENGLISH_STOP_WORDS\n",
    "from sklearn.decomposition import LatentDirichletAllocation, NMF\n",
    "import pandas as pd\n",
    "import json\n",
    "\n",
    "import re\n",
    "import spacy"
   ]
  },
  {
   "cell_type": "code",
   "execution_count": 12,
   "id": "b6354038",
   "metadata": {},
   "outputs": [],
   "source": [
    "# Load the data - articles from The Guardian about the war in Ukraine\n",
    "file_path = \"data/\"\n",
    "file_name = \"qld_gov_articles.json\"\n",
    "\n",
    "with open(f\"{file_path}{file_name}\",'r', encoding='utf-8') as fp:\n",
    "    articles = json.load(fp)\n",
    "\n",
    "#print(f\"Loaded {len(articles)} articles from {file_name}\")\n",
    "\n",
    "\n",
    "# AYOOOOOO WE DOING A LEMMATISING FUNCTION\n",
    "# https://jonathansoma.com/lede/image-and-sound/text-analysis/text-analysis-word-counting-lemmatizing-and-tf-idf/\n",
    "\n",
    "\n",
    "nlp = spacy.load(\"en_core_web_sm\")\n",
    "# Source: spaCy is a dream, but a dream where sometimes your legs won’t move right and you can’t read text. But sometimes you can fly! So yes, as always, ups and downs\n",
    "# Morgan: I hate this\n",
    "# python -m spacy download en\n",
    "# python -m pip install spacy\n",
    "\n",
    "def lemmatize(text):\n",
    "    doc = nlp(text)\n",
    "    # Turn it into tokens, ignoring the punctuation\n",
    "    tokens = [token for token in doc if not token.is_punct]\n",
    "    # Convert those tokens into lemmas, EXCEPT the pronouns, we'll keep those.\n",
    "    lemmas = [token.lemma_ if token.pos_ != 'PRON' else token.orth_ for token in tokens]\n",
    "    return lemmas\n",
    "\n",
    "\n",
    "# Only count terms that in maximum of 75% of documents, and a minimum of 2 documents. \n",
    "# Count a maximum of 10000 terms, and remove common english stop words\n",
    "StopWords = list(ENGLISH_STOP_WORDS.union([\"Monday\",\"Tuesday\",\"Wednesday\",\"Thursday\",\"Friday\", \"Saturday\", \"Sunday\",\"nbsp\", \"\\n\", \"|\", \"\\n \", \n",
    "                                           \"$\", \"year\", \"m\", \"new\", \"need\", \"increase\",\"bst\", \"gmt\", \"says\", \"year\", \"told\"]))\n",
    "\n",
    "\n",
    "# #count_vectorizer = CountVectorizer(preprocessor=lambda x: x.replace('(\\D+)', \"\", regex = True))\n",
    "# #count_vectorizer = CountVectorizer(\n",
    "# count_vectorizer = CountVectorizer(\n",
    "#                                    preprocessor=lambda x: re.sub(r\"([\\d\\.])+\", \"NUM\", x),\n",
    "#                                    max_df=0.75,min_df=5,max_features=10000,\n",
    "#                                    stop_words=StopWords, #Add stop words\n",
    "#                                    tokenizer=lemmatize, # Lemmatiseer\n",
    "#                                    ngram_range = (1,2)) #Use Bigrams as well to pick up things like \"First Nation\"\n",
    "# count_dt_matrix = count_vectorizer.fit_transform(articles.values())"
   ]
  },
  {
   "cell_type": "code",
   "execution_count": 72,
   "id": "431a104a",
   "metadata": {},
   "outputs": [
    {
     "name": "stderr",
     "output_type": "stream",
     "text": [
      "c:\\Users\\Morgan\\AppData\\Local\\Programs\\Python\\Python312\\Lib\\site-packages\\sklearn\\feature_extraction\\text.py:521: UserWarning:\n",
      "\n",
      "The parameter 'token_pattern' will not be used since 'tokenizer' is not None'\n",
      "\n",
      "c:\\Users\\Morgan\\AppData\\Local\\Programs\\Python\\Python312\\Lib\\site-packages\\sklearn\\feature_extraction\\text.py:406: UserWarning:\n",
      "\n",
      "Your stop_words may be inconsistent with your preprocessing. Tokenizing the stop words generated tokens ['far', 'make', 'say', 'tell', 'whereaft'] not in stop_words.\n",
      "\n"
     ]
    }
   ],
   "source": [
    "# TFIDF\n",
    "# Only count terms that in maximum of 75% of documents, and a minimum of 5 documents. \n",
    "# Count a maximum of 10000 terms, and remove common english stop words\n",
    "tfidf_vectorizer = TfidfVectorizer(\n",
    "                                   preprocessor=lambda x: re.sub(r\"([\\d\\.])+\", \"NUM\", x),\n",
    "                                   max_df=0.75,min_df=5,max_features=10000,\n",
    "                                   stop_words=StopWords, #Add stop words\n",
    "                                   tokenizer=lemmatize, # Lemmatiseer\n",
    "                                   ngram_range = (1,2) #Use Bigrams as well to pick up things like \"First Nation\"\n",
    ")\n",
    "\n",
    "\n",
    "tfidf_dt_matrix = tfidf_vectorizer.fit_transform(articles.values())"
   ]
  },
  {
   "cell_type": "markdown",
   "id": "f2a211aa",
   "metadata": {},
   "source": [
    "Introduce NMF"
   ]
  },
  {
   "cell_type": "code",
   "execution_count": 22,
   "id": "717ce9d6",
   "metadata": {},
   "outputs": [],
   "source": [
    "# Set number of topics\n",
    "num_topics = 15\n",
    "# Set max number of iteractions\n",
    "max_iterations = 500\n",
    "feature_names = tfidf_vectorizer.get_feature_names_out()\n",
    "\n",
    "# Create the model\n",
    "nmf_model = NMF(n_components=num_topics,init='random', random_state=42  # Set random state to have reproducible results\n",
    "                ,beta_loss='frobenius', max_iter=max_iterations)\n",
    "\n",
    "# Fit the model to the data and use it to transform the data\n",
    "doc_topic_nmf = nmf_model.fit_transform(tfidf_dt_matrix)\n",
    "\n",
    "topic_term_nmf = nmf_model.components_"
   ]
  },
  {
   "cell_type": "code",
   "execution_count": 44,
   "id": "d861e7a7",
   "metadata": {},
   "outputs": [
    {
     "name": "stdout",
     "output_type": "stream",
     "text": [
      "Topic_0\n",
      "{'coal': 1.7919, 'royalty': 0.9452, 'mining': 0.4705, 'tonne': 0.4603, 'coalmine': 0.4414, 'price': 0.3856, 'thermal': 0.3722, 'company': 0.3659, 'climate': 0.3513, 'project': 0.3089}\n",
      "\n",
      "Topic_1\n",
      "{'treaty': 0.6872, 'indigenous': 0.3214, 'First': 0.3103, 'First Nations': 0.3018, 'Nations': 0.2941, 'Aboriginal': 0.2928, 'people': 0.2772, 'traditional': 0.261, 'native title': 0.2572, 'Torres': 0.257}\n",
      "\n",
      "Topic_2\n",
      "{'Adani': 2.082, 'Carmichael': 0.5473, 'rail': 0.5191, 'project': 0.5006, 'loan': 0.4986, 'Naif': 0.4432, 'royalty': 0.3797, 'Adani ’s': 0.3427, 'Labor': 0.3379, 'company': 0.295}\n",
      "\n",
      "Topic_3\n",
      "{'child': 1.7003, 'youth': 1.4161, 'watch house': 1.0496, 'watch': 0.9755, 'detention': 0.9177, 'house': 0.8043, 'young': 0.6483, 'police': 0.5962, 'justice': 0.5411, 'crime': 0.4954}\n",
      "\n",
      "Topic_4\n",
      "{'border': 1.0037, 'Covid': 0.9456, 'case': 0.9344, 'quarantine': 0.8485, 'health': 0.8022, 'NSW': 0.704, 'test': 0.6995, 'Covid NUM': 0.6563, 'vaccine': 0.6214, 'coronavirus': 0.5755}\n",
      "\n",
      "Topic_5\n",
      "{'energy': 1.6168, 'renewable': 1.0631, 'power': 1.013, 'coal': 0.6461, 'electricity': 0.5914, 'price': 0.5801, 'renewable energy': 0.5646, 'power station': 0.4837, 'gas': 0.4813, 'emission': 0.4681}\n",
      "\n",
      "Topic_6\n",
      "{'reef': 2.4088, 'Reef': 1.4153, 'Barrier': 1.2752, 'Great Barrier': 1.1894, 'Barrier Reef': 1.1884, 'Great': 1.1507, 'coral': 1.0611, 'water quality': 0.766, 'quality': 0.6543, 'climate': 0.6532}\n",
      "\n",
      "Topic_7\n",
      "{'Adani': 1.1109, 'finch': 0.7514, 'plan': 0.5566, 'approval': 0.475, 'groundwater': 0.4559, 'Adani ’s': 0.4489, 'throate': 0.422, 'black throate': 0.4201, 'throate finch': 0.405, 'management plan': 0.3876}\n",
      "\n",
      "Topic_8\n",
      "{'clearing': 1.754, 'land': 0.9146, 'land clearing': 0.7834, 'deforestation': 0.5329, 'hectare': 0.5166, 'vegetation': 0.4645, 'forest': 0.414, 'NUM NUM': 0.4021, 'law': 0.3938, 'specie': 0.3883}\n",
      "\n",
      "Topic_9\n",
      "{'rent': 1.7385, 'housing': 1.3577, 'rental': 0.7514, 'property': 0.4763, 'tenant': 0.4464, 'tax': 0.4051, 'landlord': 0.3608, 'home': 0.3519, 'cap': 0.3306, 'land tax': 0.3115}\n",
      "\n",
      "Topic_10\n",
      "{'police': 1.2419, 'violence': 0.9212, 'domestic': 0.816, 'domestic violence': 0.7011, 'woman': 0.594, 'officer': 0.4641, 'inquiry': 0.3568, 'victim': 0.3126, 'coercive': 0.3115, 'taskforce': 0.2788}\n",
      "\n",
      "Topic_11\n",
      "{'I': 1.5262, 'saysnum': 0.6251, 'people': 0.5073, '’': 0.4843, 'think': 0.3526, 'just': 0.3417, '’ve': 0.3198, 'I ’m': 0.3175, '’m': 0.3175, 'know': 0.2907}\n",
      "\n",
      "Topic_12\n",
      "{'US': 0.5201, 'Trump': 0.4335, 'australian': 0.3529, 'read': 0.3491, 'story': 0.2982, 'NUM NUM': 0.2931, 'world': 0.2769, 'crossword': 0.265, '\\n \\n': 0.2608, 'write': 0.2591}\n",
      "\n",
      "Topic_13\n",
      "{'water': 1.3895, 'gas': 0.4784, 'dam': 0.3329, 'company': 0.2995, 'river': 0.2975, 'flood': 0.2679, 'Joyce': 0.266, 'environmental': 0.2626, 'project': 0.2603, 'department': 0.2344}\n",
      "\n",
      "Topic_14\n",
      "{'NRL': 0.9161, 'game': 0.4749, 'league': 0.471, 'play': 0.3999, 'club': 0.3865, 'Brisbane': 0.3846, 'host': 0.3777, 'Games': 0.3744, 'team': 0.3652, 'player': 0.3313}\n",
      "\n"
     ]
    }
   ],
   "source": [
    "# Get the topics and their terms\n",
    "nmf_topic_dict = {}\n",
    "for index, topic in enumerate(topic_term_nmf):\n",
    "    zipped = zip(feature_names, topic)\n",
    "    top_terms=dict(sorted(zipped, key = lambda t: t[1], reverse=True)[:10])\n",
    "    #print(top_terms)\n",
    "    top_terms_list= {key : round(top_terms[key], 4) for key in top_terms.keys()}\n",
    "    nmf_topic_dict[f\"Topic_{index}\"] = top_terms_list\n",
    "\n",
    "nmf_topic_terms_df = []\n",
    "# Print the topics with their terms    \n",
    "for k,v in nmf_topic_dict.items():\n",
    "    print(k)\n",
    "    print(v)\n",
    "    print()\n",
    "\n",
    "    for t, w in v.items():\n",
    "        nmf_topic_terms_df.append([k, t, w])\n",
    "\n",
    "nmf_topic_terms_df = pd.DataFrame(nmf_topic_terms_df)\n",
    "nmf_topic_terms_df.rename(columns={nmf_topic_terms_df.columns[0]: \"Topic Cluster\",\n",
    "                                       nmf_topic_terms_df.columns[1]: \"Term\",\n",
    "                                       nmf_topic_terms_df.columns[2]: \"Weight\" }, inplace=True)"
   ]
  },
  {
   "cell_type": "markdown",
   "id": "e7c6484b",
   "metadata": {},
   "source": [
    "### **Topics:**\n",
    "\n",
    "Resources\n",
    "Indigenous \n",
    "Adani\n",
    "Youth Crime\n",
    "COVID\n",
    "Energy\n",
    "Great Barrier Reef\n",
    "Adani Environmental Impact\n",
    "Environment\n",
    "Housing\n",
    "Domestic Violence\n",
    "Other 1\n",
    "Other 2\n",
    "Flooding\n",
    "Sport\n"
   ]
  },
  {
   "cell_type": "code",
   "execution_count": 45,
   "id": "309d13f0",
   "metadata": {},
   "outputs": [
    {
     "data": {
      "application/vnd.plotly.v1+json": {
       "config": {
        "plotlyServerURL": "https://plot.ly"
       },
       "data": [
        {
         "alignmentgroup": "True",
         "hovertemplate": "Topic Cluster=Topic_0<br>Weight=%{x}<br>Term=%{y}<extra></extra>",
         "legendgroup": "",
         "marker": {
          "color": "#636efa",
          "pattern": {
           "shape": ""
          }
         },
         "name": "",
         "offsetgroup": "",
         "orientation": "h",
         "showlegend": false,
         "textposition": "auto",
         "type": "bar",
         "x": [
          1.7919,
          0.9452,
          0.4705,
          0.4603,
          0.4414,
          0.3856,
          0.3722,
          0.3659,
          0.3513,
          0.3089
         ],
         "xaxis": "x11",
         "y": [
          "coal",
          "royalty",
          "mining",
          "tonne",
          "coalmine",
          "price",
          "thermal",
          "company",
          "climate",
          "project"
         ],
         "yaxis": "y11"
        },
        {
         "alignmentgroup": "True",
         "hovertemplate": "Topic Cluster=Topic_1<br>Weight=%{x}<br>Term=%{y}<extra></extra>",
         "legendgroup": "",
         "marker": {
          "color": "#636efa",
          "pattern": {
           "shape": ""
          }
         },
         "name": "",
         "offsetgroup": "",
         "orientation": "h",
         "showlegend": false,
         "textposition": "auto",
         "type": "bar",
         "x": [
          0.6872,
          0.3214,
          0.3103,
          0.3018,
          0.2941,
          0.2928,
          0.2772,
          0.261,
          0.2572,
          0.257
         ],
         "xaxis": "x12",
         "y": [
          "treaty",
          "indigenous",
          "First",
          "First Nations",
          "Nations",
          "Aboriginal",
          "people",
          "traditional",
          "native title",
          "Torres"
         ],
         "yaxis": "y12"
        },
        {
         "alignmentgroup": "True",
         "hovertemplate": "Topic Cluster=Topic_2<br>Weight=%{x}<br>Term=%{y}<extra></extra>",
         "legendgroup": "",
         "marker": {
          "color": "#636efa",
          "pattern": {
           "shape": ""
          }
         },
         "name": "",
         "offsetgroup": "",
         "orientation": "h",
         "showlegend": false,
         "textposition": "auto",
         "type": "bar",
         "x": [
          2.082,
          0.5473,
          0.5191,
          0.5006,
          0.4986,
          0.4432,
          0.3797,
          0.3427,
          0.3379,
          0.295
         ],
         "xaxis": "x13",
         "y": [
          "Adani",
          "Carmichael",
          "rail",
          "project",
          "loan",
          "Naif",
          "royalty",
          "Adani ’s",
          "Labor",
          "company"
         ],
         "yaxis": "y13"
        },
        {
         "alignmentgroup": "True",
         "hovertemplate": "Topic Cluster=Topic_3<br>Weight=%{x}<br>Term=%{y}<extra></extra>",
         "legendgroup": "",
         "marker": {
          "color": "#636efa",
          "pattern": {
           "shape": ""
          }
         },
         "name": "",
         "offsetgroup": "",
         "orientation": "h",
         "showlegend": false,
         "textposition": "auto",
         "type": "bar",
         "x": [
          1.7003,
          1.4161,
          1.0496,
          0.9755,
          0.9177,
          0.8043,
          0.6483,
          0.5962,
          0.5411,
          0.4954
         ],
         "xaxis": "x14",
         "y": [
          "child",
          "youth",
          "watch house",
          "watch",
          "detention",
          "house",
          "young",
          "police",
          "justice",
          "crime"
         ],
         "yaxis": "y14"
        },
        {
         "alignmentgroup": "True",
         "hovertemplate": "Topic Cluster=Topic_4<br>Weight=%{x}<br>Term=%{y}<extra></extra>",
         "legendgroup": "",
         "marker": {
          "color": "#636efa",
          "pattern": {
           "shape": ""
          }
         },
         "name": "",
         "offsetgroup": "",
         "orientation": "h",
         "showlegend": false,
         "textposition": "auto",
         "type": "bar",
         "x": [
          1.0037,
          0.9456,
          0.9344,
          0.8485,
          0.8022,
          0.704,
          0.6995,
          0.6563,
          0.6214,
          0.5755
         ],
         "xaxis": "x15",
         "y": [
          "border",
          "Covid",
          "case",
          "quarantine",
          "health",
          "NSW",
          "test",
          "Covid NUM",
          "vaccine",
          "coronavirus"
         ],
         "yaxis": "y15"
        },
        {
         "alignmentgroup": "True",
         "hovertemplate": "Topic Cluster=Topic_5<br>Weight=%{x}<br>Term=%{y}<extra></extra>",
         "legendgroup": "",
         "marker": {
          "color": "#636efa",
          "pattern": {
           "shape": ""
          }
         },
         "name": "",
         "offsetgroup": "",
         "orientation": "h",
         "showlegend": false,
         "textposition": "auto",
         "type": "bar",
         "x": [
          1.6168,
          1.0631,
          1.013,
          0.6461,
          0.5914,
          0.5801,
          0.5646,
          0.4837,
          0.4813,
          0.4681
         ],
         "xaxis": "x6",
         "y": [
          "energy",
          "renewable",
          "power",
          "coal",
          "electricity",
          "price",
          "renewable energy",
          "power station",
          "gas",
          "emission"
         ],
         "yaxis": "y6"
        },
        {
         "alignmentgroup": "True",
         "hovertemplate": "Topic Cluster=Topic_6<br>Weight=%{x}<br>Term=%{y}<extra></extra>",
         "legendgroup": "",
         "marker": {
          "color": "#636efa",
          "pattern": {
           "shape": ""
          }
         },
         "name": "",
         "offsetgroup": "",
         "orientation": "h",
         "showlegend": false,
         "textposition": "auto",
         "type": "bar",
         "x": [
          2.4088,
          1.4153,
          1.2752,
          1.1894,
          1.1884,
          1.1507,
          1.0611,
          0.766,
          0.6543,
          0.6532
         ],
         "xaxis": "x7",
         "y": [
          "reef",
          "Reef",
          "Barrier",
          "Great Barrier",
          "Barrier Reef",
          "Great",
          "coral",
          "water quality",
          "quality",
          "climate"
         ],
         "yaxis": "y7"
        },
        {
         "alignmentgroup": "True",
         "hovertemplate": "Topic Cluster=Topic_7<br>Weight=%{x}<br>Term=%{y}<extra></extra>",
         "legendgroup": "",
         "marker": {
          "color": "#636efa",
          "pattern": {
           "shape": ""
          }
         },
         "name": "",
         "offsetgroup": "",
         "orientation": "h",
         "showlegend": false,
         "textposition": "auto",
         "type": "bar",
         "x": [
          1.1109,
          0.7514,
          0.5566,
          0.475,
          0.4559,
          0.4489,
          0.422,
          0.4201,
          0.405,
          0.3876
         ],
         "xaxis": "x8",
         "y": [
          "Adani",
          "finch",
          "plan",
          "approval",
          "groundwater",
          "Adani ’s",
          "throate",
          "black throate",
          "throate finch",
          "management plan"
         ],
         "yaxis": "y8"
        },
        {
         "alignmentgroup": "True",
         "hovertemplate": "Topic Cluster=Topic_8<br>Weight=%{x}<br>Term=%{y}<extra></extra>",
         "legendgroup": "",
         "marker": {
          "color": "#636efa",
          "pattern": {
           "shape": ""
          }
         },
         "name": "",
         "offsetgroup": "",
         "orientation": "h",
         "showlegend": false,
         "textposition": "auto",
         "type": "bar",
         "x": [
          1.754,
          0.9146,
          0.7834,
          0.5329,
          0.5166,
          0.4645,
          0.414,
          0.4021,
          0.3938,
          0.3883
         ],
         "xaxis": "x9",
         "y": [
          "clearing",
          "land",
          "land clearing",
          "deforestation",
          "hectare",
          "vegetation",
          "forest",
          "NUM NUM",
          "law",
          "specie"
         ],
         "yaxis": "y9"
        },
        {
         "alignmentgroup": "True",
         "hovertemplate": "Topic Cluster=Topic_9<br>Weight=%{x}<br>Term=%{y}<extra></extra>",
         "legendgroup": "",
         "marker": {
          "color": "#636efa",
          "pattern": {
           "shape": ""
          }
         },
         "name": "",
         "offsetgroup": "",
         "orientation": "h",
         "showlegend": false,
         "textposition": "auto",
         "type": "bar",
         "x": [
          1.7385,
          1.3577,
          0.7514,
          0.4763,
          0.4464,
          0.4051,
          0.3608,
          0.3519,
          0.3306,
          0.3115
         ],
         "xaxis": "x10",
         "y": [
          "rent",
          "housing",
          "rental",
          "property",
          "tenant",
          "tax",
          "landlord",
          "home",
          "cap",
          "land tax"
         ],
         "yaxis": "y10"
        },
        {
         "alignmentgroup": "True",
         "hovertemplate": "Topic Cluster=Topic_10<br>Weight=%{x}<br>Term=%{y}<extra></extra>",
         "legendgroup": "",
         "marker": {
          "color": "#636efa",
          "pattern": {
           "shape": ""
          }
         },
         "name": "",
         "offsetgroup": "",
         "orientation": "h",
         "showlegend": false,
         "textposition": "auto",
         "type": "bar",
         "x": [
          1.2419,
          0.9212,
          0.816,
          0.7011,
          0.594,
          0.4641,
          0.3568,
          0.3126,
          0.3115,
          0.2788
         ],
         "xaxis": "x",
         "y": [
          "police",
          "violence",
          "domestic",
          "domestic violence",
          "woman",
          "officer",
          "inquiry",
          "victim",
          "coercive",
          "taskforce"
         ],
         "yaxis": "y"
        },
        {
         "alignmentgroup": "True",
         "hovertemplate": "Topic Cluster=Topic_11<br>Weight=%{x}<br>Term=%{y}<extra></extra>",
         "legendgroup": "",
         "marker": {
          "color": "#636efa",
          "pattern": {
           "shape": ""
          }
         },
         "name": "",
         "offsetgroup": "",
         "orientation": "h",
         "showlegend": false,
         "textposition": "auto",
         "type": "bar",
         "x": [
          1.5262,
          0.6251,
          0.5073,
          0.4843,
          0.3526,
          0.3417,
          0.3198,
          0.3175,
          0.3175,
          0.2907
         ],
         "xaxis": "x2",
         "y": [
          "I",
          "saysnum",
          "people",
          "’",
          "think",
          "just",
          "’ve",
          "I ’m",
          "’m",
          "know"
         ],
         "yaxis": "y2"
        },
        {
         "alignmentgroup": "True",
         "hovertemplate": "Topic Cluster=Topic_12<br>Weight=%{x}<br>Term=%{y}<extra></extra>",
         "legendgroup": "",
         "marker": {
          "color": "#636efa",
          "pattern": {
           "shape": ""
          }
         },
         "name": "",
         "offsetgroup": "",
         "orientation": "h",
         "showlegend": false,
         "textposition": "auto",
         "type": "bar",
         "x": [
          0.5201,
          0.4335,
          0.3529,
          0.3491,
          0.2982,
          0.2931,
          0.2769,
          0.265,
          0.2608,
          0.2591
         ],
         "xaxis": "x3",
         "y": [
          "US",
          "Trump",
          "australian",
          "read",
          "story",
          "NUM NUM",
          "world",
          "crossword",
          "\n \n",
          "write"
         ],
         "yaxis": "y3"
        },
        {
         "alignmentgroup": "True",
         "hovertemplate": "Topic Cluster=Topic_13<br>Weight=%{x}<br>Term=%{y}<extra></extra>",
         "legendgroup": "",
         "marker": {
          "color": "#636efa",
          "pattern": {
           "shape": ""
          }
         },
         "name": "",
         "offsetgroup": "",
         "orientation": "h",
         "showlegend": false,
         "textposition": "auto",
         "type": "bar",
         "x": [
          1.3895,
          0.4784,
          0.3329,
          0.2995,
          0.2975,
          0.2679,
          0.266,
          0.2626,
          0.2603,
          0.2344
         ],
         "xaxis": "x4",
         "y": [
          "water",
          "gas",
          "dam",
          "company",
          "river",
          "flood",
          "Joyce",
          "environmental",
          "project",
          "department"
         ],
         "yaxis": "y4"
        },
        {
         "alignmentgroup": "True",
         "hovertemplate": "Topic Cluster=Topic_14<br>Weight=%{x}<br>Term=%{y}<extra></extra>",
         "legendgroup": "",
         "marker": {
          "color": "#636efa",
          "pattern": {
           "shape": ""
          }
         },
         "name": "",
         "offsetgroup": "",
         "orientation": "h",
         "showlegend": false,
         "textposition": "auto",
         "type": "bar",
         "x": [
          0.9161,
          0.4749,
          0.471,
          0.3999,
          0.3865,
          0.3846,
          0.3777,
          0.3744,
          0.3652,
          0.3313
         ],
         "xaxis": "x5",
         "y": [
          "NRL",
          "game",
          "league",
          "play",
          "club",
          "Brisbane",
          "host",
          "Games",
          "team",
          "player"
         ],
         "yaxis": "y5"
        }
       ],
       "layout": {
        "annotations": [
         {
          "font": {},
          "showarrow": false,
          "text": "Topic_10",
          "x": 0.09200000000000001,
          "xanchor": "center",
          "xref": "paper",
          "y": 0.2866666666666666,
          "yanchor": "bottom",
          "yref": "paper"
         },
         {
          "font": {},
          "showarrow": false,
          "text": "Topic_11",
          "x": 0.29600000000000004,
          "xanchor": "center",
          "xref": "paper",
          "y": 0.2866666666666666,
          "yanchor": "bottom",
          "yref": "paper"
         },
         {
          "font": {},
          "showarrow": false,
          "text": "Topic_12",
          "x": 0.5,
          "xanchor": "center",
          "xref": "paper",
          "y": 0.2866666666666666,
          "yanchor": "bottom",
          "yref": "paper"
         },
         {
          "font": {},
          "showarrow": false,
          "text": "Topic_13",
          "x": 0.7040000000000002,
          "xanchor": "center",
          "xref": "paper",
          "y": 0.2866666666666666,
          "yanchor": "bottom",
          "yref": "paper"
         },
         {
          "font": {},
          "showarrow": false,
          "text": "Topic_14",
          "x": 0.908,
          "xanchor": "center",
          "xref": "paper",
          "y": 0.2866666666666666,
          "yanchor": "bottom",
          "yref": "paper"
         },
         {
          "font": {},
          "showarrow": false,
          "text": "Topic_5",
          "x": 0.09200000000000001,
          "xanchor": "center",
          "xref": "paper",
          "y": 0.6433333333333333,
          "yanchor": "bottom",
          "yref": "paper"
         },
         {
          "font": {},
          "showarrow": false,
          "text": "Topic_6",
          "x": 0.29600000000000004,
          "xanchor": "center",
          "xref": "paper",
          "y": 0.6433333333333333,
          "yanchor": "bottom",
          "yref": "paper"
         },
         {
          "font": {},
          "showarrow": false,
          "text": "Topic_7",
          "x": 0.5,
          "xanchor": "center",
          "xref": "paper",
          "y": 0.6433333333333333,
          "yanchor": "bottom",
          "yref": "paper"
         },
         {
          "font": {},
          "showarrow": false,
          "text": "Topic_8",
          "x": 0.7040000000000002,
          "xanchor": "center",
          "xref": "paper",
          "y": 0.6433333333333333,
          "yanchor": "bottom",
          "yref": "paper"
         },
         {
          "font": {},
          "showarrow": false,
          "text": "Topic_9",
          "x": 0.908,
          "xanchor": "center",
          "xref": "paper",
          "y": 0.6433333333333333,
          "yanchor": "bottom",
          "yref": "paper"
         },
         {
          "font": {},
          "showarrow": false,
          "text": "Topic_0",
          "x": 0.09200000000000001,
          "xanchor": "center",
          "xref": "paper",
          "y": 0.9999999999999999,
          "yanchor": "bottom",
          "yref": "paper"
         },
         {
          "font": {},
          "showarrow": false,
          "text": "Topic_1",
          "x": 0.29600000000000004,
          "xanchor": "center",
          "xref": "paper",
          "y": 0.9999999999999999,
          "yanchor": "bottom",
          "yref": "paper"
         },
         {
          "font": {},
          "showarrow": false,
          "text": "Topic_2",
          "x": 0.5,
          "xanchor": "center",
          "xref": "paper",
          "y": 0.9999999999999999,
          "yanchor": "bottom",
          "yref": "paper"
         },
         {
          "font": {},
          "showarrow": false,
          "text": "Topic_3",
          "x": 0.7040000000000002,
          "xanchor": "center",
          "xref": "paper",
          "y": 0.9999999999999999,
          "yanchor": "bottom",
          "yref": "paper"
         },
         {
          "font": {},
          "showarrow": false,
          "text": "Topic_4",
          "x": 0.908,
          "xanchor": "center",
          "xref": "paper",
          "y": 0.9999999999999999,
          "yanchor": "bottom",
          "yref": "paper"
         }
        ],
        "barmode": "relative",
        "height": 1000,
        "legend": {
         "title": {
          "font": {
           "size": 15
          }
         },
         "tracegroupgap": 0
        },
        "template": {
         "data": {
          "bar": [
           {
            "error_x": {
             "color": "#2a3f5f"
            },
            "error_y": {
             "color": "#2a3f5f"
            },
            "marker": {
             "line": {
              "color": "#E5ECF6",
              "width": 0.5
             },
             "pattern": {
              "fillmode": "overlay",
              "size": 10,
              "solidity": 0.2
             }
            },
            "type": "bar"
           }
          ],
          "barpolar": [
           {
            "marker": {
             "line": {
              "color": "#E5ECF6",
              "width": 0.5
             },
             "pattern": {
              "fillmode": "overlay",
              "size": 10,
              "solidity": 0.2
             }
            },
            "type": "barpolar"
           }
          ],
          "carpet": [
           {
            "aaxis": {
             "endlinecolor": "#2a3f5f",
             "gridcolor": "white",
             "linecolor": "white",
             "minorgridcolor": "white",
             "startlinecolor": "#2a3f5f"
            },
            "baxis": {
             "endlinecolor": "#2a3f5f",
             "gridcolor": "white",
             "linecolor": "white",
             "minorgridcolor": "white",
             "startlinecolor": "#2a3f5f"
            },
            "type": "carpet"
           }
          ],
          "choropleth": [
           {
            "colorbar": {
             "outlinewidth": 0,
             "ticks": ""
            },
            "type": "choropleth"
           }
          ],
          "contour": [
           {
            "colorbar": {
             "outlinewidth": 0,
             "ticks": ""
            },
            "colorscale": [
             [
              0,
              "#0d0887"
             ],
             [
              0.1111111111111111,
              "#46039f"
             ],
             [
              0.2222222222222222,
              "#7201a8"
             ],
             [
              0.3333333333333333,
              "#9c179e"
             ],
             [
              0.4444444444444444,
              "#bd3786"
             ],
             [
              0.5555555555555556,
              "#d8576b"
             ],
             [
              0.6666666666666666,
              "#ed7953"
             ],
             [
              0.7777777777777778,
              "#fb9f3a"
             ],
             [
              0.8888888888888888,
              "#fdca26"
             ],
             [
              1,
              "#f0f921"
             ]
            ],
            "type": "contour"
           }
          ],
          "contourcarpet": [
           {
            "colorbar": {
             "outlinewidth": 0,
             "ticks": ""
            },
            "type": "contourcarpet"
           }
          ],
          "heatmap": [
           {
            "colorbar": {
             "outlinewidth": 0,
             "ticks": ""
            },
            "colorscale": [
             [
              0,
              "#0d0887"
             ],
             [
              0.1111111111111111,
              "#46039f"
             ],
             [
              0.2222222222222222,
              "#7201a8"
             ],
             [
              0.3333333333333333,
              "#9c179e"
             ],
             [
              0.4444444444444444,
              "#bd3786"
             ],
             [
              0.5555555555555556,
              "#d8576b"
             ],
             [
              0.6666666666666666,
              "#ed7953"
             ],
             [
              0.7777777777777778,
              "#fb9f3a"
             ],
             [
              0.8888888888888888,
              "#fdca26"
             ],
             [
              1,
              "#f0f921"
             ]
            ],
            "type": "heatmap"
           }
          ],
          "heatmapgl": [
           {
            "colorbar": {
             "outlinewidth": 0,
             "ticks": ""
            },
            "colorscale": [
             [
              0,
              "#0d0887"
             ],
             [
              0.1111111111111111,
              "#46039f"
             ],
             [
              0.2222222222222222,
              "#7201a8"
             ],
             [
              0.3333333333333333,
              "#9c179e"
             ],
             [
              0.4444444444444444,
              "#bd3786"
             ],
             [
              0.5555555555555556,
              "#d8576b"
             ],
             [
              0.6666666666666666,
              "#ed7953"
             ],
             [
              0.7777777777777778,
              "#fb9f3a"
             ],
             [
              0.8888888888888888,
              "#fdca26"
             ],
             [
              1,
              "#f0f921"
             ]
            ],
            "type": "heatmapgl"
           }
          ],
          "histogram": [
           {
            "marker": {
             "pattern": {
              "fillmode": "overlay",
              "size": 10,
              "solidity": 0.2
             }
            },
            "type": "histogram"
           }
          ],
          "histogram2d": [
           {
            "colorbar": {
             "outlinewidth": 0,
             "ticks": ""
            },
            "colorscale": [
             [
              0,
              "#0d0887"
             ],
             [
              0.1111111111111111,
              "#46039f"
             ],
             [
              0.2222222222222222,
              "#7201a8"
             ],
             [
              0.3333333333333333,
              "#9c179e"
             ],
             [
              0.4444444444444444,
              "#bd3786"
             ],
             [
              0.5555555555555556,
              "#d8576b"
             ],
             [
              0.6666666666666666,
              "#ed7953"
             ],
             [
              0.7777777777777778,
              "#fb9f3a"
             ],
             [
              0.8888888888888888,
              "#fdca26"
             ],
             [
              1,
              "#f0f921"
             ]
            ],
            "type": "histogram2d"
           }
          ],
          "histogram2dcontour": [
           {
            "colorbar": {
             "outlinewidth": 0,
             "ticks": ""
            },
            "colorscale": [
             [
              0,
              "#0d0887"
             ],
             [
              0.1111111111111111,
              "#46039f"
             ],
             [
              0.2222222222222222,
              "#7201a8"
             ],
             [
              0.3333333333333333,
              "#9c179e"
             ],
             [
              0.4444444444444444,
              "#bd3786"
             ],
             [
              0.5555555555555556,
              "#d8576b"
             ],
             [
              0.6666666666666666,
              "#ed7953"
             ],
             [
              0.7777777777777778,
              "#fb9f3a"
             ],
             [
              0.8888888888888888,
              "#fdca26"
             ],
             [
              1,
              "#f0f921"
             ]
            ],
            "type": "histogram2dcontour"
           }
          ],
          "mesh3d": [
           {
            "colorbar": {
             "outlinewidth": 0,
             "ticks": ""
            },
            "type": "mesh3d"
           }
          ],
          "parcoords": [
           {
            "line": {
             "colorbar": {
              "outlinewidth": 0,
              "ticks": ""
             }
            },
            "type": "parcoords"
           }
          ],
          "pie": [
           {
            "automargin": true,
            "type": "pie"
           }
          ],
          "scatter": [
           {
            "fillpattern": {
             "fillmode": "overlay",
             "size": 10,
             "solidity": 0.2
            },
            "type": "scatter"
           }
          ],
          "scatter3d": [
           {
            "line": {
             "colorbar": {
              "outlinewidth": 0,
              "ticks": ""
             }
            },
            "marker": {
             "colorbar": {
              "outlinewidth": 0,
              "ticks": ""
             }
            },
            "type": "scatter3d"
           }
          ],
          "scattercarpet": [
           {
            "marker": {
             "colorbar": {
              "outlinewidth": 0,
              "ticks": ""
             }
            },
            "type": "scattercarpet"
           }
          ],
          "scattergeo": [
           {
            "marker": {
             "colorbar": {
              "outlinewidth": 0,
              "ticks": ""
             }
            },
            "type": "scattergeo"
           }
          ],
          "scattergl": [
           {
            "marker": {
             "colorbar": {
              "outlinewidth": 0,
              "ticks": ""
             }
            },
            "type": "scattergl"
           }
          ],
          "scattermapbox": [
           {
            "marker": {
             "colorbar": {
              "outlinewidth": 0,
              "ticks": ""
             }
            },
            "type": "scattermapbox"
           }
          ],
          "scatterpolar": [
           {
            "marker": {
             "colorbar": {
              "outlinewidth": 0,
              "ticks": ""
             }
            },
            "type": "scatterpolar"
           }
          ],
          "scatterpolargl": [
           {
            "marker": {
             "colorbar": {
              "outlinewidth": 0,
              "ticks": ""
             }
            },
            "type": "scatterpolargl"
           }
          ],
          "scatterternary": [
           {
            "marker": {
             "colorbar": {
              "outlinewidth": 0,
              "ticks": ""
             }
            },
            "type": "scatterternary"
           }
          ],
          "surface": [
           {
            "colorbar": {
             "outlinewidth": 0,
             "ticks": ""
            },
            "colorscale": [
             [
              0,
              "#0d0887"
             ],
             [
              0.1111111111111111,
              "#46039f"
             ],
             [
              0.2222222222222222,
              "#7201a8"
             ],
             [
              0.3333333333333333,
              "#9c179e"
             ],
             [
              0.4444444444444444,
              "#bd3786"
             ],
             [
              0.5555555555555556,
              "#d8576b"
             ],
             [
              0.6666666666666666,
              "#ed7953"
             ],
             [
              0.7777777777777778,
              "#fb9f3a"
             ],
             [
              0.8888888888888888,
              "#fdca26"
             ],
             [
              1,
              "#f0f921"
             ]
            ],
            "type": "surface"
           }
          ],
          "table": [
           {
            "cells": {
             "fill": {
              "color": "#EBF0F8"
             },
             "line": {
              "color": "white"
             }
            },
            "header": {
             "fill": {
              "color": "#C8D4E3"
             },
             "line": {
              "color": "white"
             }
            },
            "type": "table"
           }
          ]
         },
         "layout": {
          "annotationdefaults": {
           "arrowcolor": "#2a3f5f",
           "arrowhead": 0,
           "arrowwidth": 1
          },
          "autotypenumbers": "strict",
          "coloraxis": {
           "colorbar": {
            "outlinewidth": 0,
            "ticks": ""
           }
          },
          "colorscale": {
           "diverging": [
            [
             0,
             "#8e0152"
            ],
            [
             0.1,
             "#c51b7d"
            ],
            [
             0.2,
             "#de77ae"
            ],
            [
             0.3,
             "#f1b6da"
            ],
            [
             0.4,
             "#fde0ef"
            ],
            [
             0.5,
             "#f7f7f7"
            ],
            [
             0.6,
             "#e6f5d0"
            ],
            [
             0.7,
             "#b8e186"
            ],
            [
             0.8,
             "#7fbc41"
            ],
            [
             0.9,
             "#4d9221"
            ],
            [
             1,
             "#276419"
            ]
           ],
           "sequential": [
            [
             0,
             "#0d0887"
            ],
            [
             0.1111111111111111,
             "#46039f"
            ],
            [
             0.2222222222222222,
             "#7201a8"
            ],
            [
             0.3333333333333333,
             "#9c179e"
            ],
            [
             0.4444444444444444,
             "#bd3786"
            ],
            [
             0.5555555555555556,
             "#d8576b"
            ],
            [
             0.6666666666666666,
             "#ed7953"
            ],
            [
             0.7777777777777778,
             "#fb9f3a"
            ],
            [
             0.8888888888888888,
             "#fdca26"
            ],
            [
             1,
             "#f0f921"
            ]
           ],
           "sequentialminus": [
            [
             0,
             "#0d0887"
            ],
            [
             0.1111111111111111,
             "#46039f"
            ],
            [
             0.2222222222222222,
             "#7201a8"
            ],
            [
             0.3333333333333333,
             "#9c179e"
            ],
            [
             0.4444444444444444,
             "#bd3786"
            ],
            [
             0.5555555555555556,
             "#d8576b"
            ],
            [
             0.6666666666666666,
             "#ed7953"
            ],
            [
             0.7777777777777778,
             "#fb9f3a"
            ],
            [
             0.8888888888888888,
             "#fdca26"
            ],
            [
             1,
             "#f0f921"
            ]
           ]
          },
          "colorway": [
           "#636efa",
           "#EF553B",
           "#00cc96",
           "#ab63fa",
           "#FFA15A",
           "#19d3f3",
           "#FF6692",
           "#B6E880",
           "#FF97FF",
           "#FECB52"
          ],
          "font": {
           "color": "#2a3f5f"
          },
          "geo": {
           "bgcolor": "white",
           "lakecolor": "white",
           "landcolor": "#E5ECF6",
           "showlakes": true,
           "showland": true,
           "subunitcolor": "white"
          },
          "hoverlabel": {
           "align": "left"
          },
          "hovermode": "closest",
          "mapbox": {
           "style": "light"
          },
          "paper_bgcolor": "white",
          "plot_bgcolor": "#E5ECF6",
          "polar": {
           "angularaxis": {
            "gridcolor": "white",
            "linecolor": "white",
            "ticks": ""
           },
           "bgcolor": "#E5ECF6",
           "radialaxis": {
            "gridcolor": "white",
            "linecolor": "white",
            "ticks": ""
           }
          },
          "scene": {
           "xaxis": {
            "backgroundcolor": "#E5ECF6",
            "gridcolor": "white",
            "gridwidth": 2,
            "linecolor": "white",
            "showbackground": true,
            "ticks": "",
            "zerolinecolor": "white"
           },
           "yaxis": {
            "backgroundcolor": "#E5ECF6",
            "gridcolor": "white",
            "gridwidth": 2,
            "linecolor": "white",
            "showbackground": true,
            "ticks": "",
            "zerolinecolor": "white"
           },
           "zaxis": {
            "backgroundcolor": "#E5ECF6",
            "gridcolor": "white",
            "gridwidth": 2,
            "linecolor": "white",
            "showbackground": true,
            "ticks": "",
            "zerolinecolor": "white"
           }
          },
          "shapedefaults": {
           "line": {
            "color": "#2a3f5f"
           }
          },
          "ternary": {
           "aaxis": {
            "gridcolor": "white",
            "linecolor": "white",
            "ticks": ""
           },
           "baxis": {
            "gridcolor": "white",
            "linecolor": "white",
            "ticks": ""
           },
           "bgcolor": "#E5ECF6",
           "caxis": {
            "gridcolor": "white",
            "linecolor": "white",
            "ticks": ""
           }
          },
          "title": {
           "x": 0.05
          },
          "xaxis": {
           "automargin": true,
           "gridcolor": "white",
           "linecolor": "white",
           "ticks": "",
           "title": {
            "standoff": 15
           },
           "zerolinecolor": "white",
           "zerolinewidth": 2
          },
          "yaxis": {
           "automargin": true,
           "gridcolor": "white",
           "linecolor": "white",
           "ticks": "",
           "title": {
            "standoff": 15
           },
           "zerolinecolor": "white",
           "zerolinewidth": 2
          }
         }
        },
        "title": {
         "font": {
          "size": 25
         },
         "text": "Total Contractual Commitment ($ GST excl.) by Local Government Area",
         "x": 0.5
        },
        "xaxis": {
         "anchor": "y",
         "domain": [
          0,
          0.18400000000000002
         ],
         "title": {
          "text": "Weight"
         }
        },
        "xaxis10": {
         "anchor": "y10",
         "domain": [
          0.8160000000000001,
          1
         ],
         "matches": "x",
         "showticklabels": false
        },
        "xaxis11": {
         "anchor": "y11",
         "domain": [
          0,
          0.18400000000000002
         ],
         "matches": "x",
         "showticklabels": false
        },
        "xaxis12": {
         "anchor": "y12",
         "domain": [
          0.20400000000000001,
          0.388
         ],
         "matches": "x",
         "showticklabels": false
        },
        "xaxis13": {
         "anchor": "y13",
         "domain": [
          0.40800000000000003,
          0.5920000000000001
         ],
         "matches": "x",
         "showticklabels": false
        },
        "xaxis14": {
         "anchor": "y14",
         "domain": [
          0.6120000000000001,
          0.7960000000000002
         ],
         "matches": "x",
         "showticklabels": false
        },
        "xaxis15": {
         "anchor": "y15",
         "domain": [
          0.8160000000000001,
          1
         ],
         "matches": "x",
         "showticklabels": false
        },
        "xaxis2": {
         "anchor": "y2",
         "domain": [
          0.20400000000000001,
          0.388
         ],
         "matches": "x",
         "title": {
          "text": "Weight"
         }
        },
        "xaxis3": {
         "anchor": "y3",
         "domain": [
          0.40800000000000003,
          0.5920000000000001
         ],
         "matches": "x",
         "title": {
          "text": "Weight"
         }
        },
        "xaxis4": {
         "anchor": "y4",
         "domain": [
          0.6120000000000001,
          0.7960000000000002
         ],
         "matches": "x",
         "title": {
          "text": "Weight"
         }
        },
        "xaxis5": {
         "anchor": "y5",
         "domain": [
          0.8160000000000001,
          1
         ],
         "matches": "x",
         "title": {
          "text": "Weight"
         }
        },
        "xaxis6": {
         "anchor": "y6",
         "domain": [
          0,
          0.18400000000000002
         ],
         "matches": "x",
         "showticklabels": false
        },
        "xaxis7": {
         "anchor": "y7",
         "domain": [
          0.20400000000000001,
          0.388
         ],
         "matches": "x",
         "showticklabels": false
        },
        "xaxis8": {
         "anchor": "y8",
         "domain": [
          0.40800000000000003,
          0.5920000000000001
         ],
         "matches": "x",
         "showticklabels": false
        },
        "xaxis9": {
         "anchor": "y9",
         "domain": [
          0.6120000000000001,
          0.7960000000000002
         ],
         "matches": "x",
         "showticklabels": false
        },
        "yaxis": {
         "anchor": "x",
         "domain": [
          0,
          0.2866666666666666
         ],
         "showticklabels": true,
         "title": {
          "text": "Term"
         }
        },
        "yaxis10": {
         "anchor": "x10",
         "domain": [
          0.35666666666666663,
          0.6433333333333333
         ],
         "showticklabels": true
        },
        "yaxis11": {
         "anchor": "x11",
         "domain": [
          0.7133333333333333,
          0.9999999999999999
         ],
         "showticklabels": true,
         "title": {
          "text": "Term"
         }
        },
        "yaxis12": {
         "anchor": "x12",
         "domain": [
          0.7133333333333333,
          0.9999999999999999
         ],
         "showticklabels": true
        },
        "yaxis13": {
         "anchor": "x13",
         "domain": [
          0.7133333333333333,
          0.9999999999999999
         ],
         "showticklabels": true
        },
        "yaxis14": {
         "anchor": "x14",
         "domain": [
          0.7133333333333333,
          0.9999999999999999
         ],
         "showticklabels": true
        },
        "yaxis15": {
         "anchor": "x15",
         "domain": [
          0.7133333333333333,
          0.9999999999999999
         ],
         "showticklabels": true
        },
        "yaxis2": {
         "anchor": "x2",
         "domain": [
          0,
          0.2866666666666666
         ],
         "showticklabels": true
        },
        "yaxis3": {
         "anchor": "x3",
         "domain": [
          0,
          0.2866666666666666
         ],
         "showticklabels": true
        },
        "yaxis4": {
         "anchor": "x4",
         "domain": [
          0,
          0.2866666666666666
         ],
         "showticklabels": true
        },
        "yaxis5": {
         "anchor": "x5",
         "domain": [
          0,
          0.2866666666666666
         ],
         "showticklabels": true
        },
        "yaxis6": {
         "anchor": "x6",
         "domain": [
          0.35666666666666663,
          0.6433333333333333
         ],
         "showticklabels": true,
         "title": {
          "text": "Term"
         }
        },
        "yaxis7": {
         "anchor": "x7",
         "domain": [
          0.35666666666666663,
          0.6433333333333333
         ],
         "showticklabels": true
        },
        "yaxis8": {
         "anchor": "x8",
         "domain": [
          0.35666666666666663,
          0.6433333333333333
         ],
         "showticklabels": true
        },
        "yaxis9": {
         "anchor": "x9",
         "domain": [
          0.35666666666666663,
          0.6433333333333333
         ],
         "showticklabels": true
        }
       }
      }
     },
     "metadata": {},
     "output_type": "display_data"
    }
   ],
   "source": [
    "# Your answer here\n",
    "\n",
    "nmf_topic_terms_fig = px.bar(nmf_topic_terms_df,\n",
    "       x =\"Weight\",\n",
    "       y = \"Term\",\n",
    "       facet_col=\"Topic Cluster\", \n",
    "       facet_col_wrap=5,\n",
    "       orientation='h',\n",
    "       title = \"Total Contractual Commitment ($ GST excl.) by Local Government Area\",\n",
    "       labels = {\"Local Government Area (LGA)\": \"Local Government Area\", \n",
    "                 \"Total Contractual Commitment ($ GST excl.)\": \"Contractual Commitment ($ GST excl.)\"})\n",
    "\n",
    "nmf_topic_terms_fig.update_layout(\n",
    "    title_font_size=25,\n",
    "    title_x=0.5,\n",
    "    legend_title_font_size=15,\n",
    "    height=1000\n",
    ")\n",
    "nmf_topic_terms_fig.for_each_annotation(lambda a: a.update(text=a.text.split(\"=\")[-1])) # https://plotly.com/python/facet-plots/\n",
    "nmf_topic_terms_fig.update_yaxes(showticklabels=True, matches=None)"
   ]
  },
  {
   "cell_type": "code",
   "execution_count": 99,
   "id": "1309ddd2",
   "metadata": {},
   "outputs": [
    {
     "data": {
      "application/vnd.plotly.v1+json": {
       "config": {
        "plotlyServerURL": "https://plot.ly"
       },
       "data": [
        {
         "alignmentgroup": "True",
         "hovertemplate": "Topic=%{x}<br>Total NMF Topic Weight Across all Articles(Should normalise this really)=%{y}<extra></extra>",
         "legendgroup": "",
         "marker": {
          "color": "#636efa",
          "pattern": {
           "shape": ""
          }
         },
         "name": "",
         "offsetgroup": "",
         "orientation": "v",
         "showlegend": false,
         "textposition": "auto",
         "type": "bar",
         "x": [
          "nmf0",
          "nmf1",
          "nmf2",
          "nmf3",
          "nmf4",
          "nmf5",
          "nmf6",
          "nmf7",
          "nmf8",
          "nmf9",
          "nmf10",
          "nmf11",
          "nmf12",
          "nmf13",
          "nmf14"
         ],
         "xaxis": "x",
         "y": [
          10.447086548446757,
          15.669274805714597,
          13.788805197567926,
          10.529782188602585,
          11.57493316687161,
          12.738550987352241,
          6.401919928506924,
          11.631789448378935,
          9.69054664083303,
          7.485206228479635,
          14.049096363717785,
          19.000174502085393,
          14.562613308446728,
          15.594787898572767,
          9.616112692625006
         ],
         "yaxis": "y"
        }
       ],
       "layout": {
        "barmode": "relative",
        "legend": {
         "tracegroupgap": 0
        },
        "margin": {
         "t": 60
        },
        "template": {
         "data": {
          "bar": [
           {
            "error_x": {
             "color": "#2a3f5f"
            },
            "error_y": {
             "color": "#2a3f5f"
            },
            "marker": {
             "line": {
              "color": "#E5ECF6",
              "width": 0.5
             },
             "pattern": {
              "fillmode": "overlay",
              "size": 10,
              "solidity": 0.2
             }
            },
            "type": "bar"
           }
          ],
          "barpolar": [
           {
            "marker": {
             "line": {
              "color": "#E5ECF6",
              "width": 0.5
             },
             "pattern": {
              "fillmode": "overlay",
              "size": 10,
              "solidity": 0.2
             }
            },
            "type": "barpolar"
           }
          ],
          "carpet": [
           {
            "aaxis": {
             "endlinecolor": "#2a3f5f",
             "gridcolor": "white",
             "linecolor": "white",
             "minorgridcolor": "white",
             "startlinecolor": "#2a3f5f"
            },
            "baxis": {
             "endlinecolor": "#2a3f5f",
             "gridcolor": "white",
             "linecolor": "white",
             "minorgridcolor": "white",
             "startlinecolor": "#2a3f5f"
            },
            "type": "carpet"
           }
          ],
          "choropleth": [
           {
            "colorbar": {
             "outlinewidth": 0,
             "ticks": ""
            },
            "type": "choropleth"
           }
          ],
          "contour": [
           {
            "colorbar": {
             "outlinewidth": 0,
             "ticks": ""
            },
            "colorscale": [
             [
              0,
              "#0d0887"
             ],
             [
              0.1111111111111111,
              "#46039f"
             ],
             [
              0.2222222222222222,
              "#7201a8"
             ],
             [
              0.3333333333333333,
              "#9c179e"
             ],
             [
              0.4444444444444444,
              "#bd3786"
             ],
             [
              0.5555555555555556,
              "#d8576b"
             ],
             [
              0.6666666666666666,
              "#ed7953"
             ],
             [
              0.7777777777777778,
              "#fb9f3a"
             ],
             [
              0.8888888888888888,
              "#fdca26"
             ],
             [
              1,
              "#f0f921"
             ]
            ],
            "type": "contour"
           }
          ],
          "contourcarpet": [
           {
            "colorbar": {
             "outlinewidth": 0,
             "ticks": ""
            },
            "type": "contourcarpet"
           }
          ],
          "heatmap": [
           {
            "colorbar": {
             "outlinewidth": 0,
             "ticks": ""
            },
            "colorscale": [
             [
              0,
              "#0d0887"
             ],
             [
              0.1111111111111111,
              "#46039f"
             ],
             [
              0.2222222222222222,
              "#7201a8"
             ],
             [
              0.3333333333333333,
              "#9c179e"
             ],
             [
              0.4444444444444444,
              "#bd3786"
             ],
             [
              0.5555555555555556,
              "#d8576b"
             ],
             [
              0.6666666666666666,
              "#ed7953"
             ],
             [
              0.7777777777777778,
              "#fb9f3a"
             ],
             [
              0.8888888888888888,
              "#fdca26"
             ],
             [
              1,
              "#f0f921"
             ]
            ],
            "type": "heatmap"
           }
          ],
          "heatmapgl": [
           {
            "colorbar": {
             "outlinewidth": 0,
             "ticks": ""
            },
            "colorscale": [
             [
              0,
              "#0d0887"
             ],
             [
              0.1111111111111111,
              "#46039f"
             ],
             [
              0.2222222222222222,
              "#7201a8"
             ],
             [
              0.3333333333333333,
              "#9c179e"
             ],
             [
              0.4444444444444444,
              "#bd3786"
             ],
             [
              0.5555555555555556,
              "#d8576b"
             ],
             [
              0.6666666666666666,
              "#ed7953"
             ],
             [
              0.7777777777777778,
              "#fb9f3a"
             ],
             [
              0.8888888888888888,
              "#fdca26"
             ],
             [
              1,
              "#f0f921"
             ]
            ],
            "type": "heatmapgl"
           }
          ],
          "histogram": [
           {
            "marker": {
             "pattern": {
              "fillmode": "overlay",
              "size": 10,
              "solidity": 0.2
             }
            },
            "type": "histogram"
           }
          ],
          "histogram2d": [
           {
            "colorbar": {
             "outlinewidth": 0,
             "ticks": ""
            },
            "colorscale": [
             [
              0,
              "#0d0887"
             ],
             [
              0.1111111111111111,
              "#46039f"
             ],
             [
              0.2222222222222222,
              "#7201a8"
             ],
             [
              0.3333333333333333,
              "#9c179e"
             ],
             [
              0.4444444444444444,
              "#bd3786"
             ],
             [
              0.5555555555555556,
              "#d8576b"
             ],
             [
              0.6666666666666666,
              "#ed7953"
             ],
             [
              0.7777777777777778,
              "#fb9f3a"
             ],
             [
              0.8888888888888888,
              "#fdca26"
             ],
             [
              1,
              "#f0f921"
             ]
            ],
            "type": "histogram2d"
           }
          ],
          "histogram2dcontour": [
           {
            "colorbar": {
             "outlinewidth": 0,
             "ticks": ""
            },
            "colorscale": [
             [
              0,
              "#0d0887"
             ],
             [
              0.1111111111111111,
              "#46039f"
             ],
             [
              0.2222222222222222,
              "#7201a8"
             ],
             [
              0.3333333333333333,
              "#9c179e"
             ],
             [
              0.4444444444444444,
              "#bd3786"
             ],
             [
              0.5555555555555556,
              "#d8576b"
             ],
             [
              0.6666666666666666,
              "#ed7953"
             ],
             [
              0.7777777777777778,
              "#fb9f3a"
             ],
             [
              0.8888888888888888,
              "#fdca26"
             ],
             [
              1,
              "#f0f921"
             ]
            ],
            "type": "histogram2dcontour"
           }
          ],
          "mesh3d": [
           {
            "colorbar": {
             "outlinewidth": 0,
             "ticks": ""
            },
            "type": "mesh3d"
           }
          ],
          "parcoords": [
           {
            "line": {
             "colorbar": {
              "outlinewidth": 0,
              "ticks": ""
             }
            },
            "type": "parcoords"
           }
          ],
          "pie": [
           {
            "automargin": true,
            "type": "pie"
           }
          ],
          "scatter": [
           {
            "fillpattern": {
             "fillmode": "overlay",
             "size": 10,
             "solidity": 0.2
            },
            "type": "scatter"
           }
          ],
          "scatter3d": [
           {
            "line": {
             "colorbar": {
              "outlinewidth": 0,
              "ticks": ""
             }
            },
            "marker": {
             "colorbar": {
              "outlinewidth": 0,
              "ticks": ""
             }
            },
            "type": "scatter3d"
           }
          ],
          "scattercarpet": [
           {
            "marker": {
             "colorbar": {
              "outlinewidth": 0,
              "ticks": ""
             }
            },
            "type": "scattercarpet"
           }
          ],
          "scattergeo": [
           {
            "marker": {
             "colorbar": {
              "outlinewidth": 0,
              "ticks": ""
             }
            },
            "type": "scattergeo"
           }
          ],
          "scattergl": [
           {
            "marker": {
             "colorbar": {
              "outlinewidth": 0,
              "ticks": ""
             }
            },
            "type": "scattergl"
           }
          ],
          "scattermapbox": [
           {
            "marker": {
             "colorbar": {
              "outlinewidth": 0,
              "ticks": ""
             }
            },
            "type": "scattermapbox"
           }
          ],
          "scatterpolar": [
           {
            "marker": {
             "colorbar": {
              "outlinewidth": 0,
              "ticks": ""
             }
            },
            "type": "scatterpolar"
           }
          ],
          "scatterpolargl": [
           {
            "marker": {
             "colorbar": {
              "outlinewidth": 0,
              "ticks": ""
             }
            },
            "type": "scatterpolargl"
           }
          ],
          "scatterternary": [
           {
            "marker": {
             "colorbar": {
              "outlinewidth": 0,
              "ticks": ""
             }
            },
            "type": "scatterternary"
           }
          ],
          "surface": [
           {
            "colorbar": {
             "outlinewidth": 0,
             "ticks": ""
            },
            "colorscale": [
             [
              0,
              "#0d0887"
             ],
             [
              0.1111111111111111,
              "#46039f"
             ],
             [
              0.2222222222222222,
              "#7201a8"
             ],
             [
              0.3333333333333333,
              "#9c179e"
             ],
             [
              0.4444444444444444,
              "#bd3786"
             ],
             [
              0.5555555555555556,
              "#d8576b"
             ],
             [
              0.6666666666666666,
              "#ed7953"
             ],
             [
              0.7777777777777778,
              "#fb9f3a"
             ],
             [
              0.8888888888888888,
              "#fdca26"
             ],
             [
              1,
              "#f0f921"
             ]
            ],
            "type": "surface"
           }
          ],
          "table": [
           {
            "cells": {
             "fill": {
              "color": "#EBF0F8"
             },
             "line": {
              "color": "white"
             }
            },
            "header": {
             "fill": {
              "color": "#C8D4E3"
             },
             "line": {
              "color": "white"
             }
            },
            "type": "table"
           }
          ]
         },
         "layout": {
          "annotationdefaults": {
           "arrowcolor": "#2a3f5f",
           "arrowhead": 0,
           "arrowwidth": 1
          },
          "autotypenumbers": "strict",
          "coloraxis": {
           "colorbar": {
            "outlinewidth": 0,
            "ticks": ""
           }
          },
          "colorscale": {
           "diverging": [
            [
             0,
             "#8e0152"
            ],
            [
             0.1,
             "#c51b7d"
            ],
            [
             0.2,
             "#de77ae"
            ],
            [
             0.3,
             "#f1b6da"
            ],
            [
             0.4,
             "#fde0ef"
            ],
            [
             0.5,
             "#f7f7f7"
            ],
            [
             0.6,
             "#e6f5d0"
            ],
            [
             0.7,
             "#b8e186"
            ],
            [
             0.8,
             "#7fbc41"
            ],
            [
             0.9,
             "#4d9221"
            ],
            [
             1,
             "#276419"
            ]
           ],
           "sequential": [
            [
             0,
             "#0d0887"
            ],
            [
             0.1111111111111111,
             "#46039f"
            ],
            [
             0.2222222222222222,
             "#7201a8"
            ],
            [
             0.3333333333333333,
             "#9c179e"
            ],
            [
             0.4444444444444444,
             "#bd3786"
            ],
            [
             0.5555555555555556,
             "#d8576b"
            ],
            [
             0.6666666666666666,
             "#ed7953"
            ],
            [
             0.7777777777777778,
             "#fb9f3a"
            ],
            [
             0.8888888888888888,
             "#fdca26"
            ],
            [
             1,
             "#f0f921"
            ]
           ],
           "sequentialminus": [
            [
             0,
             "#0d0887"
            ],
            [
             0.1111111111111111,
             "#46039f"
            ],
            [
             0.2222222222222222,
             "#7201a8"
            ],
            [
             0.3333333333333333,
             "#9c179e"
            ],
            [
             0.4444444444444444,
             "#bd3786"
            ],
            [
             0.5555555555555556,
             "#d8576b"
            ],
            [
             0.6666666666666666,
             "#ed7953"
            ],
            [
             0.7777777777777778,
             "#fb9f3a"
            ],
            [
             0.8888888888888888,
             "#fdca26"
            ],
            [
             1,
             "#f0f921"
            ]
           ]
          },
          "colorway": [
           "#636efa",
           "#EF553B",
           "#00cc96",
           "#ab63fa",
           "#FFA15A",
           "#19d3f3",
           "#FF6692",
           "#B6E880",
           "#FF97FF",
           "#FECB52"
          ],
          "font": {
           "color": "#2a3f5f"
          },
          "geo": {
           "bgcolor": "white",
           "lakecolor": "white",
           "landcolor": "#E5ECF6",
           "showlakes": true,
           "showland": true,
           "subunitcolor": "white"
          },
          "hoverlabel": {
           "align": "left"
          },
          "hovermode": "closest",
          "mapbox": {
           "style": "light"
          },
          "paper_bgcolor": "white",
          "plot_bgcolor": "#E5ECF6",
          "polar": {
           "angularaxis": {
            "gridcolor": "white",
            "linecolor": "white",
            "ticks": ""
           },
           "bgcolor": "#E5ECF6",
           "radialaxis": {
            "gridcolor": "white",
            "linecolor": "white",
            "ticks": ""
           }
          },
          "scene": {
           "xaxis": {
            "backgroundcolor": "#E5ECF6",
            "gridcolor": "white",
            "gridwidth": 2,
            "linecolor": "white",
            "showbackground": true,
            "ticks": "",
            "zerolinecolor": "white"
           },
           "yaxis": {
            "backgroundcolor": "#E5ECF6",
            "gridcolor": "white",
            "gridwidth": 2,
            "linecolor": "white",
            "showbackground": true,
            "ticks": "",
            "zerolinecolor": "white"
           },
           "zaxis": {
            "backgroundcolor": "#E5ECF6",
            "gridcolor": "white",
            "gridwidth": 2,
            "linecolor": "white",
            "showbackground": true,
            "ticks": "",
            "zerolinecolor": "white"
           }
          },
          "shapedefaults": {
           "line": {
            "color": "#2a3f5f"
           }
          },
          "ternary": {
           "aaxis": {
            "gridcolor": "white",
            "linecolor": "white",
            "ticks": ""
           },
           "baxis": {
            "gridcolor": "white",
            "linecolor": "white",
            "ticks": ""
           },
           "bgcolor": "#E5ECF6",
           "caxis": {
            "gridcolor": "white",
            "linecolor": "white",
            "ticks": ""
           }
          },
          "title": {
           "x": 0.05
          },
          "xaxis": {
           "automargin": true,
           "gridcolor": "white",
           "linecolor": "white",
           "ticks": "",
           "title": {
            "standoff": 15
           },
           "zerolinecolor": "white",
           "zerolinewidth": 2
          },
          "yaxis": {
           "automargin": true,
           "gridcolor": "white",
           "linecolor": "white",
           "ticks": "",
           "title": {
            "standoff": 15
           },
           "zerolinecolor": "white",
           "zerolinewidth": 2
          }
         }
        },
        "xaxis": {
         "anchor": "y",
         "domain": [
          0,
          1
         ],
         "title": {
          "text": "Topic"
         }
        },
        "yaxis": {
         "anchor": "x",
         "domain": [
          0,
          1
         ],
         "title": {
          "text": "Total NMF Topic Weight Across all Articles(Should normalise this really)"
         }
        }
       }
      }
     },
     "metadata": {},
     "output_type": "display_data"
    }
   ],
   "source": [
    "# Below gets the topics \n",
    "\n",
    "doc_topic_nmf_df =  pd.DataFrame(doc_topic_nmf,index=articles.keys(), columns= nmf_model.get_feature_names_out())\n",
    "doc_topic_nmf_df = doc_topic_nmf_df.reset_index().rename(columns={\"index\":\"article\"})\n",
    "#doc_topic_nmf_df[\"article_year\"] = doc_topic_nmf_df[\"article\"].str.extract(r\"(\\d{4}-\\d{2}-\\d{2})\")\n",
    "doc_topic_nmf_df[\"article_year\"] = doc_topic_nmf_df[\"article\"].str.extract(r\"(?<=\\[)(\\d{4})(?=\\-)\")\n",
    "\n",
    "doc_topic_nmf_df = doc_topic_nmf_df.drop('article', axis=1)\n",
    "doc_topic_nmf_df.set_index(\"article_year\", inplace= True)\n",
    "sum_doc_topic_nmf_df  = doc_topic_nmf_df.sum().reset_index().rename(columns={\"index\":\"Topic\", \"0\":\"Total NMF Topic Weight Across all Articles(Should normalise this really)\"})\n",
    "sum_doc_topic_nmf_df = sum_doc_topic_nmf_df.rename(columns={\"index\":\"Topic\", 0:\"Total NMF Topic Weight Across all Articles(Should normalise this really)\"})\n",
    "\n",
    "\n",
    "\n",
    "px.bar(sum_doc_topic_nmf_df, x = \"Topic\", y = \"Total NMF Topic Weight Across all Articles(Should normalise this really)\")"
   ]
  },
  {
   "cell_type": "code",
   "execution_count": 98,
   "id": "146ef59d",
   "metadata": {},
   "outputs": [
    {
     "data": {
      "text/html": [
       "<div>\n",
       "<style scoped>\n",
       "    .dataframe tbody tr th:only-of-type {\n",
       "        vertical-align: middle;\n",
       "    }\n",
       "\n",
       "    .dataframe tbody tr th {\n",
       "        vertical-align: top;\n",
       "    }\n",
       "\n",
       "    .dataframe thead th {\n",
       "        text-align: right;\n",
       "    }\n",
       "</style>\n",
       "<table border=\"1\" class=\"dataframe\">\n",
       "  <thead>\n",
       "    <tr style=\"text-align: right;\">\n",
       "      <th></th>\n",
       "      <th>Topic</th>\n",
       "      <th>0</th>\n",
       "    </tr>\n",
       "  </thead>\n",
       "  <tbody>\n",
       "    <tr>\n",
       "      <th>0</th>\n",
       "      <td>nmf0</td>\n",
       "      <td>10.447087</td>\n",
       "    </tr>\n",
       "    <tr>\n",
       "      <th>1</th>\n",
       "      <td>nmf1</td>\n",
       "      <td>15.669275</td>\n",
       "    </tr>\n",
       "    <tr>\n",
       "      <th>2</th>\n",
       "      <td>nmf2</td>\n",
       "      <td>13.788805</td>\n",
       "    </tr>\n",
       "    <tr>\n",
       "      <th>3</th>\n",
       "      <td>nmf3</td>\n",
       "      <td>10.529782</td>\n",
       "    </tr>\n",
       "    <tr>\n",
       "      <th>4</th>\n",
       "      <td>nmf4</td>\n",
       "      <td>11.574933</td>\n",
       "    </tr>\n",
       "    <tr>\n",
       "      <th>5</th>\n",
       "      <td>nmf5</td>\n",
       "      <td>12.738551</td>\n",
       "    </tr>\n",
       "    <tr>\n",
       "      <th>6</th>\n",
       "      <td>nmf6</td>\n",
       "      <td>6.401920</td>\n",
       "    </tr>\n",
       "    <tr>\n",
       "      <th>7</th>\n",
       "      <td>nmf7</td>\n",
       "      <td>11.631789</td>\n",
       "    </tr>\n",
       "    <tr>\n",
       "      <th>8</th>\n",
       "      <td>nmf8</td>\n",
       "      <td>9.690547</td>\n",
       "    </tr>\n",
       "    <tr>\n",
       "      <th>9</th>\n",
       "      <td>nmf9</td>\n",
       "      <td>7.485206</td>\n",
       "    </tr>\n",
       "    <tr>\n",
       "      <th>10</th>\n",
       "      <td>nmf10</td>\n",
       "      <td>14.049096</td>\n",
       "    </tr>\n",
       "    <tr>\n",
       "      <th>11</th>\n",
       "      <td>nmf11</td>\n",
       "      <td>19.000175</td>\n",
       "    </tr>\n",
       "    <tr>\n",
       "      <th>12</th>\n",
       "      <td>nmf12</td>\n",
       "      <td>14.562613</td>\n",
       "    </tr>\n",
       "    <tr>\n",
       "      <th>13</th>\n",
       "      <td>nmf13</td>\n",
       "      <td>15.594788</td>\n",
       "    </tr>\n",
       "    <tr>\n",
       "      <th>14</th>\n",
       "      <td>nmf14</td>\n",
       "      <td>9.616113</td>\n",
       "    </tr>\n",
       "  </tbody>\n",
       "</table>\n",
       "</div>"
      ],
      "text/plain": [
       "    Topic          0\n",
       "0    nmf0  10.447087\n",
       "1    nmf1  15.669275\n",
       "2    nmf2  13.788805\n",
       "3    nmf3  10.529782\n",
       "4    nmf4  11.574933\n",
       "5    nmf5  12.738551\n",
       "6    nmf6   6.401920\n",
       "7    nmf7  11.631789\n",
       "8    nmf8   9.690547\n",
       "9    nmf9   7.485206\n",
       "10  nmf10  14.049096\n",
       "11  nmf11  19.000175\n",
       "12  nmf12  14.562613\n",
       "13  nmf13  15.594788\n",
       "14  nmf14   9.616113"
      ]
     },
     "execution_count": 98,
     "metadata": {},
     "output_type": "execute_result"
    }
   ],
   "source": [
    "sum_doc_topic_nmf_df"
   ]
  }
 ],
 "metadata": {
  "creation_period": "",
  "kernelspec": {
   "display_name": "Python 3 (ipykernel)",
   "language": "python",
   "name": "python3"
  },
  "language_info": {
   "codemirror_mode": {
    "name": "ipython",
    "version": 3
   },
   "file_extension": ".py",
   "mimetype": "text/x-python",
   "name": "python",
   "nbconvert_exporter": "python",
   "pygments_lexer": "ipython3",
   "version": "3.12.3"
  },
  "nb_name": "template",
  "qut": {
   "creation_period": "2023_sem1",
   "nb_name": "template-assignment2",
   "unit_code": "IFN619"
  },
  "unit_code": "",
  "vscode": {
   "interpreter": {
    "hash": "d4d1e4263499bec80672ea0156c357c1ee493ec2b1c70f0acce89fc37c4a6abe"
   }
  }
 },
 "nbformat": 4,
 "nbformat_minor": 5
}
