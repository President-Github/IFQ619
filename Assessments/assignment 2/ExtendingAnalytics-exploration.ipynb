{
 "cells": [
  {
   "attachments": {},
   "cell_type": "markdown",
   "id": "4f25fb7c-b847-446d-96a8-244b809fa314",
   "metadata": {
    "cell_name": "header_cell"
   },
   "source": [
    "<div style=\"background:#FFFFEE; color:#440404; padding:8px; border-radius: 4px; text-align: center; font-weight: 500;\">IFQ619 - Data Analytics for Strategic Decision Makers (2024)</div>"
   ]
  },
  {
   "attachments": {},
   "cell_type": "markdown",
   "id": "e620670b-943c-4faf-86c0-7c94a885210b",
   "metadata": {
    "cell_name": "title_cell"
   },
   "source": [
    "# IFQ619 :: UA2 - Extending Analytics (40%)\n",
    "\n",
    "**IMPORTANT:** Refer to the instructions in Canvas [UA2 - Assignment 2 - extending analytics] *BEFORE* working on this assignment.\n",
    "\n",
    "#### REQUIREMENTS ####\n",
    "\n",
    "1. Complete and run the code cell below to display your name, student number, and assignment option\n",
    "2. Identify an appropriate question (or questions) to be addressed by your overall data analytics narrative\n",
    "3. Extend your analysis in assignment 1 with:\n",
    "    - the analysis of additional unstructured data using the Guardian API (See accessing the Guardian API notebook),\n",
    "    - the use of one machine learning technique (as used in the class materials), and\n",
    "    - identification of ethical considerations relevant to the analysis (by drawing on class materials).\n",
    "4. Ensure that you include documentation of your thinking and decision-making using markdown cells\n",
    "5. Ensure that you include appropriate visualisations, and that they support the overall narrative\n",
    "6. Ensure that your insights answer your question/s and are appropriate to your narrative. \n",
    "7. Ensure that your insights are consistent with the ethical considerations identified.\n",
    "\n",
    "**NOTE:** you should not repeat the analysis from assignment 1, but you may need to save dataframes from assignment 1 and reload for use in this assignment. You may also summarise your assignment 1 insights as part of the process of identifying questions for analysis.\n",
    "\n",
    "#### SUBMISSION ####\n",
    "\n",
    "1. Create an assignment 2 folder named in the form **UA2-surname-idnumber** and put your notebook and any data files inside this folder. Note, do not put large training data in this folder (reference any training data that you used but keep it outside this folder), only keep small data files and models in this folder with your notebook.\n",
    "2. When you have everything in the correct folder, reset all cells and restart the kernel, then run the notebook completely, checking that all cells have run without error. If you encounter errors, fix your notebook and re-run the process. It is important that your notebook runs without errors only requiring the files in the folder that you have created.\n",
    "3. When the notebook is error free, zip the entire folder (you can select download folder in Jupyter).\n",
    "4. Submit the zipped folder in Canvas\n"
   ]
  },
  {
   "cell_type": "code",
   "execution_count": 1,
   "id": "763f6f63",
   "metadata": {},
   "outputs": [
    {
     "data": {
      "text/html": [
       "<h1>Morgan Meeuwissen (n12240800)</h1>"
      ],
      "text/plain": [
       "<IPython.core.display.HTML object>"
      ]
     },
     "execution_count": 1,
     "metadata": {},
     "output_type": "execute_result"
    }
   ],
   "source": [
    "# Complete the following cell with your details and run to produce your personalised header for this assignment\n",
    "\n",
    "from IPython.display import HTML\n",
    "\n",
    "# personal details\n",
    "first_name = \"Morgan\"\n",
    "last_name = \"Meeuwissen\"\n",
    "student_number = \"n12240800\"\n",
    "\n",
    "personal_header = f\"<h1>{first_name} {last_name} ({student_number})</h1>\"\n",
    "HTML(personal_header)"
   ]
  },
  {
   "attachments": {},
   "cell_type": "markdown",
   "id": "24fbcf4f",
   "metadata": {},
   "source": [
    "---\n"
   ]
  },
  {
   "cell_type": "markdown",
   "id": "904011a8-fec2-4f47-99b3-6fb5504726fd",
   "metadata": {},
   "source": [
    "# Themes that use topic modelling?\n",
    "* Long term affects of funding? still remain in news or short-lived?\n",
    "* Funding as a result of news (public image leading funding)\n",
    "* Funding to be lagged one year from the news? Gov funding cyle?\n",
    "* Impact on Local Jobs: The Guardian’s coverage of labor market issues and economic policies provides a context for evaluating how programs like Advance Queensland impact local employment. Discussions on job creation and displacement relate directly to the ethical consideration of benefiting local communities through such initiatives."
   ]
  },
  {
   "cell_type": "markdown",
   "id": "376672c0-203d-4738-8dc6-56e9d5bbd3d5",
   "metadata": {},
   "source": [
    "Word limit: 1500–3000 words. Three-four analytics cycles?\n",
    "\n",
    "**Outline:**\n",
    "\n",
    "## Context \n",
    "from first assignment and final insights + graph? - fairly distributed -> Overarching goals of Advance Queensland... Public perception and does it make a difference?\n",
    "\n",
    "Ethics: Bias?\n",
    "\n",
    "# Question 1\n",
    "What does the media care about show?  How much of the media attention is for indigenous matters? \n",
    "\n",
    "### Data\n",
    "Data source is biased - Avoid further bias by not over-onstraining intial data\n",
    "\n",
    "\n",
    "### Analysis\n",
    "\n",
    "Explain Cleaning of data for TDIDF - lemmy, preproccessing, stop words, bigrams\n",
    "\n",
    "Explain choice of NMf\n",
    "\n",
    "\n",
    "### Visualisation\n",
    "\n",
    "Clusters and Weightings\n",
    "\n",
    "\n",
    "### Insight\n",
    "Regional not som important\n",
    "\n",
    "Visualisation Topics Cumulative clusters bar chart by articles.\n",
    "\n",
    "\n",
    "# Question 2 \n",
    "\n",
    "\n",
    "### Data\n",
    "Data: count articles on the main topic and re-introduce Advance QUeensland data with manual extra flags as 1/0\n",
    "\n",
    "### Analysis\n",
    "Make a Dataframe and show stats per column?\n",
    "\n",
    "\n",
    "### Visualisation\n",
    "Correlelagram\n",
    "\n",
    "\n",
    "### Insight\n",
    "Media attention not valid?\n",
    "\n",
    "\n",
    "\n",
    "ANalysis:\n",
    "\n",
    "\n",
    "\n",
    "# Question 3\n",
    "What impacts funding ?  What impacts media attention from the funding \n",
    "\n",
    "\n",
    "### Data\n",
    "\n",
    "\n",
    "### Analysis\n",
    "\n",
    "\n",
    "### Visualisation\n",
    "Regression Test confusion matrix\n",
    "\n",
    "### Insight\n",
    "\n",
    "Can a relationship be established? Predict funding from public opinion.\n",
    "\n",
    "\n",
    "Insight: It doesn't work for a linear regression?\n",
    "\n",
    "\n",
    "\n",
    "\n",
    "\n",
    "# Closing statement\n"
   ]
  },
  {
   "cell_type": "markdown",
   "id": "c48f4c16",
   "metadata": {},
   "source": [
    "CAN WE TOPIC MODEL ACROSS MULTIPLE CORPUS? TOPICS FROM THE PROGRAM NAME/PROJECT NAME AND FIND MATCHES IN THE GUARDIAN\n",
    "https://towardsdatascience.com/unsupervised-nlp-topic-models-as-a-supervised-learning-input-cf8ee9e5cf28\n",
    "rain LDA Model on 100,000 Restaurant Reviews from 2016\n",
    "Grab Topic distributions for every review using the LDA Model\n",
    "Use Topic Distributions directly as feature vectors in supervised classification models (Logistic Regression, SVC, etc) and get F1-score.\n",
    "Use the same 2016 LDA model to get topic distributions from 2017 (the LDA model did not see this data!)\n",
    "Want a topic that combines regional and indigenous? bigram traditional owner"
   ]
  },
  {
   "cell_type": "markdown",
   "id": "a6430e73",
   "metadata": {},
   "source": [
    "# Past assignment Andrew notes\n",
    "d your assignment 1 analysis by including consideration of ethical and human factors, including 1 extended analysis technique, and using at least 1 additional data source. Possible additional data sources:\n",
    "\n",
    "    Guardian API (See accessing the Guardian API notebook)\n",
    "    Hospital location data (Provided, see data folder)\n",
    "\n",
    "**NOTE: you should not repeat the analysis from assignment 1, but you may need to save dataframes from assignment 1 and reload for use in this assignment. You may also summarise your assignment 1 insights as part of the process of identifying questions for analysis.**"
   ]
  },
  {
   "cell_type": "markdown",
   "id": "ff0a413d",
   "metadata": {},
   "source": [
    "# Insights\n",
    "Start off by working out what the QLD gov articles actually show. This will be done through topic modelling variants and then clustering\n",
    "articles json only has the title as a key and the text, but the title has the date that can be extracted for potential use.\n",
    "\n",
    "\n",
    "clustering to topics already done lda and nmf?  TFIDF is doc specific, others take into account the whole corpus\n",
    "Establish topics that match Advance Queensland and then use as predictors by year?\n",
    "\n",
    "No mentions of Advance QLD\n",
    "QLD Gov search not finding a cluster for Regional\n",
    "**Try working from regional queensland back? Just regional? If taking a specific approach like this could have way less clusters....**\n",
    "\n",
    "https://open-platform.theguardian.com/explore/ very useful. Narrow down from 79"
   ]
  },
  {
   "cell_type": "code",
   "execution_count": 2,
   "id": "746d576c",
   "metadata": {},
   "outputs": [],
   "source": [
    "# Import the necessary libraries\n",
    "from sklearn.feature_extraction.text import TfidfVectorizer, CountVectorizer, ENGLISH_STOP_WORDS\n",
    "from sklearn.decomposition import LatentDirichletAllocation, NMF\n",
    "import pandas as pd\n",
    "import json\n",
    "\n",
    "import re\n",
    "import spacy\n",
    "import plotly.express as px"
   ]
  },
  {
   "cell_type": "code",
   "execution_count": 3,
   "id": "b6354038",
   "metadata": {},
   "outputs": [],
   "source": [
    "# # Load the data - articles from The Guardian about the war in Ukraine\n",
    "# file_path = \"data/\"\n",
    "# file_name = \"qld_articles.json\"\n",
    "\n",
    "# with open(f\"{file_path}{file_name}\",'r', encoding='utf-8') as fp:\n",
    "#     articles = json.load(fp)\n",
    "\n",
    "# #print(f\"Loaded {len(articles)} articles from {file_name}\")\n",
    "\n",
    "\n",
    "# # AYOOOOOO WE DOING A LEMMATISING FUNCTION\n",
    "# # https://jonathansoma.com/lede/image-and-sound/text-analysis/text-analysis-word-counting-lemmatizing-and-tf-idf/\n",
    "\n",
    "\n",
    "# nlp = spacy.load(\"en_core_web_sm\")\n",
    "# # Source: spaCy is a dream, but a dream where sometimes your legs won’t move right and you can’t read text. But sometimes you can fly! So yes, as always, ups and downs\n",
    "# # Morgan: I hate this\n",
    "# # python -m spacy download en\n",
    "# # python -m pip install spacy\n",
    "\n",
    "# def lemmatize(text):\n",
    "#     doc = nlp(text)\n",
    "#     # Turn it into tokens, ignoring the punctuation\n",
    "#     tokens = [token for token in doc if not token.is_punct]\n",
    "#     # Convert those tokens into lemmas, EXCEPT the pronouns, we'll keep those.\n",
    "#     lemmas = [token.lemma_ if token.pos_ != 'PRON' else token.orth_ for token in tokens]\n",
    "#     return lemmas\n",
    "\n",
    "\n",
    "# # Only count terms that in maximum of 75% of documents, and a minimum of 2 documents. \n",
    "# # Count a maximum of 10000 terms, and remove common english stop words\n",
    "# StopWords = list(ENGLISH_STOP_WORDS.union([\"Monday\",\"Tuesday\",\"Wednesday\",\"Thursday\",\"Friday\", \"Saturday\", \"Sunday\",\"nbsp\", \"\\n\", \"|\", \"\\n \", \n",
    "#                                            \"$\", \"year\", \"m\", \"new\", \"need\", \"increase\",\"bst\", \"gmt\", \"says\", \"year\", \"told\",\"day\",\"know\", \"We\", \n",
    "#                                            \"'ve\",\"'re\", \"read\", \"today\", \"day\",\"like\",\"I\", \"'ve\",\"I've\",\"I'm\",\"just\",\"use\", \"think\", \"story\"]))\n"
   ]
  },
  {
   "cell_type": "code",
   "execution_count": 4,
   "id": "431a104a",
   "metadata": {},
   "outputs": [],
   "source": [
    "# # TFIDF\n",
    "# # Only count terms that in maximum of 75% of documents, and a minimum of 5 documents. \n",
    "# # Count a maximum of 10000 terms, and remove common english stop words\n",
    "# tfidf_vectorizer = TfidfVectorizer(\n",
    "#                                    #reprocessor=lambda x: re.sub(r\"([\\d\\.])+\", \"NUM\", x),\n",
    "#                                    max_df=0.75,min_df=5,max_features=10000,\n",
    "#                                    stop_words=StopWords, #Add stop words\n",
    "#                                    #tokenizer=lemmatize, # Lemmatiseer\n",
    "#                                    ngram_range = (1,2) #Use Bigrams as well to pick up things like \"First Nation\"\n",
    "# )\n",
    "\n",
    "\n",
    "# tfidf_dt_matrix = tfidf_vectorizer.fit_transform(articles.values())"
   ]
  },
  {
   "cell_type": "markdown",
   "id": "f2a211aa",
   "metadata": {},
   "source": [
    "Introduce NMF"
   ]
  },
  {
   "cell_type": "code",
   "execution_count": 5,
   "id": "717ce9d6",
   "metadata": {},
   "outputs": [],
   "source": [
    "# # Set number of topics\n",
    "# num_topics = 20\n",
    "# # Set max number of iteractions\n",
    "# max_iterations = 2500\n",
    "# feature_names = tfidf_vectorizer.get_feature_names_out()\n",
    "\n",
    "# # Create the model\n",
    "# nmf_model = NMF(n_components=num_topics,init='random', random_state=37  # Set random state to have reproducible results\n",
    "#                 ,beta_loss='frobenius', max_iter=max_iterations)\n",
    "\n",
    "# # Fit the model to the data and use it to transform the data\n",
    "# doc_topic_nmf = nmf_model.fit_transform(tfidf_dt_matrix)\n",
    "\n",
    "# topic_term_nmf = nmf_model.components_"
   ]
  },
  {
   "cell_type": "code",
   "execution_count": 6,
   "id": "d861e7a7",
   "metadata": {},
   "outputs": [],
   "source": [
    "# # Get the topics and their terms\n",
    "# nmf_topic_dict = {}\n",
    "# for index, topic in enumerate(topic_term_nmf):\n",
    "#     zipped = zip(feature_names, topic)\n",
    "#     top_terms=dict(sorted(zipped, key = lambda t: t[1], reverse=True)[:10])\n",
    "#     #print(top_terms)\n",
    "#     top_terms_list= {key : round(top_terms[key], 4) for key in top_terms.keys()}\n",
    "#     nmf_topic_dict[f\"nmf{index}\"] = top_terms_list\n",
    "\n",
    "# nmf_terms_df = []\n",
    "# # Print the topics with their terms    \n",
    "# for k,v in nmf_topic_dict.items():\n",
    "#     #print(k)\n",
    "#     #print(v)\n",
    "#     #print()\n",
    "#     for t, w in v.items():\n",
    "#         nmf_terms_df.append([k, t, w])\n",
    "\n",
    "# nmf_terms_df = pd.DataFrame(nmf_terms_df)\n",
    "# nmf_terms_df.rename(columns={nmf_terms_df.columns[0]: \"Topic Cluster\",\n",
    "#                                        nmf_terms_df.columns[1]: \"Term\",\n",
    "#                                        nmf_terms_df.columns[2]: \"Weight\" }, inplace=True)\n",
    "\n",
    "# topic_map_dict = {\"nmf0\":\"Politics 1\", \n",
    "#                   \"nmf1\":\"Youth Crime\",\n",
    "#                   \"nmf2\":\"Family\",\n",
    "#                   \"nmf3\":\"Politics 2\",\n",
    "#                   \"nmf4\":\"Environment\",\n",
    "#                   \"nmf5\":\"COVID 1\",\n",
    "#                   \"nmf6\":\"Aged Care\",\n",
    "#                   \"nmf7\":\"Mining\",\n",
    "#                   \"nmf8\":\"Power\",\n",
    "#                   \"nmf9\":\"Police\",\n",
    "#                   \"nmf10\":\"Great Barrier Reef\",\n",
    "#                   \"nmf11\":\"Flood\",\n",
    "#                   \"nmf12\":\"Education\",\n",
    "#                   \"nmf13\":\"Domestic Violence\",\n",
    "#                   \"nmf14\":\"Sport\",\n",
    "#                   \"nmf15\":\"Cost of Living\",\n",
    "#                   \"nmf16\":\"Other\",\n",
    "#                   \"nmf17\":\"Climate Change\",\n",
    "#                   \"nmf18\":\"First Nation\",\n",
    "#                   \"nmf19\":\"COVID 2\"}\n",
    "\n",
    "# # Write the Terms DF to a csv for later use\n",
    "# nmf_terms_df = nmf_terms_df.replace({\"Topic Cluster\": topic_map_dict})\n",
    "# nmf_terms_df.to_csv(\"data/nmf_terms_df.csv\")\n",
    "\n",
    "# # Write the topics DF to a csv for later use\n",
    "# doc_topic_nmf_df =  pd.DataFrame(doc_topic_nmf,index=articles.keys(), columns= nmf_model.get_feature_names_out())\n",
    "# doc_topic_nmf_df = doc_topic_nmf_df.rename(columns = topic_map_dict)\n",
    "# doc_topic_nmf_df.reset_index(inplace= True)\n",
    "# doc_topic_nmf_df.to_csv(\"data/nmf_topics_df.csv\", index = False)\n"
   ]
  },
  {
   "cell_type": "code",
   "execution_count": 7,
   "id": "3e3ae2b2",
   "metadata": {},
   "outputs": [],
   "source": [
    "nmf_terms_df = pd.read_csv(\"data/nmf_terms_df.csv\")\n",
    "nmf_topics_df = pd.read_csv(\"data/nmf_topics_df.csv\")"
   ]
  },
  {
   "cell_type": "markdown",
   "id": "e7c6484b",
   "metadata": {},
   "source": [
    "### **Topics:**\n",
    "\n",
    "Resources\n",
    "Indigenous \n",
    "Adani\n",
    "Youth Crime\n",
    "COVID\n",
    "Energy\n",
    "Great Barrier Reef\n",
    "Adani Environmental Impact\n",
    "Environment\n",
    "Housing\n",
    "Domestic Violence\n",
    "Other 1\n",
    "Other 2\n",
    "Flooding\n",
    "Sport\n"
   ]
  },
  {
   "cell_type": "code",
   "execution_count": 8,
   "id": "309d13f0",
   "metadata": {},
   "outputs": [
    {
     "data": {
      "application/vnd.plotly.v1+json": {
       "config": {
        "plotlyServerURL": "https://plot.ly"
       },
       "data": [
        {
         "alignmentgroup": "True",
         "hovertemplate": "Topic Cluster=Politics 1<br>Weight=%{x}<br>Term=%{y}<extra></extra>",
         "legendgroup": "",
         "marker": {
          "color": "#636efa",
          "pattern": {
           "shape": ""
          }
         },
         "name": "",
         "offsetgroup": "",
         "orientation": "h",
         "showlegend": false,
         "textposition": "auto",
         "type": "bar",
         "x": [
          0.9049,
          0.5345,
          0.4694,
          0.465,
          0.4399,
          0.3951,
          0.3181,
          0.3076,
          0.2433,
          0.2421
         ],
         "xaxis": "x16",
         "y": [
          "morrison",
          "minister",
          "government",
          "prime",
          "prime minister",
          "dutton",
          "joyce",
          "turnbull",
          "nationals",
          "albanese"
         ],
         "yaxis": "y16"
        },
        {
         "alignmentgroup": "True",
         "hovertemplate": "Topic Cluster=Youth Crime<br>Weight=%{x}<br>Term=%{y}<extra></extra>",
         "legendgroup": "",
         "marker": {
          "color": "#636efa",
          "pattern": {
           "shape": ""
          }
         },
         "name": "",
         "offsetgroup": "",
         "orientation": "h",
         "showlegend": false,
         "textposition": "auto",
         "type": "bar",
         "x": [
          0.5241,
          0.485,
          0.4236,
          0.2221,
          0.2012,
          0.2005,
          0.1988,
          0.1854,
          0.1827,
          0.1816
         ],
         "xaxis": "x17",
         "y": [
          "children",
          "youth",
          "detention",
          "justice",
          "young",
          "watch",
          "youth justice",
          "young people",
          "human rights",
          "rights"
         ],
         "yaxis": "y17"
        },
        {
         "alignmentgroup": "True",
         "hovertemplate": "Topic Cluster=Family<br>Weight=%{x}<br>Term=%{y}<extra></extra>",
         "legendgroup": "",
         "marker": {
          "color": "#636efa",
          "pattern": {
           "shape": ""
          }
         },
         "name": "",
         "offsetgroup": "",
         "orientation": "h",
         "showlegend": false,
         "textposition": "auto",
         "type": "bar",
         "x": [
          0.4494,
          0.3078,
          0.3001,
          0.2996,
          0.2985,
          0.2541,
          0.2426,
          0.2425,
          0.2382,
          0.2184
         ],
         "xaxis": "x18",
         "y": [
          "people",
          "life",
          "time",
          "family",
          "ve",
          "don",
          "years",
          "really",
          "home",
          "got"
         ],
         "yaxis": "y18"
        },
        {
         "alignmentgroup": "True",
         "hovertemplate": "Topic Cluster=Politics 2<br>Weight=%{x}<br>Term=%{y}<extra></extra>",
         "legendgroup": "",
         "marker": {
          "color": "#636efa",
          "pattern": {
           "shape": ""
          }
         },
         "name": "",
         "offsetgroup": "",
         "orientation": "h",
         "showlegend": false,
         "textposition": "auto",
         "type": "bar",
         "x": [
          1.001,
          0.9887,
          0.6838,
          0.499,
          0.4795,
          0.4662,
          0.4611,
          0.4478,
          0.4173,
          0.4122
         ],
         "xaxis": "x19",
         "y": [
          "labor",
          "party",
          "election",
          "seats",
          "seat",
          "lnp",
          "nation",
          "vote",
          "liberal",
          "greens"
         ],
         "yaxis": "y19"
        },
        {
         "alignmentgroup": "True",
         "hovertemplate": "Topic Cluster=Environment<br>Weight=%{x}<br>Term=%{y}<extra></extra>",
         "legendgroup": "",
         "marker": {
          "color": "#636efa",
          "pattern": {
           "shape": ""
          }
         },
         "name": "",
         "offsetgroup": "",
         "orientation": "h",
         "showlegend": false,
         "textposition": "auto",
         "type": "bar",
         "x": [
          1.1908,
          0.6086,
          0.54,
          0.5242,
          0.434,
          0.4313,
          0.4238,
          0.4153,
          0.3927,
          0.3876
         ],
         "xaxis": "x20",
         "y": [
          "species",
          "water",
          "clearing",
          "environment",
          "conservation",
          "habitat",
          "threatened",
          "land",
          "environmental",
          "threatened species"
         ],
         "yaxis": "y20"
        },
        {
         "alignmentgroup": "True",
         "hovertemplate": "Topic Cluster=COVID 1<br>Weight=%{x}<br>Term=%{y}<extra></extra>",
         "legendgroup": "",
         "marker": {
          "color": "#636efa",
          "pattern": {
           "shape": ""
          }
         },
         "name": "",
         "offsetgroup": "",
         "orientation": "h",
         "showlegend": false,
         "textposition": "auto",
         "type": "bar",
         "x": [
          0.8937,
          0.8048,
          0.6587,
          0.6177,
          0.5362,
          0.531,
          0.4995,
          0.4831,
          0.4208,
          0.3848
         ],
         "xaxis": "x11",
         "y": [
          "cases",
          "covid",
          "coronavirus",
          "health",
          "covid 19",
          "quarantine",
          "19",
          "nsw",
          "victoria",
          "virus"
         ],
         "yaxis": "y11"
        },
        {
         "alignmentgroup": "True",
         "hovertemplate": "Topic Cluster=Aged Care<br>Weight=%{x}<br>Term=%{y}<extra></extra>",
         "legendgroup": "",
         "marker": {
          "color": "#636efa",
          "pattern": {
           "shape": ""
          }
         },
         "name": "",
         "offsetgroup": "",
         "orientation": "h",
         "showlegend": false,
         "textposition": "auto",
         "type": "bar",
         "x": [
          1.716,
          1.6155,
          1.3918,
          0.4724,
          0.4163,
          0.4079,
          0.3822,
          0.2815,
          0.2614,
          0.2555
         ],
         "xaxis": "x12",
         "y": [
          "care",
          "aged care",
          "aged",
          "staff",
          "workers",
          "health",
          "residents",
          "hospital",
          "providers",
          "homes"
         ],
         "yaxis": "y12"
        },
        {
         "alignmentgroup": "True",
         "hovertemplate": "Topic Cluster=Mining<br>Weight=%{x}<br>Term=%{y}<extra></extra>",
         "legendgroup": "",
         "marker": {
          "color": "#636efa",
          "pattern": {
           "shape": ""
          }
         },
         "name": "",
         "offsetgroup": "",
         "orientation": "h",
         "showlegend": false,
         "textposition": "auto",
         "type": "bar",
         "x": [
          2.0089,
          0.583,
          0.5679,
          0.4723,
          0.3109,
          0.2742,
          0.2441,
          0.2286,
          0.2209,
          0.2012
         ],
         "xaxis": "x13",
         "y": [
          "adani",
          "coal",
          "project",
          "carmichael",
          "company",
          "coalmine",
          "rail",
          "loan",
          "mining",
          "galilee"
         ],
         "yaxis": "y13"
        },
        {
         "alignmentgroup": "True",
         "hovertemplate": "Topic Cluster=Power<br>Weight=%{x}<br>Term=%{y}<extra></extra>",
         "legendgroup": "",
         "marker": {
          "color": "#636efa",
          "pattern": {
           "shape": ""
          }
         },
         "name": "",
         "offsetgroup": "",
         "orientation": "h",
         "showlegend": false,
         "textposition": "auto",
         "type": "bar",
         "x": [
          1.7254,
          1.1283,
          0.9897,
          0.767,
          0.7304,
          0.5788,
          0.559,
          0.4728,
          0.46,
          0.4544
         ],
         "xaxis": "x14",
         "y": [
          "energy",
          "gas",
          "coal",
          "power",
          "electricity",
          "renewable",
          "prices",
          "renewable energy",
          "solar",
          "market"
         ],
         "yaxis": "y14"
        },
        {
         "alignmentgroup": "True",
         "hovertemplate": "Topic Cluster=Police<br>Weight=%{x}<br>Term=%{y}<extra></extra>",
         "legendgroup": "",
         "marker": {
          "color": "#636efa",
          "pattern": {
           "shape": ""
          }
         },
         "name": "",
         "offsetgroup": "",
         "orientation": "h",
         "showlegend": false,
         "textposition": "auto",
         "type": "bar",
         "x": [
          1.8819,
          0.5058,
          0.4398,
          0.2793,
          0.2666,
          0.2524,
          0.2478,
          0.2401,
          0.2152,
          0.1833
         ],
         "xaxis": "x15",
         "y": [
          "police",
          "officers",
          "queensland police",
          "inquiry",
          "officer",
          "qps",
          "man",
          "carroll",
          "commissioner",
          "investigation"
         ],
         "yaxis": "y15"
        },
        {
         "alignmentgroup": "True",
         "hovertemplate": "Topic Cluster=Great Barrier Reef<br>Weight=%{x}<br>Term=%{y}<extra></extra>",
         "legendgroup": "",
         "marker": {
          "color": "#636efa",
          "pattern": {
           "shape": ""
          }
         },
         "name": "",
         "offsetgroup": "",
         "orientation": "h",
         "showlegend": false,
         "textposition": "auto",
         "type": "bar",
         "x": [
          1.648,
          0.652,
          0.6129,
          0.6115,
          0.6045,
          0.5781,
          0.404,
          0.3241,
          0.3047,
          0.304
         ],
         "xaxis": "x6",
         "y": [
          "reef",
          "bleaching",
          "coral",
          "barrier reef",
          "great barrier",
          "barrier",
          "great",
          "corals",
          "reefs",
          "marine"
         ],
         "yaxis": "y6"
        },
        {
         "alignmentgroup": "True",
         "hovertemplate": "Topic Cluster=Flood<br>Weight=%{x}<br>Term=%{y}<extra></extra>",
         "legendgroup": "",
         "marker": {
          "color": "#636efa",
          "pattern": {
           "shape": ""
          }
         },
         "name": "",
         "offsetgroup": "",
         "orientation": "h",
         "showlegend": false,
         "textposition": "auto",
         "type": "bar",
         "x": [
          0.5142,
          0.4612,
          0.4453,
          0.4025,
          0.4002,
          0.3882,
          0.3682,
          0.3434,
          0.3199,
          0.3177
         ],
         "xaxis": "x7",
         "y": [
          "rain",
          "flood",
          "rainfall",
          "bureau",
          "temperatures",
          "weather",
          "flooding",
          "south",
          "nsw",
          "water"
         ],
         "yaxis": "y7"
        },
        {
         "alignmentgroup": "True",
         "hovertemplate": "Topic Cluster=Education<br>Weight=%{x}<br>Term=%{y}<extra></extra>",
         "legendgroup": "",
         "marker": {
          "color": "#636efa",
          "pattern": {
           "shape": ""
          }
         },
         "name": "",
         "offsetgroup": "",
         "orientation": "h",
         "showlegend": false,
         "textposition": "auto",
         "type": "bar",
         "x": [
          1.5566,
          1.358,
          1.0076,
          0.8643,
          0.6398,
          0.63,
          0.5667,
          0.4741,
          0.4395,
          0.3307
         ],
         "xaxis": "x8",
         "y": [
          "students",
          "schools",
          "school",
          "education",
          "funding",
          "universities",
          "university",
          "student",
          "teachers",
          "public schools"
         ],
         "yaxis": "y8"
        },
        {
         "alignmentgroup": "True",
         "hovertemplate": "Topic Cluster=Domestic Violence<br>Weight=%{x}<br>Term=%{y}<extra></extra>",
         "legendgroup": "",
         "marker": {
          "color": "#636efa",
          "pattern": {
           "shape": ""
          }
         },
         "name": "",
         "offsetgroup": "",
         "orientation": "h",
         "showlegend": false,
         "textposition": "auto",
         "type": "bar",
         "x": [
          1.0268,
          0.8212,
          0.7018,
          0.654,
          0.3471,
          0.2867,
          0.2801,
          0.2179,
          0.1948,
          0.1919
         ],
         "xaxis": "x9",
         "y": [
          "violence",
          "women",
          "domestic",
          "domestic violence",
          "family violence",
          "family",
          "abortion",
          "sexual",
          "victims",
          "inquiry"
         ],
         "yaxis": "y9"
        },
        {
         "alignmentgroup": "True",
         "hovertemplate": "Topic Cluster=Sport<br>Weight=%{x}<br>Term=%{y}<extra></extra>",
         "legendgroup": "",
         "marker": {
          "color": "#636efa",
          "pattern": {
           "shape": ""
          }
         },
         "name": "",
         "offsetgroup": "",
         "orientation": "h",
         "showlegend": false,
         "textposition": "auto",
         "type": "bar",
         "x": [
          0.8445,
          0.6871,
          0.4776,
          0.4703,
          0.4124,
          0.4038,
          0.3748,
          0.367,
          0.3574,
          0.3126
         ],
         "xaxis": "x10",
         "y": [
          "rugby",
          "game",
          "players",
          "league",
          "origin",
          "nrl",
          "season",
          "super",
          "team",
          "super rugby"
         ],
         "yaxis": "y10"
        },
        {
         "alignmentgroup": "True",
         "hovertemplate": "Topic Cluster=Cost of Living<br>Weight=%{x}<br>Term=%{y}<extra></extra>",
         "legendgroup": "",
         "marker": {
          "color": "#636efa",
          "pattern": {
           "shape": ""
          }
         },
         "name": "",
         "offsetgroup": "",
         "orientation": "h",
         "showlegend": false,
         "textposition": "auto",
         "type": "bar",
         "x": [
          0.6855,
          0.6503,
          0.5296,
          0.4873,
          0.447,
          0.3839,
          0.3605,
          0.3591,
          0.3429,
          0.3173
         ],
         "xaxis": "x",
         "y": [
          "tax",
          "housing",
          "budget",
          "rate",
          "government",
          "income",
          "growth",
          "inflation",
          "rent",
          "economy"
         ],
         "yaxis": "y"
        },
        {
         "alignmentgroup": "True",
         "hovertemplate": "Topic Cluster=Other<br>Weight=%{x}<br>Term=%{y}<extra></extra>",
         "legendgroup": "",
         "marker": {
          "color": "#636efa",
          "pattern": {
           "shape": ""
          }
         },
         "name": "",
         "offsetgroup": "",
         "orientation": "h",
         "showlegend": false,
         "textposition": "auto",
         "type": "bar",
         "x": [
          0.4332,
          0.3945,
          0.3635,
          0.3383,
          0.3077,
          0.3051,
          0.305,
          0.2868,
          0.2833,
          0.2641
         ],
         "xaxis": "x2",
         "y": [
          "trump",
          "world",
          "morning",
          "news",
          "sign",
          "writes",
          "mail",
          "media",
          "australian",
          "reports"
         ],
         "yaxis": "y2"
        },
        {
         "alignmentgroup": "True",
         "hovertemplate": "Topic Cluster=Climate Change<br>Weight=%{x}<br>Term=%{y}<extra></extra>",
         "legendgroup": "",
         "marker": {
          "color": "#636efa",
          "pattern": {
           "shape": ""
          }
         },
         "name": "",
         "offsetgroup": "",
         "orientation": "h",
         "showlegend": false,
         "textposition": "auto",
         "type": "bar",
         "x": [
          1.6437,
          1.3935,
          0.7735,
          0.6206,
          0.6011,
          0.4192,
          0.3863,
          0.3753,
          0.3622,
          0.3098
         ],
         "xaxis": "x3",
         "y": [
          "climate",
          "emissions",
          "climate change",
          "change",
          "carbon",
          "net zero",
          "zero",
          "net",
          "target",
          "reduction"
         ],
         "yaxis": "y3"
        },
        {
         "alignmentgroup": "True",
         "hovertemplate": "Topic Cluster=First Nation<br>Weight=%{x}<br>Term=%{y}<extra></extra>",
         "legendgroup": "",
         "marker": {
          "color": "#636efa",
          "pattern": {
           "shape": ""
          }
         },
         "name": "",
         "offsetgroup": "",
         "orientation": "h",
         "showlegend": false,
         "textposition": "auto",
         "type": "bar",
         "x": [
          1.0924,
          1.0563,
          0.5474,
          0.4682,
          0.4649,
          0.4609,
          0.4289,
          0.4124,
          0.3878,
          0.385
         ],
         "xaxis": "x4",
         "y": [
          "indigenous",
          "aboriginal",
          "voice",
          "torres",
          "torres strait",
          "strait",
          "people",
          "treaty",
          "islander",
          "aboriginal torres"
         ],
         "yaxis": "y4"
        },
        {
         "alignmentgroup": "True",
         "hovertemplate": "Topic Cluster=COVID 2<br>Weight=%{x}<br>Term=%{y}<extra></extra>",
         "legendgroup": "",
         "marker": {
          "color": "#636efa",
          "pattern": {
           "shape": ""
          }
         },
         "name": "",
         "offsetgroup": "",
         "orientation": "h",
         "showlegend": false,
         "textposition": "auto",
         "type": "bar",
         "x": [
          1.5977,
          0.8056,
          0.6335,
          0.6105,
          0.5746,
          0.5544,
          0.5491,
          0.5485,
          0.3816,
          0.3103
         ],
         "xaxis": "x5",
         "y": [
          "vaccine",
          "vaccination",
          "astrazeneca",
          "vaccinated",
          "doses",
          "vaccines",
          "covid",
          "pfizer",
          "rollout",
          "health"
         ],
         "yaxis": "y5"
        }
       ],
       "layout": {
        "annotations": [
         {
          "font": {},
          "showarrow": false,
          "text": "Cost of Living",
          "x": 0.09200000000000001,
          "xanchor": "center",
          "xref": "paper",
          "y": 0.1975,
          "yanchor": "bottom",
          "yref": "paper"
         },
         {
          "font": {},
          "showarrow": false,
          "text": "Other",
          "x": 0.29600000000000004,
          "xanchor": "center",
          "xref": "paper",
          "y": 0.1975,
          "yanchor": "bottom",
          "yref": "paper"
         },
         {
          "font": {},
          "showarrow": false,
          "text": "Climate Change",
          "x": 0.5,
          "xanchor": "center",
          "xref": "paper",
          "y": 0.1975,
          "yanchor": "bottom",
          "yref": "paper"
         },
         {
          "font": {},
          "showarrow": false,
          "text": "First Nation",
          "x": 0.7040000000000002,
          "xanchor": "center",
          "xref": "paper",
          "y": 0.1975,
          "yanchor": "bottom",
          "yref": "paper"
         },
         {
          "font": {},
          "showarrow": false,
          "text": "COVID 2",
          "x": 0.908,
          "xanchor": "center",
          "xref": "paper",
          "y": 0.1975,
          "yanchor": "bottom",
          "yref": "paper"
         },
         {
          "font": {},
          "showarrow": false,
          "text": "Great Barrier Reef",
          "x": 0.09200000000000001,
          "xanchor": "center",
          "xref": "paper",
          "y": 0.465,
          "yanchor": "bottom",
          "yref": "paper"
         },
         {
          "font": {},
          "showarrow": false,
          "text": "Flood",
          "x": 0.29600000000000004,
          "xanchor": "center",
          "xref": "paper",
          "y": 0.465,
          "yanchor": "bottom",
          "yref": "paper"
         },
         {
          "font": {},
          "showarrow": false,
          "text": "Education",
          "x": 0.5,
          "xanchor": "center",
          "xref": "paper",
          "y": 0.465,
          "yanchor": "bottom",
          "yref": "paper"
         },
         {
          "font": {},
          "showarrow": false,
          "text": "Domestic Violence",
          "x": 0.7040000000000002,
          "xanchor": "center",
          "xref": "paper",
          "y": 0.465,
          "yanchor": "bottom",
          "yref": "paper"
         },
         {
          "font": {},
          "showarrow": false,
          "text": "Sport",
          "x": 0.908,
          "xanchor": "center",
          "xref": "paper",
          "y": 0.465,
          "yanchor": "bottom",
          "yref": "paper"
         },
         {
          "font": {},
          "showarrow": false,
          "text": "COVID 1",
          "x": 0.09200000000000001,
          "xanchor": "center",
          "xref": "paper",
          "y": 0.7325,
          "yanchor": "bottom",
          "yref": "paper"
         },
         {
          "font": {},
          "showarrow": false,
          "text": "Aged Care",
          "x": 0.29600000000000004,
          "xanchor": "center",
          "xref": "paper",
          "y": 0.7325,
          "yanchor": "bottom",
          "yref": "paper"
         },
         {
          "font": {},
          "showarrow": false,
          "text": "Mining",
          "x": 0.5,
          "xanchor": "center",
          "xref": "paper",
          "y": 0.7325,
          "yanchor": "bottom",
          "yref": "paper"
         },
         {
          "font": {},
          "showarrow": false,
          "text": "Power",
          "x": 0.7040000000000002,
          "xanchor": "center",
          "xref": "paper",
          "y": 0.7325,
          "yanchor": "bottom",
          "yref": "paper"
         },
         {
          "font": {},
          "showarrow": false,
          "text": "Police",
          "x": 0.908,
          "xanchor": "center",
          "xref": "paper",
          "y": 0.7325,
          "yanchor": "bottom",
          "yref": "paper"
         },
         {
          "font": {},
          "showarrow": false,
          "text": "Politics 1",
          "x": 0.09200000000000001,
          "xanchor": "center",
          "xref": "paper",
          "y": 1,
          "yanchor": "bottom",
          "yref": "paper"
         },
         {
          "font": {},
          "showarrow": false,
          "text": "Youth Crime",
          "x": 0.29600000000000004,
          "xanchor": "center",
          "xref": "paper",
          "y": 1,
          "yanchor": "bottom",
          "yref": "paper"
         },
         {
          "font": {},
          "showarrow": false,
          "text": "Family",
          "x": 0.5,
          "xanchor": "center",
          "xref": "paper",
          "y": 1,
          "yanchor": "bottom",
          "yref": "paper"
         },
         {
          "font": {},
          "showarrow": false,
          "text": "Politics 2",
          "x": 0.7040000000000002,
          "xanchor": "center",
          "xref": "paper",
          "y": 1,
          "yanchor": "bottom",
          "yref": "paper"
         },
         {
          "font": {},
          "showarrow": false,
          "text": "Environment",
          "x": 0.908,
          "xanchor": "center",
          "xref": "paper",
          "y": 1,
          "yanchor": "bottom",
          "yref": "paper"
         }
        ],
        "barmode": "relative",
        "height": 1000,
        "legend": {
         "title": {
          "font": {
           "size": 15
          }
         },
         "tracegroupgap": 0
        },
        "template": {
         "data": {
          "bar": [
           {
            "error_x": {
             "color": "#2a3f5f"
            },
            "error_y": {
             "color": "#2a3f5f"
            },
            "marker": {
             "line": {
              "color": "#E5ECF6",
              "width": 0.5
             },
             "pattern": {
              "fillmode": "overlay",
              "size": 10,
              "solidity": 0.2
             }
            },
            "type": "bar"
           }
          ],
          "barpolar": [
           {
            "marker": {
             "line": {
              "color": "#E5ECF6",
              "width": 0.5
             },
             "pattern": {
              "fillmode": "overlay",
              "size": 10,
              "solidity": 0.2
             }
            },
            "type": "barpolar"
           }
          ],
          "carpet": [
           {
            "aaxis": {
             "endlinecolor": "#2a3f5f",
             "gridcolor": "white",
             "linecolor": "white",
             "minorgridcolor": "white",
             "startlinecolor": "#2a3f5f"
            },
            "baxis": {
             "endlinecolor": "#2a3f5f",
             "gridcolor": "white",
             "linecolor": "white",
             "minorgridcolor": "white",
             "startlinecolor": "#2a3f5f"
            },
            "type": "carpet"
           }
          ],
          "choropleth": [
           {
            "colorbar": {
             "outlinewidth": 0,
             "ticks": ""
            },
            "type": "choropleth"
           }
          ],
          "contour": [
           {
            "colorbar": {
             "outlinewidth": 0,
             "ticks": ""
            },
            "colorscale": [
             [
              0,
              "#0d0887"
             ],
             [
              0.1111111111111111,
              "#46039f"
             ],
             [
              0.2222222222222222,
              "#7201a8"
             ],
             [
              0.3333333333333333,
              "#9c179e"
             ],
             [
              0.4444444444444444,
              "#bd3786"
             ],
             [
              0.5555555555555556,
              "#d8576b"
             ],
             [
              0.6666666666666666,
              "#ed7953"
             ],
             [
              0.7777777777777778,
              "#fb9f3a"
             ],
             [
              0.8888888888888888,
              "#fdca26"
             ],
             [
              1,
              "#f0f921"
             ]
            ],
            "type": "contour"
           }
          ],
          "contourcarpet": [
           {
            "colorbar": {
             "outlinewidth": 0,
             "ticks": ""
            },
            "type": "contourcarpet"
           }
          ],
          "heatmap": [
           {
            "colorbar": {
             "outlinewidth": 0,
             "ticks": ""
            },
            "colorscale": [
             [
              0,
              "#0d0887"
             ],
             [
              0.1111111111111111,
              "#46039f"
             ],
             [
              0.2222222222222222,
              "#7201a8"
             ],
             [
              0.3333333333333333,
              "#9c179e"
             ],
             [
              0.4444444444444444,
              "#bd3786"
             ],
             [
              0.5555555555555556,
              "#d8576b"
             ],
             [
              0.6666666666666666,
              "#ed7953"
             ],
             [
              0.7777777777777778,
              "#fb9f3a"
             ],
             [
              0.8888888888888888,
              "#fdca26"
             ],
             [
              1,
              "#f0f921"
             ]
            ],
            "type": "heatmap"
           }
          ],
          "heatmapgl": [
           {
            "colorbar": {
             "outlinewidth": 0,
             "ticks": ""
            },
            "colorscale": [
             [
              0,
              "#0d0887"
             ],
             [
              0.1111111111111111,
              "#46039f"
             ],
             [
              0.2222222222222222,
              "#7201a8"
             ],
             [
              0.3333333333333333,
              "#9c179e"
             ],
             [
              0.4444444444444444,
              "#bd3786"
             ],
             [
              0.5555555555555556,
              "#d8576b"
             ],
             [
              0.6666666666666666,
              "#ed7953"
             ],
             [
              0.7777777777777778,
              "#fb9f3a"
             ],
             [
              0.8888888888888888,
              "#fdca26"
             ],
             [
              1,
              "#f0f921"
             ]
            ],
            "type": "heatmapgl"
           }
          ],
          "histogram": [
           {
            "marker": {
             "pattern": {
              "fillmode": "overlay",
              "size": 10,
              "solidity": 0.2
             }
            },
            "type": "histogram"
           }
          ],
          "histogram2d": [
           {
            "colorbar": {
             "outlinewidth": 0,
             "ticks": ""
            },
            "colorscale": [
             [
              0,
              "#0d0887"
             ],
             [
              0.1111111111111111,
              "#46039f"
             ],
             [
              0.2222222222222222,
              "#7201a8"
             ],
             [
              0.3333333333333333,
              "#9c179e"
             ],
             [
              0.4444444444444444,
              "#bd3786"
             ],
             [
              0.5555555555555556,
              "#d8576b"
             ],
             [
              0.6666666666666666,
              "#ed7953"
             ],
             [
              0.7777777777777778,
              "#fb9f3a"
             ],
             [
              0.8888888888888888,
              "#fdca26"
             ],
             [
              1,
              "#f0f921"
             ]
            ],
            "type": "histogram2d"
           }
          ],
          "histogram2dcontour": [
           {
            "colorbar": {
             "outlinewidth": 0,
             "ticks": ""
            },
            "colorscale": [
             [
              0,
              "#0d0887"
             ],
             [
              0.1111111111111111,
              "#46039f"
             ],
             [
              0.2222222222222222,
              "#7201a8"
             ],
             [
              0.3333333333333333,
              "#9c179e"
             ],
             [
              0.4444444444444444,
              "#bd3786"
             ],
             [
              0.5555555555555556,
              "#d8576b"
             ],
             [
              0.6666666666666666,
              "#ed7953"
             ],
             [
              0.7777777777777778,
              "#fb9f3a"
             ],
             [
              0.8888888888888888,
              "#fdca26"
             ],
             [
              1,
              "#f0f921"
             ]
            ],
            "type": "histogram2dcontour"
           }
          ],
          "mesh3d": [
           {
            "colorbar": {
             "outlinewidth": 0,
             "ticks": ""
            },
            "type": "mesh3d"
           }
          ],
          "parcoords": [
           {
            "line": {
             "colorbar": {
              "outlinewidth": 0,
              "ticks": ""
             }
            },
            "type": "parcoords"
           }
          ],
          "pie": [
           {
            "automargin": true,
            "type": "pie"
           }
          ],
          "scatter": [
           {
            "fillpattern": {
             "fillmode": "overlay",
             "size": 10,
             "solidity": 0.2
            },
            "type": "scatter"
           }
          ],
          "scatter3d": [
           {
            "line": {
             "colorbar": {
              "outlinewidth": 0,
              "ticks": ""
             }
            },
            "marker": {
             "colorbar": {
              "outlinewidth": 0,
              "ticks": ""
             }
            },
            "type": "scatter3d"
           }
          ],
          "scattercarpet": [
           {
            "marker": {
             "colorbar": {
              "outlinewidth": 0,
              "ticks": ""
             }
            },
            "type": "scattercarpet"
           }
          ],
          "scattergeo": [
           {
            "marker": {
             "colorbar": {
              "outlinewidth": 0,
              "ticks": ""
             }
            },
            "type": "scattergeo"
           }
          ],
          "scattergl": [
           {
            "marker": {
             "colorbar": {
              "outlinewidth": 0,
              "ticks": ""
             }
            },
            "type": "scattergl"
           }
          ],
          "scattermapbox": [
           {
            "marker": {
             "colorbar": {
              "outlinewidth": 0,
              "ticks": ""
             }
            },
            "type": "scattermapbox"
           }
          ],
          "scatterpolar": [
           {
            "marker": {
             "colorbar": {
              "outlinewidth": 0,
              "ticks": ""
             }
            },
            "type": "scatterpolar"
           }
          ],
          "scatterpolargl": [
           {
            "marker": {
             "colorbar": {
              "outlinewidth": 0,
              "ticks": ""
             }
            },
            "type": "scatterpolargl"
           }
          ],
          "scatterternary": [
           {
            "marker": {
             "colorbar": {
              "outlinewidth": 0,
              "ticks": ""
             }
            },
            "type": "scatterternary"
           }
          ],
          "surface": [
           {
            "colorbar": {
             "outlinewidth": 0,
             "ticks": ""
            },
            "colorscale": [
             [
              0,
              "#0d0887"
             ],
             [
              0.1111111111111111,
              "#46039f"
             ],
             [
              0.2222222222222222,
              "#7201a8"
             ],
             [
              0.3333333333333333,
              "#9c179e"
             ],
             [
              0.4444444444444444,
              "#bd3786"
             ],
             [
              0.5555555555555556,
              "#d8576b"
             ],
             [
              0.6666666666666666,
              "#ed7953"
             ],
             [
              0.7777777777777778,
              "#fb9f3a"
             ],
             [
              0.8888888888888888,
              "#fdca26"
             ],
             [
              1,
              "#f0f921"
             ]
            ],
            "type": "surface"
           }
          ],
          "table": [
           {
            "cells": {
             "fill": {
              "color": "#EBF0F8"
             },
             "line": {
              "color": "white"
             }
            },
            "header": {
             "fill": {
              "color": "#C8D4E3"
             },
             "line": {
              "color": "white"
             }
            },
            "type": "table"
           }
          ]
         },
         "layout": {
          "annotationdefaults": {
           "arrowcolor": "#2a3f5f",
           "arrowhead": 0,
           "arrowwidth": 1
          },
          "autotypenumbers": "strict",
          "coloraxis": {
           "colorbar": {
            "outlinewidth": 0,
            "ticks": ""
           }
          },
          "colorscale": {
           "diverging": [
            [
             0,
             "#8e0152"
            ],
            [
             0.1,
             "#c51b7d"
            ],
            [
             0.2,
             "#de77ae"
            ],
            [
             0.3,
             "#f1b6da"
            ],
            [
             0.4,
             "#fde0ef"
            ],
            [
             0.5,
             "#f7f7f7"
            ],
            [
             0.6,
             "#e6f5d0"
            ],
            [
             0.7,
             "#b8e186"
            ],
            [
             0.8,
             "#7fbc41"
            ],
            [
             0.9,
             "#4d9221"
            ],
            [
             1,
             "#276419"
            ]
           ],
           "sequential": [
            [
             0,
             "#0d0887"
            ],
            [
             0.1111111111111111,
             "#46039f"
            ],
            [
             0.2222222222222222,
             "#7201a8"
            ],
            [
             0.3333333333333333,
             "#9c179e"
            ],
            [
             0.4444444444444444,
             "#bd3786"
            ],
            [
             0.5555555555555556,
             "#d8576b"
            ],
            [
             0.6666666666666666,
             "#ed7953"
            ],
            [
             0.7777777777777778,
             "#fb9f3a"
            ],
            [
             0.8888888888888888,
             "#fdca26"
            ],
            [
             1,
             "#f0f921"
            ]
           ],
           "sequentialminus": [
            [
             0,
             "#0d0887"
            ],
            [
             0.1111111111111111,
             "#46039f"
            ],
            [
             0.2222222222222222,
             "#7201a8"
            ],
            [
             0.3333333333333333,
             "#9c179e"
            ],
            [
             0.4444444444444444,
             "#bd3786"
            ],
            [
             0.5555555555555556,
             "#d8576b"
            ],
            [
             0.6666666666666666,
             "#ed7953"
            ],
            [
             0.7777777777777778,
             "#fb9f3a"
            ],
            [
             0.8888888888888888,
             "#fdca26"
            ],
            [
             1,
             "#f0f921"
            ]
           ]
          },
          "colorway": [
           "#636efa",
           "#EF553B",
           "#00cc96",
           "#ab63fa",
           "#FFA15A",
           "#19d3f3",
           "#FF6692",
           "#B6E880",
           "#FF97FF",
           "#FECB52"
          ],
          "font": {
           "color": "#2a3f5f"
          },
          "geo": {
           "bgcolor": "white",
           "lakecolor": "white",
           "landcolor": "#E5ECF6",
           "showlakes": true,
           "showland": true,
           "subunitcolor": "white"
          },
          "hoverlabel": {
           "align": "left"
          },
          "hovermode": "closest",
          "mapbox": {
           "style": "light"
          },
          "paper_bgcolor": "white",
          "plot_bgcolor": "#E5ECF6",
          "polar": {
           "angularaxis": {
            "gridcolor": "white",
            "linecolor": "white",
            "ticks": ""
           },
           "bgcolor": "#E5ECF6",
           "radialaxis": {
            "gridcolor": "white",
            "linecolor": "white",
            "ticks": ""
           }
          },
          "scene": {
           "xaxis": {
            "backgroundcolor": "#E5ECF6",
            "gridcolor": "white",
            "gridwidth": 2,
            "linecolor": "white",
            "showbackground": true,
            "ticks": "",
            "zerolinecolor": "white"
           },
           "yaxis": {
            "backgroundcolor": "#E5ECF6",
            "gridcolor": "white",
            "gridwidth": 2,
            "linecolor": "white",
            "showbackground": true,
            "ticks": "",
            "zerolinecolor": "white"
           },
           "zaxis": {
            "backgroundcolor": "#E5ECF6",
            "gridcolor": "white",
            "gridwidth": 2,
            "linecolor": "white",
            "showbackground": true,
            "ticks": "",
            "zerolinecolor": "white"
           }
          },
          "shapedefaults": {
           "line": {
            "color": "#2a3f5f"
           }
          },
          "ternary": {
           "aaxis": {
            "gridcolor": "white",
            "linecolor": "white",
            "ticks": ""
           },
           "baxis": {
            "gridcolor": "white",
            "linecolor": "white",
            "ticks": ""
           },
           "bgcolor": "#E5ECF6",
           "caxis": {
            "gridcolor": "white",
            "linecolor": "white",
            "ticks": ""
           }
          },
          "title": {
           "x": 0.05
          },
          "xaxis": {
           "automargin": true,
           "gridcolor": "white",
           "linecolor": "white",
           "ticks": "",
           "title": {
            "standoff": 15
           },
           "zerolinecolor": "white",
           "zerolinewidth": 2
          },
          "yaxis": {
           "automargin": true,
           "gridcolor": "white",
           "linecolor": "white",
           "ticks": "",
           "title": {
            "standoff": 15
           },
           "zerolinecolor": "white",
           "zerolinewidth": 2
          }
         }
        },
        "title": {
         "font": {
          "size": 25
         },
         "text": "Total Contractual Commitment ($ GST excl.) by Local Government Area",
         "x": 0.5
        },
        "xaxis": {
         "anchor": "y",
         "domain": [
          0,
          0.18400000000000002
         ],
         "title": {
          "text": "Weight"
         }
        },
        "xaxis10": {
         "anchor": "y10",
         "domain": [
          0.8160000000000001,
          1
         ],
         "matches": "x",
         "showticklabels": false
        },
        "xaxis11": {
         "anchor": "y11",
         "domain": [
          0,
          0.18400000000000002
         ],
         "matches": "x",
         "showticklabels": false
        },
        "xaxis12": {
         "anchor": "y12",
         "domain": [
          0.20400000000000001,
          0.388
         ],
         "matches": "x",
         "showticklabels": false
        },
        "xaxis13": {
         "anchor": "y13",
         "domain": [
          0.40800000000000003,
          0.5920000000000001
         ],
         "matches": "x",
         "showticklabels": false
        },
        "xaxis14": {
         "anchor": "y14",
         "domain": [
          0.6120000000000001,
          0.7960000000000002
         ],
         "matches": "x",
         "showticklabels": false
        },
        "xaxis15": {
         "anchor": "y15",
         "domain": [
          0.8160000000000001,
          1
         ],
         "matches": "x",
         "showticklabels": false
        },
        "xaxis16": {
         "anchor": "y16",
         "domain": [
          0,
          0.18400000000000002
         ],
         "matches": "x",
         "showticklabels": false
        },
        "xaxis17": {
         "anchor": "y17",
         "domain": [
          0.20400000000000001,
          0.388
         ],
         "matches": "x",
         "showticklabels": false
        },
        "xaxis18": {
         "anchor": "y18",
         "domain": [
          0.40800000000000003,
          0.5920000000000001
         ],
         "matches": "x",
         "showticklabels": false
        },
        "xaxis19": {
         "anchor": "y19",
         "domain": [
          0.6120000000000001,
          0.7960000000000002
         ],
         "matches": "x",
         "showticklabels": false
        },
        "xaxis2": {
         "anchor": "y2",
         "domain": [
          0.20400000000000001,
          0.388
         ],
         "matches": "x",
         "title": {
          "text": "Weight"
         }
        },
        "xaxis20": {
         "anchor": "y20",
         "domain": [
          0.8160000000000001,
          1
         ],
         "matches": "x",
         "showticklabels": false
        },
        "xaxis3": {
         "anchor": "y3",
         "domain": [
          0.40800000000000003,
          0.5920000000000001
         ],
         "matches": "x",
         "title": {
          "text": "Weight"
         }
        },
        "xaxis4": {
         "anchor": "y4",
         "domain": [
          0.6120000000000001,
          0.7960000000000002
         ],
         "matches": "x",
         "title": {
          "text": "Weight"
         }
        },
        "xaxis5": {
         "anchor": "y5",
         "domain": [
          0.8160000000000001,
          1
         ],
         "matches": "x",
         "title": {
          "text": "Weight"
         }
        },
        "xaxis6": {
         "anchor": "y6",
         "domain": [
          0,
          0.18400000000000002
         ],
         "matches": "x",
         "showticklabels": false
        },
        "xaxis7": {
         "anchor": "y7",
         "domain": [
          0.20400000000000001,
          0.388
         ],
         "matches": "x",
         "showticklabels": false
        },
        "xaxis8": {
         "anchor": "y8",
         "domain": [
          0.40800000000000003,
          0.5920000000000001
         ],
         "matches": "x",
         "showticklabels": false
        },
        "xaxis9": {
         "anchor": "y9",
         "domain": [
          0.6120000000000001,
          0.7960000000000002
         ],
         "matches": "x",
         "showticklabels": false
        },
        "yaxis": {
         "anchor": "x",
         "domain": [
          0,
          0.1975
         ],
         "showticklabels": true,
         "title": {
          "text": "Term"
         }
        },
        "yaxis10": {
         "anchor": "x10",
         "domain": [
          0.2675,
          0.465
         ],
         "showticklabels": true
        },
        "yaxis11": {
         "anchor": "x11",
         "domain": [
          0.535,
          0.7325
         ],
         "showticklabels": true,
         "title": {
          "text": "Term"
         }
        },
        "yaxis12": {
         "anchor": "x12",
         "domain": [
          0.535,
          0.7325
         ],
         "showticklabels": true
        },
        "yaxis13": {
         "anchor": "x13",
         "domain": [
          0.535,
          0.7325
         ],
         "showticklabels": true
        },
        "yaxis14": {
         "anchor": "x14",
         "domain": [
          0.535,
          0.7325
         ],
         "showticklabels": true
        },
        "yaxis15": {
         "anchor": "x15",
         "domain": [
          0.535,
          0.7325
         ],
         "showticklabels": true
        },
        "yaxis16": {
         "anchor": "x16",
         "domain": [
          0.8025,
          1
         ],
         "showticklabels": true,
         "title": {
          "text": "Term"
         }
        },
        "yaxis17": {
         "anchor": "x17",
         "domain": [
          0.8025,
          1
         ],
         "showticklabels": true
        },
        "yaxis18": {
         "anchor": "x18",
         "domain": [
          0.8025,
          1
         ],
         "showticklabels": true
        },
        "yaxis19": {
         "anchor": "x19",
         "domain": [
          0.8025,
          1
         ],
         "showticklabels": true
        },
        "yaxis2": {
         "anchor": "x2",
         "domain": [
          0,
          0.1975
         ],
         "showticklabels": true
        },
        "yaxis20": {
         "anchor": "x20",
         "domain": [
          0.8025,
          1
         ],
         "showticklabels": true
        },
        "yaxis3": {
         "anchor": "x3",
         "domain": [
          0,
          0.1975
         ],
         "showticklabels": true
        },
        "yaxis4": {
         "anchor": "x4",
         "domain": [
          0,
          0.1975
         ],
         "showticklabels": true
        },
        "yaxis5": {
         "anchor": "x5",
         "domain": [
          0,
          0.1975
         ],
         "showticklabels": true
        },
        "yaxis6": {
         "anchor": "x6",
         "domain": [
          0.2675,
          0.465
         ],
         "showticklabels": true,
         "title": {
          "text": "Term"
         }
        },
        "yaxis7": {
         "anchor": "x7",
         "domain": [
          0.2675,
          0.465
         ],
         "showticklabels": true
        },
        "yaxis8": {
         "anchor": "x8",
         "domain": [
          0.2675,
          0.465
         ],
         "showticklabels": true
        },
        "yaxis9": {
         "anchor": "x9",
         "domain": [
          0.2675,
          0.465
         ],
         "showticklabels": true
        }
       }
      }
     },
     "metadata": {},
     "output_type": "display_data"
    }
   ],
   "source": [
    "# Your answer here\n",
    "\n",
    "\n",
    "\n",
    "\n",
    "nmf_topic_terms_fig = px.bar(nmf_terms_df,\n",
    "       x =\"Weight\",\n",
    "       y = \"Term\",\n",
    "       facet_col=\"Topic Cluster\", \n",
    "       facet_col_wrap=5,\n",
    "       orientation='h',\n",
    "       title = \"Total Contractual Commitment ($ GST excl.) by Local Government Area\",\n",
    "       labels = {\"Local Government Area (LGA)\": \"Local Government Area\", \n",
    "                 \"Total Contractual Commitment ($ GST excl.)\": \"Contractual Commitment ($ GST excl.)\"})\n",
    "\n",
    "nmf_topic_terms_fig.update_layout(\n",
    "    title_font_size=25,\n",
    "    title_x=0.5,\n",
    "    legend_title_font_size=15,\n",
    "    height=1000\n",
    ")\n",
    "nmf_topic_terms_fig.for_each_annotation(lambda a: a.update(text=a.text.split(\"=\")[-1])) # https://plotly.com/python/facet-plots/\n",
    "nmf_topic_terms_fig.update_yaxes(showticklabels=True, matches=None)\n",
    "\n"
   ]
  },
  {
   "cell_type": "code",
   "execution_count": 9,
   "id": "eb8a9867",
   "metadata": {},
   "outputs": [
    {
     "data": {
      "text/html": [
       "<div>\n",
       "<style scoped>\n",
       "    .dataframe tbody tr th:only-of-type {\n",
       "        vertical-align: middle;\n",
       "    }\n",
       "\n",
       "    .dataframe tbody tr th {\n",
       "        vertical-align: top;\n",
       "    }\n",
       "\n",
       "    .dataframe thead th {\n",
       "        text-align: right;\n",
       "    }\n",
       "</style>\n",
       "<table border=\"1\" class=\"dataframe\">\n",
       "  <thead>\n",
       "    <tr style=\"text-align: right;\">\n",
       "      <th></th>\n",
       "      <th>index</th>\n",
       "      <th>Politics 1</th>\n",
       "      <th>Youth Crime</th>\n",
       "      <th>Family</th>\n",
       "      <th>Politics 2</th>\n",
       "      <th>Environment</th>\n",
       "      <th>COVID 1</th>\n",
       "      <th>Aged Care</th>\n",
       "      <th>Mining</th>\n",
       "      <th>Power</th>\n",
       "      <th>...</th>\n",
       "      <th>Great Barrier Reef</th>\n",
       "      <th>Flood</th>\n",
       "      <th>Education</th>\n",
       "      <th>Domestic Violence</th>\n",
       "      <th>Sport</th>\n",
       "      <th>Cost of Living</th>\n",
       "      <th>Other</th>\n",
       "      <th>Climate Change</th>\n",
       "      <th>First Nation</th>\n",
       "      <th>COVID 2</th>\n",
       "    </tr>\n",
       "  </thead>\n",
       "  <tbody>\n",
       "    <tr>\n",
       "      <th>0</th>\n",
       "      <td>Queensland premier wedged as casino operator f...</td>\n",
       "      <td>0.000000</td>\n",
       "      <td>0.023006</td>\n",
       "      <td>0.025470</td>\n",
       "      <td>0.057121</td>\n",
       "      <td>0.000000</td>\n",
       "      <td>0.004943</td>\n",
       "      <td>0.000000</td>\n",
       "      <td>0.011313</td>\n",
       "      <td>0.003915</td>\n",
       "      <td>...</td>\n",
       "      <td>0.000045</td>\n",
       "      <td>0.000000</td>\n",
       "      <td>0.000000</td>\n",
       "      <td>0.000000</td>\n",
       "      <td>0.011754</td>\n",
       "      <td>0.048578</td>\n",
       "      <td>0.006951</td>\n",
       "      <td>0.000000</td>\n",
       "      <td>0.000000</td>\n",
       "      <td>0.000000</td>\n",
       "    </tr>\n",
       "    <tr>\n",
       "      <th>1</th>\n",
       "      <td>Baby scalded with hot liquid in Brisbane park ...</td>\n",
       "      <td>0.000000</td>\n",
       "      <td>0.008911</td>\n",
       "      <td>0.075376</td>\n",
       "      <td>0.000000</td>\n",
       "      <td>0.000000</td>\n",
       "      <td>0.000000</td>\n",
       "      <td>0.000000</td>\n",
       "      <td>0.000000</td>\n",
       "      <td>0.000000</td>\n",
       "      <td>...</td>\n",
       "      <td>0.000000</td>\n",
       "      <td>0.000925</td>\n",
       "      <td>0.000000</td>\n",
       "      <td>0.000000</td>\n",
       "      <td>0.000000</td>\n",
       "      <td>0.000000</td>\n",
       "      <td>0.000000</td>\n",
       "      <td>0.000000</td>\n",
       "      <td>0.000000</td>\n",
       "      <td>0.000000</td>\n",
       "    </tr>\n",
       "    <tr>\n",
       "      <th>2</th>\n",
       "      <td>Man dead after accident at central Queensland ...</td>\n",
       "      <td>0.000000</td>\n",
       "      <td>0.000000</td>\n",
       "      <td>0.013692</td>\n",
       "      <td>0.000000</td>\n",
       "      <td>0.000000</td>\n",
       "      <td>0.000000</td>\n",
       "      <td>0.006315</td>\n",
       "      <td>0.010302</td>\n",
       "      <td>0.004265</td>\n",
       "      <td>...</td>\n",
       "      <td>0.000000</td>\n",
       "      <td>0.003125</td>\n",
       "      <td>0.000000</td>\n",
       "      <td>0.000000</td>\n",
       "      <td>0.000000</td>\n",
       "      <td>0.000000</td>\n",
       "      <td>0.000000</td>\n",
       "      <td>0.001171</td>\n",
       "      <td>0.000000</td>\n",
       "      <td>0.000126</td>\n",
       "    </tr>\n",
       "    <tr>\n",
       "      <th>3</th>\n",
       "      <td>‘It’s okay to poo at work’: Australian health ...</td>\n",
       "      <td>0.000000</td>\n",
       "      <td>0.014390</td>\n",
       "      <td>0.050645</td>\n",
       "      <td>0.003509</td>\n",
       "      <td>0.001530</td>\n",
       "      <td>0.028427</td>\n",
       "      <td>0.012827</td>\n",
       "      <td>0.000000</td>\n",
       "      <td>0.000000</td>\n",
       "      <td>...</td>\n",
       "      <td>0.000577</td>\n",
       "      <td>0.000000</td>\n",
       "      <td>0.006822</td>\n",
       "      <td>0.001656</td>\n",
       "      <td>0.000000</td>\n",
       "      <td>0.006619</td>\n",
       "      <td>0.011636</td>\n",
       "      <td>0.001236</td>\n",
       "      <td>0.006878</td>\n",
       "      <td>0.015117</td>\n",
       "    </tr>\n",
       "    <tr>\n",
       "      <th>4</th>\n",
       "      <td>Queensland budget 2024: the biggest winners an...</td>\n",
       "      <td>0.002218</td>\n",
       "      <td>0.067343</td>\n",
       "      <td>0.000000</td>\n",
       "      <td>0.031064</td>\n",
       "      <td>0.002112</td>\n",
       "      <td>0.008095</td>\n",
       "      <td>0.000000</td>\n",
       "      <td>0.005385</td>\n",
       "      <td>0.032732</td>\n",
       "      <td>...</td>\n",
       "      <td>0.000002</td>\n",
       "      <td>0.003022</td>\n",
       "      <td>0.001812</td>\n",
       "      <td>0.000000</td>\n",
       "      <td>0.004821</td>\n",
       "      <td>0.097726</td>\n",
       "      <td>0.000000</td>\n",
       "      <td>0.000000</td>\n",
       "      <td>0.000000</td>\n",
       "      <td>0.000000</td>\n",
       "    </tr>\n",
       "    <tr>\n",
       "      <th>...</th>\n",
       "      <td>...</td>\n",
       "      <td>...</td>\n",
       "      <td>...</td>\n",
       "      <td>...</td>\n",
       "      <td>...</td>\n",
       "      <td>...</td>\n",
       "      <td>...</td>\n",
       "      <td>...</td>\n",
       "      <td>...</td>\n",
       "      <td>...</td>\n",
       "      <td>...</td>\n",
       "      <td>...</td>\n",
       "      <td>...</td>\n",
       "      <td>...</td>\n",
       "      <td>...</td>\n",
       "      <td>...</td>\n",
       "      <td>...</td>\n",
       "      <td>...</td>\n",
       "      <td>...</td>\n",
       "      <td>...</td>\n",
       "      <td>...</td>\n",
       "    </tr>\n",
       "    <tr>\n",
       "      <th>11861</th>\n",
       "      <td>'We can’t lock young people up': Victoria warn...</td>\n",
       "      <td>0.000000</td>\n",
       "      <td>0.409210</td>\n",
       "      <td>0.001695</td>\n",
       "      <td>0.000000</td>\n",
       "      <td>0.000000</td>\n",
       "      <td>0.005263</td>\n",
       "      <td>0.004330</td>\n",
       "      <td>0.000000</td>\n",
       "      <td>0.001905</td>\n",
       "      <td>...</td>\n",
       "      <td>0.000000</td>\n",
       "      <td>0.003242</td>\n",
       "      <td>0.000000</td>\n",
       "      <td>0.001612</td>\n",
       "      <td>0.002039</td>\n",
       "      <td>0.001831</td>\n",
       "      <td>0.000000</td>\n",
       "      <td>0.002949</td>\n",
       "      <td>0.000000</td>\n",
       "      <td>0.000000</td>\n",
       "    </tr>\n",
       "    <tr>\n",
       "      <th>11862</th>\n",
       "      <td>'He speaks for us': why Tamworth is oozing sym...</td>\n",
       "      <td>0.092632</td>\n",
       "      <td>0.000000</td>\n",
       "      <td>0.082300</td>\n",
       "      <td>0.060249</td>\n",
       "      <td>0.000000</td>\n",
       "      <td>0.000000</td>\n",
       "      <td>0.000000</td>\n",
       "      <td>0.000000</td>\n",
       "      <td>0.000000</td>\n",
       "      <td>...</td>\n",
       "      <td>0.000000</td>\n",
       "      <td>0.000000</td>\n",
       "      <td>0.000000</td>\n",
       "      <td>0.000000</td>\n",
       "      <td>0.001259</td>\n",
       "      <td>0.000000</td>\n",
       "      <td>0.000000</td>\n",
       "      <td>0.001776</td>\n",
       "      <td>0.000000</td>\n",
       "      <td>0.000000</td>\n",
       "    </tr>\n",
       "    <tr>\n",
       "      <th>11863</th>\n",
       "      <td>Cents and sensibility: the cost and meaning of...</td>\n",
       "      <td>0.000000</td>\n",
       "      <td>0.032321</td>\n",
       "      <td>0.104888</td>\n",
       "      <td>0.000000</td>\n",
       "      <td>0.003003</td>\n",
       "      <td>0.000000</td>\n",
       "      <td>0.022768</td>\n",
       "      <td>0.000000</td>\n",
       "      <td>0.004558</td>\n",
       "      <td>...</td>\n",
       "      <td>0.002086</td>\n",
       "      <td>0.008670</td>\n",
       "      <td>0.000000</td>\n",
       "      <td>0.000000</td>\n",
       "      <td>0.000000</td>\n",
       "      <td>0.044395</td>\n",
       "      <td>0.000000</td>\n",
       "      <td>0.000000</td>\n",
       "      <td>0.008301</td>\n",
       "      <td>0.000000</td>\n",
       "    </tr>\n",
       "    <tr>\n",
       "      <th>11864</th>\n",
       "      <td>The full list of Trump's 'under-reported' terr...</td>\n",
       "      <td>0.000000</td>\n",
       "      <td>0.000000</td>\n",
       "      <td>0.006297</td>\n",
       "      <td>0.000000</td>\n",
       "      <td>0.000000</td>\n",
       "      <td>0.000000</td>\n",
       "      <td>0.000000</td>\n",
       "      <td>0.000000</td>\n",
       "      <td>0.001953</td>\n",
       "      <td>...</td>\n",
       "      <td>0.003292</td>\n",
       "      <td>0.000000</td>\n",
       "      <td>0.000000</td>\n",
       "      <td>0.000000</td>\n",
       "      <td>0.000000</td>\n",
       "      <td>0.000000</td>\n",
       "      <td>0.027074</td>\n",
       "      <td>0.016659</td>\n",
       "      <td>0.000000</td>\n",
       "      <td>0.000000</td>\n",
       "    </tr>\n",
       "    <tr>\n",
       "      <th>11865</th>\n",
       "      <td>Death in detention: ‘I'd give everything to ha...</td>\n",
       "      <td>0.013707</td>\n",
       "      <td>0.184543</td>\n",
       "      <td>0.106773</td>\n",
       "      <td>0.000000</td>\n",
       "      <td>0.003274</td>\n",
       "      <td>0.005799</td>\n",
       "      <td>0.009582</td>\n",
       "      <td>0.000000</td>\n",
       "      <td>0.000000</td>\n",
       "      <td>...</td>\n",
       "      <td>0.000000</td>\n",
       "      <td>0.000000</td>\n",
       "      <td>0.000000</td>\n",
       "      <td>0.003845</td>\n",
       "      <td>0.000000</td>\n",
       "      <td>0.000000</td>\n",
       "      <td>0.000000</td>\n",
       "      <td>0.000000</td>\n",
       "      <td>0.000000</td>\n",
       "      <td>0.000000</td>\n",
       "    </tr>\n",
       "  </tbody>\n",
       "</table>\n",
       "<p>11866 rows × 21 columns</p>\n",
       "</div>"
      ],
      "text/plain": [
       "                                                   index  Politics 1  \\\n",
       "0      Queensland premier wedged as casino operator f...    0.000000   \n",
       "1      Baby scalded with hot liquid in Brisbane park ...    0.000000   \n",
       "2      Man dead after accident at central Queensland ...    0.000000   \n",
       "3      ‘It’s okay to poo at work’: Australian health ...    0.000000   \n",
       "4      Queensland budget 2024: the biggest winners an...    0.002218   \n",
       "...                                                  ...         ...   \n",
       "11861  'We can’t lock young people up': Victoria warn...    0.000000   \n",
       "11862  'He speaks for us': why Tamworth is oozing sym...    0.092632   \n",
       "11863  Cents and sensibility: the cost and meaning of...    0.000000   \n",
       "11864  The full list of Trump's 'under-reported' terr...    0.000000   \n",
       "11865  Death in detention: ‘I'd give everything to ha...    0.013707   \n",
       "\n",
       "       Youth Crime    Family  Politics 2  Environment   COVID 1  Aged Care  \\\n",
       "0         0.023006  0.025470    0.057121     0.000000  0.004943   0.000000   \n",
       "1         0.008911  0.075376    0.000000     0.000000  0.000000   0.000000   \n",
       "2         0.000000  0.013692    0.000000     0.000000  0.000000   0.006315   \n",
       "3         0.014390  0.050645    0.003509     0.001530  0.028427   0.012827   \n",
       "4         0.067343  0.000000    0.031064     0.002112  0.008095   0.000000   \n",
       "...            ...       ...         ...          ...       ...        ...   \n",
       "11861     0.409210  0.001695    0.000000     0.000000  0.005263   0.004330   \n",
       "11862     0.000000  0.082300    0.060249     0.000000  0.000000   0.000000   \n",
       "11863     0.032321  0.104888    0.000000     0.003003  0.000000   0.022768   \n",
       "11864     0.000000  0.006297    0.000000     0.000000  0.000000   0.000000   \n",
       "11865     0.184543  0.106773    0.000000     0.003274  0.005799   0.009582   \n",
       "\n",
       "         Mining     Power  ...  Great Barrier Reef     Flood  Education  \\\n",
       "0      0.011313  0.003915  ...            0.000045  0.000000   0.000000   \n",
       "1      0.000000  0.000000  ...            0.000000  0.000925   0.000000   \n",
       "2      0.010302  0.004265  ...            0.000000  0.003125   0.000000   \n",
       "3      0.000000  0.000000  ...            0.000577  0.000000   0.006822   \n",
       "4      0.005385  0.032732  ...            0.000002  0.003022   0.001812   \n",
       "...         ...       ...  ...                 ...       ...        ...   \n",
       "11861  0.000000  0.001905  ...            0.000000  0.003242   0.000000   \n",
       "11862  0.000000  0.000000  ...            0.000000  0.000000   0.000000   \n",
       "11863  0.000000  0.004558  ...            0.002086  0.008670   0.000000   \n",
       "11864  0.000000  0.001953  ...            0.003292  0.000000   0.000000   \n",
       "11865  0.000000  0.000000  ...            0.000000  0.000000   0.000000   \n",
       "\n",
       "       Domestic Violence     Sport  Cost of Living     Other  Climate Change  \\\n",
       "0               0.000000  0.011754        0.048578  0.006951        0.000000   \n",
       "1               0.000000  0.000000        0.000000  0.000000        0.000000   \n",
       "2               0.000000  0.000000        0.000000  0.000000        0.001171   \n",
       "3               0.001656  0.000000        0.006619  0.011636        0.001236   \n",
       "4               0.000000  0.004821        0.097726  0.000000        0.000000   \n",
       "...                  ...       ...             ...       ...             ...   \n",
       "11861           0.001612  0.002039        0.001831  0.000000        0.002949   \n",
       "11862           0.000000  0.001259        0.000000  0.000000        0.001776   \n",
       "11863           0.000000  0.000000        0.044395  0.000000        0.000000   \n",
       "11864           0.000000  0.000000        0.000000  0.027074        0.016659   \n",
       "11865           0.003845  0.000000        0.000000  0.000000        0.000000   \n",
       "\n",
       "       First Nation   COVID 2  \n",
       "0          0.000000  0.000000  \n",
       "1          0.000000  0.000000  \n",
       "2          0.000000  0.000126  \n",
       "3          0.006878  0.015117  \n",
       "4          0.000000  0.000000  \n",
       "...             ...       ...  \n",
       "11861      0.000000  0.000000  \n",
       "11862      0.000000  0.000000  \n",
       "11863      0.008301  0.000000  \n",
       "11864      0.000000  0.000000  \n",
       "11865      0.000000  0.000000  \n",
       "\n",
       "[11866 rows x 21 columns]"
      ]
     },
     "execution_count": 9,
     "metadata": {},
     "output_type": "execute_result"
    }
   ],
   "source": [
    "nmf_topics_df"
   ]
  },
  {
   "cell_type": "code",
   "execution_count": 10,
   "id": "1309ddd2",
   "metadata": {},
   "outputs": [
    {
     "data": {
      "application/vnd.plotly.v1+json": {
       "config": {
        "plotlyServerURL": "https://plot.ly"
       },
       "data": [
        {
         "alignmentgroup": "True",
         "hovertemplate": "Topic=%{x}<br>Total NMF Topic Weight Across all Articles(Should normalise this really)=%{y}<extra></extra>",
         "legendgroup": "",
         "marker": {
          "color": "#636efa",
          "pattern": {
           "shape": ""
          }
         },
         "name": "",
         "offsetgroup": "",
         "orientation": "v",
         "showlegend": false,
         "textposition": "auto",
         "type": "bar",
         "x": [
          "Politics 1",
          "Youth Crime",
          "Family",
          "Politics 2",
          "Environment",
          "COVID 1",
          "Aged Care",
          "Mining",
          "Power",
          "Police",
          "Great Barrier Reef",
          "Flood",
          "Education",
          "Domestic Violence",
          "Sport",
          "Cost of Living",
          "Other",
          "Climate Change",
          "First Nation",
          "COVID 2"
         ],
         "xaxis": "x",
         "y": [
          941.3623824263964,
          726.65811775924,
          1384.9602607358581,
          782.7509614128047,
          593.7166280894301,
          755.7437440473927,
          271.43695219893857,
          369.43590233640555,
          466.11294701028646,
          639.7932866185461,
          253.19067917073866,
          711.9802782083143,
          340.44841369296,
          400.5555753092591,
          537.4176183377754,
          787.4181255936991,
          738.5687987392159,
          406.4938331643576,
          420.17653730265465,
          337.7789578457265
         ],
         "yaxis": "y"
        }
       ],
       "layout": {
        "barmode": "relative",
        "legend": {
         "tracegroupgap": 0
        },
        "margin": {
         "t": 60
        },
        "template": {
         "data": {
          "bar": [
           {
            "error_x": {
             "color": "#2a3f5f"
            },
            "error_y": {
             "color": "#2a3f5f"
            },
            "marker": {
             "line": {
              "color": "#E5ECF6",
              "width": 0.5
             },
             "pattern": {
              "fillmode": "overlay",
              "size": 10,
              "solidity": 0.2
             }
            },
            "type": "bar"
           }
          ],
          "barpolar": [
           {
            "marker": {
             "line": {
              "color": "#E5ECF6",
              "width": 0.5
             },
             "pattern": {
              "fillmode": "overlay",
              "size": 10,
              "solidity": 0.2
             }
            },
            "type": "barpolar"
           }
          ],
          "carpet": [
           {
            "aaxis": {
             "endlinecolor": "#2a3f5f",
             "gridcolor": "white",
             "linecolor": "white",
             "minorgridcolor": "white",
             "startlinecolor": "#2a3f5f"
            },
            "baxis": {
             "endlinecolor": "#2a3f5f",
             "gridcolor": "white",
             "linecolor": "white",
             "minorgridcolor": "white",
             "startlinecolor": "#2a3f5f"
            },
            "type": "carpet"
           }
          ],
          "choropleth": [
           {
            "colorbar": {
             "outlinewidth": 0,
             "ticks": ""
            },
            "type": "choropleth"
           }
          ],
          "contour": [
           {
            "colorbar": {
             "outlinewidth": 0,
             "ticks": ""
            },
            "colorscale": [
             [
              0,
              "#0d0887"
             ],
             [
              0.1111111111111111,
              "#46039f"
             ],
             [
              0.2222222222222222,
              "#7201a8"
             ],
             [
              0.3333333333333333,
              "#9c179e"
             ],
             [
              0.4444444444444444,
              "#bd3786"
             ],
             [
              0.5555555555555556,
              "#d8576b"
             ],
             [
              0.6666666666666666,
              "#ed7953"
             ],
             [
              0.7777777777777778,
              "#fb9f3a"
             ],
             [
              0.8888888888888888,
              "#fdca26"
             ],
             [
              1,
              "#f0f921"
             ]
            ],
            "type": "contour"
           }
          ],
          "contourcarpet": [
           {
            "colorbar": {
             "outlinewidth": 0,
             "ticks": ""
            },
            "type": "contourcarpet"
           }
          ],
          "heatmap": [
           {
            "colorbar": {
             "outlinewidth": 0,
             "ticks": ""
            },
            "colorscale": [
             [
              0,
              "#0d0887"
             ],
             [
              0.1111111111111111,
              "#46039f"
             ],
             [
              0.2222222222222222,
              "#7201a8"
             ],
             [
              0.3333333333333333,
              "#9c179e"
             ],
             [
              0.4444444444444444,
              "#bd3786"
             ],
             [
              0.5555555555555556,
              "#d8576b"
             ],
             [
              0.6666666666666666,
              "#ed7953"
             ],
             [
              0.7777777777777778,
              "#fb9f3a"
             ],
             [
              0.8888888888888888,
              "#fdca26"
             ],
             [
              1,
              "#f0f921"
             ]
            ],
            "type": "heatmap"
           }
          ],
          "heatmapgl": [
           {
            "colorbar": {
             "outlinewidth": 0,
             "ticks": ""
            },
            "colorscale": [
             [
              0,
              "#0d0887"
             ],
             [
              0.1111111111111111,
              "#46039f"
             ],
             [
              0.2222222222222222,
              "#7201a8"
             ],
             [
              0.3333333333333333,
              "#9c179e"
             ],
             [
              0.4444444444444444,
              "#bd3786"
             ],
             [
              0.5555555555555556,
              "#d8576b"
             ],
             [
              0.6666666666666666,
              "#ed7953"
             ],
             [
              0.7777777777777778,
              "#fb9f3a"
             ],
             [
              0.8888888888888888,
              "#fdca26"
             ],
             [
              1,
              "#f0f921"
             ]
            ],
            "type": "heatmapgl"
           }
          ],
          "histogram": [
           {
            "marker": {
             "pattern": {
              "fillmode": "overlay",
              "size": 10,
              "solidity": 0.2
             }
            },
            "type": "histogram"
           }
          ],
          "histogram2d": [
           {
            "colorbar": {
             "outlinewidth": 0,
             "ticks": ""
            },
            "colorscale": [
             [
              0,
              "#0d0887"
             ],
             [
              0.1111111111111111,
              "#46039f"
             ],
             [
              0.2222222222222222,
              "#7201a8"
             ],
             [
              0.3333333333333333,
              "#9c179e"
             ],
             [
              0.4444444444444444,
              "#bd3786"
             ],
             [
              0.5555555555555556,
              "#d8576b"
             ],
             [
              0.6666666666666666,
              "#ed7953"
             ],
             [
              0.7777777777777778,
              "#fb9f3a"
             ],
             [
              0.8888888888888888,
              "#fdca26"
             ],
             [
              1,
              "#f0f921"
             ]
            ],
            "type": "histogram2d"
           }
          ],
          "histogram2dcontour": [
           {
            "colorbar": {
             "outlinewidth": 0,
             "ticks": ""
            },
            "colorscale": [
             [
              0,
              "#0d0887"
             ],
             [
              0.1111111111111111,
              "#46039f"
             ],
             [
              0.2222222222222222,
              "#7201a8"
             ],
             [
              0.3333333333333333,
              "#9c179e"
             ],
             [
              0.4444444444444444,
              "#bd3786"
             ],
             [
              0.5555555555555556,
              "#d8576b"
             ],
             [
              0.6666666666666666,
              "#ed7953"
             ],
             [
              0.7777777777777778,
              "#fb9f3a"
             ],
             [
              0.8888888888888888,
              "#fdca26"
             ],
             [
              1,
              "#f0f921"
             ]
            ],
            "type": "histogram2dcontour"
           }
          ],
          "mesh3d": [
           {
            "colorbar": {
             "outlinewidth": 0,
             "ticks": ""
            },
            "type": "mesh3d"
           }
          ],
          "parcoords": [
           {
            "line": {
             "colorbar": {
              "outlinewidth": 0,
              "ticks": ""
             }
            },
            "type": "parcoords"
           }
          ],
          "pie": [
           {
            "automargin": true,
            "type": "pie"
           }
          ],
          "scatter": [
           {
            "fillpattern": {
             "fillmode": "overlay",
             "size": 10,
             "solidity": 0.2
            },
            "type": "scatter"
           }
          ],
          "scatter3d": [
           {
            "line": {
             "colorbar": {
              "outlinewidth": 0,
              "ticks": ""
             }
            },
            "marker": {
             "colorbar": {
              "outlinewidth": 0,
              "ticks": ""
             }
            },
            "type": "scatter3d"
           }
          ],
          "scattercarpet": [
           {
            "marker": {
             "colorbar": {
              "outlinewidth": 0,
              "ticks": ""
             }
            },
            "type": "scattercarpet"
           }
          ],
          "scattergeo": [
           {
            "marker": {
             "colorbar": {
              "outlinewidth": 0,
              "ticks": ""
             }
            },
            "type": "scattergeo"
           }
          ],
          "scattergl": [
           {
            "marker": {
             "colorbar": {
              "outlinewidth": 0,
              "ticks": ""
             }
            },
            "type": "scattergl"
           }
          ],
          "scattermapbox": [
           {
            "marker": {
             "colorbar": {
              "outlinewidth": 0,
              "ticks": ""
             }
            },
            "type": "scattermapbox"
           }
          ],
          "scatterpolar": [
           {
            "marker": {
             "colorbar": {
              "outlinewidth": 0,
              "ticks": ""
             }
            },
            "type": "scatterpolar"
           }
          ],
          "scatterpolargl": [
           {
            "marker": {
             "colorbar": {
              "outlinewidth": 0,
              "ticks": ""
             }
            },
            "type": "scatterpolargl"
           }
          ],
          "scatterternary": [
           {
            "marker": {
             "colorbar": {
              "outlinewidth": 0,
              "ticks": ""
             }
            },
            "type": "scatterternary"
           }
          ],
          "surface": [
           {
            "colorbar": {
             "outlinewidth": 0,
             "ticks": ""
            },
            "colorscale": [
             [
              0,
              "#0d0887"
             ],
             [
              0.1111111111111111,
              "#46039f"
             ],
             [
              0.2222222222222222,
              "#7201a8"
             ],
             [
              0.3333333333333333,
              "#9c179e"
             ],
             [
              0.4444444444444444,
              "#bd3786"
             ],
             [
              0.5555555555555556,
              "#d8576b"
             ],
             [
              0.6666666666666666,
              "#ed7953"
             ],
             [
              0.7777777777777778,
              "#fb9f3a"
             ],
             [
              0.8888888888888888,
              "#fdca26"
             ],
             [
              1,
              "#f0f921"
             ]
            ],
            "type": "surface"
           }
          ],
          "table": [
           {
            "cells": {
             "fill": {
              "color": "#EBF0F8"
             },
             "line": {
              "color": "white"
             }
            },
            "header": {
             "fill": {
              "color": "#C8D4E3"
             },
             "line": {
              "color": "white"
             }
            },
            "type": "table"
           }
          ]
         },
         "layout": {
          "annotationdefaults": {
           "arrowcolor": "#2a3f5f",
           "arrowhead": 0,
           "arrowwidth": 1
          },
          "autotypenumbers": "strict",
          "coloraxis": {
           "colorbar": {
            "outlinewidth": 0,
            "ticks": ""
           }
          },
          "colorscale": {
           "diverging": [
            [
             0,
             "#8e0152"
            ],
            [
             0.1,
             "#c51b7d"
            ],
            [
             0.2,
             "#de77ae"
            ],
            [
             0.3,
             "#f1b6da"
            ],
            [
             0.4,
             "#fde0ef"
            ],
            [
             0.5,
             "#f7f7f7"
            ],
            [
             0.6,
             "#e6f5d0"
            ],
            [
             0.7,
             "#b8e186"
            ],
            [
             0.8,
             "#7fbc41"
            ],
            [
             0.9,
             "#4d9221"
            ],
            [
             1,
             "#276419"
            ]
           ],
           "sequential": [
            [
             0,
             "#0d0887"
            ],
            [
             0.1111111111111111,
             "#46039f"
            ],
            [
             0.2222222222222222,
             "#7201a8"
            ],
            [
             0.3333333333333333,
             "#9c179e"
            ],
            [
             0.4444444444444444,
             "#bd3786"
            ],
            [
             0.5555555555555556,
             "#d8576b"
            ],
            [
             0.6666666666666666,
             "#ed7953"
            ],
            [
             0.7777777777777778,
             "#fb9f3a"
            ],
            [
             0.8888888888888888,
             "#fdca26"
            ],
            [
             1,
             "#f0f921"
            ]
           ],
           "sequentialminus": [
            [
             0,
             "#0d0887"
            ],
            [
             0.1111111111111111,
             "#46039f"
            ],
            [
             0.2222222222222222,
             "#7201a8"
            ],
            [
             0.3333333333333333,
             "#9c179e"
            ],
            [
             0.4444444444444444,
             "#bd3786"
            ],
            [
             0.5555555555555556,
             "#d8576b"
            ],
            [
             0.6666666666666666,
             "#ed7953"
            ],
            [
             0.7777777777777778,
             "#fb9f3a"
            ],
            [
             0.8888888888888888,
             "#fdca26"
            ],
            [
             1,
             "#f0f921"
            ]
           ]
          },
          "colorway": [
           "#636efa",
           "#EF553B",
           "#00cc96",
           "#ab63fa",
           "#FFA15A",
           "#19d3f3",
           "#FF6692",
           "#B6E880",
           "#FF97FF",
           "#FECB52"
          ],
          "font": {
           "color": "#2a3f5f"
          },
          "geo": {
           "bgcolor": "white",
           "lakecolor": "white",
           "landcolor": "#E5ECF6",
           "showlakes": true,
           "showland": true,
           "subunitcolor": "white"
          },
          "hoverlabel": {
           "align": "left"
          },
          "hovermode": "closest",
          "mapbox": {
           "style": "light"
          },
          "paper_bgcolor": "white",
          "plot_bgcolor": "#E5ECF6",
          "polar": {
           "angularaxis": {
            "gridcolor": "white",
            "linecolor": "white",
            "ticks": ""
           },
           "bgcolor": "#E5ECF6",
           "radialaxis": {
            "gridcolor": "white",
            "linecolor": "white",
            "ticks": ""
           }
          },
          "scene": {
           "xaxis": {
            "backgroundcolor": "#E5ECF6",
            "gridcolor": "white",
            "gridwidth": 2,
            "linecolor": "white",
            "showbackground": true,
            "ticks": "",
            "zerolinecolor": "white"
           },
           "yaxis": {
            "backgroundcolor": "#E5ECF6",
            "gridcolor": "white",
            "gridwidth": 2,
            "linecolor": "white",
            "showbackground": true,
            "ticks": "",
            "zerolinecolor": "white"
           },
           "zaxis": {
            "backgroundcolor": "#E5ECF6",
            "gridcolor": "white",
            "gridwidth": 2,
            "linecolor": "white",
            "showbackground": true,
            "ticks": "",
            "zerolinecolor": "white"
           }
          },
          "shapedefaults": {
           "line": {
            "color": "#2a3f5f"
           }
          },
          "ternary": {
           "aaxis": {
            "gridcolor": "white",
            "linecolor": "white",
            "ticks": ""
           },
           "baxis": {
            "gridcolor": "white",
            "linecolor": "white",
            "ticks": ""
           },
           "bgcolor": "#E5ECF6",
           "caxis": {
            "gridcolor": "white",
            "linecolor": "white",
            "ticks": ""
           }
          },
          "title": {
           "x": 0.05
          },
          "xaxis": {
           "automargin": true,
           "gridcolor": "white",
           "linecolor": "white",
           "ticks": "",
           "title": {
            "standoff": 15
           },
           "zerolinecolor": "white",
           "zerolinewidth": 2
          },
          "yaxis": {
           "automargin": true,
           "gridcolor": "white",
           "linecolor": "white",
           "ticks": "",
           "title": {
            "standoff": 15
           },
           "zerolinecolor": "white",
           "zerolinewidth": 2
          }
         }
        },
        "xaxis": {
         "anchor": "y",
         "domain": [
          0,
          1
         ],
         "title": {
          "text": "Topic"
         }
        },
        "yaxis": {
         "anchor": "x",
         "domain": [
          0,
          1
         ],
         "title": {
          "text": "Total NMF Topic Weight Across all Articles(Should normalise this really)"
         }
        }
       }
      }
     },
     "metadata": {},
     "output_type": "display_data"
    }
   ],
   "source": [
    "# Below gets the topics \n",
    "nmf_topics_df = nmf_topics_df.rename(columns={\"index\":\"article\"})\n",
    "\n",
    "nmf_topics_df[\"article_year\"] = nmf_topics_df[\"article\"].str.extract(r\"(?<=\\[)(\\d{4})(?=\\-)\")\n",
    "\n",
    "nmf_topics_df = nmf_topics_df.drop('article', axis=1)\n",
    "\n",
    "\n",
    "nmf_topics_df.set_index(\"article_year\", inplace= True)\n",
    "#Normalise the weights\n",
    "nmf_topics_df = nmf_topics_df.divide(nmf_topics_df.sum(axis =1), axis = 0)\n",
    "\n",
    "sum_topic_nmf_df  = nmf_topics_df.sum().reset_index().rename(columns={\"index\":\"Topic\", \"0\":\"Total NMF Topic Weight Across all Articles(Should normalise this really)\"})\n",
    "sum_topic_nmf_df = sum_topic_nmf_df.rename(columns={\"index\":\"Topic\", 0:\"Total NMF Topic Weight Across all Articles(Should normalise this really)\"})\n",
    "\n",
    "px.bar(sum_topic_nmf_df, x = \"Topic\", y = \"Total NMF Topic Weight Across all Articles(Should normalise this really)\")"
   ]
  }
 ],
 "metadata": {
  "creation_period": "",
  "kernelspec": {
   "display_name": "Python 3 (ipykernel)",
   "language": "python",
   "name": "python3"
  },
  "language_info": {
   "codemirror_mode": {
    "name": "ipython",
    "version": 3
   },
   "file_extension": ".py",
   "mimetype": "text/x-python",
   "name": "python",
   "nbconvert_exporter": "python",
   "pygments_lexer": "ipython3",
   "version": "3.12.6"
  },
  "nb_name": "template",
  "qut": {
   "creation_period": "2023_sem1",
   "nb_name": "template-assignment2",
   "unit_code": "IFN619"
  },
  "unit_code": "",
  "vscode": {
   "interpreter": {
    "hash": "d4d1e4263499bec80672ea0156c357c1ee493ec2b1c70f0acce89fc37c4a6abe"
   }
  }
 },
 "nbformat": 4,
 "nbformat_minor": 5
}
