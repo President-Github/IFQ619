{
 "cells": [
  {
   "cell_type": "markdown",
   "id": "6ca249a0-2ebd-4c90-91b6-16d6351ad606",
   "metadata": {
    "cell_name": "header_cell"
   },
   "source": [
    "<div style=\"background:#E9FFF6; color:#440404; padding:8px; border-radius: 4px; text-align: center; font-weight: 500;\">IFQ619 - Data Analytics for Strategic Decision Makers (2024)</div>"
   ]
  },
  {
   "attachments": {},
   "cell_type": "markdown",
   "id": "5bc6489c-6c2c-4aec-8962-63884b4984ed",
   "metadata": {
    "cell_name": "title_cell"
   },
   "source": [
    "# IFQ619 :: C1-UnstructuredAnalytics\n",
    "\n",
    "For this session, the focus will be on analysis of unstructured text. However, the thinking required is similar to approaches to analysing images, video, sound and other unstructured data. Primarily, the analysis is based on the notion that there are useful patterns in the unstructured data which can be obtained mathematically. By converting the data to a mathematical structure, various algorithms can be applied to the structure with the aim of identifying patterns. \n",
    "\n",
    "In the case of the `topic modelling` approaches below, many of the techniques are *probabilistic* - that is they mathematically identify the *likelihood* that a feature might be important. Thus, they are never 100% accurate, and their use needs to be mediated by a more pragmatic *useful or not* approach, rather than *right or wrong*."
   ]
  },
  {
   "cell_type": "code",
   "execution_count": 1,
   "id": "0ce7cf8f",
   "metadata": {},
   "outputs": [],
   "source": [
    "# Import the necessary libraries\n",
    "from sklearn.feature_extraction.text import TfidfVectorizer, CountVectorizer, ENGLISH_STOP_WORDS\n",
    "from sklearn.decomposition import LatentDirichletAllocation, NMF\n",
    "import pandas as pd\n",
    "import json\n",
    "import random\n",
    "from sklearn.cluster import KMeans"
   ]
  },
  {
   "attachments": {},
   "cell_type": "markdown",
   "id": "7d3afe99",
   "metadata": {},
   "source": [
    "### Accessing the data via The Guardian API\n",
    "\n",
    "See the `Accessing_the_Guardian_API.ipynb` notebook file for details on getting the data. **Note:** This approach may be used for additional data for Assignment 2.\n",
    "\n",
    "### Read in pre-saved data\n",
    "\n",
    "To save time, we're loading in pre-saved data that was fetched using the Guardian API."
   ]
  },
  {
   "cell_type": "code",
   "execution_count": 2,
   "id": "e0a95d48",
   "metadata": {},
   "outputs": [
    {
     "name": "stdout",
     "output_type": "stream",
     "text": [
      "Loaded 1063 articles from qld_gov_articles.json\n"
     ]
    }
   ],
   "source": [
    "# Load the data - articles from The Guardian about the war in Ukraine\n",
    "file_path = \"data/\"\n",
    "file_name = \"qld_gov_articles.json\"\n",
    "\n",
    "with open(f\"{file_path}{file_name}\",'r', encoding='utf-8') as fp:\n",
    "    articles = json.load(fp)\n",
    "\n",
    "print(f\"Loaded {len(articles)} articles from {file_name}\")"
   ]
  },
  {
   "attachments": {},
   "cell_type": "markdown",
   "id": "8010b4b5",
   "metadata": {},
   "source": [
    "Each dictionary entry includes the *title [date]* as `key` and the *body text* from the article as `value`."
   ]
  },
  {
   "cell_type": "code",
   "execution_count": 3,
   "id": "310db6be",
   "metadata": {},
   "outputs": [],
   "source": [
    "#article1 = list(articles.items())[0]\n",
    "#print(\"Key:\",article1[0])\n",
    "#print(\"Value:\",article1[1][:300],\"...\") # Just show first 300 characters"
   ]
  },
  {
   "attachments": {},
   "cell_type": "markdown",
   "id": "74fac8ad",
   "metadata": {},
   "source": [
    "So the values gives us a list of documents that we can analyse."
   ]
  },
  {
   "cell_type": "code",
   "execution_count": 4,
   "id": "2ba4eb20",
   "metadata": {},
   "outputs": [],
   "source": [
    "# Get a list of documents\n",
    "#documents = list(articles.values())\n",
    "\n",
    "# View first 400 characters of the 1st document\n",
    "#documents[0][:400]"
   ]
  },
  {
   "attachments": {},
   "cell_type": "markdown",
   "id": "113510df",
   "metadata": {},
   "source": [
    "### Term Count \n",
    "\n",
    "**Finding important terms by the frequency of their occurance**\n",
    "\n",
    "Using `CountVectorizer` create a `vector` for each document where the dimensionality of the vector is the `vocabulary` (all terms in the collection), and the value of each component is the number of times that the `term` occurs in the document.\n",
    "\n",
    "All of these analyses, approach the document as a [Bag of Words](https://en.wikipedia.org/wiki/Bag-of-words_model) model. In this approach, the order of the words don't matter. A popular approach that takes into account order is [Word embedding](https://en.wikipedia.org/wiki/Word_embedding). This session does not explore word embedding."
   ]
  },
  {
   "cell_type": "code",
   "execution_count": 5,
   "id": "e1f18885",
   "metadata": {},
   "outputs": [],
   "source": [
    "# AYOOOOOO WE DOING A LEMMATISING FUNCTION\n",
    "# https://jonathansoma.com/lede/image-and-sound/text-analysis/text-analysis-word-counting-lemmatizing-and-tf-idf/\n",
    "\n",
    "import spacy\n",
    "nlp = spacy.load(\"en_core_web_sm\")\n",
    "# Source: spaCy is a dream, but a dream where sometimes your legs won’t move right and you can’t read text. But sometimes you can fly! So yes, as always, ups and downs\n",
    "# Morgan: I hate this\n",
    "# python -m spacy download en\n",
    "# python -m pip install spacy\n",
    "\n",
    "def lemmatize(text):\n",
    "    doc = nlp(text)\n",
    "    # Turn it into tokens, ignoring the punctuation\n",
    "    tokens = [token for token in doc if not token.is_punct]\n",
    "    # Convert those tokens into lemmas, EXCEPT the pronouns, we'll keep those.\n",
    "    lemmas = [token.lemma_ if token.pos_ != 'PRON' else token.orth_ for token in tokens]\n",
    "    return lemmas"
   ]
  },
  {
   "cell_type": "code",
   "execution_count": 6,
   "id": "d083f727",
   "metadata": {},
   "outputs": [
    {
     "name": "stderr",
     "output_type": "stream",
     "text": [
      "c:\\Users\\Morgan\\AppData\\Local\\Programs\\Python\\Python312\\Lib\\site-packages\\sklearn\\feature_extraction\\text.py:521: UserWarning: The parameter 'token_pattern' will not be used since 'tokenizer' is not None'\n",
      "  warnings.warn(\n",
      "c:\\Users\\Morgan\\AppData\\Local\\Programs\\Python\\Python312\\Lib\\site-packages\\sklearn\\feature_extraction\\text.py:406: UserWarning: Your stop_words may be inconsistent with your preprocessing. Tokenizing the stop words generated tokens ['far', 'make', 'say', 'tell', 'whereaft'] not in stop_words.\n",
      "  warnings.warn(\n"
     ]
    }
   ],
   "source": [
    "# Only count terms that in maximum of 75% of documents, and a minimum of 2 documents. \n",
    "# Count a maximum of 10000 terms, and remove common english stop words\n",
    "StopWords = list(ENGLISH_STOP_WORDS.union([\"Monday\",\"Tuesday\",\"Wednesday\",\"Thursday\",\"Friday\", \"Saturday\", \"Sunday\",\"nbsp\", \"\\n\", \"|\", \"\\n \", \n",
    "                                           \"$\", \"year\", \"m\", \"new\", \"need\", \"increase\",\"bst\", \"gmt\", \"says\", \"year\", \"told\"]))\n",
    "import re\n",
    "\n",
    "#count_vectorizer = CountVectorizer(preprocessor=lambda x: x.replace('(\\D+)', \"\", regex = True))\n",
    "#count_vectorizer = CountVectorizer(\n",
    "count_vectorizer = CountVectorizer(\n",
    "                                   preprocessor=lambda x: re.sub(r\"([\\d\\.])+\", \"NUM\", x),\n",
    "                                   max_df=0.60,min_df=5,max_features=10000,\n",
    "                                   stop_words=StopWords, #Add stop words\n",
    "                                   tokenizer=lemmatize, # Lemmatiseer\n",
    "                                   ngram_range = (1,2)) #Use Bigrams as well to pick up things like \"First Nation\"\n",
    "count_dt_matrix = count_vectorizer.fit_transform(articles.values())"
   ]
  },
  {
   "cell_type": "markdown",
   "id": "d2c9082d",
   "metadata": {},
   "source": [
    "**I HAVE ADDED MY OWN ADDITIONAL STOP WORDS HERE FOR NUMBERS**\n",
    "NOt sufficient, referred to https://stackoverflow.com/questions/43216530/adding-numbers-to-stop-words-to-scikit-learns-countvectorizer"
   ]
  },
  {
   "cell_type": "code",
   "execution_count": 7,
   "id": "de7c0d15",
   "metadata": {},
   "outputs": [],
   "source": [
    "# Take a look at the vector for the first document\n",
    "#doc001_vector = count_dt_matrix.toarray()[0]\n",
    "#doc001_vector"
   ]
  },
  {
   "cell_type": "code",
   "execution_count": 8,
   "id": "3b8add7a",
   "metadata": {},
   "outputs": [
    {
     "data": {
      "text/plain": [
       "array(['\\n \\n', '\\n \\n ', '\\n \\n \\n ', ..., '’ve read', '’ve say',\n",
       "       '’ve tell'], dtype=object)"
      ]
     },
     "execution_count": 8,
     "metadata": {},
     "output_type": "execute_result"
    }
   ],
   "source": [
    "# Get the 1000 terms identified during the vectorization process\n",
    "feature_names = count_vectorizer.get_feature_names_out()\n",
    "feature_names"
   ]
  },
  {
   "cell_type": "code",
   "execution_count": 9,
   "id": "7aa088ed",
   "metadata": {},
   "outputs": [],
   "source": [
    "# Look at how the counts match up to the terms (for the 1st doc)\n",
    "#doc001_term_counts = list(zip(feature_names,doc001_vector[0])) \n",
    "#doc001_term_counts"
   ]
  },
  {
   "cell_type": "code",
   "execution_count": 10,
   "id": "12d7eead",
   "metadata": {
    "scrolled": true
   },
   "outputs": [
    {
     "data": {
      "text/plain": [
       "{'prominent': 7332,\n",
       " 'victim': 9451,\n",
       " 'right': 7923,\n",
       " 'group': 5177,\n",
       " 'remove': 7748,\n",
       " 'child': 3279,\n",
       " 'police': 7060,\n",
       " 'watch': 9534,\n",
       " 'house': 5402,\n",
       " 'release': 7713,\n",
       " 'confront': 3613,\n",
       " 'footage': 4830,\n",
       " 'brutal': 3056,\n",
       " 'treatment': 9260,\n",
       " 'adult': 2528,\n",
       " 'holding': 5360,\n",
       " 'video': 9461,\n",
       " 'publish': 7428,\n",
       " 'long': 6061,\n",
       " 'investigation': 5699,\n",
       " 'SBS': 2009,\n",
       " 'young': 9743,\n",
       " 'people': 6899,\n",
       " 'lock': 6049,\n",
       " 'freeze': 4879,\n",
       " 'isolation': 5726,\n",
       " 'cell': 3205,\n",
       " 'panic': 6816,\n",
       " 'struggle': 8820,\n",
       " 'indefinite': 5529,\n",
       " 'detention': 4061,\n",
       " 'overcrowded': 6768,\n",
       " 'broadly': 3049,\n",
       " 'criticise': 3846,\n",
       " 'human': 5421,\n",
       " 'organisation': 6727,\n",
       " 'member': 6251,\n",
       " 'crime': 3824,\n",
       " 'zero': 9759,\n",
       " 'tolerance': 9171,\n",
       " 'approach': 2717,\n",
       " 'youth': 9751,\n",
       " 'crimeNUM': 3825,\n",
       " '\\n  \\n \\n': 15,\n",
       " 'term': 9045,\n",
       " 'Labor': 1227,\n",
       " 'MP': 1305,\n",
       " 'Bush': 449,\n",
       " 'appear': 2708,\n",
       " 'break': 3031,\n",
       " 'rank': 7510,\n",
       " 'justice': 5793,\n",
       " 'policynum': 7084,\n",
       " 'work': 9675,\n",
       " 'support': 8888,\n",
       " 'enter': 4435,\n",
       " 'parliament': 6830,\n",
       " 'tell': 9012,\n",
       " 'Sam': 2013,\n",
       " 'detain': 4055,\n",
       " 'Covid': 634,\n",
       " 'Queenslanders': 1915,\n",
       " 'demonstrate': 4015,\n",
       " 'enormous': 4427,\n",
       " 'capacity': 3132,\n",
       " 'lead': 5907,\n",
       " 'use': 9390,\n",
       " 'resource': 7844,\n",
       " 'differently': 4098,\n",
       " 'address': 2512,\n",
       " 'public': 7408,\n",
       " 'health': 5261,\n",
       " 'threatnum': 9119,\n",
       " '\\n \\n ': 1,\n",
       " 'sign': 8460,\n",
       " 'free': 4870,\n",
       " 'morning': 6411,\n",
       " 'afternoon': 2561,\n",
       " 'email': 4344,\n",
       " 'newsletter': 6519,\n",
       " 'daily': 3894,\n",
       " 'news': 6515,\n",
       " 'roundup': 7974,\n",
       " '\\n \\n': 0,\n",
       " 'We': 2338,\n",
       " 'apply': 2713,\n",
       " 'thinking': 9104,\n",
       " 'systemnum': 8960,\n",
       " 'This': 2209,\n",
       " 'problem': 7266,\n",
       " 'require': 7811,\n",
       " 'community': 3511,\n",
       " 'responsenum': 7862,\n",
       " 'evidence': 4529,\n",
       " 'clear': 3339,\n",
       " 'custody': 3882,\n",
       " 'likely': 5996,\n",
       " 'safe': 8015,\n",
       " 'result': 7879,\n",
       " 'agree': 2578,\n",
       " 'accountability': 2465,\n",
       " 'punishment': 7435,\n",
       " 'deliver': 4007,\n",
       " 'way': 9563,\n",
       " 'rehabilitate': 7672,\n",
       " 'entrench': 4448,\n",
       " 'lifetime': 5982,\n",
       " 'violence': 9467,\n",
       " 'Youth': 2414,\n",
       " 'issue': 5728,\n",
       " 'October': 1726,\n",
       " 'election': 4319,\n",
       " 'Liberal': 1267,\n",
       " 'National': 1669,\n",
       " 'party': 6850,\n",
       " 'seek': 8336,\n",
       " 'promote': 7334,\n",
       " 'tough': 9193,\n",
       " 'policiesnum': 7080,\n",
       " '\\n \\n  ': 4,\n",
       " 'breathe': 3034,\n",
       " 'expose': 4604,\n",
       " ' \\n \\n': 35,\n",
       " 'twice': 9295,\n",
       " 'suspend': 8933,\n",
       " 'Human': 1026,\n",
       " 'Rights': 1976,\n",
       " 'Act': 133,\n",
       " 'allow': 2622,\n",
       " 'indefinitely': 5530,\n",
       " 'countrynum': 3777,\n",
       " 'LNP': 1220,\n",
       " 'opposition': 6713,\n",
       " 'week': 9580,\n",
       " 'announce': 2662,\n",
       " 'hardline': 5243,\n",
       " 'time': 9133,\n",
       " 'policy': 7082,\n",
       " 'afford': 2554,\n",
       " 'courtsnum': 3796,\n",
       " 'Voice': 2303,\n",
       " 'influential': 5582,\n",
       " 'hold': 5353,\n",
       " 'mass': 6190,\n",
       " 'rally': 7505,\n",
       " 'Brisbane': 419,\n",
       " 'April': 242,\n",
       " 'reporting': 7802,\n",
       " 'successfully': 8849,\n",
       " 'highlight': 5334,\n",
       " 'ongoing': 6685,\n",
       " 'failure': 4649,\n",
       " 'identify': 5442,\n",
       " 'carer': 3159,\n",
       " 'expert': 4585,\n",
       " 'provide': 7390,\n",
       " 'incumbent': 5527,\n",
       " 'cross': 3851,\n",
       " 'bench': 2935,\n",
       " 'base': 2898,\n",
       " 'solution': 8560,\n",
       " 'housesnum': 5407,\n",
       " '\\n  \\n  \\n   \\n  \\n  \\n \\n': 18,\n",
       " 'possession': 7122,\n",
       " 'fail': 4646,\n",
       " 'actNUM': 2484,\n",
       " 'The': 2187,\n",
       " 'Council': 625,\n",
       " 'Social': 2083,\n",
       " 'Services': 2047,\n",
       " 'Aboriginal': 127,\n",
       " 'Torres': 2233,\n",
       " 'Strait': 2131,\n",
       " 'Islander': 1108,\n",
       " 'Child': 536,\n",
       " 'Protection': 1828,\n",
       " 'joint': 5762,\n",
       " 'statement': 8736,\n",
       " 'response': 7858,\n",
       " 'immediate': 5455,\n",
       " 'help': 5300,\n",
       " 'chief': 3272,\n",
       " 'executive': 4554,\n",
       " 'Aimee': 185,\n",
       " 'McVeigh': 1360,\n",
       " 'You': 2405,\n",
       " 'hear': 5278,\n",
       " 'terror': 9056,\n",
       " 'pain': 6803,\n",
       " 'voiceNUM': 9489,\n",
       " 'mental': 6258,\n",
       " 'oldNUM': 6676,\n",
       " 'queenslander': 7458,\n",
       " 'know': 5821,\n",
       " 'belong': 2934,\n",
       " 'vision': 9482,\n",
       " 'prove': 7389,\n",
       " 'itnum': 5740,\n",
       " 'Network': 1691,\n",
       " 'Women': 2386,\n",
       " 'girl': 4976,\n",
       " 'deeply': 3981,\n",
       " 'troubled': 9279,\n",
       " 'bedroom': 2919,\n",
       " 'classroom': 3334,\n",
       " 'network': 6509,\n",
       " 'director': 4115,\n",
       " 'Justice': 1183,\n",
       " 'Reform': 1950,\n",
       " 'Initiative': 1088,\n",
       " 'ignore': 5448,\n",
       " 'mount': 6431,\n",
       " 'cite': 3311,\n",
       " 'basis': 2907,\n",
       " 'overwhelming': 6787,\n",
       " 'condition': 3593,\n",
       " 'traumatise': 9245,\n",
       " 'behaviour': 2929,\n",
       " 'future': 4916,\n",
       " 'offend': 6643,\n",
       " 'old': 6670,\n",
       " 'day': 3920,\n",
       " 'allege': 2613,\n",
       " 'sexual': 8398,\n",
       " 'assault': 2779,\n",
       " 'minister': 6315,\n",
       " 'Di': 713,\n",
       " 'She': 2052,\n",
       " 'comment': 3471,\n",
       " 'specific': 8602,\n",
       " 'course': 3779,\n",
       " 'want': 9514,\n",
       " 'person': 6953,\n",
       " 'distress': 4166,\n",
       " 'Farmer': 827,\n",
       " 'ask': 2774,\n",
       " 'record': 7589,\n",
       " 'number': 6590,\n",
       " 'I': 1036,\n",
       " 'apology': 2694,\n",
       " 'safenum': 8019,\n",
       " 'risk': 7944,\n",
       " '’re': 9799,\n",
       " 'court': 3780,\n",
       " 'judge': 5770,\n",
       " 'place': 6991,\n",
       " 'therenum': 9087,\n",
       " 'service': 8375,\n",
       " 'aware': 2860,\n",
       " 'various': 9427,\n",
       " 'allegation': 2612,\n",
       " 'concern': 3574,\n",
       " 'QPS': 1838,\n",
       " 'complaint': 3550,\n",
       " 'mistreatment': 6366,\n",
       " 'inappropriate': 5494,\n",
       " 'action': 2486,\n",
       " 'seriously': 8372,\n",
       " 'change': 3237,\n",
       " 'legal': 5934,\n",
       " 'restriction': 7875,\n",
       " 'report': 7775,\n",
       " 'parent': 6822,\n",
       " 'teacher': 8998,\n",
       " 'contact': 3660,\n",
       " 'Kids': 1210,\n",
       " 'Helpline': 997,\n",
       " 'survivor': 8931,\n",
       " 'Blue': 390,\n",
       " 'Foundation': 864,\n",
       " 'source': 8575,\n",
       " 'International': 1098,\n",
       " 'Queensland ’s': 1909,\n",
       " 'group say': 5183,\n",
       " 'say state': 8226,\n",
       " 'state government': 8712,\n",
       " 'government remove': 5096,\n",
       " 'child police': 3289,\n",
       " 'police watch': 7077,\n",
       " 'watch house': 9535,\n",
       " 'child adult': 3282,\n",
       " 'Guardian Australia': 962,\n",
       " 'young people': 9747,\n",
       " 'detention child': 4064,\n",
       " 'human right': 5422,\n",
       " 'victim crime': 9452,\n",
       " 'zero tolerance': 9763,\n",
       " 'youth crimeNUM': 9753,\n",
       " 'Labor MP': 1229,\n",
       " 'youth justice': 9755,\n",
       " 'enter state': 4438,\n",
       " 'state parliament': 8723,\n",
       " 'tell Guardian': 9017,\n",
       " 'child detain': 3285,\n",
       " 'public health': 7413,\n",
       " '\\n \\n  sign': 10,\n",
       " 'sign Guardian': 8461,\n",
       " 'Australia ’s': 315,\n",
       " '’s free': 9883,\n",
       " 'free morning': 4874,\n",
       " 'morning afternoon': 6420,\n",
       " 'afternoon email': 2562,\n",
       " 'email newsletter': 4347,\n",
       " 'newsletter daily': 6522,\n",
       " 'daily news': 3896,\n",
       " 'news roundup': 6518,\n",
       " 'roundup \\n \\n': 7975,\n",
       " 'justice systemnum': 5797,\n",
       " 'say evidence': 8140,\n",
       " 'Youth justice': 2418,\n",
       " 'Queensland election': 1877,\n",
       " 'Liberal National': 1269,\n",
       " 'National party': 1672,\n",
       " '\\n \\n   relate': 8,\n",
       " 'Queensland watch': 1906,\n",
       " 'child lock': 3288,\n",
       " 'Labor government': 1230,\n",
       " 'suspend Human': 8934,\n",
       " 'Human Rights': 1027,\n",
       " 'Rights Act': 1977,\n",
       " 'allow child': 2623,\n",
       " 'LNP opposition': 1224,\n",
       " 'youth crime': 9752,\n",
       " 'evidence base': 4530,\n",
       " 'child watch': 3293,\n",
       " 'watch housesnum': 9536,\n",
       " 'Queensland Council': 1847,\n",
       " 'Council Social': 627,\n",
       " 'Aboriginal Torres': 129,\n",
       " 'Torres Strait': 2234,\n",
       " 'Strait Islander': 2132,\n",
       " 'adult watch': 2530,\n",
       " 'child ’s': 3295,\n",
       " 'chief executive': 3274,\n",
       " 'Aimee McVeigh': 186,\n",
       " 'relate NUM': 7691,\n",
       " '’s Queensland': 9819,\n",
       " 'Queensland police': 1893,\n",
       " 'executive director': 4559,\n",
       " 'community safe': 3516,\n",
       " 'saidnum \\n \\n  ': 8043,\n",
       " 'NUM old': 1567,\n",
       " 'sexual assault': 8400,\n",
       " 'Queensland youth': 1908,\n",
       " 'justice minister': 5795,\n",
       " 'minister Di': 6322,\n",
       " 'She say': 2054,\n",
       " 'say comment': 8118,\n",
       " 'young person': 9749,\n",
       " 'ask government': 2776,\n",
       " 'government ’s': 5124,\n",
       " '’s policy': 9941,\n",
       " 'record number': 7594,\n",
       " 'number child': 6594,\n",
       " 'Farmer say': 828,\n",
       " 'say I': 8082,\n",
       " 'I make': 1050,\n",
       " 'make apology': 6122,\n",
       " 'court judge': 3788,\n",
       " 'police service': 7073,\n",
       " 'service say': 8379,\n",
       " 'say aware': 8107,\n",
       " 'concern child': 3576,\n",
       " 'child hold': 3287,\n",
       " 'hold custody': 5357,\n",
       " 'Australia child': 287,\n",
       " 'child young': 3294,\n",
       " 'Helpline NUM': 998,\n",
       " 'NUM adult': 1496,\n",
       " 'commissioner': 3486,\n",
       " 'Scott': 2031,\n",
       " 'McDougall': 1355,\n",
       " 'disappointed': 4126,\n",
       " 'loss': 6083,\n",
       " 'understand': 9322,\n",
       " 'promise': 7333,\n",
       " 'overhaul': 6770,\n",
       " 'Anti': 234,\n",
       " 'discrimination': 4143,\n",
       " 'ActNUM': 136,\n",
       " 'attorney': 2816,\n",
       " 'general': 4952,\n",
       " 'Yvette': 2419,\n",
       " 'D’Ath': 749,\n",
       " 'table': 8962,\n",
       " 'enact': 4383,\n",
       " 'reformsNUM': 7640,\n",
       " 'recommend': 7584,\n",
       " 'act': 2482,\n",
       " 'scrap': 8299,\n",
       " 'exemption': 4562,\n",
       " 'faith': 4654,\n",
       " 'school': 8281,\n",
       " 'discriminate': 4142,\n",
       " 'sexuality': 8402,\n",
       " 'pregnancy': 7170,\n",
       " 'relationship': 7709,\n",
       " 'status': 8755,\n",
       " 'gender': 4949,\n",
       " 'identity': 5445,\n",
       " 'pass': 6856,\n",
       " 'electionNUM': 4326,\n",
       " ' ': 33,\n",
       " 'Commission': 585,\n",
       " 'conduct': 3598,\n",
       " 'extensive': 4614,\n",
       " 'review': 7909,\n",
       " 'Discrimination': 720,\n",
       " 'draft': 4219,\n",
       " 'legislation': 5943,\n",
       " 'consultation': 3654,\n",
       " 'februarynum': 4704,\n",
       " 'He': 986,\n",
       " 'abandon': 2425,\n",
       " 'aim': 2594,\n",
       " 'modernise': 6379,\n",
       " 'lawsnum': 5902,\n",
       " 'spend': 8611,\n",
       " 'thousand': 9109,\n",
       " 'hour': 5399,\n",
       " 'share': 8413,\n",
       " 'expertise': 4590,\n",
       " 'experience': 4582,\n",
       " 'compelling': 3541,\n",
       " 'barrier': 2896,\n",
       " 'equity': 4485,\n",
       " 'current': 3878,\n",
       " 'framework': 4866,\n",
       " 'shelve': 8427,\n",
       " 'reform': 7637,\n",
       " 'stop': 8776,\n",
       " 'gay': 4947,\n",
       " '    ': 40,\n",
       " 'expect': 4575,\n",
       " 'frustrate': 4894,\n",
       " 'end': 4388,\n",
       " 'piecemeal': 6982,\n",
       " 'amendment': 2642,\n",
       " 'far': 4675,\n",
       " 'practical': 7150,\n",
       " 'raise': 7499,\n",
       " 'governmentnum': 5126,\n",
       " 'introduce': 5687,\n",
       " 'positive': 7120,\n",
       " 'duty': 4257,\n",
       " 'eliminate': 4342,\n",
       " 'workplace': 9699,\n",
       " 'extend': 4610,\n",
       " 'protection': 7378,\n",
       " 'homelessness': 5372,\n",
       " 'domestic': 4194,\n",
       " 'family': 4664,\n",
       " 'violenceNUM': 9472,\n",
       " 'welcome': 9599,\n",
       " 'mean': 6212,\n",
       " 'circumstance': 3309,\n",
       " 'protect': 7370,\n",
       " 'harassment': 5237,\n",
       " 'arguably': 2750,\n",
       " 'high': 5321,\n",
       " 'equivalent': 4486,\n",
       " 'room': 7968,\n",
       " 'paint': 6805,\n",
       " 'building': 3069,\n",
       " 'foundation': 4856,\n",
       " 'attention': 2814,\n",
       " 'saidNUM': 8024,\n",
       " 'equality': 4481,\n",
       " 'consider': 3631,\n",
       " 'balanced': 2884,\n",
       " 'possible': 7124,\n",
       " 'ensure': 4431,\n",
       " 'leave': 5924,\n",
       " 'instead': 5635,\n",
       " 'construct': 3646,\n",
       " 'unclear': 9310,\n",
       " 'scope': 8296,\n",
       " 'apparent': 2705,\n",
       " 'implement': 5467,\n",
       " 'recommendation': 7585,\n",
       " 'commit': 3490,\n",
       " 'early': 4264,\n",
       " 'element': 4338,\n",
       " 'religious': 7728,\n",
       " 'labor': 5834,\n",
       " 'reluctant': 7730,\n",
       " 'pick': 6977,\n",
       " 'fight': 4756,\n",
       " 'church': 3305,\n",
       " 'vow': 9501,\n",
       " 'campaign': 3113,\n",
       " 'ahead': 2590,\n",
       " 'pressure': 7202,\n",
       " 'federal': 4705,\n",
       " 'similar': 8479,\n",
       " 'australian': 2826,\n",
       " 'Law': 1244,\n",
       " 'commissionnum': 3489,\n",
       " 'polling': 7093,\n",
       " 'half': 5213,\n",
       " 'Australians': 340,\n",
       " 'oppose': 6710,\n",
       " 'law': 5881,\n",
       " 'legally': 5941,\n",
       " 'sack': 8011,\n",
       " 'refuse': 7644,\n",
       " 'hire': 5343,\n",
       " 'propose': 7355,\n",
       " 'hit': 5351,\n",
       " 'political': 7086,\n",
       " 'secretary': 8326,\n",
       " 'King': 1213,\n",
       " 'push': 7442,\n",
       " 'scene': 8273,\n",
       " 'respect': 7851,\n",
       " 'billnum': 2955,\n",
       " 'disappoint': 4125,\n",
       " 'exemptionNUM': 4564,\n",
       " 'water': 9538,\n",
       " 'ban': 2886,\n",
       " 'Greens': 951,\n",
       " 'Michael': 1376,\n",
       " 'Berkman': 373,\n",
       " 'throw': 9125,\n",
       " 'nurse': 6609,\n",
       " 'bus': 3083,\n",
       " 'Christian': 549,\n",
       " 'teach': 8997,\n",
       " 'English': 789,\n",
       " 'affect': 2552,\n",
       " 'ability': 2429,\n",
       " 'single': 8485,\n",
       " 'mum': 6444,\n",
       " 'unsuitable': 9360,\n",
       " '’s human': 9899,\n",
       " 'right commissioner': 7926,\n",
       " 'commissioner Scott': 3488,\n",
       " 'Scott McDougall': 2032,\n",
       " 'McDougall say': 1356,\n",
       " 'say deeply': 8133,\n",
       " 'state Labor': 8696,\n",
       " 'state ’s': 8734,\n",
       " 'attorney general': 2817,\n",
       " 'general Yvette': 4954,\n",
       " 'Yvette D’Ath': 2420,\n",
       " 'faith base': 4655,\n",
       " 'gender identity': 4951,\n",
       " '  sign': 100,\n",
       " 'roundup  ': 7976,\n",
       " 'say Queensland': 8092,\n",
       " 'Queensland Human': 1852,\n",
       " 'Rights Commission': 1979,\n",
       " 'Anti Discrimination': 235,\n",
       " 'Discrimination Act': 721,\n",
       " 'release statement': 7716,\n",
       " 'statement say': 8741,\n",
       " 'say government': 8149,\n",
       " 'government appear': 5016,\n",
       " 'saidnum   ': 8045,\n",
       " 'relate Queensland': 7694,\n",
       " 'Queensland Labor': 1854,\n",
       " 'concern raise': 3581,\n",
       " 'experience domestic': 4583,\n",
       " 'domestic family': 4196,\n",
       " 'family violenceNUM': 4669,\n",
       " 'change say': 3245,\n",
       " 'change mean': 3243,\n",
       " 'mean people': 6214,\n",
       " 'implement recommendation': 5468,\n",
       " 'government commit': 5030,\n",
       " 'early week': 4269,\n",
       " 'D’Ath say': 750,\n",
       " 'source say': 8576,\n",
       " 'say party': 8193,\n",
       " 'federal Labor': 4707,\n",
       " 'law allow': 5885,\n",
       " '    Greens': 50,\n",
       " 'Greens MP': 952,\n",
       " 'MP Michael': 1307,\n",
       " 'Michael Berkman': 1377,\n",
       " 'Berkman say': 375,\n",
       " 'say Labor': 8085,\n",
       " 'administrator': 2523,\n",
       " 'determine': 4072,\n",
       " 'budget': 3059,\n",
       " 'airline': 2598,\n",
       " 'unlikely': 9350,\n",
       " 'financial': 4771,\n",
       " 'save': 8075,\n",
       " 'search': 8312,\n",
       " 'aircraft': 2597,\n",
       " 'buyer': 3101,\n",
       " 'meeting': 6244,\n",
       " 'creditor': 3819,\n",
       " 'firm': 4788,\n",
       " 'earth': 4274,\n",
       " 'secure': 8331,\n",
       " 'ground': 5169,\n",
       " 'control': 3694,\n",
       " 'plane': 7019,\n",
       " 'calculate': 3109,\n",
       " 'addition': 2507,\n",
       " 'numm': 6603,\n",
       " 'loan': 6030,\n",
       " 'sole': 8553,\n",
       " 'owner': 6791,\n",
       " 'owe': 6789,\n",
       " 'NUMm': 1642,\n",
       " 'employee': 4375,\n",
       " 'customersnum': 3885,\n",
       " 'Richard': 1967,\n",
       " 'discussion': 4146,\n",
       " 'occur': 6631,\n",
       " 'basisnum': 2908,\n",
       " 'indicate': 5542,\n",
       " 'point': 7054,\n",
       " 'relation': 7708,\n",
       " 'incentive': 5499,\n",
       " 'assistance': 2789,\n",
       " 'view': 9462,\n",
       " 'responsibility': 7863,\n",
       " 'good': 4989,\n",
       " 'forwardnum': 4851,\n",
       " 'home': 5364,\n",
       " 'Sunshine': 2142,\n",
       " 'Coast': 579,\n",
       " 'Gold': 926,\n",
       " 'regional': 7652,\n",
       " 'route': 7978,\n",
       " 'speak': 8591,\n",
       " 'moment': 6382,\n",
       " 'hopefully': 5381,\n",
       " 'They': 2201,\n",
       " 'strategy': 8801,\n",
       " 'thing': 9091,\n",
       " 'deal': 3933,\n",
       " 'potential': 7131,\n",
       " 'later': 5873,\n",
       " 'reject': 7678,\n",
       " 'spokesman': 8629,\n",
       " 'deputy': 4039,\n",
       " 'premier': 7174,\n",
       " 'Cameron': 480,\n",
       " 'Dick': 716,\n",
       " 'position': 7119,\n",
       " 'government”NUM': 5130,\n",
       " 'staff': 8666,\n",
       " 'contribution': 3692,\n",
       " 'foreign': 4836,\n",
       " 'poise': 7057,\n",
       " 'join': 5760,\n",
       " 'list': 6011,\n",
       " 'pocket': 7047,\n",
       " 'customer': 3884,\n",
       " 'eligible': 4341,\n",
       " 'attend': 2812,\n",
       " 'alongside': 2630,\n",
       " 'trade': 9214,\n",
       " 'stand': 8680,\n",
       " 'echo': 4286,\n",
       " 'fleet': 4803,\n",
       " 'Max': 1347,\n",
       " 'canadian': 3121,\n",
       " 'ownership': 6794,\n",
       " 'link': 6009,\n",
       " 'lease': 5922,\n",
       " 'terminate': 9051,\n",
       " 'remain': 7732,\n",
       " 'airport': 2599,\n",
       " 'ultimately': 9301,\n",
       " 'fly': 4819,\n",
       " 'North': 1714,\n",
       " 'available': 2851,\n",
       " 'NUM%': 1613,\n",
       " 'company': 3524,\n",
       " 'US': 2259,\n",
       " 'private': 7250,\n",
       " 'investment': 5702,\n",
       " 'A': 104,\n",
       " 'breakdown': 3032,\n",
       " 'insurance': 5642,\n",
       " 'giant': 4973,\n",
       " 'Capital': 495,\n",
       " 'structure': 8819,\n",
       " 'monthnum': 6404,\n",
       " 'subsequently': 8835,\n",
       " 'order': 6720,\n",
       " 'recall': 7563,\n",
       " 'AustraliaNUM': 316,\n",
       " 'talk': 8969,\n",
       " 'accept': 2446,\n",
       " 'operation': 6701,\n",
       " 'set': 8385,\n",
       " 'May': 1348,\n",
       " 'probably': 7264,\n",
       " 'begin': 2925,\n",
       " 'month': 6392,\n",
       " 'soon': 8567,\n",
       " 'short': 8443,\n",
       " 'option': 6717,\n",
       " 'amid': 2644,\n",
       " 'global': 4979,\n",
       " 'shortage': 8445,\n",
       " 'backlog': 2872,\n",
       " 'model': 6375,\n",
       " 'There': 2191,\n",
       " 'industry': 5561,\n",
       " 'previous': 7211,\n",
       " 'business': 3089,\n",
       " 'rely': 7731,\n",
       " 'num': 6572,\n",
       " 'supply': 8882,\n",
       " 'profit': 7292,\n",
       " 'sell': 8353,\n",
       " 'seat': 8317,\n",
       " 'reportedly': 7799,\n",
       " 'accuse': 2471,\n",
       " 'fraud': 4868,\n",
       " 'double': 4211,\n",
       " 'asset': 2786,\n",
       " 'accord': 2458,\n",
       " 'lawsuit': 5903,\n",
       " 'file': 4759,\n",
       " 'New': 1694,\n",
       " 'York': 2402,\n",
       " 'weekNUM': 9587,\n",
       " 'information': 5586,\n",
       " 'dealing': 3937,\n",
       " 'come': 3453,\n",
       " 'interested': 5660,\n",
       " 'hopeful': 5380,\n",
       " 'transaction': 9226,\n",
       " 'happennum': 5234,\n",
       " 'cut': 3886,\n",
       " 'expression': 4609,\n",
       " 'weekend': 9590,\n",
       " 'update': 9368,\n",
       " 'question': 7461,\n",
       " 'situation': 8498,\n",
       " 'trigger': 9273,\n",
       " 'aviation': 2856,\n",
       " 'plan': 6999,\n",
       " 'sound': 8573,\n",
       " 'close': 3370,\n",
       " 'local': 6037,\n",
       " 'figure': 4757,\n",
       " 'prior': 7242,\n",
       " 'online': 6687,\n",
       " 'participant': 6841,\n",
       " 'passenger': 6860,\n",
       " 'travel': 9246,\n",
       " 'cover': 3797,\n",
       " 'holiday': 5362,\n",
       " 'expense': 4580,\n",
       " 'proof': 7339,\n",
       " 'purchase': 7437,\n",
       " 'app': 2695,\n",
       " 'book': 3000,\n",
       " 'futurenum': 4918,\n",
       " 'federal Queensland': 4708,\n",
       " 'government tell': 5114,\n",
       " 'financial support': 4773,\n",
       " 'say ’re': 8248,\n",
       " 'support government': 8896,\n",
       " 'federal government': 4721,\n",
       " 'point time': 7055,\n",
       " 'saidNUM Guardian': 8027,\n",
       " 'Australia understand': 312,\n",
       " 'government consider': 5032,\n",
       " 'financial assistance': 4772,\n",
       " 'Sunshine Coast': 2143,\n",
       " 'Gold Coast': 927,\n",
       " 'They want': 2204,\n",
       " 'want know': 9516,\n",
       " 'know ’': 5823,\n",
       " '’ thing': 9790,\n",
       " 'saidNUM Queensland': 8034,\n",
       " 'deputy premier': 4040,\n",
       " 'Cameron Dick': 481,\n",
       " 'Dick say': 717,\n",
       " '    NUM': 57,\n",
       " 'make available': 6123,\n",
       " '’s parent': 9935,\n",
       " 'parent company': 6823,\n",
       " 'leave Australia': 5925,\n",
       " 'end NUM': 4389,\n",
       " 'NUM May': 1473,\n",
       " 'short term': 8444,\n",
       " 'There concern': 2193,\n",
       " 'base NUM': 2899,\n",
       " 'New York': 1700,\n",
       " 'say number': 8190,\n",
       " 'They say': 2203,\n",
       " '’s business': 9839,\n",
       " 'local business': 6038,\n",
       " '’s meeting': 9922,\n",
       " 'hub': 5418,\n",
       " 'receive': 7564,\n",
       " 'schooling': 8286,\n",
       " 'average': 2854,\n",
       " 'weekday': 9588,\n",
       " 'centre': 3211,\n",
       " 'just': 5779,\n",
       " 'datum': 3916,\n",
       " 'notice': 6562,\n",
       " 'shadow': 8404,\n",
       " 'Tim': 2217,\n",
       " 'Nicholls': 1708,\n",
       " 'reveal': 7901,\n",
       " 'Caboolture': 471,\n",
       " 'education': 4304,\n",
       " 'minute': 6351,\n",
       " 'January': 1140,\n",
       " 'March': 1324,\n",
       " 'yearNUM': 9730,\n",
       " 'generally': 4957,\n",
       " 'department': 4021,\n",
       " 'capture': 3140,\n",
       " 'learning': 5921,\n",
       " 'judgment': 5771,\n",
       " 'previously': 7214,\n",
       " 'lockdown': 6052,\n",
       " 'separation': 8369,\n",
       " 'let': 5953,\n",
       " 'accommodation': 2455,\n",
       " 'unit': 9340,\n",
       " 'ditch': 4174,\n",
       " 'resort': 7843,\n",
       " 'Advocacy': 174,\n",
       " 'Centre': 523,\n",
       " 'Katherine': 1192,\n",
       " 'Hayes': 982,\n",
       " 'emphasise': 4372,\n",
       " 'suitable': 8867,\n",
       " 'unless': 9347,\n",
       " 'happen': 5229,\n",
       " 'case': 3163,\n",
       " 'meaningless': 6217,\n",
       " 'develop': 4078,\n",
       " 'range': 7508,\n",
       " 'meaningful': 6216,\n",
       " 'complete': 3551,\n",
       " 'second': 8319,\n",
       " 'class': 3330,\n",
       " 'Cleveland': 563,\n",
       " 'West': 2361,\n",
       " 'Moreton': 1401,\n",
       " 'Bay': 361,\n",
       " 'period': 6940,\n",
       " 'dataNUM': 3910,\n",
       " 'low': 6088,\n",
       " 'shutdown': 8455,\n",
       " 'September': 2042,\n",
       " 'centresNUM': 3217,\n",
       " 'particularly': 6845,\n",
       " 'kid': 5806,\n",
       " 'sit': 8489,\n",
       " 'behavioural': 2931,\n",
       " 'psychologist': 7406,\n",
       " 'treat': 9259,\n",
       " 'Cairns': 472,\n",
       " 'warn': 9525,\n",
       " 'basic': 2902,\n",
       " 'tool': 9184,\n",
       " 'cycle': 3891,\n",
       " 'detentionnum': 4067,\n",
       " 'spokesperson': 8632,\n",
       " 'key': 5803,\n",
       " 'protective': 7382,\n",
       " 'factor': 4644,\n",
       " 'activity': 2495,\n",
       " 'appearance': 2709,\n",
       " 'medical': 6230,\n",
       " 'appointment': 2715,\n",
       " 'impact': 5460,\n",
       " 'employ': 4373,\n",
       " 'All': 200,\n",
       " 'exist': 4568,\n",
       " 'equip': 4483,\n",
       " 'sufficient': 8856,\n",
       " 'facility': 4640,\n",
       " 'teaching': 8999,\n",
       " 'ratio': 7524,\n",
       " 'underpin': 9321,\n",
       " 'site': 8490,\n",
       " 'youth detention': 9754,\n",
       " 'detention centre': 4062,\n",
       " 'question notice': 7467,\n",
       " 'Tim Nicholls': 2219,\n",
       " 'receive NUM': 7568,\n",
       " 'NUM minute': 1561,\n",
       " 'average NUM': 2855,\n",
       " 'NUM January': 1465,\n",
       " 'January NUM': 1141,\n",
       " 'NUM March': 1471,\n",
       " 'yearNUM  ': 9731,\n",
       " 'Queensland LNP': 1853,\n",
       " 'detention resort': 4065,\n",
       " 'executive Youth': 4558,\n",
       " 'Youth Advocacy': 2415,\n",
       " 'Advocacy Centre': 175,\n",
       " 'Katherine Hayes': 1193,\n",
       " 'Hayes say': 983,\n",
       " 'say datum': 8130,\n",
       " 'say NUM': 8087,\n",
       " 'NUM child': 1508,\n",
       " 'child Queensland': 3281,\n",
       " 'house NUM': 5403,\n",
       " 'Guardian AustraliaNUM': 963,\n",
       " 'education minister': 4305,\n",
       " 'Di Farmer': 714,\n",
       " 'say department': 8134,\n",
       " 'Moreton Bay': 1402,\n",
       " 'NUM Brisbane': 1456,\n",
       " 'centre NUM': 3212,\n",
       " 'NUM hour': 1541,\n",
       " 'hour day': 5400,\n",
       " 'Covid NUM': 635,\n",
       " 'NUM September': 1487,\n",
       " 'September NUM': 2043,\n",
       " 'Cairns watch': 473,\n",
       " 'It ’': 1128,\n",
       " '’ clear': 9769,\n",
       " 'justice department': 5794,\n",
       " 'department spokesperson': 4026,\n",
       " 'spokesperson say': 8636,\n",
       " 'NUM staff': 1594,\n",
       " 'support NUM': 8891,\n",
       " 'return': 7895,\n",
       " 'bird': 2960,\n",
       " 'separate': 8367,\n",
       " 'pet': 6964,\n",
       " 'adopt': 2526,\n",
       " 'Molly': 1395,\n",
       " 'fall': 4657,\n",
       " 'attract': 2818,\n",
       " 'couple': 3778,\n",
       " 'dog': 4191,\n",
       " 'animal': 2658,\n",
       " 'play': 7030,\n",
       " 'sleep': 8512,\n",
       " 'togethernum': 9169,\n",
       " 'environment': 4450,\n",
       " 'unlawful': 9344,\n",
       " 'care': 3152,\n",
       " 'permit': 6947,\n",
       " 'voluntarily': 9493,\n",
       " 'surrender': 8925,\n",
       " 'MarchNUM': 1326,\n",
       " 'Sign': 2064,\n",
       " 'Steven': 2120,\n",
       " 'Miles': 1383,\n",
       " 'officer': 6655,\n",
       " 'ready': 7543,\n",
       " 'training': 9224,\n",
       " 'placeNUM': 6995,\n",
       " 'seize': 8346,\n",
       " 'train': 9223,\n",
       " 'wildlife': 9632,\n",
       " 'reunite': 7900,\n",
       " 'What': 2367,\n",
       " '’m': 9797,\n",
       " 'suggest': 8861,\n",
       " 'familynum': 4671,\n",
       " 'final': 4761,\n",
       " 'decision': 3959,\n",
       " 'rest': 7867,\n",
       " 'feel': 4738,\n",
       " 'instance': 5632,\n",
       " 'outcome': 6747,\n",
       " 'rule': 7996,\n",
       " 'live': 6023,\n",
       " 'happy': 5235,\n",
       " 'life': 5976,\n",
       " 'devastate': 4075,\n",
       " 'lose': 6080,\n",
       " 'departmentNUM': 4028,\n",
       " 'beautiful': 2915,\n",
       " '’ve': 9993,\n",
       " 'friend': 4888,\n",
       " 'power': 7136,\n",
       " 'obtain': 6623,\n",
       " 'application': 2712,\n",
       " 'bit': 2963,\n",
       " 'conflict': 3612,\n",
       " 'page': 6802,\n",
       " 'message': 6266,\n",
       " 'viral': 9475,\n",
       " 'love': 6087,\n",
       " 'communityNUM': 3520,\n",
       " 'petition': 6965,\n",
       " 'Queensland premier': 1894,\n",
       " 'department environment': 4022,\n",
       " 'NUM MarchNUM': 1472,\n",
       " '\\n \\n  Sign': 9,\n",
       " 'Sign Guardian': 2065,\n",
       " 'premier Steven': 7181,\n",
       " 'Steven Miles': 2121,\n",
       " 'Miles say': 1385,\n",
       " 'say officer': 8191,\n",
       " ...}"
      ]
     },
     "execution_count": 10,
     "metadata": {},
     "output_type": "execute_result"
    }
   ],
   "source": [
    "# Take a look at the vocabulary which shows the total counts for whole collection\n",
    "count_vectorizer.vocabulary_"
   ]
  },
  {
   "cell_type": "code",
   "execution_count": 11,
   "id": "b74acd46",
   "metadata": {},
   "outputs": [
    {
     "data": {
      "text/plain": [
       "7652"
      ]
     },
     "execution_count": 11,
     "metadata": {},
     "output_type": "execute_result"
    }
   ],
   "source": [
    "count_vectorizer.vocabulary_[\"regional\"]"
   ]
  },
  {
   "attachments": {},
   "cell_type": "markdown",
   "id": "1bf88710",
   "metadata": {},
   "source": [
    "#### Display matrix in dataframe\n",
    "\n",
    "Take the term count matrix and display in a dataframe to make visible the structure\n"
   ]
  },
  {
   "cell_type": "code",
   "execution_count": 12,
   "id": "db751a6b-2dda-48e9-bd7a-5638cb454f7b",
   "metadata": {},
   "outputs": [
    {
     "data": {
      "text/plain": [
       "array([[1, 2, 0, ..., 0, 0, 0],\n",
       "       [0, 0, 0, ..., 0, 0, 0],\n",
       "       [0, 0, 0, ..., 0, 0, 0],\n",
       "       ...,\n",
       "       [0, 0, 0, ..., 0, 0, 0],\n",
       "       [0, 0, 0, ..., 0, 0, 0],\n",
       "       [0, 0, 0, ..., 0, 0, 0]], dtype=int64)"
      ]
     },
     "execution_count": 12,
     "metadata": {},
     "output_type": "execute_result"
    }
   ],
   "source": [
    "count_dt_matrix.toarray()"
   ]
  },
  {
   "cell_type": "code",
   "execution_count": 13,
   "id": "7354d455",
   "metadata": {},
   "outputs": [
    {
     "data": {
      "text/html": [
       "<div>\n",
       "<style scoped>\n",
       "    .dataframe tbody tr th:only-of-type {\n",
       "        vertical-align: middle;\n",
       "    }\n",
       "\n",
       "    .dataframe tbody tr th {\n",
       "        vertical-align: top;\n",
       "    }\n",
       "\n",
       "    .dataframe thead th {\n",
       "        text-align: right;\n",
       "    }\n",
       "</style>\n",
       "<table border=\"1\" class=\"dataframe\">\n",
       "  <thead>\n",
       "    <tr style=\"text-align: right;\">\n",
       "      <th></th>\n",
       "      <th>\\n \\n</th>\n",
       "      <th>\\n \\n</th>\n",
       "      <th>\\n \\n \\n</th>\n",
       "      <th>\\n \\n \\n</th>\n",
       "      <th>\\n \\n</th>\n",
       "      <th>\\n \\n  \\n \\n</th>\n",
       "      <th>\\n \\n  \\n \\n   sign</th>\n",
       "      <th>\\n \\n  \\n</th>\n",
       "      <th>\\n \\n   relate</th>\n",
       "      <th>\\n \\n  Sign</th>\n",
       "      <th>...</th>\n",
       "      <th>’s work</th>\n",
       "      <th>’s world</th>\n",
       "      <th>’s youth</th>\n",
       "      <th>’ve</th>\n",
       "      <th>’ve NUM</th>\n",
       "      <th>’ve just</th>\n",
       "      <th>’ve make</th>\n",
       "      <th>’ve read</th>\n",
       "      <th>’ve say</th>\n",
       "      <th>’ve tell</th>\n",
       "    </tr>\n",
       "  </thead>\n",
       "  <tbody>\n",
       "    <tr>\n",
       "      <th>‘Harrowing’ footage sparks calls for Queensland government to remove children from police watch houses [2024-07-18T15:00:15Z]</th>\n",
       "      <td>1</td>\n",
       "      <td>2</td>\n",
       "      <td>0</td>\n",
       "      <td>0</td>\n",
       "      <td>3</td>\n",
       "      <td>0</td>\n",
       "      <td>0</td>\n",
       "      <td>0</td>\n",
       "      <td>3</td>\n",
       "      <td>0</td>\n",
       "      <td>...</td>\n",
       "      <td>0</td>\n",
       "      <td>0</td>\n",
       "      <td>0</td>\n",
       "      <td>0</td>\n",
       "      <td>0</td>\n",
       "      <td>0</td>\n",
       "      <td>0</td>\n",
       "      <td>0</td>\n",
       "      <td>0</td>\n",
       "      <td>0</td>\n",
       "    </tr>\n",
       "    <tr>\n",
       "      <th>Queensland government accused of cowing to Christian Lobby on anti-discrimination bill [2024-06-14T15:00:56Z]</th>\n",
       "      <td>0</td>\n",
       "      <td>0</td>\n",
       "      <td>0</td>\n",
       "      <td>0</td>\n",
       "      <td>0</td>\n",
       "      <td>0</td>\n",
       "      <td>0</td>\n",
       "      <td>0</td>\n",
       "      <td>0</td>\n",
       "      <td>0</td>\n",
       "      <td>...</td>\n",
       "      <td>0</td>\n",
       "      <td>0</td>\n",
       "      <td>0</td>\n",
       "      <td>0</td>\n",
       "      <td>0</td>\n",
       "      <td>0</td>\n",
       "      <td>0</td>\n",
       "      <td>0</td>\n",
       "      <td>0</td>\n",
       "      <td>0</td>\n",
       "    </tr>\n",
       "    <tr>\n",
       "      <th>Queensland government hoses down suggestions it is considering bailout for Bonza [2024-05-10T08:26:48Z]</th>\n",
       "      <td>0</td>\n",
       "      <td>0</td>\n",
       "      <td>0</td>\n",
       "      <td>0</td>\n",
       "      <td>0</td>\n",
       "      <td>0</td>\n",
       "      <td>0</td>\n",
       "      <td>0</td>\n",
       "      <td>0</td>\n",
       "      <td>0</td>\n",
       "      <td>...</td>\n",
       "      <td>0</td>\n",
       "      <td>0</td>\n",
       "      <td>0</td>\n",
       "      <td>0</td>\n",
       "      <td>0</td>\n",
       "      <td>0</td>\n",
       "      <td>0</td>\n",
       "      <td>0</td>\n",
       "      <td>0</td>\n",
       "      <td>0</td>\n",
       "    </tr>\n",
       "    <tr>\n",
       "      <th>Queensland government accused of failing to provide adequate schooling to locked up children [2024-04-11T15:00:28Z]</th>\n",
       "      <td>0</td>\n",
       "      <td>0</td>\n",
       "      <td>0</td>\n",
       "      <td>0</td>\n",
       "      <td>0</td>\n",
       "      <td>0</td>\n",
       "      <td>0</td>\n",
       "      <td>0</td>\n",
       "      <td>0</td>\n",
       "      <td>0</td>\n",
       "      <td>...</td>\n",
       "      <td>0</td>\n",
       "      <td>0</td>\n",
       "      <td>0</td>\n",
       "      <td>0</td>\n",
       "      <td>0</td>\n",
       "      <td>0</td>\n",
       "      <td>0</td>\n",
       "      <td>0</td>\n",
       "      <td>0</td>\n",
       "      <td>0</td>\n",
       "    </tr>\n",
       "    <tr>\n",
       "      <th>‘There has to be a way’: Queensland government working to reunite Molly the magpie with family, premier says [2024-03-28T06:26:13Z]</th>\n",
       "      <td>1</td>\n",
       "      <td>1</td>\n",
       "      <td>0</td>\n",
       "      <td>0</td>\n",
       "      <td>1</td>\n",
       "      <td>0</td>\n",
       "      <td>0</td>\n",
       "      <td>0</td>\n",
       "      <td>1</td>\n",
       "      <td>1</td>\n",
       "      <td>...</td>\n",
       "      <td>0</td>\n",
       "      <td>0</td>\n",
       "      <td>0</td>\n",
       "      <td>1</td>\n",
       "      <td>0</td>\n",
       "      <td>0</td>\n",
       "      <td>0</td>\n",
       "      <td>0</td>\n",
       "      <td>0</td>\n",
       "      <td>0</td>\n",
       "    </tr>\n",
       "    <tr>\n",
       "      <th>...</th>\n",
       "      <td>...</td>\n",
       "      <td>...</td>\n",
       "      <td>...</td>\n",
       "      <td>...</td>\n",
       "      <td>...</td>\n",
       "      <td>...</td>\n",
       "      <td>...</td>\n",
       "      <td>...</td>\n",
       "      <td>...</td>\n",
       "      <td>...</td>\n",
       "      <td>...</td>\n",
       "      <td>...</td>\n",
       "      <td>...</td>\n",
       "      <td>...</td>\n",
       "      <td>...</td>\n",
       "      <td>...</td>\n",
       "      <td>...</td>\n",
       "      <td>...</td>\n",
       "      <td>...</td>\n",
       "      <td>...</td>\n",
       "      <td>...</td>\n",
       "    </tr>\n",
       "    <tr>\n",
       "      <th>Mark Latham takes aim at Sky boss in post-sacking Twitter spray | The Weekly Beast [2017-03-30T20:35:02Z]</th>\n",
       "      <td>0</td>\n",
       "      <td>0</td>\n",
       "      <td>0</td>\n",
       "      <td>0</td>\n",
       "      <td>0</td>\n",
       "      <td>0</td>\n",
       "      <td>0</td>\n",
       "      <td>0</td>\n",
       "      <td>0</td>\n",
       "      <td>0</td>\n",
       "      <td>...</td>\n",
       "      <td>0</td>\n",
       "      <td>0</td>\n",
       "      <td>0</td>\n",
       "      <td>0</td>\n",
       "      <td>0</td>\n",
       "      <td>0</td>\n",
       "      <td>0</td>\n",
       "      <td>0</td>\n",
       "      <td>0</td>\n",
       "      <td>0</td>\n",
       "    </tr>\n",
       "    <tr>\n",
       "      <th>Where the 2017 Queensland election will be won and lost [2017-10-29T02:00:35Z]</th>\n",
       "      <td>0</td>\n",
       "      <td>0</td>\n",
       "      <td>0</td>\n",
       "      <td>0</td>\n",
       "      <td>0</td>\n",
       "      <td>0</td>\n",
       "      <td>0</td>\n",
       "      <td>0</td>\n",
       "      <td>0</td>\n",
       "      <td>0</td>\n",
       "      <td>...</td>\n",
       "      <td>0</td>\n",
       "      <td>0</td>\n",
       "      <td>0</td>\n",
       "      <td>0</td>\n",
       "      <td>0</td>\n",
       "      <td>0</td>\n",
       "      <td>0</td>\n",
       "      <td>0</td>\n",
       "      <td>0</td>\n",
       "      <td>0</td>\n",
       "    </tr>\n",
       "    <tr>\n",
       "      <th>Bill Shorten takes town hall test: Trump, tax, refugees and the gum tree menace [2017-03-02T10:15:44Z]</th>\n",
       "      <td>0</td>\n",
       "      <td>0</td>\n",
       "      <td>0</td>\n",
       "      <td>0</td>\n",
       "      <td>0</td>\n",
       "      <td>0</td>\n",
       "      <td>0</td>\n",
       "      <td>0</td>\n",
       "      <td>0</td>\n",
       "      <td>0</td>\n",
       "      <td>...</td>\n",
       "      <td>0</td>\n",
       "      <td>0</td>\n",
       "      <td>0</td>\n",
       "      <td>1</td>\n",
       "      <td>0</td>\n",
       "      <td>0</td>\n",
       "      <td>0</td>\n",
       "      <td>0</td>\n",
       "      <td>0</td>\n",
       "      <td>0</td>\n",
       "    </tr>\n",
       "    <tr>\n",
       "      <th>Indigenous incarceration: turning the tide on colonisation's cruel third act [2017-02-20T03:08:41Z]</th>\n",
       "      <td>0</td>\n",
       "      <td>0</td>\n",
       "      <td>0</td>\n",
       "      <td>0</td>\n",
       "      <td>0</td>\n",
       "      <td>0</td>\n",
       "      <td>0</td>\n",
       "      <td>0</td>\n",
       "      <td>0</td>\n",
       "      <td>0</td>\n",
       "      <td>...</td>\n",
       "      <td>0</td>\n",
       "      <td>0</td>\n",
       "      <td>0</td>\n",
       "      <td>0</td>\n",
       "      <td>0</td>\n",
       "      <td>0</td>\n",
       "      <td>0</td>\n",
       "      <td>0</td>\n",
       "      <td>0</td>\n",
       "      <td>0</td>\n",
       "    </tr>\n",
       "    <tr>\n",
       "      <th>CSG's last stand? In Narrabri everyone has a stake in the farming v mining fight [2017-05-22T20:16:07Z]</th>\n",
       "      <td>0</td>\n",
       "      <td>0</td>\n",
       "      <td>0</td>\n",
       "      <td>0</td>\n",
       "      <td>0</td>\n",
       "      <td>0</td>\n",
       "      <td>0</td>\n",
       "      <td>0</td>\n",
       "      <td>0</td>\n",
       "      <td>0</td>\n",
       "      <td>...</td>\n",
       "      <td>0</td>\n",
       "      <td>0</td>\n",
       "      <td>0</td>\n",
       "      <td>2</td>\n",
       "      <td>0</td>\n",
       "      <td>0</td>\n",
       "      <td>0</td>\n",
       "      <td>0</td>\n",
       "      <td>0</td>\n",
       "      <td>0</td>\n",
       "    </tr>\n",
       "  </tbody>\n",
       "</table>\n",
       "<p>1063 rows × 10000 columns</p>\n",
       "</div>"
      ],
      "text/plain": [
       "                                                    \\n \\n  \\n \\n   \\n \\n \\n   \\\n",
       "‘Harrowing’ footage sparks calls for Queensland...      1       2          0   \n",
       "Queensland government accused of cowing to Chri...      0       0          0   \n",
       "Queensland government hoses down suggestions it...      0       0          0   \n",
       "Queensland government accused of failing to pro...      0       0          0   \n",
       "‘There has to be a way’: Queensland government ...      1       1          0   \n",
       "...                                                   ...     ...        ...   \n",
       "Mark Latham takes aim at Sky boss in post-sacki...      0       0          0   \n",
       "Where the 2017 Queensland election will be won ...      0       0          0   \n",
       "Bill Shorten takes town hall test: Trump, tax, ...      0       0          0   \n",
       "Indigenous incarceration: turning the tide on c...      0       0          0   \n",
       "CSG's last stand? In Narrabri everyone has a st...      0       0          0   \n",
       "\n",
       "                                                    \\n \\n \\n    \\n \\n    \\\n",
       "‘Harrowing’ footage sparks calls for Queensland...           0        3   \n",
       "Queensland government accused of cowing to Chri...           0        0   \n",
       "Queensland government hoses down suggestions it...           0        0   \n",
       "Queensland government accused of failing to pro...           0        0   \n",
       "‘There has to be a way’: Queensland government ...           0        1   \n",
       "...                                                        ...      ...   \n",
       "Mark Latham takes aim at Sky boss in post-sacki...           0        0   \n",
       "Where the 2017 Queensland election will be won ...           0        0   \n",
       "Bill Shorten takes town hall test: Trump, tax, ...           0        0   \n",
       "Indigenous incarceration: turning the tide on c...           0        0   \n",
       "CSG's last stand? In Narrabri everyone has a st...           0        0   \n",
       "\n",
       "                                                    \\n \\n  \\n \\n    \\\n",
       "‘Harrowing’ footage sparks calls for Queensland...               0   \n",
       "Queensland government accused of cowing to Chri...               0   \n",
       "Queensland government hoses down suggestions it...               0   \n",
       "Queensland government accused of failing to pro...               0   \n",
       "‘There has to be a way’: Queensland government ...               0   \n",
       "...                                                            ...   \n",
       "Mark Latham takes aim at Sky boss in post-sacki...               0   \n",
       "Where the 2017 Queensland election will be won ...               0   \n",
       "Bill Shorten takes town hall test: Trump, tax, ...               0   \n",
       "Indigenous incarceration: turning the tide on c...               0   \n",
       "CSG's last stand? In Narrabri everyone has a st...               0   \n",
       "\n",
       "                                                    \\n \\n  \\n \\n   sign  \\\n",
       "‘Harrowing’ footage sparks calls for Queensland...                    0   \n",
       "Queensland government accused of cowing to Chri...                    0   \n",
       "Queensland government hoses down suggestions it...                    0   \n",
       "Queensland government accused of failing to pro...                    0   \n",
       "‘There has to be a way’: Queensland government ...                    0   \n",
       "...                                                                 ...   \n",
       "Mark Latham takes aim at Sky boss in post-sacki...                    0   \n",
       "Where the 2017 Queensland election will be won ...                    0   \n",
       "Bill Shorten takes town hall test: Trump, tax, ...                    0   \n",
       "Indigenous incarceration: turning the tide on c...                    0   \n",
       "CSG's last stand? In Narrabri everyone has a st...                    0   \n",
       "\n",
       "                                                    \\n \\n  \\n    \\\n",
       "‘Harrowing’ footage sparks calls for Queensland...            0   \n",
       "Queensland government accused of cowing to Chri...            0   \n",
       "Queensland government hoses down suggestions it...            0   \n",
       "Queensland government accused of failing to pro...            0   \n",
       "‘There has to be a way’: Queensland government ...            0   \n",
       "...                                                         ...   \n",
       "Mark Latham takes aim at Sky boss in post-sacki...            0   \n",
       "Where the 2017 Queensland election will be won ...            0   \n",
       "Bill Shorten takes town hall test: Trump, tax, ...            0   \n",
       "Indigenous incarceration: turning the tide on c...            0   \n",
       "CSG's last stand? In Narrabri everyone has a st...            0   \n",
       "\n",
       "                                                    \\n \\n   relate  \\\n",
       "‘Harrowing’ footage sparks calls for Queensland...               3   \n",
       "Queensland government accused of cowing to Chri...               0   \n",
       "Queensland government hoses down suggestions it...               0   \n",
       "Queensland government accused of failing to pro...               0   \n",
       "‘There has to be a way’: Queensland government ...               1   \n",
       "...                                                            ...   \n",
       "Mark Latham takes aim at Sky boss in post-sacki...               0   \n",
       "Where the 2017 Queensland election will be won ...               0   \n",
       "Bill Shorten takes town hall test: Trump, tax, ...               0   \n",
       "Indigenous incarceration: turning the tide on c...               0   \n",
       "CSG's last stand? In Narrabri everyone has a st...               0   \n",
       "\n",
       "                                                    \\n \\n  Sign  ...  ’s work  \\\n",
       "‘Harrowing’ footage sparks calls for Queensland...            0  ...        0   \n",
       "Queensland government accused of cowing to Chri...            0  ...        0   \n",
       "Queensland government hoses down suggestions it...            0  ...        0   \n",
       "Queensland government accused of failing to pro...            0  ...        0   \n",
       "‘There has to be a way’: Queensland government ...            1  ...        0   \n",
       "...                                                         ...  ...      ...   \n",
       "Mark Latham takes aim at Sky boss in post-sacki...            0  ...        0   \n",
       "Where the 2017 Queensland election will be won ...            0  ...        0   \n",
       "Bill Shorten takes town hall test: Trump, tax, ...            0  ...        0   \n",
       "Indigenous incarceration: turning the tide on c...            0  ...        0   \n",
       "CSG's last stand? In Narrabri everyone has a st...            0  ...        0   \n",
       "\n",
       "                                                    ’s world  ’s youth  ’ve  \\\n",
       "‘Harrowing’ footage sparks calls for Queensland...         0         0    0   \n",
       "Queensland government accused of cowing to Chri...         0         0    0   \n",
       "Queensland government hoses down suggestions it...         0         0    0   \n",
       "Queensland government accused of failing to pro...         0         0    0   \n",
       "‘There has to be a way’: Queensland government ...         0         0    1   \n",
       "...                                                      ...       ...  ...   \n",
       "Mark Latham takes aim at Sky boss in post-sacki...         0         0    0   \n",
       "Where the 2017 Queensland election will be won ...         0         0    0   \n",
       "Bill Shorten takes town hall test: Trump, tax, ...         0         0    1   \n",
       "Indigenous incarceration: turning the tide on c...         0         0    0   \n",
       "CSG's last stand? In Narrabri everyone has a st...         0         0    2   \n",
       "\n",
       "                                                    ’ve NUM  ’ve just  \\\n",
       "‘Harrowing’ footage sparks calls for Queensland...        0         0   \n",
       "Queensland government accused of cowing to Chri...        0         0   \n",
       "Queensland government hoses down suggestions it...        0         0   \n",
       "Queensland government accused of failing to pro...        0         0   \n",
       "‘There has to be a way’: Queensland government ...        0         0   \n",
       "...                                                     ...       ...   \n",
       "Mark Latham takes aim at Sky boss in post-sacki...        0         0   \n",
       "Where the 2017 Queensland election will be won ...        0         0   \n",
       "Bill Shorten takes town hall test: Trump, tax, ...        0         0   \n",
       "Indigenous incarceration: turning the tide on c...        0         0   \n",
       "CSG's last stand? In Narrabri everyone has a st...        0         0   \n",
       "\n",
       "                                                    ’ve make  ’ve read  \\\n",
       "‘Harrowing’ footage sparks calls for Queensland...         0         0   \n",
       "Queensland government accused of cowing to Chri...         0         0   \n",
       "Queensland government hoses down suggestions it...         0         0   \n",
       "Queensland government accused of failing to pro...         0         0   \n",
       "‘There has to be a way’: Queensland government ...         0         0   \n",
       "...                                                      ...       ...   \n",
       "Mark Latham takes aim at Sky boss in post-sacki...         0         0   \n",
       "Where the 2017 Queensland election will be won ...         0         0   \n",
       "Bill Shorten takes town hall test: Trump, tax, ...         0         0   \n",
       "Indigenous incarceration: turning the tide on c...         0         0   \n",
       "CSG's last stand? In Narrabri everyone has a st...         0         0   \n",
       "\n",
       "                                                    ’ve say  ’ve tell  \n",
       "‘Harrowing’ footage sparks calls for Queensland...        0         0  \n",
       "Queensland government accused of cowing to Chri...        0         0  \n",
       "Queensland government hoses down suggestions it...        0         0  \n",
       "Queensland government accused of failing to pro...        0         0  \n",
       "‘There has to be a way’: Queensland government ...        0         0  \n",
       "...                                                     ...       ...  \n",
       "Mark Latham takes aim at Sky boss in post-sacki...        0         0  \n",
       "Where the 2017 Queensland election will be won ...        0         0  \n",
       "Bill Shorten takes town hall test: Trump, tax, ...        0         0  \n",
       "Indigenous incarceration: turning the tide on c...        0         0  \n",
       "CSG's last stand? In Narrabri everyone has a st...        0         0  \n",
       "\n",
       "[1063 rows x 10000 columns]"
      ]
     },
     "execution_count": 13,
     "metadata": {},
     "output_type": "execute_result"
    }
   ],
   "source": [
    "# Create a new dataframe with the matrix - use titles for the index and terms for the columns\n",
    "count_df = pd.DataFrame(count_dt_matrix.toarray(), index=articles.keys(), columns=feature_names)\n",
    "count_df"
   ]
  },
  {
   "attachments": {},
   "cell_type": "markdown",
   "id": "2974af8e",
   "metadata": {},
   "source": [
    "By selecting a row from the dataframe and sorting the values (counts), we can identify the top 10 terms"
   ]
  },
  {
   "attachments": {},
   "cell_type": "markdown",
   "id": "1e2378cc",
   "metadata": {},
   "source": [
    "#### Create a top10 terms dataframe\n",
    "\n",
    "Using the index from the documents, create a dataframe that can hold the top10 terms for each document. We also include columns for our other analysis (tfidf, lda, lda)"
   ]
  },
  {
   "cell_type": "code",
   "execution_count": 14,
   "id": "58edcb17",
   "metadata": {
    "scrolled": true
   },
   "outputs": [
    {
     "data": {
      "text/html": [
       "<div>\n",
       "<style scoped>\n",
       "    .dataframe tbody tr th:only-of-type {\n",
       "        vertical-align: middle;\n",
       "    }\n",
       "\n",
       "    .dataframe tbody tr th {\n",
       "        vertical-align: top;\n",
       "    }\n",
       "\n",
       "    .dataframe thead th {\n",
       "        text-align: right;\n",
       "    }\n",
       "</style>\n",
       "<table border=\"1\" class=\"dataframe\">\n",
       "  <thead>\n",
       "    <tr style=\"text-align: right;\">\n",
       "      <th></th>\n",
       "      <th>count</th>\n",
       "      <th>tfidf</th>\n",
       "      <th>lda</th>\n",
       "      <th>nmf</th>\n",
       "    </tr>\n",
       "  </thead>\n",
       "  <tbody>\n",
       "    <tr>\n",
       "      <th>‘Harrowing’ footage sparks calls for Queensland government to remove children from police watch houses [2024-07-18T15:00:15Z]</th>\n",
       "      <td>NaN</td>\n",
       "      <td>NaN</td>\n",
       "      <td>NaN</td>\n",
       "      <td>NaN</td>\n",
       "    </tr>\n",
       "    <tr>\n",
       "      <th>Queensland government accused of cowing to Christian Lobby on anti-discrimination bill [2024-06-14T15:00:56Z]</th>\n",
       "      <td>NaN</td>\n",
       "      <td>NaN</td>\n",
       "      <td>NaN</td>\n",
       "      <td>NaN</td>\n",
       "    </tr>\n",
       "    <tr>\n",
       "      <th>Queensland government hoses down suggestions it is considering bailout for Bonza [2024-05-10T08:26:48Z]</th>\n",
       "      <td>NaN</td>\n",
       "      <td>NaN</td>\n",
       "      <td>NaN</td>\n",
       "      <td>NaN</td>\n",
       "    </tr>\n",
       "    <tr>\n",
       "      <th>Queensland government accused of failing to provide adequate schooling to locked up children [2024-04-11T15:00:28Z]</th>\n",
       "      <td>NaN</td>\n",
       "      <td>NaN</td>\n",
       "      <td>NaN</td>\n",
       "      <td>NaN</td>\n",
       "    </tr>\n",
       "    <tr>\n",
       "      <th>‘There has to be a way’: Queensland government working to reunite Molly the magpie with family, premier says [2024-03-28T06:26:13Z]</th>\n",
       "      <td>NaN</td>\n",
       "      <td>NaN</td>\n",
       "      <td>NaN</td>\n",
       "      <td>NaN</td>\n",
       "    </tr>\n",
       "    <tr>\n",
       "      <th>...</th>\n",
       "      <td>...</td>\n",
       "      <td>...</td>\n",
       "      <td>...</td>\n",
       "      <td>...</td>\n",
       "    </tr>\n",
       "    <tr>\n",
       "      <th>Mark Latham takes aim at Sky boss in post-sacking Twitter spray | The Weekly Beast [2017-03-30T20:35:02Z]</th>\n",
       "      <td>NaN</td>\n",
       "      <td>NaN</td>\n",
       "      <td>NaN</td>\n",
       "      <td>NaN</td>\n",
       "    </tr>\n",
       "    <tr>\n",
       "      <th>Where the 2017 Queensland election will be won and lost [2017-10-29T02:00:35Z]</th>\n",
       "      <td>NaN</td>\n",
       "      <td>NaN</td>\n",
       "      <td>NaN</td>\n",
       "      <td>NaN</td>\n",
       "    </tr>\n",
       "    <tr>\n",
       "      <th>Bill Shorten takes town hall test: Trump, tax, refugees and the gum tree menace [2017-03-02T10:15:44Z]</th>\n",
       "      <td>NaN</td>\n",
       "      <td>NaN</td>\n",
       "      <td>NaN</td>\n",
       "      <td>NaN</td>\n",
       "    </tr>\n",
       "    <tr>\n",
       "      <th>Indigenous incarceration: turning the tide on colonisation's cruel third act [2017-02-20T03:08:41Z]</th>\n",
       "      <td>NaN</td>\n",
       "      <td>NaN</td>\n",
       "      <td>NaN</td>\n",
       "      <td>NaN</td>\n",
       "    </tr>\n",
       "    <tr>\n",
       "      <th>CSG's last stand? In Narrabri everyone has a stake in the farming v mining fight [2017-05-22T20:16:07Z]</th>\n",
       "      <td>NaN</td>\n",
       "      <td>NaN</td>\n",
       "      <td>NaN</td>\n",
       "      <td>NaN</td>\n",
       "    </tr>\n",
       "  </tbody>\n",
       "</table>\n",
       "<p>1063 rows × 4 columns</p>\n",
       "</div>"
      ],
      "text/plain": [
       "                                                   count tfidf  lda  nmf\n",
       "‘Harrowing’ footage sparks calls for Queensland...   NaN   NaN  NaN  NaN\n",
       "Queensland government accused of cowing to Chri...   NaN   NaN  NaN  NaN\n",
       "Queensland government hoses down suggestions it...   NaN   NaN  NaN  NaN\n",
       "Queensland government accused of failing to pro...   NaN   NaN  NaN  NaN\n",
       "‘There has to be a way’: Queensland government ...   NaN   NaN  NaN  NaN\n",
       "...                                                  ...   ...  ...  ...\n",
       "Mark Latham takes aim at Sky boss in post-sacki...   NaN   NaN  NaN  NaN\n",
       "Where the 2017 Queensland election will be won ...   NaN   NaN  NaN  NaN\n",
       "Bill Shorten takes town hall test: Trump, tax, ...   NaN   NaN  NaN  NaN\n",
       "Indigenous incarceration: turning the tide on c...   NaN   NaN  NaN  NaN\n",
       "CSG's last stand? In Narrabri everyone has a st...   NaN   NaN  NaN  NaN\n",
       "\n",
       "[1063 rows x 4 columns]"
      ]
     },
     "execution_count": 14,
     "metadata": {},
     "output_type": "execute_result"
    }
   ],
   "source": [
    "# Create a dataframe to hold top terms for each analysis type\n",
    "terms_df = pd.DataFrame(index=count_df.index,columns=['count','tfidf','lda','nmf'])\n",
    "terms_df"
   ]
  },
  {
   "attachments": {},
   "cell_type": "markdown",
   "id": "c139dd5b",
   "metadata": {},
   "source": [
    "Populate the count column with data created by the count vectorizer."
   ]
  },
  {
   "cell_type": "code",
   "execution_count": 15,
   "id": "8b43700a",
   "metadata": {},
   "outputs": [
    {
     "data": {
      "text/html": [
       "<div>\n",
       "<style scoped>\n",
       "    .dataframe tbody tr th:only-of-type {\n",
       "        vertical-align: middle;\n",
       "    }\n",
       "\n",
       "    .dataframe tbody tr th {\n",
       "        vertical-align: top;\n",
       "    }\n",
       "\n",
       "    .dataframe thead th {\n",
       "        text-align: right;\n",
       "    }\n",
       "</style>\n",
       "<table border=\"1\" class=\"dataframe\">\n",
       "  <thead>\n",
       "    <tr style=\"text-align: right;\">\n",
       "      <th></th>\n",
       "      <th>count</th>\n",
       "      <th>tfidf</th>\n",
       "      <th>lda</th>\n",
       "      <th>nmf</th>\n",
       "    </tr>\n",
       "  </thead>\n",
       "  <tbody>\n",
       "    <tr>\n",
       "      <th>‘Harrowing’ footage sparks calls for Queensland government to remove children from police watch houses [2024-07-18T15:00:15Z]</th>\n",
       "      <td>[child, watch, watch house, house, footage, yo...</td>\n",
       "      <td>NaN</td>\n",
       "      <td>NaN</td>\n",
       "      <td>NaN</td>\n",
       "    </tr>\n",
       "    <tr>\n",
       "      <th>Queensland government accused of cowing to Christian Lobby on anti-discrimination bill [2024-06-14T15:00:56Z]</th>\n",
       "      <td>[school, base, teacher, Labor, experience, fai...</td>\n",
       "      <td>NaN</td>\n",
       "      <td>NaN</td>\n",
       "      <td>NaN</td>\n",
       "    </tr>\n",
       "    <tr>\n",
       "      <th>Queensland government hoses down suggestions it is considering bailout for Bonza [2024-05-10T08:26:48Z]</th>\n",
       "      <td>[administrator, aircraft, federal, financial, ...</td>\n",
       "      <td>NaN</td>\n",
       "      <td>NaN</td>\n",
       "      <td>NaN</td>\n",
       "    </tr>\n",
       "    <tr>\n",
       "      <th>Queensland government accused of failing to provide adequate schooling to locked up children [2024-04-11T15:00:28Z]</th>\n",
       "      <td>[youth, child, hour, detention, centre, educat...</td>\n",
       "      <td>NaN</td>\n",
       "      <td>NaN</td>\n",
       "      <td>NaN</td>\n",
       "    </tr>\n",
       "    <tr>\n",
       "      <th>‘There has to be a way’: Queensland government working to reunite Molly the magpie with family, premier says [2024-03-28T06:26:13Z]</th>\n",
       "      <td>[Molly, family, department, bird, couple, care...</td>\n",
       "      <td>NaN</td>\n",
       "      <td>NaN</td>\n",
       "      <td>NaN</td>\n",
       "    </tr>\n",
       "    <tr>\n",
       "      <th>...</th>\n",
       "      <td>...</td>\n",
       "      <td>...</td>\n",
       "      <td>...</td>\n",
       "      <td>...</td>\n",
       "    </tr>\n",
       "    <tr>\n",
       "      <th>Mark Latham takes aim at Sky boss in post-sacking Twitter spray | The Weekly Beast [2017-03-30T20:35:02Z]</th>\n",
       "      <td>[Sky, political, News, Australian,  , change, ...</td>\n",
       "      <td>NaN</td>\n",
       "      <td>NaN</td>\n",
       "      <td>NaN</td>\n",
       "    </tr>\n",
       "    <tr>\n",
       "      <th>Where the 2017 Queensland election will be won and lost [2017-10-29T02:00:35Z]</th>\n",
       "      <td>[Labor, LNP, nation, seat, vote, party, Hanson...</td>\n",
       "      <td>NaN</td>\n",
       "      <td>NaN</td>\n",
       "      <td>NaN</td>\n",
       "    </tr>\n",
       "    <tr>\n",
       "      <th>Bill Shorten takes town hall test: Trump, tax, refugees and the gum tree menace [2017-03-02T10:15:44Z]</th>\n",
       "      <td>[Shorten, Labor, We, want, He, I, people, said...</td>\n",
       "      <td>NaN</td>\n",
       "      <td>NaN</td>\n",
       "      <td>NaN</td>\n",
       "    </tr>\n",
       "    <tr>\n",
       "      <th>Indigenous incarceration: turning the tide on colonisation's cruel third act [2017-02-20T03:08:41Z]</th>\n",
       "      <td>[indigenous, people, justice, child, issue, pr...</td>\n",
       "      <td>NaN</td>\n",
       "      <td>NaN</td>\n",
       "      <td>NaN</td>\n",
       "    </tr>\n",
       "    <tr>\n",
       "      <th>CSG's last stand? In Narrabri everyone has a stake in the farming v mining fight [2017-05-22T20:16:07Z]</th>\n",
       "      <td>[gas,  , project, I, community, town, impact, ...</td>\n",
       "      <td>NaN</td>\n",
       "      <td>NaN</td>\n",
       "      <td>NaN</td>\n",
       "    </tr>\n",
       "  </tbody>\n",
       "</table>\n",
       "<p>1063 rows × 4 columns</p>\n",
       "</div>"
      ],
      "text/plain": [
       "                                                                                                count  \\\n",
       "‘Harrowing’ footage sparks calls for Queensland...  [child, watch, watch house, house, footage, yo...   \n",
       "Queensland government accused of cowing to Chri...  [school, base, teacher, Labor, experience, fai...   \n",
       "Queensland government hoses down suggestions it...  [administrator, aircraft, federal, financial, ...   \n",
       "Queensland government accused of failing to pro...  [youth, child, hour, detention, centre, educat...   \n",
       "‘There has to be a way’: Queensland government ...  [Molly, family, department, bird, couple, care...   \n",
       "...                                                                                               ...   \n",
       "Mark Latham takes aim at Sky boss in post-sacki...  [Sky, political, News, Australian,  , change, ...   \n",
       "Where the 2017 Queensland election will be won ...  [Labor, LNP, nation, seat, vote, party, Hanson...   \n",
       "Bill Shorten takes town hall test: Trump, tax, ...  [Shorten, Labor, We, want, He, I, people, said...   \n",
       "Indigenous incarceration: turning the tide on c...  [indigenous, people, justice, child, issue, pr...   \n",
       "CSG's last stand? In Narrabri everyone has a st...  [gas,  , project, I, community, town, impact, ...   \n",
       "\n",
       "                                                   tfidf  lda  nmf  \n",
       "‘Harrowing’ footage sparks calls for Queensland...   NaN  NaN  NaN  \n",
       "Queensland government accused of cowing to Chri...   NaN  NaN  NaN  \n",
       "Queensland government hoses down suggestions it...   NaN  NaN  NaN  \n",
       "Queensland government accused of failing to pro...   NaN  NaN  NaN  \n",
       "‘There has to be a way’: Queensland government ...   NaN  NaN  NaN  \n",
       "...                                                  ...  ...  ...  \n",
       "Mark Latham takes aim at Sky boss in post-sacki...   NaN  NaN  NaN  \n",
       "Where the 2017 Queensland election will be won ...   NaN  NaN  NaN  \n",
       "Bill Shorten takes town hall test: Trump, tax, ...   NaN  NaN  NaN  \n",
       "Indigenous incarceration: turning the tide on c...   NaN  NaN  NaN  \n",
       "CSG's last stand? In Narrabri everyone has a st...   NaN  NaN  NaN  \n",
       "\n",
       "[1063 rows x 4 columns]"
      ]
     },
     "execution_count": 15,
     "metadata": {},
     "output_type": "execute_result"
    }
   ],
   "source": [
    "#For each doc, get the 10 columns with the largest counts\n",
    "for idx in terms_df.index:\n",
    "    counts = dict(count_df.loc[idx].sort_values(ascending=False).head(10))\n",
    "    #print(counts)\n",
    "    terms_df.at[idx,'count'] = list(counts.keys()) # Just the list of terms\n",
    "\n",
    "terms_df"
   ]
  },
  {
   "cell_type": "code",
   "execution_count": 16,
   "id": "7b719f0a",
   "metadata": {},
   "outputs": [],
   "source": [
    "# # Sample 5 random articles\n",
    "# samples = random.sample(range(0,len(terms_df)),5)\n",
    "\n",
    "# for sample in samples:\n",
    "#     doc = count_df.iloc[sample]\n",
    "#     top_terms = dict(count_df.iloc[sample].sort_values(ascending=False).head(10))\n",
    "#     print(f\"[{sample}] {doc.name}\")\n",
    "#     print(\"\\t- Top terms:\",top_terms)"
   ]
  },
  {
   "attachments": {},
   "cell_type": "markdown",
   "id": "cf4663b5",
   "metadata": {},
   "source": [
    "### Term Frequency / Inverse Document Frequency (TF/IDF)\n",
    "\n",
    "**Finding terms that are very common in a document, but less common in the whole collection**\n",
    "\n",
    "The [TF/IDF](https://en.wikipedia.org/wiki/Tf–idf) algorithm takes the term frequencies for a document and divides them by the frequencies of the terms in the whole collection.\n"
   ]
  },
  {
   "cell_type": "code",
   "execution_count": 17,
   "id": "95c3b9f6",
   "metadata": {},
   "outputs": [],
   "source": [
    "# Only count terms that in maximum of 75% of documents, and a minimum of 2 documents. \n",
    "# Count a maximum of 10000 terms, and remove common english stop words\n",
    "tfidf_vectorizer = TfidfVectorizer(\n",
    "                                   preprocessor=lambda x: re.sub(r\"([\\d\\.])+\", \"NUM\", x),\n",
    "                                   max_df=0.60,min_df=5,max_features=10000,\n",
    "                                   stop_words=StopWords, #Add stop words\n",
    "                                   tokenizer=lemmatize, # Lemmatiseer\n",
    "                                   ngram_range = (1,2) #Use Bigrams as well to pick up things like \"First Nation\"\n",
    ")"
   ]
  },
  {
   "cell_type": "code",
   "execution_count": 18,
   "id": "56935be9",
   "metadata": {},
   "outputs": [
    {
     "name": "stderr",
     "output_type": "stream",
     "text": [
      "c:\\Users\\Morgan\\AppData\\Local\\Programs\\Python\\Python312\\Lib\\site-packages\\sklearn\\feature_extraction\\text.py:521: UserWarning: The parameter 'token_pattern' will not be used since 'tokenizer' is not None'\n",
      "  warnings.warn(\n",
      "c:\\Users\\Morgan\\AppData\\Local\\Programs\\Python\\Python312\\Lib\\site-packages\\sklearn\\feature_extraction\\text.py:406: UserWarning: Your stop_words may be inconsistent with your preprocessing. Tokenizing the stop words generated tokens ['far', 'make', 'say', 'tell', 'whereaft'] not in stop_words.\n",
      "  warnings.warn(\n"
     ]
    }
   ],
   "source": [
    "# Get the document vectors\n",
    "tfidf_dt_matrix = tfidf_vectorizer.fit_transform(articles.values())\n",
    "\n",
    "# Display the vector for the first document\n",
    "#tfidf_dt_matrix.toarray()[0]"
   ]
  },
  {
   "attachments": {},
   "cell_type": "markdown",
   "id": "cd5c6b13",
   "metadata": {},
   "source": [
    "#### Display matrix in dataframe"
   ]
  },
  {
   "cell_type": "code",
   "execution_count": 19,
   "id": "6fa6b922",
   "metadata": {},
   "outputs": [
    {
     "data": {
      "text/html": [
       "<div>\n",
       "<style scoped>\n",
       "    .dataframe tbody tr th:only-of-type {\n",
       "        vertical-align: middle;\n",
       "    }\n",
       "\n",
       "    .dataframe tbody tr th {\n",
       "        vertical-align: top;\n",
       "    }\n",
       "\n",
       "    .dataframe thead th {\n",
       "        text-align: right;\n",
       "    }\n",
       "</style>\n",
       "<table border=\"1\" class=\"dataframe\">\n",
       "  <thead>\n",
       "    <tr style=\"text-align: right;\">\n",
       "      <th></th>\n",
       "      <th>\\n \\n</th>\n",
       "      <th>\\n \\n</th>\n",
       "      <th>\\n \\n \\n</th>\n",
       "      <th>\\n \\n \\n</th>\n",
       "      <th>\\n \\n</th>\n",
       "      <th>\\n \\n  \\n \\n</th>\n",
       "      <th>\\n \\n  \\n \\n   sign</th>\n",
       "      <th>\\n \\n  \\n</th>\n",
       "      <th>\\n \\n   relate</th>\n",
       "      <th>\\n \\n  Sign</th>\n",
       "      <th>...</th>\n",
       "      <th>’s work</th>\n",
       "      <th>’s world</th>\n",
       "      <th>’s youth</th>\n",
       "      <th>’ve</th>\n",
       "      <th>’ve NUM</th>\n",
       "      <th>’ve just</th>\n",
       "      <th>’ve make</th>\n",
       "      <th>’ve read</th>\n",
       "      <th>’ve say</th>\n",
       "      <th>’ve tell</th>\n",
       "    </tr>\n",
       "  </thead>\n",
       "  <tbody>\n",
       "    <tr>\n",
       "      <th>‘Harrowing’ footage sparks calls for Queensland government to remove children from police watch houses [2024-07-18T15:00:15Z]</th>\n",
       "      <td>0.026480</td>\n",
       "      <td>0.050064</td>\n",
       "      <td>0.0</td>\n",
       "      <td>0.0</td>\n",
       "      <td>0.065820</td>\n",
       "      <td>0.0</td>\n",
       "      <td>0.0</td>\n",
       "      <td>0.0</td>\n",
       "      <td>0.066178</td>\n",
       "      <td>0.000000</td>\n",
       "      <td>...</td>\n",
       "      <td>0.0</td>\n",
       "      <td>0.0</td>\n",
       "      <td>0.0</td>\n",
       "      <td>0.000000</td>\n",
       "      <td>0.0</td>\n",
       "      <td>0.0</td>\n",
       "      <td>0.0</td>\n",
       "      <td>0.0</td>\n",
       "      <td>0.0</td>\n",
       "      <td>0.0</td>\n",
       "    </tr>\n",
       "    <tr>\n",
       "      <th>Queensland government accused of cowing to Christian Lobby on anti-discrimination bill [2024-06-14T15:00:56Z]</th>\n",
       "      <td>0.000000</td>\n",
       "      <td>0.000000</td>\n",
       "      <td>0.0</td>\n",
       "      <td>0.0</td>\n",
       "      <td>0.000000</td>\n",
       "      <td>0.0</td>\n",
       "      <td>0.0</td>\n",
       "      <td>0.0</td>\n",
       "      <td>0.000000</td>\n",
       "      <td>0.000000</td>\n",
       "      <td>...</td>\n",
       "      <td>0.0</td>\n",
       "      <td>0.0</td>\n",
       "      <td>0.0</td>\n",
       "      <td>0.000000</td>\n",
       "      <td>0.0</td>\n",
       "      <td>0.0</td>\n",
       "      <td>0.0</td>\n",
       "      <td>0.0</td>\n",
       "      <td>0.0</td>\n",
       "      <td>0.0</td>\n",
       "    </tr>\n",
       "    <tr>\n",
       "      <th>Queensland government hoses down suggestions it is considering bailout for Bonza [2024-05-10T08:26:48Z]</th>\n",
       "      <td>0.000000</td>\n",
       "      <td>0.000000</td>\n",
       "      <td>0.0</td>\n",
       "      <td>0.0</td>\n",
       "      <td>0.000000</td>\n",
       "      <td>0.0</td>\n",
       "      <td>0.0</td>\n",
       "      <td>0.0</td>\n",
       "      <td>0.000000</td>\n",
       "      <td>0.000000</td>\n",
       "      <td>...</td>\n",
       "      <td>0.0</td>\n",
       "      <td>0.0</td>\n",
       "      <td>0.0</td>\n",
       "      <td>0.000000</td>\n",
       "      <td>0.0</td>\n",
       "      <td>0.0</td>\n",
       "      <td>0.0</td>\n",
       "      <td>0.0</td>\n",
       "      <td>0.0</td>\n",
       "      <td>0.0</td>\n",
       "    </tr>\n",
       "    <tr>\n",
       "      <th>Queensland government accused of failing to provide adequate schooling to locked up children [2024-04-11T15:00:28Z]</th>\n",
       "      <td>0.000000</td>\n",
       "      <td>0.000000</td>\n",
       "      <td>0.0</td>\n",
       "      <td>0.0</td>\n",
       "      <td>0.000000</td>\n",
       "      <td>0.0</td>\n",
       "      <td>0.0</td>\n",
       "      <td>0.0</td>\n",
       "      <td>0.000000</td>\n",
       "      <td>0.000000</td>\n",
       "      <td>...</td>\n",
       "      <td>0.0</td>\n",
       "      <td>0.0</td>\n",
       "      <td>0.0</td>\n",
       "      <td>0.000000</td>\n",
       "      <td>0.0</td>\n",
       "      <td>0.0</td>\n",
       "      <td>0.0</td>\n",
       "      <td>0.0</td>\n",
       "      <td>0.0</td>\n",
       "      <td>0.0</td>\n",
       "    </tr>\n",
       "    <tr>\n",
       "      <th>‘There has to be a way’: Queensland government working to reunite Molly the magpie with family, premier says [2024-03-28T06:26:13Z]</th>\n",
       "      <td>0.045693</td>\n",
       "      <td>0.043194</td>\n",
       "      <td>0.0</td>\n",
       "      <td>0.0</td>\n",
       "      <td>0.037859</td>\n",
       "      <td>0.0</td>\n",
       "      <td>0.0</td>\n",
       "      <td>0.0</td>\n",
       "      <td>0.038064</td>\n",
       "      <td>0.057274</td>\n",
       "      <td>...</td>\n",
       "      <td>0.0</td>\n",
       "      <td>0.0</td>\n",
       "      <td>0.0</td>\n",
       "      <td>0.024792</td>\n",
       "      <td>0.0</td>\n",
       "      <td>0.0</td>\n",
       "      <td>0.0</td>\n",
       "      <td>0.0</td>\n",
       "      <td>0.0</td>\n",
       "      <td>0.0</td>\n",
       "    </tr>\n",
       "    <tr>\n",
       "      <th>...</th>\n",
       "      <td>...</td>\n",
       "      <td>...</td>\n",
       "      <td>...</td>\n",
       "      <td>...</td>\n",
       "      <td>...</td>\n",
       "      <td>...</td>\n",
       "      <td>...</td>\n",
       "      <td>...</td>\n",
       "      <td>...</td>\n",
       "      <td>...</td>\n",
       "      <td>...</td>\n",
       "      <td>...</td>\n",
       "      <td>...</td>\n",
       "      <td>...</td>\n",
       "      <td>...</td>\n",
       "      <td>...</td>\n",
       "      <td>...</td>\n",
       "      <td>...</td>\n",
       "      <td>...</td>\n",
       "      <td>...</td>\n",
       "      <td>...</td>\n",
       "    </tr>\n",
       "    <tr>\n",
       "      <th>Mark Latham takes aim at Sky boss in post-sacking Twitter spray | The Weekly Beast [2017-03-30T20:35:02Z]</th>\n",
       "      <td>0.000000</td>\n",
       "      <td>0.000000</td>\n",
       "      <td>0.0</td>\n",
       "      <td>0.0</td>\n",
       "      <td>0.000000</td>\n",
       "      <td>0.0</td>\n",
       "      <td>0.0</td>\n",
       "      <td>0.0</td>\n",
       "      <td>0.000000</td>\n",
       "      <td>0.000000</td>\n",
       "      <td>...</td>\n",
       "      <td>0.0</td>\n",
       "      <td>0.0</td>\n",
       "      <td>0.0</td>\n",
       "      <td>0.000000</td>\n",
       "      <td>0.0</td>\n",
       "      <td>0.0</td>\n",
       "      <td>0.0</td>\n",
       "      <td>0.0</td>\n",
       "      <td>0.0</td>\n",
       "      <td>0.0</td>\n",
       "    </tr>\n",
       "    <tr>\n",
       "      <th>Where the 2017 Queensland election will be won and lost [2017-10-29T02:00:35Z]</th>\n",
       "      <td>0.000000</td>\n",
       "      <td>0.000000</td>\n",
       "      <td>0.0</td>\n",
       "      <td>0.0</td>\n",
       "      <td>0.000000</td>\n",
       "      <td>0.0</td>\n",
       "      <td>0.0</td>\n",
       "      <td>0.0</td>\n",
       "      <td>0.000000</td>\n",
       "      <td>0.000000</td>\n",
       "      <td>...</td>\n",
       "      <td>0.0</td>\n",
       "      <td>0.0</td>\n",
       "      <td>0.0</td>\n",
       "      <td>0.000000</td>\n",
       "      <td>0.0</td>\n",
       "      <td>0.0</td>\n",
       "      <td>0.0</td>\n",
       "      <td>0.0</td>\n",
       "      <td>0.0</td>\n",
       "      <td>0.0</td>\n",
       "    </tr>\n",
       "    <tr>\n",
       "      <th>Bill Shorten takes town hall test: Trump, tax, refugees and the gum tree menace [2017-03-02T10:15:44Z]</th>\n",
       "      <td>0.000000</td>\n",
       "      <td>0.000000</td>\n",
       "      <td>0.0</td>\n",
       "      <td>0.0</td>\n",
       "      <td>0.000000</td>\n",
       "      <td>0.0</td>\n",
       "      <td>0.0</td>\n",
       "      <td>0.0</td>\n",
       "      <td>0.000000</td>\n",
       "      <td>0.000000</td>\n",
       "      <td>...</td>\n",
       "      <td>0.0</td>\n",
       "      <td>0.0</td>\n",
       "      <td>0.0</td>\n",
       "      <td>0.012028</td>\n",
       "      <td>0.0</td>\n",
       "      <td>0.0</td>\n",
       "      <td>0.0</td>\n",
       "      <td>0.0</td>\n",
       "      <td>0.0</td>\n",
       "      <td>0.0</td>\n",
       "    </tr>\n",
       "    <tr>\n",
       "      <th>Indigenous incarceration: turning the tide on colonisation's cruel third act [2017-02-20T03:08:41Z]</th>\n",
       "      <td>0.000000</td>\n",
       "      <td>0.000000</td>\n",
       "      <td>0.0</td>\n",
       "      <td>0.0</td>\n",
       "      <td>0.000000</td>\n",
       "      <td>0.0</td>\n",
       "      <td>0.0</td>\n",
       "      <td>0.0</td>\n",
       "      <td>0.000000</td>\n",
       "      <td>0.000000</td>\n",
       "      <td>...</td>\n",
       "      <td>0.0</td>\n",
       "      <td>0.0</td>\n",
       "      <td>0.0</td>\n",
       "      <td>0.000000</td>\n",
       "      <td>0.0</td>\n",
       "      <td>0.0</td>\n",
       "      <td>0.0</td>\n",
       "      <td>0.0</td>\n",
       "      <td>0.0</td>\n",
       "      <td>0.0</td>\n",
       "    </tr>\n",
       "    <tr>\n",
       "      <th>CSG's last stand? In Narrabri everyone has a stake in the farming v mining fight [2017-05-22T20:16:07Z]</th>\n",
       "      <td>0.000000</td>\n",
       "      <td>0.000000</td>\n",
       "      <td>0.0</td>\n",
       "      <td>0.0</td>\n",
       "      <td>0.000000</td>\n",
       "      <td>0.0</td>\n",
       "      <td>0.0</td>\n",
       "      <td>0.0</td>\n",
       "      <td>0.000000</td>\n",
       "      <td>0.000000</td>\n",
       "      <td>...</td>\n",
       "      <td>0.0</td>\n",
       "      <td>0.0</td>\n",
       "      <td>0.0</td>\n",
       "      <td>0.015269</td>\n",
       "      <td>0.0</td>\n",
       "      <td>0.0</td>\n",
       "      <td>0.0</td>\n",
       "      <td>0.0</td>\n",
       "      <td>0.0</td>\n",
       "      <td>0.0</td>\n",
       "    </tr>\n",
       "  </tbody>\n",
       "</table>\n",
       "<p>1063 rows × 10000 columns</p>\n",
       "</div>"
      ],
      "text/plain": [
       "                                                       \\n \\n    \\n \\n   \\\n",
       "‘Harrowing’ footage sparks calls for Queensland...  0.026480  0.050064   \n",
       "Queensland government accused of cowing to Chri...  0.000000  0.000000   \n",
       "Queensland government hoses down suggestions it...  0.000000  0.000000   \n",
       "Queensland government accused of failing to pro...  0.000000  0.000000   \n",
       "‘There has to be a way’: Queensland government ...  0.045693  0.043194   \n",
       "...                                                      ...       ...   \n",
       "Mark Latham takes aim at Sky boss in post-sacki...  0.000000  0.000000   \n",
       "Where the 2017 Queensland election will be won ...  0.000000  0.000000   \n",
       "Bill Shorten takes town hall test: Trump, tax, ...  0.000000  0.000000   \n",
       "Indigenous incarceration: turning the tide on c...  0.000000  0.000000   \n",
       "CSG's last stand? In Narrabri everyone has a st...  0.000000  0.000000   \n",
       "\n",
       "                                                    \\n \\n \\n   \\n \\n \\n    \\\n",
       "‘Harrowing’ footage sparks calls for Queensland...        0.0         0.0   \n",
       "Queensland government accused of cowing to Chri...        0.0         0.0   \n",
       "Queensland government hoses down suggestions it...        0.0         0.0   \n",
       "Queensland government accused of failing to pro...        0.0         0.0   \n",
       "‘There has to be a way’: Queensland government ...        0.0         0.0   \n",
       "...                                                       ...         ...   \n",
       "Mark Latham takes aim at Sky boss in post-sacki...        0.0         0.0   \n",
       "Where the 2017 Queensland election will be won ...        0.0         0.0   \n",
       "Bill Shorten takes town hall test: Trump, tax, ...        0.0         0.0   \n",
       "Indigenous incarceration: turning the tide on c...        0.0         0.0   \n",
       "CSG's last stand? In Narrabri everyone has a st...        0.0         0.0   \n",
       "\n",
       "                                                     \\n \\n    \\n \\n  \\n \\n    \\\n",
       "‘Harrowing’ footage sparks calls for Queensland...  0.065820             0.0   \n",
       "Queensland government accused of cowing to Chri...  0.000000             0.0   \n",
       "Queensland government hoses down suggestions it...  0.000000             0.0   \n",
       "Queensland government accused of failing to pro...  0.000000             0.0   \n",
       "‘There has to be a way’: Queensland government ...  0.037859             0.0   \n",
       "...                                                      ...             ...   \n",
       "Mark Latham takes aim at Sky boss in post-sacki...  0.000000             0.0   \n",
       "Where the 2017 Queensland election will be won ...  0.000000             0.0   \n",
       "Bill Shorten takes town hall test: Trump, tax, ...  0.000000             0.0   \n",
       "Indigenous incarceration: turning the tide on c...  0.000000             0.0   \n",
       "CSG's last stand? In Narrabri everyone has a st...  0.000000             0.0   \n",
       "\n",
       "                                                    \\n \\n  \\n \\n   sign  \\\n",
       "‘Harrowing’ footage sparks calls for Queensland...                  0.0   \n",
       "Queensland government accused of cowing to Chri...                  0.0   \n",
       "Queensland government hoses down suggestions it...                  0.0   \n",
       "Queensland government accused of failing to pro...                  0.0   \n",
       "‘There has to be a way’: Queensland government ...                  0.0   \n",
       "...                                                                 ...   \n",
       "Mark Latham takes aim at Sky boss in post-sacki...                  0.0   \n",
       "Where the 2017 Queensland election will be won ...                  0.0   \n",
       "Bill Shorten takes town hall test: Trump, tax, ...                  0.0   \n",
       "Indigenous incarceration: turning the tide on c...                  0.0   \n",
       "CSG's last stand? In Narrabri everyone has a st...                  0.0   \n",
       "\n",
       "                                                    \\n \\n  \\n    \\\n",
       "‘Harrowing’ footage sparks calls for Queensland...          0.0   \n",
       "Queensland government accused of cowing to Chri...          0.0   \n",
       "Queensland government hoses down suggestions it...          0.0   \n",
       "Queensland government accused of failing to pro...          0.0   \n",
       "‘There has to be a way’: Queensland government ...          0.0   \n",
       "...                                                         ...   \n",
       "Mark Latham takes aim at Sky boss in post-sacki...          0.0   \n",
       "Where the 2017 Queensland election will be won ...          0.0   \n",
       "Bill Shorten takes town hall test: Trump, tax, ...          0.0   \n",
       "Indigenous incarceration: turning the tide on c...          0.0   \n",
       "CSG's last stand? In Narrabri everyone has a st...          0.0   \n",
       "\n",
       "                                                    \\n \\n   relate  \\\n",
       "‘Harrowing’ footage sparks calls for Queensland...        0.066178   \n",
       "Queensland government accused of cowing to Chri...        0.000000   \n",
       "Queensland government hoses down suggestions it...        0.000000   \n",
       "Queensland government accused of failing to pro...        0.000000   \n",
       "‘There has to be a way’: Queensland government ...        0.038064   \n",
       "...                                                            ...   \n",
       "Mark Latham takes aim at Sky boss in post-sacki...        0.000000   \n",
       "Where the 2017 Queensland election will be won ...        0.000000   \n",
       "Bill Shorten takes town hall test: Trump, tax, ...        0.000000   \n",
       "Indigenous incarceration: turning the tide on c...        0.000000   \n",
       "CSG's last stand? In Narrabri everyone has a st...        0.000000   \n",
       "\n",
       "                                                    \\n \\n  Sign  ...  ’s work  \\\n",
       "‘Harrowing’ footage sparks calls for Queensland...     0.000000  ...      0.0   \n",
       "Queensland government accused of cowing to Chri...     0.000000  ...      0.0   \n",
       "Queensland government hoses down suggestions it...     0.000000  ...      0.0   \n",
       "Queensland government accused of failing to pro...     0.000000  ...      0.0   \n",
       "‘There has to be a way’: Queensland government ...     0.057274  ...      0.0   \n",
       "...                                                         ...  ...      ...   \n",
       "Mark Latham takes aim at Sky boss in post-sacki...     0.000000  ...      0.0   \n",
       "Where the 2017 Queensland election will be won ...     0.000000  ...      0.0   \n",
       "Bill Shorten takes town hall test: Trump, tax, ...     0.000000  ...      0.0   \n",
       "Indigenous incarceration: turning the tide on c...     0.000000  ...      0.0   \n",
       "CSG's last stand? In Narrabri everyone has a st...     0.000000  ...      0.0   \n",
       "\n",
       "                                                    ’s world  ’s youth  \\\n",
       "‘Harrowing’ footage sparks calls for Queensland...       0.0       0.0   \n",
       "Queensland government accused of cowing to Chri...       0.0       0.0   \n",
       "Queensland government hoses down suggestions it...       0.0       0.0   \n",
       "Queensland government accused of failing to pro...       0.0       0.0   \n",
       "‘There has to be a way’: Queensland government ...       0.0       0.0   \n",
       "...                                                      ...       ...   \n",
       "Mark Latham takes aim at Sky boss in post-sacki...       0.0       0.0   \n",
       "Where the 2017 Queensland election will be won ...       0.0       0.0   \n",
       "Bill Shorten takes town hall test: Trump, tax, ...       0.0       0.0   \n",
       "Indigenous incarceration: turning the tide on c...       0.0       0.0   \n",
       "CSG's last stand? In Narrabri everyone has a st...       0.0       0.0   \n",
       "\n",
       "                                                         ’ve  ’ve NUM  \\\n",
       "‘Harrowing’ footage sparks calls for Queensland...  0.000000      0.0   \n",
       "Queensland government accused of cowing to Chri...  0.000000      0.0   \n",
       "Queensland government hoses down suggestions it...  0.000000      0.0   \n",
       "Queensland government accused of failing to pro...  0.000000      0.0   \n",
       "‘There has to be a way’: Queensland government ...  0.024792      0.0   \n",
       "...                                                      ...      ...   \n",
       "Mark Latham takes aim at Sky boss in post-sacki...  0.000000      0.0   \n",
       "Where the 2017 Queensland election will be won ...  0.000000      0.0   \n",
       "Bill Shorten takes town hall test: Trump, tax, ...  0.012028      0.0   \n",
       "Indigenous incarceration: turning the tide on c...  0.000000      0.0   \n",
       "CSG's last stand? In Narrabri everyone has a st...  0.015269      0.0   \n",
       "\n",
       "                                                    ’ve just  ’ve make  \\\n",
       "‘Harrowing’ footage sparks calls for Queensland...       0.0       0.0   \n",
       "Queensland government accused of cowing to Chri...       0.0       0.0   \n",
       "Queensland government hoses down suggestions it...       0.0       0.0   \n",
       "Queensland government accused of failing to pro...       0.0       0.0   \n",
       "‘There has to be a way’: Queensland government ...       0.0       0.0   \n",
       "...                                                      ...       ...   \n",
       "Mark Latham takes aim at Sky boss in post-sacki...       0.0       0.0   \n",
       "Where the 2017 Queensland election will be won ...       0.0       0.0   \n",
       "Bill Shorten takes town hall test: Trump, tax, ...       0.0       0.0   \n",
       "Indigenous incarceration: turning the tide on c...       0.0       0.0   \n",
       "CSG's last stand? In Narrabri everyone has a st...       0.0       0.0   \n",
       "\n",
       "                                                    ’ve read  ’ve say  \\\n",
       "‘Harrowing’ footage sparks calls for Queensland...       0.0      0.0   \n",
       "Queensland government accused of cowing to Chri...       0.0      0.0   \n",
       "Queensland government hoses down suggestions it...       0.0      0.0   \n",
       "Queensland government accused of failing to pro...       0.0      0.0   \n",
       "‘There has to be a way’: Queensland government ...       0.0      0.0   \n",
       "...                                                      ...      ...   \n",
       "Mark Latham takes aim at Sky boss in post-sacki...       0.0      0.0   \n",
       "Where the 2017 Queensland election will be won ...       0.0      0.0   \n",
       "Bill Shorten takes town hall test: Trump, tax, ...       0.0      0.0   \n",
       "Indigenous incarceration: turning the tide on c...       0.0      0.0   \n",
       "CSG's last stand? In Narrabri everyone has a st...       0.0      0.0   \n",
       "\n",
       "                                                    ’ve tell  \n",
       "‘Harrowing’ footage sparks calls for Queensland...       0.0  \n",
       "Queensland government accused of cowing to Chri...       0.0  \n",
       "Queensland government hoses down suggestions it...       0.0  \n",
       "Queensland government accused of failing to pro...       0.0  \n",
       "‘There has to be a way’: Queensland government ...       0.0  \n",
       "...                                                      ...  \n",
       "Mark Latham takes aim at Sky boss in post-sacki...       0.0  \n",
       "Where the 2017 Queensland election will be won ...       0.0  \n",
       "Bill Shorten takes town hall test: Trump, tax, ...       0.0  \n",
       "Indigenous incarceration: turning the tide on c...       0.0  \n",
       "CSG's last stand? In Narrabri everyone has a st...       0.0  \n",
       "\n",
       "[1063 rows x 10000 columns]"
      ]
     },
     "execution_count": 19,
     "metadata": {},
     "output_type": "execute_result"
    }
   ],
   "source": [
    "tfidf_df = pd.DataFrame(tfidf_dt_matrix.toarray(), index=articles.keys(), columns=tfidf_vectorizer.get_feature_names_out())\n",
    "tfidf_df"
   ]
  },
  {
   "attachments": {},
   "cell_type": "markdown",
   "id": "1b8893fd",
   "metadata": {},
   "source": [
    "#### Update the terms matrix"
   ]
  },
  {
   "cell_type": "code",
   "execution_count": 20,
   "id": "4a6eb661",
   "metadata": {},
   "outputs": [
    {
     "data": {
      "text/html": [
       "<div>\n",
       "<style scoped>\n",
       "    .dataframe tbody tr th:only-of-type {\n",
       "        vertical-align: middle;\n",
       "    }\n",
       "\n",
       "    .dataframe tbody tr th {\n",
       "        vertical-align: top;\n",
       "    }\n",
       "\n",
       "    .dataframe thead th {\n",
       "        text-align: right;\n",
       "    }\n",
       "</style>\n",
       "<table border=\"1\" class=\"dataframe\">\n",
       "  <thead>\n",
       "    <tr style=\"text-align: right;\">\n",
       "      <th></th>\n",
       "      <th>count</th>\n",
       "      <th>tfidf</th>\n",
       "      <th>lda</th>\n",
       "      <th>nmf</th>\n",
       "    </tr>\n",
       "  </thead>\n",
       "  <tbody>\n",
       "    <tr>\n",
       "      <th>‘Harrowing’ footage sparks calls for Queensland government to remove children from police watch houses [2024-07-18T15:00:15Z]</th>\n",
       "      <td>[child, watch, watch house, house, footage, yo...</td>\n",
       "      <td>[child, watch, watch house, footage, house, ad...</td>\n",
       "      <td>NaN</td>\n",
       "      <td>NaN</td>\n",
       "    </tr>\n",
       "    <tr>\n",
       "      <th>Queensland government accused of cowing to Christian Lobby on anti-discrimination bill [2024-06-14T15:00:56Z]</th>\n",
       "      <td>[school, base, teacher, Labor, experience, fai...</td>\n",
       "      <td>[teacher, faith base, school, faith, discrimin...</td>\n",
       "      <td>NaN</td>\n",
       "      <td>NaN</td>\n",
       "    </tr>\n",
       "    <tr>\n",
       "      <th>Queensland government hoses down suggestions it is considering bailout for Bonza [2024-05-10T08:26:48Z]</th>\n",
       "      <td>[administrator, aircraft, federal, financial, ...</td>\n",
       "      <td>[administrator, aircraft, airline, creditor, p...</td>\n",
       "      <td>NaN</td>\n",
       "      <td>NaN</td>\n",
       "    </tr>\n",
       "    <tr>\n",
       "      <th>Queensland government accused of failing to provide adequate schooling to locked up children [2024-04-11T15:00:28Z]</th>\n",
       "      <td>[youth, child, hour, detention, centre, educat...</td>\n",
       "      <td>[youth, detention, detention centre, education...</td>\n",
       "      <td>NaN</td>\n",
       "      <td>NaN</td>\n",
       "    </tr>\n",
       "    <tr>\n",
       "      <th>‘There has to be a way’: Queensland government working to reunite Molly the magpie with family, premier says [2024-03-28T06:26:13Z]</th>\n",
       "      <td>[Molly, family, department, bird, couple, care...</td>\n",
       "      <td>[Molly, carer, bird, reunite, family, couple, ...</td>\n",
       "      <td>NaN</td>\n",
       "      <td>NaN</td>\n",
       "    </tr>\n",
       "    <tr>\n",
       "      <th>...</th>\n",
       "      <td>...</td>\n",
       "      <td>...</td>\n",
       "      <td>...</td>\n",
       "      <td>...</td>\n",
       "    </tr>\n",
       "    <tr>\n",
       "      <th>Mark Latham takes aim at Sky boss in post-sacking Twitter spray | The Weekly Beast [2017-03-30T20:35:02Z]</th>\n",
       "      <td>[Sky, political, News, Australian,  , change, ...</td>\n",
       "      <td>[Sky, Sky News, News, ad, political, Lloyd, re...</td>\n",
       "      <td>NaN</td>\n",
       "      <td>NaN</td>\n",
       "    </tr>\n",
       "    <tr>\n",
       "      <th>Where the 2017 Queensland election will be won and lost [2017-10-29T02:00:35Z]</th>\n",
       "      <td>[Labor, LNP, nation, seat, vote, party, Hanson...</td>\n",
       "      <td>[LNP, Labor, nation, Hanson, seat, vote, prima...</td>\n",
       "      <td>NaN</td>\n",
       "      <td>NaN</td>\n",
       "    </tr>\n",
       "    <tr>\n",
       "      <th>Bill Shorten takes town hall test: Trump, tax, refugees and the gum tree menace [2017-03-02T10:15:44Z]</th>\n",
       "      <td>[Shorten, Labor, We, want, He, I, people, said...</td>\n",
       "      <td>[Shorten, Labor, hall, yes, progressive, Labor...</td>\n",
       "      <td>NaN</td>\n",
       "      <td>NaN</td>\n",
       "    </tr>\n",
       "    <tr>\n",
       "      <th>Indigenous incarceration: turning the tide on colonisation's cruel third act [2017-02-20T03:08:41Z]</th>\n",
       "      <td>[indigenous, people, justice, child, issue, pr...</td>\n",
       "      <td>[indigenous, justice, child, Aboriginal, Torre...</td>\n",
       "      <td>NaN</td>\n",
       "      <td>NaN</td>\n",
       "    </tr>\n",
       "    <tr>\n",
       "      <th>CSG's last stand? In Narrabri everyone has a stake in the farming v mining fight [2017-05-22T20:16:07Z]</th>\n",
       "      <td>[gas,  , project, I, community, town, impact, ...</td>\n",
       "      <td>[gas, Santos, project, town, seam,  , royalty,...</td>\n",
       "      <td>NaN</td>\n",
       "      <td>NaN</td>\n",
       "    </tr>\n",
       "  </tbody>\n",
       "</table>\n",
       "<p>1063 rows × 4 columns</p>\n",
       "</div>"
      ],
      "text/plain": [
       "                                                                                                count  \\\n",
       "‘Harrowing’ footage sparks calls for Queensland...  [child, watch, watch house, house, footage, yo...   \n",
       "Queensland government accused of cowing to Chri...  [school, base, teacher, Labor, experience, fai...   \n",
       "Queensland government hoses down suggestions it...  [administrator, aircraft, federal, financial, ...   \n",
       "Queensland government accused of failing to pro...  [youth, child, hour, detention, centre, educat...   \n",
       "‘There has to be a way’: Queensland government ...  [Molly, family, department, bird, couple, care...   \n",
       "...                                                                                               ...   \n",
       "Mark Latham takes aim at Sky boss in post-sacki...  [Sky, political, News, Australian,  , change, ...   \n",
       "Where the 2017 Queensland election will be won ...  [Labor, LNP, nation, seat, vote, party, Hanson...   \n",
       "Bill Shorten takes town hall test: Trump, tax, ...  [Shorten, Labor, We, want, He, I, people, said...   \n",
       "Indigenous incarceration: turning the tide on c...  [indigenous, people, justice, child, issue, pr...   \n",
       "CSG's last stand? In Narrabri everyone has a st...  [gas,  , project, I, community, town, impact, ...   \n",
       "\n",
       "                                                                                                tfidf  \\\n",
       "‘Harrowing’ footage sparks calls for Queensland...  [child, watch, watch house, footage, house, ad...   \n",
       "Queensland government accused of cowing to Chri...  [teacher, faith base, school, faith, discrimin...   \n",
       "Queensland government hoses down suggestions it...  [administrator, aircraft, airline, creditor, p...   \n",
       "Queensland government accused of failing to pro...  [youth, detention, detention centre, education...   \n",
       "‘There has to be a way’: Queensland government ...  [Molly, carer, bird, reunite, family, couple, ...   \n",
       "...                                                                                               ...   \n",
       "Mark Latham takes aim at Sky boss in post-sacki...  [Sky, Sky News, News, ad, political, Lloyd, re...   \n",
       "Where the 2017 Queensland election will be won ...  [LNP, Labor, nation, Hanson, seat, vote, prima...   \n",
       "Bill Shorten takes town hall test: Trump, tax, ...  [Shorten, Labor, hall, yes, progressive, Labor...   \n",
       "Indigenous incarceration: turning the tide on c...  [indigenous, justice, child, Aboriginal, Torre...   \n",
       "CSG's last stand? In Narrabri everyone has a st...  [gas, Santos, project, town, seam,  , royalty,...   \n",
       "\n",
       "                                                    lda  nmf  \n",
       "‘Harrowing’ footage sparks calls for Queensland...  NaN  NaN  \n",
       "Queensland government accused of cowing to Chri...  NaN  NaN  \n",
       "Queensland government hoses down suggestions it...  NaN  NaN  \n",
       "Queensland government accused of failing to pro...  NaN  NaN  \n",
       "‘There has to be a way’: Queensland government ...  NaN  NaN  \n",
       "...                                                 ...  ...  \n",
       "Mark Latham takes aim at Sky boss in post-sacki...  NaN  NaN  \n",
       "Where the 2017 Queensland election will be won ...  NaN  NaN  \n",
       "Bill Shorten takes town hall test: Trump, tax, ...  NaN  NaN  \n",
       "Indigenous incarceration: turning the tide on c...  NaN  NaN  \n",
       "CSG's last stand? In Narrabri everyone has a st...  NaN  NaN  \n",
       "\n",
       "[1063 rows x 4 columns]"
      ]
     },
     "execution_count": 20,
     "metadata": {},
     "output_type": "execute_result"
    }
   ],
   "source": [
    "for idx in terms_df.index:\n",
    "    tfidf = dict(tfidf_df.loc[idx].sort_values(ascending=False).head(10))\n",
    "    #print(counts)\n",
    "    terms_df.at[idx,'tfidf'] = list(tfidf.keys()) \n",
    "\n",
    "terms_df"
   ]
  },
  {
   "attachments": {},
   "cell_type": "markdown",
   "id": "7f1b1b9f",
   "metadata": {},
   "source": [
    "#### Compare approaches"
   ]
  },
  {
   "cell_type": "code",
   "execution_count": 21,
   "id": "0c24a660",
   "metadata": {},
   "outputs": [],
   "source": [
    "# # Sample 5 random articles\n",
    "# samples = random.sample(range(0,len(terms_df)),5)\n",
    "\n",
    "# for sample in samples:\n",
    "#     doc = terms_df.iloc[sample]\n",
    "#     print(f\"[{sample}] {doc.name}\")\n",
    "#     print(\"\\t- Counts:\\t\",doc['count'])\n",
    "#     print(\"\\t- TFIDF:\\t\",doc['tfidf'])\n",
    "#     print()"
   ]
  },
  {
   "attachments": {},
   "cell_type": "markdown",
   "id": "ca19dd67",
   "metadata": {},
   "source": [
    "### Topic modelling with Latent Dirichlet Allocation (LDA)\n",
    "\n",
    "[LDA](https://en.wikipedia.org/wiki/Latent_Dirichlet_allocation) is an algorithm for obtaining *topics* (a list of terms) from a document-term matrix. It is a generative probabilistic approach to *decomposition* of the document-term matrix into 2 factor matrices: document-topic and topic-term.\n",
    "\n",
    "![img](https://editor.analyticsvidhya.com/uploads/26864dtm.JPG)\n",
    "\n",
    "*Source: [Analytics Vidhya](https://www.analyticsvidhya.com/blog/2021/06/part-2-topic-modeling-and-latent-dirichlet-allocation-lda-using-gensim-and-sklearn/)*"
   ]
  },
  {
   "attachments": {},
   "cell_type": "markdown",
   "id": "37d90824",
   "metadata": {},
   "source": [
    "The LDA model requires the number of topics to be set in advance. As it is a generative model, it also runs over a number of iterations. These values usually need to be experimented with to obtain quality topics."
   ]
  },
  {
   "cell_type": "code",
   "execution_count": 22,
   "id": "5c1d408e",
   "metadata": {},
   "outputs": [],
   "source": [
    "# Set number of topics\n",
    "num_topics = 15\n",
    "# Set max number of iteractions\n",
    "max_iterations = 500\n",
    "\n",
    "# Create the model\n",
    "lda_model = LatentDirichletAllocation(n_components=num_topics,max_iter=max_iterations,learning_method='online')\n",
    "\n",
    "# Fit the model to the data, and use the model to transform the data (do the decomposition)\n",
    "doc_topic_matrix = lda_model.fit_transform(count_dt_matrix) # Note that this uses the counts already processed\n",
    "\n",
    "# Obtain the topics\n",
    "topic_term_matrix = lda_model.components_"
   ]
  },
  {
   "attachments": {},
   "cell_type": "markdown",
   "id": "5e32c2dc",
   "metadata": {},
   "source": [
    "#### View the topics"
   ]
  },
  {
   "cell_type": "code",
   "execution_count": 23,
   "id": "1cd1b96f",
   "metadata": {},
   "outputs": [
    {
     "name": "stdout",
     "output_type": "stream",
     "text": [
      "topic_0\n",
      "{'I': 1581.5397, 'people': 719.769, ' ': 554.9478, 'like': 459.1645, 'We': 451.7063, 'just': 451.1717, 'tell': 439.311, 'party': 420.4249, 'time': 418.1599, 'federal': 402.5929}\n",
      "\n",
      "topic_1\n",
      "{'Adani': 1639.6172, 'Carmichael': 384.7475, 'Adani ’s': 327.3459, 'company': 323.4741, 'project': 304.1369, 'coal': 229.0547, 'royalty': 209.3115, 'loan': 207.6915, 'rail': 195.465, 'coalmine': 188.2865}\n",
      "\n",
      "topic_2\n",
      "{'housing': 331.3087, 'NUMm': 302.8824, 'cost': 272.1416, ' ': 271.6818, 'home': 255.4294, 'num%': 223.5067, 'We': 221.654, 'rent': 220.6801, 'people': 213.0859, 'saidNUM': 202.4782}\n",
      "\n",
      "topic_3\n",
      "{'police': 786.7328, 'violence': 455.8961, 'domestic': 377.815, 'woman': 314.6548, 'officer': 276.3137, 'domestic violence': 273.0379, 'inquiry': 242.4935, 'court': 206.3884, 'law': 179.398, 'victim': 175.6418}\n",
      "\n",
      "topic_4\n",
      "{'reduce rate': 0.0667, 'australian premier': 0.0667, 'say resource': 0.0667, 'underneath': 0.0667, 'fund Queensland': 0.0667, 'concernsnum': 0.0667, 'say great': 0.0667, 'exact': 0.0667, 'department spokesperson': 0.0667, 'Anything': 0.0667}\n",
      "\n",
      "topic_5\n",
      "{'reduce rate': 0.0667, 'australian premier': 0.0667, 'say resource': 0.0667, 'underneath': 0.0667, 'fund Queensland': 0.0667, 'concernsnum': 0.0667, 'say great': 0.0667, 'exact': 0.0667, 'department spokesperson': 0.0667, 'Anything': 0.0667}\n",
      "\n",
      "topic_6\n",
      "{'water': 1046.8263, 'environmental': 586.5421, 'federal': 566.338, 'plan': 549.3825, 'land': 534.431, 'project': 510.0892, 'department': 501.5295, 'environment': 486.5911, 'clearing': 432.3068, 'report': 418.9299}\n",
      "\n",
      "topic_7\n",
      "{'coal': 1265.2327, 'energy': 1001.6845, 'power': 702.6804, 'renewable': 455.1663, 'climate': 442.4593, 'Labor': 429.0597, 'emission': 415.2891, 'price': 393.132, 'project': 374.4865, 'job': 342.923}\n",
      "\n",
      "topic_8\n",
      "{'forest': 43.3014, 'hydro': 36.3462, 'pump': 36.1899, 'pump hydro': 32.4562, 'glider': 30.1233, 'log': 24.3945, 'great glider': 23.3999, 'Frecklington': 21.3379, 'timber': 20.242, 'great': 17.4108}\n",
      "\n",
      "topic_9\n",
      "{'child': 969.7737, 'people': 647.015, 'youth': 490.1738, 'young': 361.4951, 'police': 356.1594, 'watch': 328.474, 'house': 324.3951, 'detention': 280.8958, 'justice': 273.2787, 'community': 266.0589}\n",
      "\n",
      "topic_10\n",
      "{'US': 151.7721, 'Trump': 111.808, 'read': 94.8212, 'world': 81.9198, 'sign': 78.5499, 'Australia ’s': 73.5175, 'World': 68.7023, 'story': 65.2563, 'inbox': 63.2731, 'today': 61.5003}\n",
      "\n",
      "topic_11\n",
      "{'gas': 539.123, 'Origin': 107.5947, 'river': 71.1738, 'fracke': 67.1632, 'Lake': 66.0735, 'oil': 63.6927, 'basin': 60.8466, 'channel': 59.5263, 'company': 59.0456, 'exploration': 58.1218}\n",
      "\n",
      "topic_12\n",
      "{'Gabba': 41.2228, 'stadium': 30.9663, 'Schrinner': 18.3889, 'cricket': 12.8682, 'AFL': 10.3376, 'rebuild': 9.612, 'Adrian Schrinner': 9.2532, 'lord mayor': 8.3381, 'lord': 8.3381, 'mayor Adrian': 7.4128}\n",
      "\n",
      "topic_13\n",
      "{'reef': 565.8538, 'Barrier': 420.1727, 'Reef': 416.5406, 'Great': 384.3593, 'Great Barrier': 383.2682, 'Barrier Reef': 348.5699, 'climate': 287.0007, 'coral': 234.0202, 'world': 220.8052, 'park': 179.568}\n",
      "\n",
      "topic_14\n",
      "{'Covid': 463.5979, 'case': 452.2401, 'health': 428.0779, 'people': 393.2342, 'NSW': 377.5293, 'border': 341.6166, 'Covid NUM': 304.5898, 'test': 267.6823, 'Victoria': 264.5332, 'quarantine': 258.1175}\n",
      "\n"
     ]
    }
   ],
   "source": [
    "# Get the topics and their terms\n",
    "lda_topic_dict = {}\n",
    "for index, topic in enumerate(topic_term_matrix):\n",
    "    zipped = zip(feature_names, topic)\n",
    "    top_terms=dict(sorted(zipped, key = lambda t: t[1], reverse=True)[:10])\n",
    "    #print(top_terms)\n",
    "    top_terms_list= {key : round(top_terms[key], 4) for key in top_terms.keys()}\n",
    "    lda_topic_dict[f\"topic_{index}\"] = top_terms_list\n",
    "\n",
    "lda_topic_terms_df = []\n",
    "# Print the topics with their terms    \n",
    "for k,v in lda_topic_dict.items():\n",
    "    print(k)\n",
    "    print(v)\n",
    "    print()\n",
    "\n",
    "    for t, w in v.items():\n",
    "        lda_topic_terms_df.append([k, t, w])\n",
    "\n",
    "lda_topic_terms_df = pd.DataFrame(lda_topic_terms_df)\n",
    "lda_topic_terms_df.rename(columns={lda_topic_terms_df.columns[0]: \"Topic Cluster\",\n",
    "                                       lda_topic_terms_df.columns[1]: \"Term\",\n",
    "                                       lda_topic_terms_df.columns[2]: \"Weight\" }, inplace=True)"
   ]
  },
  {
   "attachments": {},
   "cell_type": "markdown",
   "id": "b770bf4a",
   "metadata": {},
   "source": [
    "#### Update the terms matrix"
   ]
  },
  {
   "cell_type": "code",
   "execution_count": 24,
   "id": "6d6047f2",
   "metadata": {},
   "outputs": [
    {
     "name": "stderr",
     "output_type": "stream",
     "text": [
      "C:\\Users\\Morgan\\AppData\\Local\\Temp\\ipykernel_27176\\474454722.py:5: FutureWarning: ChainedAssignmentError: behaviour will change in pandas 3.0!\n",
      "You are setting values through chained assignment. Currently this works in certain cases, but when using Copy-on-Write (which will become the default behaviour in pandas 3.0) this will never work to update the original DataFrame or Series, because the intermediate object on which we are setting values will behave as a copy.\n",
      "A typical example is when you are setting values in a column of a DataFrame, like:\n",
      "\n",
      "df[\"col\"][row_indexer] = value\n",
      "\n",
      "Use `df.loc[row_indexer, \"col\"] = values` instead, to perform the assignment in a single step and ensure this keeps updating the original `df`.\n",
      "\n",
      "See the caveats in the documentation: https://pandas.pydata.org/pandas-docs/stable/user_guide/indexing.html#returning-a-view-versus-a-copy\n",
      "\n",
      "  terms_df['lda'].iloc[idx] = list(top_topic.keys())\n"
     ]
    },
    {
     "data": {
      "text/html": [
       "<div>\n",
       "<style scoped>\n",
       "    .dataframe tbody tr th:only-of-type {\n",
       "        vertical-align: middle;\n",
       "    }\n",
       "\n",
       "    .dataframe tbody tr th {\n",
       "        vertical-align: top;\n",
       "    }\n",
       "\n",
       "    .dataframe thead th {\n",
       "        text-align: right;\n",
       "    }\n",
       "</style>\n",
       "<table border=\"1\" class=\"dataframe\">\n",
       "  <thead>\n",
       "    <tr style=\"text-align: right;\">\n",
       "      <th></th>\n",
       "      <th>count</th>\n",
       "      <th>tfidf</th>\n",
       "      <th>lda</th>\n",
       "      <th>nmf</th>\n",
       "    </tr>\n",
       "  </thead>\n",
       "  <tbody>\n",
       "    <tr>\n",
       "      <th>‘Harrowing’ footage sparks calls for Queensland government to remove children from police watch houses [2024-07-18T15:00:15Z]</th>\n",
       "      <td>[child, watch, watch house, house, footage, yo...</td>\n",
       "      <td>[child, watch, watch house, footage, house, ad...</td>\n",
       "      <td>[child, people, youth, young, police, watch, h...</td>\n",
       "      <td>NaN</td>\n",
       "    </tr>\n",
       "    <tr>\n",
       "      <th>Queensland government accused of cowing to Christian Lobby on anti-discrimination bill [2024-06-14T15:00:56Z]</th>\n",
       "      <td>[school, base, teacher, Labor, experience, fai...</td>\n",
       "      <td>[teacher, faith base, school, faith, discrimin...</td>\n",
       "      <td>[housing, NUMm, cost,  , home, num%, We, rent,...</td>\n",
       "      <td>NaN</td>\n",
       "    </tr>\n",
       "    <tr>\n",
       "      <th>Queensland government hoses down suggestions it is considering bailout for Bonza [2024-05-10T08:26:48Z]</th>\n",
       "      <td>[administrator, aircraft, federal, financial, ...</td>\n",
       "      <td>[administrator, aircraft, airline, creditor, p...</td>\n",
       "      <td>[housing, NUMm, cost,  , home, num%, We, rent,...</td>\n",
       "      <td>NaN</td>\n",
       "    </tr>\n",
       "    <tr>\n",
       "      <th>Queensland government accused of failing to provide adequate schooling to locked up children [2024-04-11T15:00:28Z]</th>\n",
       "      <td>[youth, child, hour, detention, centre, educat...</td>\n",
       "      <td>[youth, detention, detention centre, education...</td>\n",
       "      <td>[child, people, youth, young, police, watch, h...</td>\n",
       "      <td>NaN</td>\n",
       "    </tr>\n",
       "    <tr>\n",
       "      <th>‘There has to be a way’: Queensland government working to reunite Molly the magpie with family, premier says [2024-03-28T06:26:13Z]</th>\n",
       "      <td>[Molly, family, department, bird, couple, care...</td>\n",
       "      <td>[Molly, carer, bird, reunite, family, couple, ...</td>\n",
       "      <td>[I, people,  , like, We, just, tell, party, ti...</td>\n",
       "      <td>NaN</td>\n",
       "    </tr>\n",
       "    <tr>\n",
       "      <th>...</th>\n",
       "      <td>...</td>\n",
       "      <td>...</td>\n",
       "      <td>...</td>\n",
       "      <td>...</td>\n",
       "    </tr>\n",
       "    <tr>\n",
       "      <th>Mark Latham takes aim at Sky boss in post-sacking Twitter spray | The Weekly Beast [2017-03-30T20:35:02Z]</th>\n",
       "      <td>[Sky, political, News, Australian,  , change, ...</td>\n",
       "      <td>[Sky, Sky News, News, ad, political, Lloyd, re...</td>\n",
       "      <td>[I, people,  , like, We, just, tell, party, ti...</td>\n",
       "      <td>NaN</td>\n",
       "    </tr>\n",
       "    <tr>\n",
       "      <th>Where the 2017 Queensland election will be won and lost [2017-10-29T02:00:35Z]</th>\n",
       "      <td>[Labor, LNP, nation, seat, vote, party, Hanson...</td>\n",
       "      <td>[LNP, Labor, nation, Hanson, seat, vote, prima...</td>\n",
       "      <td>[coal, energy, power, renewable, climate, Labo...</td>\n",
       "      <td>NaN</td>\n",
       "    </tr>\n",
       "    <tr>\n",
       "      <th>Bill Shorten takes town hall test: Trump, tax, refugees and the gum tree menace [2017-03-02T10:15:44Z]</th>\n",
       "      <td>[Shorten, Labor, We, want, He, I, people, said...</td>\n",
       "      <td>[Shorten, Labor, hall, yes, progressive, Labor...</td>\n",
       "      <td>[I, people,  , like, We, just, tell, party, ti...</td>\n",
       "      <td>NaN</td>\n",
       "    </tr>\n",
       "    <tr>\n",
       "      <th>Indigenous incarceration: turning the tide on colonisation's cruel third act [2017-02-20T03:08:41Z]</th>\n",
       "      <td>[indigenous, people, justice, child, issue, pr...</td>\n",
       "      <td>[indigenous, justice, child, Aboriginal, Torre...</td>\n",
       "      <td>[child, people, youth, young, police, watch, h...</td>\n",
       "      <td>NaN</td>\n",
       "    </tr>\n",
       "    <tr>\n",
       "      <th>CSG's last stand? In Narrabri everyone has a stake in the farming v mining fight [2017-05-22T20:16:07Z]</th>\n",
       "      <td>[gas,  , project, I, community, town, impact, ...</td>\n",
       "      <td>[gas, Santos, project, town, seam,  , royalty,...</td>\n",
       "      <td>[water, environmental, federal, plan, land, pr...</td>\n",
       "      <td>NaN</td>\n",
       "    </tr>\n",
       "  </tbody>\n",
       "</table>\n",
       "<p>1063 rows × 4 columns</p>\n",
       "</div>"
      ],
      "text/plain": [
       "                                                                                                count  \\\n",
       "‘Harrowing’ footage sparks calls for Queensland...  [child, watch, watch house, house, footage, yo...   \n",
       "Queensland government accused of cowing to Chri...  [school, base, teacher, Labor, experience, fai...   \n",
       "Queensland government hoses down suggestions it...  [administrator, aircraft, federal, financial, ...   \n",
       "Queensland government accused of failing to pro...  [youth, child, hour, detention, centre, educat...   \n",
       "‘There has to be a way’: Queensland government ...  [Molly, family, department, bird, couple, care...   \n",
       "...                                                                                               ...   \n",
       "Mark Latham takes aim at Sky boss in post-sacki...  [Sky, political, News, Australian,  , change, ...   \n",
       "Where the 2017 Queensland election will be won ...  [Labor, LNP, nation, seat, vote, party, Hanson...   \n",
       "Bill Shorten takes town hall test: Trump, tax, ...  [Shorten, Labor, We, want, He, I, people, said...   \n",
       "Indigenous incarceration: turning the tide on c...  [indigenous, people, justice, child, issue, pr...   \n",
       "CSG's last stand? In Narrabri everyone has a st...  [gas,  , project, I, community, town, impact, ...   \n",
       "\n",
       "                                                                                                tfidf  \\\n",
       "‘Harrowing’ footage sparks calls for Queensland...  [child, watch, watch house, footage, house, ad...   \n",
       "Queensland government accused of cowing to Chri...  [teacher, faith base, school, faith, discrimin...   \n",
       "Queensland government hoses down suggestions it...  [administrator, aircraft, airline, creditor, p...   \n",
       "Queensland government accused of failing to pro...  [youth, detention, detention centre, education...   \n",
       "‘There has to be a way’: Queensland government ...  [Molly, carer, bird, reunite, family, couple, ...   \n",
       "...                                                                                               ...   \n",
       "Mark Latham takes aim at Sky boss in post-sacki...  [Sky, Sky News, News, ad, political, Lloyd, re...   \n",
       "Where the 2017 Queensland election will be won ...  [LNP, Labor, nation, Hanson, seat, vote, prima...   \n",
       "Bill Shorten takes town hall test: Trump, tax, ...  [Shorten, Labor, hall, yes, progressive, Labor...   \n",
       "Indigenous incarceration: turning the tide on c...  [indigenous, justice, child, Aboriginal, Torre...   \n",
       "CSG's last stand? In Narrabri everyone has a st...  [gas, Santos, project, town, seam,  , royalty,...   \n",
       "\n",
       "                                                                                                  lda  \\\n",
       "‘Harrowing’ footage sparks calls for Queensland...  [child, people, youth, young, police, watch, h...   \n",
       "Queensland government accused of cowing to Chri...  [housing, NUMm, cost,  , home, num%, We, rent,...   \n",
       "Queensland government hoses down suggestions it...  [housing, NUMm, cost,  , home, num%, We, rent,...   \n",
       "Queensland government accused of failing to pro...  [child, people, youth, young, police, watch, h...   \n",
       "‘There has to be a way’: Queensland government ...  [I, people,  , like, We, just, tell, party, ti...   \n",
       "...                                                                                               ...   \n",
       "Mark Latham takes aim at Sky boss in post-sacki...  [I, people,  , like, We, just, tell, party, ti...   \n",
       "Where the 2017 Queensland election will be won ...  [coal, energy, power, renewable, climate, Labo...   \n",
       "Bill Shorten takes town hall test: Trump, tax, ...  [I, people,  , like, We, just, tell, party, ti...   \n",
       "Indigenous incarceration: turning the tide on c...  [child, people, youth, young, police, watch, h...   \n",
       "CSG's last stand? In Narrabri everyone has a st...  [water, environmental, federal, plan, land, pr...   \n",
       "\n",
       "                                                    nmf  \n",
       "‘Harrowing’ footage sparks calls for Queensland...  NaN  \n",
       "Queensland government accused of cowing to Chri...  NaN  \n",
       "Queensland government hoses down suggestions it...  NaN  \n",
       "Queensland government accused of failing to pro...  NaN  \n",
       "‘There has to be a way’: Queensland government ...  NaN  \n",
       "...                                                 ...  \n",
       "Mark Latham takes aim at Sky boss in post-sacki...  NaN  \n",
       "Where the 2017 Queensland election will be won ...  NaN  \n",
       "Bill Shorten takes town hall test: Trump, tax, ...  NaN  \n",
       "Indigenous incarceration: turning the tide on c...  NaN  \n",
       "CSG's last stand? In Narrabri everyone has a st...  NaN  \n",
       "\n",
       "[1063 rows x 4 columns]"
      ]
     },
     "execution_count": 24,
     "metadata": {},
     "output_type": "execute_result"
    }
   ],
   "source": [
    "for idx,topic in enumerate(doc_topic_matrix):\n",
    "     # enumerate just takes a list and returns the value and a counter for the loop starting from 0\n",
    "    topic_num = topic.argmax()\n",
    "    top_topic = lda_topic_dict[f\"topic_{topic_num}\"]\n",
    "    terms_df['lda'].iloc[idx] = list(top_topic.keys())\n",
    "\n",
    "terms_df"
   ]
  },
  {
   "attachments": {},
   "cell_type": "markdown",
   "id": "a4c77cee",
   "metadata": {},
   "source": [
    "#### Compare approaches"
   ]
  },
  {
   "cell_type": "code",
   "execution_count": 25,
   "id": "6aa00333",
   "metadata": {},
   "outputs": [],
   "source": [
    "# # Sample 5 random articles\n",
    "# samples = random.sample(range(0,len(terms_df)),5)\n",
    "\n",
    "# for sample in samples:\n",
    "#     doc = terms_df.iloc[sample]\n",
    "#     print(f\"[{sample}] {doc.name}\")\n",
    "#     print(\"\\t- Counts:\\t\",doc['count'])\n",
    "#     print(\"\\t- TFIDF:\\t\",doc['tfidf'])\n",
    "#     print(\"\\t- LDA:\\t\\t\",doc['lda'])\n",
    "#     print()"
   ]
  },
  {
   "attachments": {},
   "cell_type": "markdown",
   "id": "cf2ede50",
   "metadata": {},
   "source": [
    "### Topic modelling with Non-negative Matrix Factorisation (NMF)\n",
    "\n",
    "\n",
    "[NMF](https://en.wikipedia.org/wiki/Latent_Dirichlet_allocation) is a different algorithm for obtaining *topics* (a list of terms) from a document-term matrix. It also factorises the document-term matrix into 2 factor matrices: document-topic and topic-term."
   ]
  },
  {
   "cell_type": "code",
   "execution_count": 26,
   "id": "fe60687d",
   "metadata": {},
   "outputs": [],
   "source": [
    "# Parameters from previous shared ones\n",
    "\n",
    "# Create the model\n",
    "nmf_model = NMF(n_components=num_topics,init='random',beta_loss='frobenius', max_iter=max_iterations)\n",
    "\n",
    "# Fit the model to the data and use it to transform the data\n",
    "doc_topic_nmf = nmf_model.fit_transform(tfidf_dt_matrix)\n",
    "\n",
    "topic_term_nmf = nmf_model.components_"
   ]
  },
  {
   "cell_type": "markdown",
   "id": "3cc688d4",
   "metadata": {},
   "source": [
    "# THIS IS WHAT I WANT TO OPTIMISE HERE, AN APPROPRIATE CLUSTERING SHOWHING FUNDING"
   ]
  },
  {
   "cell_type": "code",
   "execution_count": 27,
   "id": "284934af",
   "metadata": {},
   "outputs": [
    {
     "name": "stdout",
     "output_type": "stream",
     "text": [
      "topic_0\n",
      "{'I': 1.5941, 'saysnum': 0.6321, 'people': 0.5298, 'think': 0.3762, 'just': 0.351, 'I ’m': 0.3354, '’m': 0.3354, '’ve': 0.3292, 'know': 0.3001, 'We': 0.2995}\n",
      "\n",
      "topic_1\n",
      "{'energy': 0.982, 'coal': 0.8845, 'renewable': 0.6352, 'power': 0.6317, 'price': 0.4603, 'electricity': 0.3528, 'renewable energy': 0.3429, 'power station': 0.3127, 'emission': 0.3118, 'project': 0.2987}\n",
      "\n",
      "topic_2\n",
      "{'police': 1.3277, 'violence': 0.991, 'domestic': 0.8746, 'domestic violence': 0.7543, 'woman': 0.6405, 'officer': 0.4965, 'inquiry': 0.3816, 'victim': 0.3365, 'coercive': 0.3347, 'taskforce': 0.2983}\n",
      "\n",
      "topic_3\n",
      "{'child': 1.9741, 'youth': 1.642, 'watch house': 1.2178, 'watch': 1.1317, 'detention': 1.0647, 'house': 0.9337, 'young': 0.7519, 'police': 0.6909, 'justice': 0.627, 'crime': 0.5736}\n",
      "\n",
      "topic_4\n",
      "{'treaty': 1.023, 'indigenous': 0.479, 'First': 0.463, 'First Nations': 0.4504, 'Nations': 0.438, 'Aboriginal': 0.4345, 'people': 0.4138, 'native title': 0.3952, 'Torres': 0.3814, 'traditional': 0.3789}\n",
      "\n",
      "topic_5\n",
      "{'clearing': 2.7889, 'land': 1.4026, 'land clearing': 1.253, 'deforestation': 0.8292, 'vegetation': 0.7234, 'hectare': 0.6975, 'law': 0.5791, 'clear': 0.5391, 'forest': 0.538, 'NUM hectare': 0.5115}\n",
      "\n",
      "topic_6\n",
      "{'Adani': 2.6465, 'Carmichael': 0.705, 'Adani ’s': 0.6112, 'coal': 0.5479, 'project': 0.5234, 'royalty': 0.5211, 'company': 0.4641, 'rail': 0.4303, 'plan': 0.382, 'approval': 0.3693}\n",
      "\n",
      "topic_7\n",
      "{'gas': 1.6375, 'Eyre': 0.6223, 'Lake Eyre': 0.6223, 'channel': 0.6198, 'Lake': 0.6074, 'river': 0.5363, 'Origin': 0.5325, 'fracke': 0.4966, 'channel country': 0.4691, 'basin': 0.4299}\n",
      "\n",
      "topic_8\n",
      "{'US': 0.5343, 'Trump': 0.4513, 'australian': 0.3679, 'read': 0.3606, 'Sydney': 0.3055, 'world': 0.2919, 'story': 0.2843, 'World': 0.2826, 'crossword': 0.2792, '\\n \\n': 0.272}\n",
      "\n",
      "topic_9\n",
      "{'border': 1.111, 'quarantine': 0.8376, 'case': 0.8125, 'NSW': 0.789, 'Covid': 0.6645, 'travel': 0.6031, 'hotel': 0.5755, 'test': 0.5453, 'Victoria': 0.5387, 'Covid NUM': 0.5253}\n",
      "\n",
      "topic_10\n",
      "{'water': 1.8414, 'dam': 0.4459, 'Joyce': 0.3907, 'EAA': 0.3089, 'project': 0.2838, 'flood': 0.2678, 'drought': 0.2671, 'company': 0.2522, 'local': 0.2352, 'purchase': 0.2345}\n",
      "\n",
      "topic_11\n",
      "{'vaccine': 1.0002, 'vaccination': 0.5197, 'dose': 0.4629, 'health': 0.4129, 'Covid': 0.3954, 'vaccinate': 0.3593, 'Morrison': 0.3342, 'AstraZeneca': 0.3008, 'clinic': 0.3003, 'rollout': 0.2673}\n",
      "\n",
      "topic_12\n",
      "{'reef': 1.3605, 'Reef': 0.7962, 'Barrier': 0.7179, 'Barrier Reef': 0.6691, 'Great Barrier': 0.6691, 'Great': 0.6458, 'coral': 0.6018, 'water quality': 0.4275, 'climate': 0.3779, 'quality': 0.3666}\n",
      "\n",
      "topic_13\n",
      "{'rent': 1.5797, 'housing': 1.2419, 'rental': 0.6843, 'property': 0.4369, 'tenant': 0.406, 'tax': 0.3954, 'home': 0.3302, 'landlord': 0.33, 'cap': 0.2996, 'land tax': 0.2902}\n",
      "\n",
      "topic_14\n",
      "{'specie': 0.6943, 'habitat': 0.5406, 'Walker': 0.5219, 'environment': 0.4739, 'wetland': 0.4589, 'Ramsar': 0.4479, 'Walker Corporation': 0.435, 'area': 0.3887, 'development': 0.3805, 'environmental': 0.3678}\n",
      "\n"
     ]
    }
   ],
   "source": [
    "# Get the topics and their terms\n",
    "nmf_topic_dict = {}\n",
    "for index, topic in enumerate(topic_term_nmf):\n",
    "    zipped = zip(feature_names, topic)\n",
    "    top_terms=dict(sorted(zipped, key = lambda t: t[1], reverse=True)[:10])\n",
    "    #print(top_terms)\n",
    "    top_terms_list= {key : round(top_terms[key], 4) for key in top_terms.keys()}\n",
    "    nmf_topic_dict[f\"topic_{index}\"] = top_terms_list\n",
    "\n",
    "nmf_topic_terms_df = []\n",
    "# Print the topics with their terms    \n",
    "for k,v in nmf_topic_dict.items():\n",
    "    print(k)\n",
    "    print(v)\n",
    "    print()\n",
    "\n",
    "    for t, w in v.items():\n",
    "        nmf_topic_terms_df.append([k, t, w])\n",
    "\n",
    "nmf_topic_terms_df = pd.DataFrame(nmf_topic_terms_df)\n",
    "nmf_topic_terms_df.rename(columns={nmf_topic_terms_df.columns[0]: \"Topic Cluster\",\n",
    "                                       nmf_topic_terms_df.columns[1]: \"Term\",\n",
    "                                       nmf_topic_terms_df.columns[2]: \"Weight\" }, inplace=True)"
   ]
  },
  {
   "cell_type": "code",
   "execution_count": 28,
   "id": "ba070908",
   "metadata": {},
   "outputs": [
    {
     "data": {
      "application/vnd.plotly.v1+json": {
       "config": {
        "plotlyServerURL": "https://plot.ly"
       },
       "data": [
        {
         "alignmentgroup": "True",
         "hovertemplate": "Topic Cluster=topic_0<br>Weight=%{x}<br>Term=%{y}<extra></extra>",
         "legendgroup": "",
         "marker": {
          "color": "#636efa",
          "pattern": {
           "shape": ""
          }
         },
         "name": "",
         "offsetgroup": "",
         "orientation": "h",
         "showlegend": false,
         "textposition": "auto",
         "type": "bar",
         "x": [
          1581.5397,
          719.769,
          554.9478,
          459.1645,
          451.7063,
          451.1717,
          439.311,
          420.4249,
          418.1599,
          402.5929
         ],
         "xaxis": "x11",
         "y": [
          "I",
          "people",
          " ",
          "like",
          "We",
          "just",
          "tell",
          "party",
          "time",
          "federal"
         ],
         "yaxis": "y11"
        },
        {
         "alignmentgroup": "True",
         "hovertemplate": "Topic Cluster=topic_1<br>Weight=%{x}<br>Term=%{y}<extra></extra>",
         "legendgroup": "",
         "marker": {
          "color": "#636efa",
          "pattern": {
           "shape": ""
          }
         },
         "name": "",
         "offsetgroup": "",
         "orientation": "h",
         "showlegend": false,
         "textposition": "auto",
         "type": "bar",
         "x": [
          1639.6172,
          384.7475,
          327.3459,
          323.4741,
          304.1369,
          229.0547,
          209.3115,
          207.6915,
          195.465,
          188.2865
         ],
         "xaxis": "x12",
         "y": [
          "Adani",
          "Carmichael",
          "Adani ’s",
          "company",
          "project",
          "coal",
          "royalty",
          "loan",
          "rail",
          "coalmine"
         ],
         "yaxis": "y12"
        },
        {
         "alignmentgroup": "True",
         "hovertemplate": "Topic Cluster=topic_2<br>Weight=%{x}<br>Term=%{y}<extra></extra>",
         "legendgroup": "",
         "marker": {
          "color": "#636efa",
          "pattern": {
           "shape": ""
          }
         },
         "name": "",
         "offsetgroup": "",
         "orientation": "h",
         "showlegend": false,
         "textposition": "auto",
         "type": "bar",
         "x": [
          331.3087,
          302.8824,
          272.1416,
          271.6818,
          255.4294,
          223.5067,
          221.654,
          220.6801,
          213.0859,
          202.4782
         ],
         "xaxis": "x13",
         "y": [
          "housing",
          "NUMm",
          "cost",
          " ",
          "home",
          "num%",
          "We",
          "rent",
          "people",
          "saidNUM"
         ],
         "yaxis": "y13"
        },
        {
         "alignmentgroup": "True",
         "hovertemplate": "Topic Cluster=topic_3<br>Weight=%{x}<br>Term=%{y}<extra></extra>",
         "legendgroup": "",
         "marker": {
          "color": "#636efa",
          "pattern": {
           "shape": ""
          }
         },
         "name": "",
         "offsetgroup": "",
         "orientation": "h",
         "showlegend": false,
         "textposition": "auto",
         "type": "bar",
         "x": [
          786.7328,
          455.8961,
          377.815,
          314.6548,
          276.3137,
          273.0379,
          242.4935,
          206.3884,
          179.398,
          175.6418
         ],
         "xaxis": "x14",
         "y": [
          "police",
          "violence",
          "domestic",
          "woman",
          "officer",
          "domestic violence",
          "inquiry",
          "court",
          "law",
          "victim"
         ],
         "yaxis": "y14"
        },
        {
         "alignmentgroup": "True",
         "hovertemplate": "Topic Cluster=topic_4<br>Weight=%{x}<br>Term=%{y}<extra></extra>",
         "legendgroup": "",
         "marker": {
          "color": "#636efa",
          "pattern": {
           "shape": ""
          }
         },
         "name": "",
         "offsetgroup": "",
         "orientation": "h",
         "showlegend": false,
         "textposition": "auto",
         "type": "bar",
         "x": [
          0.0667,
          0.0667,
          0.0667,
          0.0667,
          0.0667,
          0.0667,
          0.0667,
          0.0667,
          0.0667,
          0.0667
         ],
         "xaxis": "x15",
         "y": [
          "reduce rate",
          "australian premier",
          "say resource",
          "underneath",
          "fund Queensland",
          "concernsnum",
          "say great",
          "exact",
          "department spokesperson",
          "Anything"
         ],
         "yaxis": "y15"
        },
        {
         "alignmentgroup": "True",
         "hovertemplate": "Topic Cluster=topic_5<br>Weight=%{x}<br>Term=%{y}<extra></extra>",
         "legendgroup": "",
         "marker": {
          "color": "#636efa",
          "pattern": {
           "shape": ""
          }
         },
         "name": "",
         "offsetgroup": "",
         "orientation": "h",
         "showlegend": false,
         "textposition": "auto",
         "type": "bar",
         "x": [
          0.0667,
          0.0667,
          0.0667,
          0.0667,
          0.0667,
          0.0667,
          0.0667,
          0.0667,
          0.0667,
          0.0667
         ],
         "xaxis": "x6",
         "y": [
          "reduce rate",
          "australian premier",
          "say resource",
          "underneath",
          "fund Queensland",
          "concernsnum",
          "say great",
          "exact",
          "department spokesperson",
          "Anything"
         ],
         "yaxis": "y6"
        },
        {
         "alignmentgroup": "True",
         "hovertemplate": "Topic Cluster=topic_6<br>Weight=%{x}<br>Term=%{y}<extra></extra>",
         "legendgroup": "",
         "marker": {
          "color": "#636efa",
          "pattern": {
           "shape": ""
          }
         },
         "name": "",
         "offsetgroup": "",
         "orientation": "h",
         "showlegend": false,
         "textposition": "auto",
         "type": "bar",
         "x": [
          1046.8263,
          586.5421,
          566.338,
          549.3825,
          534.431,
          510.0892,
          501.5295,
          486.5911,
          432.3068,
          418.9299
         ],
         "xaxis": "x7",
         "y": [
          "water",
          "environmental",
          "federal",
          "plan",
          "land",
          "project",
          "department",
          "environment",
          "clearing",
          "report"
         ],
         "yaxis": "y7"
        },
        {
         "alignmentgroup": "True",
         "hovertemplate": "Topic Cluster=topic_7<br>Weight=%{x}<br>Term=%{y}<extra></extra>",
         "legendgroup": "",
         "marker": {
          "color": "#636efa",
          "pattern": {
           "shape": ""
          }
         },
         "name": "",
         "offsetgroup": "",
         "orientation": "h",
         "showlegend": false,
         "textposition": "auto",
         "type": "bar",
         "x": [
          1265.2327,
          1001.6845,
          702.6804,
          455.1663,
          442.4593,
          429.0597,
          415.2891,
          393.132,
          374.4865,
          342.923
         ],
         "xaxis": "x8",
         "y": [
          "coal",
          "energy",
          "power",
          "renewable",
          "climate",
          "Labor",
          "emission",
          "price",
          "project",
          "job"
         ],
         "yaxis": "y8"
        },
        {
         "alignmentgroup": "True",
         "hovertemplate": "Topic Cluster=topic_8<br>Weight=%{x}<br>Term=%{y}<extra></extra>",
         "legendgroup": "",
         "marker": {
          "color": "#636efa",
          "pattern": {
           "shape": ""
          }
         },
         "name": "",
         "offsetgroup": "",
         "orientation": "h",
         "showlegend": false,
         "textposition": "auto",
         "type": "bar",
         "x": [
          43.3014,
          36.3462,
          36.1899,
          32.4562,
          30.1233,
          24.3945,
          23.3999,
          21.3379,
          20.242,
          17.4108
         ],
         "xaxis": "x9",
         "y": [
          "forest",
          "hydro",
          "pump",
          "pump hydro",
          "glider",
          "log",
          "great glider",
          "Frecklington",
          "timber",
          "great"
         ],
         "yaxis": "y9"
        },
        {
         "alignmentgroup": "True",
         "hovertemplate": "Topic Cluster=topic_9<br>Weight=%{x}<br>Term=%{y}<extra></extra>",
         "legendgroup": "",
         "marker": {
          "color": "#636efa",
          "pattern": {
           "shape": ""
          }
         },
         "name": "",
         "offsetgroup": "",
         "orientation": "h",
         "showlegend": false,
         "textposition": "auto",
         "type": "bar",
         "x": [
          969.7737,
          647.015,
          490.1738,
          361.4951,
          356.1594,
          328.474,
          324.3951,
          280.8958,
          273.2787,
          266.0589
         ],
         "xaxis": "x10",
         "y": [
          "child",
          "people",
          "youth",
          "young",
          "police",
          "watch",
          "house",
          "detention",
          "justice",
          "community"
         ],
         "yaxis": "y10"
        },
        {
         "alignmentgroup": "True",
         "hovertemplate": "Topic Cluster=topic_10<br>Weight=%{x}<br>Term=%{y}<extra></extra>",
         "legendgroup": "",
         "marker": {
          "color": "#636efa",
          "pattern": {
           "shape": ""
          }
         },
         "name": "",
         "offsetgroup": "",
         "orientation": "h",
         "showlegend": false,
         "textposition": "auto",
         "type": "bar",
         "x": [
          151.7721,
          111.808,
          94.8212,
          81.9198,
          78.5499,
          73.5175,
          68.7023,
          65.2563,
          63.2731,
          61.5003
         ],
         "xaxis": "x",
         "y": [
          "US",
          "Trump",
          "read",
          "world",
          "sign",
          "Australia ’s",
          "World",
          "story",
          "inbox",
          "today"
         ],
         "yaxis": "y"
        },
        {
         "alignmentgroup": "True",
         "hovertemplate": "Topic Cluster=topic_11<br>Weight=%{x}<br>Term=%{y}<extra></extra>",
         "legendgroup": "",
         "marker": {
          "color": "#636efa",
          "pattern": {
           "shape": ""
          }
         },
         "name": "",
         "offsetgroup": "",
         "orientation": "h",
         "showlegend": false,
         "textposition": "auto",
         "type": "bar",
         "x": [
          539.123,
          107.5947,
          71.1738,
          67.1632,
          66.0735,
          63.6927,
          60.8466,
          59.5263,
          59.0456,
          58.1218
         ],
         "xaxis": "x2",
         "y": [
          "gas",
          "Origin",
          "river",
          "fracke",
          "Lake",
          "oil",
          "basin",
          "channel",
          "company",
          "exploration"
         ],
         "yaxis": "y2"
        },
        {
         "alignmentgroup": "True",
         "hovertemplate": "Topic Cluster=topic_12<br>Weight=%{x}<br>Term=%{y}<extra></extra>",
         "legendgroup": "",
         "marker": {
          "color": "#636efa",
          "pattern": {
           "shape": ""
          }
         },
         "name": "",
         "offsetgroup": "",
         "orientation": "h",
         "showlegend": false,
         "textposition": "auto",
         "type": "bar",
         "x": [
          41.2228,
          30.9663,
          18.3889,
          12.8682,
          10.3376,
          9.612,
          9.2532,
          8.3381,
          8.3381,
          7.4128
         ],
         "xaxis": "x3",
         "y": [
          "Gabba",
          "stadium",
          "Schrinner",
          "cricket",
          "AFL",
          "rebuild",
          "Adrian Schrinner",
          "lord mayor",
          "lord",
          "mayor Adrian"
         ],
         "yaxis": "y3"
        },
        {
         "alignmentgroup": "True",
         "hovertemplate": "Topic Cluster=topic_13<br>Weight=%{x}<br>Term=%{y}<extra></extra>",
         "legendgroup": "",
         "marker": {
          "color": "#636efa",
          "pattern": {
           "shape": ""
          }
         },
         "name": "",
         "offsetgroup": "",
         "orientation": "h",
         "showlegend": false,
         "textposition": "auto",
         "type": "bar",
         "x": [
          565.8538,
          420.1727,
          416.5406,
          384.3593,
          383.2682,
          348.5699,
          287.0007,
          234.0202,
          220.8052,
          179.568
         ],
         "xaxis": "x4",
         "y": [
          "reef",
          "Barrier",
          "Reef",
          "Great",
          "Great Barrier",
          "Barrier Reef",
          "climate",
          "coral",
          "world",
          "park"
         ],
         "yaxis": "y4"
        },
        {
         "alignmentgroup": "True",
         "hovertemplate": "Topic Cluster=topic_14<br>Weight=%{x}<br>Term=%{y}<extra></extra>",
         "legendgroup": "",
         "marker": {
          "color": "#636efa",
          "pattern": {
           "shape": ""
          }
         },
         "name": "",
         "offsetgroup": "",
         "orientation": "h",
         "showlegend": false,
         "textposition": "auto",
         "type": "bar",
         "x": [
          463.5979,
          452.2401,
          428.0779,
          393.2342,
          377.5293,
          341.6166,
          304.5898,
          267.6823,
          264.5332,
          258.1175
         ],
         "xaxis": "x5",
         "y": [
          "Covid",
          "case",
          "health",
          "people",
          "NSW",
          "border",
          "Covid NUM",
          "test",
          "Victoria",
          "quarantine"
         ],
         "yaxis": "y5"
        }
       ],
       "layout": {
        "annotations": [
         {
          "font": {},
          "showarrow": false,
          "text": "topic_10",
          "x": 0.09200000000000001,
          "xanchor": "center",
          "xref": "paper",
          "y": 0.2866666666666666,
          "yanchor": "bottom",
          "yref": "paper"
         },
         {
          "font": {},
          "showarrow": false,
          "text": "topic_11",
          "x": 0.29600000000000004,
          "xanchor": "center",
          "xref": "paper",
          "y": 0.2866666666666666,
          "yanchor": "bottom",
          "yref": "paper"
         },
         {
          "font": {},
          "showarrow": false,
          "text": "topic_12",
          "x": 0.5,
          "xanchor": "center",
          "xref": "paper",
          "y": 0.2866666666666666,
          "yanchor": "bottom",
          "yref": "paper"
         },
         {
          "font": {},
          "showarrow": false,
          "text": "topic_13",
          "x": 0.7040000000000002,
          "xanchor": "center",
          "xref": "paper",
          "y": 0.2866666666666666,
          "yanchor": "bottom",
          "yref": "paper"
         },
         {
          "font": {},
          "showarrow": false,
          "text": "topic_14",
          "x": 0.908,
          "xanchor": "center",
          "xref": "paper",
          "y": 0.2866666666666666,
          "yanchor": "bottom",
          "yref": "paper"
         },
         {
          "font": {},
          "showarrow": false,
          "text": "topic_5",
          "x": 0.09200000000000001,
          "xanchor": "center",
          "xref": "paper",
          "y": 0.6433333333333333,
          "yanchor": "bottom",
          "yref": "paper"
         },
         {
          "font": {},
          "showarrow": false,
          "text": "topic_6",
          "x": 0.29600000000000004,
          "xanchor": "center",
          "xref": "paper",
          "y": 0.6433333333333333,
          "yanchor": "bottom",
          "yref": "paper"
         },
         {
          "font": {},
          "showarrow": false,
          "text": "topic_7",
          "x": 0.5,
          "xanchor": "center",
          "xref": "paper",
          "y": 0.6433333333333333,
          "yanchor": "bottom",
          "yref": "paper"
         },
         {
          "font": {},
          "showarrow": false,
          "text": "topic_8",
          "x": 0.7040000000000002,
          "xanchor": "center",
          "xref": "paper",
          "y": 0.6433333333333333,
          "yanchor": "bottom",
          "yref": "paper"
         },
         {
          "font": {},
          "showarrow": false,
          "text": "topic_9",
          "x": 0.908,
          "xanchor": "center",
          "xref": "paper",
          "y": 0.6433333333333333,
          "yanchor": "bottom",
          "yref": "paper"
         },
         {
          "font": {},
          "showarrow": false,
          "text": "topic_0",
          "x": 0.09200000000000001,
          "xanchor": "center",
          "xref": "paper",
          "y": 0.9999999999999999,
          "yanchor": "bottom",
          "yref": "paper"
         },
         {
          "font": {},
          "showarrow": false,
          "text": "topic_1",
          "x": 0.29600000000000004,
          "xanchor": "center",
          "xref": "paper",
          "y": 0.9999999999999999,
          "yanchor": "bottom",
          "yref": "paper"
         },
         {
          "font": {},
          "showarrow": false,
          "text": "topic_2",
          "x": 0.5,
          "xanchor": "center",
          "xref": "paper",
          "y": 0.9999999999999999,
          "yanchor": "bottom",
          "yref": "paper"
         },
         {
          "font": {},
          "showarrow": false,
          "text": "topic_3",
          "x": 0.7040000000000002,
          "xanchor": "center",
          "xref": "paper",
          "y": 0.9999999999999999,
          "yanchor": "bottom",
          "yref": "paper"
         },
         {
          "font": {},
          "showarrow": false,
          "text": "topic_4",
          "x": 0.908,
          "xanchor": "center",
          "xref": "paper",
          "y": 0.9999999999999999,
          "yanchor": "bottom",
          "yref": "paper"
         }
        ],
        "barmode": "relative",
        "height": 1000,
        "legend": {
         "title": {
          "font": {
           "size": 15
          }
         },
         "tracegroupgap": 0
        },
        "template": {
         "data": {
          "bar": [
           {
            "error_x": {
             "color": "#2a3f5f"
            },
            "error_y": {
             "color": "#2a3f5f"
            },
            "marker": {
             "line": {
              "color": "#E5ECF6",
              "width": 0.5
             },
             "pattern": {
              "fillmode": "overlay",
              "size": 10,
              "solidity": 0.2
             }
            },
            "type": "bar"
           }
          ],
          "barpolar": [
           {
            "marker": {
             "line": {
              "color": "#E5ECF6",
              "width": 0.5
             },
             "pattern": {
              "fillmode": "overlay",
              "size": 10,
              "solidity": 0.2
             }
            },
            "type": "barpolar"
           }
          ],
          "carpet": [
           {
            "aaxis": {
             "endlinecolor": "#2a3f5f",
             "gridcolor": "white",
             "linecolor": "white",
             "minorgridcolor": "white",
             "startlinecolor": "#2a3f5f"
            },
            "baxis": {
             "endlinecolor": "#2a3f5f",
             "gridcolor": "white",
             "linecolor": "white",
             "minorgridcolor": "white",
             "startlinecolor": "#2a3f5f"
            },
            "type": "carpet"
           }
          ],
          "choropleth": [
           {
            "colorbar": {
             "outlinewidth": 0,
             "ticks": ""
            },
            "type": "choropleth"
           }
          ],
          "contour": [
           {
            "colorbar": {
             "outlinewidth": 0,
             "ticks": ""
            },
            "colorscale": [
             [
              0,
              "#0d0887"
             ],
             [
              0.1111111111111111,
              "#46039f"
             ],
             [
              0.2222222222222222,
              "#7201a8"
             ],
             [
              0.3333333333333333,
              "#9c179e"
             ],
             [
              0.4444444444444444,
              "#bd3786"
             ],
             [
              0.5555555555555556,
              "#d8576b"
             ],
             [
              0.6666666666666666,
              "#ed7953"
             ],
             [
              0.7777777777777778,
              "#fb9f3a"
             ],
             [
              0.8888888888888888,
              "#fdca26"
             ],
             [
              1,
              "#f0f921"
             ]
            ],
            "type": "contour"
           }
          ],
          "contourcarpet": [
           {
            "colorbar": {
             "outlinewidth": 0,
             "ticks": ""
            },
            "type": "contourcarpet"
           }
          ],
          "heatmap": [
           {
            "colorbar": {
             "outlinewidth": 0,
             "ticks": ""
            },
            "colorscale": [
             [
              0,
              "#0d0887"
             ],
             [
              0.1111111111111111,
              "#46039f"
             ],
             [
              0.2222222222222222,
              "#7201a8"
             ],
             [
              0.3333333333333333,
              "#9c179e"
             ],
             [
              0.4444444444444444,
              "#bd3786"
             ],
             [
              0.5555555555555556,
              "#d8576b"
             ],
             [
              0.6666666666666666,
              "#ed7953"
             ],
             [
              0.7777777777777778,
              "#fb9f3a"
             ],
             [
              0.8888888888888888,
              "#fdca26"
             ],
             [
              1,
              "#f0f921"
             ]
            ],
            "type": "heatmap"
           }
          ],
          "heatmapgl": [
           {
            "colorbar": {
             "outlinewidth": 0,
             "ticks": ""
            },
            "colorscale": [
             [
              0,
              "#0d0887"
             ],
             [
              0.1111111111111111,
              "#46039f"
             ],
             [
              0.2222222222222222,
              "#7201a8"
             ],
             [
              0.3333333333333333,
              "#9c179e"
             ],
             [
              0.4444444444444444,
              "#bd3786"
             ],
             [
              0.5555555555555556,
              "#d8576b"
             ],
             [
              0.6666666666666666,
              "#ed7953"
             ],
             [
              0.7777777777777778,
              "#fb9f3a"
             ],
             [
              0.8888888888888888,
              "#fdca26"
             ],
             [
              1,
              "#f0f921"
             ]
            ],
            "type": "heatmapgl"
           }
          ],
          "histogram": [
           {
            "marker": {
             "pattern": {
              "fillmode": "overlay",
              "size": 10,
              "solidity": 0.2
             }
            },
            "type": "histogram"
           }
          ],
          "histogram2d": [
           {
            "colorbar": {
             "outlinewidth": 0,
             "ticks": ""
            },
            "colorscale": [
             [
              0,
              "#0d0887"
             ],
             [
              0.1111111111111111,
              "#46039f"
             ],
             [
              0.2222222222222222,
              "#7201a8"
             ],
             [
              0.3333333333333333,
              "#9c179e"
             ],
             [
              0.4444444444444444,
              "#bd3786"
             ],
             [
              0.5555555555555556,
              "#d8576b"
             ],
             [
              0.6666666666666666,
              "#ed7953"
             ],
             [
              0.7777777777777778,
              "#fb9f3a"
             ],
             [
              0.8888888888888888,
              "#fdca26"
             ],
             [
              1,
              "#f0f921"
             ]
            ],
            "type": "histogram2d"
           }
          ],
          "histogram2dcontour": [
           {
            "colorbar": {
             "outlinewidth": 0,
             "ticks": ""
            },
            "colorscale": [
             [
              0,
              "#0d0887"
             ],
             [
              0.1111111111111111,
              "#46039f"
             ],
             [
              0.2222222222222222,
              "#7201a8"
             ],
             [
              0.3333333333333333,
              "#9c179e"
             ],
             [
              0.4444444444444444,
              "#bd3786"
             ],
             [
              0.5555555555555556,
              "#d8576b"
             ],
             [
              0.6666666666666666,
              "#ed7953"
             ],
             [
              0.7777777777777778,
              "#fb9f3a"
             ],
             [
              0.8888888888888888,
              "#fdca26"
             ],
             [
              1,
              "#f0f921"
             ]
            ],
            "type": "histogram2dcontour"
           }
          ],
          "mesh3d": [
           {
            "colorbar": {
             "outlinewidth": 0,
             "ticks": ""
            },
            "type": "mesh3d"
           }
          ],
          "parcoords": [
           {
            "line": {
             "colorbar": {
              "outlinewidth": 0,
              "ticks": ""
             }
            },
            "type": "parcoords"
           }
          ],
          "pie": [
           {
            "automargin": true,
            "type": "pie"
           }
          ],
          "scatter": [
           {
            "fillpattern": {
             "fillmode": "overlay",
             "size": 10,
             "solidity": 0.2
            },
            "type": "scatter"
           }
          ],
          "scatter3d": [
           {
            "line": {
             "colorbar": {
              "outlinewidth": 0,
              "ticks": ""
             }
            },
            "marker": {
             "colorbar": {
              "outlinewidth": 0,
              "ticks": ""
             }
            },
            "type": "scatter3d"
           }
          ],
          "scattercarpet": [
           {
            "marker": {
             "colorbar": {
              "outlinewidth": 0,
              "ticks": ""
             }
            },
            "type": "scattercarpet"
           }
          ],
          "scattergeo": [
           {
            "marker": {
             "colorbar": {
              "outlinewidth": 0,
              "ticks": ""
             }
            },
            "type": "scattergeo"
           }
          ],
          "scattergl": [
           {
            "marker": {
             "colorbar": {
              "outlinewidth": 0,
              "ticks": ""
             }
            },
            "type": "scattergl"
           }
          ],
          "scattermapbox": [
           {
            "marker": {
             "colorbar": {
              "outlinewidth": 0,
              "ticks": ""
             }
            },
            "type": "scattermapbox"
           }
          ],
          "scatterpolar": [
           {
            "marker": {
             "colorbar": {
              "outlinewidth": 0,
              "ticks": ""
             }
            },
            "type": "scatterpolar"
           }
          ],
          "scatterpolargl": [
           {
            "marker": {
             "colorbar": {
              "outlinewidth": 0,
              "ticks": ""
             }
            },
            "type": "scatterpolargl"
           }
          ],
          "scatterternary": [
           {
            "marker": {
             "colorbar": {
              "outlinewidth": 0,
              "ticks": ""
             }
            },
            "type": "scatterternary"
           }
          ],
          "surface": [
           {
            "colorbar": {
             "outlinewidth": 0,
             "ticks": ""
            },
            "colorscale": [
             [
              0,
              "#0d0887"
             ],
             [
              0.1111111111111111,
              "#46039f"
             ],
             [
              0.2222222222222222,
              "#7201a8"
             ],
             [
              0.3333333333333333,
              "#9c179e"
             ],
             [
              0.4444444444444444,
              "#bd3786"
             ],
             [
              0.5555555555555556,
              "#d8576b"
             ],
             [
              0.6666666666666666,
              "#ed7953"
             ],
             [
              0.7777777777777778,
              "#fb9f3a"
             ],
             [
              0.8888888888888888,
              "#fdca26"
             ],
             [
              1,
              "#f0f921"
             ]
            ],
            "type": "surface"
           }
          ],
          "table": [
           {
            "cells": {
             "fill": {
              "color": "#EBF0F8"
             },
             "line": {
              "color": "white"
             }
            },
            "header": {
             "fill": {
              "color": "#C8D4E3"
             },
             "line": {
              "color": "white"
             }
            },
            "type": "table"
           }
          ]
         },
         "layout": {
          "annotationdefaults": {
           "arrowcolor": "#2a3f5f",
           "arrowhead": 0,
           "arrowwidth": 1
          },
          "autotypenumbers": "strict",
          "coloraxis": {
           "colorbar": {
            "outlinewidth": 0,
            "ticks": ""
           }
          },
          "colorscale": {
           "diverging": [
            [
             0,
             "#8e0152"
            ],
            [
             0.1,
             "#c51b7d"
            ],
            [
             0.2,
             "#de77ae"
            ],
            [
             0.3,
             "#f1b6da"
            ],
            [
             0.4,
             "#fde0ef"
            ],
            [
             0.5,
             "#f7f7f7"
            ],
            [
             0.6,
             "#e6f5d0"
            ],
            [
             0.7,
             "#b8e186"
            ],
            [
             0.8,
             "#7fbc41"
            ],
            [
             0.9,
             "#4d9221"
            ],
            [
             1,
             "#276419"
            ]
           ],
           "sequential": [
            [
             0,
             "#0d0887"
            ],
            [
             0.1111111111111111,
             "#46039f"
            ],
            [
             0.2222222222222222,
             "#7201a8"
            ],
            [
             0.3333333333333333,
             "#9c179e"
            ],
            [
             0.4444444444444444,
             "#bd3786"
            ],
            [
             0.5555555555555556,
             "#d8576b"
            ],
            [
             0.6666666666666666,
             "#ed7953"
            ],
            [
             0.7777777777777778,
             "#fb9f3a"
            ],
            [
             0.8888888888888888,
             "#fdca26"
            ],
            [
             1,
             "#f0f921"
            ]
           ],
           "sequentialminus": [
            [
             0,
             "#0d0887"
            ],
            [
             0.1111111111111111,
             "#46039f"
            ],
            [
             0.2222222222222222,
             "#7201a8"
            ],
            [
             0.3333333333333333,
             "#9c179e"
            ],
            [
             0.4444444444444444,
             "#bd3786"
            ],
            [
             0.5555555555555556,
             "#d8576b"
            ],
            [
             0.6666666666666666,
             "#ed7953"
            ],
            [
             0.7777777777777778,
             "#fb9f3a"
            ],
            [
             0.8888888888888888,
             "#fdca26"
            ],
            [
             1,
             "#f0f921"
            ]
           ]
          },
          "colorway": [
           "#636efa",
           "#EF553B",
           "#00cc96",
           "#ab63fa",
           "#FFA15A",
           "#19d3f3",
           "#FF6692",
           "#B6E880",
           "#FF97FF",
           "#FECB52"
          ],
          "font": {
           "color": "#2a3f5f"
          },
          "geo": {
           "bgcolor": "white",
           "lakecolor": "white",
           "landcolor": "#E5ECF6",
           "showlakes": true,
           "showland": true,
           "subunitcolor": "white"
          },
          "hoverlabel": {
           "align": "left"
          },
          "hovermode": "closest",
          "mapbox": {
           "style": "light"
          },
          "paper_bgcolor": "white",
          "plot_bgcolor": "#E5ECF6",
          "polar": {
           "angularaxis": {
            "gridcolor": "white",
            "linecolor": "white",
            "ticks": ""
           },
           "bgcolor": "#E5ECF6",
           "radialaxis": {
            "gridcolor": "white",
            "linecolor": "white",
            "ticks": ""
           }
          },
          "scene": {
           "xaxis": {
            "backgroundcolor": "#E5ECF6",
            "gridcolor": "white",
            "gridwidth": 2,
            "linecolor": "white",
            "showbackground": true,
            "ticks": "",
            "zerolinecolor": "white"
           },
           "yaxis": {
            "backgroundcolor": "#E5ECF6",
            "gridcolor": "white",
            "gridwidth": 2,
            "linecolor": "white",
            "showbackground": true,
            "ticks": "",
            "zerolinecolor": "white"
           },
           "zaxis": {
            "backgroundcolor": "#E5ECF6",
            "gridcolor": "white",
            "gridwidth": 2,
            "linecolor": "white",
            "showbackground": true,
            "ticks": "",
            "zerolinecolor": "white"
           }
          },
          "shapedefaults": {
           "line": {
            "color": "#2a3f5f"
           }
          },
          "ternary": {
           "aaxis": {
            "gridcolor": "white",
            "linecolor": "white",
            "ticks": ""
           },
           "baxis": {
            "gridcolor": "white",
            "linecolor": "white",
            "ticks": ""
           },
           "bgcolor": "#E5ECF6",
           "caxis": {
            "gridcolor": "white",
            "linecolor": "white",
            "ticks": ""
           }
          },
          "title": {
           "x": 0.05
          },
          "xaxis": {
           "automargin": true,
           "gridcolor": "white",
           "linecolor": "white",
           "ticks": "",
           "title": {
            "standoff": 15
           },
           "zerolinecolor": "white",
           "zerolinewidth": 2
          },
          "yaxis": {
           "automargin": true,
           "gridcolor": "white",
           "linecolor": "white",
           "ticks": "",
           "title": {
            "standoff": 15
           },
           "zerolinecolor": "white",
           "zerolinewidth": 2
          }
         }
        },
        "title": {
         "font": {
          "size": 25
         },
         "text": "LDA Topics and Terms",
         "x": 0.5
        },
        "xaxis": {
         "anchor": "y",
         "domain": [
          0,
          0.18400000000000002
         ],
         "title": {
          "text": "Weight"
         }
        },
        "xaxis10": {
         "anchor": "y10",
         "domain": [
          0.8160000000000001,
          1
         ],
         "matches": "x",
         "showticklabels": false
        },
        "xaxis11": {
         "anchor": "y11",
         "domain": [
          0,
          0.18400000000000002
         ],
         "matches": "x",
         "showticklabels": false
        },
        "xaxis12": {
         "anchor": "y12",
         "domain": [
          0.20400000000000001,
          0.388
         ],
         "matches": "x",
         "showticklabels": false
        },
        "xaxis13": {
         "anchor": "y13",
         "domain": [
          0.40800000000000003,
          0.5920000000000001
         ],
         "matches": "x",
         "showticklabels": false
        },
        "xaxis14": {
         "anchor": "y14",
         "domain": [
          0.6120000000000001,
          0.7960000000000002
         ],
         "matches": "x",
         "showticklabels": false
        },
        "xaxis15": {
         "anchor": "y15",
         "domain": [
          0.8160000000000001,
          1
         ],
         "matches": "x",
         "showticklabels": false
        },
        "xaxis2": {
         "anchor": "y2",
         "domain": [
          0.20400000000000001,
          0.388
         ],
         "matches": "x",
         "title": {
          "text": "Weight"
         }
        },
        "xaxis3": {
         "anchor": "y3",
         "domain": [
          0.40800000000000003,
          0.5920000000000001
         ],
         "matches": "x",
         "title": {
          "text": "Weight"
         }
        },
        "xaxis4": {
         "anchor": "y4",
         "domain": [
          0.6120000000000001,
          0.7960000000000002
         ],
         "matches": "x",
         "title": {
          "text": "Weight"
         }
        },
        "xaxis5": {
         "anchor": "y5",
         "domain": [
          0.8160000000000001,
          1
         ],
         "matches": "x",
         "title": {
          "text": "Weight"
         }
        },
        "xaxis6": {
         "anchor": "y6",
         "domain": [
          0,
          0.18400000000000002
         ],
         "matches": "x",
         "showticklabels": false
        },
        "xaxis7": {
         "anchor": "y7",
         "domain": [
          0.20400000000000001,
          0.388
         ],
         "matches": "x",
         "showticklabels": false
        },
        "xaxis8": {
         "anchor": "y8",
         "domain": [
          0.40800000000000003,
          0.5920000000000001
         ],
         "matches": "x",
         "showticklabels": false
        },
        "xaxis9": {
         "anchor": "y9",
         "domain": [
          0.6120000000000001,
          0.7960000000000002
         ],
         "matches": "x",
         "showticklabels": false
        },
        "yaxis": {
         "anchor": "x",
         "domain": [
          0,
          0.2866666666666666
         ],
         "showticklabels": true,
         "title": {
          "text": "Term"
         }
        },
        "yaxis10": {
         "anchor": "x10",
         "domain": [
          0.35666666666666663,
          0.6433333333333333
         ],
         "showticklabels": true
        },
        "yaxis11": {
         "anchor": "x11",
         "domain": [
          0.7133333333333333,
          0.9999999999999999
         ],
         "showticklabels": true,
         "title": {
          "text": "Term"
         }
        },
        "yaxis12": {
         "anchor": "x12",
         "domain": [
          0.7133333333333333,
          0.9999999999999999
         ],
         "showticklabels": true
        },
        "yaxis13": {
         "anchor": "x13",
         "domain": [
          0.7133333333333333,
          0.9999999999999999
         ],
         "showticklabels": true
        },
        "yaxis14": {
         "anchor": "x14",
         "domain": [
          0.7133333333333333,
          0.9999999999999999
         ],
         "showticklabels": true
        },
        "yaxis15": {
         "anchor": "x15",
         "domain": [
          0.7133333333333333,
          0.9999999999999999
         ],
         "showticklabels": true
        },
        "yaxis2": {
         "anchor": "x2",
         "domain": [
          0,
          0.2866666666666666
         ],
         "showticklabels": true
        },
        "yaxis3": {
         "anchor": "x3",
         "domain": [
          0,
          0.2866666666666666
         ],
         "showticklabels": true
        },
        "yaxis4": {
         "anchor": "x4",
         "domain": [
          0,
          0.2866666666666666
         ],
         "showticklabels": true
        },
        "yaxis5": {
         "anchor": "x5",
         "domain": [
          0,
          0.2866666666666666
         ],
         "showticklabels": true
        },
        "yaxis6": {
         "anchor": "x6",
         "domain": [
          0.35666666666666663,
          0.6433333333333333
         ],
         "showticklabels": true,
         "title": {
          "text": "Term"
         }
        },
        "yaxis7": {
         "anchor": "x7",
         "domain": [
          0.35666666666666663,
          0.6433333333333333
         ],
         "showticklabels": true
        },
        "yaxis8": {
         "anchor": "x8",
         "domain": [
          0.35666666666666663,
          0.6433333333333333
         ],
         "showticklabels": true
        },
        "yaxis9": {
         "anchor": "x9",
         "domain": [
          0.35666666666666663,
          0.6433333333333333
         ],
         "showticklabels": true
        }
       }
      }
     },
     "metadata": {},
     "output_type": "display_data"
    }
   ],
   "source": [
    "# Your answer here\n",
    "import plotly.express as px\n",
    "\n",
    "\n",
    "\n",
    "lda_topic_terms_fig = px.bar(lda_topic_terms_df,\n",
    "       x =\"Weight\",\n",
    "       y = \"Term\",\n",
    "       facet_col=\"Topic Cluster\", \n",
    "       facet_col_wrap=5,\n",
    "       orientation='h',\n",
    "       title = \"LDA Topics and Terms\",\n",
    "       labels = {\"Local Government Area (LGA)\": \"Local Government Area\", \n",
    "                 \"Total Contractual Commitment ($ GST excl.)\": \"Contractual Commitment ($ GST excl.)\"})\n",
    "\n",
    "lda_topic_terms_fig.update_layout(\n",
    "    title_font_size=25,\n",
    "    title_x=0.5,\n",
    "    legend_title_font_size=15,\n",
    "    height=1000\n",
    ")\n",
    "lda_topic_terms_fig.for_each_annotation(lambda a: a.update(text=a.text.split(\"=\")[-1])) # https://plotly.com/python/facet-plots/\n",
    "lda_topic_terms_fig.update_yaxes(showticklabels=True, matches=None)"
   ]
  },
  {
   "cell_type": "code",
   "execution_count": 29,
   "id": "89439a3c",
   "metadata": {},
   "outputs": [
    {
     "data": {
      "application/vnd.plotly.v1+json": {
       "config": {
        "plotlyServerURL": "https://plot.ly"
       },
       "data": [
        {
         "alignmentgroup": "True",
         "hovertemplate": "Topic Cluster=topic_0<br>Weight=%{x}<br>Term=%{y}<extra></extra>",
         "legendgroup": "",
         "marker": {
          "color": "#636efa",
          "pattern": {
           "shape": ""
          }
         },
         "name": "",
         "offsetgroup": "",
         "orientation": "h",
         "showlegend": false,
         "textposition": "auto",
         "type": "bar",
         "x": [
          1.5941,
          0.6321,
          0.5298,
          0.3762,
          0.351,
          0.3354,
          0.3354,
          0.3292,
          0.3001,
          0.2995
         ],
         "xaxis": "x11",
         "y": [
          "I",
          "saysnum",
          "people",
          "think",
          "just",
          "I ’m",
          "’m",
          "’ve",
          "know",
          "We"
         ],
         "yaxis": "y11"
        },
        {
         "alignmentgroup": "True",
         "hovertemplate": "Topic Cluster=topic_1<br>Weight=%{x}<br>Term=%{y}<extra></extra>",
         "legendgroup": "",
         "marker": {
          "color": "#636efa",
          "pattern": {
           "shape": ""
          }
         },
         "name": "",
         "offsetgroup": "",
         "orientation": "h",
         "showlegend": false,
         "textposition": "auto",
         "type": "bar",
         "x": [
          0.982,
          0.8845,
          0.6352,
          0.6317,
          0.4603,
          0.3528,
          0.3429,
          0.3127,
          0.3118,
          0.2987
         ],
         "xaxis": "x12",
         "y": [
          "energy",
          "coal",
          "renewable",
          "power",
          "price",
          "electricity",
          "renewable energy",
          "power station",
          "emission",
          "project"
         ],
         "yaxis": "y12"
        },
        {
         "alignmentgroup": "True",
         "hovertemplate": "Topic Cluster=topic_2<br>Weight=%{x}<br>Term=%{y}<extra></extra>",
         "legendgroup": "",
         "marker": {
          "color": "#636efa",
          "pattern": {
           "shape": ""
          }
         },
         "name": "",
         "offsetgroup": "",
         "orientation": "h",
         "showlegend": false,
         "textposition": "auto",
         "type": "bar",
         "x": [
          1.3277,
          0.991,
          0.8746,
          0.7543,
          0.6405,
          0.4965,
          0.3816,
          0.3365,
          0.3347,
          0.2983
         ],
         "xaxis": "x13",
         "y": [
          "police",
          "violence",
          "domestic",
          "domestic violence",
          "woman",
          "officer",
          "inquiry",
          "victim",
          "coercive",
          "taskforce"
         ],
         "yaxis": "y13"
        },
        {
         "alignmentgroup": "True",
         "hovertemplate": "Topic Cluster=topic_3<br>Weight=%{x}<br>Term=%{y}<extra></extra>",
         "legendgroup": "",
         "marker": {
          "color": "#636efa",
          "pattern": {
           "shape": ""
          }
         },
         "name": "",
         "offsetgroup": "",
         "orientation": "h",
         "showlegend": false,
         "textposition": "auto",
         "type": "bar",
         "x": [
          1.9741,
          1.642,
          1.2178,
          1.1317,
          1.0647,
          0.9337,
          0.7519,
          0.6909,
          0.627,
          0.5736
         ],
         "xaxis": "x14",
         "y": [
          "child",
          "youth",
          "watch house",
          "watch",
          "detention",
          "house",
          "young",
          "police",
          "justice",
          "crime"
         ],
         "yaxis": "y14"
        },
        {
         "alignmentgroup": "True",
         "hovertemplate": "Topic Cluster=topic_4<br>Weight=%{x}<br>Term=%{y}<extra></extra>",
         "legendgroup": "",
         "marker": {
          "color": "#636efa",
          "pattern": {
           "shape": ""
          }
         },
         "name": "",
         "offsetgroup": "",
         "orientation": "h",
         "showlegend": false,
         "textposition": "auto",
         "type": "bar",
         "x": [
          1.023,
          0.479,
          0.463,
          0.4504,
          0.438,
          0.4345,
          0.4138,
          0.3952,
          0.3814,
          0.3789
         ],
         "xaxis": "x15",
         "y": [
          "treaty",
          "indigenous",
          "First",
          "First Nations",
          "Nations",
          "Aboriginal",
          "people",
          "native title",
          "Torres",
          "traditional"
         ],
         "yaxis": "y15"
        },
        {
         "alignmentgroup": "True",
         "hovertemplate": "Topic Cluster=topic_5<br>Weight=%{x}<br>Term=%{y}<extra></extra>",
         "legendgroup": "",
         "marker": {
          "color": "#636efa",
          "pattern": {
           "shape": ""
          }
         },
         "name": "",
         "offsetgroup": "",
         "orientation": "h",
         "showlegend": false,
         "textposition": "auto",
         "type": "bar",
         "x": [
          2.7889,
          1.4026,
          1.253,
          0.8292,
          0.7234,
          0.6975,
          0.5791,
          0.5391,
          0.538,
          0.5115
         ],
         "xaxis": "x6",
         "y": [
          "clearing",
          "land",
          "land clearing",
          "deforestation",
          "vegetation",
          "hectare",
          "law",
          "clear",
          "forest",
          "NUM hectare"
         ],
         "yaxis": "y6"
        },
        {
         "alignmentgroup": "True",
         "hovertemplate": "Topic Cluster=topic_6<br>Weight=%{x}<br>Term=%{y}<extra></extra>",
         "legendgroup": "",
         "marker": {
          "color": "#636efa",
          "pattern": {
           "shape": ""
          }
         },
         "name": "",
         "offsetgroup": "",
         "orientation": "h",
         "showlegend": false,
         "textposition": "auto",
         "type": "bar",
         "x": [
          2.6465,
          0.705,
          0.6112,
          0.5479,
          0.5234,
          0.5211,
          0.4641,
          0.4303,
          0.382,
          0.3693
         ],
         "xaxis": "x7",
         "y": [
          "Adani",
          "Carmichael",
          "Adani ’s",
          "coal",
          "project",
          "royalty",
          "company",
          "rail",
          "plan",
          "approval"
         ],
         "yaxis": "y7"
        },
        {
         "alignmentgroup": "True",
         "hovertemplate": "Topic Cluster=topic_7<br>Weight=%{x}<br>Term=%{y}<extra></extra>",
         "legendgroup": "",
         "marker": {
          "color": "#636efa",
          "pattern": {
           "shape": ""
          }
         },
         "name": "",
         "offsetgroup": "",
         "orientation": "h",
         "showlegend": false,
         "textposition": "auto",
         "type": "bar",
         "x": [
          1.6375,
          0.6223,
          0.6223,
          0.6198,
          0.6074,
          0.5363,
          0.5325,
          0.4966,
          0.4691,
          0.4299
         ],
         "xaxis": "x8",
         "y": [
          "gas",
          "Eyre",
          "Lake Eyre",
          "channel",
          "Lake",
          "river",
          "Origin",
          "fracke",
          "channel country",
          "basin"
         ],
         "yaxis": "y8"
        },
        {
         "alignmentgroup": "True",
         "hovertemplate": "Topic Cluster=topic_8<br>Weight=%{x}<br>Term=%{y}<extra></extra>",
         "legendgroup": "",
         "marker": {
          "color": "#636efa",
          "pattern": {
           "shape": ""
          }
         },
         "name": "",
         "offsetgroup": "",
         "orientation": "h",
         "showlegend": false,
         "textposition": "auto",
         "type": "bar",
         "x": [
          0.5343,
          0.4513,
          0.3679,
          0.3606,
          0.3055,
          0.2919,
          0.2843,
          0.2826,
          0.2792,
          0.272
         ],
         "xaxis": "x9",
         "y": [
          "US",
          "Trump",
          "australian",
          "read",
          "Sydney",
          "world",
          "story",
          "World",
          "crossword",
          "\n \n"
         ],
         "yaxis": "y9"
        },
        {
         "alignmentgroup": "True",
         "hovertemplate": "Topic Cluster=topic_9<br>Weight=%{x}<br>Term=%{y}<extra></extra>",
         "legendgroup": "",
         "marker": {
          "color": "#636efa",
          "pattern": {
           "shape": ""
          }
         },
         "name": "",
         "offsetgroup": "",
         "orientation": "h",
         "showlegend": false,
         "textposition": "auto",
         "type": "bar",
         "x": [
          1.111,
          0.8376,
          0.8125,
          0.789,
          0.6645,
          0.6031,
          0.5755,
          0.5453,
          0.5387,
          0.5253
         ],
         "xaxis": "x10",
         "y": [
          "border",
          "quarantine",
          "case",
          "NSW",
          "Covid",
          "travel",
          "hotel",
          "test",
          "Victoria",
          "Covid NUM"
         ],
         "yaxis": "y10"
        },
        {
         "alignmentgroup": "True",
         "hovertemplate": "Topic Cluster=topic_10<br>Weight=%{x}<br>Term=%{y}<extra></extra>",
         "legendgroup": "",
         "marker": {
          "color": "#636efa",
          "pattern": {
           "shape": ""
          }
         },
         "name": "",
         "offsetgroup": "",
         "orientation": "h",
         "showlegend": false,
         "textposition": "auto",
         "type": "bar",
         "x": [
          1.8414,
          0.4459,
          0.3907,
          0.3089,
          0.2838,
          0.2678,
          0.2671,
          0.2522,
          0.2352,
          0.2345
         ],
         "xaxis": "x",
         "y": [
          "water",
          "dam",
          "Joyce",
          "EAA",
          "project",
          "flood",
          "drought",
          "company",
          "local",
          "purchase"
         ],
         "yaxis": "y"
        },
        {
         "alignmentgroup": "True",
         "hovertemplate": "Topic Cluster=topic_11<br>Weight=%{x}<br>Term=%{y}<extra></extra>",
         "legendgroup": "",
         "marker": {
          "color": "#636efa",
          "pattern": {
           "shape": ""
          }
         },
         "name": "",
         "offsetgroup": "",
         "orientation": "h",
         "showlegend": false,
         "textposition": "auto",
         "type": "bar",
         "x": [
          1.0002,
          0.5197,
          0.4629,
          0.4129,
          0.3954,
          0.3593,
          0.3342,
          0.3008,
          0.3003,
          0.2673
         ],
         "xaxis": "x2",
         "y": [
          "vaccine",
          "vaccination",
          "dose",
          "health",
          "Covid",
          "vaccinate",
          "Morrison",
          "AstraZeneca",
          "clinic",
          "rollout"
         ],
         "yaxis": "y2"
        },
        {
         "alignmentgroup": "True",
         "hovertemplate": "Topic Cluster=topic_12<br>Weight=%{x}<br>Term=%{y}<extra></extra>",
         "legendgroup": "",
         "marker": {
          "color": "#636efa",
          "pattern": {
           "shape": ""
          }
         },
         "name": "",
         "offsetgroup": "",
         "orientation": "h",
         "showlegend": false,
         "textposition": "auto",
         "type": "bar",
         "x": [
          1.3605,
          0.7962,
          0.7179,
          0.6691,
          0.6691,
          0.6458,
          0.6018,
          0.4275,
          0.3779,
          0.3666
         ],
         "xaxis": "x3",
         "y": [
          "reef",
          "Reef",
          "Barrier",
          "Barrier Reef",
          "Great Barrier",
          "Great",
          "coral",
          "water quality",
          "climate",
          "quality"
         ],
         "yaxis": "y3"
        },
        {
         "alignmentgroup": "True",
         "hovertemplate": "Topic Cluster=topic_13<br>Weight=%{x}<br>Term=%{y}<extra></extra>",
         "legendgroup": "",
         "marker": {
          "color": "#636efa",
          "pattern": {
           "shape": ""
          }
         },
         "name": "",
         "offsetgroup": "",
         "orientation": "h",
         "showlegend": false,
         "textposition": "auto",
         "type": "bar",
         "x": [
          1.5797,
          1.2419,
          0.6843,
          0.4369,
          0.406,
          0.3954,
          0.3302,
          0.33,
          0.2996,
          0.2902
         ],
         "xaxis": "x4",
         "y": [
          "rent",
          "housing",
          "rental",
          "property",
          "tenant",
          "tax",
          "home",
          "landlord",
          "cap",
          "land tax"
         ],
         "yaxis": "y4"
        },
        {
         "alignmentgroup": "True",
         "hovertemplate": "Topic Cluster=topic_14<br>Weight=%{x}<br>Term=%{y}<extra></extra>",
         "legendgroup": "",
         "marker": {
          "color": "#636efa",
          "pattern": {
           "shape": ""
          }
         },
         "name": "",
         "offsetgroup": "",
         "orientation": "h",
         "showlegend": false,
         "textposition": "auto",
         "type": "bar",
         "x": [
          0.6943,
          0.5406,
          0.5219,
          0.4739,
          0.4589,
          0.4479,
          0.435,
          0.3887,
          0.3805,
          0.3678
         ],
         "xaxis": "x5",
         "y": [
          "specie",
          "habitat",
          "Walker",
          "environment",
          "wetland",
          "Ramsar",
          "Walker Corporation",
          "area",
          "development",
          "environmental"
         ],
         "yaxis": "y5"
        }
       ],
       "layout": {
        "annotations": [
         {
          "font": {},
          "showarrow": false,
          "text": "topic_10",
          "x": 0.09200000000000001,
          "xanchor": "center",
          "xref": "paper",
          "y": 0.2866666666666666,
          "yanchor": "bottom",
          "yref": "paper"
         },
         {
          "font": {},
          "showarrow": false,
          "text": "topic_11",
          "x": 0.29600000000000004,
          "xanchor": "center",
          "xref": "paper",
          "y": 0.2866666666666666,
          "yanchor": "bottom",
          "yref": "paper"
         },
         {
          "font": {},
          "showarrow": false,
          "text": "topic_12",
          "x": 0.5,
          "xanchor": "center",
          "xref": "paper",
          "y": 0.2866666666666666,
          "yanchor": "bottom",
          "yref": "paper"
         },
         {
          "font": {},
          "showarrow": false,
          "text": "topic_13",
          "x": 0.7040000000000002,
          "xanchor": "center",
          "xref": "paper",
          "y": 0.2866666666666666,
          "yanchor": "bottom",
          "yref": "paper"
         },
         {
          "font": {},
          "showarrow": false,
          "text": "topic_14",
          "x": 0.908,
          "xanchor": "center",
          "xref": "paper",
          "y": 0.2866666666666666,
          "yanchor": "bottom",
          "yref": "paper"
         },
         {
          "font": {},
          "showarrow": false,
          "text": "topic_5",
          "x": 0.09200000000000001,
          "xanchor": "center",
          "xref": "paper",
          "y": 0.6433333333333333,
          "yanchor": "bottom",
          "yref": "paper"
         },
         {
          "font": {},
          "showarrow": false,
          "text": "topic_6",
          "x": 0.29600000000000004,
          "xanchor": "center",
          "xref": "paper",
          "y": 0.6433333333333333,
          "yanchor": "bottom",
          "yref": "paper"
         },
         {
          "font": {},
          "showarrow": false,
          "text": "topic_7",
          "x": 0.5,
          "xanchor": "center",
          "xref": "paper",
          "y": 0.6433333333333333,
          "yanchor": "bottom",
          "yref": "paper"
         },
         {
          "font": {},
          "showarrow": false,
          "text": "topic_8",
          "x": 0.7040000000000002,
          "xanchor": "center",
          "xref": "paper",
          "y": 0.6433333333333333,
          "yanchor": "bottom",
          "yref": "paper"
         },
         {
          "font": {},
          "showarrow": false,
          "text": "topic_9",
          "x": 0.908,
          "xanchor": "center",
          "xref": "paper",
          "y": 0.6433333333333333,
          "yanchor": "bottom",
          "yref": "paper"
         },
         {
          "font": {},
          "showarrow": false,
          "text": "topic_0",
          "x": 0.09200000000000001,
          "xanchor": "center",
          "xref": "paper",
          "y": 0.9999999999999999,
          "yanchor": "bottom",
          "yref": "paper"
         },
         {
          "font": {},
          "showarrow": false,
          "text": "topic_1",
          "x": 0.29600000000000004,
          "xanchor": "center",
          "xref": "paper",
          "y": 0.9999999999999999,
          "yanchor": "bottom",
          "yref": "paper"
         },
         {
          "font": {},
          "showarrow": false,
          "text": "topic_2",
          "x": 0.5,
          "xanchor": "center",
          "xref": "paper",
          "y": 0.9999999999999999,
          "yanchor": "bottom",
          "yref": "paper"
         },
         {
          "font": {},
          "showarrow": false,
          "text": "topic_3",
          "x": 0.7040000000000002,
          "xanchor": "center",
          "xref": "paper",
          "y": 0.9999999999999999,
          "yanchor": "bottom",
          "yref": "paper"
         },
         {
          "font": {},
          "showarrow": false,
          "text": "topic_4",
          "x": 0.908,
          "xanchor": "center",
          "xref": "paper",
          "y": 0.9999999999999999,
          "yanchor": "bottom",
          "yref": "paper"
         }
        ],
        "barmode": "relative",
        "height": 1000,
        "legend": {
         "title": {
          "font": {
           "size": 15
          }
         },
         "tracegroupgap": 0
        },
        "template": {
         "data": {
          "bar": [
           {
            "error_x": {
             "color": "#2a3f5f"
            },
            "error_y": {
             "color": "#2a3f5f"
            },
            "marker": {
             "line": {
              "color": "#E5ECF6",
              "width": 0.5
             },
             "pattern": {
              "fillmode": "overlay",
              "size": 10,
              "solidity": 0.2
             }
            },
            "type": "bar"
           }
          ],
          "barpolar": [
           {
            "marker": {
             "line": {
              "color": "#E5ECF6",
              "width": 0.5
             },
             "pattern": {
              "fillmode": "overlay",
              "size": 10,
              "solidity": 0.2
             }
            },
            "type": "barpolar"
           }
          ],
          "carpet": [
           {
            "aaxis": {
             "endlinecolor": "#2a3f5f",
             "gridcolor": "white",
             "linecolor": "white",
             "minorgridcolor": "white",
             "startlinecolor": "#2a3f5f"
            },
            "baxis": {
             "endlinecolor": "#2a3f5f",
             "gridcolor": "white",
             "linecolor": "white",
             "minorgridcolor": "white",
             "startlinecolor": "#2a3f5f"
            },
            "type": "carpet"
           }
          ],
          "choropleth": [
           {
            "colorbar": {
             "outlinewidth": 0,
             "ticks": ""
            },
            "type": "choropleth"
           }
          ],
          "contour": [
           {
            "colorbar": {
             "outlinewidth": 0,
             "ticks": ""
            },
            "colorscale": [
             [
              0,
              "#0d0887"
             ],
             [
              0.1111111111111111,
              "#46039f"
             ],
             [
              0.2222222222222222,
              "#7201a8"
             ],
             [
              0.3333333333333333,
              "#9c179e"
             ],
             [
              0.4444444444444444,
              "#bd3786"
             ],
             [
              0.5555555555555556,
              "#d8576b"
             ],
             [
              0.6666666666666666,
              "#ed7953"
             ],
             [
              0.7777777777777778,
              "#fb9f3a"
             ],
             [
              0.8888888888888888,
              "#fdca26"
             ],
             [
              1,
              "#f0f921"
             ]
            ],
            "type": "contour"
           }
          ],
          "contourcarpet": [
           {
            "colorbar": {
             "outlinewidth": 0,
             "ticks": ""
            },
            "type": "contourcarpet"
           }
          ],
          "heatmap": [
           {
            "colorbar": {
             "outlinewidth": 0,
             "ticks": ""
            },
            "colorscale": [
             [
              0,
              "#0d0887"
             ],
             [
              0.1111111111111111,
              "#46039f"
             ],
             [
              0.2222222222222222,
              "#7201a8"
             ],
             [
              0.3333333333333333,
              "#9c179e"
             ],
             [
              0.4444444444444444,
              "#bd3786"
             ],
             [
              0.5555555555555556,
              "#d8576b"
             ],
             [
              0.6666666666666666,
              "#ed7953"
             ],
             [
              0.7777777777777778,
              "#fb9f3a"
             ],
             [
              0.8888888888888888,
              "#fdca26"
             ],
             [
              1,
              "#f0f921"
             ]
            ],
            "type": "heatmap"
           }
          ],
          "heatmapgl": [
           {
            "colorbar": {
             "outlinewidth": 0,
             "ticks": ""
            },
            "colorscale": [
             [
              0,
              "#0d0887"
             ],
             [
              0.1111111111111111,
              "#46039f"
             ],
             [
              0.2222222222222222,
              "#7201a8"
             ],
             [
              0.3333333333333333,
              "#9c179e"
             ],
             [
              0.4444444444444444,
              "#bd3786"
             ],
             [
              0.5555555555555556,
              "#d8576b"
             ],
             [
              0.6666666666666666,
              "#ed7953"
             ],
             [
              0.7777777777777778,
              "#fb9f3a"
             ],
             [
              0.8888888888888888,
              "#fdca26"
             ],
             [
              1,
              "#f0f921"
             ]
            ],
            "type": "heatmapgl"
           }
          ],
          "histogram": [
           {
            "marker": {
             "pattern": {
              "fillmode": "overlay",
              "size": 10,
              "solidity": 0.2
             }
            },
            "type": "histogram"
           }
          ],
          "histogram2d": [
           {
            "colorbar": {
             "outlinewidth": 0,
             "ticks": ""
            },
            "colorscale": [
             [
              0,
              "#0d0887"
             ],
             [
              0.1111111111111111,
              "#46039f"
             ],
             [
              0.2222222222222222,
              "#7201a8"
             ],
             [
              0.3333333333333333,
              "#9c179e"
             ],
             [
              0.4444444444444444,
              "#bd3786"
             ],
             [
              0.5555555555555556,
              "#d8576b"
             ],
             [
              0.6666666666666666,
              "#ed7953"
             ],
             [
              0.7777777777777778,
              "#fb9f3a"
             ],
             [
              0.8888888888888888,
              "#fdca26"
             ],
             [
              1,
              "#f0f921"
             ]
            ],
            "type": "histogram2d"
           }
          ],
          "histogram2dcontour": [
           {
            "colorbar": {
             "outlinewidth": 0,
             "ticks": ""
            },
            "colorscale": [
             [
              0,
              "#0d0887"
             ],
             [
              0.1111111111111111,
              "#46039f"
             ],
             [
              0.2222222222222222,
              "#7201a8"
             ],
             [
              0.3333333333333333,
              "#9c179e"
             ],
             [
              0.4444444444444444,
              "#bd3786"
             ],
             [
              0.5555555555555556,
              "#d8576b"
             ],
             [
              0.6666666666666666,
              "#ed7953"
             ],
             [
              0.7777777777777778,
              "#fb9f3a"
             ],
             [
              0.8888888888888888,
              "#fdca26"
             ],
             [
              1,
              "#f0f921"
             ]
            ],
            "type": "histogram2dcontour"
           }
          ],
          "mesh3d": [
           {
            "colorbar": {
             "outlinewidth": 0,
             "ticks": ""
            },
            "type": "mesh3d"
           }
          ],
          "parcoords": [
           {
            "line": {
             "colorbar": {
              "outlinewidth": 0,
              "ticks": ""
             }
            },
            "type": "parcoords"
           }
          ],
          "pie": [
           {
            "automargin": true,
            "type": "pie"
           }
          ],
          "scatter": [
           {
            "fillpattern": {
             "fillmode": "overlay",
             "size": 10,
             "solidity": 0.2
            },
            "type": "scatter"
           }
          ],
          "scatter3d": [
           {
            "line": {
             "colorbar": {
              "outlinewidth": 0,
              "ticks": ""
             }
            },
            "marker": {
             "colorbar": {
              "outlinewidth": 0,
              "ticks": ""
             }
            },
            "type": "scatter3d"
           }
          ],
          "scattercarpet": [
           {
            "marker": {
             "colorbar": {
              "outlinewidth": 0,
              "ticks": ""
             }
            },
            "type": "scattercarpet"
           }
          ],
          "scattergeo": [
           {
            "marker": {
             "colorbar": {
              "outlinewidth": 0,
              "ticks": ""
             }
            },
            "type": "scattergeo"
           }
          ],
          "scattergl": [
           {
            "marker": {
             "colorbar": {
              "outlinewidth": 0,
              "ticks": ""
             }
            },
            "type": "scattergl"
           }
          ],
          "scattermapbox": [
           {
            "marker": {
             "colorbar": {
              "outlinewidth": 0,
              "ticks": ""
             }
            },
            "type": "scattermapbox"
           }
          ],
          "scatterpolar": [
           {
            "marker": {
             "colorbar": {
              "outlinewidth": 0,
              "ticks": ""
             }
            },
            "type": "scatterpolar"
           }
          ],
          "scatterpolargl": [
           {
            "marker": {
             "colorbar": {
              "outlinewidth": 0,
              "ticks": ""
             }
            },
            "type": "scatterpolargl"
           }
          ],
          "scatterternary": [
           {
            "marker": {
             "colorbar": {
              "outlinewidth": 0,
              "ticks": ""
             }
            },
            "type": "scatterternary"
           }
          ],
          "surface": [
           {
            "colorbar": {
             "outlinewidth": 0,
             "ticks": ""
            },
            "colorscale": [
             [
              0,
              "#0d0887"
             ],
             [
              0.1111111111111111,
              "#46039f"
             ],
             [
              0.2222222222222222,
              "#7201a8"
             ],
             [
              0.3333333333333333,
              "#9c179e"
             ],
             [
              0.4444444444444444,
              "#bd3786"
             ],
             [
              0.5555555555555556,
              "#d8576b"
             ],
             [
              0.6666666666666666,
              "#ed7953"
             ],
             [
              0.7777777777777778,
              "#fb9f3a"
             ],
             [
              0.8888888888888888,
              "#fdca26"
             ],
             [
              1,
              "#f0f921"
             ]
            ],
            "type": "surface"
           }
          ],
          "table": [
           {
            "cells": {
             "fill": {
              "color": "#EBF0F8"
             },
             "line": {
              "color": "white"
             }
            },
            "header": {
             "fill": {
              "color": "#C8D4E3"
             },
             "line": {
              "color": "white"
             }
            },
            "type": "table"
           }
          ]
         },
         "layout": {
          "annotationdefaults": {
           "arrowcolor": "#2a3f5f",
           "arrowhead": 0,
           "arrowwidth": 1
          },
          "autotypenumbers": "strict",
          "coloraxis": {
           "colorbar": {
            "outlinewidth": 0,
            "ticks": ""
           }
          },
          "colorscale": {
           "diverging": [
            [
             0,
             "#8e0152"
            ],
            [
             0.1,
             "#c51b7d"
            ],
            [
             0.2,
             "#de77ae"
            ],
            [
             0.3,
             "#f1b6da"
            ],
            [
             0.4,
             "#fde0ef"
            ],
            [
             0.5,
             "#f7f7f7"
            ],
            [
             0.6,
             "#e6f5d0"
            ],
            [
             0.7,
             "#b8e186"
            ],
            [
             0.8,
             "#7fbc41"
            ],
            [
             0.9,
             "#4d9221"
            ],
            [
             1,
             "#276419"
            ]
           ],
           "sequential": [
            [
             0,
             "#0d0887"
            ],
            [
             0.1111111111111111,
             "#46039f"
            ],
            [
             0.2222222222222222,
             "#7201a8"
            ],
            [
             0.3333333333333333,
             "#9c179e"
            ],
            [
             0.4444444444444444,
             "#bd3786"
            ],
            [
             0.5555555555555556,
             "#d8576b"
            ],
            [
             0.6666666666666666,
             "#ed7953"
            ],
            [
             0.7777777777777778,
             "#fb9f3a"
            ],
            [
             0.8888888888888888,
             "#fdca26"
            ],
            [
             1,
             "#f0f921"
            ]
           ],
           "sequentialminus": [
            [
             0,
             "#0d0887"
            ],
            [
             0.1111111111111111,
             "#46039f"
            ],
            [
             0.2222222222222222,
             "#7201a8"
            ],
            [
             0.3333333333333333,
             "#9c179e"
            ],
            [
             0.4444444444444444,
             "#bd3786"
            ],
            [
             0.5555555555555556,
             "#d8576b"
            ],
            [
             0.6666666666666666,
             "#ed7953"
            ],
            [
             0.7777777777777778,
             "#fb9f3a"
            ],
            [
             0.8888888888888888,
             "#fdca26"
            ],
            [
             1,
             "#f0f921"
            ]
           ]
          },
          "colorway": [
           "#636efa",
           "#EF553B",
           "#00cc96",
           "#ab63fa",
           "#FFA15A",
           "#19d3f3",
           "#FF6692",
           "#B6E880",
           "#FF97FF",
           "#FECB52"
          ],
          "font": {
           "color": "#2a3f5f"
          },
          "geo": {
           "bgcolor": "white",
           "lakecolor": "white",
           "landcolor": "#E5ECF6",
           "showlakes": true,
           "showland": true,
           "subunitcolor": "white"
          },
          "hoverlabel": {
           "align": "left"
          },
          "hovermode": "closest",
          "mapbox": {
           "style": "light"
          },
          "paper_bgcolor": "white",
          "plot_bgcolor": "#E5ECF6",
          "polar": {
           "angularaxis": {
            "gridcolor": "white",
            "linecolor": "white",
            "ticks": ""
           },
           "bgcolor": "#E5ECF6",
           "radialaxis": {
            "gridcolor": "white",
            "linecolor": "white",
            "ticks": ""
           }
          },
          "scene": {
           "xaxis": {
            "backgroundcolor": "#E5ECF6",
            "gridcolor": "white",
            "gridwidth": 2,
            "linecolor": "white",
            "showbackground": true,
            "ticks": "",
            "zerolinecolor": "white"
           },
           "yaxis": {
            "backgroundcolor": "#E5ECF6",
            "gridcolor": "white",
            "gridwidth": 2,
            "linecolor": "white",
            "showbackground": true,
            "ticks": "",
            "zerolinecolor": "white"
           },
           "zaxis": {
            "backgroundcolor": "#E5ECF6",
            "gridcolor": "white",
            "gridwidth": 2,
            "linecolor": "white",
            "showbackground": true,
            "ticks": "",
            "zerolinecolor": "white"
           }
          },
          "shapedefaults": {
           "line": {
            "color": "#2a3f5f"
           }
          },
          "ternary": {
           "aaxis": {
            "gridcolor": "white",
            "linecolor": "white",
            "ticks": ""
           },
           "baxis": {
            "gridcolor": "white",
            "linecolor": "white",
            "ticks": ""
           },
           "bgcolor": "#E5ECF6",
           "caxis": {
            "gridcolor": "white",
            "linecolor": "white",
            "ticks": ""
           }
          },
          "title": {
           "x": 0.05
          },
          "xaxis": {
           "automargin": true,
           "gridcolor": "white",
           "linecolor": "white",
           "ticks": "",
           "title": {
            "standoff": 15
           },
           "zerolinecolor": "white",
           "zerolinewidth": 2
          },
          "yaxis": {
           "automargin": true,
           "gridcolor": "white",
           "linecolor": "white",
           "ticks": "",
           "title": {
            "standoff": 15
           },
           "zerolinecolor": "white",
           "zerolinewidth": 2
          }
         }
        },
        "title": {
         "font": {
          "size": 25
         },
         "text": "Total Contractual Commitment ($ GST excl.) by Local Government Area",
         "x": 0.5
        },
        "xaxis": {
         "anchor": "y",
         "domain": [
          0,
          0.18400000000000002
         ],
         "title": {
          "text": "Weight"
         }
        },
        "xaxis10": {
         "anchor": "y10",
         "domain": [
          0.8160000000000001,
          1
         ],
         "matches": "x",
         "showticklabels": false
        },
        "xaxis11": {
         "anchor": "y11",
         "domain": [
          0,
          0.18400000000000002
         ],
         "matches": "x",
         "showticklabels": false
        },
        "xaxis12": {
         "anchor": "y12",
         "domain": [
          0.20400000000000001,
          0.388
         ],
         "matches": "x",
         "showticklabels": false
        },
        "xaxis13": {
         "anchor": "y13",
         "domain": [
          0.40800000000000003,
          0.5920000000000001
         ],
         "matches": "x",
         "showticklabels": false
        },
        "xaxis14": {
         "anchor": "y14",
         "domain": [
          0.6120000000000001,
          0.7960000000000002
         ],
         "matches": "x",
         "showticklabels": false
        },
        "xaxis15": {
         "anchor": "y15",
         "domain": [
          0.8160000000000001,
          1
         ],
         "matches": "x",
         "showticklabels": false
        },
        "xaxis2": {
         "anchor": "y2",
         "domain": [
          0.20400000000000001,
          0.388
         ],
         "matches": "x",
         "title": {
          "text": "Weight"
         }
        },
        "xaxis3": {
         "anchor": "y3",
         "domain": [
          0.40800000000000003,
          0.5920000000000001
         ],
         "matches": "x",
         "title": {
          "text": "Weight"
         }
        },
        "xaxis4": {
         "anchor": "y4",
         "domain": [
          0.6120000000000001,
          0.7960000000000002
         ],
         "matches": "x",
         "title": {
          "text": "Weight"
         }
        },
        "xaxis5": {
         "anchor": "y5",
         "domain": [
          0.8160000000000001,
          1
         ],
         "matches": "x",
         "title": {
          "text": "Weight"
         }
        },
        "xaxis6": {
         "anchor": "y6",
         "domain": [
          0,
          0.18400000000000002
         ],
         "matches": "x",
         "showticklabels": false
        },
        "xaxis7": {
         "anchor": "y7",
         "domain": [
          0.20400000000000001,
          0.388
         ],
         "matches": "x",
         "showticklabels": false
        },
        "xaxis8": {
         "anchor": "y8",
         "domain": [
          0.40800000000000003,
          0.5920000000000001
         ],
         "matches": "x",
         "showticklabels": false
        },
        "xaxis9": {
         "anchor": "y9",
         "domain": [
          0.6120000000000001,
          0.7960000000000002
         ],
         "matches": "x",
         "showticklabels": false
        },
        "yaxis": {
         "anchor": "x",
         "domain": [
          0,
          0.2866666666666666
         ],
         "showticklabels": true,
         "title": {
          "text": "Term"
         }
        },
        "yaxis10": {
         "anchor": "x10",
         "domain": [
          0.35666666666666663,
          0.6433333333333333
         ],
         "showticklabels": true
        },
        "yaxis11": {
         "anchor": "x11",
         "domain": [
          0.7133333333333333,
          0.9999999999999999
         ],
         "showticklabels": true,
         "title": {
          "text": "Term"
         }
        },
        "yaxis12": {
         "anchor": "x12",
         "domain": [
          0.7133333333333333,
          0.9999999999999999
         ],
         "showticklabels": true
        },
        "yaxis13": {
         "anchor": "x13",
         "domain": [
          0.7133333333333333,
          0.9999999999999999
         ],
         "showticklabels": true
        },
        "yaxis14": {
         "anchor": "x14",
         "domain": [
          0.7133333333333333,
          0.9999999999999999
         ],
         "showticklabels": true
        },
        "yaxis15": {
         "anchor": "x15",
         "domain": [
          0.7133333333333333,
          0.9999999999999999
         ],
         "showticklabels": true
        },
        "yaxis2": {
         "anchor": "x2",
         "domain": [
          0,
          0.2866666666666666
         ],
         "showticklabels": true
        },
        "yaxis3": {
         "anchor": "x3",
         "domain": [
          0,
          0.2866666666666666
         ],
         "showticklabels": true
        },
        "yaxis4": {
         "anchor": "x4",
         "domain": [
          0,
          0.2866666666666666
         ],
         "showticklabels": true
        },
        "yaxis5": {
         "anchor": "x5",
         "domain": [
          0,
          0.2866666666666666
         ],
         "showticklabels": true
        },
        "yaxis6": {
         "anchor": "x6",
         "domain": [
          0.35666666666666663,
          0.6433333333333333
         ],
         "showticklabels": true,
         "title": {
          "text": "Term"
         }
        },
        "yaxis7": {
         "anchor": "x7",
         "domain": [
          0.35666666666666663,
          0.6433333333333333
         ],
         "showticklabels": true
        },
        "yaxis8": {
         "anchor": "x8",
         "domain": [
          0.35666666666666663,
          0.6433333333333333
         ],
         "showticklabels": true
        },
        "yaxis9": {
         "anchor": "x9",
         "domain": [
          0.35666666666666663,
          0.6433333333333333
         ],
         "showticklabels": true
        }
       }
      }
     },
     "metadata": {},
     "output_type": "display_data"
    }
   ],
   "source": [
    "# Your answer here\n",
    "import plotly.express as px\n",
    "\n",
    "\n",
    "\n",
    "nmf_topic_terms_fig = px.bar(nmf_topic_terms_df,\n",
    "       x =\"Weight\",\n",
    "       y = \"Term\",\n",
    "       facet_col=\"Topic Cluster\", \n",
    "       facet_col_wrap=5,\n",
    "       orientation='h',\n",
    "       title = \"Total Contractual Commitment ($ GST excl.) by Local Government Area\",\n",
    "       labels = {\"Local Government Area (LGA)\": \"Local Government Area\", \n",
    "                 \"Total Contractual Commitment ($ GST excl.)\": \"Contractual Commitment ($ GST excl.)\"})\n",
    "\n",
    "nmf_topic_terms_fig.update_layout(\n",
    "    title_font_size=25,\n",
    "    title_x=0.5,\n",
    "    legend_title_font_size=15,\n",
    "    height=1000\n",
    ")\n",
    "nmf_topic_terms_fig.for_each_annotation(lambda a: a.update(text=a.text.split(\"=\")[-1])) # https://plotly.com/python/facet-plots/\n",
    "nmf_topic_terms_fig.update_yaxes(showticklabels=True, matches=None)"
   ]
  },
  {
   "cell_type": "markdown",
   "id": "c8cdc017",
   "metadata": {},
   "source": [
    "# SHould make some mention that these are just the top topics... Maybe I should sum them across the year?"
   ]
  },
  {
   "attachments": {},
   "cell_type": "markdown",
   "id": "9f9218b0",
   "metadata": {},
   "source": [
    "#### Update the terms matrix"
   ]
  },
  {
   "cell_type": "code",
   "execution_count": 30,
   "id": "e56c2c63",
   "metadata": {},
   "outputs": [
    {
     "name": "stderr",
     "output_type": "stream",
     "text": [
      "C:\\Users\\Morgan\\AppData\\Local\\Temp\\ipykernel_27176\\2376733025.py:4: FutureWarning:\n",
      "\n",
      "ChainedAssignmentError: behaviour will change in pandas 3.0!\n",
      "You are setting values through chained assignment. Currently this works in certain cases, but when using Copy-on-Write (which will become the default behaviour in pandas 3.0) this will never work to update the original DataFrame or Series, because the intermediate object on which we are setting values will behave as a copy.\n",
      "A typical example is when you are setting values in a column of a DataFrame, like:\n",
      "\n",
      "df[\"col\"][row_indexer] = value\n",
      "\n",
      "Use `df.loc[row_indexer, \"col\"] = values` instead, to perform the assignment in a single step and ensure this keeps updating the original `df`.\n",
      "\n",
      "See the caveats in the documentation: https://pandas.pydata.org/pandas-docs/stable/user_guide/indexing.html#returning-a-view-versus-a-copy\n",
      "\n",
      "\n"
     ]
    },
    {
     "data": {
      "text/html": [
       "<div>\n",
       "<style scoped>\n",
       "    .dataframe tbody tr th:only-of-type {\n",
       "        vertical-align: middle;\n",
       "    }\n",
       "\n",
       "    .dataframe tbody tr th {\n",
       "        vertical-align: top;\n",
       "    }\n",
       "\n",
       "    .dataframe thead th {\n",
       "        text-align: right;\n",
       "    }\n",
       "</style>\n",
       "<table border=\"1\" class=\"dataframe\">\n",
       "  <thead>\n",
       "    <tr style=\"text-align: right;\">\n",
       "      <th></th>\n",
       "      <th>count</th>\n",
       "      <th>tfidf</th>\n",
       "      <th>lda</th>\n",
       "      <th>nmf</th>\n",
       "    </tr>\n",
       "  </thead>\n",
       "  <tbody>\n",
       "    <tr>\n",
       "      <th>‘Harrowing’ footage sparks calls for Queensland government to remove children from police watch houses [2024-07-18T15:00:15Z]</th>\n",
       "      <td>[child, watch, watch house, house, footage, yo...</td>\n",
       "      <td>[child, watch, watch house, footage, house, ad...</td>\n",
       "      <td>[child, people, youth, young, police, watch, h...</td>\n",
       "      <td>[police, violence, domestic, woman, officer, d...</td>\n",
       "    </tr>\n",
       "    <tr>\n",
       "      <th>Queensland government accused of cowing to Christian Lobby on anti-discrimination bill [2024-06-14T15:00:56Z]</th>\n",
       "      <td>[school, base, teacher, Labor, experience, fai...</td>\n",
       "      <td>[teacher, faith base, school, faith, discrimin...</td>\n",
       "      <td>[housing, NUMm, cost,  , home, num%, We, rent,...</td>\n",
       "      <td>[forest, hydro, pump, pump hydro, glider, log,...</td>\n",
       "    </tr>\n",
       "    <tr>\n",
       "      <th>Queensland government hoses down suggestions it is considering bailout for Bonza [2024-05-10T08:26:48Z]</th>\n",
       "      <td>[administrator, aircraft, federal, financial, ...</td>\n",
       "      <td>[administrator, aircraft, airline, creditor, p...</td>\n",
       "      <td>[housing, NUMm, cost,  , home, num%, We, rent,...</td>\n",
       "      <td>[forest, hydro, pump, pump hydro, glider, log,...</td>\n",
       "    </tr>\n",
       "    <tr>\n",
       "      <th>Queensland government accused of failing to provide adequate schooling to locked up children [2024-04-11T15:00:28Z]</th>\n",
       "      <td>[youth, child, hour, detention, centre, educat...</td>\n",
       "      <td>[youth, detention, detention centre, education...</td>\n",
       "      <td>[child, people, youth, young, police, watch, h...</td>\n",
       "      <td>[police, violence, domestic, woman, officer, d...</td>\n",
       "    </tr>\n",
       "    <tr>\n",
       "      <th>‘There has to be a way’: Queensland government working to reunite Molly the magpie with family, premier says [2024-03-28T06:26:13Z]</th>\n",
       "      <td>[Molly, family, department, bird, couple, care...</td>\n",
       "      <td>[Molly, carer, bird, reunite, family, couple, ...</td>\n",
       "      <td>[I, people,  , like, We, just, tell, party, ti...</td>\n",
       "      <td>[I, people,  , like, We, just, tell, party, ti...</td>\n",
       "    </tr>\n",
       "    <tr>\n",
       "      <th>...</th>\n",
       "      <td>...</td>\n",
       "      <td>...</td>\n",
       "      <td>...</td>\n",
       "      <td>...</td>\n",
       "    </tr>\n",
       "    <tr>\n",
       "      <th>Mark Latham takes aim at Sky boss in post-sacking Twitter spray | The Weekly Beast [2017-03-30T20:35:02Z]</th>\n",
       "      <td>[Sky, political, News, Australian,  , change, ...</td>\n",
       "      <td>[Sky, Sky News, News, ad, political, Lloyd, re...</td>\n",
       "      <td>[I, people,  , like, We, just, tell, party, ti...</td>\n",
       "      <td>[Gabba, stadium, Schrinner, cricket, AFL, rebu...</td>\n",
       "    </tr>\n",
       "    <tr>\n",
       "      <th>Where the 2017 Queensland election will be won and lost [2017-10-29T02:00:35Z]</th>\n",
       "      <td>[Labor, LNP, nation, seat, vote, party, Hanson...</td>\n",
       "      <td>[LNP, Labor, nation, Hanson, seat, vote, prima...</td>\n",
       "      <td>[coal, energy, power, renewable, climate, Labo...</td>\n",
       "      <td>[I, people,  , like, We, just, tell, party, ti...</td>\n",
       "    </tr>\n",
       "    <tr>\n",
       "      <th>Bill Shorten takes town hall test: Trump, tax, refugees and the gum tree menace [2017-03-02T10:15:44Z]</th>\n",
       "      <td>[Shorten, Labor, We, want, He, I, people, said...</td>\n",
       "      <td>[Shorten, Labor, hall, yes, progressive, Labor...</td>\n",
       "      <td>[I, people,  , like, We, just, tell, party, ti...</td>\n",
       "      <td>[I, people,  , like, We, just, tell, party, ti...</td>\n",
       "    </tr>\n",
       "    <tr>\n",
       "      <th>Indigenous incarceration: turning the tide on colonisation's cruel third act [2017-02-20T03:08:41Z]</th>\n",
       "      <td>[indigenous, people, justice, child, issue, pr...</td>\n",
       "      <td>[indigenous, justice, child, Aboriginal, Torre...</td>\n",
       "      <td>[child, people, youth, young, police, watch, h...</td>\n",
       "      <td>[reduce rate, australian premier, say resource...</td>\n",
       "    </tr>\n",
       "    <tr>\n",
       "      <th>CSG's last stand? In Narrabri everyone has a stake in the farming v mining fight [2017-05-22T20:16:07Z]</th>\n",
       "      <td>[gas,  , project, I, community, town, impact, ...</td>\n",
       "      <td>[gas, Santos, project, town, seam,  , royalty,...</td>\n",
       "      <td>[water, environmental, federal, plan, land, pr...</td>\n",
       "      <td>[coal, energy, power, renewable, climate, Labo...</td>\n",
       "    </tr>\n",
       "  </tbody>\n",
       "</table>\n",
       "<p>1063 rows × 4 columns</p>\n",
       "</div>"
      ],
      "text/plain": [
       "                                                                                                count  \\\n",
       "‘Harrowing’ footage sparks calls for Queensland...  [child, watch, watch house, house, footage, yo...   \n",
       "Queensland government accused of cowing to Chri...  [school, base, teacher, Labor, experience, fai...   \n",
       "Queensland government hoses down suggestions it...  [administrator, aircraft, federal, financial, ...   \n",
       "Queensland government accused of failing to pro...  [youth, child, hour, detention, centre, educat...   \n",
       "‘There has to be a way’: Queensland government ...  [Molly, family, department, bird, couple, care...   \n",
       "...                                                                                               ...   \n",
       "Mark Latham takes aim at Sky boss in post-sacki...  [Sky, political, News, Australian,  , change, ...   \n",
       "Where the 2017 Queensland election will be won ...  [Labor, LNP, nation, seat, vote, party, Hanson...   \n",
       "Bill Shorten takes town hall test: Trump, tax, ...  [Shorten, Labor, We, want, He, I, people, said...   \n",
       "Indigenous incarceration: turning the tide on c...  [indigenous, people, justice, child, issue, pr...   \n",
       "CSG's last stand? In Narrabri everyone has a st...  [gas,  , project, I, community, town, impact, ...   \n",
       "\n",
       "                                                                                                tfidf  \\\n",
       "‘Harrowing’ footage sparks calls for Queensland...  [child, watch, watch house, footage, house, ad...   \n",
       "Queensland government accused of cowing to Chri...  [teacher, faith base, school, faith, discrimin...   \n",
       "Queensland government hoses down suggestions it...  [administrator, aircraft, airline, creditor, p...   \n",
       "Queensland government accused of failing to pro...  [youth, detention, detention centre, education...   \n",
       "‘There has to be a way’: Queensland government ...  [Molly, carer, bird, reunite, family, couple, ...   \n",
       "...                                                                                               ...   \n",
       "Mark Latham takes aim at Sky boss in post-sacki...  [Sky, Sky News, News, ad, political, Lloyd, re...   \n",
       "Where the 2017 Queensland election will be won ...  [LNP, Labor, nation, Hanson, seat, vote, prima...   \n",
       "Bill Shorten takes town hall test: Trump, tax, ...  [Shorten, Labor, hall, yes, progressive, Labor...   \n",
       "Indigenous incarceration: turning the tide on c...  [indigenous, justice, child, Aboriginal, Torre...   \n",
       "CSG's last stand? In Narrabri everyone has a st...  [gas, Santos, project, town, seam,  , royalty,...   \n",
       "\n",
       "                                                                                                  lda  \\\n",
       "‘Harrowing’ footage sparks calls for Queensland...  [child, people, youth, young, police, watch, h...   \n",
       "Queensland government accused of cowing to Chri...  [housing, NUMm, cost,  , home, num%, We, rent,...   \n",
       "Queensland government hoses down suggestions it...  [housing, NUMm, cost,  , home, num%, We, rent,...   \n",
       "Queensland government accused of failing to pro...  [child, people, youth, young, police, watch, h...   \n",
       "‘There has to be a way’: Queensland government ...  [I, people,  , like, We, just, tell, party, ti...   \n",
       "...                                                                                               ...   \n",
       "Mark Latham takes aim at Sky boss in post-sacki...  [I, people,  , like, We, just, tell, party, ti...   \n",
       "Where the 2017 Queensland election will be won ...  [coal, energy, power, renewable, climate, Labo...   \n",
       "Bill Shorten takes town hall test: Trump, tax, ...  [I, people,  , like, We, just, tell, party, ti...   \n",
       "Indigenous incarceration: turning the tide on c...  [child, people, youth, young, police, watch, h...   \n",
       "CSG's last stand? In Narrabri everyone has a st...  [water, environmental, federal, plan, land, pr...   \n",
       "\n",
       "                                                                                                  nmf  \n",
       "‘Harrowing’ footage sparks calls for Queensland...  [police, violence, domestic, woman, officer, d...  \n",
       "Queensland government accused of cowing to Chri...  [forest, hydro, pump, pump hydro, glider, log,...  \n",
       "Queensland government hoses down suggestions it...  [forest, hydro, pump, pump hydro, glider, log,...  \n",
       "Queensland government accused of failing to pro...  [police, violence, domestic, woman, officer, d...  \n",
       "‘There has to be a way’: Queensland government ...  [I, people,  , like, We, just, tell, party, ti...  \n",
       "...                                                                                               ...  \n",
       "Mark Latham takes aim at Sky boss in post-sacki...  [Gabba, stadium, Schrinner, cricket, AFL, rebu...  \n",
       "Where the 2017 Queensland election will be won ...  [I, people,  , like, We, just, tell, party, ti...  \n",
       "Bill Shorten takes town hall test: Trump, tax, ...  [I, people,  , like, We, just, tell, party, ti...  \n",
       "Indigenous incarceration: turning the tide on c...  [reduce rate, australian premier, say resource...  \n",
       "CSG's last stand? In Narrabri everyone has a st...  [coal, energy, power, renewable, climate, Labo...  \n",
       "\n",
       "[1063 rows x 4 columns]"
      ]
     },
     "execution_count": 30,
     "metadata": {},
     "output_type": "execute_result"
    }
   ],
   "source": [
    "for idx,topic in enumerate(doc_topic_nmf):\n",
    "    topic_num = topic.argmax()\n",
    "    top_topic = lda_topic_dict[f\"topic_{topic_num}\"]\n",
    "    terms_df['nmf'].iloc[idx] = list(top_topic.keys())\n",
    "\n",
    "terms_df"
   ]
  },
  {
   "cell_type": "code",
   "execution_count": 31,
   "id": "eee23f2c",
   "metadata": {},
   "outputs": [
    {
     "data": {
      "application/vnd.plotly.v1+json": {
       "config": {
        "plotlyServerURL": "https://plot.ly"
       },
       "data": [
        {
         "alignmentgroup": "True",
         "bingroup": "x",
         "hovertemplate": "nmf=%{x}<br>count=%{y}<extra></extra>",
         "legendgroup": "",
         "marker": {
          "color": "#636efa",
          "pattern": {
           "shape": ""
          }
         },
         "name": "",
         "offsetgroup": "",
         "orientation": "v",
         "showlegend": false,
         "type": "histogram",
         "x": [
          [
           "police",
           "violence",
           "domestic",
           "woman",
           "officer",
           "domestic violence",
           "inquiry",
           "court",
           "law",
           "victim"
          ],
          [
           "forest",
           "hydro",
           "pump",
           "pump hydro",
           "glider",
           "log",
           "great glider",
           "Frecklington",
           "timber",
           "great"
          ],
          [
           "forest",
           "hydro",
           "pump",
           "pump hydro",
           "glider",
           "log",
           "great glider",
           "Frecklington",
           "timber",
           "great"
          ],
          [
           "police",
           "violence",
           "domestic",
           "woman",
           "officer",
           "domestic violence",
           "inquiry",
           "court",
           "law",
           "victim"
          ],
          [
           "I",
           "people",
           " ",
           "like",
           "We",
           "just",
           "tell",
           "party",
           "time",
           "federal"
          ],
          [
           "police",
           "violence",
           "domestic",
           "woman",
           "officer",
           "domestic violence",
           "inquiry",
           "court",
           "law",
           "victim"
          ],
          [
           "police",
           "violence",
           "domestic",
           "woman",
           "officer",
           "domestic violence",
           "inquiry",
           "court",
           "law",
           "victim"
          ],
          [
           "housing",
           "NUMm",
           "cost",
           " ",
           "home",
           "num%",
           "We",
           "rent",
           "people",
           "saidNUM"
          ],
          [
           "I",
           "people",
           " ",
           "like",
           "We",
           "just",
           "tell",
           "party",
           "time",
           "federal"
          ],
          [
           "reef",
           "Barrier",
           "Reef",
           "Great",
           "Great Barrier",
           "Barrier Reef",
           "climate",
           "coral",
           "world",
           "park"
          ],
          [
           "police",
           "violence",
           "domestic",
           "woman",
           "officer",
           "domestic violence",
           "inquiry",
           "court",
           "law",
           "victim"
          ],
          [
           "police",
           "violence",
           "domestic",
           "woman",
           "officer",
           "domestic violence",
           "inquiry",
           "court",
           "law",
           "victim"
          ],
          [
           "police",
           "violence",
           "domestic",
           "woman",
           "officer",
           "domestic violence",
           "inquiry",
           "court",
           "law",
           "victim"
          ],
          [
           "reef",
           "Barrier",
           "Reef",
           "Great",
           "Great Barrier",
           "Barrier Reef",
           "climate",
           "coral",
           "world",
           "park"
          ],
          [
           "Adani",
           "Carmichael",
           "Adani ’s",
           "company",
           "project",
           "coal",
           "royalty",
           "loan",
           "rail",
           "coalmine"
          ],
          [
           "forest",
           "hydro",
           "pump",
           "pump hydro",
           "glider",
           "log",
           "great glider",
           "Frecklington",
           "timber",
           "great"
          ],
          [
           "police",
           "violence",
           "domestic",
           "woman",
           "officer",
           "domestic violence",
           "inquiry",
           "court",
           "law",
           "victim"
          ],
          [
           "reduce rate",
           "australian premier",
           "say resource",
           "underneath",
           "fund Queensland",
           "concernsnum",
           "say great",
           "exact",
           "department spokesperson",
           "Anything"
          ],
          [
           "forest",
           "hydro",
           "pump",
           "pump hydro",
           "glider",
           "log",
           "great glider",
           "Frecklington",
           "timber",
           "great"
          ],
          [
           "housing",
           "NUMm",
           "cost",
           " ",
           "home",
           "num%",
           "We",
           "rent",
           "people",
           "saidNUM"
          ],
          [
           "gas",
           "Origin",
           "river",
           "fracke",
           "Lake",
           "oil",
           "basin",
           "channel",
           "company",
           "exploration"
          ],
          [
           "Covid",
           "case",
           "health",
           "people",
           "NSW",
           "border",
           "Covid NUM",
           "test",
           "Victoria",
           "quarantine"
          ],
          [
           "reduce rate",
           "australian premier",
           "say resource",
           "underneath",
           "fund Queensland",
           "concernsnum",
           "say great",
           "exact",
           "department spokesperson",
           "Anything"
          ],
          [
           "Adani",
           "Carmichael",
           "Adani ’s",
           "company",
           "project",
           "coal",
           "royalty",
           "loan",
           "rail",
           "coalmine"
          ],
          [
           "Covid",
           "case",
           "health",
           "people",
           "NSW",
           "border",
           "Covid NUM",
           "test",
           "Victoria",
           "quarantine"
          ],
          [
           "police",
           "violence",
           "domestic",
           "woman",
           "officer",
           "domestic violence",
           "inquiry",
           "court",
           "law",
           "victim"
          ],
          [
           "water",
           "environmental",
           "federal",
           "plan",
           "land",
           "project",
           "department",
           "environment",
           "clearing",
           "report"
          ],
          [
           "reduce rate",
           "australian premier",
           "say resource",
           "underneath",
           "fund Queensland",
           "concernsnum",
           "say great",
           "exact",
           "department spokesperson",
           "Anything"
          ],
          [
           "Adani",
           "Carmichael",
           "Adani ’s",
           "company",
           "project",
           "coal",
           "royalty",
           "loan",
           "rail",
           "coalmine"
          ],
          [
           "housing",
           "NUMm",
           "cost",
           " ",
           "home",
           "num%",
           "We",
           "rent",
           "people",
           "saidNUM"
          ],
          [
           "police",
           "violence",
           "domestic",
           "woman",
           "officer",
           "domestic violence",
           "inquiry",
           "court",
           "law",
           "victim"
          ],
          [
           "Adani",
           "Carmichael",
           "Adani ’s",
           "company",
           "project",
           "coal",
           "royalty",
           "loan",
           "rail",
           "coalmine"
          ],
          [
           "forest",
           "hydro",
           "pump",
           "pump hydro",
           "glider",
           "log",
           "great glider",
           "Frecklington",
           "timber",
           "great"
          ],
          [
           "Adani",
           "Carmichael",
           "Adani ’s",
           "company",
           "project",
           "coal",
           "royalty",
           "loan",
           "rail",
           "coalmine"
          ],
          [
           "reef",
           "Barrier",
           "Reef",
           "Great",
           "Great Barrier",
           "Barrier Reef",
           "climate",
           "coral",
           "world",
           "park"
          ],
          [
           "forest",
           "hydro",
           "pump",
           "pump hydro",
           "glider",
           "log",
           "great glider",
           "Frecklington",
           "timber",
           "great"
          ],
          [
           "I",
           "people",
           " ",
           "like",
           "We",
           "just",
           "tell",
           "party",
           "time",
           "federal"
          ],
          [
           "housing",
           "NUMm",
           "cost",
           " ",
           "home",
           "num%",
           "We",
           "rent",
           "people",
           "saidNUM"
          ],
          [
           "housing",
           "NUMm",
           "cost",
           " ",
           "home",
           "num%",
           "We",
           "rent",
           "people",
           "saidNUM"
          ],
          [
           "housing",
           "NUMm",
           "cost",
           " ",
           "home",
           "num%",
           "We",
           "rent",
           "people",
           "saidNUM"
          ],
          [
           "Covid",
           "case",
           "health",
           "people",
           "NSW",
           "border",
           "Covid NUM",
           "test",
           "Victoria",
           "quarantine"
          ],
          [
           "police",
           "violence",
           "domestic",
           "woman",
           "officer",
           "domestic violence",
           "inquiry",
           "court",
           "law",
           "victim"
          ],
          [
           "Covid",
           "case",
           "health",
           "people",
           "NSW",
           "border",
           "Covid NUM",
           "test",
           "Victoria",
           "quarantine"
          ],
          [
           "forest",
           "hydro",
           "pump",
           "pump hydro",
           "glider",
           "log",
           "great glider",
           "Frecklington",
           "timber",
           "great"
          ],
          [
           "police",
           "violence",
           "domestic",
           "woman",
           "officer",
           "domestic violence",
           "inquiry",
           "court",
           "law",
           "victim"
          ],
          [
           "police",
           "violence",
           "domestic",
           "woman",
           "officer",
           "domestic violence",
           "inquiry",
           "court",
           "law",
           "victim"
          ],
          [
           "Covid",
           "case",
           "health",
           "people",
           "NSW",
           "border",
           "Covid NUM",
           "test",
           "Victoria",
           "quarantine"
          ],
          [
           "I",
           "people",
           " ",
           "like",
           "We",
           "just",
           "tell",
           "party",
           "time",
           "federal"
          ],
          [
           "I",
           "people",
           " ",
           "like",
           "We",
           "just",
           "tell",
           "party",
           "time",
           "federal"
          ],
          [
           "forest",
           "hydro",
           "pump",
           "pump hydro",
           "glider",
           "log",
           "great glider",
           "Frecklington",
           "timber",
           "great"
          ],
          [
           "police",
           "violence",
           "domestic",
           "woman",
           "officer",
           "domestic violence",
           "inquiry",
           "court",
           "law",
           "victim"
          ],
          [
           "I",
           "people",
           " ",
           "like",
           "We",
           "just",
           "tell",
           "party",
           "time",
           "federal"
          ],
          [
           "forest",
           "hydro",
           "pump",
           "pump hydro",
           "glider",
           "log",
           "great glider",
           "Frecklington",
           "timber",
           "great"
          ],
          [
           "reduce rate",
           "australian premier",
           "say resource",
           "underneath",
           "fund Queensland",
           "concernsnum",
           "say great",
           "exact",
           "department spokesperson",
           "Anything"
          ],
          [
           "housing",
           "NUMm",
           "cost",
           " ",
           "home",
           "num%",
           "We",
           "rent",
           "people",
           "saidNUM"
          ],
          [
           "US",
           "Trump",
           "read",
           "world",
           "sign",
           "Australia ’s",
           "World",
           "story",
           "inbox",
           "today"
          ],
          [
           "police",
           "violence",
           "domestic",
           "woman",
           "officer",
           "domestic violence",
           "inquiry",
           "court",
           "law",
           "victim"
          ],
          [
           "housing",
           "NUMm",
           "cost",
           " ",
           "home",
           "num%",
           "We",
           "rent",
           "people",
           "saidNUM"
          ],
          [
           "coal",
           "energy",
           "power",
           "renewable",
           "climate",
           "Labor",
           "emission",
           "price",
           "project",
           "job"
          ],
          [
           "police",
           "violence",
           "domestic",
           "woman",
           "officer",
           "domestic violence",
           "inquiry",
           "court",
           "law",
           "victim"
          ],
          [
           "reef",
           "Barrier",
           "Reef",
           "Great",
           "Great Barrier",
           "Barrier Reef",
           "climate",
           "coral",
           "world",
           "park"
          ],
          [
           "coal",
           "energy",
           "power",
           "renewable",
           "climate",
           "Labor",
           "emission",
           "price",
           "project",
           "job"
          ],
          [
           "Covid",
           "case",
           "health",
           "people",
           "NSW",
           "border",
           "Covid NUM",
           "test",
           "Victoria",
           "quarantine"
          ],
          [
           "coal",
           "energy",
           "power",
           "renewable",
           "climate",
           "Labor",
           "emission",
           "price",
           "project",
           "job"
          ],
          [
           "forest",
           "hydro",
           "pump",
           "pump hydro",
           "glider",
           "log",
           "great glider",
           "Frecklington",
           "timber",
           "great"
          ],
          [
           "forest",
           "hydro",
           "pump",
           "pump hydro",
           "glider",
           "log",
           "great glider",
           "Frecklington",
           "timber",
           "great"
          ],
          [
           "forest",
           "hydro",
           "pump",
           "pump hydro",
           "glider",
           "log",
           "great glider",
           "Frecklington",
           "timber",
           "great"
          ],
          [
           "police",
           "violence",
           "domestic",
           "woman",
           "officer",
           "domestic violence",
           "inquiry",
           "court",
           "law",
           "victim"
          ],
          [
           "I",
           "people",
           " ",
           "like",
           "We",
           "just",
           "tell",
           "party",
           "time",
           "federal"
          ],
          [
           "forest",
           "hydro",
           "pump",
           "pump hydro",
           "glider",
           "log",
           "great glider",
           "Frecklington",
           "timber",
           "great"
          ],
          [
           "I",
           "people",
           " ",
           "like",
           "We",
           "just",
           "tell",
           "party",
           "time",
           "federal"
          ],
          [
           "forest",
           "hydro",
           "pump",
           "pump hydro",
           "glider",
           "log",
           "great glider",
           "Frecklington",
           "timber",
           "great"
          ],
          [
           "forest",
           "hydro",
           "pump",
           "pump hydro",
           "glider",
           "log",
           "great glider",
           "Frecklington",
           "timber",
           "great"
          ],
          [
           "Covid",
           "case",
           "health",
           "people",
           "NSW",
           "border",
           "Covid NUM",
           "test",
           "Victoria",
           "quarantine"
          ],
          [
           "I",
           "people",
           " ",
           "like",
           "We",
           "just",
           "tell",
           "party",
           "time",
           "federal"
          ],
          [
           "housing",
           "NUMm",
           "cost",
           " ",
           "home",
           "num%",
           "We",
           "rent",
           "people",
           "saidNUM"
          ],
          [
           "child",
           "people",
           "youth",
           "young",
           "police",
           "watch",
           "house",
           "detention",
           "justice",
           "community"
          ],
          [
           "forest",
           "hydro",
           "pump",
           "pump hydro",
           "glider",
           "log",
           "great glider",
           "Frecklington",
           "timber",
           "great"
          ],
          [
           "Covid",
           "case",
           "health",
           "people",
           "NSW",
           "border",
           "Covid NUM",
           "test",
           "Victoria",
           "quarantine"
          ],
          [
           "housing",
           "NUMm",
           "cost",
           " ",
           "home",
           "num%",
           "We",
           "rent",
           "people",
           "saidNUM"
          ],
          [
           "Covid",
           "case",
           "health",
           "people",
           "NSW",
           "border",
           "Covid NUM",
           "test",
           "Victoria",
           "quarantine"
          ],
          [
           "Adani",
           "Carmichael",
           "Adani ’s",
           "company",
           "project",
           "coal",
           "royalty",
           "loan",
           "rail",
           "coalmine"
          ],
          [
           "forest",
           "hydro",
           "pump",
           "pump hydro",
           "glider",
           "log",
           "great glider",
           "Frecklington",
           "timber",
           "great"
          ],
          [
           "forest",
           "hydro",
           "pump",
           "pump hydro",
           "glider",
           "log",
           "great glider",
           "Frecklington",
           "timber",
           "great"
          ],
          [
           "Covid",
           "case",
           "health",
           "people",
           "NSW",
           "border",
           "Covid NUM",
           "test",
           "Victoria",
           "quarantine"
          ],
          [
           "reduce rate",
           "australian premier",
           "say resource",
           "underneath",
           "fund Queensland",
           "concernsnum",
           "say great",
           "exact",
           "department spokesperson",
           "Anything"
          ],
          [
           "police",
           "violence",
           "domestic",
           "woman",
           "officer",
           "domestic violence",
           "inquiry",
           "court",
           "law",
           "victim"
          ],
          [
           "reduce rate",
           "australian premier",
           "say resource",
           "underneath",
           "fund Queensland",
           "concernsnum",
           "say great",
           "exact",
           "department spokesperson",
           "Anything"
          ],
          [
           "reduce rate",
           "australian premier",
           "say resource",
           "underneath",
           "fund Queensland",
           "concernsnum",
           "say great",
           "exact",
           "department spokesperson",
           "Anything"
          ],
          [
           "reduce rate",
           "australian premier",
           "say resource",
           "underneath",
           "fund Queensland",
           "concernsnum",
           "say great",
           "exact",
           "department spokesperson",
           "Anything"
          ],
          [
           "Covid",
           "case",
           "health",
           "people",
           "NSW",
           "border",
           "Covid NUM",
           "test",
           "Victoria",
           "quarantine"
          ],
          [
           "Adani",
           "Carmichael",
           "Adani ’s",
           "company",
           "project",
           "coal",
           "royalty",
           "loan",
           "rail",
           "coalmine"
          ],
          [
           "Covid",
           "case",
           "health",
           "people",
           "NSW",
           "border",
           "Covid NUM",
           "test",
           "Victoria",
           "quarantine"
          ],
          [
           "coal",
           "energy",
           "power",
           "renewable",
           "climate",
           "Labor",
           "emission",
           "price",
           "project",
           "job"
          ],
          [
           "forest",
           "hydro",
           "pump",
           "pump hydro",
           "glider",
           "log",
           "great glider",
           "Frecklington",
           "timber",
           "great"
          ],
          [
           "police",
           "violence",
           "domestic",
           "woman",
           "officer",
           "domestic violence",
           "inquiry",
           "court",
           "law",
           "victim"
          ],
          [
           "reef",
           "Barrier",
           "Reef",
           "Great",
           "Great Barrier",
           "Barrier Reef",
           "climate",
           "coral",
           "world",
           "park"
          ],
          [
           "Adani",
           "Carmichael",
           "Adani ’s",
           "company",
           "project",
           "coal",
           "royalty",
           "loan",
           "rail",
           "coalmine"
          ],
          [
           "reduce rate",
           "australian premier",
           "say resource",
           "underneath",
           "fund Queensland",
           "concernsnum",
           "say great",
           "exact",
           "department spokesperson",
           "Anything"
          ],
          [
           "forest",
           "hydro",
           "pump",
           "pump hydro",
           "glider",
           "log",
           "great glider",
           "Frecklington",
           "timber",
           "great"
          ],
          [
           "Adani",
           "Carmichael",
           "Adani ’s",
           "company",
           "project",
           "coal",
           "royalty",
           "loan",
           "rail",
           "coalmine"
          ],
          [
           "Covid",
           "case",
           "health",
           "people",
           "NSW",
           "border",
           "Covid NUM",
           "test",
           "Victoria",
           "quarantine"
          ],
          [
           "US",
           "Trump",
           "read",
           "world",
           "sign",
           "Australia ’s",
           "World",
           "story",
           "inbox",
           "today"
          ],
          [
           "I",
           "people",
           " ",
           "like",
           "We",
           "just",
           "tell",
           "party",
           "time",
           "federal"
          ],
          [
           "police",
           "violence",
           "domestic",
           "woman",
           "officer",
           "domestic violence",
           "inquiry",
           "court",
           "law",
           "victim"
          ],
          [
           "forest",
           "hydro",
           "pump",
           "pump hydro",
           "glider",
           "log",
           "great glider",
           "Frecklington",
           "timber",
           "great"
          ],
          [
           "I",
           "people",
           " ",
           "like",
           "We",
           "just",
           "tell",
           "party",
           "time",
           "federal"
          ],
          [
           "police",
           "violence",
           "domestic",
           "woman",
           "officer",
           "domestic violence",
           "inquiry",
           "court",
           "law",
           "victim"
          ],
          [
           "police",
           "violence",
           "domestic",
           "woman",
           "officer",
           "domestic violence",
           "inquiry",
           "court",
           "law",
           "victim"
          ],
          [
           "Adani",
           "Carmichael",
           "Adani ’s",
           "company",
           "project",
           "coal",
           "royalty",
           "loan",
           "rail",
           "coalmine"
          ],
          [
           "Gabba",
           "stadium",
           "Schrinner",
           "cricket",
           "AFL",
           "rebuild",
           "Adrian Schrinner",
           "lord mayor",
           "lord",
           "mayor Adrian"
          ],
          [
           "Covid",
           "case",
           "health",
           "people",
           "NSW",
           "border",
           "Covid NUM",
           "test",
           "Victoria",
           "quarantine"
          ],
          [
           "forest",
           "hydro",
           "pump",
           "pump hydro",
           "glider",
           "log",
           "great glider",
           "Frecklington",
           "timber",
           "great"
          ],
          [
           "police",
           "violence",
           "domestic",
           "woman",
           "officer",
           "domestic violence",
           "inquiry",
           "court",
           "law",
           "victim"
          ],
          [
           "gas",
           "Origin",
           "river",
           "fracke",
           "Lake",
           "oil",
           "basin",
           "channel",
           "company",
           "exploration"
          ],
          [
           "housing",
           "NUMm",
           "cost",
           " ",
           "home",
           "num%",
           "We",
           "rent",
           "people",
           "saidNUM"
          ],
          [
           "housing",
           "NUMm",
           "cost",
           " ",
           "home",
           "num%",
           "We",
           "rent",
           "people",
           "saidNUM"
          ],
          [
           "coal",
           "energy",
           "power",
           "renewable",
           "climate",
           "Labor",
           "emission",
           "price",
           "project",
           "job"
          ],
          [
           "Covid",
           "case",
           "health",
           "people",
           "NSW",
           "border",
           "Covid NUM",
           "test",
           "Victoria",
           "quarantine"
          ],
          [
           "I",
           "people",
           " ",
           "like",
           "We",
           "just",
           "tell",
           "party",
           "time",
           "federal"
          ],
          [
           "coal",
           "energy",
           "power",
           "renewable",
           "climate",
           "Labor",
           "emission",
           "price",
           "project",
           "job"
          ],
          [
           "Adani",
           "Carmichael",
           "Adani ’s",
           "company",
           "project",
           "coal",
           "royalty",
           "loan",
           "rail",
           "coalmine"
          ],
          [
           "reef",
           "Barrier",
           "Reef",
           "Great",
           "Great Barrier",
           "Barrier Reef",
           "climate",
           "coral",
           "world",
           "park"
          ],
          [
           "police",
           "violence",
           "domestic",
           "woman",
           "officer",
           "domestic violence",
           "inquiry",
           "court",
           "law",
           "victim"
          ],
          [
           "gas",
           "Origin",
           "river",
           "fracke",
           "Lake",
           "oil",
           "basin",
           "channel",
           "company",
           "exploration"
          ],
          [
           "Covid",
           "case",
           "health",
           "people",
           "NSW",
           "border",
           "Covid NUM",
           "test",
           "Victoria",
           "quarantine"
          ],
          [
           "Gabba",
           "stadium",
           "Schrinner",
           "cricket",
           "AFL",
           "rebuild",
           "Adrian Schrinner",
           "lord mayor",
           "lord",
           "mayor Adrian"
          ],
          [
           "Adani",
           "Carmichael",
           "Adani ’s",
           "company",
           "project",
           "coal",
           "royalty",
           "loan",
           "rail",
           "coalmine"
          ],
          [
           "forest",
           "hydro",
           "pump",
           "pump hydro",
           "glider",
           "log",
           "great glider",
           "Frecklington",
           "timber",
           "great"
          ],
          [
           "Adani",
           "Carmichael",
           "Adani ’s",
           "company",
           "project",
           "coal",
           "royalty",
           "loan",
           "rail",
           "coalmine"
          ],
          [
           "Covid",
           "case",
           "health",
           "people",
           "NSW",
           "border",
           "Covid NUM",
           "test",
           "Victoria",
           "quarantine"
          ],
          [
           "police",
           "violence",
           "domestic",
           "woman",
           "officer",
           "domestic violence",
           "inquiry",
           "court",
           "law",
           "victim"
          ],
          [
           "Adani",
           "Carmichael",
           "Adani ’s",
           "company",
           "project",
           "coal",
           "royalty",
           "loan",
           "rail",
           "coalmine"
          ],
          [
           "housing",
           "NUMm",
           "cost",
           " ",
           "home",
           "num%",
           "We",
           "rent",
           "people",
           "saidNUM"
          ],
          [
           "reef",
           "Barrier",
           "Reef",
           "Great",
           "Great Barrier",
           "Barrier Reef",
           "climate",
           "coral",
           "world",
           "park"
          ],
          [
           "police",
           "violence",
           "domestic",
           "woman",
           "officer",
           "domestic violence",
           "inquiry",
           "court",
           "law",
           "victim"
          ],
          [
           "Covid",
           "case",
           "health",
           "people",
           "NSW",
           "border",
           "Covid NUM",
           "test",
           "Victoria",
           "quarantine"
          ],
          [
           "Covid",
           "case",
           "health",
           "people",
           "NSW",
           "border",
           "Covid NUM",
           "test",
           "Victoria",
           "quarantine"
          ],
          [
           "housing",
           "NUMm",
           "cost",
           " ",
           "home",
           "num%",
           "We",
           "rent",
           "people",
           "saidNUM"
          ],
          [
           "Adani",
           "Carmichael",
           "Adani ’s",
           "company",
           "project",
           "coal",
           "royalty",
           "loan",
           "rail",
           "coalmine"
          ],
          [
           "Covid",
           "case",
           "health",
           "people",
           "NSW",
           "border",
           "Covid NUM",
           "test",
           "Victoria",
           "quarantine"
          ],
          [
           "I",
           "people",
           " ",
           "like",
           "We",
           "just",
           "tell",
           "party",
           "time",
           "federal"
          ],
          [
           "Adani",
           "Carmichael",
           "Adani ’s",
           "company",
           "project",
           "coal",
           "royalty",
           "loan",
           "rail",
           "coalmine"
          ],
          [
           "police",
           "violence",
           "domestic",
           "woman",
           "officer",
           "domestic violence",
           "inquiry",
           "court",
           "law",
           "victim"
          ],
          [
           "police",
           "violence",
           "domestic",
           "woman",
           "officer",
           "domestic violence",
           "inquiry",
           "court",
           "law",
           "victim"
          ],
          [
           "Gabba",
           "stadium",
           "Schrinner",
           "cricket",
           "AFL",
           "rebuild",
           "Adrian Schrinner",
           "lord mayor",
           "lord",
           "mayor Adrian"
          ],
          [
           "reduce rate",
           "australian premier",
           "say resource",
           "underneath",
           "fund Queensland",
           "concernsnum",
           "say great",
           "exact",
           "department spokesperson",
           "Anything"
          ],
          [
           "housing",
           "NUMm",
           "cost",
           " ",
           "home",
           "num%",
           "We",
           "rent",
           "people",
           "saidNUM"
          ],
          [
           "reduce rate",
           "australian premier",
           "say resource",
           "underneath",
           "fund Queensland",
           "concernsnum",
           "say great",
           "exact",
           "department spokesperson",
           "Anything"
          ],
          [
           "forest",
           "hydro",
           "pump",
           "pump hydro",
           "glider",
           "log",
           "great glider",
           "Frecklington",
           "timber",
           "great"
          ],
          [
           "police",
           "violence",
           "domestic",
           "woman",
           "officer",
           "domestic violence",
           "inquiry",
           "court",
           "law",
           "victim"
          ],
          [
           "forest",
           "hydro",
           "pump",
           "pump hydro",
           "glider",
           "log",
           "great glider",
           "Frecklington",
           "timber",
           "great"
          ],
          [
           "US",
           "Trump",
           "read",
           "world",
           "sign",
           "Australia ’s",
           "World",
           "story",
           "inbox",
           "today"
          ],
          [
           "police",
           "violence",
           "domestic",
           "woman",
           "officer",
           "domestic violence",
           "inquiry",
           "court",
           "law",
           "victim"
          ],
          [
           "Covid",
           "case",
           "health",
           "people",
           "NSW",
           "border",
           "Covid NUM",
           "test",
           "Victoria",
           "quarantine"
          ],
          [
           "forest",
           "hydro",
           "pump",
           "pump hydro",
           "glider",
           "log",
           "great glider",
           "Frecklington",
           "timber",
           "great"
          ],
          [
           "Covid",
           "case",
           "health",
           "people",
           "NSW",
           "border",
           "Covid NUM",
           "test",
           "Victoria",
           "quarantine"
          ],
          [
           "gas",
           "Origin",
           "river",
           "fracke",
           "Lake",
           "oil",
           "basin",
           "channel",
           "company",
           "exploration"
          ],
          [
           "police",
           "violence",
           "domestic",
           "woman",
           "officer",
           "domestic violence",
           "inquiry",
           "court",
           "law",
           "victim"
          ],
          [
           "reduce rate",
           "australian premier",
           "say resource",
           "underneath",
           "fund Queensland",
           "concernsnum",
           "say great",
           "exact",
           "department spokesperson",
           "Anything"
          ],
          [
           "forest",
           "hydro",
           "pump",
           "pump hydro",
           "glider",
           "log",
           "great glider",
           "Frecklington",
           "timber",
           "great"
          ],
          [
           "Covid",
           "case",
           "health",
           "people",
           "NSW",
           "border",
           "Covid NUM",
           "test",
           "Victoria",
           "quarantine"
          ],
          [
           "water",
           "environmental",
           "federal",
           "plan",
           "land",
           "project",
           "department",
           "environment",
           "clearing",
           "report"
          ],
          [
           "housing",
           "NUMm",
           "cost",
           " ",
           "home",
           "num%",
           "We",
           "rent",
           "people",
           "saidNUM"
          ],
          [
           "forest",
           "hydro",
           "pump",
           "pump hydro",
           "glider",
           "log",
           "great glider",
           "Frecklington",
           "timber",
           "great"
          ],
          [
           "reduce rate",
           "australian premier",
           "say resource",
           "underneath",
           "fund Queensland",
           "concernsnum",
           "say great",
           "exact",
           "department spokesperson",
           "Anything"
          ],
          [
           "Covid",
           "case",
           "health",
           "people",
           "NSW",
           "border",
           "Covid NUM",
           "test",
           "Victoria",
           "quarantine"
          ],
          [
           "forest",
           "hydro",
           "pump",
           "pump hydro",
           "glider",
           "log",
           "great glider",
           "Frecklington",
           "timber",
           "great"
          ],
          [
           "reef",
           "Barrier",
           "Reef",
           "Great",
           "Great Barrier",
           "Barrier Reef",
           "climate",
           "coral",
           "world",
           "park"
          ],
          [
           "forest",
           "hydro",
           "pump",
           "pump hydro",
           "glider",
           "log",
           "great glider",
           "Frecklington",
           "timber",
           "great"
          ],
          [
           "forest",
           "hydro",
           "pump",
           "pump hydro",
           "glider",
           "log",
           "great glider",
           "Frecklington",
           "timber",
           "great"
          ],
          [
           "reef",
           "Barrier",
           "Reef",
           "Great",
           "Great Barrier",
           "Barrier Reef",
           "climate",
           "coral",
           "world",
           "park"
          ],
          [
           "forest",
           "hydro",
           "pump",
           "pump hydro",
           "glider",
           "log",
           "great glider",
           "Frecklington",
           "timber",
           "great"
          ],
          [
           "reef",
           "Barrier",
           "Reef",
           "Great",
           "Great Barrier",
           "Barrier Reef",
           "climate",
           "coral",
           "world",
           "park"
          ],
          [
           "Gabba",
           "stadium",
           "Schrinner",
           "cricket",
           "AFL",
           "rebuild",
           "Adrian Schrinner",
           "lord mayor",
           "lord",
           "mayor Adrian"
          ],
          [
           "Adani",
           "Carmichael",
           "Adani ’s",
           "company",
           "project",
           "coal",
           "royalty",
           "loan",
           "rail",
           "coalmine"
          ],
          [
           "Adani",
           "Carmichael",
           "Adani ’s",
           "company",
           "project",
           "coal",
           "royalty",
           "loan",
           "rail",
           "coalmine"
          ],
          [
           "forest",
           "hydro",
           "pump",
           "pump hydro",
           "glider",
           "log",
           "great glider",
           "Frecklington",
           "timber",
           "great"
          ],
          [
           "reef",
           "Barrier",
           "Reef",
           "Great",
           "Great Barrier",
           "Barrier Reef",
           "climate",
           "coral",
           "world",
           "park"
          ],
          [
           "police",
           "violence",
           "domestic",
           "woman",
           "officer",
           "domestic violence",
           "inquiry",
           "court",
           "law",
           "victim"
          ],
          [
           "reef",
           "Barrier",
           "Reef",
           "Great",
           "Great Barrier",
           "Barrier Reef",
           "climate",
           "coral",
           "world",
           "park"
          ],
          [
           "police",
           "violence",
           "domestic",
           "woman",
           "officer",
           "domestic violence",
           "inquiry",
           "court",
           "law",
           "victim"
          ],
          [
           "housing",
           "NUMm",
           "cost",
           " ",
           "home",
           "num%",
           "We",
           "rent",
           "people",
           "saidNUM"
          ],
          [
           "reef",
           "Barrier",
           "Reef",
           "Great",
           "Great Barrier",
           "Barrier Reef",
           "climate",
           "coral",
           "world",
           "park"
          ],
          [
           "Covid",
           "case",
           "health",
           "people",
           "NSW",
           "border",
           "Covid NUM",
           "test",
           "Victoria",
           "quarantine"
          ],
          [
           "I",
           "people",
           " ",
           "like",
           "We",
           "just",
           "tell",
           "party",
           "time",
           "federal"
          ],
          [
           "I",
           "people",
           " ",
           "like",
           "We",
           "just",
           "tell",
           "party",
           "time",
           "federal"
          ],
          [
           "US",
           "Trump",
           "read",
           "world",
           "sign",
           "Australia ’s",
           "World",
           "story",
           "inbox",
           "today"
          ],
          [
           "child",
           "people",
           "youth",
           "young",
           "police",
           "watch",
           "house",
           "detention",
           "justice",
           "community"
          ],
          [
           "Adani",
           "Carmichael",
           "Adani ’s",
           "company",
           "project",
           "coal",
           "royalty",
           "loan",
           "rail",
           "coalmine"
          ],
          [
           "I",
           "people",
           " ",
           "like",
           "We",
           "just",
           "tell",
           "party",
           "time",
           "federal"
          ],
          [
           "police",
           "violence",
           "domestic",
           "woman",
           "officer",
           "domestic violence",
           "inquiry",
           "court",
           "law",
           "victim"
          ],
          [
           "police",
           "violence",
           "domestic",
           "woman",
           "officer",
           "domestic violence",
           "inquiry",
           "court",
           "law",
           "victim"
          ],
          [
           "I",
           "people",
           " ",
           "like",
           "We",
           "just",
           "tell",
           "party",
           "time",
           "federal"
          ],
          [
           "police",
           "violence",
           "domestic",
           "woman",
           "officer",
           "domestic violence",
           "inquiry",
           "court",
           "law",
           "victim"
          ],
          [
           "housing",
           "NUMm",
           "cost",
           " ",
           "home",
           "num%",
           "We",
           "rent",
           "people",
           "saidNUM"
          ],
          [
           "police",
           "violence",
           "domestic",
           "woman",
           "officer",
           "domestic violence",
           "inquiry",
           "court",
           "law",
           "victim"
          ],
          [
           "Adani",
           "Carmichael",
           "Adani ’s",
           "company",
           "project",
           "coal",
           "royalty",
           "loan",
           "rail",
           "coalmine"
          ],
          [
           "housing",
           "NUMm",
           "cost",
           " ",
           "home",
           "num%",
           "We",
           "rent",
           "people",
           "saidNUM"
          ],
          [
           "forest",
           "hydro",
           "pump",
           "pump hydro",
           "glider",
           "log",
           "great glider",
           "Frecklington",
           "timber",
           "great"
          ],
          [
           "Gabba",
           "stadium",
           "Schrinner",
           "cricket",
           "AFL",
           "rebuild",
           "Adrian Schrinner",
           "lord mayor",
           "lord",
           "mayor Adrian"
          ],
          [
           "US",
           "Trump",
           "read",
           "world",
           "sign",
           "Australia ’s",
           "World",
           "story",
           "inbox",
           "today"
          ],
          [
           "reduce rate",
           "australian premier",
           "say resource",
           "underneath",
           "fund Queensland",
           "concernsnum",
           "say great",
           "exact",
           "department spokesperson",
           "Anything"
          ],
          [
           "I",
           "people",
           " ",
           "like",
           "We",
           "just",
           "tell",
           "party",
           "time",
           "federal"
          ],
          [
           "forest",
           "hydro",
           "pump",
           "pump hydro",
           "glider",
           "log",
           "great glider",
           "Frecklington",
           "timber",
           "great"
          ],
          [
           "forest",
           "hydro",
           "pump",
           "pump hydro",
           "glider",
           "log",
           "great glider",
           "Frecklington",
           "timber",
           "great"
          ],
          [
           "Adani",
           "Carmichael",
           "Adani ’s",
           "company",
           "project",
           "coal",
           "royalty",
           "loan",
           "rail",
           "coalmine"
          ],
          [
           "forest",
           "hydro",
           "pump",
           "pump hydro",
           "glider",
           "log",
           "great glider",
           "Frecklington",
           "timber",
           "great"
          ],
          [
           "housing",
           "NUMm",
           "cost",
           " ",
           "home",
           "num%",
           "We",
           "rent",
           "people",
           "saidNUM"
          ],
          [
           "I",
           "people",
           " ",
           "like",
           "We",
           "just",
           "tell",
           "party",
           "time",
           "federal"
          ],
          [
           "reef",
           "Barrier",
           "Reef",
           "Great",
           "Great Barrier",
           "Barrier Reef",
           "climate",
           "coral",
           "world",
           "park"
          ],
          [
           "I",
           "people",
           " ",
           "like",
           "We",
           "just",
           "tell",
           "party",
           "time",
           "federal"
          ],
          [
           "gas",
           "Origin",
           "river",
           "fracke",
           "Lake",
           "oil",
           "basin",
           "channel",
           "company",
           "exploration"
          ],
          [
           "Adani",
           "Carmichael",
           "Adani ’s",
           "company",
           "project",
           "coal",
           "royalty",
           "loan",
           "rail",
           "coalmine"
          ],
          [
           "gas",
           "Origin",
           "river",
           "fracke",
           "Lake",
           "oil",
           "basin",
           "channel",
           "company",
           "exploration"
          ],
          [
           "reduce rate",
           "australian premier",
           "say resource",
           "underneath",
           "fund Queensland",
           "concernsnum",
           "say great",
           "exact",
           "department spokesperson",
           "Anything"
          ],
          [
           "Adani",
           "Carmichael",
           "Adani ’s",
           "company",
           "project",
           "coal",
           "royalty",
           "loan",
           "rail",
           "coalmine"
          ],
          [
           "reduce rate",
           "australian premier",
           "say resource",
           "underneath",
           "fund Queensland",
           "concernsnum",
           "say great",
           "exact",
           "department spokesperson",
           "Anything"
          ],
          [
           "Adani",
           "Carmichael",
           "Adani ’s",
           "company",
           "project",
           "coal",
           "royalty",
           "loan",
           "rail",
           "coalmine"
          ],
          [
           "forest",
           "hydro",
           "pump",
           "pump hydro",
           "glider",
           "log",
           "great glider",
           "Frecklington",
           "timber",
           "great"
          ],
          [
           "Adani",
           "Carmichael",
           "Adani ’s",
           "company",
           "project",
           "coal",
           "royalty",
           "loan",
           "rail",
           "coalmine"
          ],
          [
           "housing",
           "NUMm",
           "cost",
           " ",
           "home",
           "num%",
           "We",
           "rent",
           "people",
           "saidNUM"
          ],
          [
           "I",
           "people",
           " ",
           "like",
           "We",
           "just",
           "tell",
           "party",
           "time",
           "federal"
          ],
          [
           "reef",
           "Barrier",
           "Reef",
           "Great",
           "Great Barrier",
           "Barrier Reef",
           "climate",
           "coral",
           "world",
           "park"
          ],
          [
           "forest",
           "hydro",
           "pump",
           "pump hydro",
           "glider",
           "log",
           "great glider",
           "Frecklington",
           "timber",
           "great"
          ],
          [
           "I",
           "people",
           " ",
           "like",
           "We",
           "just",
           "tell",
           "party",
           "time",
           "federal"
          ],
          [
           "I",
           "people",
           " ",
           "like",
           "We",
           "just",
           "tell",
           "party",
           "time",
           "federal"
          ],
          [
           "Adani",
           "Carmichael",
           "Adani ’s",
           "company",
           "project",
           "coal",
           "royalty",
           "loan",
           "rail",
           "coalmine"
          ],
          [
           "Covid",
           "case",
           "health",
           "people",
           "NSW",
           "border",
           "Covid NUM",
           "test",
           "Victoria",
           "quarantine"
          ],
          [
           "Adani",
           "Carmichael",
           "Adani ’s",
           "company",
           "project",
           "coal",
           "royalty",
           "loan",
           "rail",
           "coalmine"
          ],
          [
           "reduce rate",
           "australian premier",
           "say resource",
           "underneath",
           "fund Queensland",
           "concernsnum",
           "say great",
           "exact",
           "department spokesperson",
           "Anything"
          ],
          [
           "housing",
           "NUMm",
           "cost",
           " ",
           "home",
           "num%",
           "We",
           "rent",
           "people",
           "saidNUM"
          ],
          [
           "reef",
           "Barrier",
           "Reef",
           "Great",
           "Great Barrier",
           "Barrier Reef",
           "climate",
           "coral",
           "world",
           "park"
          ],
          [
           "reef",
           "Barrier",
           "Reef",
           "Great",
           "Great Barrier",
           "Barrier Reef",
           "climate",
           "coral",
           "world",
           "park"
          ],
          [
           "forest",
           "hydro",
           "pump",
           "pump hydro",
           "glider",
           "log",
           "great glider",
           "Frecklington",
           "timber",
           "great"
          ],
          [
           "reduce rate",
           "australian premier",
           "say resource",
           "underneath",
           "fund Queensland",
           "concernsnum",
           "say great",
           "exact",
           "department spokesperson",
           "Anything"
          ],
          [
           "gas",
           "Origin",
           "river",
           "fracke",
           "Lake",
           "oil",
           "basin",
           "channel",
           "company",
           "exploration"
          ],
          [
           "police",
           "violence",
           "domestic",
           "woman",
           "officer",
           "domestic violence",
           "inquiry",
           "court",
           "law",
           "victim"
          ],
          [
           "police",
           "violence",
           "domestic",
           "woman",
           "officer",
           "domestic violence",
           "inquiry",
           "court",
           "law",
           "victim"
          ],
          [
           "housing",
           "NUMm",
           "cost",
           " ",
           "home",
           "num%",
           "We",
           "rent",
           "people",
           "saidNUM"
          ],
          [
           "reef",
           "Barrier",
           "Reef",
           "Great",
           "Great Barrier",
           "Barrier Reef",
           "climate",
           "coral",
           "world",
           "park"
          ],
          [
           "Adani",
           "Carmichael",
           "Adani ’s",
           "company",
           "project",
           "coal",
           "royalty",
           "loan",
           "rail",
           "coalmine"
          ],
          [
           "reduce rate",
           "australian premier",
           "say resource",
           "underneath",
           "fund Queensland",
           "concernsnum",
           "say great",
           "exact",
           "department spokesperson",
           "Anything"
          ],
          [
           "police",
           "violence",
           "domestic",
           "woman",
           "officer",
           "domestic violence",
           "inquiry",
           "court",
           "law",
           "victim"
          ],
          [
           "coal",
           "energy",
           "power",
           "renewable",
           "climate",
           "Labor",
           "emission",
           "price",
           "project",
           "job"
          ],
          [
           "police",
           "violence",
           "domestic",
           "woman",
           "officer",
           "domestic violence",
           "inquiry",
           "court",
           "law",
           "victim"
          ],
          [
           "I",
           "people",
           " ",
           "like",
           "We",
           "just",
           "tell",
           "party",
           "time",
           "federal"
          ],
          [
           "housing",
           "NUMm",
           "cost",
           " ",
           "home",
           "num%",
           "We",
           "rent",
           "people",
           "saidNUM"
          ],
          [
           "Adani",
           "Carmichael",
           "Adani ’s",
           "company",
           "project",
           "coal",
           "royalty",
           "loan",
           "rail",
           "coalmine"
          ],
          [
           "forest",
           "hydro",
           "pump",
           "pump hydro",
           "glider",
           "log",
           "great glider",
           "Frecklington",
           "timber",
           "great"
          ],
          [
           "housing",
           "NUMm",
           "cost",
           " ",
           "home",
           "num%",
           "We",
           "rent",
           "people",
           "saidNUM"
          ],
          [
           "forest",
           "hydro",
           "pump",
           "pump hydro",
           "glider",
           "log",
           "great glider",
           "Frecklington",
           "timber",
           "great"
          ],
          [
           "Adani",
           "Carmichael",
           "Adani ’s",
           "company",
           "project",
           "coal",
           "royalty",
           "loan",
           "rail",
           "coalmine"
          ],
          [
           "Adani",
           "Carmichael",
           "Adani ’s",
           "company",
           "project",
           "coal",
           "royalty",
           "loan",
           "rail",
           "coalmine"
          ],
          [
           "reef",
           "Barrier",
           "Reef",
           "Great",
           "Great Barrier",
           "Barrier Reef",
           "climate",
           "coral",
           "world",
           "park"
          ],
          [
           "I",
           "people",
           " ",
           "like",
           "We",
           "just",
           "tell",
           "party",
           "time",
           "federal"
          ],
          [
           "I",
           "people",
           " ",
           "like",
           "We",
           "just",
           "tell",
           "party",
           "time",
           "federal"
          ],
          [
           "Adani",
           "Carmichael",
           "Adani ’s",
           "company",
           "project",
           "coal",
           "royalty",
           "loan",
           "rail",
           "coalmine"
          ],
          [
           "reduce rate",
           "australian premier",
           "say resource",
           "underneath",
           "fund Queensland",
           "concernsnum",
           "say great",
           "exact",
           "department spokesperson",
           "Anything"
          ],
          [
           "police",
           "violence",
           "domestic",
           "woman",
           "officer",
           "domestic violence",
           "inquiry",
           "court",
           "law",
           "victim"
          ],
          [
           "housing",
           "NUMm",
           "cost",
           " ",
           "home",
           "num%",
           "We",
           "rent",
           "people",
           "saidNUM"
          ],
          [
           "Adani",
           "Carmichael",
           "Adani ’s",
           "company",
           "project",
           "coal",
           "royalty",
           "loan",
           "rail",
           "coalmine"
          ],
          [
           "police",
           "violence",
           "domestic",
           "woman",
           "officer",
           "domestic violence",
           "inquiry",
           "court",
           "law",
           "victim"
          ],
          [
           "Adani",
           "Carmichael",
           "Adani ’s",
           "company",
           "project",
           "coal",
           "royalty",
           "loan",
           "rail",
           "coalmine"
          ],
          [
           "I",
           "people",
           " ",
           "like",
           "We",
           "just",
           "tell",
           "party",
           "time",
           "federal"
          ],
          [
           "police",
           "violence",
           "domestic",
           "woman",
           "officer",
           "domestic violence",
           "inquiry",
           "court",
           "law",
           "victim"
          ],
          [
           "reduce rate",
           "australian premier",
           "say resource",
           "underneath",
           "fund Queensland",
           "concernsnum",
           "say great",
           "exact",
           "department spokesperson",
           "Anything"
          ],
          [
           "US",
           "Trump",
           "read",
           "world",
           "sign",
           "Australia ’s",
           "World",
           "story",
           "inbox",
           "today"
          ],
          [
           "forest",
           "hydro",
           "pump",
           "pump hydro",
           "glider",
           "log",
           "great glider",
           "Frecklington",
           "timber",
           "great"
          ],
          [
           "reef",
           "Barrier",
           "Reef",
           "Great",
           "Great Barrier",
           "Barrier Reef",
           "climate",
           "coral",
           "world",
           "park"
          ],
          [
           "reef",
           "Barrier",
           "Reef",
           "Great",
           "Great Barrier",
           "Barrier Reef",
           "climate",
           "coral",
           "world",
           "park"
          ],
          [
           "housing",
           "NUMm",
           "cost",
           " ",
           "home",
           "num%",
           "We",
           "rent",
           "people",
           "saidNUM"
          ],
          [
           "police",
           "violence",
           "domestic",
           "woman",
           "officer",
           "domestic violence",
           "inquiry",
           "court",
           "law",
           "victim"
          ],
          [
           "Adani",
           "Carmichael",
           "Adani ’s",
           "company",
           "project",
           "coal",
           "royalty",
           "loan",
           "rail",
           "coalmine"
          ],
          [
           "police",
           "violence",
           "domestic",
           "woman",
           "officer",
           "domestic violence",
           "inquiry",
           "court",
           "law",
           "victim"
          ],
          [
           "housing",
           "NUMm",
           "cost",
           " ",
           "home",
           "num%",
           "We",
           "rent",
           "people",
           "saidNUM"
          ],
          [
           "reduce rate",
           "australian premier",
           "say resource",
           "underneath",
           "fund Queensland",
           "concernsnum",
           "say great",
           "exact",
           "department spokesperson",
           "Anything"
          ],
          [
           "Adani",
           "Carmichael",
           "Adani ’s",
           "company",
           "project",
           "coal",
           "royalty",
           "loan",
           "rail",
           "coalmine"
          ],
          [
           "gas",
           "Origin",
           "river",
           "fracke",
           "Lake",
           "oil",
           "basin",
           "channel",
           "company",
           "exploration"
          ],
          [
           "forest",
           "hydro",
           "pump",
           "pump hydro",
           "glider",
           "log",
           "great glider",
           "Frecklington",
           "timber",
           "great"
          ],
          [
           "forest",
           "hydro",
           "pump",
           "pump hydro",
           "glider",
           "log",
           "great glider",
           "Frecklington",
           "timber",
           "great"
          ],
          [
           "gas",
           "Origin",
           "river",
           "fracke",
           "Lake",
           "oil",
           "basin",
           "channel",
           "company",
           "exploration"
          ],
          [
           "coal",
           "energy",
           "power",
           "renewable",
           "climate",
           "Labor",
           "emission",
           "price",
           "project",
           "job"
          ],
          [
           "I",
           "people",
           " ",
           "like",
           "We",
           "just",
           "tell",
           "party",
           "time",
           "federal"
          ],
          [
           "reduce rate",
           "australian premier",
           "say resource",
           "underneath",
           "fund Queensland",
           "concernsnum",
           "say great",
           "exact",
           "department spokesperson",
           "Anything"
          ],
          [
           "police",
           "violence",
           "domestic",
           "woman",
           "officer",
           "domestic violence",
           "inquiry",
           "court",
           "law",
           "victim"
          ],
          [
           "reduce rate",
           "australian premier",
           "say resource",
           "underneath",
           "fund Queensland",
           "concernsnum",
           "say great",
           "exact",
           "department spokesperson",
           "Anything"
          ],
          [
           "Adani",
           "Carmichael",
           "Adani ’s",
           "company",
           "project",
           "coal",
           "royalty",
           "loan",
           "rail",
           "coalmine"
          ],
          [
           "gas",
           "Origin",
           "river",
           "fracke",
           "Lake",
           "oil",
           "basin",
           "channel",
           "company",
           "exploration"
          ],
          [
           "police",
           "violence",
           "domestic",
           "woman",
           "officer",
           "domestic violence",
           "inquiry",
           "court",
           "law",
           "victim"
          ],
          [
           "Adani",
           "Carmichael",
           "Adani ’s",
           "company",
           "project",
           "coal",
           "royalty",
           "loan",
           "rail",
           "coalmine"
          ],
          [
           "Adani",
           "Carmichael",
           "Adani ’s",
           "company",
           "project",
           "coal",
           "royalty",
           "loan",
           "rail",
           "coalmine"
          ],
          [
           "Adani",
           "Carmichael",
           "Adani ’s",
           "company",
           "project",
           "coal",
           "royalty",
           "loan",
           "rail",
           "coalmine"
          ],
          [
           "forest",
           "hydro",
           "pump",
           "pump hydro",
           "glider",
           "log",
           "great glider",
           "Frecklington",
           "timber",
           "great"
          ],
          [
           "police",
           "violence",
           "domestic",
           "woman",
           "officer",
           "domestic violence",
           "inquiry",
           "court",
           "law",
           "victim"
          ],
          [
           "Adani",
           "Carmichael",
           "Adani ’s",
           "company",
           "project",
           "coal",
           "royalty",
           "loan",
           "rail",
           "coalmine"
          ],
          [
           "Adani",
           "Carmichael",
           "Adani ’s",
           "company",
           "project",
           "coal",
           "royalty",
           "loan",
           "rail",
           "coalmine"
          ],
          [
           "reef",
           "Barrier",
           "Reef",
           "Great",
           "Great Barrier",
           "Barrier Reef",
           "climate",
           "coral",
           "world",
           "park"
          ],
          [
           "Adani",
           "Carmichael",
           "Adani ’s",
           "company",
           "project",
           "coal",
           "royalty",
           "loan",
           "rail",
           "coalmine"
          ],
          [
           "reduce rate",
           "australian premier",
           "say resource",
           "underneath",
           "fund Queensland",
           "concernsnum",
           "say great",
           "exact",
           "department spokesperson",
           "Anything"
          ],
          [
           "reef",
           "Barrier",
           "Reef",
           "Great",
           "Great Barrier",
           "Barrier Reef",
           "climate",
           "coral",
           "world",
           "park"
          ],
          [
           "coal",
           "energy",
           "power",
           "renewable",
           "climate",
           "Labor",
           "emission",
           "price",
           "project",
           "job"
          ],
          [
           "police",
           "violence",
           "domestic",
           "woman",
           "officer",
           "domestic violence",
           "inquiry",
           "court",
           "law",
           "victim"
          ],
          [
           "Adani",
           "Carmichael",
           "Adani ’s",
           "company",
           "project",
           "coal",
           "royalty",
           "loan",
           "rail",
           "coalmine"
          ],
          [
           "reef",
           "Barrier",
           "Reef",
           "Great",
           "Great Barrier",
           "Barrier Reef",
           "climate",
           "coral",
           "world",
           "park"
          ],
          [
           "Gabba",
           "stadium",
           "Schrinner",
           "cricket",
           "AFL",
           "rebuild",
           "Adrian Schrinner",
           "lord mayor",
           "lord",
           "mayor Adrian"
          ],
          [
           "US",
           "Trump",
           "read",
           "world",
           "sign",
           "Australia ’s",
           "World",
           "story",
           "inbox",
           "today"
          ],
          [
           "US",
           "Trump",
           "read",
           "world",
           "sign",
           "Australia ’s",
           "World",
           "story",
           "inbox",
           "today"
          ],
          [
           "Adani",
           "Carmichael",
           "Adani ’s",
           "company",
           "project",
           "coal",
           "royalty",
           "loan",
           "rail",
           "coalmine"
          ],
          [
           "gas",
           "Origin",
           "river",
           "fracke",
           "Lake",
           "oil",
           "basin",
           "channel",
           "company",
           "exploration"
          ],
          [
           "Covid",
           "case",
           "health",
           "people",
           "NSW",
           "border",
           "Covid NUM",
           "test",
           "Victoria",
           "quarantine"
          ],
          [
           "reduce rate",
           "australian premier",
           "say resource",
           "underneath",
           "fund Queensland",
           "concernsnum",
           "say great",
           "exact",
           "department spokesperson",
           "Anything"
          ],
          [
           "forest",
           "hydro",
           "pump",
           "pump hydro",
           "glider",
           "log",
           "great glider",
           "Frecklington",
           "timber",
           "great"
          ],
          [
           "reduce rate",
           "australian premier",
           "say resource",
           "underneath",
           "fund Queensland",
           "concernsnum",
           "say great",
           "exact",
           "department spokesperson",
           "Anything"
          ],
          [
           "child",
           "people",
           "youth",
           "young",
           "police",
           "watch",
           "house",
           "detention",
           "justice",
           "community"
          ],
          [
           "Adani",
           "Carmichael",
           "Adani ’s",
           "company",
           "project",
           "coal",
           "royalty",
           "loan",
           "rail",
           "coalmine"
          ],
          [
           "Adani",
           "Carmichael",
           "Adani ’s",
           "company",
           "project",
           "coal",
           "royalty",
           "loan",
           "rail",
           "coalmine"
          ],
          [
           "US",
           "Trump",
           "read",
           "world",
           "sign",
           "Australia ’s",
           "World",
           "story",
           "inbox",
           "today"
          ],
          [
           "Gabba",
           "stadium",
           "Schrinner",
           "cricket",
           "AFL",
           "rebuild",
           "Adrian Schrinner",
           "lord mayor",
           "lord",
           "mayor Adrian"
          ],
          [
           "coal",
           "energy",
           "power",
           "renewable",
           "climate",
           "Labor",
           "emission",
           "price",
           "project",
           "job"
          ],
          [
           "forest",
           "hydro",
           "pump",
           "pump hydro",
           "glider",
           "log",
           "great glider",
           "Frecklington",
           "timber",
           "great"
          ],
          [
           "Covid",
           "case",
           "health",
           "people",
           "NSW",
           "border",
           "Covid NUM",
           "test",
           "Victoria",
           "quarantine"
          ],
          [
           "housing",
           "NUMm",
           "cost",
           " ",
           "home",
           "num%",
           "We",
           "rent",
           "people",
           "saidNUM"
          ],
          [
           "I",
           "people",
           " ",
           "like",
           "We",
           "just",
           "tell",
           "party",
           "time",
           "federal"
          ],
          [
           "gas",
           "Origin",
           "river",
           "fracke",
           "Lake",
           "oil",
           "basin",
           "channel",
           "company",
           "exploration"
          ],
          [
           "reef",
           "Barrier",
           "Reef",
           "Great",
           "Great Barrier",
           "Barrier Reef",
           "climate",
           "coral",
           "world",
           "park"
          ],
          [
           "reduce rate",
           "australian premier",
           "say resource",
           "underneath",
           "fund Queensland",
           "concernsnum",
           "say great",
           "exact",
           "department spokesperson",
           "Anything"
          ],
          [
           "housing",
           "NUMm",
           "cost",
           " ",
           "home",
           "num%",
           "We",
           "rent",
           "people",
           "saidNUM"
          ],
          [
           "reef",
           "Barrier",
           "Reef",
           "Great",
           "Great Barrier",
           "Barrier Reef",
           "climate",
           "coral",
           "world",
           "park"
          ],
          [
           "forest",
           "hydro",
           "pump",
           "pump hydro",
           "glider",
           "log",
           "great glider",
           "Frecklington",
           "timber",
           "great"
          ],
          [
           "US",
           "Trump",
           "read",
           "world",
           "sign",
           "Australia ’s",
           "World",
           "story",
           "inbox",
           "today"
          ],
          [
           "I",
           "people",
           " ",
           "like",
           "We",
           "just",
           "tell",
           "party",
           "time",
           "federal"
          ],
          [
           "forest",
           "hydro",
           "pump",
           "pump hydro",
           "glider",
           "log",
           "great glider",
           "Frecklington",
           "timber",
           "great"
          ],
          [
           "I",
           "people",
           " ",
           "like",
           "We",
           "just",
           "tell",
           "party",
           "time",
           "federal"
          ],
          [
           "reef",
           "Barrier",
           "Reef",
           "Great",
           "Great Barrier",
           "Barrier Reef",
           "climate",
           "coral",
           "world",
           "park"
          ],
          [
           "I",
           "people",
           " ",
           "like",
           "We",
           "just",
           "tell",
           "party",
           "time",
           "federal"
          ],
          [
           "forest",
           "hydro",
           "pump",
           "pump hydro",
           "glider",
           "log",
           "great glider",
           "Frecklington",
           "timber",
           "great"
          ],
          [
           "Adani",
           "Carmichael",
           "Adani ’s",
           "company",
           "project",
           "coal",
           "royalty",
           "loan",
           "rail",
           "coalmine"
          ],
          [
           "housing",
           "NUMm",
           "cost",
           " ",
           "home",
           "num%",
           "We",
           "rent",
           "people",
           "saidNUM"
          ],
          [
           "US",
           "Trump",
           "read",
           "world",
           "sign",
           "Australia ’s",
           "World",
           "story",
           "inbox",
           "today"
          ],
          [
           "I",
           "people",
           " ",
           "like",
           "We",
           "just",
           "tell",
           "party",
           "time",
           "federal"
          ],
          [
           "Adani",
           "Carmichael",
           "Adani ’s",
           "company",
           "project",
           "coal",
           "royalty",
           "loan",
           "rail",
           "coalmine"
          ],
          [
           "gas",
           "Origin",
           "river",
           "fracke",
           "Lake",
           "oil",
           "basin",
           "channel",
           "company",
           "exploration"
          ],
          [
           "I",
           "people",
           " ",
           "like",
           "We",
           "just",
           "tell",
           "party",
           "time",
           "federal"
          ],
          [
           "Covid",
           "case",
           "health",
           "people",
           "NSW",
           "border",
           "Covid NUM",
           "test",
           "Victoria",
           "quarantine"
          ],
          [
           "reef",
           "Barrier",
           "Reef",
           "Great",
           "Great Barrier",
           "Barrier Reef",
           "climate",
           "coral",
           "world",
           "park"
          ],
          [
           "Covid",
           "case",
           "health",
           "people",
           "NSW",
           "border",
           "Covid NUM",
           "test",
           "Victoria",
           "quarantine"
          ],
          [
           "Gabba",
           "stadium",
           "Schrinner",
           "cricket",
           "AFL",
           "rebuild",
           "Adrian Schrinner",
           "lord mayor",
           "lord",
           "mayor Adrian"
          ],
          [
           "coal",
           "energy",
           "power",
           "renewable",
           "climate",
           "Labor",
           "emission",
           "price",
           "project",
           "job"
          ],
          [
           "Covid",
           "case",
           "health",
           "people",
           "NSW",
           "border",
           "Covid NUM",
           "test",
           "Victoria",
           "quarantine"
          ],
          [
           "reef",
           "Barrier",
           "Reef",
           "Great",
           "Great Barrier",
           "Barrier Reef",
           "climate",
           "coral",
           "world",
           "park"
          ],
          [
           "Adani",
           "Carmichael",
           "Adani ’s",
           "company",
           "project",
           "coal",
           "royalty",
           "loan",
           "rail",
           "coalmine"
          ],
          [
           "US",
           "Trump",
           "read",
           "world",
           "sign",
           "Australia ’s",
           "World",
           "story",
           "inbox",
           "today"
          ],
          [
           "gas",
           "Origin",
           "river",
           "fracke",
           "Lake",
           "oil",
           "basin",
           "channel",
           "company",
           "exploration"
          ],
          [
           "gas",
           "Origin",
           "river",
           "fracke",
           "Lake",
           "oil",
           "basin",
           "channel",
           "company",
           "exploration"
          ],
          [
           "reef",
           "Barrier",
           "Reef",
           "Great",
           "Great Barrier",
           "Barrier Reef",
           "climate",
           "coral",
           "world",
           "park"
          ],
          [
           "child",
           "people",
           "youth",
           "young",
           "police",
           "watch",
           "house",
           "detention",
           "justice",
           "community"
          ],
          [
           "forest",
           "hydro",
           "pump",
           "pump hydro",
           "glider",
           "log",
           "great glider",
           "Frecklington",
           "timber",
           "great"
          ],
          [
           "Adani",
           "Carmichael",
           "Adani ’s",
           "company",
           "project",
           "coal",
           "royalty",
           "loan",
           "rail",
           "coalmine"
          ],
          [
           "I",
           "people",
           " ",
           "like",
           "We",
           "just",
           "tell",
           "party",
           "time",
           "federal"
          ],
          [
           "reduce rate",
           "australian premier",
           "say resource",
           "underneath",
           "fund Queensland",
           "concernsnum",
           "say great",
           "exact",
           "department spokesperson",
           "Anything"
          ],
          [
           "Adani",
           "Carmichael",
           "Adani ’s",
           "company",
           "project",
           "coal",
           "royalty",
           "loan",
           "rail",
           "coalmine"
          ],
          [
           "Covid",
           "case",
           "health",
           "people",
           "NSW",
           "border",
           "Covid NUM",
           "test",
           "Victoria",
           "quarantine"
          ],
          [
           "Adani",
           "Carmichael",
           "Adani ’s",
           "company",
           "project",
           "coal",
           "royalty",
           "loan",
           "rail",
           "coalmine"
          ],
          [
           "housing",
           "NUMm",
           "cost",
           " ",
           "home",
           "num%",
           "We",
           "rent",
           "people",
           "saidNUM"
          ],
          [
           "child",
           "people",
           "youth",
           "young",
           "police",
           "watch",
           "house",
           "detention",
           "justice",
           "community"
          ],
          [
           "child",
           "people",
           "youth",
           "young",
           "police",
           "watch",
           "house",
           "detention",
           "justice",
           "community"
          ],
          [
           "Adani",
           "Carmichael",
           "Adani ’s",
           "company",
           "project",
           "coal",
           "royalty",
           "loan",
           "rail",
           "coalmine"
          ],
          [
           "Gabba",
           "stadium",
           "Schrinner",
           "cricket",
           "AFL",
           "rebuild",
           "Adrian Schrinner",
           "lord mayor",
           "lord",
           "mayor Adrian"
          ],
          [
           "forest",
           "hydro",
           "pump",
           "pump hydro",
           "glider",
           "log",
           "great glider",
           "Frecklington",
           "timber",
           "great"
          ],
          [
           "housing",
           "NUMm",
           "cost",
           " ",
           "home",
           "num%",
           "We",
           "rent",
           "people",
           "saidNUM"
          ],
          [
           "housing",
           "NUMm",
           "cost",
           " ",
           "home",
           "num%",
           "We",
           "rent",
           "people",
           "saidNUM"
          ],
          [
           "reef",
           "Barrier",
           "Reef",
           "Great",
           "Great Barrier",
           "Barrier Reef",
           "climate",
           "coral",
           "world",
           "park"
          ],
          [
           "housing",
           "NUMm",
           "cost",
           " ",
           "home",
           "num%",
           "We",
           "rent",
           "people",
           "saidNUM"
          ],
          [
           "US",
           "Trump",
           "read",
           "world",
           "sign",
           "Australia ’s",
           "World",
           "story",
           "inbox",
           "today"
          ],
          [
           "I",
           "people",
           " ",
           "like",
           "We",
           "just",
           "tell",
           "party",
           "time",
           "federal"
          ],
          [
           "Adani",
           "Carmichael",
           "Adani ’s",
           "company",
           "project",
           "coal",
           "royalty",
           "loan",
           "rail",
           "coalmine"
          ],
          [
           "gas",
           "Origin",
           "river",
           "fracke",
           "Lake",
           "oil",
           "basin",
           "channel",
           "company",
           "exploration"
          ],
          [
           "housing",
           "NUMm",
           "cost",
           " ",
           "home",
           "num%",
           "We",
           "rent",
           "people",
           "saidNUM"
          ],
          [
           "housing",
           "NUMm",
           "cost",
           " ",
           "home",
           "num%",
           "We",
           "rent",
           "people",
           "saidNUM"
          ],
          [
           "forest",
           "hydro",
           "pump",
           "pump hydro",
           "glider",
           "log",
           "great glider",
           "Frecklington",
           "timber",
           "great"
          ],
          [
           "police",
           "violence",
           "domestic",
           "woman",
           "officer",
           "domestic violence",
           "inquiry",
           "court",
           "law",
           "victim"
          ],
          [
           "coal",
           "energy",
           "power",
           "renewable",
           "climate",
           "Labor",
           "emission",
           "price",
           "project",
           "job"
          ],
          [
           "child",
           "people",
           "youth",
           "young",
           "police",
           "watch",
           "house",
           "detention",
           "justice",
           "community"
          ],
          [
           "Adani",
           "Carmichael",
           "Adani ’s",
           "company",
           "project",
           "coal",
           "royalty",
           "loan",
           "rail",
           "coalmine"
          ],
          [
           "forest",
           "hydro",
           "pump",
           "pump hydro",
           "glider",
           "log",
           "great glider",
           "Frecklington",
           "timber",
           "great"
          ],
          [
           "housing",
           "NUMm",
           "cost",
           " ",
           "home",
           "num%",
           "We",
           "rent",
           "people",
           "saidNUM"
          ],
          [
           "housing",
           "NUMm",
           "cost",
           " ",
           "home",
           "num%",
           "We",
           "rent",
           "people",
           "saidNUM"
          ],
          [
           "forest",
           "hydro",
           "pump",
           "pump hydro",
           "glider",
           "log",
           "great glider",
           "Frecklington",
           "timber",
           "great"
          ],
          [
           "housing",
           "NUMm",
           "cost",
           " ",
           "home",
           "num%",
           "We",
           "rent",
           "people",
           "saidNUM"
          ],
          [
           "reduce rate",
           "australian premier",
           "say resource",
           "underneath",
           "fund Queensland",
           "concernsnum",
           "say great",
           "exact",
           "department spokesperson",
           "Anything"
          ],
          [
           "gas",
           "Origin",
           "river",
           "fracke",
           "Lake",
           "oil",
           "basin",
           "channel",
           "company",
           "exploration"
          ],
          [
           "gas",
           "Origin",
           "river",
           "fracke",
           "Lake",
           "oil",
           "basin",
           "channel",
           "company",
           "exploration"
          ],
          [
           "Adani",
           "Carmichael",
           "Adani ’s",
           "company",
           "project",
           "coal",
           "royalty",
           "loan",
           "rail",
           "coalmine"
          ],
          [
           "reduce rate",
           "australian premier",
           "say resource",
           "underneath",
           "fund Queensland",
           "concernsnum",
           "say great",
           "exact",
           "department spokesperson",
           "Anything"
          ],
          [
           "I",
           "people",
           " ",
           "like",
           "We",
           "just",
           "tell",
           "party",
           "time",
           "federal"
          ],
          [
           "gas",
           "Origin",
           "river",
           "fracke",
           "Lake",
           "oil",
           "basin",
           "channel",
           "company",
           "exploration"
          ],
          [
           "gas",
           "Origin",
           "river",
           "fracke",
           "Lake",
           "oil",
           "basin",
           "channel",
           "company",
           "exploration"
          ],
          [
           "I",
           "people",
           " ",
           "like",
           "We",
           "just",
           "tell",
           "party",
           "time",
           "federal"
          ],
          [
           "Adani",
           "Carmichael",
           "Adani ’s",
           "company",
           "project",
           "coal",
           "royalty",
           "loan",
           "rail",
           "coalmine"
          ],
          [
           "US",
           "Trump",
           "read",
           "world",
           "sign",
           "Australia ’s",
           "World",
           "story",
           "inbox",
           "today"
          ],
          [
           "water",
           "environmental",
           "federal",
           "plan",
           "land",
           "project",
           "department",
           "environment",
           "clearing",
           "report"
          ],
          [
           "gas",
           "Origin",
           "river",
           "fracke",
           "Lake",
           "oil",
           "basin",
           "channel",
           "company",
           "exploration"
          ],
          [
           "housing",
           "NUMm",
           "cost",
           " ",
           "home",
           "num%",
           "We",
           "rent",
           "people",
           "saidNUM"
          ],
          [
           "reduce rate",
           "australian premier",
           "say resource",
           "underneath",
           "fund Queensland",
           "concernsnum",
           "say great",
           "exact",
           "department spokesperson",
           "Anything"
          ],
          [
           "gas",
           "Origin",
           "river",
           "fracke",
           "Lake",
           "oil",
           "basin",
           "channel",
           "company",
           "exploration"
          ],
          [
           "Covid",
           "case",
           "health",
           "people",
           "NSW",
           "border",
           "Covid NUM",
           "test",
           "Victoria",
           "quarantine"
          ],
          [
           "housing",
           "NUMm",
           "cost",
           " ",
           "home",
           "num%",
           "We",
           "rent",
           "people",
           "saidNUM"
          ],
          [
           "I",
           "people",
           " ",
           "like",
           "We",
           "just",
           "tell",
           "party",
           "time",
           "federal"
          ],
          [
           "Gabba",
           "stadium",
           "Schrinner",
           "cricket",
           "AFL",
           "rebuild",
           "Adrian Schrinner",
           "lord mayor",
           "lord",
           "mayor Adrian"
          ],
          [
           "US",
           "Trump",
           "read",
           "world",
           "sign",
           "Australia ’s",
           "World",
           "story",
           "inbox",
           "today"
          ],
          [
           "gas",
           "Origin",
           "river",
           "fracke",
           "Lake",
           "oil",
           "basin",
           "channel",
           "company",
           "exploration"
          ],
          [
           "Adani",
           "Carmichael",
           "Adani ’s",
           "company",
           "project",
           "coal",
           "royalty",
           "loan",
           "rail",
           "coalmine"
          ],
          [
           "gas",
           "Origin",
           "river",
           "fracke",
           "Lake",
           "oil",
           "basin",
           "channel",
           "company",
           "exploration"
          ],
          [
           "reduce rate",
           "australian premier",
           "say resource",
           "underneath",
           "fund Queensland",
           "concernsnum",
           "say great",
           "exact",
           "department spokesperson",
           "Anything"
          ],
          [
           "child",
           "people",
           "youth",
           "young",
           "police",
           "watch",
           "house",
           "detention",
           "justice",
           "community"
          ],
          [
           "gas",
           "Origin",
           "river",
           "fracke",
           "Lake",
           "oil",
           "basin",
           "channel",
           "company",
           "exploration"
          ],
          [
           "child",
           "people",
           "youth",
           "young",
           "police",
           "watch",
           "house",
           "detention",
           "justice",
           "community"
          ],
          [
           "police",
           "violence",
           "domestic",
           "woman",
           "officer",
           "domestic violence",
           "inquiry",
           "court",
           "law",
           "victim"
          ],
          [
           "I",
           "people",
           " ",
           "like",
           "We",
           "just",
           "tell",
           "party",
           "time",
           "federal"
          ],
          [
           "reduce rate",
           "australian premier",
           "say resource",
           "underneath",
           "fund Queensland",
           "concernsnum",
           "say great",
           "exact",
           "department spokesperson",
           "Anything"
          ],
          [
           "gas",
           "Origin",
           "river",
           "fracke",
           "Lake",
           "oil",
           "basin",
           "channel",
           "company",
           "exploration"
          ],
          [
           "housing",
           "NUMm",
           "cost",
           " ",
           "home",
           "num%",
           "We",
           "rent",
           "people",
           "saidNUM"
          ],
          [
           "gas",
           "Origin",
           "river",
           "fracke",
           "Lake",
           "oil",
           "basin",
           "channel",
           "company",
           "exploration"
          ],
          [
           "I",
           "people",
           " ",
           "like",
           "We",
           "just",
           "tell",
           "party",
           "time",
           "federal"
          ],
          [
           "Adani",
           "Carmichael",
           "Adani ’s",
           "company",
           "project",
           "coal",
           "royalty",
           "loan",
           "rail",
           "coalmine"
          ],
          [
           "Adani",
           "Carmichael",
           "Adani ’s",
           "company",
           "project",
           "coal",
           "royalty",
           "loan",
           "rail",
           "coalmine"
          ],
          [
           "Adani",
           "Carmichael",
           "Adani ’s",
           "company",
           "project",
           "coal",
           "royalty",
           "loan",
           "rail",
           "coalmine"
          ],
          [
           "gas",
           "Origin",
           "river",
           "fracke",
           "Lake",
           "oil",
           "basin",
           "channel",
           "company",
           "exploration"
          ],
          [
           "housing",
           "NUMm",
           "cost",
           " ",
           "home",
           "num%",
           "We",
           "rent",
           "people",
           "saidNUM"
          ],
          [
           "Adani",
           "Carmichael",
           "Adani ’s",
           "company",
           "project",
           "coal",
           "royalty",
           "loan",
           "rail",
           "coalmine"
          ],
          [
           "housing",
           "NUMm",
           "cost",
           " ",
           "home",
           "num%",
           "We",
           "rent",
           "people",
           "saidNUM"
          ],
          [
           "Adani",
           "Carmichael",
           "Adani ’s",
           "company",
           "project",
           "coal",
           "royalty",
           "loan",
           "rail",
           "coalmine"
          ],
          [
           "Adani",
           "Carmichael",
           "Adani ’s",
           "company",
           "project",
           "coal",
           "royalty",
           "loan",
           "rail",
           "coalmine"
          ],
          [
           "forest",
           "hydro",
           "pump",
           "pump hydro",
           "glider",
           "log",
           "great glider",
           "Frecklington",
           "timber",
           "great"
          ],
          [
           "child",
           "people",
           "youth",
           "young",
           "police",
           "watch",
           "house",
           "detention",
           "justice",
           "community"
          ],
          [
           "child",
           "people",
           "youth",
           "young",
           "police",
           "watch",
           "house",
           "detention",
           "justice",
           "community"
          ],
          [
           "I",
           "people",
           " ",
           "like",
           "We",
           "just",
           "tell",
           "party",
           "time",
           "federal"
          ],
          [
           "I",
           "people",
           " ",
           "like",
           "We",
           "just",
           "tell",
           "party",
           "time",
           "federal"
          ],
          [
           "US",
           "Trump",
           "read",
           "world",
           "sign",
           "Australia ’s",
           "World",
           "story",
           "inbox",
           "today"
          ],
          [
           "I",
           "people",
           " ",
           "like",
           "We",
           "just",
           "tell",
           "party",
           "time",
           "federal"
          ],
          [
           "gas",
           "Origin",
           "river",
           "fracke",
           "Lake",
           "oil",
           "basin",
           "channel",
           "company",
           "exploration"
          ],
          [
           "Adani",
           "Carmichael",
           "Adani ’s",
           "company",
           "project",
           "coal",
           "royalty",
           "loan",
           "rail",
           "coalmine"
          ],
          [
           "child",
           "people",
           "youth",
           "young",
           "police",
           "watch",
           "house",
           "detention",
           "justice",
           "community"
          ],
          [
           "US",
           "Trump",
           "read",
           "world",
           "sign",
           "Australia ’s",
           "World",
           "story",
           "inbox",
           "today"
          ],
          [
           "gas",
           "Origin",
           "river",
           "fracke",
           "Lake",
           "oil",
           "basin",
           "channel",
           "company",
           "exploration"
          ],
          [
           "coal",
           "energy",
           "power",
           "renewable",
           "climate",
           "Labor",
           "emission",
           "price",
           "project",
           "job"
          ],
          [
           "Gabba",
           "stadium",
           "Schrinner",
           "cricket",
           "AFL",
           "rebuild",
           "Adrian Schrinner",
           "lord mayor",
           "lord",
           "mayor Adrian"
          ],
          [
           "gas",
           "Origin",
           "river",
           "fracke",
           "Lake",
           "oil",
           "basin",
           "channel",
           "company",
           "exploration"
          ],
          [
           "gas",
           "Origin",
           "river",
           "fracke",
           "Lake",
           "oil",
           "basin",
           "channel",
           "company",
           "exploration"
          ],
          [
           "housing",
           "NUMm",
           "cost",
           " ",
           "home",
           "num%",
           "We",
           "rent",
           "people",
           "saidNUM"
          ],
          [
           "reef",
           "Barrier",
           "Reef",
           "Great",
           "Great Barrier",
           "Barrier Reef",
           "climate",
           "coral",
           "world",
           "park"
          ],
          [
           "forest",
           "hydro",
           "pump",
           "pump hydro",
           "glider",
           "log",
           "great glider",
           "Frecklington",
           "timber",
           "great"
          ],
          [
           "reduce rate",
           "australian premier",
           "say resource",
           "underneath",
           "fund Queensland",
           "concernsnum",
           "say great",
           "exact",
           "department spokesperson",
           "Anything"
          ],
          [
           "child",
           "people",
           "youth",
           "young",
           "police",
           "watch",
           "house",
           "detention",
           "justice",
           "community"
          ],
          [
           "coal",
           "energy",
           "power",
           "renewable",
           "climate",
           "Labor",
           "emission",
           "price",
           "project",
           "job"
          ],
          [
           "I",
           "people",
           " ",
           "like",
           "We",
           "just",
           "tell",
           "party",
           "time",
           "federal"
          ],
          [
           "coal",
           "energy",
           "power",
           "renewable",
           "climate",
           "Labor",
           "emission",
           "price",
           "project",
           "job"
          ],
          [
           "gas",
           "Origin",
           "river",
           "fracke",
           "Lake",
           "oil",
           "basin",
           "channel",
           "company",
           "exploration"
          ],
          [
           "gas",
           "Origin",
           "river",
           "fracke",
           "Lake",
           "oil",
           "basin",
           "channel",
           "company",
           "exploration"
          ],
          [
           "housing",
           "NUMm",
           "cost",
           " ",
           "home",
           "num%",
           "We",
           "rent",
           "people",
           "saidNUM"
          ],
          [
           "gas",
           "Origin",
           "river",
           "fracke",
           "Lake",
           "oil",
           "basin",
           "channel",
           "company",
           "exploration"
          ],
          [
           "child",
           "people",
           "youth",
           "young",
           "police",
           "watch",
           "house",
           "detention",
           "justice",
           "community"
          ],
          [
           "Adani",
           "Carmichael",
           "Adani ’s",
           "company",
           "project",
           "coal",
           "royalty",
           "loan",
           "rail",
           "coalmine"
          ],
          [
           "forest",
           "hydro",
           "pump",
           "pump hydro",
           "glider",
           "log",
           "great glider",
           "Frecklington",
           "timber",
           "great"
          ],
          [
           "water",
           "environmental",
           "federal",
           "plan",
           "land",
           "project",
           "department",
           "environment",
           "clearing",
           "report"
          ],
          [
           "I",
           "people",
           " ",
           "like",
           "We",
           "just",
           "tell",
           "party",
           "time",
           "federal"
          ],
          [
           "gas",
           "Origin",
           "river",
           "fracke",
           "Lake",
           "oil",
           "basin",
           "channel",
           "company",
           "exploration"
          ],
          [
           "child",
           "people",
           "youth",
           "young",
           "police",
           "watch",
           "house",
           "detention",
           "justice",
           "community"
          ],
          [
           "housing",
           "NUMm",
           "cost",
           " ",
           "home",
           "num%",
           "We",
           "rent",
           "people",
           "saidNUM"
          ],
          [
           "coal",
           "energy",
           "power",
           "renewable",
           "climate",
           "Labor",
           "emission",
           "price",
           "project",
           "job"
          ],
          [
           "housing",
           "NUMm",
           "cost",
           " ",
           "home",
           "num%",
           "We",
           "rent",
           "people",
           "saidNUM"
          ],
          [
           "Adani",
           "Carmichael",
           "Adani ’s",
           "company",
           "project",
           "coal",
           "royalty",
           "loan",
           "rail",
           "coalmine"
          ],
          [
           "child",
           "people",
           "youth",
           "young",
           "police",
           "watch",
           "house",
           "detention",
           "justice",
           "community"
          ],
          [
           "reef",
           "Barrier",
           "Reef",
           "Great",
           "Great Barrier",
           "Barrier Reef",
           "climate",
           "coral",
           "world",
           "park"
          ],
          [
           "Adani",
           "Carmichael",
           "Adani ’s",
           "company",
           "project",
           "coal",
           "royalty",
           "loan",
           "rail",
           "coalmine"
          ],
          [
           "forest",
           "hydro",
           "pump",
           "pump hydro",
           "glider",
           "log",
           "great glider",
           "Frecklington",
           "timber",
           "great"
          ],
          [
           "gas",
           "Origin",
           "river",
           "fracke",
           "Lake",
           "oil",
           "basin",
           "channel",
           "company",
           "exploration"
          ],
          [
           "child",
           "people",
           "youth",
           "young",
           "police",
           "watch",
           "house",
           "detention",
           "justice",
           "community"
          ],
          [
           "I",
           "people",
           " ",
           "like",
           "We",
           "just",
           "tell",
           "party",
           "time",
           "federal"
          ],
          [
           "forest",
           "hydro",
           "pump",
           "pump hydro",
           "glider",
           "log",
           "great glider",
           "Frecklington",
           "timber",
           "great"
          ],
          [
           "water",
           "environmental",
           "federal",
           "plan",
           "land",
           "project",
           "department",
           "environment",
           "clearing",
           "report"
          ],
          [
           "Adani",
           "Carmichael",
           "Adani ’s",
           "company",
           "project",
           "coal",
           "royalty",
           "loan",
           "rail",
           "coalmine"
          ],
          [
           "Gabba",
           "stadium",
           "Schrinner",
           "cricket",
           "AFL",
           "rebuild",
           "Adrian Schrinner",
           "lord mayor",
           "lord",
           "mayor Adrian"
          ],
          [
           "child",
           "people",
           "youth",
           "young",
           "police",
           "watch",
           "house",
           "detention",
           "justice",
           "community"
          ],
          [
           "child",
           "people",
           "youth",
           "young",
           "police",
           "watch",
           "house",
           "detention",
           "justice",
           "community"
          ],
          [
           "Covid",
           "case",
           "health",
           "people",
           "NSW",
           "border",
           "Covid NUM",
           "test",
           "Victoria",
           "quarantine"
          ],
          [
           "forest",
           "hydro",
           "pump",
           "pump hydro",
           "glider",
           "log",
           "great glider",
           "Frecklington",
           "timber",
           "great"
          ],
          [
           "reduce rate",
           "australian premier",
           "say resource",
           "underneath",
           "fund Queensland",
           "concernsnum",
           "say great",
           "exact",
           "department spokesperson",
           "Anything"
          ],
          [
           "I",
           "people",
           " ",
           "like",
           "We",
           "just",
           "tell",
           "party",
           "time",
           "federal"
          ],
          [
           "child",
           "people",
           "youth",
           "young",
           "police",
           "watch",
           "house",
           "detention",
           "justice",
           "community"
          ],
          [
           "water",
           "environmental",
           "federal",
           "plan",
           "land",
           "project",
           "department",
           "environment",
           "clearing",
           "report"
          ],
          [
           "housing",
           "NUMm",
           "cost",
           " ",
           "home",
           "num%",
           "We",
           "rent",
           "people",
           "saidNUM"
          ],
          [
           "child",
           "people",
           "youth",
           "young",
           "police",
           "watch",
           "house",
           "detention",
           "justice",
           "community"
          ],
          [
           "child",
           "people",
           "youth",
           "young",
           "police",
           "watch",
           "house",
           "detention",
           "justice",
           "community"
          ],
          [
           "Covid",
           "case",
           "health",
           "people",
           "NSW",
           "border",
           "Covid NUM",
           "test",
           "Victoria",
           "quarantine"
          ],
          [
           "forest",
           "hydro",
           "pump",
           "pump hydro",
           "glider",
           "log",
           "great glider",
           "Frecklington",
           "timber",
           "great"
          ],
          [
           "gas",
           "Origin",
           "river",
           "fracke",
           "Lake",
           "oil",
           "basin",
           "channel",
           "company",
           "exploration"
          ],
          [
           "Gabba",
           "stadium",
           "Schrinner",
           "cricket",
           "AFL",
           "rebuild",
           "Adrian Schrinner",
           "lord mayor",
           "lord",
           "mayor Adrian"
          ],
          [
           "forest",
           "hydro",
           "pump",
           "pump hydro",
           "glider",
           "log",
           "great glider",
           "Frecklington",
           "timber",
           "great"
          ],
          [
           "housing",
           "NUMm",
           "cost",
           " ",
           "home",
           "num%",
           "We",
           "rent",
           "people",
           "saidNUM"
          ],
          [
           "Gabba",
           "stadium",
           "Schrinner",
           "cricket",
           "AFL",
           "rebuild",
           "Adrian Schrinner",
           "lord mayor",
           "lord",
           "mayor Adrian"
          ],
          [
           "reduce rate",
           "australian premier",
           "say resource",
           "underneath",
           "fund Queensland",
           "concernsnum",
           "say great",
           "exact",
           "department spokesperson",
           "Anything"
          ],
          [
           "Adani",
           "Carmichael",
           "Adani ’s",
           "company",
           "project",
           "coal",
           "royalty",
           "loan",
           "rail",
           "coalmine"
          ],
          [
           "reduce rate",
           "australian premier",
           "say resource",
           "underneath",
           "fund Queensland",
           "concernsnum",
           "say great",
           "exact",
           "department spokesperson",
           "Anything"
          ],
          [
           "Adani",
           "Carmichael",
           "Adani ’s",
           "company",
           "project",
           "coal",
           "royalty",
           "loan",
           "rail",
           "coalmine"
          ],
          [
           "child",
           "people",
           "youth",
           "young",
           "police",
           "watch",
           "house",
           "detention",
           "justice",
           "community"
          ],
          [
           "forest",
           "hydro",
           "pump",
           "pump hydro",
           "glider",
           "log",
           "great glider",
           "Frecklington",
           "timber",
           "great"
          ],
          [
           "Gabba",
           "stadium",
           "Schrinner",
           "cricket",
           "AFL",
           "rebuild",
           "Adrian Schrinner",
           "lord mayor",
           "lord",
           "mayor Adrian"
          ],
          [
           "Adani",
           "Carmichael",
           "Adani ’s",
           "company",
           "project",
           "coal",
           "royalty",
           "loan",
           "rail",
           "coalmine"
          ],
          [
           "child",
           "people",
           "youth",
           "young",
           "police",
           "watch",
           "house",
           "detention",
           "justice",
           "community"
          ],
          [
           "child",
           "people",
           "youth",
           "young",
           "police",
           "watch",
           "house",
           "detention",
           "justice",
           "community"
          ],
          [
           "forest",
           "hydro",
           "pump",
           "pump hydro",
           "glider",
           "log",
           "great glider",
           "Frecklington",
           "timber",
           "great"
          ],
          [
           "water",
           "environmental",
           "federal",
           "plan",
           "land",
           "project",
           "department",
           "environment",
           "clearing",
           "report"
          ],
          [
           "child",
           "people",
           "youth",
           "young",
           "police",
           "watch",
           "house",
           "detention",
           "justice",
           "community"
          ],
          [
           "Covid",
           "case",
           "health",
           "people",
           "NSW",
           "border",
           "Covid NUM",
           "test",
           "Victoria",
           "quarantine"
          ],
          [
           "gas",
           "Origin",
           "river",
           "fracke",
           "Lake",
           "oil",
           "basin",
           "channel",
           "company",
           "exploration"
          ],
          [
           "forest",
           "hydro",
           "pump",
           "pump hydro",
           "glider",
           "log",
           "great glider",
           "Frecklington",
           "timber",
           "great"
          ],
          [
           "gas",
           "Origin",
           "river",
           "fracke",
           "Lake",
           "oil",
           "basin",
           "channel",
           "company",
           "exploration"
          ],
          [
           "forest",
           "hydro",
           "pump",
           "pump hydro",
           "glider",
           "log",
           "great glider",
           "Frecklington",
           "timber",
           "great"
          ],
          [
           "I",
           "people",
           " ",
           "like",
           "We",
           "just",
           "tell",
           "party",
           "time",
           "federal"
          ],
          [
           "gas",
           "Origin",
           "river",
           "fracke",
           "Lake",
           "oil",
           "basin",
           "channel",
           "company",
           "exploration"
          ],
          [
           "gas",
           "Origin",
           "river",
           "fracke",
           "Lake",
           "oil",
           "basin",
           "channel",
           "company",
           "exploration"
          ],
          [
           "housing",
           "NUMm",
           "cost",
           " ",
           "home",
           "num%",
           "We",
           "rent",
           "people",
           "saidNUM"
          ],
          [
           "I",
           "people",
           " ",
           "like",
           "We",
           "just",
           "tell",
           "party",
           "time",
           "federal"
          ],
          [
           "child",
           "people",
           "youth",
           "young",
           "police",
           "watch",
           "house",
           "detention",
           "justice",
           "community"
          ],
          [
           "reduce rate",
           "australian premier",
           "say resource",
           "underneath",
           "fund Queensland",
           "concernsnum",
           "say great",
           "exact",
           "department spokesperson",
           "Anything"
          ],
          [
           "child",
           "people",
           "youth",
           "young",
           "police",
           "watch",
           "house",
           "detention",
           "justice",
           "community"
          ],
          [
           "forest",
           "hydro",
           "pump",
           "pump hydro",
           "glider",
           "log",
           "great glider",
           "Frecklington",
           "timber",
           "great"
          ],
          [
           "housing",
           "NUMm",
           "cost",
           " ",
           "home",
           "num%",
           "We",
           "rent",
           "people",
           "saidNUM"
          ],
          [
           "child",
           "people",
           "youth",
           "young",
           "police",
           "watch",
           "house",
           "detention",
           "justice",
           "community"
          ],
          [
           "reduce rate",
           "australian premier",
           "say resource",
           "underneath",
           "fund Queensland",
           "concernsnum",
           "say great",
           "exact",
           "department spokesperson",
           "Anything"
          ],
          [
           "gas",
           "Origin",
           "river",
           "fracke",
           "Lake",
           "oil",
           "basin",
           "channel",
           "company",
           "exploration"
          ],
          [
           "housing",
           "NUMm",
           "cost",
           " ",
           "home",
           "num%",
           "We",
           "rent",
           "people",
           "saidNUM"
          ],
          [
           "forest",
           "hydro",
           "pump",
           "pump hydro",
           "glider",
           "log",
           "great glider",
           "Frecklington",
           "timber",
           "great"
          ],
          [
           "gas",
           "Origin",
           "river",
           "fracke",
           "Lake",
           "oil",
           "basin",
           "channel",
           "company",
           "exploration"
          ],
          [
           "US",
           "Trump",
           "read",
           "world",
           "sign",
           "Australia ’s",
           "World",
           "story",
           "inbox",
           "today"
          ],
          [
           "coal",
           "energy",
           "power",
           "renewable",
           "climate",
           "Labor",
           "emission",
           "price",
           "project",
           "job"
          ],
          [
           "child",
           "people",
           "youth",
           "young",
           "police",
           "watch",
           "house",
           "detention",
           "justice",
           "community"
          ],
          [
           "I",
           "people",
           " ",
           "like",
           "We",
           "just",
           "tell",
           "party",
           "time",
           "federal"
          ],
          [
           "child",
           "people",
           "youth",
           "young",
           "police",
           "watch",
           "house",
           "detention",
           "justice",
           "community"
          ],
          [
           "I",
           "people",
           " ",
           "like",
           "We",
           "just",
           "tell",
           "party",
           "time",
           "federal"
          ],
          [
           "Adani",
           "Carmichael",
           "Adani ’s",
           "company",
           "project",
           "coal",
           "royalty",
           "loan",
           "rail",
           "coalmine"
          ],
          [
           "child",
           "people",
           "youth",
           "young",
           "police",
           "watch",
           "house",
           "detention",
           "justice",
           "community"
          ],
          [
           "child",
           "people",
           "youth",
           "young",
           "police",
           "watch",
           "house",
           "detention",
           "justice",
           "community"
          ],
          [
           "Covid",
           "case",
           "health",
           "people",
           "NSW",
           "border",
           "Covid NUM",
           "test",
           "Victoria",
           "quarantine"
          ],
          [
           "gas",
           "Origin",
           "river",
           "fracke",
           "Lake",
           "oil",
           "basin",
           "channel",
           "company",
           "exploration"
          ],
          [
           "gas",
           "Origin",
           "river",
           "fracke",
           "Lake",
           "oil",
           "basin",
           "channel",
           "company",
           "exploration"
          ],
          [
           "child",
           "people",
           "youth",
           "young",
           "police",
           "watch",
           "house",
           "detention",
           "justice",
           "community"
          ],
          [
           "gas",
           "Origin",
           "river",
           "fracke",
           "Lake",
           "oil",
           "basin",
           "channel",
           "company",
           "exploration"
          ],
          [
           "child",
           "people",
           "youth",
           "young",
           "police",
           "watch",
           "house",
           "detention",
           "justice",
           "community"
          ],
          [
           "Gabba",
           "stadium",
           "Schrinner",
           "cricket",
           "AFL",
           "rebuild",
           "Adrian Schrinner",
           "lord mayor",
           "lord",
           "mayor Adrian"
          ],
          [
           "Adani",
           "Carmichael",
           "Adani ’s",
           "company",
           "project",
           "coal",
           "royalty",
           "loan",
           "rail",
           "coalmine"
          ],
          [
           "Covid",
           "case",
           "health",
           "people",
           "NSW",
           "border",
           "Covid NUM",
           "test",
           "Victoria",
           "quarantine"
          ],
          [
           "gas",
           "Origin",
           "river",
           "fracke",
           "Lake",
           "oil",
           "basin",
           "channel",
           "company",
           "exploration"
          ],
          [
           "child",
           "people",
           "youth",
           "young",
           "police",
           "watch",
           "house",
           "detention",
           "justice",
           "community"
          ],
          [
           "forest",
           "hydro",
           "pump",
           "pump hydro",
           "glider",
           "log",
           "great glider",
           "Frecklington",
           "timber",
           "great"
          ],
          [
           "Covid",
           "case",
           "health",
           "people",
           "NSW",
           "border",
           "Covid NUM",
           "test",
           "Victoria",
           "quarantine"
          ],
          [
           "I",
           "people",
           " ",
           "like",
           "We",
           "just",
           "tell",
           "party",
           "time",
           "federal"
          ],
          [
           "Gabba",
           "stadium",
           "Schrinner",
           "cricket",
           "AFL",
           "rebuild",
           "Adrian Schrinner",
           "lord mayor",
           "lord",
           "mayor Adrian"
          ],
          [
           "housing",
           "NUMm",
           "cost",
           " ",
           "home",
           "num%",
           "We",
           "rent",
           "people",
           "saidNUM"
          ],
          [
           "child",
           "people",
           "youth",
           "young",
           "police",
           "watch",
           "house",
           "detention",
           "justice",
           "community"
          ],
          [
           "gas",
           "Origin",
           "river",
           "fracke",
           "Lake",
           "oil",
           "basin",
           "channel",
           "company",
           "exploration"
          ],
          [
           "forest",
           "hydro",
           "pump",
           "pump hydro",
           "glider",
           "log",
           "great glider",
           "Frecklington",
           "timber",
           "great"
          ],
          [
           "US",
           "Trump",
           "read",
           "world",
           "sign",
           "Australia ’s",
           "World",
           "story",
           "inbox",
           "today"
          ],
          [
           "forest",
           "hydro",
           "pump",
           "pump hydro",
           "glider",
           "log",
           "great glider",
           "Frecklington",
           "timber",
           "great"
          ],
          [
           "gas",
           "Origin",
           "river",
           "fracke",
           "Lake",
           "oil",
           "basin",
           "channel",
           "company",
           "exploration"
          ],
          [
           "child",
           "people",
           "youth",
           "young",
           "police",
           "watch",
           "house",
           "detention",
           "justice",
           "community"
          ],
          [
           "child",
           "people",
           "youth",
           "young",
           "police",
           "watch",
           "house",
           "detention",
           "justice",
           "community"
          ],
          [
           "gas",
           "Origin",
           "river",
           "fracke",
           "Lake",
           "oil",
           "basin",
           "channel",
           "company",
           "exploration"
          ],
          [
           "Adani",
           "Carmichael",
           "Adani ’s",
           "company",
           "project",
           "coal",
           "royalty",
           "loan",
           "rail",
           "coalmine"
          ],
          [
           "police",
           "violence",
           "domestic",
           "woman",
           "officer",
           "domestic violence",
           "inquiry",
           "court",
           "law",
           "victim"
          ],
          [
           "Covid",
           "case",
           "health",
           "people",
           "NSW",
           "border",
           "Covid NUM",
           "test",
           "Victoria",
           "quarantine"
          ],
          [
           "Gabba",
           "stadium",
           "Schrinner",
           "cricket",
           "AFL",
           "rebuild",
           "Adrian Schrinner",
           "lord mayor",
           "lord",
           "mayor Adrian"
          ],
          [
           "forest",
           "hydro",
           "pump",
           "pump hydro",
           "glider",
           "log",
           "great glider",
           "Frecklington",
           "timber",
           "great"
          ],
          [
           "Adani",
           "Carmichael",
           "Adani ’s",
           "company",
           "project",
           "coal",
           "royalty",
           "loan",
           "rail",
           "coalmine"
          ],
          [
           "child",
           "people",
           "youth",
           "young",
           "police",
           "watch",
           "house",
           "detention",
           "justice",
           "community"
          ],
          [
           "housing",
           "NUMm",
           "cost",
           " ",
           "home",
           "num%",
           "We",
           "rent",
           "people",
           "saidNUM"
          ],
          [
           "gas",
           "Origin",
           "river",
           "fracke",
           "Lake",
           "oil",
           "basin",
           "channel",
           "company",
           "exploration"
          ],
          [
           "child",
           "people",
           "youth",
           "young",
           "police",
           "watch",
           "house",
           "detention",
           "justice",
           "community"
          ],
          [
           "housing",
           "NUMm",
           "cost",
           " ",
           "home",
           "num%",
           "We",
           "rent",
           "people",
           "saidNUM"
          ],
          [
           "child",
           "people",
           "youth",
           "young",
           "police",
           "watch",
           "house",
           "detention",
           "justice",
           "community"
          ],
          [
           "US",
           "Trump",
           "read",
           "world",
           "sign",
           "Australia ’s",
           "World",
           "story",
           "inbox",
           "today"
          ],
          [
           "reduce rate",
           "australian premier",
           "say resource",
           "underneath",
           "fund Queensland",
           "concernsnum",
           "say great",
           "exact",
           "department spokesperson",
           "Anything"
          ],
          [
           "child",
           "people",
           "youth",
           "young",
           "police",
           "watch",
           "house",
           "detention",
           "justice",
           "community"
          ],
          [
           "Adani",
           "Carmichael",
           "Adani ’s",
           "company",
           "project",
           "coal",
           "royalty",
           "loan",
           "rail",
           "coalmine"
          ],
          [
           "I",
           "people",
           " ",
           "like",
           "We",
           "just",
           "tell",
           "party",
           "time",
           "federal"
          ],
          [
           "reduce rate",
           "australian premier",
           "say resource",
           "underneath",
           "fund Queensland",
           "concernsnum",
           "say great",
           "exact",
           "department spokesperson",
           "Anything"
          ],
          [
           "child",
           "people",
           "youth",
           "young",
           "police",
           "watch",
           "house",
           "detention",
           "justice",
           "community"
          ],
          [
           "Gabba",
           "stadium",
           "Schrinner",
           "cricket",
           "AFL",
           "rebuild",
           "Adrian Schrinner",
           "lord mayor",
           "lord",
           "mayor Adrian"
          ],
          [
           "child",
           "people",
           "youth",
           "young",
           "police",
           "watch",
           "house",
           "detention",
           "justice",
           "community"
          ],
          [
           "Adani",
           "Carmichael",
           "Adani ’s",
           "company",
           "project",
           "coal",
           "royalty",
           "loan",
           "rail",
           "coalmine"
          ],
          [
           "Covid",
           "case",
           "health",
           "people",
           "NSW",
           "border",
           "Covid NUM",
           "test",
           "Victoria",
           "quarantine"
          ],
          [
           "child",
           "people",
           "youth",
           "young",
           "police",
           "watch",
           "house",
           "detention",
           "justice",
           "community"
          ],
          [
           "US",
           "Trump",
           "read",
           "world",
           "sign",
           "Australia ’s",
           "World",
           "story",
           "inbox",
           "today"
          ],
          [
           "US",
           "Trump",
           "read",
           "world",
           "sign",
           "Australia ’s",
           "World",
           "story",
           "inbox",
           "today"
          ],
          [
           "I",
           "people",
           " ",
           "like",
           "We",
           "just",
           "tell",
           "party",
           "time",
           "federal"
          ],
          [
           "water",
           "environmental",
           "federal",
           "plan",
           "land",
           "project",
           "department",
           "environment",
           "clearing",
           "report"
          ],
          [
           "child",
           "people",
           "youth",
           "young",
           "police",
           "watch",
           "house",
           "detention",
           "justice",
           "community"
          ],
          [
           "forest",
           "hydro",
           "pump",
           "pump hydro",
           "glider",
           "log",
           "great glider",
           "Frecklington",
           "timber",
           "great"
          ],
          [
           "Adani",
           "Carmichael",
           "Adani ’s",
           "company",
           "project",
           "coal",
           "royalty",
           "loan",
           "rail",
           "coalmine"
          ],
          [
           "I",
           "people",
           " ",
           "like",
           "We",
           "just",
           "tell",
           "party",
           "time",
           "federal"
          ],
          [
           "water",
           "environmental",
           "federal",
           "plan",
           "land",
           "project",
           "department",
           "environment",
           "clearing",
           "report"
          ],
          [
           "housing",
           "NUMm",
           "cost",
           " ",
           "home",
           "num%",
           "We",
           "rent",
           "people",
           "saidNUM"
          ],
          [
           "child",
           "people",
           "youth",
           "young",
           "police",
           "watch",
           "house",
           "detention",
           "justice",
           "community"
          ],
          [
           "water",
           "environmental",
           "federal",
           "plan",
           "land",
           "project",
           "department",
           "environment",
           "clearing",
           "report"
          ],
          [
           "I",
           "people",
           " ",
           "like",
           "We",
           "just",
           "tell",
           "party",
           "time",
           "federal"
          ],
          [
           "child",
           "people",
           "youth",
           "young",
           "police",
           "watch",
           "house",
           "detention",
           "justice",
           "community"
          ],
          [
           "I",
           "people",
           " ",
           "like",
           "We",
           "just",
           "tell",
           "party",
           "time",
           "federal"
          ],
          [
           "housing",
           "NUMm",
           "cost",
           " ",
           "home",
           "num%",
           "We",
           "rent",
           "people",
           "saidNUM"
          ],
          [
           "child",
           "people",
           "youth",
           "young",
           "police",
           "watch",
           "house",
           "detention",
           "justice",
           "community"
          ],
          [
           "child",
           "people",
           "youth",
           "young",
           "police",
           "watch",
           "house",
           "detention",
           "justice",
           "community"
          ],
          [
           "child",
           "people",
           "youth",
           "young",
           "police",
           "watch",
           "house",
           "detention",
           "justice",
           "community"
          ],
          [
           "Adani",
           "Carmichael",
           "Adani ’s",
           "company",
           "project",
           "coal",
           "royalty",
           "loan",
           "rail",
           "coalmine"
          ],
          [
           "water",
           "environmental",
           "federal",
           "plan",
           "land",
           "project",
           "department",
           "environment",
           "clearing",
           "report"
          ],
          [
           "forest",
           "hydro",
           "pump",
           "pump hydro",
           "glider",
           "log",
           "great glider",
           "Frecklington",
           "timber",
           "great"
          ],
          [
           "child",
           "people",
           "youth",
           "young",
           "police",
           "watch",
           "house",
           "detention",
           "justice",
           "community"
          ],
          [
           "child",
           "people",
           "youth",
           "young",
           "police",
           "watch",
           "house",
           "detention",
           "justice",
           "community"
          ],
          [
           "I",
           "people",
           " ",
           "like",
           "We",
           "just",
           "tell",
           "party",
           "time",
           "federal"
          ],
          [
           "child",
           "people",
           "youth",
           "young",
           "police",
           "watch",
           "house",
           "detention",
           "justice",
           "community"
          ],
          [
           "police",
           "violence",
           "domestic",
           "woman",
           "officer",
           "domestic violence",
           "inquiry",
           "court",
           "law",
           "victim"
          ],
          [
           "child",
           "people",
           "youth",
           "young",
           "police",
           "watch",
           "house",
           "detention",
           "justice",
           "community"
          ],
          [
           "Adani",
           "Carmichael",
           "Adani ’s",
           "company",
           "project",
           "coal",
           "royalty",
           "loan",
           "rail",
           "coalmine"
          ],
          [
           "water",
           "environmental",
           "federal",
           "plan",
           "land",
           "project",
           "department",
           "environment",
           "clearing",
           "report"
          ],
          [
           "reduce rate",
           "australian premier",
           "say resource",
           "underneath",
           "fund Queensland",
           "concernsnum",
           "say great",
           "exact",
           "department spokesperson",
           "Anything"
          ],
          [
           "I",
           "people",
           " ",
           "like",
           "We",
           "just",
           "tell",
           "party",
           "time",
           "federal"
          ],
          [
           "I",
           "people",
           " ",
           "like",
           "We",
           "just",
           "tell",
           "party",
           "time",
           "federal"
          ],
          [
           "I",
           "people",
           " ",
           "like",
           "We",
           "just",
           "tell",
           "party",
           "time",
           "federal"
          ],
          [
           "housing",
           "NUMm",
           "cost",
           " ",
           "home",
           "num%",
           "We",
           "rent",
           "people",
           "saidNUM"
          ],
          [
           "Adani",
           "Carmichael",
           "Adani ’s",
           "company",
           "project",
           "coal",
           "royalty",
           "loan",
           "rail",
           "coalmine"
          ],
          [
           "I",
           "people",
           " ",
           "like",
           "We",
           "just",
           "tell",
           "party",
           "time",
           "federal"
          ],
          [
           "child",
           "people",
           "youth",
           "young",
           "police",
           "watch",
           "house",
           "detention",
           "justice",
           "community"
          ],
          [
           "gas",
           "Origin",
           "river",
           "fracke",
           "Lake",
           "oil",
           "basin",
           "channel",
           "company",
           "exploration"
          ],
          [
           "child",
           "people",
           "youth",
           "young",
           "police",
           "watch",
           "house",
           "detention",
           "justice",
           "community"
          ],
          [
           "I",
           "people",
           " ",
           "like",
           "We",
           "just",
           "tell",
           "party",
           "time",
           "federal"
          ],
          [
           "reduce rate",
           "australian premier",
           "say resource",
           "underneath",
           "fund Queensland",
           "concernsnum",
           "say great",
           "exact",
           "department spokesperson",
           "Anything"
          ],
          [
           "housing",
           "NUMm",
           "cost",
           " ",
           "home",
           "num%",
           "We",
           "rent",
           "people",
           "saidNUM"
          ],
          [
           "child",
           "people",
           "youth",
           "young",
           "police",
           "watch",
           "house",
           "detention",
           "justice",
           "community"
          ],
          [
           "child",
           "people",
           "youth",
           "young",
           "police",
           "watch",
           "house",
           "detention",
           "justice",
           "community"
          ],
          [
           "Adani",
           "Carmichael",
           "Adani ’s",
           "company",
           "project",
           "coal",
           "royalty",
           "loan",
           "rail",
           "coalmine"
          ],
          [
           "gas",
           "Origin",
           "river",
           "fracke",
           "Lake",
           "oil",
           "basin",
           "channel",
           "company",
           "exploration"
          ],
          [
           "Gabba",
           "stadium",
           "Schrinner",
           "cricket",
           "AFL",
           "rebuild",
           "Adrian Schrinner",
           "lord mayor",
           "lord",
           "mayor Adrian"
          ],
          [
           "forest",
           "hydro",
           "pump",
           "pump hydro",
           "glider",
           "log",
           "great glider",
           "Frecklington",
           "timber",
           "great"
          ],
          [
           "child",
           "people",
           "youth",
           "young",
           "police",
           "watch",
           "house",
           "detention",
           "justice",
           "community"
          ],
          [
           "US",
           "Trump",
           "read",
           "world",
           "sign",
           "Australia ’s",
           "World",
           "story",
           "inbox",
           "today"
          ],
          [
           "child",
           "people",
           "youth",
           "young",
           "police",
           "watch",
           "house",
           "detention",
           "justice",
           "community"
          ],
          [
           "gas",
           "Origin",
           "river",
           "fracke",
           "Lake",
           "oil",
           "basin",
           "channel",
           "company",
           "exploration"
          ],
          [
           "water",
           "environmental",
           "federal",
           "plan",
           "land",
           "project",
           "department",
           "environment",
           "clearing",
           "report"
          ],
          [
           "child",
           "people",
           "youth",
           "young",
           "police",
           "watch",
           "house",
           "detention",
           "justice",
           "community"
          ],
          [
           "water",
           "environmental",
           "federal",
           "plan",
           "land",
           "project",
           "department",
           "environment",
           "clearing",
           "report"
          ],
          [
           "forest",
           "hydro",
           "pump",
           "pump hydro",
           "glider",
           "log",
           "great glider",
           "Frecklington",
           "timber",
           "great"
          ],
          [
           "police",
           "violence",
           "domestic",
           "woman",
           "officer",
           "domestic violence",
           "inquiry",
           "court",
           "law",
           "victim"
          ],
          [
           "gas",
           "Origin",
           "river",
           "fracke",
           "Lake",
           "oil",
           "basin",
           "channel",
           "company",
           "exploration"
          ],
          [
           "US",
           "Trump",
           "read",
           "world",
           "sign",
           "Australia ’s",
           "World",
           "story",
           "inbox",
           "today"
          ],
          [
           "coal",
           "energy",
           "power",
           "renewable",
           "climate",
           "Labor",
           "emission",
           "price",
           "project",
           "job"
          ],
          [
           "Gabba",
           "stadium",
           "Schrinner",
           "cricket",
           "AFL",
           "rebuild",
           "Adrian Schrinner",
           "lord mayor",
           "lord",
           "mayor Adrian"
          ],
          [
           "forest",
           "hydro",
           "pump",
           "pump hydro",
           "glider",
           "log",
           "great glider",
           "Frecklington",
           "timber",
           "great"
          ],
          [
           "I",
           "people",
           " ",
           "like",
           "We",
           "just",
           "tell",
           "party",
           "time",
           "federal"
          ],
          [
           "coal",
           "energy",
           "power",
           "renewable",
           "climate",
           "Labor",
           "emission",
           "price",
           "project",
           "job"
          ],
          [
           "child",
           "people",
           "youth",
           "young",
           "police",
           "watch",
           "house",
           "detention",
           "justice",
           "community"
          ],
          [
           "water",
           "environmental",
           "federal",
           "plan",
           "land",
           "project",
           "department",
           "environment",
           "clearing",
           "report"
          ],
          [
           "gas",
           "Origin",
           "river",
           "fracke",
           "Lake",
           "oil",
           "basin",
           "channel",
           "company",
           "exploration"
          ],
          [
           "Gabba",
           "stadium",
           "Schrinner",
           "cricket",
           "AFL",
           "rebuild",
           "Adrian Schrinner",
           "lord mayor",
           "lord",
           "mayor Adrian"
          ],
          [
           "child",
           "people",
           "youth",
           "young",
           "police",
           "watch",
           "house",
           "detention",
           "justice",
           "community"
          ],
          [
           "Gabba",
           "stadium",
           "Schrinner",
           "cricket",
           "AFL",
           "rebuild",
           "Adrian Schrinner",
           "lord mayor",
           "lord",
           "mayor Adrian"
          ],
          [
           "Adani",
           "Carmichael",
           "Adani ’s",
           "company",
           "project",
           "coal",
           "royalty",
           "loan",
           "rail",
           "coalmine"
          ],
          [
           "gas",
           "Origin",
           "river",
           "fracke",
           "Lake",
           "oil",
           "basin",
           "channel",
           "company",
           "exploration"
          ],
          [
           "forest",
           "hydro",
           "pump",
           "pump hydro",
           "glider",
           "log",
           "great glider",
           "Frecklington",
           "timber",
           "great"
          ],
          [
           "coal",
           "energy",
           "power",
           "renewable",
           "climate",
           "Labor",
           "emission",
           "price",
           "project",
           "job"
          ],
          [
           "housing",
           "NUMm",
           "cost",
           " ",
           "home",
           "num%",
           "We",
           "rent",
           "people",
           "saidNUM"
          ],
          [
           "forest",
           "hydro",
           "pump",
           "pump hydro",
           "glider",
           "log",
           "great glider",
           "Frecklington",
           "timber",
           "great"
          ],
          [
           "US",
           "Trump",
           "read",
           "world",
           "sign",
           "Australia ’s",
           "World",
           "story",
           "inbox",
           "today"
          ],
          [
           "Gabba",
           "stadium",
           "Schrinner",
           "cricket",
           "AFL",
           "rebuild",
           "Adrian Schrinner",
           "lord mayor",
           "lord",
           "mayor Adrian"
          ],
          [
           "water",
           "environmental",
           "federal",
           "plan",
           "land",
           "project",
           "department",
           "environment",
           "clearing",
           "report"
          ],
          [
           "Gabba",
           "stadium",
           "Schrinner",
           "cricket",
           "AFL",
           "rebuild",
           "Adrian Schrinner",
           "lord mayor",
           "lord",
           "mayor Adrian"
          ],
          [
           "US",
           "Trump",
           "read",
           "world",
           "sign",
           "Australia ’s",
           "World",
           "story",
           "inbox",
           "today"
          ],
          [
           "I",
           "people",
           " ",
           "like",
           "We",
           "just",
           "tell",
           "party",
           "time",
           "federal"
          ],
          [
           "I",
           "people",
           " ",
           "like",
           "We",
           "just",
           "tell",
           "party",
           "time",
           "federal"
          ],
          [
           "forest",
           "hydro",
           "pump",
           "pump hydro",
           "glider",
           "log",
           "great glider",
           "Frecklington",
           "timber",
           "great"
          ],
          [
           "water",
           "environmental",
           "federal",
           "plan",
           "land",
           "project",
           "department",
           "environment",
           "clearing",
           "report"
          ],
          [
           "Adani",
           "Carmichael",
           "Adani ’s",
           "company",
           "project",
           "coal",
           "royalty",
           "loan",
           "rail",
           "coalmine"
          ],
          [
           "child",
           "people",
           "youth",
           "young",
           "police",
           "watch",
           "house",
           "detention",
           "justice",
           "community"
          ],
          [
           "water",
           "environmental",
           "federal",
           "plan",
           "land",
           "project",
           "department",
           "environment",
           "clearing",
           "report"
          ],
          [
           "water",
           "environmental",
           "federal",
           "plan",
           "land",
           "project",
           "department",
           "environment",
           "clearing",
           "report"
          ],
          [
           "child",
           "people",
           "youth",
           "young",
           "police",
           "watch",
           "house",
           "detention",
           "justice",
           "community"
          ],
          [
           "gas",
           "Origin",
           "river",
           "fracke",
           "Lake",
           "oil",
           "basin",
           "channel",
           "company",
           "exploration"
          ],
          [
           "gas",
           "Origin",
           "river",
           "fracke",
           "Lake",
           "oil",
           "basin",
           "channel",
           "company",
           "exploration"
          ],
          [
           "reef",
           "Barrier",
           "Reef",
           "Great",
           "Great Barrier",
           "Barrier Reef",
           "climate",
           "coral",
           "world",
           "park"
          ],
          [
           "gas",
           "Origin",
           "river",
           "fracke",
           "Lake",
           "oil",
           "basin",
           "channel",
           "company",
           "exploration"
          ],
          [
           "I",
           "people",
           " ",
           "like",
           "We",
           "just",
           "tell",
           "party",
           "time",
           "federal"
          ],
          [
           "forest",
           "hydro",
           "pump",
           "pump hydro",
           "glider",
           "log",
           "great glider",
           "Frecklington",
           "timber",
           "great"
          ],
          [
           "US",
           "Trump",
           "read",
           "world",
           "sign",
           "Australia ’s",
           "World",
           "story",
           "inbox",
           "today"
          ],
          [
           "forest",
           "hydro",
           "pump",
           "pump hydro",
           "glider",
           "log",
           "great glider",
           "Frecklington",
           "timber",
           "great"
          ],
          [
           "child",
           "people",
           "youth",
           "young",
           "police",
           "watch",
           "house",
           "detention",
           "justice",
           "community"
          ],
          [
           "reduce rate",
           "australian premier",
           "say resource",
           "underneath",
           "fund Queensland",
           "concernsnum",
           "say great",
           "exact",
           "department spokesperson",
           "Anything"
          ],
          [
           "Gabba",
           "stadium",
           "Schrinner",
           "cricket",
           "AFL",
           "rebuild",
           "Adrian Schrinner",
           "lord mayor",
           "lord",
           "mayor Adrian"
          ],
          [
           "reduce rate",
           "australian premier",
           "say resource",
           "underneath",
           "fund Queensland",
           "concernsnum",
           "say great",
           "exact",
           "department spokesperson",
           "Anything"
          ],
          [
           "I",
           "people",
           " ",
           "like",
           "We",
           "just",
           "tell",
           "party",
           "time",
           "federal"
          ],
          [
           "forest",
           "hydro",
           "pump",
           "pump hydro",
           "glider",
           "log",
           "great glider",
           "Frecklington",
           "timber",
           "great"
          ],
          [
           "US",
           "Trump",
           "read",
           "world",
           "sign",
           "Australia ’s",
           "World",
           "story",
           "inbox",
           "today"
          ],
          [
           "Covid",
           "case",
           "health",
           "people",
           "NSW",
           "border",
           "Covid NUM",
           "test",
           "Victoria",
           "quarantine"
          ],
          [
           "water",
           "environmental",
           "federal",
           "plan",
           "land",
           "project",
           "department",
           "environment",
           "clearing",
           "report"
          ],
          [
           "I",
           "people",
           " ",
           "like",
           "We",
           "just",
           "tell",
           "party",
           "time",
           "federal"
          ],
          [
           "gas",
           "Origin",
           "river",
           "fracke",
           "Lake",
           "oil",
           "basin",
           "channel",
           "company",
           "exploration"
          ],
          [
           "forest",
           "hydro",
           "pump",
           "pump hydro",
           "glider",
           "log",
           "great glider",
           "Frecklington",
           "timber",
           "great"
          ],
          [
           "forest",
           "hydro",
           "pump",
           "pump hydro",
           "glider",
           "log",
           "great glider",
           "Frecklington",
           "timber",
           "great"
          ],
          [
           "Adani",
           "Carmichael",
           "Adani ’s",
           "company",
           "project",
           "coal",
           "royalty",
           "loan",
           "rail",
           "coalmine"
          ],
          [
           "forest",
           "hydro",
           "pump",
           "pump hydro",
           "glider",
           "log",
           "great glider",
           "Frecklington",
           "timber",
           "great"
          ],
          [
           "forest",
           "hydro",
           "pump",
           "pump hydro",
           "glider",
           "log",
           "great glider",
           "Frecklington",
           "timber",
           "great"
          ],
          [
           "water",
           "environmental",
           "federal",
           "plan",
           "land",
           "project",
           "department",
           "environment",
           "clearing",
           "report"
          ],
          [
           "forest",
           "hydro",
           "pump",
           "pump hydro",
           "glider",
           "log",
           "great glider",
           "Frecklington",
           "timber",
           "great"
          ],
          [
           "gas",
           "Origin",
           "river",
           "fracke",
           "Lake",
           "oil",
           "basin",
           "channel",
           "company",
           "exploration"
          ],
          [
           "Adani",
           "Carmichael",
           "Adani ’s",
           "company",
           "project",
           "coal",
           "royalty",
           "loan",
           "rail",
           "coalmine"
          ],
          [
           "water",
           "environmental",
           "federal",
           "plan",
           "land",
           "project",
           "department",
           "environment",
           "clearing",
           "report"
          ],
          [
           "water",
           "environmental",
           "federal",
           "plan",
           "land",
           "project",
           "department",
           "environment",
           "clearing",
           "report"
          ],
          [
           "Gabba",
           "stadium",
           "Schrinner",
           "cricket",
           "AFL",
           "rebuild",
           "Adrian Schrinner",
           "lord mayor",
           "lord",
           "mayor Adrian"
          ],
          [
           "water",
           "environmental",
           "federal",
           "plan",
           "land",
           "project",
           "department",
           "environment",
           "clearing",
           "report"
          ],
          [
           "water",
           "environmental",
           "federal",
           "plan",
           "land",
           "project",
           "department",
           "environment",
           "clearing",
           "report"
          ],
          [
           "water",
           "environmental",
           "federal",
           "plan",
           "land",
           "project",
           "department",
           "environment",
           "clearing",
           "report"
          ],
          [
           "housing",
           "NUMm",
           "cost",
           " ",
           "home",
           "num%",
           "We",
           "rent",
           "people",
           "saidNUM"
          ],
          [
           "Gabba",
           "stadium",
           "Schrinner",
           "cricket",
           "AFL",
           "rebuild",
           "Adrian Schrinner",
           "lord mayor",
           "lord",
           "mayor Adrian"
          ],
          [
           "Covid",
           "case",
           "health",
           "people",
           "NSW",
           "border",
           "Covid NUM",
           "test",
           "Victoria",
           "quarantine"
          ],
          [
           "forest",
           "hydro",
           "pump",
           "pump hydro",
           "glider",
           "log",
           "great glider",
           "Frecklington",
           "timber",
           "great"
          ],
          [
           "US",
           "Trump",
           "read",
           "world",
           "sign",
           "Australia ’s",
           "World",
           "story",
           "inbox",
           "today"
          ],
          [
           "housing",
           "NUMm",
           "cost",
           " ",
           "home",
           "num%",
           "We",
           "rent",
           "people",
           "saidNUM"
          ],
          [
           "water",
           "environmental",
           "federal",
           "plan",
           "land",
           "project",
           "department",
           "environment",
           "clearing",
           "report"
          ],
          [
           "water",
           "environmental",
           "federal",
           "plan",
           "land",
           "project",
           "department",
           "environment",
           "clearing",
           "report"
          ],
          [
           "Adani",
           "Carmichael",
           "Adani ’s",
           "company",
           "project",
           "coal",
           "royalty",
           "loan",
           "rail",
           "coalmine"
          ],
          [
           "water",
           "environmental",
           "federal",
           "plan",
           "land",
           "project",
           "department",
           "environment",
           "clearing",
           "report"
          ],
          [
           "housing",
           "NUMm",
           "cost",
           " ",
           "home",
           "num%",
           "We",
           "rent",
           "people",
           "saidNUM"
          ],
          [
           "I",
           "people",
           " ",
           "like",
           "We",
           "just",
           "tell",
           "party",
           "time",
           "federal"
          ],
          [
           "forest",
           "hydro",
           "pump",
           "pump hydro",
           "glider",
           "log",
           "great glider",
           "Frecklington",
           "timber",
           "great"
          ],
          [
           "coal",
           "energy",
           "power",
           "renewable",
           "climate",
           "Labor",
           "emission",
           "price",
           "project",
           "job"
          ],
          [
           "reduce rate",
           "australian premier",
           "say resource",
           "underneath",
           "fund Queensland",
           "concernsnum",
           "say great",
           "exact",
           "department spokesperson",
           "Anything"
          ],
          [
           "forest",
           "hydro",
           "pump",
           "pump hydro",
           "glider",
           "log",
           "great glider",
           "Frecklington",
           "timber",
           "great"
          ],
          [
           "gas",
           "Origin",
           "river",
           "fracke",
           "Lake",
           "oil",
           "basin",
           "channel",
           "company",
           "exploration"
          ],
          [
           "I",
           "people",
           " ",
           "like",
           "We",
           "just",
           "tell",
           "party",
           "time",
           "federal"
          ],
          [
           "child",
           "people",
           "youth",
           "young",
           "police",
           "watch",
           "house",
           "detention",
           "justice",
           "community"
          ],
          [
           "Gabba",
           "stadium",
           "Schrinner",
           "cricket",
           "AFL",
           "rebuild",
           "Adrian Schrinner",
           "lord mayor",
           "lord",
           "mayor Adrian"
          ],
          [
           "water",
           "environmental",
           "federal",
           "plan",
           "land",
           "project",
           "department",
           "environment",
           "clearing",
           "report"
          ],
          [
           "water",
           "environmental",
           "federal",
           "plan",
           "land",
           "project",
           "department",
           "environment",
           "clearing",
           "report"
          ],
          [
           "US",
           "Trump",
           "read",
           "world",
           "sign",
           "Australia ’s",
           "World",
           "story",
           "inbox",
           "today"
          ],
          [
           "reduce rate",
           "australian premier",
           "say resource",
           "underneath",
           "fund Queensland",
           "concernsnum",
           "say great",
           "exact",
           "department spokesperson",
           "Anything"
          ],
          [
           "water",
           "environmental",
           "federal",
           "plan",
           "land",
           "project",
           "department",
           "environment",
           "clearing",
           "report"
          ],
          [
           "water",
           "environmental",
           "federal",
           "plan",
           "land",
           "project",
           "department",
           "environment",
           "clearing",
           "report"
          ],
          [
           "water",
           "environmental",
           "federal",
           "plan",
           "land",
           "project",
           "department",
           "environment",
           "clearing",
           "report"
          ],
          [
           "Gabba",
           "stadium",
           "Schrinner",
           "cricket",
           "AFL",
           "rebuild",
           "Adrian Schrinner",
           "lord mayor",
           "lord",
           "mayor Adrian"
          ],
          [
           "Covid",
           "case",
           "health",
           "people",
           "NSW",
           "border",
           "Covid NUM",
           "test",
           "Victoria",
           "quarantine"
          ],
          [
           "Gabba",
           "stadium",
           "Schrinner",
           "cricket",
           "AFL",
           "rebuild",
           "Adrian Schrinner",
           "lord mayor",
           "lord",
           "mayor Adrian"
          ],
          [
           "water",
           "environmental",
           "federal",
           "plan",
           "land",
           "project",
           "department",
           "environment",
           "clearing",
           "report"
          ],
          [
           "I",
           "people",
           " ",
           "like",
           "We",
           "just",
           "tell",
           "party",
           "time",
           "federal"
          ],
          [
           "water",
           "environmental",
           "federal",
           "plan",
           "land",
           "project",
           "department",
           "environment",
           "clearing",
           "report"
          ],
          [
           "water",
           "environmental",
           "federal",
           "plan",
           "land",
           "project",
           "department",
           "environment",
           "clearing",
           "report"
          ],
          [
           "Covid",
           "case",
           "health",
           "people",
           "NSW",
           "border",
           "Covid NUM",
           "test",
           "Victoria",
           "quarantine"
          ],
          [
           "Covid",
           "case",
           "health",
           "people",
           "NSW",
           "border",
           "Covid NUM",
           "test",
           "Victoria",
           "quarantine"
          ],
          [
           "child",
           "people",
           "youth",
           "young",
           "police",
           "watch",
           "house",
           "detention",
           "justice",
           "community"
          ],
          [
           "I",
           "people",
           " ",
           "like",
           "We",
           "just",
           "tell",
           "party",
           "time",
           "federal"
          ],
          [
           "I",
           "people",
           " ",
           "like",
           "We",
           "just",
           "tell",
           "party",
           "time",
           "federal"
          ],
          [
           "Adani",
           "Carmichael",
           "Adani ’s",
           "company",
           "project",
           "coal",
           "royalty",
           "loan",
           "rail",
           "coalmine"
          ],
          [
           "I",
           "people",
           " ",
           "like",
           "We",
           "just",
           "tell",
           "party",
           "time",
           "federal"
          ],
          [
           "Covid",
           "case",
           "health",
           "people",
           "NSW",
           "border",
           "Covid NUM",
           "test",
           "Victoria",
           "quarantine"
          ],
          [
           "water",
           "environmental",
           "federal",
           "plan",
           "land",
           "project",
           "department",
           "environment",
           "clearing",
           "report"
          ],
          [
           "Adani",
           "Carmichael",
           "Adani ’s",
           "company",
           "project",
           "coal",
           "royalty",
           "loan",
           "rail",
           "coalmine"
          ],
          [
           "water",
           "environmental",
           "federal",
           "plan",
           "land",
           "project",
           "department",
           "environment",
           "clearing",
           "report"
          ],
          [
           "I",
           "people",
           " ",
           "like",
           "We",
           "just",
           "tell",
           "party",
           "time",
           "federal"
          ],
          [
           "I",
           "people",
           " ",
           "like",
           "We",
           "just",
           "tell",
           "party",
           "time",
           "federal"
          ],
          [
           "forest",
           "hydro",
           "pump",
           "pump hydro",
           "glider",
           "log",
           "great glider",
           "Frecklington",
           "timber",
           "great"
          ],
          [
           "US",
           "Trump",
           "read",
           "world",
           "sign",
           "Australia ’s",
           "World",
           "story",
           "inbox",
           "today"
          ],
          [
           "water",
           "environmental",
           "federal",
           "plan",
           "land",
           "project",
           "department",
           "environment",
           "clearing",
           "report"
          ],
          [
           "water",
           "environmental",
           "federal",
           "plan",
           "land",
           "project",
           "department",
           "environment",
           "clearing",
           "report"
          ],
          [
           "water",
           "environmental",
           "federal",
           "plan",
           "land",
           "project",
           "department",
           "environment",
           "clearing",
           "report"
          ],
          [
           "water",
           "environmental",
           "federal",
           "plan",
           "land",
           "project",
           "department",
           "environment",
           "clearing",
           "report"
          ],
          [
           "Gabba",
           "stadium",
           "Schrinner",
           "cricket",
           "AFL",
           "rebuild",
           "Adrian Schrinner",
           "lord mayor",
           "lord",
           "mayor Adrian"
          ],
          [
           "forest",
           "hydro",
           "pump",
           "pump hydro",
           "glider",
           "log",
           "great glider",
           "Frecklington",
           "timber",
           "great"
          ],
          [
           "US",
           "Trump",
           "read",
           "world",
           "sign",
           "Australia ’s",
           "World",
           "story",
           "inbox",
           "today"
          ],
          [
           "Gabba",
           "stadium",
           "Schrinner",
           "cricket",
           "AFL",
           "rebuild",
           "Adrian Schrinner",
           "lord mayor",
           "lord",
           "mayor Adrian"
          ],
          [
           "reduce rate",
           "australian premier",
           "say resource",
           "underneath",
           "fund Queensland",
           "concernsnum",
           "say great",
           "exact",
           "department spokesperson",
           "Anything"
          ],
          [
           "Gabba",
           "stadium",
           "Schrinner",
           "cricket",
           "AFL",
           "rebuild",
           "Adrian Schrinner",
           "lord mayor",
           "lord",
           "mayor Adrian"
          ],
          [
           "water",
           "environmental",
           "federal",
           "plan",
           "land",
           "project",
           "department",
           "environment",
           "clearing",
           "report"
          ],
          [
           "Adani",
           "Carmichael",
           "Adani ’s",
           "company",
           "project",
           "coal",
           "royalty",
           "loan",
           "rail",
           "coalmine"
          ],
          [
           "water",
           "environmental",
           "federal",
           "plan",
           "land",
           "project",
           "department",
           "environment",
           "clearing",
           "report"
          ],
          [
           "I",
           "people",
           " ",
           "like",
           "We",
           "just",
           "tell",
           "party",
           "time",
           "federal"
          ],
          [
           "Adani",
           "Carmichael",
           "Adani ’s",
           "company",
           "project",
           "coal",
           "royalty",
           "loan",
           "rail",
           "coalmine"
          ],
          [
           "water",
           "environmental",
           "federal",
           "plan",
           "land",
           "project",
           "department",
           "environment",
           "clearing",
           "report"
          ],
          [
           "I",
           "people",
           " ",
           "like",
           "We",
           "just",
           "tell",
           "party",
           "time",
           "federal"
          ],
          [
           "Covid",
           "case",
           "health",
           "people",
           "NSW",
           "border",
           "Covid NUM",
           "test",
           "Victoria",
           "quarantine"
          ],
          [
           "forest",
           "hydro",
           "pump",
           "pump hydro",
           "glider",
           "log",
           "great glider",
           "Frecklington",
           "timber",
           "great"
          ],
          [
           "Adani",
           "Carmichael",
           "Adani ’s",
           "company",
           "project",
           "coal",
           "royalty",
           "loan",
           "rail",
           "coalmine"
          ],
          [
           "I",
           "people",
           " ",
           "like",
           "We",
           "just",
           "tell",
           "party",
           "time",
           "federal"
          ],
          [
           "I",
           "people",
           " ",
           "like",
           "We",
           "just",
           "tell",
           "party",
           "time",
           "federal"
          ],
          [
           "I",
           "people",
           " ",
           "like",
           "We",
           "just",
           "tell",
           "party",
           "time",
           "federal"
          ],
          [
           "water",
           "environmental",
           "federal",
           "plan",
           "land",
           "project",
           "department",
           "environment",
           "clearing",
           "report"
          ],
          [
           "Gabba",
           "stadium",
           "Schrinner",
           "cricket",
           "AFL",
           "rebuild",
           "Adrian Schrinner",
           "lord mayor",
           "lord",
           "mayor Adrian"
          ],
          [
           "water",
           "environmental",
           "federal",
           "plan",
           "land",
           "project",
           "department",
           "environment",
           "clearing",
           "report"
          ],
          [
           "housing",
           "NUMm",
           "cost",
           " ",
           "home",
           "num%",
           "We",
           "rent",
           "people",
           "saidNUM"
          ],
          [
           "water",
           "environmental",
           "federal",
           "plan",
           "land",
           "project",
           "department",
           "environment",
           "clearing",
           "report"
          ],
          [
           "I",
           "people",
           " ",
           "like",
           "We",
           "just",
           "tell",
           "party",
           "time",
           "federal"
          ],
          [
           "forest",
           "hydro",
           "pump",
           "pump hydro",
           "glider",
           "log",
           "great glider",
           "Frecklington",
           "timber",
           "great"
          ],
          [
           "water",
           "environmental",
           "federal",
           "plan",
           "land",
           "project",
           "department",
           "environment",
           "clearing",
           "report"
          ],
          [
           "water",
           "environmental",
           "federal",
           "plan",
           "land",
           "project",
           "department",
           "environment",
           "clearing",
           "report"
          ],
          [
           "I",
           "people",
           " ",
           "like",
           "We",
           "just",
           "tell",
           "party",
           "time",
           "federal"
          ],
          [
           "water",
           "environmental",
           "federal",
           "plan",
           "land",
           "project",
           "department",
           "environment",
           "clearing",
           "report"
          ],
          [
           "water",
           "environmental",
           "federal",
           "plan",
           "land",
           "project",
           "department",
           "environment",
           "clearing",
           "report"
          ],
          [
           "water",
           "environmental",
           "federal",
           "plan",
           "land",
           "project",
           "department",
           "environment",
           "clearing",
           "report"
          ],
          [
           "US",
           "Trump",
           "read",
           "world",
           "sign",
           "Australia ’s",
           "World",
           "story",
           "inbox",
           "today"
          ],
          [
           "forest",
           "hydro",
           "pump",
           "pump hydro",
           "glider",
           "log",
           "great glider",
           "Frecklington",
           "timber",
           "great"
          ],
          [
           "Adani",
           "Carmichael",
           "Adani ’s",
           "company",
           "project",
           "coal",
           "royalty",
           "loan",
           "rail",
           "coalmine"
          ],
          [
           "police",
           "violence",
           "domestic",
           "woman",
           "officer",
           "domestic violence",
           "inquiry",
           "court",
           "law",
           "victim"
          ],
          [
           "housing",
           "NUMm",
           "cost",
           " ",
           "home",
           "num%",
           "We",
           "rent",
           "people",
           "saidNUM"
          ],
          [
           "police",
           "violence",
           "domestic",
           "woman",
           "officer",
           "domestic violence",
           "inquiry",
           "court",
           "law",
           "victim"
          ],
          [
           "forest",
           "hydro",
           "pump",
           "pump hydro",
           "glider",
           "log",
           "great glider",
           "Frecklington",
           "timber",
           "great"
          ],
          [
           "Adani",
           "Carmichael",
           "Adani ’s",
           "company",
           "project",
           "coal",
           "royalty",
           "loan",
           "rail",
           "coalmine"
          ],
          [
           "reduce rate",
           "australian premier",
           "say resource",
           "underneath",
           "fund Queensland",
           "concernsnum",
           "say great",
           "exact",
           "department spokesperson",
           "Anything"
          ],
          [
           "housing",
           "NUMm",
           "cost",
           " ",
           "home",
           "num%",
           "We",
           "rent",
           "people",
           "saidNUM"
          ],
          [
           "water",
           "environmental",
           "federal",
           "plan",
           "land",
           "project",
           "department",
           "environment",
           "clearing",
           "report"
          ],
          [
           "Gabba",
           "stadium",
           "Schrinner",
           "cricket",
           "AFL",
           "rebuild",
           "Adrian Schrinner",
           "lord mayor",
           "lord",
           "mayor Adrian"
          ],
          [
           "I",
           "people",
           " ",
           "like",
           "We",
           "just",
           "tell",
           "party",
           "time",
           "federal"
          ],
          [
           "Adani",
           "Carmichael",
           "Adani ’s",
           "company",
           "project",
           "coal",
           "royalty",
           "loan",
           "rail",
           "coalmine"
          ],
          [
           "Covid",
           "case",
           "health",
           "people",
           "NSW",
           "border",
           "Covid NUM",
           "test",
           "Victoria",
           "quarantine"
          ],
          [
           "US",
           "Trump",
           "read",
           "world",
           "sign",
           "Australia ’s",
           "World",
           "story",
           "inbox",
           "today"
          ],
          [
           "water",
           "environmental",
           "federal",
           "plan",
           "land",
           "project",
           "department",
           "environment",
           "clearing",
           "report"
          ],
          [
           "water",
           "environmental",
           "federal",
           "plan",
           "land",
           "project",
           "department",
           "environment",
           "clearing",
           "report"
          ],
          [
           "US",
           "Trump",
           "read",
           "world",
           "sign",
           "Australia ’s",
           "World",
           "story",
           "inbox",
           "today"
          ],
          [
           "Covid",
           "case",
           "health",
           "people",
           "NSW",
           "border",
           "Covid NUM",
           "test",
           "Victoria",
           "quarantine"
          ],
          [
           "US",
           "Trump",
           "read",
           "world",
           "sign",
           "Australia ’s",
           "World",
           "story",
           "inbox",
           "today"
          ],
          [
           "Gabba",
           "stadium",
           "Schrinner",
           "cricket",
           "AFL",
           "rebuild",
           "Adrian Schrinner",
           "lord mayor",
           "lord",
           "mayor Adrian"
          ],
          [
           "reduce rate",
           "australian premier",
           "say resource",
           "underneath",
           "fund Queensland",
           "concernsnum",
           "say great",
           "exact",
           "department spokesperson",
           "Anything"
          ],
          [
           "water",
           "environmental",
           "federal",
           "plan",
           "land",
           "project",
           "department",
           "environment",
           "clearing",
           "report"
          ],
          [
           "I",
           "people",
           " ",
           "like",
           "We",
           "just",
           "tell",
           "party",
           "time",
           "federal"
          ],
          [
           "water",
           "environmental",
           "federal",
           "plan",
           "land",
           "project",
           "department",
           "environment",
           "clearing",
           "report"
          ],
          [
           "US",
           "Trump",
           "read",
           "world",
           "sign",
           "Australia ’s",
           "World",
           "story",
           "inbox",
           "today"
          ],
          [
           "Adani",
           "Carmichael",
           "Adani ’s",
           "company",
           "project",
           "coal",
           "royalty",
           "loan",
           "rail",
           "coalmine"
          ],
          [
           "Adani",
           "Carmichael",
           "Adani ’s",
           "company",
           "project",
           "coal",
           "royalty",
           "loan",
           "rail",
           "coalmine"
          ],
          [
           "US",
           "Trump",
           "read",
           "world",
           "sign",
           "Australia ’s",
           "World",
           "story",
           "inbox",
           "today"
          ],
          [
           "housing",
           "NUMm",
           "cost",
           " ",
           "home",
           "num%",
           "We",
           "rent",
           "people",
           "saidNUM"
          ],
          [
           "water",
           "environmental",
           "federal",
           "plan",
           "land",
           "project",
           "department",
           "environment",
           "clearing",
           "report"
          ],
          [
           "forest",
           "hydro",
           "pump",
           "pump hydro",
           "glider",
           "log",
           "great glider",
           "Frecklington",
           "timber",
           "great"
          ],
          [
           "I",
           "people",
           " ",
           "like",
           "We",
           "just",
           "tell",
           "party",
           "time",
           "federal"
          ],
          [
           "US",
           "Trump",
           "read",
           "world",
           "sign",
           "Australia ’s",
           "World",
           "story",
           "inbox",
           "today"
          ],
          [
           "forest",
           "hydro",
           "pump",
           "pump hydro",
           "glider",
           "log",
           "great glider",
           "Frecklington",
           "timber",
           "great"
          ],
          [
           "water",
           "environmental",
           "federal",
           "plan",
           "land",
           "project",
           "department",
           "environment",
           "clearing",
           "report"
          ],
          [
           "Adani",
           "Carmichael",
           "Adani ’s",
           "company",
           "project",
           "coal",
           "royalty",
           "loan",
           "rail",
           "coalmine"
          ],
          [
           "I",
           "people",
           " ",
           "like",
           "We",
           "just",
           "tell",
           "party",
           "time",
           "federal"
          ],
          [
           "forest",
           "hydro",
           "pump",
           "pump hydro",
           "glider",
           "log",
           "great glider",
           "Frecklington",
           "timber",
           "great"
          ],
          [
           "Covid",
           "case",
           "health",
           "people",
           "NSW",
           "border",
           "Covid NUM",
           "test",
           "Victoria",
           "quarantine"
          ],
          [
           "gas",
           "Origin",
           "river",
           "fracke",
           "Lake",
           "oil",
           "basin",
           "channel",
           "company",
           "exploration"
          ],
          [
           "Gabba",
           "stadium",
           "Schrinner",
           "cricket",
           "AFL",
           "rebuild",
           "Adrian Schrinner",
           "lord mayor",
           "lord",
           "mayor Adrian"
          ],
          [
           "I",
           "people",
           " ",
           "like",
           "We",
           "just",
           "tell",
           "party",
           "time",
           "federal"
          ],
          [
           "housing",
           "NUMm",
           "cost",
           " ",
           "home",
           "num%",
           "We",
           "rent",
           "people",
           "saidNUM"
          ],
          [
           "housing",
           "NUMm",
           "cost",
           " ",
           "home",
           "num%",
           "We",
           "rent",
           "people",
           "saidNUM"
          ],
          [
           "reduce rate",
           "australian premier",
           "say resource",
           "underneath",
           "fund Queensland",
           "concernsnum",
           "say great",
           "exact",
           "department spokesperson",
           "Anything"
          ],
          [
           "Covid",
           "case",
           "health",
           "people",
           "NSW",
           "border",
           "Covid NUM",
           "test",
           "Victoria",
           "quarantine"
          ],
          [
           "Adani",
           "Carmichael",
           "Adani ’s",
           "company",
           "project",
           "coal",
           "royalty",
           "loan",
           "rail",
           "coalmine"
          ],
          [
           "Covid",
           "case",
           "health",
           "people",
           "NSW",
           "border",
           "Covid NUM",
           "test",
           "Victoria",
           "quarantine"
          ],
          [
           "Adani",
           "Carmichael",
           "Adani ’s",
           "company",
           "project",
           "coal",
           "royalty",
           "loan",
           "rail",
           "coalmine"
          ],
          [
           "housing",
           "NUMm",
           "cost",
           " ",
           "home",
           "num%",
           "We",
           "rent",
           "people",
           "saidNUM"
          ],
          [
           "US",
           "Trump",
           "read",
           "world",
           "sign",
           "Australia ’s",
           "World",
           "story",
           "inbox",
           "today"
          ],
          [
           "US",
           "Trump",
           "read",
           "world",
           "sign",
           "Australia ’s",
           "World",
           "story",
           "inbox",
           "today"
          ],
          [
           "reduce rate",
           "australian premier",
           "say resource",
           "underneath",
           "fund Queensland",
           "concernsnum",
           "say great",
           "exact",
           "department spokesperson",
           "Anything"
          ],
          [
           "US",
           "Trump",
           "read",
           "world",
           "sign",
           "Australia ’s",
           "World",
           "story",
           "inbox",
           "today"
          ],
          [
           "Adani",
           "Carmichael",
           "Adani ’s",
           "company",
           "project",
           "coal",
           "royalty",
           "loan",
           "rail",
           "coalmine"
          ],
          [
           "water",
           "environmental",
           "federal",
           "plan",
           "land",
           "project",
           "department",
           "environment",
           "clearing",
           "report"
          ],
          [
           "water",
           "environmental",
           "federal",
           "plan",
           "land",
           "project",
           "department",
           "environment",
           "clearing",
           "report"
          ],
          [
           "I",
           "people",
           " ",
           "like",
           "We",
           "just",
           "tell",
           "party",
           "time",
           "federal"
          ],
          [
           "reduce rate",
           "australian premier",
           "say resource",
           "underneath",
           "fund Queensland",
           "concernsnum",
           "say great",
           "exact",
           "department spokesperson",
           "Anything"
          ],
          [
           "water",
           "environmental",
           "federal",
           "plan",
           "land",
           "project",
           "department",
           "environment",
           "clearing",
           "report"
          ],
          [
           "Adani",
           "Carmichael",
           "Adani ’s",
           "company",
           "project",
           "coal",
           "royalty",
           "loan",
           "rail",
           "coalmine"
          ],
          [
           "Gabba",
           "stadium",
           "Schrinner",
           "cricket",
           "AFL",
           "rebuild",
           "Adrian Schrinner",
           "lord mayor",
           "lord",
           "mayor Adrian"
          ],
          [
           "water",
           "environmental",
           "federal",
           "plan",
           "land",
           "project",
           "department",
           "environment",
           "clearing",
           "report"
          ],
          [
           "police",
           "violence",
           "domestic",
           "woman",
           "officer",
           "domestic violence",
           "inquiry",
           "court",
           "law",
           "victim"
          ],
          [
           "Gabba",
           "stadium",
           "Schrinner",
           "cricket",
           "AFL",
           "rebuild",
           "Adrian Schrinner",
           "lord mayor",
           "lord",
           "mayor Adrian"
          ],
          [
           "water",
           "environmental",
           "federal",
           "plan",
           "land",
           "project",
           "department",
           "environment",
           "clearing",
           "report"
          ],
          [
           "water",
           "environmental",
           "federal",
           "plan",
           "land",
           "project",
           "department",
           "environment",
           "clearing",
           "report"
          ],
          [
           "I",
           "people",
           " ",
           "like",
           "We",
           "just",
           "tell",
           "party",
           "time",
           "federal"
          ],
          [
           "Adani",
           "Carmichael",
           "Adani ’s",
           "company",
           "project",
           "coal",
           "royalty",
           "loan",
           "rail",
           "coalmine"
          ],
          [
           "US",
           "Trump",
           "read",
           "world",
           "sign",
           "Australia ’s",
           "World",
           "story",
           "inbox",
           "today"
          ],
          [
           "US",
           "Trump",
           "read",
           "world",
           "sign",
           "Australia ’s",
           "World",
           "story",
           "inbox",
           "today"
          ],
          [
           "Covid",
           "case",
           "health",
           "people",
           "NSW",
           "border",
           "Covid NUM",
           "test",
           "Victoria",
           "quarantine"
          ],
          [
           "Gabba",
           "stadium",
           "Schrinner",
           "cricket",
           "AFL",
           "rebuild",
           "Adrian Schrinner",
           "lord mayor",
           "lord",
           "mayor Adrian"
          ],
          [
           "I",
           "people",
           " ",
           "like",
           "We",
           "just",
           "tell",
           "party",
           "time",
           "federal"
          ],
          [
           "water",
           "environmental",
           "federal",
           "plan",
           "land",
           "project",
           "department",
           "environment",
           "clearing",
           "report"
          ],
          [
           "reef",
           "Barrier",
           "Reef",
           "Great",
           "Great Barrier",
           "Barrier Reef",
           "climate",
           "coral",
           "world",
           "park"
          ],
          [
           "I",
           "people",
           " ",
           "like",
           "We",
           "just",
           "tell",
           "party",
           "time",
           "federal"
          ],
          [
           "reduce rate",
           "australian premier",
           "say resource",
           "underneath",
           "fund Queensland",
           "concernsnum",
           "say great",
           "exact",
           "department spokesperson",
           "Anything"
          ],
          [
           "reduce rate",
           "australian premier",
           "say resource",
           "underneath",
           "fund Queensland",
           "concernsnum",
           "say great",
           "exact",
           "department spokesperson",
           "Anything"
          ],
          [
           "Adani",
           "Carmichael",
           "Adani ’s",
           "company",
           "project",
           "coal",
           "royalty",
           "loan",
           "rail",
           "coalmine"
          ],
          [
           "US",
           "Trump",
           "read",
           "world",
           "sign",
           "Australia ’s",
           "World",
           "story",
           "inbox",
           "today"
          ],
          [
           "gas",
           "Origin",
           "river",
           "fracke",
           "Lake",
           "oil",
           "basin",
           "channel",
           "company",
           "exploration"
          ],
          [
           "water",
           "environmental",
           "federal",
           "plan",
           "land",
           "project",
           "department",
           "environment",
           "clearing",
           "report"
          ],
          [
           "forest",
           "hydro",
           "pump",
           "pump hydro",
           "glider",
           "log",
           "great glider",
           "Frecklington",
           "timber",
           "great"
          ],
          [
           "US",
           "Trump",
           "read",
           "world",
           "sign",
           "Australia ’s",
           "World",
           "story",
           "inbox",
           "today"
          ],
          [
           "reduce rate",
           "australian premier",
           "say resource",
           "underneath",
           "fund Queensland",
           "concernsnum",
           "say great",
           "exact",
           "department spokesperson",
           "Anything"
          ],
          [
           "I",
           "people",
           " ",
           "like",
           "We",
           "just",
           "tell",
           "party",
           "time",
           "federal"
          ],
          [
           "Covid",
           "case",
           "health",
           "people",
           "NSW",
           "border",
           "Covid NUM",
           "test",
           "Victoria",
           "quarantine"
          ],
          [
           "Covid",
           "case",
           "health",
           "people",
           "NSW",
           "border",
           "Covid NUM",
           "test",
           "Victoria",
           "quarantine"
          ],
          [
           "Adani",
           "Carmichael",
           "Adani ’s",
           "company",
           "project",
           "coal",
           "royalty",
           "loan",
           "rail",
           "coalmine"
          ],
          [
           "I",
           "people",
           " ",
           "like",
           "We",
           "just",
           "tell",
           "party",
           "time",
           "federal"
          ],
          [
           "child",
           "people",
           "youth",
           "young",
           "police",
           "watch",
           "house",
           "detention",
           "justice",
           "community"
          ],
          [
           "forest",
           "hydro",
           "pump",
           "pump hydro",
           "glider",
           "log",
           "great glider",
           "Frecklington",
           "timber",
           "great"
          ],
          [
           "US",
           "Trump",
           "read",
           "world",
           "sign",
           "Australia ’s",
           "World",
           "story",
           "inbox",
           "today"
          ],
          [
           "US",
           "Trump",
           "read",
           "world",
           "sign",
           "Australia ’s",
           "World",
           "story",
           "inbox",
           "today"
          ],
          [
           "water",
           "environmental",
           "federal",
           "plan",
           "land",
           "project",
           "department",
           "environment",
           "clearing",
           "report"
          ],
          [
           "I",
           "people",
           " ",
           "like",
           "We",
           "just",
           "tell",
           "party",
           "time",
           "federal"
          ],
          [
           "I",
           "people",
           " ",
           "like",
           "We",
           "just",
           "tell",
           "party",
           "time",
           "federal"
          ],
          [
           "Gabba",
           "stadium",
           "Schrinner",
           "cricket",
           "AFL",
           "rebuild",
           "Adrian Schrinner",
           "lord mayor",
           "lord",
           "mayor Adrian"
          ],
          [
           "water",
           "environmental",
           "federal",
           "plan",
           "land",
           "project",
           "department",
           "environment",
           "clearing",
           "report"
          ],
          [
           "forest",
           "hydro",
           "pump",
           "pump hydro",
           "glider",
           "log",
           "great glider",
           "Frecklington",
           "timber",
           "great"
          ],
          [
           "I",
           "people",
           " ",
           "like",
           "We",
           "just",
           "tell",
           "party",
           "time",
           "federal"
          ],
          [
           "Covid",
           "case",
           "health",
           "people",
           "NSW",
           "border",
           "Covid NUM",
           "test",
           "Victoria",
           "quarantine"
          ],
          [
           "forest",
           "hydro",
           "pump",
           "pump hydro",
           "glider",
           "log",
           "great glider",
           "Frecklington",
           "timber",
           "great"
          ],
          [
           "Gabba",
           "stadium",
           "Schrinner",
           "cricket",
           "AFL",
           "rebuild",
           "Adrian Schrinner",
           "lord mayor",
           "lord",
           "mayor Adrian"
          ],
          [
           "I",
           "people",
           " ",
           "like",
           "We",
           "just",
           "tell",
           "party",
           "time",
           "federal"
          ],
          [
           "reef",
           "Barrier",
           "Reef",
           "Great",
           "Great Barrier",
           "Barrier Reef",
           "climate",
           "coral",
           "world",
           "park"
          ],
          [
           "housing",
           "NUMm",
           "cost",
           " ",
           "home",
           "num%",
           "We",
           "rent",
           "people",
           "saidNUM"
          ],
          [
           "reduce rate",
           "australian premier",
           "say resource",
           "underneath",
           "fund Queensland",
           "concernsnum",
           "say great",
           "exact",
           "department spokesperson",
           "Anything"
          ],
          [
           "Covid",
           "case",
           "health",
           "people",
           "NSW",
           "border",
           "Covid NUM",
           "test",
           "Victoria",
           "quarantine"
          ],
          [
           "water",
           "environmental",
           "federal",
           "plan",
           "land",
           "project",
           "department",
           "environment",
           "clearing",
           "report"
          ],
          [
           "Adani",
           "Carmichael",
           "Adani ’s",
           "company",
           "project",
           "coal",
           "royalty",
           "loan",
           "rail",
           "coalmine"
          ],
          [
           "Covid",
           "case",
           "health",
           "people",
           "NSW",
           "border",
           "Covid NUM",
           "test",
           "Victoria",
           "quarantine"
          ],
          [
           "forest",
           "hydro",
           "pump",
           "pump hydro",
           "glider",
           "log",
           "great glider",
           "Frecklington",
           "timber",
           "great"
          ],
          [
           "water",
           "environmental",
           "federal",
           "plan",
           "land",
           "project",
           "department",
           "environment",
           "clearing",
           "report"
          ],
          [
           "Adani",
           "Carmichael",
           "Adani ’s",
           "company",
           "project",
           "coal",
           "royalty",
           "loan",
           "rail",
           "coalmine"
          ],
          [
           "reduce rate",
           "australian premier",
           "say resource",
           "underneath",
           "fund Queensland",
           "concernsnum",
           "say great",
           "exact",
           "department spokesperson",
           "Anything"
          ],
          [
           "Adani",
           "Carmichael",
           "Adani ’s",
           "company",
           "project",
           "coal",
           "royalty",
           "loan",
           "rail",
           "coalmine"
          ],
          [
           "water",
           "environmental",
           "federal",
           "plan",
           "land",
           "project",
           "department",
           "environment",
           "clearing",
           "report"
          ],
          [
           "forest",
           "hydro",
           "pump",
           "pump hydro",
           "glider",
           "log",
           "great glider",
           "Frecklington",
           "timber",
           "great"
          ],
          [
           "water",
           "environmental",
           "federal",
           "plan",
           "land",
           "project",
           "department",
           "environment",
           "clearing",
           "report"
          ],
          [
           "coal",
           "energy",
           "power",
           "renewable",
           "climate",
           "Labor",
           "emission",
           "price",
           "project",
           "job"
          ],
          [
           "Adani",
           "Carmichael",
           "Adani ’s",
           "company",
           "project",
           "coal",
           "royalty",
           "loan",
           "rail",
           "coalmine"
          ],
          [
           "Covid",
           "case",
           "health",
           "people",
           "NSW",
           "border",
           "Covid NUM",
           "test",
           "Victoria",
           "quarantine"
          ],
          [
           "water",
           "environmental",
           "federal",
           "plan",
           "land",
           "project",
           "department",
           "environment",
           "clearing",
           "report"
          ],
          [
           "water",
           "environmental",
           "federal",
           "plan",
           "land",
           "project",
           "department",
           "environment",
           "clearing",
           "report"
          ],
          [
           "water",
           "environmental",
           "federal",
           "plan",
           "land",
           "project",
           "department",
           "environment",
           "clearing",
           "report"
          ],
          [
           "I",
           "people",
           " ",
           "like",
           "We",
           "just",
           "tell",
           "party",
           "time",
           "federal"
          ],
          [
           "reduce rate",
           "australian premier",
           "say resource",
           "underneath",
           "fund Queensland",
           "concernsnum",
           "say great",
           "exact",
           "department spokesperson",
           "Anything"
          ],
          [
           "US",
           "Trump",
           "read",
           "world",
           "sign",
           "Australia ’s",
           "World",
           "story",
           "inbox",
           "today"
          ],
          [
           "reduce rate",
           "australian premier",
           "say resource",
           "underneath",
           "fund Queensland",
           "concernsnum",
           "say great",
           "exact",
           "department spokesperson",
           "Anything"
          ],
          [
           "housing",
           "NUMm",
           "cost",
           " ",
           "home",
           "num%",
           "We",
           "rent",
           "people",
           "saidNUM"
          ],
          [
           "reduce rate",
           "australian premier",
           "say resource",
           "underneath",
           "fund Queensland",
           "concernsnum",
           "say great",
           "exact",
           "department spokesperson",
           "Anything"
          ],
          [
           "I",
           "people",
           " ",
           "like",
           "We",
           "just",
           "tell",
           "party",
           "time",
           "federal"
          ],
          [
           "forest",
           "hydro",
           "pump",
           "pump hydro",
           "glider",
           "log",
           "great glider",
           "Frecklington",
           "timber",
           "great"
          ],
          [
           "I",
           "people",
           " ",
           "like",
           "We",
           "just",
           "tell",
           "party",
           "time",
           "federal"
          ],
          [
           "water",
           "environmental",
           "federal",
           "plan",
           "land",
           "project",
           "department",
           "environment",
           "clearing",
           "report"
          ],
          [
           "water",
           "environmental",
           "federal",
           "plan",
           "land",
           "project",
           "department",
           "environment",
           "clearing",
           "report"
          ],
          [
           "Adani",
           "Carmichael",
           "Adani ’s",
           "company",
           "project",
           "coal",
           "royalty",
           "loan",
           "rail",
           "coalmine"
          ],
          [
           "water",
           "environmental",
           "federal",
           "plan",
           "land",
           "project",
           "department",
           "environment",
           "clearing",
           "report"
          ],
          [
           "reduce rate",
           "australian premier",
           "say resource",
           "underneath",
           "fund Queensland",
           "concernsnum",
           "say great",
           "exact",
           "department spokesperson",
           "Anything"
          ],
          [
           "Gabba",
           "stadium",
           "Schrinner",
           "cricket",
           "AFL",
           "rebuild",
           "Adrian Schrinner",
           "lord mayor",
           "lord",
           "mayor Adrian"
          ],
          [
           "I",
           "people",
           " ",
           "like",
           "We",
           "just",
           "tell",
           "party",
           "time",
           "federal"
          ],
          [
           "Covid",
           "case",
           "health",
           "people",
           "NSW",
           "border",
           "Covid NUM",
           "test",
           "Victoria",
           "quarantine"
          ],
          [
           "water",
           "environmental",
           "federal",
           "plan",
           "land",
           "project",
           "department",
           "environment",
           "clearing",
           "report"
          ],
          [
           "Covid",
           "case",
           "health",
           "people",
           "NSW",
           "border",
           "Covid NUM",
           "test",
           "Victoria",
           "quarantine"
          ],
          [
           "forest",
           "hydro",
           "pump",
           "pump hydro",
           "glider",
           "log",
           "great glider",
           "Frecklington",
           "timber",
           "great"
          ],
          [
           "US",
           "Trump",
           "read",
           "world",
           "sign",
           "Australia ’s",
           "World",
           "story",
           "inbox",
           "today"
          ],
          [
           "Gabba",
           "stadium",
           "Schrinner",
           "cricket",
           "AFL",
           "rebuild",
           "Adrian Schrinner",
           "lord mayor",
           "lord",
           "mayor Adrian"
          ],
          [
           "forest",
           "hydro",
           "pump",
           "pump hydro",
           "glider",
           "log",
           "great glider",
           "Frecklington",
           "timber",
           "great"
          ],
          [
           "forest",
           "hydro",
           "pump",
           "pump hydro",
           "glider",
           "log",
           "great glider",
           "Frecklington",
           "timber",
           "great"
          ],
          [
           "water",
           "environmental",
           "federal",
           "plan",
           "land",
           "project",
           "department",
           "environment",
           "clearing",
           "report"
          ],
          [
           "Covid",
           "case",
           "health",
           "people",
           "NSW",
           "border",
           "Covid NUM",
           "test",
           "Victoria",
           "quarantine"
          ],
          [
           "I",
           "people",
           " ",
           "like",
           "We",
           "just",
           "tell",
           "party",
           "time",
           "federal"
          ],
          [
           "Covid",
           "case",
           "health",
           "people",
           "NSW",
           "border",
           "Covid NUM",
           "test",
           "Victoria",
           "quarantine"
          ],
          [
           "water",
           "environmental",
           "federal",
           "plan",
           "land",
           "project",
           "department",
           "environment",
           "clearing",
           "report"
          ],
          [
           "forest",
           "hydro",
           "pump",
           "pump hydro",
           "glider",
           "log",
           "great glider",
           "Frecklington",
           "timber",
           "great"
          ],
          [
           "Gabba",
           "stadium",
           "Schrinner",
           "cricket",
           "AFL",
           "rebuild",
           "Adrian Schrinner",
           "lord mayor",
           "lord",
           "mayor Adrian"
          ],
          [
           "forest",
           "hydro",
           "pump",
           "pump hydro",
           "glider",
           "log",
           "great glider",
           "Frecklington",
           "timber",
           "great"
          ],
          [
           "water",
           "environmental",
           "federal",
           "plan",
           "land",
           "project",
           "department",
           "environment",
           "clearing",
           "report"
          ],
          [
           "I",
           "people",
           " ",
           "like",
           "We",
           "just",
           "tell",
           "party",
           "time",
           "federal"
          ],
          [
           "water",
           "environmental",
           "federal",
           "plan",
           "land",
           "project",
           "department",
           "environment",
           "clearing",
           "report"
          ],
          [
           "I",
           "people",
           " ",
           "like",
           "We",
           "just",
           "tell",
           "party",
           "time",
           "federal"
          ],
          [
           "reduce rate",
           "australian premier",
           "say resource",
           "underneath",
           "fund Queensland",
           "concernsnum",
           "say great",
           "exact",
           "department spokesperson",
           "Anything"
          ],
          [
           "forest",
           "hydro",
           "pump",
           "pump hydro",
           "glider",
           "log",
           "great glider",
           "Frecklington",
           "timber",
           "great"
          ],
          [
           "Adani",
           "Carmichael",
           "Adani ’s",
           "company",
           "project",
           "coal",
           "royalty",
           "loan",
           "rail",
           "coalmine"
          ],
          [
           "reduce rate",
           "australian premier",
           "say resource",
           "underneath",
           "fund Queensland",
           "concernsnum",
           "say great",
           "exact",
           "department spokesperson",
           "Anything"
          ],
          [
           "forest",
           "hydro",
           "pump",
           "pump hydro",
           "glider",
           "log",
           "great glider",
           "Frecklington",
           "timber",
           "great"
          ],
          [
           "I",
           "people",
           " ",
           "like",
           "We",
           "just",
           "tell",
           "party",
           "time",
           "federal"
          ],
          [
           "I",
           "people",
           " ",
           "like",
           "We",
           "just",
           "tell",
           "party",
           "time",
           "federal"
          ],
          [
           "Adani",
           "Carmichael",
           "Adani ’s",
           "company",
           "project",
           "coal",
           "royalty",
           "loan",
           "rail",
           "coalmine"
          ],
          [
           "Adani",
           "Carmichael",
           "Adani ’s",
           "company",
           "project",
           "coal",
           "royalty",
           "loan",
           "rail",
           "coalmine"
          ],
          [
           "I",
           "people",
           " ",
           "like",
           "We",
           "just",
           "tell",
           "party",
           "time",
           "federal"
          ],
          [
           "water",
           "environmental",
           "federal",
           "plan",
           "land",
           "project",
           "department",
           "environment",
           "clearing",
           "report"
          ],
          [
           "Adani",
           "Carmichael",
           "Adani ’s",
           "company",
           "project",
           "coal",
           "royalty",
           "loan",
           "rail",
           "coalmine"
          ],
          [
           "I",
           "people",
           " ",
           "like",
           "We",
           "just",
           "tell",
           "party",
           "time",
           "federal"
          ],
          [
           "forest",
           "hydro",
           "pump",
           "pump hydro",
           "glider",
           "log",
           "great glider",
           "Frecklington",
           "timber",
           "great"
          ],
          [
           "child",
           "people",
           "youth",
           "young",
           "police",
           "watch",
           "house",
           "detention",
           "justice",
           "community"
          ],
          [
           "I",
           "people",
           " ",
           "like",
           "We",
           "just",
           "tell",
           "party",
           "time",
           "federal"
          ],
          [
           "water",
           "environmental",
           "federal",
           "plan",
           "land",
           "project",
           "department",
           "environment",
           "clearing",
           "report"
          ],
          [
           "I",
           "people",
           " ",
           "like",
           "We",
           "just",
           "tell",
           "party",
           "time",
           "federal"
          ],
          [
           "I",
           "people",
           " ",
           "like",
           "We",
           "just",
           "tell",
           "party",
           "time",
           "federal"
          ],
          [
           "housing",
           "NUMm",
           "cost",
           " ",
           "home",
           "num%",
           "We",
           "rent",
           "people",
           "saidNUM"
          ],
          [
           "Adani",
           "Carmichael",
           "Adani ’s",
           "company",
           "project",
           "coal",
           "royalty",
           "loan",
           "rail",
           "coalmine"
          ],
          [
           "forest",
           "hydro",
           "pump",
           "pump hydro",
           "glider",
           "log",
           "great glider",
           "Frecklington",
           "timber",
           "great"
          ],
          [
           "US",
           "Trump",
           "read",
           "world",
           "sign",
           "Australia ’s",
           "World",
           "story",
           "inbox",
           "today"
          ],
          [
           "I",
           "people",
           " ",
           "like",
           "We",
           "just",
           "tell",
           "party",
           "time",
           "federal"
          ],
          [
           "reduce rate",
           "australian premier",
           "say resource",
           "underneath",
           "fund Queensland",
           "concernsnum",
           "say great",
           "exact",
           "department spokesperson",
           "Anything"
          ],
          [
           "Gabba",
           "stadium",
           "Schrinner",
           "cricket",
           "AFL",
           "rebuild",
           "Adrian Schrinner",
           "lord mayor",
           "lord",
           "mayor Adrian"
          ],
          [
           "water",
           "environmental",
           "federal",
           "plan",
           "land",
           "project",
           "department",
           "environment",
           "clearing",
           "report"
          ],
          [
           "I",
           "people",
           " ",
           "like",
           "We",
           "just",
           "tell",
           "party",
           "time",
           "federal"
          ],
          [
           "housing",
           "NUMm",
           "cost",
           " ",
           "home",
           "num%",
           "We",
           "rent",
           "people",
           "saidNUM"
          ],
          [
           "I",
           "people",
           " ",
           "like",
           "We",
           "just",
           "tell",
           "party",
           "time",
           "federal"
          ],
          [
           "I",
           "people",
           " ",
           "like",
           "We",
           "just",
           "tell",
           "party",
           "time",
           "federal"
          ],
          [
           "water",
           "environmental",
           "federal",
           "plan",
           "land",
           "project",
           "department",
           "environment",
           "clearing",
           "report"
          ],
          [
           "housing",
           "NUMm",
           "cost",
           " ",
           "home",
           "num%",
           "We",
           "rent",
           "people",
           "saidNUM"
          ],
          [
           "forest",
           "hydro",
           "pump",
           "pump hydro",
           "glider",
           "log",
           "great glider",
           "Frecklington",
           "timber",
           "great"
          ],
          [
           "I",
           "people",
           " ",
           "like",
           "We",
           "just",
           "tell",
           "party",
           "time",
           "federal"
          ],
          [
           "I",
           "people",
           " ",
           "like",
           "We",
           "just",
           "tell",
           "party",
           "time",
           "federal"
          ],
          [
           "water",
           "environmental",
           "federal",
           "plan",
           "land",
           "project",
           "department",
           "environment",
           "clearing",
           "report"
          ],
          [
           "Adani",
           "Carmichael",
           "Adani ’s",
           "company",
           "project",
           "coal",
           "royalty",
           "loan",
           "rail",
           "coalmine"
          ],
          [
           "water",
           "environmental",
           "federal",
           "plan",
           "land",
           "project",
           "department",
           "environment",
           "clearing",
           "report"
          ],
          [
           "reduce rate",
           "australian premier",
           "say resource",
           "underneath",
           "fund Queensland",
           "concernsnum",
           "say great",
           "exact",
           "department spokesperson",
           "Anything"
          ],
          [
           "water",
           "environmental",
           "federal",
           "plan",
           "land",
           "project",
           "department",
           "environment",
           "clearing",
           "report"
          ],
          [
           "reduce rate",
           "australian premier",
           "say resource",
           "underneath",
           "fund Queensland",
           "concernsnum",
           "say great",
           "exact",
           "department spokesperson",
           "Anything"
          ],
          [
           "Covid",
           "case",
           "health",
           "people",
           "NSW",
           "border",
           "Covid NUM",
           "test",
           "Victoria",
           "quarantine"
          ],
          [
           "reef",
           "Barrier",
           "Reef",
           "Great",
           "Great Barrier",
           "Barrier Reef",
           "climate",
           "coral",
           "world",
           "park"
          ],
          [
           "Gabba",
           "stadium",
           "Schrinner",
           "cricket",
           "AFL",
           "rebuild",
           "Adrian Schrinner",
           "lord mayor",
           "lord",
           "mayor Adrian"
          ],
          [
           "coal",
           "energy",
           "power",
           "renewable",
           "climate",
           "Labor",
           "emission",
           "price",
           "project",
           "job"
          ],
          [
           "Gabba",
           "stadium",
           "Schrinner",
           "cricket",
           "AFL",
           "rebuild",
           "Adrian Schrinner",
           "lord mayor",
           "lord",
           "mayor Adrian"
          ],
          [
           "coal",
           "energy",
           "power",
           "renewable",
           "climate",
           "Labor",
           "emission",
           "price",
           "project",
           "job"
          ],
          [
           "police",
           "violence",
           "domestic",
           "woman",
           "officer",
           "domestic violence",
           "inquiry",
           "court",
           "law",
           "victim"
          ],
          [
           "water",
           "environmental",
           "federal",
           "plan",
           "land",
           "project",
           "department",
           "environment",
           "clearing",
           "report"
          ],
          [
           "Adani",
           "Carmichael",
           "Adani ’s",
           "company",
           "project",
           "coal",
           "royalty",
           "loan",
           "rail",
           "coalmine"
          ],
          [
           "I",
           "people",
           " ",
           "like",
           "We",
           "just",
           "tell",
           "party",
           "time",
           "federal"
          ],
          [
           "reduce rate",
           "australian premier",
           "say resource",
           "underneath",
           "fund Queensland",
           "concernsnum",
           "say great",
           "exact",
           "department spokesperson",
           "Anything"
          ],
          [
           "I",
           "people",
           " ",
           "like",
           "We",
           "just",
           "tell",
           "party",
           "time",
           "federal"
          ],
          [
           "forest",
           "hydro",
           "pump",
           "pump hydro",
           "glider",
           "log",
           "great glider",
           "Frecklington",
           "timber",
           "great"
          ],
          [
           "Adani",
           "Carmichael",
           "Adani ’s",
           "company",
           "project",
           "coal",
           "royalty",
           "loan",
           "rail",
           "coalmine"
          ],
          [
           "gas",
           "Origin",
           "river",
           "fracke",
           "Lake",
           "oil",
           "basin",
           "channel",
           "company",
           "exploration"
          ],
          [
           "reduce rate",
           "australian premier",
           "say resource",
           "underneath",
           "fund Queensland",
           "concernsnum",
           "say great",
           "exact",
           "department spokesperson",
           "Anything"
          ],
          [
           "coal",
           "energy",
           "power",
           "renewable",
           "climate",
           "Labor",
           "emission",
           "price",
           "project",
           "job"
          ],
          [
           "forest",
           "hydro",
           "pump",
           "pump hydro",
           "glider",
           "log",
           "great glider",
           "Frecklington",
           "timber",
           "great"
          ],
          [
           "Adani",
           "Carmichael",
           "Adani ’s",
           "company",
           "project",
           "coal",
           "royalty",
           "loan",
           "rail",
           "coalmine"
          ],
          [
           "Gabba",
           "stadium",
           "Schrinner",
           "cricket",
           "AFL",
           "rebuild",
           "Adrian Schrinner",
           "lord mayor",
           "lord",
           "mayor Adrian"
          ],
          [
           "Adani",
           "Carmichael",
           "Adani ’s",
           "company",
           "project",
           "coal",
           "royalty",
           "loan",
           "rail",
           "coalmine"
          ],
          [
           "water",
           "environmental",
           "federal",
           "plan",
           "land",
           "project",
           "department",
           "environment",
           "clearing",
           "report"
          ],
          [
           "I",
           "people",
           " ",
           "like",
           "We",
           "just",
           "tell",
           "party",
           "time",
           "federal"
          ],
          [
           "Adani",
           "Carmichael",
           "Adani ’s",
           "company",
           "project",
           "coal",
           "royalty",
           "loan",
           "rail",
           "coalmine"
          ],
          [
           "coal",
           "energy",
           "power",
           "renewable",
           "climate",
           "Labor",
           "emission",
           "price",
           "project",
           "job"
          ],
          [
           "coal",
           "energy",
           "power",
           "renewable",
           "climate",
           "Labor",
           "emission",
           "price",
           "project",
           "job"
          ],
          [
           "forest",
           "hydro",
           "pump",
           "pump hydro",
           "glider",
           "log",
           "great glider",
           "Frecklington",
           "timber",
           "great"
          ],
          [
           "Adani",
           "Carmichael",
           "Adani ’s",
           "company",
           "project",
           "coal",
           "royalty",
           "loan",
           "rail",
           "coalmine"
          ],
          [
           "reduce rate",
           "australian premier",
           "say resource",
           "underneath",
           "fund Queensland",
           "concernsnum",
           "say great",
           "exact",
           "department spokesperson",
           "Anything"
          ],
          [
           "I",
           "people",
           " ",
           "like",
           "We",
           "just",
           "tell",
           "party",
           "time",
           "federal"
          ],
          [
           "Adani",
           "Carmichael",
           "Adani ’s",
           "company",
           "project",
           "coal",
           "royalty",
           "loan",
           "rail",
           "coalmine"
          ],
          [
           "forest",
           "hydro",
           "pump",
           "pump hydro",
           "glider",
           "log",
           "great glider",
           "Frecklington",
           "timber",
           "great"
          ],
          [
           "water",
           "environmental",
           "federal",
           "plan",
           "land",
           "project",
           "department",
           "environment",
           "clearing",
           "report"
          ],
          [
           "US",
           "Trump",
           "read",
           "world",
           "sign",
           "Australia ’s",
           "World",
           "story",
           "inbox",
           "today"
          ],
          [
           "Adani",
           "Carmichael",
           "Adani ’s",
           "company",
           "project",
           "coal",
           "royalty",
           "loan",
           "rail",
           "coalmine"
          ],
          [
           "reduce rate",
           "australian premier",
           "say resource",
           "underneath",
           "fund Queensland",
           "concernsnum",
           "say great",
           "exact",
           "department spokesperson",
           "Anything"
          ],
          [
           "forest",
           "hydro",
           "pump",
           "pump hydro",
           "glider",
           "log",
           "great glider",
           "Frecklington",
           "timber",
           "great"
          ],
          [
           "reduce rate",
           "australian premier",
           "say resource",
           "underneath",
           "fund Queensland",
           "concernsnum",
           "say great",
           "exact",
           "department spokesperson",
           "Anything"
          ],
          [
           "I",
           "people",
           " ",
           "like",
           "We",
           "just",
           "tell",
           "party",
           "time",
           "federal"
          ],
          [
           "Gabba",
           "stadium",
           "Schrinner",
           "cricket",
           "AFL",
           "rebuild",
           "Adrian Schrinner",
           "lord mayor",
           "lord",
           "mayor Adrian"
          ],
          [
           "housing",
           "NUMm",
           "cost",
           " ",
           "home",
           "num%",
           "We",
           "rent",
           "people",
           "saidNUM"
          ],
          [
           "I",
           "people",
           " ",
           "like",
           "We",
           "just",
           "tell",
           "party",
           "time",
           "federal"
          ],
          [
           "reduce rate",
           "australian premier",
           "say resource",
           "underneath",
           "fund Queensland",
           "concernsnum",
           "say great",
           "exact",
           "department spokesperson",
           "Anything"
          ],
          [
           "Covid",
           "case",
           "health",
           "people",
           "NSW",
           "border",
           "Covid NUM",
           "test",
           "Victoria",
           "quarantine"
          ],
          [
           "Adani",
           "Carmichael",
           "Adani ’s",
           "company",
           "project",
           "coal",
           "royalty",
           "loan",
           "rail",
           "coalmine"
          ],
          [
           "Gabba",
           "stadium",
           "Schrinner",
           "cricket",
           "AFL",
           "rebuild",
           "Adrian Schrinner",
           "lord mayor",
           "lord",
           "mayor Adrian"
          ],
          [
           "housing",
           "NUMm",
           "cost",
           " ",
           "home",
           "num%",
           "We",
           "rent",
           "people",
           "saidNUM"
          ],
          [
           "Gabba",
           "stadium",
           "Schrinner",
           "cricket",
           "AFL",
           "rebuild",
           "Adrian Schrinner",
           "lord mayor",
           "lord",
           "mayor Adrian"
          ],
          [
           "I",
           "people",
           " ",
           "like",
           "We",
           "just",
           "tell",
           "party",
           "time",
           "federal"
          ],
          [
           "I",
           "people",
           " ",
           "like",
           "We",
           "just",
           "tell",
           "party",
           "time",
           "federal"
          ],
          [
           "reduce rate",
           "australian premier",
           "say resource",
           "underneath",
           "fund Queensland",
           "concernsnum",
           "say great",
           "exact",
           "department spokesperson",
           "Anything"
          ],
          [
           "coal",
           "energy",
           "power",
           "renewable",
           "climate",
           "Labor",
           "emission",
           "price",
           "project",
           "job"
          ]
         ],
         "xaxis": "x",
         "yaxis": "y"
        }
       ],
       "layout": {
        "barmode": "relative",
        "legend": {
         "tracegroupgap": 0
        },
        "margin": {
         "t": 60
        },
        "template": {
         "data": {
          "bar": [
           {
            "error_x": {
             "color": "#2a3f5f"
            },
            "error_y": {
             "color": "#2a3f5f"
            },
            "marker": {
             "line": {
              "color": "#E5ECF6",
              "width": 0.5
             },
             "pattern": {
              "fillmode": "overlay",
              "size": 10,
              "solidity": 0.2
             }
            },
            "type": "bar"
           }
          ],
          "barpolar": [
           {
            "marker": {
             "line": {
              "color": "#E5ECF6",
              "width": 0.5
             },
             "pattern": {
              "fillmode": "overlay",
              "size": 10,
              "solidity": 0.2
             }
            },
            "type": "barpolar"
           }
          ],
          "carpet": [
           {
            "aaxis": {
             "endlinecolor": "#2a3f5f",
             "gridcolor": "white",
             "linecolor": "white",
             "minorgridcolor": "white",
             "startlinecolor": "#2a3f5f"
            },
            "baxis": {
             "endlinecolor": "#2a3f5f",
             "gridcolor": "white",
             "linecolor": "white",
             "minorgridcolor": "white",
             "startlinecolor": "#2a3f5f"
            },
            "type": "carpet"
           }
          ],
          "choropleth": [
           {
            "colorbar": {
             "outlinewidth": 0,
             "ticks": ""
            },
            "type": "choropleth"
           }
          ],
          "contour": [
           {
            "colorbar": {
             "outlinewidth": 0,
             "ticks": ""
            },
            "colorscale": [
             [
              0,
              "#0d0887"
             ],
             [
              0.1111111111111111,
              "#46039f"
             ],
             [
              0.2222222222222222,
              "#7201a8"
             ],
             [
              0.3333333333333333,
              "#9c179e"
             ],
             [
              0.4444444444444444,
              "#bd3786"
             ],
             [
              0.5555555555555556,
              "#d8576b"
             ],
             [
              0.6666666666666666,
              "#ed7953"
             ],
             [
              0.7777777777777778,
              "#fb9f3a"
             ],
             [
              0.8888888888888888,
              "#fdca26"
             ],
             [
              1,
              "#f0f921"
             ]
            ],
            "type": "contour"
           }
          ],
          "contourcarpet": [
           {
            "colorbar": {
             "outlinewidth": 0,
             "ticks": ""
            },
            "type": "contourcarpet"
           }
          ],
          "heatmap": [
           {
            "colorbar": {
             "outlinewidth": 0,
             "ticks": ""
            },
            "colorscale": [
             [
              0,
              "#0d0887"
             ],
             [
              0.1111111111111111,
              "#46039f"
             ],
             [
              0.2222222222222222,
              "#7201a8"
             ],
             [
              0.3333333333333333,
              "#9c179e"
             ],
             [
              0.4444444444444444,
              "#bd3786"
             ],
             [
              0.5555555555555556,
              "#d8576b"
             ],
             [
              0.6666666666666666,
              "#ed7953"
             ],
             [
              0.7777777777777778,
              "#fb9f3a"
             ],
             [
              0.8888888888888888,
              "#fdca26"
             ],
             [
              1,
              "#f0f921"
             ]
            ],
            "type": "heatmap"
           }
          ],
          "heatmapgl": [
           {
            "colorbar": {
             "outlinewidth": 0,
             "ticks": ""
            },
            "colorscale": [
             [
              0,
              "#0d0887"
             ],
             [
              0.1111111111111111,
              "#46039f"
             ],
             [
              0.2222222222222222,
              "#7201a8"
             ],
             [
              0.3333333333333333,
              "#9c179e"
             ],
             [
              0.4444444444444444,
              "#bd3786"
             ],
             [
              0.5555555555555556,
              "#d8576b"
             ],
             [
              0.6666666666666666,
              "#ed7953"
             ],
             [
              0.7777777777777778,
              "#fb9f3a"
             ],
             [
              0.8888888888888888,
              "#fdca26"
             ],
             [
              1,
              "#f0f921"
             ]
            ],
            "type": "heatmapgl"
           }
          ],
          "histogram": [
           {
            "marker": {
             "pattern": {
              "fillmode": "overlay",
              "size": 10,
              "solidity": 0.2
             }
            },
            "type": "histogram"
           }
          ],
          "histogram2d": [
           {
            "colorbar": {
             "outlinewidth": 0,
             "ticks": ""
            },
            "colorscale": [
             [
              0,
              "#0d0887"
             ],
             [
              0.1111111111111111,
              "#46039f"
             ],
             [
              0.2222222222222222,
              "#7201a8"
             ],
             [
              0.3333333333333333,
              "#9c179e"
             ],
             [
              0.4444444444444444,
              "#bd3786"
             ],
             [
              0.5555555555555556,
              "#d8576b"
             ],
             [
              0.6666666666666666,
              "#ed7953"
             ],
             [
              0.7777777777777778,
              "#fb9f3a"
             ],
             [
              0.8888888888888888,
              "#fdca26"
             ],
             [
              1,
              "#f0f921"
             ]
            ],
            "type": "histogram2d"
           }
          ],
          "histogram2dcontour": [
           {
            "colorbar": {
             "outlinewidth": 0,
             "ticks": ""
            },
            "colorscale": [
             [
              0,
              "#0d0887"
             ],
             [
              0.1111111111111111,
              "#46039f"
             ],
             [
              0.2222222222222222,
              "#7201a8"
             ],
             [
              0.3333333333333333,
              "#9c179e"
             ],
             [
              0.4444444444444444,
              "#bd3786"
             ],
             [
              0.5555555555555556,
              "#d8576b"
             ],
             [
              0.6666666666666666,
              "#ed7953"
             ],
             [
              0.7777777777777778,
              "#fb9f3a"
             ],
             [
              0.8888888888888888,
              "#fdca26"
             ],
             [
              1,
              "#f0f921"
             ]
            ],
            "type": "histogram2dcontour"
           }
          ],
          "mesh3d": [
           {
            "colorbar": {
             "outlinewidth": 0,
             "ticks": ""
            },
            "type": "mesh3d"
           }
          ],
          "parcoords": [
           {
            "line": {
             "colorbar": {
              "outlinewidth": 0,
              "ticks": ""
             }
            },
            "type": "parcoords"
           }
          ],
          "pie": [
           {
            "automargin": true,
            "type": "pie"
           }
          ],
          "scatter": [
           {
            "fillpattern": {
             "fillmode": "overlay",
             "size": 10,
             "solidity": 0.2
            },
            "type": "scatter"
           }
          ],
          "scatter3d": [
           {
            "line": {
             "colorbar": {
              "outlinewidth": 0,
              "ticks": ""
             }
            },
            "marker": {
             "colorbar": {
              "outlinewidth": 0,
              "ticks": ""
             }
            },
            "type": "scatter3d"
           }
          ],
          "scattercarpet": [
           {
            "marker": {
             "colorbar": {
              "outlinewidth": 0,
              "ticks": ""
             }
            },
            "type": "scattercarpet"
           }
          ],
          "scattergeo": [
           {
            "marker": {
             "colorbar": {
              "outlinewidth": 0,
              "ticks": ""
             }
            },
            "type": "scattergeo"
           }
          ],
          "scattergl": [
           {
            "marker": {
             "colorbar": {
              "outlinewidth": 0,
              "ticks": ""
             }
            },
            "type": "scattergl"
           }
          ],
          "scattermapbox": [
           {
            "marker": {
             "colorbar": {
              "outlinewidth": 0,
              "ticks": ""
             }
            },
            "type": "scattermapbox"
           }
          ],
          "scatterpolar": [
           {
            "marker": {
             "colorbar": {
              "outlinewidth": 0,
              "ticks": ""
             }
            },
            "type": "scatterpolar"
           }
          ],
          "scatterpolargl": [
           {
            "marker": {
             "colorbar": {
              "outlinewidth": 0,
              "ticks": ""
             }
            },
            "type": "scatterpolargl"
           }
          ],
          "scatterternary": [
           {
            "marker": {
             "colorbar": {
              "outlinewidth": 0,
              "ticks": ""
             }
            },
            "type": "scatterternary"
           }
          ],
          "surface": [
           {
            "colorbar": {
             "outlinewidth": 0,
             "ticks": ""
            },
            "colorscale": [
             [
              0,
              "#0d0887"
             ],
             [
              0.1111111111111111,
              "#46039f"
             ],
             [
              0.2222222222222222,
              "#7201a8"
             ],
             [
              0.3333333333333333,
              "#9c179e"
             ],
             [
              0.4444444444444444,
              "#bd3786"
             ],
             [
              0.5555555555555556,
              "#d8576b"
             ],
             [
              0.6666666666666666,
              "#ed7953"
             ],
             [
              0.7777777777777778,
              "#fb9f3a"
             ],
             [
              0.8888888888888888,
              "#fdca26"
             ],
             [
              1,
              "#f0f921"
             ]
            ],
            "type": "surface"
           }
          ],
          "table": [
           {
            "cells": {
             "fill": {
              "color": "#EBF0F8"
             },
             "line": {
              "color": "white"
             }
            },
            "header": {
             "fill": {
              "color": "#C8D4E3"
             },
             "line": {
              "color": "white"
             }
            },
            "type": "table"
           }
          ]
         },
         "layout": {
          "annotationdefaults": {
           "arrowcolor": "#2a3f5f",
           "arrowhead": 0,
           "arrowwidth": 1
          },
          "autotypenumbers": "strict",
          "coloraxis": {
           "colorbar": {
            "outlinewidth": 0,
            "ticks": ""
           }
          },
          "colorscale": {
           "diverging": [
            [
             0,
             "#8e0152"
            ],
            [
             0.1,
             "#c51b7d"
            ],
            [
             0.2,
             "#de77ae"
            ],
            [
             0.3,
             "#f1b6da"
            ],
            [
             0.4,
             "#fde0ef"
            ],
            [
             0.5,
             "#f7f7f7"
            ],
            [
             0.6,
             "#e6f5d0"
            ],
            [
             0.7,
             "#b8e186"
            ],
            [
             0.8,
             "#7fbc41"
            ],
            [
             0.9,
             "#4d9221"
            ],
            [
             1,
             "#276419"
            ]
           ],
           "sequential": [
            [
             0,
             "#0d0887"
            ],
            [
             0.1111111111111111,
             "#46039f"
            ],
            [
             0.2222222222222222,
             "#7201a8"
            ],
            [
             0.3333333333333333,
             "#9c179e"
            ],
            [
             0.4444444444444444,
             "#bd3786"
            ],
            [
             0.5555555555555556,
             "#d8576b"
            ],
            [
             0.6666666666666666,
             "#ed7953"
            ],
            [
             0.7777777777777778,
             "#fb9f3a"
            ],
            [
             0.8888888888888888,
             "#fdca26"
            ],
            [
             1,
             "#f0f921"
            ]
           ],
           "sequentialminus": [
            [
             0,
             "#0d0887"
            ],
            [
             0.1111111111111111,
             "#46039f"
            ],
            [
             0.2222222222222222,
             "#7201a8"
            ],
            [
             0.3333333333333333,
             "#9c179e"
            ],
            [
             0.4444444444444444,
             "#bd3786"
            ],
            [
             0.5555555555555556,
             "#d8576b"
            ],
            [
             0.6666666666666666,
             "#ed7953"
            ],
            [
             0.7777777777777778,
             "#fb9f3a"
            ],
            [
             0.8888888888888888,
             "#fdca26"
            ],
            [
             1,
             "#f0f921"
            ]
           ]
          },
          "colorway": [
           "#636efa",
           "#EF553B",
           "#00cc96",
           "#ab63fa",
           "#FFA15A",
           "#19d3f3",
           "#FF6692",
           "#B6E880",
           "#FF97FF",
           "#FECB52"
          ],
          "font": {
           "color": "#2a3f5f"
          },
          "geo": {
           "bgcolor": "white",
           "lakecolor": "white",
           "landcolor": "#E5ECF6",
           "showlakes": true,
           "showland": true,
           "subunitcolor": "white"
          },
          "hoverlabel": {
           "align": "left"
          },
          "hovermode": "closest",
          "mapbox": {
           "style": "light"
          },
          "paper_bgcolor": "white",
          "plot_bgcolor": "#E5ECF6",
          "polar": {
           "angularaxis": {
            "gridcolor": "white",
            "linecolor": "white",
            "ticks": ""
           },
           "bgcolor": "#E5ECF6",
           "radialaxis": {
            "gridcolor": "white",
            "linecolor": "white",
            "ticks": ""
           }
          },
          "scene": {
           "xaxis": {
            "backgroundcolor": "#E5ECF6",
            "gridcolor": "white",
            "gridwidth": 2,
            "linecolor": "white",
            "showbackground": true,
            "ticks": "",
            "zerolinecolor": "white"
           },
           "yaxis": {
            "backgroundcolor": "#E5ECF6",
            "gridcolor": "white",
            "gridwidth": 2,
            "linecolor": "white",
            "showbackground": true,
            "ticks": "",
            "zerolinecolor": "white"
           },
           "zaxis": {
            "backgroundcolor": "#E5ECF6",
            "gridcolor": "white",
            "gridwidth": 2,
            "linecolor": "white",
            "showbackground": true,
            "ticks": "",
            "zerolinecolor": "white"
           }
          },
          "shapedefaults": {
           "line": {
            "color": "#2a3f5f"
           }
          },
          "ternary": {
           "aaxis": {
            "gridcolor": "white",
            "linecolor": "white",
            "ticks": ""
           },
           "baxis": {
            "gridcolor": "white",
            "linecolor": "white",
            "ticks": ""
           },
           "bgcolor": "#E5ECF6",
           "caxis": {
            "gridcolor": "white",
            "linecolor": "white",
            "ticks": ""
           }
          },
          "title": {
           "x": 0.05
          },
          "xaxis": {
           "automargin": true,
           "gridcolor": "white",
           "linecolor": "white",
           "ticks": "",
           "title": {
            "standoff": 15
           },
           "zerolinecolor": "white",
           "zerolinewidth": 2
          },
          "yaxis": {
           "automargin": true,
           "gridcolor": "white",
           "linecolor": "white",
           "ticks": "",
           "title": {
            "standoff": 15
           },
           "zerolinecolor": "white",
           "zerolinewidth": 2
          }
         }
        },
        "xaxis": {
         "anchor": "y",
         "domain": [
          0,
          1
         ],
         "title": {
          "text": "nmf"
         }
        },
        "yaxis": {
         "anchor": "x",
         "domain": [
          0,
          1
         ],
         "title": {
          "text": "count"
         }
        }
       }
      }
     },
     "metadata": {},
     "output_type": "display_data"
    }
   ],
   "source": [
    "px.histogram(terms_df, x = \"nmf\")"
   ]
  },
  {
   "attachments": {},
   "cell_type": "markdown",
   "id": "48aed516",
   "metadata": {},
   "source": [
    "### Compare approaches"
   ]
  },
  {
   "cell_type": "code",
   "execution_count": 32,
   "id": "359038ad",
   "metadata": {},
   "outputs": [
    {
     "name": "stdout",
     "output_type": "stream",
     "text": [
      "[176] Coalmine approvals in Australia this year could add 150m tonnes of CO2 to atmosphere [2023-09-01T22:40:57Z]\n",
      "\t- Counts:\t ['coal', 'coalmine', 'environment', 'climate', 'law', 'metallurgical', 'environment law', 'approval', 'tonne', 'emission']\n",
      "\t- TFIDF:\t ['metallurgical', 'environment law', 'coalmine', 'coal', 'Plibersek', 'environment', 'metallurgical coal', 'climate', 'tonne', 'law']\n",
      "\t- LDA:\t\t ['water', 'environmental', 'federal', 'plan', 'land', 'project', 'department', 'environment', 'clearing', 'report']\n",
      "\t- NMF:\t\t ['Adani', 'Carmichael', 'Adani ’s', 'company', 'project', 'coal', 'royalty', 'loan', 'rail', 'coalmine']\n",
      "\n",
      "[577] Kelly Wilkinson sought help from the police ‘almost every day’ after her first domestic violence complaint. So what went wrong? [2021-04-23T20:00:19Z]\n",
      "\t- Counts:\t ['violence', 'domestic', 'domestic violence', 'police', 'family', 'risk', 'case', 'high', 'separation', 'We']\n",
      "\t- TFIDF:\t ['violence', 'domestic', 'domestic violence', 'Wilkinson', 'separation', 'Clarke', 'family', 'police', 'high risk', 'risk']\n",
      "\t- LDA:\t\t ['police', 'violence', 'domestic', 'woman', 'officer', 'domestic violence', 'inquiry', 'court', 'law', 'victim']\n",
      "\t- NMF:\t\t ['housing', 'NUMm', 'cost', ' ', 'home', 'num%', 'We', 'rent', 'people', 'saidNUM']\n",
      "\n",
      "[854] Here's why Australia needs to keep subsidising renewables | Richard Denniss [2019-03-20T01:43:12Z]\n",
      "\t- Counts:\t ['renewable', 'subsidy', 'coal', 'subsidise', 'It ’', 'market', 'want', 'power', 'build', 'renewable energy']\n",
      "\t- TFIDF:\t ['subsidy', 'renewable', 'subsidise', 'coal', 'market', 'coal power', 'renewable energy', 'power station', 'dispose', 'electricity']\n",
      "\t- LDA:\t\t ['coal', 'energy', 'power', 'renewable', 'climate', 'Labor', 'emission', 'price', 'project', 'job']\n",
      "\t- NMF:\t\t ['Adani', 'Carmichael', 'Adani ’s', 'company', 'project', 'coal', 'royalty', 'loan', 'rail', 'coalmine']\n",
      "\n",
      "[416] ‘Do what you reasonably can’: Queensland disability homes told to manage Covid alone [2022-02-01T16:30:02Z]\n",
      "\t- Counts:\t ['health', 'Covid', 'resident', 'disability', 'public', 'case', 'facility', 'public health', 'staff', 'response']\n",
      "\t- TFIDF:\t ['disability', 'public health', 'health', 'resident', 'Covid', 'facility', 'staff', 'accommodation', 'Omicron', 'unit']\n",
      "\t- LDA:\t\t ['Covid', 'case', 'health', 'people', 'NSW', 'border', 'Covid NUM', 'test', 'Victoria', 'quarantine']\n",
      "\t- NMF:\t\t ['gas', 'Origin', 'river', 'fracke', 'Lake', 'oil', 'basin', 'channel', 'company', 'exploration']\n",
      "\n",
      "[125] Australia warned fire ant outbreak required ‘urgent’ measures nearly two years ago [2023-06-08T03:14:19Z]\n",
      "\t- Counts:\t ['ant', 'eradication', 'review', 'red', 'spread', 'outbreak', 'option', 'report', 'south', 'south east']\n",
      "\t- TFIDF:\t ['ant', 'eradication', 'red', 'review', 'outbreak', 'spread', 'east Queensland', 'eradicate', 'pest', 'south east']\n",
      "\t- LDA:\t\t ['housing', 'NUMm', 'cost', ' ', 'home', 'num%', 'We', 'rent', 'people', 'saidNUM']\n",
      "\t- NMF:\t\t ['Covid', 'case', 'health', 'people', 'NSW', 'border', 'Covid NUM', 'test', 'Victoria', 'quarantine']\n",
      "\n"
     ]
    }
   ],
   "source": [
    "# Sample 5 random articles\n",
    "samples = random.sample(range(0,len(terms_df)),5)\n",
    "\n",
    "for sample in samples:\n",
    "    doc = terms_df.iloc[sample]\n",
    "    print(f\"[{sample}] {doc.name}\")\n",
    "    print(\"\\t- Counts:\\t\",doc['count'])\n",
    "    print(\"\\t- TFIDF:\\t\",doc['tfidf'])\n",
    "    print(\"\\t- LDA:\\t\\t\",doc['lda'])\n",
    "    print(\"\\t- NMF:\\t\\t\",doc['nmf'])\n",
    "    print()"
   ]
  },
  {
   "cell_type": "markdown",
   "id": "a2a3a733-530f-45f2-84a3-c6a13e943ba3",
   "metadata": {},
   "source": [
    "Sometimes different approaches are used. Sometimes LDA is better, sometimes nmf. LDA/nmf use different. How do we evaluate which is best?\n",
    "\n",
    "Andrew recommends not just using counts, but it can do pretty good sometimes"
   ]
  },
  {
   "cell_type": "code",
   "execution_count": 33,
   "id": "9354465d",
   "metadata": {},
   "outputs": [
    {
     "name": "stdout",
     "output_type": "stream",
     "text": [
      "7\n"
     ]
    }
   ],
   "source": [
    "print(topic.argmax())\n"
   ]
  },
  {
   "cell_type": "code",
   "execution_count": 34,
   "id": "814ab305",
   "metadata": {},
   "outputs": [],
   "source": [
    "# ATTEMPT CLUSTERING\n",
    "#https://youtu.be/i74DVqMsRWY?list=PL2VXyKi-KpYttggRATQVmgFcQst3z6OlX\n",
    "\n",
    "km = KMeans(n_clusters=10, random_state=0, n_init=\"auto\")\n",
    "#km.fit(terms_df.reset_index()[\"nmf\"])\n",
    "#Fit model\n",
    "km.fit(doc_topic_nmf)\n",
    "# At this point it is still on the 10k wide matrix of frequencies, so need to displ\n",
    "\n",
    "order_centroids = km.cluster_centers_.argsort()[:,::-1]\n",
    "terms = nmf_model##.get_feature_names_out()"
   ]
  },
  {
   "cell_type": "code",
   "execution_count": 35,
   "id": "f493434f",
   "metadata": {},
   "outputs": [
    {
     "data": {
      "text/plain": [
       "array([[ 4,  6,  0, 14,  5,  3,  2, 11, 12,  7,  1,  9, 13,  8, 10],\n",
       "       [ 2,  0,  4, 13,  3,  9, 11,  8, 10,  1, 14,  5,  6,  7, 12],\n",
       "       [ 9, 11,  0,  8,  2,  4,  1, 13, 14,  3, 10, 12,  6,  7,  5],\n",
       "       [ 0,  8, 14,  7, 11,  1,  2,  5, 10,  9,  4, 13, 12,  3,  6],\n",
       "       [ 1,  7,  6,  0, 10, 14, 12,  8, 13, 11,  5,  9,  4,  2,  3],\n",
       "       [ 6, 14, 10,  1,  0, 12,  4,  8, 13, 11,  7,  2,  5,  9,  3],\n",
       "       [12, 10, 14,  5,  0,  1,  6, 11,  7,  2,  8,  4,  9, 13,  3],\n",
       "       [ 3,  0,  2,  4, 11,  8, 13,  9,  1, 14, 10, 12,  6,  5,  7],\n",
       "       [13,  0,  1,  2,  3, 11,  8, 14,  9,  5, 10,  6,  4,  7, 12],\n",
       "       [10,  6,  0,  1, 14, 11,  7,  8,  9,  2, 13,  4, 12,  3,  5]],\n",
       "      dtype=int64)"
      ]
     },
     "execution_count": 35,
     "metadata": {},
     "output_type": "execute_result"
    }
   ],
   "source": [
    "order_centroids"
   ]
  },
  {
   "cell_type": "code",
   "execution_count": 36,
   "id": "06b5566d",
   "metadata": {},
   "outputs": [],
   "source": [
    "#terms_df['nmf_factor'] = pd.factorize(terms_df[['nmf']])[0]"
   ]
  }
 ],
 "metadata": {
  "creation_period": "",
  "kernelspec": {
   "display_name": "Python 3 (ipykernel)",
   "language": "python",
   "name": "python3"
  },
  "language_info": {
   "codemirror_mode": {
    "name": "ipython",
    "version": 3
   },
   "file_extension": ".py",
   "mimetype": "text/x-python",
   "name": "python",
   "nbconvert_exporter": "python",
   "pygments_lexer": "ipython3",
   "version": "3.12.3"
  },
  "nb_name": "template",
  "qut": {
   "creation_period": "2023_sem1",
   "nb_name": "C1-UnstructuredAnalytics",
   "unit_code": "IFQ619"
  },
  "unit_code": ""
 },
 "nbformat": 4,
 "nbformat_minor": 5
}
