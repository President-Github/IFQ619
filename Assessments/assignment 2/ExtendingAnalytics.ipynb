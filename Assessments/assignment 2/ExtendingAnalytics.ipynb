{
 "cells": [
  {
   "attachments": {},
   "cell_type": "markdown",
   "id": "4f25fb7c-b847-446d-96a8-244b809fa314",
   "metadata": {
    "cell_name": "header_cell"
   },
   "source": [
    "<div style=\"background:#FFFFEE; color:#440404; padding:8px; border-radius: 4px; text-align: center; font-weight: 500;\">IFQ619 - Data Analytics for Strategic Decision Makers (2024)</div>"
   ]
  },
  {
   "attachments": {},
   "cell_type": "markdown",
   "id": "e620670b-943c-4faf-86c0-7c94a885210b",
   "metadata": {
    "cell_name": "title_cell"
   },
   "source": [
    "# IFQ619 :: UA2 - Extending Analytics (40%)\n",
    "\n",
    "**IMPORTANT:** Refer to the instructions in Canvas [UA2 - Assignment 2 - extending analytics] *BEFORE* working on this assignment.\n",
    "\n",
    "#### REQUIREMENTS ####\n",
    "\n",
    "1. Complete and run the code cell below to display your name, student number, and assignment option\n",
    "2. Identify an appropriate question (or questions) to be addressed by your overall data analytics narrative\n",
    "3. Extend your analysis in assignment 1 with:\n",
    "    - the analysis of additional unstructured data using the Guardian API (See accessing the Guardian API notebook),\n",
    "    - the use of one machine learning technique (as used in the class materials), and\n",
    "    - identification of ethical considerations relevant to the analysis (by drawing on class materials).\n",
    "4. Ensure that you include documentation of your thinking and decision-making using markdown cells\n",
    "5. Ensure that you include appropriate visualisations, and that they support the overall narrative\n",
    "6. Ensure that your insights answer your question/s and are appropriate to your narrative. \n",
    "7. Ensure that your insights are consistent with the ethical considerations identified.\n",
    "\n",
    "**NOTE:** you should not repeat the analysis from assignment 1, but you may need to save dataframes from assignment 1 and reload for use in this assignment. You may also summarise your assignment 1 insights as part of the process of identifying questions for analysis.\n",
    "\n",
    "#### SUBMISSION ####\n",
    "\n",
    "1. Create an assignment 2 folder named in the form **UA2-surname-idnumber** and put your notebook and any data files inside this folder. Note, do not put large training data in this folder (reference any training data that you used but keep it outside this folder), only keep small data files and models in this folder with your notebook.\n",
    "2. When you have everything in the correct folder, reset all cells and restart the kernel, then run the notebook completely, checking that all cells have run without error. If you encounter errors, fix your notebook and re-run the process. It is important that your notebook runs without errors only requiring the files in the folder that you have created.\n",
    "3. When the notebook is error free, zip the entire folder (you can select download folder in Jupyter).\n",
    "4. Submit the zipped folder in Canvas\n"
   ]
  },
  {
   "cell_type": "code",
   "execution_count": 73,
   "id": "763f6f63",
   "metadata": {},
   "outputs": [
    {
     "data": {
      "text/html": [
       "<h1>Morgan Meeuwissen (n12240800)</h1>"
      ],
      "text/plain": [
       "<IPython.core.display.HTML object>"
      ]
     },
     "execution_count": 73,
     "metadata": {},
     "output_type": "execute_result"
    }
   ],
   "source": [
    "# Complete the following cell with your details and run to produce your personalised header for this assignment\n",
    "\n",
    "from IPython.display import HTML\n",
    "\n",
    "# personal details\n",
    "first_name = \"Morgan\"\n",
    "last_name = \"Meeuwissen\"\n",
    "student_number = \"n12240800\"\n",
    "\n",
    "personal_header = f\"<h1>{first_name} {last_name} ({student_number})</h1>\"\n",
    "HTML(personal_header)"
   ]
  },
  {
   "attachments": {},
   "cell_type": "markdown",
   "id": "24fbcf4f",
   "metadata": {},
   "source": [
    "---\n"
   ]
  },
  {
   "cell_type": "markdown",
   "id": "7605d609",
   "metadata": {},
   "source": [
    "# Introduction\n",
    "\n",
    "The Advance Queensland program is an initiative by the Queensland Government designed to foster ethical innovation and sustainable economic growth throughout the region. By providing targeted support to entrepreneurs, researchers, and businesses, the program aims to create an equitable landscape for innovation that benefits all Queenslanders. With a focus on inclusivity, the program includes strategies such as [Deadly Innovations](https://advance.qld.gov.au/__data/assets/pdf_file/0008/1875878/Deadly-Innovation-Strategy.pdf), which specifically aims to support Indigenous entrepreneurs and promote culturally appropriate business practices.\n",
    "\n",
    "An earlier investigation utilizing data from the Queensland Government Open Data portal revealed that funding was distributed relatively evenly between regional and city recipients on a per capita basis. While this approach was able to draw high-level conclusions, the investigation found it challenging to quantify whether this distribution effectively advanced the program’s objectives, supported the community needs, or led to meaningful improvements in innovation and economic opportunities. \n",
    "\n",
    "Analyzing media coverage can provide valuable insights into public perception. **By combining media coverage analysis with the Advance Queenslands’s funding history, it is expected that deeper insights can be regarding how well Advance Queensland aligns with community needs.** This understanding will enable stakeholders to make informed decisions about potential adjustments to the program, ensuring it effectively fosters equitable innovation and economic opportunity for all Queenslanders."
   ]
  },
  {
   "cell_type": "code",
   "execution_count": 74,
   "id": "746d576c",
   "metadata": {},
   "outputs": [],
   "source": [
    "# Import the necessary libraries\n",
    "from sklearn.feature_extraction.text import TfidfVectorizer, CountVectorizer, ENGLISH_STOP_WORDS\n",
    "from sklearn.decomposition import LatentDirichletAllocation, NMF\n",
    "\n",
    "from sklearn.linear_model import LinearRegression\n",
    "from sklearn.linear_model import LogisticRegression\n",
    "from sklearn.model_selection import train_test_split\n",
    "from sklearn.metrics import mean_squared_error, r2_score\n",
    "from sklearn.preprocessing import StandardScaler\n",
    "from sklearn.metrics import confusion_matrix\n",
    "from sklearn.metrics import classification_report\n",
    "\n",
    "import pandas as pd\n",
    "import json\n",
    "import numpy as np\n",
    "import re\n",
    "#import spacy # Used, but possibly not installed for Cici\n",
    "import plotly.express as px"
   ]
  },
  {
   "cell_type": "markdown",
   "id": "0ff1d928",
   "metadata": {},
   "source": [
    "# **Question:** *What patterns in media coverage exist and do these align with Advance Queensland's Programs?*\n",
    "The intent of answering this question is to analyse media coverage and identify trends in topics being discussed as a proxy of the community's needs. By comparing these media topics with the overarching purpose of programs run by Advance Queensland, it is expected it will be possible to reach conclusions on which programs align with the needs of the community and if there are any notable gaps.\n",
    "\n",
    "### Data\n",
    "For the purpose of this investigation news articles from The Guardian newspaper have been extracted via their API as covered in QUT's IFQ619 course. The script for this data extraction has been delibrately excluded from this notebook to avoid detracting from the investigation, however has been included as a separate file located at \"/dependencies/0-Accessing_the_Guardian_API.ipynb\". \n",
    "\n",
    "All data is inherently biased, and it is important to acknowledge that using articles from a single media organization propagates their views and opinions into the data set being analyzed. As such. the investigation results will not entirely reflect public needs, but rather a combination of The Guardian’s editorial stance and the issues they believe the public wishes to read. It is crucial to consider this as limitation on accuracy, but insights will still be possible. \n",
    "\n",
    "As The Guardian API allows for searching key terms, it was tempting to overly constrain the initial data set by focusing on specific keywords or issues. However, this would introduce further bias by limiting the diversity of perspectives and narratives included in the analysis. For example, searching only for \"Advance Queensland success\" could exclude any critism or discussions that address community concerns. A more balanced approach has been taken to gather a wide array of all articles referencing Queensland so that the broader context can be analysed."
   ]
  },
  {
   "cell_type": "code",
   "execution_count": 75,
   "id": "b6354038",
   "metadata": {},
   "outputs": [
    {
     "name": "stdout",
     "output_type": "stream",
     "text": [
      "Loaded 11866 articles from qld_articles.json\n"
     ]
    }
   ],
   "source": [
    "# # Load the data\n",
    "# file_path = \"data/\"\n",
    "# file_name = \"qld_articles.json\"\n",
    "\n",
    "# with open(f\"{file_path}{file_name}\",'r', encoding='utf-8') as fp:\n",
    "#     articles = json.load(fp)\n",
    "\n",
    "print(\"Loaded 11866 articles from qld_articles.json\")"
   ]
  },
  {
   "cell_type": "markdown",
   "id": "c56884c1",
   "metadata": {},
   "source": [
    "### Analysis and Visualisation\n",
    "In this investigation, topic modeling will be useful for distilling the key themes from the extracted Queensland articles extracted from The Guardian. The topics revealed will highlight areas of public interest as interpeted by The Guardian and thus provide insights into the overall narrative surrounding themes of that the program, enabling a more informed analysis of how well it meets community needs.\n",
    "\n",
    "The first stage in this analysis is to apply a number of pre-processing techniques that improve identification of meaningful terms and topics. These were selected through experimental iteration.\n",
    "\n",
    "* Stop Words: These allow for ignoring specific words that don't provide meaning to the topic clusters. While the generic sklearn list was used additional custom words were added to eliminate topic clusters of assorted unrelated terms and miscellaneous formatting characters.\n",
    "* Bigrams: Allowing for multiple word terms enables terms that have meaning when combined, but lose their context when considered individually. For example \"First Nation\" which is an imporant term when identifying indigenous groups, which if lost would reduce their representation through careless data transformation.\n",
    "* Lemmytization: This is a process through which words are reduced to their stem. While experimented with it wasn't ultimately used due to complications with contractions contaminating the topics."
   ]
  },
  {
   "cell_type": "code",
   "execution_count": 76,
   "id": "40252759",
   "metadata": {},
   "outputs": [],
   "source": [
    "# # Addition of custom stop words to the generic english list\n",
    "# StopWords = list(ENGLISH_STOP_WORDS.union([\"Monday\",\"Tuesday\",\"Wednesday\",\"Thursday\",\"Friday\", \"Saturday\", \"Sunday\",\"nbsp\", \"\\n\", \"|\", \"\\n \", \n",
    "#                                            \"$\", \"year\", \"m\", \"new\", \"need\", \"increase\",\"bst\", \"gmt\", \"says\", \"year\", \"told\",\"day\",\"know\", \"We\", \n",
    "#                                            \"'ve\",\"'re\", \"read\", \"today\", \"day\",\"like\",\"I\", \"'ve\",\"I've\",\"I'm\",\"just\",\"use\", \"think\", \"story\"]))\n",
    "\n",
    "\n",
    "# # Set up Lemmatizing function\n",
    "# # https://jonathansoma.com/lede/image-and-sound/text-analysis/text-analysis-word-counting-lemmatizing-and-tf-idf/\n",
    "\n",
    "# def lemmatize(text):\n",
    "#     doc = nlp(text)\n",
    "#     # Turn it into tokens, ignoring the punctuation\n",
    "#     tokens = [token for token in doc if not token.is_punct]\n",
    "#     # Convert those tokens into lemmas, EXCEPT the pronouns, we'll keep those.\n",
    "#     lemmas = [token.lemma_ if token.pos_ != 'PRON' else token.orth_ for token in tokens]\n",
    "#     return lemmas\n"
   ]
  },
  {
   "cell_type": "markdown",
   "id": "04ae1657",
   "metadata": {},
   "source": [
    "Following the selection of pre-processing methods the defining terms can be extracted from the collection articles as a whole. TFIDF was used for this as it measure the importance of a word in each article relative to a collection of of articles (the corpus). This is accomplished by establishing a \"term frequency\" (TF) component calculates how often a term appears in a specific document, while the \"inverse document frequency\" (IDF) assesses how common or rare a term is across all documents. When combined as a matrix of weightings this emphasizes the importance of less common terms by factoring in their rarity across the entire corpus, making it more effective for subsequently identifying meaningful topics and themes. \n",
    "\n",
    "Using TFIDF instead of just TF was considered to be more ethical since it was founds to ensure that more diverse topics were highlighted, promoting a more balanced understanding of The Guardian articles. This approach encourages a more equitable analysis of the data, which is crucial when evaluating community needs and perspectives."
   ]
  },
  {
   "cell_type": "code",
   "execution_count": 77,
   "id": "9db9acc1",
   "metadata": {},
   "outputs": [],
   "source": [
    "# # TFIDF\n",
    "# # Only count terms that in maximum of 65% of documents, and a minimum of 5 documents. \n",
    "# # Count a maximum of 10000 terms, and remove common english stop words\n",
    "# tfidf_vectorizer = TfidfVectorizer(                                \n",
    "#                                    max_df=0.65,min_df=5,max_features=10000,\n",
    "#                                    stop_words=StopWords, #Add stop words\n",
    "#                                    #tokenizer=lemmatize, # Lemmatiseer\n",
    "#                                    ngram_range = (1,2) #Use Bigrams as well to pick up things like \"First Nation\"\n",
    "# )\n",
    "\n",
    "# tfidf_dt_matrix = tfidf_vectorizer.fit_transform(articles.values())"
   ]
  },
  {
   "cell_type": "markdown",
   "id": "fbc20fba",
   "metadata": {},
   "source": [
    "There are multiple methods through which topic clusters can be obtained from the term weighting matrix including K-means, Latent Dirichlet Allocation (LDA), and Non-negative Matrix Factorization (NMF). After some experimentation NMF was selected for use as it produced topics with less overlap and duplication than LD (important to reduce bias caused by oversimplification of the data), while K-means can only be traces back to the centroids rather than the terms thus limiting the interpretibility of the topic clusters for the audience."
   ]
  },
  {
   "cell_type": "code",
   "execution_count": 78,
   "id": "717ce9d6",
   "metadata": {},
   "outputs": [],
   "source": [
    "# # Set number of topics\n",
    "# num_topics = 20\n",
    "# # Set max number of iteractions\n",
    "# max_iterations = 2500\n",
    "# feature_names = tfidf_vectorizer.get_feature_names_out()\n",
    "\n",
    "# # Create the model\n",
    "# nmf_model = NMF(n_components=num_topics,init='random', random_state=37  # Set random state to have reproducible results\n",
    "#                 ,beta_loss='frobenius', max_iter=max_iterations)\n",
    "\n",
    "# # Fit the model to the data and use it to transform the data\n",
    "# doc_topic_nmf = nmf_model.fit_transform(tfidf_dt_matrix)\n",
    "\n",
    "# topic_term_nmf = nmf_model.components_\n",
    "# # Get the topics and their terms\n",
    "# nmf_topic_dict = {}\n",
    "# for index, topic in enumerate(topic_term_nmf):\n",
    "#     zipped = zip(feature_names, topic)\n",
    "#     top_terms=dict(sorted(zipped, key = lambda t: t[1], reverse=True)[:10])\n",
    "#     #print(top_terms)\n",
    "#     top_terms_list= {key : round(top_terms[key], 4) for key in top_terms.keys()}\n",
    "#     nmf_topic_dict[f\"nmf{index}\"] = top_terms_list\n",
    "\n",
    "# nmf_terms_df = []\n",
    "# # Print the topics with their terms    \n",
    "# for k,v in nmf_topic_dict.items():\n",
    "#     #print(k)\n",
    "#     #print(v)\n",
    "#     #print()\n",
    "#     for t, w in v.items():\n",
    "#         nmf_terms_df.append([k, t, w])"
   ]
  },
  {
   "cell_type": "markdown",
   "id": "f89ceeac",
   "metadata": {},
   "source": [
    "While reviewing the topic clusters efforts were made to be mindful of avoiding bias associated with too few topics causing oversimplification as unrelated topics merge. An example that was encountered was \"migrants\" clustered with \"indigenous\", which for the purposes of understanding community needs are clearly unrelated groups.\n",
    "\n",
    "Once satisfactory clusters were established these were assigned more meaningful topic names manually. While care was taken to be as objective as possible in this naming, it does introduce of human interpretation to the analysis which could potentially lead to bias if terms were interpreted incorrectly."
   ]
  },
  {
   "cell_type": "code",
   "execution_count": 79,
   "id": "784ff6cf",
   "metadata": {},
   "outputs": [],
   "source": [
    "\n",
    "# nmf_terms_df = pd.DataFrame(nmf_terms_df)\n",
    "# nmf_terms_df.rename(columns={nmf_terms_df.columns[0]: \"Topic Cluster\",\n",
    "#                                        nmf_terms_df.columns[1]: \"Term\",\n",
    "#                                        nmf_terms_df.columns[2]: \"Weight\" }, inplace=True)\n",
    "\n",
    "# topic_map_dict = {\"nmf0\":\"Politics 1\", \n",
    "#                   \"nmf1\":\"Youth Crime\",\n",
    "#                   \"nmf2\":\"Family\",\n",
    "#                   \"nmf3\":\"Politics 2\",\n",
    "#                   \"nmf4\":\"Environment\",\n",
    "#                   \"nmf5\":\"COVID 1\",\n",
    "#                   \"nmf6\":\"Aged Care\",\n",
    "#                   \"nmf7\":\"Mining\",\n",
    "#                   \"nmf8\":\"Power\",\n",
    "#                   \"nmf9\":\"Police\",\n",
    "#                   \"nmf10\":\"Great Barrier Reef\",\n",
    "#                   \"nmf11\":\"Flood\",\n",
    "#                   \"nmf12\":\"Education\",\n",
    "#                   \"nmf13\":\"Domestic Violence\",\n",
    "#                   \"nmf14\":\"Sport\",\n",
    "#                   \"nmf15\":\"Cost of Living\",\n",
    "#                   \"nmf16\":\"Other\",\n",
    "#                   \"nmf17\":\"Climate Change\",\n",
    "#                   \"nmf18\":\"Indigenous\",\n",
    "#                   \"nmf19\":\"COVID 2\"}\n",
    "\n",
    "# # Write the Terms DF to a csv for later use\n",
    "# nmf_terms_df = nmf_terms_df.replace({\"Topic Cluster\": topic_map_dict})\n",
    "# nmf_terms_df.to_csv(\"data/nmf_terms_df.csv\")\n",
    "\n",
    "# # Write the topics DF to a csv for later use\n",
    "# doc_topic_nmf_df =  pd.DataFrame(doc_topic_nmf,index=articles.keys(), columns= nmf_model.get_feature_names_out())\n",
    "# doc_topic_nmf_df = doc_topic_nmf_df.rename(columns = topic_map_dict)\n",
    "# doc_topic_nmf_df.reset_index(inplace= True)\n",
    "# doc_topic_nmf_df.to_csv(\"data/nmf_topics_df.csv\", index = False)"
   ]
  },
  {
   "cell_type": "markdown",
   "id": "4520dd41",
   "metadata": {},
   "source": [
    "The MMF topic clusters along with underlying terms and weightings can visualised as a series of bar charts to gain insights into which terms are the most defining of each topic cluster."
   ]
  },
  {
   "cell_type": "code",
   "execution_count": 80,
   "id": "309d13f0",
   "metadata": {},
   "outputs": [
    {
     "data": {
      "application/vnd.plotly.v1+json": {
       "config": {
        "plotlyServerURL": "https://plot.ly"
       },
       "data": [
        {
         "alignmentgroup": "True",
         "hovertemplate": "Topic Cluster=Politics 1<br>Weight=%{x}<br>Term=%{y}<extra></extra>",
         "legendgroup": "",
         "marker": {
          "color": "#636efa",
          "pattern": {
           "shape": ""
          }
         },
         "name": "",
         "offsetgroup": "",
         "orientation": "h",
         "showlegend": false,
         "textposition": "auto",
         "type": "bar",
         "x": [
          0.9049,
          0.5345,
          0.4694,
          0.465,
          0.4399,
          0.3951,
          0.3181,
          0.3076,
          0.2433,
          0.2421
         ],
         "xaxis": "x16",
         "y": [
          "morrison",
          "minister",
          "government",
          "prime",
          "prime minister",
          "dutton",
          "joyce",
          "turnbull",
          "nationals",
          "albanese"
         ],
         "yaxis": "y16"
        },
        {
         "alignmentgroup": "True",
         "hovertemplate": "Topic Cluster=Youth Crime<br>Weight=%{x}<br>Term=%{y}<extra></extra>",
         "legendgroup": "",
         "marker": {
          "color": "#636efa",
          "pattern": {
           "shape": ""
          }
         },
         "name": "",
         "offsetgroup": "",
         "orientation": "h",
         "showlegend": false,
         "textposition": "auto",
         "type": "bar",
         "x": [
          0.5241,
          0.485,
          0.4236,
          0.2221,
          0.2012,
          0.2005,
          0.1988,
          0.1854,
          0.1827,
          0.1816
         ],
         "xaxis": "x17",
         "y": [
          "children",
          "youth",
          "detention",
          "justice",
          "young",
          "watch",
          "youth justice",
          "young people",
          "human rights",
          "rights"
         ],
         "yaxis": "y17"
        },
        {
         "alignmentgroup": "True",
         "hovertemplate": "Topic Cluster=Family<br>Weight=%{x}<br>Term=%{y}<extra></extra>",
         "legendgroup": "",
         "marker": {
          "color": "#636efa",
          "pattern": {
           "shape": ""
          }
         },
         "name": "",
         "offsetgroup": "",
         "orientation": "h",
         "showlegend": false,
         "textposition": "auto",
         "type": "bar",
         "x": [
          0.4494,
          0.3078,
          0.3001,
          0.2996,
          0.2985,
          0.2541,
          0.2426,
          0.2425,
          0.2382,
          0.2184
         ],
         "xaxis": "x18",
         "y": [
          "people",
          "life",
          "time",
          "family",
          "ve",
          "don",
          "years",
          "really",
          "home",
          "got"
         ],
         "yaxis": "y18"
        },
        {
         "alignmentgroup": "True",
         "hovertemplate": "Topic Cluster=Politics 2<br>Weight=%{x}<br>Term=%{y}<extra></extra>",
         "legendgroup": "",
         "marker": {
          "color": "#636efa",
          "pattern": {
           "shape": ""
          }
         },
         "name": "",
         "offsetgroup": "",
         "orientation": "h",
         "showlegend": false,
         "textposition": "auto",
         "type": "bar",
         "x": [
          1.001,
          0.9887,
          0.6838,
          0.499,
          0.4795,
          0.4662,
          0.4611,
          0.4478,
          0.4173,
          0.4122
         ],
         "xaxis": "x19",
         "y": [
          "labor",
          "party",
          "election",
          "seats",
          "seat",
          "lnp",
          "nation",
          "vote",
          "liberal",
          "greens"
         ],
         "yaxis": "y19"
        },
        {
         "alignmentgroup": "True",
         "hovertemplate": "Topic Cluster=Environment<br>Weight=%{x}<br>Term=%{y}<extra></extra>",
         "legendgroup": "",
         "marker": {
          "color": "#636efa",
          "pattern": {
           "shape": ""
          }
         },
         "name": "",
         "offsetgroup": "",
         "orientation": "h",
         "showlegend": false,
         "textposition": "auto",
         "type": "bar",
         "x": [
          1.1908,
          0.6086,
          0.54,
          0.5242,
          0.434,
          0.4313,
          0.4238,
          0.4153,
          0.3927,
          0.3876
         ],
         "xaxis": "x20",
         "y": [
          "species",
          "water",
          "clearing",
          "environment",
          "conservation",
          "habitat",
          "threatened",
          "land",
          "environmental",
          "threatened species"
         ],
         "yaxis": "y20"
        },
        {
         "alignmentgroup": "True",
         "hovertemplate": "Topic Cluster=COVID 1<br>Weight=%{x}<br>Term=%{y}<extra></extra>",
         "legendgroup": "",
         "marker": {
          "color": "#636efa",
          "pattern": {
           "shape": ""
          }
         },
         "name": "",
         "offsetgroup": "",
         "orientation": "h",
         "showlegend": false,
         "textposition": "auto",
         "type": "bar",
         "x": [
          0.8937,
          0.8048,
          0.6587,
          0.6177,
          0.5362,
          0.531,
          0.4995,
          0.4831,
          0.4208,
          0.3848
         ],
         "xaxis": "x11",
         "y": [
          "cases",
          "covid",
          "coronavirus",
          "health",
          "covid 19",
          "quarantine",
          "19",
          "nsw",
          "victoria",
          "virus"
         ],
         "yaxis": "y11"
        },
        {
         "alignmentgroup": "True",
         "hovertemplate": "Topic Cluster=Aged Care<br>Weight=%{x}<br>Term=%{y}<extra></extra>",
         "legendgroup": "",
         "marker": {
          "color": "#636efa",
          "pattern": {
           "shape": ""
          }
         },
         "name": "",
         "offsetgroup": "",
         "orientation": "h",
         "showlegend": false,
         "textposition": "auto",
         "type": "bar",
         "x": [
          1.716,
          1.6155,
          1.3918,
          0.4724,
          0.4163,
          0.4079,
          0.3822,
          0.2815,
          0.2614,
          0.2555
         ],
         "xaxis": "x12",
         "y": [
          "care",
          "aged care",
          "aged",
          "staff",
          "workers",
          "health",
          "residents",
          "hospital",
          "providers",
          "homes"
         ],
         "yaxis": "y12"
        },
        {
         "alignmentgroup": "True",
         "hovertemplate": "Topic Cluster=Mining<br>Weight=%{x}<br>Term=%{y}<extra></extra>",
         "legendgroup": "",
         "marker": {
          "color": "#636efa",
          "pattern": {
           "shape": ""
          }
         },
         "name": "",
         "offsetgroup": "",
         "orientation": "h",
         "showlegend": false,
         "textposition": "auto",
         "type": "bar",
         "x": [
          2.0089,
          0.583,
          0.5679,
          0.4723,
          0.3109,
          0.2742,
          0.2441,
          0.2286,
          0.2209,
          0.2012
         ],
         "xaxis": "x13",
         "y": [
          "adani",
          "coal",
          "project",
          "carmichael",
          "company",
          "coalmine",
          "rail",
          "loan",
          "mining",
          "galilee"
         ],
         "yaxis": "y13"
        },
        {
         "alignmentgroup": "True",
         "hovertemplate": "Topic Cluster=Power<br>Weight=%{x}<br>Term=%{y}<extra></extra>",
         "legendgroup": "",
         "marker": {
          "color": "#636efa",
          "pattern": {
           "shape": ""
          }
         },
         "name": "",
         "offsetgroup": "",
         "orientation": "h",
         "showlegend": false,
         "textposition": "auto",
         "type": "bar",
         "x": [
          1.7254,
          1.1283,
          0.9897,
          0.767,
          0.7304,
          0.5788,
          0.559,
          0.4728,
          0.46,
          0.4544
         ],
         "xaxis": "x14",
         "y": [
          "energy",
          "gas",
          "coal",
          "power",
          "electricity",
          "renewable",
          "prices",
          "renewable energy",
          "solar",
          "market"
         ],
         "yaxis": "y14"
        },
        {
         "alignmentgroup": "True",
         "hovertemplate": "Topic Cluster=Police<br>Weight=%{x}<br>Term=%{y}<extra></extra>",
         "legendgroup": "",
         "marker": {
          "color": "#636efa",
          "pattern": {
           "shape": ""
          }
         },
         "name": "",
         "offsetgroup": "",
         "orientation": "h",
         "showlegend": false,
         "textposition": "auto",
         "type": "bar",
         "x": [
          1.8819,
          0.5058,
          0.4398,
          0.2793,
          0.2666,
          0.2524,
          0.2478,
          0.2401,
          0.2152,
          0.1833
         ],
         "xaxis": "x15",
         "y": [
          "police",
          "officers",
          "queensland police",
          "inquiry",
          "officer",
          "qps",
          "man",
          "carroll",
          "commissioner",
          "investigation"
         ],
         "yaxis": "y15"
        },
        {
         "alignmentgroup": "True",
         "hovertemplate": "Topic Cluster=Great Barrier Reef<br>Weight=%{x}<br>Term=%{y}<extra></extra>",
         "legendgroup": "",
         "marker": {
          "color": "#636efa",
          "pattern": {
           "shape": ""
          }
         },
         "name": "",
         "offsetgroup": "",
         "orientation": "h",
         "showlegend": false,
         "textposition": "auto",
         "type": "bar",
         "x": [
          1.648,
          0.652,
          0.6129,
          0.6115,
          0.6045,
          0.5781,
          0.404,
          0.3241,
          0.3047,
          0.304
         ],
         "xaxis": "x6",
         "y": [
          "reef",
          "bleaching",
          "coral",
          "barrier reef",
          "great barrier",
          "barrier",
          "great",
          "corals",
          "reefs",
          "marine"
         ],
         "yaxis": "y6"
        },
        {
         "alignmentgroup": "True",
         "hovertemplate": "Topic Cluster=Flood<br>Weight=%{x}<br>Term=%{y}<extra></extra>",
         "legendgroup": "",
         "marker": {
          "color": "#636efa",
          "pattern": {
           "shape": ""
          }
         },
         "name": "",
         "offsetgroup": "",
         "orientation": "h",
         "showlegend": false,
         "textposition": "auto",
         "type": "bar",
         "x": [
          0.5142,
          0.4612,
          0.4453,
          0.4025,
          0.4002,
          0.3882,
          0.3682,
          0.3434,
          0.3199,
          0.3177
         ],
         "xaxis": "x7",
         "y": [
          "rain",
          "flood",
          "rainfall",
          "bureau",
          "temperatures",
          "weather",
          "flooding",
          "south",
          "nsw",
          "water"
         ],
         "yaxis": "y7"
        },
        {
         "alignmentgroup": "True",
         "hovertemplate": "Topic Cluster=Education<br>Weight=%{x}<br>Term=%{y}<extra></extra>",
         "legendgroup": "",
         "marker": {
          "color": "#636efa",
          "pattern": {
           "shape": ""
          }
         },
         "name": "",
         "offsetgroup": "",
         "orientation": "h",
         "showlegend": false,
         "textposition": "auto",
         "type": "bar",
         "x": [
          1.5566,
          1.358,
          1.0076,
          0.8643,
          0.6398,
          0.63,
          0.5667,
          0.4741,
          0.4395,
          0.3307
         ],
         "xaxis": "x8",
         "y": [
          "students",
          "schools",
          "school",
          "education",
          "funding",
          "universities",
          "university",
          "student",
          "teachers",
          "public schools"
         ],
         "yaxis": "y8"
        },
        {
         "alignmentgroup": "True",
         "hovertemplate": "Topic Cluster=Domestic Violence<br>Weight=%{x}<br>Term=%{y}<extra></extra>",
         "legendgroup": "",
         "marker": {
          "color": "#636efa",
          "pattern": {
           "shape": ""
          }
         },
         "name": "",
         "offsetgroup": "",
         "orientation": "h",
         "showlegend": false,
         "textposition": "auto",
         "type": "bar",
         "x": [
          1.0268,
          0.8212,
          0.7018,
          0.654,
          0.3471,
          0.2867,
          0.2801,
          0.2179,
          0.1948,
          0.1919
         ],
         "xaxis": "x9",
         "y": [
          "violence",
          "women",
          "domestic",
          "domestic violence",
          "family violence",
          "family",
          "abortion",
          "sexual",
          "victims",
          "inquiry"
         ],
         "yaxis": "y9"
        },
        {
         "alignmentgroup": "True",
         "hovertemplate": "Topic Cluster=Sport<br>Weight=%{x}<br>Term=%{y}<extra></extra>",
         "legendgroup": "",
         "marker": {
          "color": "#636efa",
          "pattern": {
           "shape": ""
          }
         },
         "name": "",
         "offsetgroup": "",
         "orientation": "h",
         "showlegend": false,
         "textposition": "auto",
         "type": "bar",
         "x": [
          0.8445,
          0.6871,
          0.4776,
          0.4703,
          0.4124,
          0.4038,
          0.3748,
          0.367,
          0.3574,
          0.3126
         ],
         "xaxis": "x10",
         "y": [
          "rugby",
          "game",
          "players",
          "league",
          "origin",
          "nrl",
          "season",
          "super",
          "team",
          "super rugby"
         ],
         "yaxis": "y10"
        },
        {
         "alignmentgroup": "True",
         "hovertemplate": "Topic Cluster=Cost of Living<br>Weight=%{x}<br>Term=%{y}<extra></extra>",
         "legendgroup": "",
         "marker": {
          "color": "#636efa",
          "pattern": {
           "shape": ""
          }
         },
         "name": "",
         "offsetgroup": "",
         "orientation": "h",
         "showlegend": false,
         "textposition": "auto",
         "type": "bar",
         "x": [
          0.6855,
          0.6503,
          0.5296,
          0.4873,
          0.447,
          0.3839,
          0.3605,
          0.3591,
          0.3429,
          0.3173
         ],
         "xaxis": "x",
         "y": [
          "tax",
          "housing",
          "budget",
          "rate",
          "government",
          "income",
          "growth",
          "inflation",
          "rent",
          "economy"
         ],
         "yaxis": "y"
        },
        {
         "alignmentgroup": "True",
         "hovertemplate": "Topic Cluster=Other<br>Weight=%{x}<br>Term=%{y}<extra></extra>",
         "legendgroup": "",
         "marker": {
          "color": "#636efa",
          "pattern": {
           "shape": ""
          }
         },
         "name": "",
         "offsetgroup": "",
         "orientation": "h",
         "showlegend": false,
         "textposition": "auto",
         "type": "bar",
         "x": [
          0.4332,
          0.3945,
          0.3635,
          0.3383,
          0.3077,
          0.3051,
          0.305,
          0.2868,
          0.2833,
          0.2641
         ],
         "xaxis": "x2",
         "y": [
          "trump",
          "world",
          "morning",
          "news",
          "sign",
          "writes",
          "mail",
          "media",
          "australian",
          "reports"
         ],
         "yaxis": "y2"
        },
        {
         "alignmentgroup": "True",
         "hovertemplate": "Topic Cluster=Climate Change<br>Weight=%{x}<br>Term=%{y}<extra></extra>",
         "legendgroup": "",
         "marker": {
          "color": "#636efa",
          "pattern": {
           "shape": ""
          }
         },
         "name": "",
         "offsetgroup": "",
         "orientation": "h",
         "showlegend": false,
         "textposition": "auto",
         "type": "bar",
         "x": [
          1.6437,
          1.3935,
          0.7735,
          0.6206,
          0.6011,
          0.4192,
          0.3863,
          0.3753,
          0.3622,
          0.3098
         ],
         "xaxis": "x3",
         "y": [
          "climate",
          "emissions",
          "climate change",
          "change",
          "carbon",
          "net zero",
          "zero",
          "net",
          "target",
          "reduction"
         ],
         "yaxis": "y3"
        },
        {
         "alignmentgroup": "True",
         "hovertemplate": "Topic Cluster=Indigenous<br>Weight=%{x}<br>Term=%{y}<extra></extra>",
         "legendgroup": "",
         "marker": {
          "color": "#636efa",
          "pattern": {
           "shape": ""
          }
         },
         "name": "",
         "offsetgroup": "",
         "orientation": "h",
         "showlegend": false,
         "textposition": "auto",
         "type": "bar",
         "x": [
          1.0924,
          1.0563,
          0.5474,
          0.4682,
          0.4649,
          0.4609,
          0.4289,
          0.4124,
          0.3878,
          0.385
         ],
         "xaxis": "x4",
         "y": [
          "indigenous",
          "aboriginal",
          "voice",
          "torres",
          "torres strait",
          "strait",
          "people",
          "treaty",
          "islander",
          "aboriginal torres"
         ],
         "yaxis": "y4"
        },
        {
         "alignmentgroup": "True",
         "hovertemplate": "Topic Cluster=COVID 2<br>Weight=%{x}<br>Term=%{y}<extra></extra>",
         "legendgroup": "",
         "marker": {
          "color": "#636efa",
          "pattern": {
           "shape": ""
          }
         },
         "name": "",
         "offsetgroup": "",
         "orientation": "h",
         "showlegend": false,
         "textposition": "auto",
         "type": "bar",
         "x": [
          1.5977,
          0.8056,
          0.6335,
          0.6105,
          0.5746,
          0.5544,
          0.5491,
          0.5485,
          0.3816,
          0.3103
         ],
         "xaxis": "x5",
         "y": [
          "vaccine",
          "vaccination",
          "astrazeneca",
          "vaccinated",
          "doses",
          "vaccines",
          "covid",
          "pfizer",
          "rollout",
          "health"
         ],
         "yaxis": "y5"
        }
       ],
       "layout": {
        "annotations": [
         {
          "font": {},
          "showarrow": false,
          "text": "Cost of Living",
          "x": 0.09200000000000001,
          "xanchor": "center",
          "xref": "paper",
          "y": 0.1975,
          "yanchor": "bottom",
          "yref": "paper"
         },
         {
          "font": {},
          "showarrow": false,
          "text": "Other",
          "x": 0.29600000000000004,
          "xanchor": "center",
          "xref": "paper",
          "y": 0.1975,
          "yanchor": "bottom",
          "yref": "paper"
         },
         {
          "font": {},
          "showarrow": false,
          "text": "Climate Change",
          "x": 0.5,
          "xanchor": "center",
          "xref": "paper",
          "y": 0.1975,
          "yanchor": "bottom",
          "yref": "paper"
         },
         {
          "font": {},
          "showarrow": false,
          "text": "Indigenous",
          "x": 0.7040000000000002,
          "xanchor": "center",
          "xref": "paper",
          "y": 0.1975,
          "yanchor": "bottom",
          "yref": "paper"
         },
         {
          "font": {},
          "showarrow": false,
          "text": "COVID 2",
          "x": 0.908,
          "xanchor": "center",
          "xref": "paper",
          "y": 0.1975,
          "yanchor": "bottom",
          "yref": "paper"
         },
         {
          "font": {},
          "showarrow": false,
          "text": "Great Barrier Reef",
          "x": 0.09200000000000001,
          "xanchor": "center",
          "xref": "paper",
          "y": 0.465,
          "yanchor": "bottom",
          "yref": "paper"
         },
         {
          "font": {},
          "showarrow": false,
          "text": "Flood",
          "x": 0.29600000000000004,
          "xanchor": "center",
          "xref": "paper",
          "y": 0.465,
          "yanchor": "bottom",
          "yref": "paper"
         },
         {
          "font": {},
          "showarrow": false,
          "text": "Education",
          "x": 0.5,
          "xanchor": "center",
          "xref": "paper",
          "y": 0.465,
          "yanchor": "bottom",
          "yref": "paper"
         },
         {
          "font": {},
          "showarrow": false,
          "text": "Domestic Violence",
          "x": 0.7040000000000002,
          "xanchor": "center",
          "xref": "paper",
          "y": 0.465,
          "yanchor": "bottom",
          "yref": "paper"
         },
         {
          "font": {},
          "showarrow": false,
          "text": "Sport",
          "x": 0.908,
          "xanchor": "center",
          "xref": "paper",
          "y": 0.465,
          "yanchor": "bottom",
          "yref": "paper"
         },
         {
          "font": {},
          "showarrow": false,
          "text": "COVID 1",
          "x": 0.09200000000000001,
          "xanchor": "center",
          "xref": "paper",
          "y": 0.7325,
          "yanchor": "bottom",
          "yref": "paper"
         },
         {
          "font": {},
          "showarrow": false,
          "text": "Aged Care",
          "x": 0.29600000000000004,
          "xanchor": "center",
          "xref": "paper",
          "y": 0.7325,
          "yanchor": "bottom",
          "yref": "paper"
         },
         {
          "font": {},
          "showarrow": false,
          "text": "Mining",
          "x": 0.5,
          "xanchor": "center",
          "xref": "paper",
          "y": 0.7325,
          "yanchor": "bottom",
          "yref": "paper"
         },
         {
          "font": {},
          "showarrow": false,
          "text": "Power",
          "x": 0.7040000000000002,
          "xanchor": "center",
          "xref": "paper",
          "y": 0.7325,
          "yanchor": "bottom",
          "yref": "paper"
         },
         {
          "font": {},
          "showarrow": false,
          "text": "Police",
          "x": 0.908,
          "xanchor": "center",
          "xref": "paper",
          "y": 0.7325,
          "yanchor": "bottom",
          "yref": "paper"
         },
         {
          "font": {},
          "showarrow": false,
          "text": "Politics 1",
          "x": 0.09200000000000001,
          "xanchor": "center",
          "xref": "paper",
          "y": 1,
          "yanchor": "bottom",
          "yref": "paper"
         },
         {
          "font": {},
          "showarrow": false,
          "text": "Youth Crime",
          "x": 0.29600000000000004,
          "xanchor": "center",
          "xref": "paper",
          "y": 1,
          "yanchor": "bottom",
          "yref": "paper"
         },
         {
          "font": {},
          "showarrow": false,
          "text": "Family",
          "x": 0.5,
          "xanchor": "center",
          "xref": "paper",
          "y": 1,
          "yanchor": "bottom",
          "yref": "paper"
         },
         {
          "font": {},
          "showarrow": false,
          "text": "Politics 2",
          "x": 0.7040000000000002,
          "xanchor": "center",
          "xref": "paper",
          "y": 1,
          "yanchor": "bottom",
          "yref": "paper"
         },
         {
          "font": {},
          "showarrow": false,
          "text": "Environment",
          "x": 0.908,
          "xanchor": "center",
          "xref": "paper",
          "y": 1,
          "yanchor": "bottom",
          "yref": "paper"
         }
        ],
        "barmode": "relative",
        "height": 1000,
        "legend": {
         "title": {
          "font": {
           "size": 15
          }
         },
         "tracegroupgap": 0
        },
        "template": {
         "data": {
          "bar": [
           {
            "error_x": {
             "color": "#2a3f5f"
            },
            "error_y": {
             "color": "#2a3f5f"
            },
            "marker": {
             "line": {
              "color": "#E5ECF6",
              "width": 0.5
             },
             "pattern": {
              "fillmode": "overlay",
              "size": 10,
              "solidity": 0.2
             }
            },
            "type": "bar"
           }
          ],
          "barpolar": [
           {
            "marker": {
             "line": {
              "color": "#E5ECF6",
              "width": 0.5
             },
             "pattern": {
              "fillmode": "overlay",
              "size": 10,
              "solidity": 0.2
             }
            },
            "type": "barpolar"
           }
          ],
          "carpet": [
           {
            "aaxis": {
             "endlinecolor": "#2a3f5f",
             "gridcolor": "white",
             "linecolor": "white",
             "minorgridcolor": "white",
             "startlinecolor": "#2a3f5f"
            },
            "baxis": {
             "endlinecolor": "#2a3f5f",
             "gridcolor": "white",
             "linecolor": "white",
             "minorgridcolor": "white",
             "startlinecolor": "#2a3f5f"
            },
            "type": "carpet"
           }
          ],
          "choropleth": [
           {
            "colorbar": {
             "outlinewidth": 0,
             "ticks": ""
            },
            "type": "choropleth"
           }
          ],
          "contour": [
           {
            "colorbar": {
             "outlinewidth": 0,
             "ticks": ""
            },
            "colorscale": [
             [
              0,
              "#0d0887"
             ],
             [
              0.1111111111111111,
              "#46039f"
             ],
             [
              0.2222222222222222,
              "#7201a8"
             ],
             [
              0.3333333333333333,
              "#9c179e"
             ],
             [
              0.4444444444444444,
              "#bd3786"
             ],
             [
              0.5555555555555556,
              "#d8576b"
             ],
             [
              0.6666666666666666,
              "#ed7953"
             ],
             [
              0.7777777777777778,
              "#fb9f3a"
             ],
             [
              0.8888888888888888,
              "#fdca26"
             ],
             [
              1,
              "#f0f921"
             ]
            ],
            "type": "contour"
           }
          ],
          "contourcarpet": [
           {
            "colorbar": {
             "outlinewidth": 0,
             "ticks": ""
            },
            "type": "contourcarpet"
           }
          ],
          "heatmap": [
           {
            "colorbar": {
             "outlinewidth": 0,
             "ticks": ""
            },
            "colorscale": [
             [
              0,
              "#0d0887"
             ],
             [
              0.1111111111111111,
              "#46039f"
             ],
             [
              0.2222222222222222,
              "#7201a8"
             ],
             [
              0.3333333333333333,
              "#9c179e"
             ],
             [
              0.4444444444444444,
              "#bd3786"
             ],
             [
              0.5555555555555556,
              "#d8576b"
             ],
             [
              0.6666666666666666,
              "#ed7953"
             ],
             [
              0.7777777777777778,
              "#fb9f3a"
             ],
             [
              0.8888888888888888,
              "#fdca26"
             ],
             [
              1,
              "#f0f921"
             ]
            ],
            "type": "heatmap"
           }
          ],
          "heatmapgl": [
           {
            "colorbar": {
             "outlinewidth": 0,
             "ticks": ""
            },
            "colorscale": [
             [
              0,
              "#0d0887"
             ],
             [
              0.1111111111111111,
              "#46039f"
             ],
             [
              0.2222222222222222,
              "#7201a8"
             ],
             [
              0.3333333333333333,
              "#9c179e"
             ],
             [
              0.4444444444444444,
              "#bd3786"
             ],
             [
              0.5555555555555556,
              "#d8576b"
             ],
             [
              0.6666666666666666,
              "#ed7953"
             ],
             [
              0.7777777777777778,
              "#fb9f3a"
             ],
             [
              0.8888888888888888,
              "#fdca26"
             ],
             [
              1,
              "#f0f921"
             ]
            ],
            "type": "heatmapgl"
           }
          ],
          "histogram": [
           {
            "marker": {
             "pattern": {
              "fillmode": "overlay",
              "size": 10,
              "solidity": 0.2
             }
            },
            "type": "histogram"
           }
          ],
          "histogram2d": [
           {
            "colorbar": {
             "outlinewidth": 0,
             "ticks": ""
            },
            "colorscale": [
             [
              0,
              "#0d0887"
             ],
             [
              0.1111111111111111,
              "#46039f"
             ],
             [
              0.2222222222222222,
              "#7201a8"
             ],
             [
              0.3333333333333333,
              "#9c179e"
             ],
             [
              0.4444444444444444,
              "#bd3786"
             ],
             [
              0.5555555555555556,
              "#d8576b"
             ],
             [
              0.6666666666666666,
              "#ed7953"
             ],
             [
              0.7777777777777778,
              "#fb9f3a"
             ],
             [
              0.8888888888888888,
              "#fdca26"
             ],
             [
              1,
              "#f0f921"
             ]
            ],
            "type": "histogram2d"
           }
          ],
          "histogram2dcontour": [
           {
            "colorbar": {
             "outlinewidth": 0,
             "ticks": ""
            },
            "colorscale": [
             [
              0,
              "#0d0887"
             ],
             [
              0.1111111111111111,
              "#46039f"
             ],
             [
              0.2222222222222222,
              "#7201a8"
             ],
             [
              0.3333333333333333,
              "#9c179e"
             ],
             [
              0.4444444444444444,
              "#bd3786"
             ],
             [
              0.5555555555555556,
              "#d8576b"
             ],
             [
              0.6666666666666666,
              "#ed7953"
             ],
             [
              0.7777777777777778,
              "#fb9f3a"
             ],
             [
              0.8888888888888888,
              "#fdca26"
             ],
             [
              1,
              "#f0f921"
             ]
            ],
            "type": "histogram2dcontour"
           }
          ],
          "mesh3d": [
           {
            "colorbar": {
             "outlinewidth": 0,
             "ticks": ""
            },
            "type": "mesh3d"
           }
          ],
          "parcoords": [
           {
            "line": {
             "colorbar": {
              "outlinewidth": 0,
              "ticks": ""
             }
            },
            "type": "parcoords"
           }
          ],
          "pie": [
           {
            "automargin": true,
            "type": "pie"
           }
          ],
          "scatter": [
           {
            "fillpattern": {
             "fillmode": "overlay",
             "size": 10,
             "solidity": 0.2
            },
            "type": "scatter"
           }
          ],
          "scatter3d": [
           {
            "line": {
             "colorbar": {
              "outlinewidth": 0,
              "ticks": ""
             }
            },
            "marker": {
             "colorbar": {
              "outlinewidth": 0,
              "ticks": ""
             }
            },
            "type": "scatter3d"
           }
          ],
          "scattercarpet": [
           {
            "marker": {
             "colorbar": {
              "outlinewidth": 0,
              "ticks": ""
             }
            },
            "type": "scattercarpet"
           }
          ],
          "scattergeo": [
           {
            "marker": {
             "colorbar": {
              "outlinewidth": 0,
              "ticks": ""
             }
            },
            "type": "scattergeo"
           }
          ],
          "scattergl": [
           {
            "marker": {
             "colorbar": {
              "outlinewidth": 0,
              "ticks": ""
             }
            },
            "type": "scattergl"
           }
          ],
          "scattermapbox": [
           {
            "marker": {
             "colorbar": {
              "outlinewidth": 0,
              "ticks": ""
             }
            },
            "type": "scattermapbox"
           }
          ],
          "scatterpolar": [
           {
            "marker": {
             "colorbar": {
              "outlinewidth": 0,
              "ticks": ""
             }
            },
            "type": "scatterpolar"
           }
          ],
          "scatterpolargl": [
           {
            "marker": {
             "colorbar": {
              "outlinewidth": 0,
              "ticks": ""
             }
            },
            "type": "scatterpolargl"
           }
          ],
          "scatterternary": [
           {
            "marker": {
             "colorbar": {
              "outlinewidth": 0,
              "ticks": ""
             }
            },
            "type": "scatterternary"
           }
          ],
          "surface": [
           {
            "colorbar": {
             "outlinewidth": 0,
             "ticks": ""
            },
            "colorscale": [
             [
              0,
              "#0d0887"
             ],
             [
              0.1111111111111111,
              "#46039f"
             ],
             [
              0.2222222222222222,
              "#7201a8"
             ],
             [
              0.3333333333333333,
              "#9c179e"
             ],
             [
              0.4444444444444444,
              "#bd3786"
             ],
             [
              0.5555555555555556,
              "#d8576b"
             ],
             [
              0.6666666666666666,
              "#ed7953"
             ],
             [
              0.7777777777777778,
              "#fb9f3a"
             ],
             [
              0.8888888888888888,
              "#fdca26"
             ],
             [
              1,
              "#f0f921"
             ]
            ],
            "type": "surface"
           }
          ],
          "table": [
           {
            "cells": {
             "fill": {
              "color": "#EBF0F8"
             },
             "line": {
              "color": "white"
             }
            },
            "header": {
             "fill": {
              "color": "#C8D4E3"
             },
             "line": {
              "color": "white"
             }
            },
            "type": "table"
           }
          ]
         },
         "layout": {
          "annotationdefaults": {
           "arrowcolor": "#2a3f5f",
           "arrowhead": 0,
           "arrowwidth": 1
          },
          "autotypenumbers": "strict",
          "coloraxis": {
           "colorbar": {
            "outlinewidth": 0,
            "ticks": ""
           }
          },
          "colorscale": {
           "diverging": [
            [
             0,
             "#8e0152"
            ],
            [
             0.1,
             "#c51b7d"
            ],
            [
             0.2,
             "#de77ae"
            ],
            [
             0.3,
             "#f1b6da"
            ],
            [
             0.4,
             "#fde0ef"
            ],
            [
             0.5,
             "#f7f7f7"
            ],
            [
             0.6,
             "#e6f5d0"
            ],
            [
             0.7,
             "#b8e186"
            ],
            [
             0.8,
             "#7fbc41"
            ],
            [
             0.9,
             "#4d9221"
            ],
            [
             1,
             "#276419"
            ]
           ],
           "sequential": [
            [
             0,
             "#0d0887"
            ],
            [
             0.1111111111111111,
             "#46039f"
            ],
            [
             0.2222222222222222,
             "#7201a8"
            ],
            [
             0.3333333333333333,
             "#9c179e"
            ],
            [
             0.4444444444444444,
             "#bd3786"
            ],
            [
             0.5555555555555556,
             "#d8576b"
            ],
            [
             0.6666666666666666,
             "#ed7953"
            ],
            [
             0.7777777777777778,
             "#fb9f3a"
            ],
            [
             0.8888888888888888,
             "#fdca26"
            ],
            [
             1,
             "#f0f921"
            ]
           ],
           "sequentialminus": [
            [
             0,
             "#0d0887"
            ],
            [
             0.1111111111111111,
             "#46039f"
            ],
            [
             0.2222222222222222,
             "#7201a8"
            ],
            [
             0.3333333333333333,
             "#9c179e"
            ],
            [
             0.4444444444444444,
             "#bd3786"
            ],
            [
             0.5555555555555556,
             "#d8576b"
            ],
            [
             0.6666666666666666,
             "#ed7953"
            ],
            [
             0.7777777777777778,
             "#fb9f3a"
            ],
            [
             0.8888888888888888,
             "#fdca26"
            ],
            [
             1,
             "#f0f921"
            ]
           ]
          },
          "colorway": [
           "#636efa",
           "#EF553B",
           "#00cc96",
           "#ab63fa",
           "#FFA15A",
           "#19d3f3",
           "#FF6692",
           "#B6E880",
           "#FF97FF",
           "#FECB52"
          ],
          "font": {
           "color": "#2a3f5f"
          },
          "geo": {
           "bgcolor": "white",
           "lakecolor": "white",
           "landcolor": "#E5ECF6",
           "showlakes": true,
           "showland": true,
           "subunitcolor": "white"
          },
          "hoverlabel": {
           "align": "left"
          },
          "hovermode": "closest",
          "mapbox": {
           "style": "light"
          },
          "paper_bgcolor": "white",
          "plot_bgcolor": "#E5ECF6",
          "polar": {
           "angularaxis": {
            "gridcolor": "white",
            "linecolor": "white",
            "ticks": ""
           },
           "bgcolor": "#E5ECF6",
           "radialaxis": {
            "gridcolor": "white",
            "linecolor": "white",
            "ticks": ""
           }
          },
          "scene": {
           "xaxis": {
            "backgroundcolor": "#E5ECF6",
            "gridcolor": "white",
            "gridwidth": 2,
            "linecolor": "white",
            "showbackground": true,
            "ticks": "",
            "zerolinecolor": "white"
           },
           "yaxis": {
            "backgroundcolor": "#E5ECF6",
            "gridcolor": "white",
            "gridwidth": 2,
            "linecolor": "white",
            "showbackground": true,
            "ticks": "",
            "zerolinecolor": "white"
           },
           "zaxis": {
            "backgroundcolor": "#E5ECF6",
            "gridcolor": "white",
            "gridwidth": 2,
            "linecolor": "white",
            "showbackground": true,
            "ticks": "",
            "zerolinecolor": "white"
           }
          },
          "shapedefaults": {
           "line": {
            "color": "#2a3f5f"
           }
          },
          "ternary": {
           "aaxis": {
            "gridcolor": "white",
            "linecolor": "white",
            "ticks": ""
           },
           "baxis": {
            "gridcolor": "white",
            "linecolor": "white",
            "ticks": ""
           },
           "bgcolor": "#E5ECF6",
           "caxis": {
            "gridcolor": "white",
            "linecolor": "white",
            "ticks": ""
           }
          },
          "title": {
           "x": 0.05
          },
          "xaxis": {
           "automargin": true,
           "gridcolor": "white",
           "linecolor": "white",
           "ticks": "",
           "title": {
            "standoff": 15
           },
           "zerolinecolor": "white",
           "zerolinewidth": 2
          },
          "yaxis": {
           "automargin": true,
           "gridcolor": "white",
           "linecolor": "white",
           "ticks": "",
           "title": {
            "standoff": 15
           },
           "zerolinecolor": "white",
           "zerolinewidth": 2
          }
         }
        },
        "title": {
         "font": {
          "size": 25
         },
         "text": "NMF Topic Clusters of TFIDF Terms",
         "x": 0.5
        },
        "xaxis": {
         "anchor": "y",
         "domain": [
          0,
          0.18400000000000002
         ],
         "title": {
          "text": "Weight"
         }
        },
        "xaxis10": {
         "anchor": "y10",
         "domain": [
          0.8160000000000001,
          1
         ],
         "matches": "x",
         "showticklabels": false
        },
        "xaxis11": {
         "anchor": "y11",
         "domain": [
          0,
          0.18400000000000002
         ],
         "matches": "x",
         "showticklabels": false
        },
        "xaxis12": {
         "anchor": "y12",
         "domain": [
          0.20400000000000001,
          0.388
         ],
         "matches": "x",
         "showticklabels": false
        },
        "xaxis13": {
         "anchor": "y13",
         "domain": [
          0.40800000000000003,
          0.5920000000000001
         ],
         "matches": "x",
         "showticklabels": false
        },
        "xaxis14": {
         "anchor": "y14",
         "domain": [
          0.6120000000000001,
          0.7960000000000002
         ],
         "matches": "x",
         "showticklabels": false
        },
        "xaxis15": {
         "anchor": "y15",
         "domain": [
          0.8160000000000001,
          1
         ],
         "matches": "x",
         "showticklabels": false
        },
        "xaxis16": {
         "anchor": "y16",
         "domain": [
          0,
          0.18400000000000002
         ],
         "matches": "x",
         "showticklabels": false
        },
        "xaxis17": {
         "anchor": "y17",
         "domain": [
          0.20400000000000001,
          0.388
         ],
         "matches": "x",
         "showticklabels": false
        },
        "xaxis18": {
         "anchor": "y18",
         "domain": [
          0.40800000000000003,
          0.5920000000000001
         ],
         "matches": "x",
         "showticklabels": false
        },
        "xaxis19": {
         "anchor": "y19",
         "domain": [
          0.6120000000000001,
          0.7960000000000002
         ],
         "matches": "x",
         "showticklabels": false
        },
        "xaxis2": {
         "anchor": "y2",
         "domain": [
          0.20400000000000001,
          0.388
         ],
         "matches": "x",
         "title": {
          "text": "Weight"
         }
        },
        "xaxis20": {
         "anchor": "y20",
         "domain": [
          0.8160000000000001,
          1
         ],
         "matches": "x",
         "showticklabels": false
        },
        "xaxis3": {
         "anchor": "y3",
         "domain": [
          0.40800000000000003,
          0.5920000000000001
         ],
         "matches": "x",
         "title": {
          "text": "Weight"
         }
        },
        "xaxis4": {
         "anchor": "y4",
         "domain": [
          0.6120000000000001,
          0.7960000000000002
         ],
         "matches": "x",
         "title": {
          "text": "Weight"
         }
        },
        "xaxis5": {
         "anchor": "y5",
         "domain": [
          0.8160000000000001,
          1
         ],
         "matches": "x",
         "title": {
          "text": "Weight"
         }
        },
        "xaxis6": {
         "anchor": "y6",
         "domain": [
          0,
          0.18400000000000002
         ],
         "matches": "x",
         "showticklabels": false
        },
        "xaxis7": {
         "anchor": "y7",
         "domain": [
          0.20400000000000001,
          0.388
         ],
         "matches": "x",
         "showticklabels": false
        },
        "xaxis8": {
         "anchor": "y8",
         "domain": [
          0.40800000000000003,
          0.5920000000000001
         ],
         "matches": "x",
         "showticklabels": false
        },
        "xaxis9": {
         "anchor": "y9",
         "domain": [
          0.6120000000000001,
          0.7960000000000002
         ],
         "matches": "x",
         "showticklabels": false
        },
        "yaxis": {
         "anchor": "x",
         "domain": [
          0,
          0.1975
         ],
         "showticklabels": true,
         "title": {
          "text": "Term"
         }
        },
        "yaxis10": {
         "anchor": "x10",
         "domain": [
          0.2675,
          0.465
         ],
         "showticklabels": true
        },
        "yaxis11": {
         "anchor": "x11",
         "domain": [
          0.535,
          0.7325
         ],
         "showticklabels": true,
         "title": {
          "text": "Term"
         }
        },
        "yaxis12": {
         "anchor": "x12",
         "domain": [
          0.535,
          0.7325
         ],
         "showticklabels": true
        },
        "yaxis13": {
         "anchor": "x13",
         "domain": [
          0.535,
          0.7325
         ],
         "showticklabels": true
        },
        "yaxis14": {
         "anchor": "x14",
         "domain": [
          0.535,
          0.7325
         ],
         "showticklabels": true
        },
        "yaxis15": {
         "anchor": "x15",
         "domain": [
          0.535,
          0.7325
         ],
         "showticklabels": true
        },
        "yaxis16": {
         "anchor": "x16",
         "domain": [
          0.8025,
          1
         ],
         "showticklabels": true,
         "title": {
          "text": "Term"
         }
        },
        "yaxis17": {
         "anchor": "x17",
         "domain": [
          0.8025,
          1
         ],
         "showticklabels": true
        },
        "yaxis18": {
         "anchor": "x18",
         "domain": [
          0.8025,
          1
         ],
         "showticklabels": true
        },
        "yaxis19": {
         "anchor": "x19",
         "domain": [
          0.8025,
          1
         ],
         "showticklabels": true
        },
        "yaxis2": {
         "anchor": "x2",
         "domain": [
          0,
          0.1975
         ],
         "showticklabels": true
        },
        "yaxis20": {
         "anchor": "x20",
         "domain": [
          0.8025,
          1
         ],
         "showticklabels": true
        },
        "yaxis3": {
         "anchor": "x3",
         "domain": [
          0,
          0.1975
         ],
         "showticklabels": true
        },
        "yaxis4": {
         "anchor": "x4",
         "domain": [
          0,
          0.1975
         ],
         "showticklabels": true
        },
        "yaxis5": {
         "anchor": "x5",
         "domain": [
          0,
          0.1975
         ],
         "showticklabels": true
        },
        "yaxis6": {
         "anchor": "x6",
         "domain": [
          0.2675,
          0.465
         ],
         "showticklabels": true,
         "title": {
          "text": "Term"
         }
        },
        "yaxis7": {
         "anchor": "x7",
         "domain": [
          0.2675,
          0.465
         ],
         "showticklabels": true
        },
        "yaxis8": {
         "anchor": "x8",
         "domain": [
          0.2675,
          0.465
         ],
         "showticklabels": true
        },
        "yaxis9": {
         "anchor": "x9",
         "domain": [
          0.2675,
          0.465
         ],
         "showticklabels": true
        }
       }
      }
     },
     "metadata": {},
     "output_type": "display_data"
    }
   ],
   "source": [
    "# NMF topic clusters term graphs\n",
    "nmf_terms_df = pd.read_csv(\"data/nmf_terms_df.csv\")\n",
    "\n",
    "nmf_topic_terms_fig = px.bar(nmf_terms_df,\n",
    "       x =\"Weight\",\n",
    "       y = \"Term\",\n",
    "       facet_col=\"Topic Cluster\", \n",
    "       facet_col_wrap=5,\n",
    "       orientation='h',\n",
    "       title = \"NMF Topic Clusters of TFIDF Terms\")\n",
    "\n",
    "nmf_topic_terms_fig.update_layout(\n",
    "    title_font_size=25,\n",
    "    title_x=0.5,\n",
    "    legend_title_font_size=15,\n",
    "    height=1000\n",
    ")\n",
    "nmf_topic_terms_fig.for_each_annotation(lambda a: a.update(text=a.text.split(\"=\")[-1])) \n",
    "nmf_topic_terms_fig.update_yaxes(showticklabels=True, matches=None)"
   ]
  },
  {
   "cell_type": "markdown",
   "id": "7d4c8d5b",
   "metadata": {},
   "source": [
    "Overall these clusters and underlying terms appear to do quite a good job of representing media coverage by The Guardian relating to Queensland as would be expected. It is also evident that some of these topic clusters can be linked back to underlying themes of key programs run by Advance Queensland. In particular the Indigenous cluster could relate to the \"Deadly Innovations\" program which supports indigenous start-ups and innovation and likewise the two COVID 19 topic clusters can be correlated to medical research funded during the epidemic in order to support the community.\n",
    "\n",
    "While this does highlight overlaps between the unstructured article data and the structured funding data provided by Advance Queensland, it doesn't account for shifting of community needs over time or provide any insights of the proportional representation of topics. By extracting the article dates and aggregating by year some conclusions can be drawn on how community interests/needs have changed. \n",
    "\n",
    "During this process the weightings of each article were normalised from the NMF weightings to the aggregated proportion of articles on a given topic. This allows for more interpretable results for the reader since the values relate to an aggregated sum of article content. Additionally as NMF topics wightings are not expressed as a single topic for article, adopting this approach also improves the representation of topics keeping them as part of the results."
   ]
  },
  {
   "cell_type": "code",
   "execution_count": 81,
   "id": "1309ddd2",
   "metadata": {},
   "outputs": [
    {
     "data": {
      "application/vnd.plotly.v1+json": {
       "config": {
        "plotlyServerURL": "https://plot.ly"
       },
       "data": [
        {
         "alignmentgroup": "True",
         "hovertemplate": "Topic=%{x}<br>aggregated_mentions=%{y}<br>article_year=%{marker.color}<extra></extra>",
         "legendgroup": "",
         "marker": {
          "color": [
           2017,
           2017,
           2017,
           2017,
           2017,
           2017,
           2017,
           2017,
           2017,
           2017,
           2017,
           2017,
           2017,
           2017,
           2017,
           2017,
           2017,
           2017,
           2017,
           2017,
           2018,
           2018,
           2018,
           2018,
           2018,
           2018,
           2018,
           2018,
           2018,
           2018,
           2018,
           2018,
           2018,
           2018,
           2018,
           2018,
           2018,
           2018,
           2018,
           2018,
           2019,
           2019,
           2019,
           2019,
           2019,
           2019,
           2019,
           2019,
           2019,
           2019,
           2019,
           2019,
           2019,
           2019,
           2019,
           2019,
           2019,
           2019,
           2019,
           2019,
           2020,
           2020,
           2020,
           2020,
           2020,
           2020,
           2020,
           2020,
           2020,
           2020,
           2020,
           2020,
           2020,
           2020,
           2020,
           2020,
           2020,
           2020,
           2020,
           2020,
           2021,
           2021,
           2021,
           2021,
           2021,
           2021,
           2021,
           2021,
           2021,
           2021,
           2021,
           2021,
           2021,
           2021,
           2021,
           2021,
           2021,
           2021,
           2021,
           2021,
           2022,
           2022,
           2022,
           2022,
           2022,
           2022,
           2022,
           2022,
           2022,
           2022,
           2022,
           2022,
           2022,
           2022,
           2022,
           2022,
           2022,
           2022,
           2022,
           2022,
           2023,
           2023,
           2023,
           2023,
           2023,
           2023,
           2023,
           2023,
           2023,
           2023,
           2023,
           2023,
           2023,
           2023,
           2023,
           2023,
           2023,
           2023,
           2023,
           2023,
           2024,
           2024,
           2024,
           2024,
           2024,
           2024,
           2024,
           2024,
           2024,
           2024,
           2024,
           2024,
           2024,
           2024,
           2024,
           2024,
           2024,
           2024,
           2024,
           2024
          ],
          "coloraxis": "coloraxis",
          "pattern": {
           "shape": ""
          }
         },
         "name": "",
         "offsetgroup": "",
         "orientation": "v",
         "showlegend": false,
         "textposition": "auto",
         "type": "bar",
         "x": [
          "Aged Care",
          "COVID 1",
          "COVID 2",
          "Climate Change",
          "Cost of Living",
          "Domestic Violence",
          "Education",
          "Environment",
          "Family",
          "Flood",
          "Great Barrier Reef",
          "Indigenous",
          "Mining",
          "Other",
          "Police",
          "Politics 1",
          "Politics 2",
          "Power",
          "Sport",
          "Youth Crime",
          "Aged Care",
          "COVID 1",
          "COVID 2",
          "Climate Change",
          "Cost of Living",
          "Domestic Violence",
          "Education",
          "Environment",
          "Family",
          "Flood",
          "Great Barrier Reef",
          "Indigenous",
          "Mining",
          "Other",
          "Police",
          "Politics 1",
          "Politics 2",
          "Power",
          "Sport",
          "Youth Crime",
          "Aged Care",
          "COVID 1",
          "COVID 2",
          "Climate Change",
          "Cost of Living",
          "Domestic Violence",
          "Education",
          "Environment",
          "Family",
          "Flood",
          "Great Barrier Reef",
          "Indigenous",
          "Mining",
          "Other",
          "Police",
          "Politics 1",
          "Politics 2",
          "Power",
          "Sport",
          "Youth Crime",
          "Aged Care",
          "COVID 1",
          "COVID 2",
          "Climate Change",
          "Cost of Living",
          "Domestic Violence",
          "Education",
          "Environment",
          "Family",
          "Flood",
          "Great Barrier Reef",
          "Indigenous",
          "Mining",
          "Other",
          "Police",
          "Politics 1",
          "Politics 2",
          "Power",
          "Sport",
          "Youth Crime",
          "Aged Care",
          "COVID 1",
          "COVID 2",
          "Climate Change",
          "Cost of Living",
          "Domestic Violence",
          "Education",
          "Environment",
          "Family",
          "Flood",
          "Great Barrier Reef",
          "Indigenous",
          "Mining",
          "Other",
          "Police",
          "Politics 1",
          "Politics 2",
          "Power",
          "Sport",
          "Youth Crime",
          "Aged Care",
          "COVID 1",
          "COVID 2",
          "Climate Change",
          "Cost of Living",
          "Domestic Violence",
          "Education",
          "Environment",
          "Family",
          "Flood",
          "Great Barrier Reef",
          "Indigenous",
          "Mining",
          "Other",
          "Police",
          "Politics 1",
          "Politics 2",
          "Power",
          "Sport",
          "Youth Crime",
          "Aged Care",
          "COVID 1",
          "COVID 2",
          "Climate Change",
          "Cost of Living",
          "Domestic Violence",
          "Education",
          "Environment",
          "Family",
          "Flood",
          "Great Barrier Reef",
          "Indigenous",
          "Mining",
          "Other",
          "Police",
          "Politics 1",
          "Politics 2",
          "Power",
          "Sport",
          "Youth Crime",
          "Aged Care",
          "COVID 1",
          "COVID 2",
          "Climate Change",
          "Cost of Living",
          "Domestic Violence",
          "Education",
          "Environment",
          "Family",
          "Flood",
          "Great Barrier Reef",
          "Indigenous",
          "Mining",
          "Other",
          "Police",
          "Politics 1",
          "Politics 2",
          "Power",
          "Sport",
          "Youth Crime"
         ],
         "xaxis": "x",
         "y": [
          16.105268281788568,
          19.154047620467257,
          5.336736095973265,
          28.49082534809345,
          69.80524878915512,
          42.29288489620773,
          29.808481008386085,
          59.16467741756073,
          160.6063579591182,
          49.91151389861919,
          43.073035206887035,
          54.10147630688052,
          97.88450267575261,
          53.84802973648348,
          48.42690533128026,
          114.54045690862195,
          147.02665164499408,
          76.310841000481,
          76.97065455509595,
          75.1414053181535,
          15.426629639196518,
          15.360027338096344,
          4.072112462596198,
          35.25168838914713,
          83.62745005275958,
          44.824870777429545,
          40.847706909854246,
          85.15791895218595,
          135.57386043457942,
          42.078671206912894,
          37.46083925116272,
          42.26464998556536,
          66.85095885498389,
          58.509201345274754,
          44.18494162454164,
          145.4026557627875,
          143.87692691662315,
          57.799903659741375,
          56.883730275547514,
          64.54525616101425,
          19.006466923290503,
          17.846353906104987,
          5.8849089521100115,
          77.96364817740644,
          70.20925536911962,
          34.10443130504041,
          26.66722938546033,
          89.70698502450868,
          163.4874057547504,
          93.29079894869395,
          36.1658427494217,
          46.08476850797229,
          75.33909628910871,
          67.25447746047398,
          61.943015541944796,
          134.50556489876777,
          151.43784655163876,
          45.64645987128501,
          76.51754265011387,
          63.93790173278781,
          66.06881493257238,
          329.1452971853332,
          36.67693767994454,
          57.18123425741668,
          113.67217151986196,
          42.43596557505462,
          58.73065457203177,
          69.13928660304477,
          182.92936544426922,
          74.67807714032034,
          27.29059912363991,
          43.55330316652832,
          37.14309285746151,
          75.89113362765347,
          67.01936999471738,
          144.86194016077772,
          62.395009453643816,
          48.86815460067223,
          89.90980677357595,
          64.4097853314802,
          58.00275717225678,
          237.17851755344427,
          215.48514022298843,
          64.41586636703697,
          61.403546613744666,
          50.84572589785629,
          36.214013877000454,
          60.5671652017286,
          186.78927944304314,
          87.53309118329517,
          32.03027443139494,
          46.143744109364114,
          22.542479612355418,
          68.60395644371764,
          64.4812072095301,
          140.64573958543323,
          47.48144517025717,
          39.21811291504742,
          79.65505332786188,
          62.76288366264329,
          48.38302170551205,
          77.96006776656797,
          48.6354273631579,
          69.17838476208365,
          158.0481284631277,
          83.14001105984578,
          47.57501058425944,
          87.71464306449613,
          224.91715280824008,
          166.4038150754925,
          35.477197689764765,
          61.2103100271408,
          32.48665165027945,
          118.48972828530272,
          122.32244430619282,
          137.48537840934188,
          119.24484913946168,
          101.09315544822061,
          60.30451131749037,
          100.9301110740217,
          32.371017938386984,
          36.15803734218663,
          13.402766929807354,
          44.7247059721124,
          141.80956483472715,
          57.48666710973809,
          55.25737778718855,
          80.072056760639,
          189.81748646964826,
          112.61119705238947,
          21.220114627686748,
          94.56683648246239,
          23.865574045181855,
          172.49773619850322,
          142.6774877143271,
          84.75228899765175,
          65.1968412537844,
          52.827818536974775,
          60.26693550601883,
          200.41748844058506,
          16.072975605934758,
          22.941395335192066,
          8.284928139148779,
          29.287479891060908,
          88.8427599512034,
          45.42501868808664,
          45.34793956877915,
          62.19389506526616,
          140.8393524222094,
          85.47311370259084,
          20.472776090780858,
          32.25144871674083,
          13.323546351282065,
          123.47453564180674,
          88.73791489601197,
          39.16835770301466,
          46.09139128240161,
          44.348500977864035,
          36.90938393207098,
          94.51328603855417
         ],
         "yaxis": "y"
        }
       ],
       "layout": {
        "barmode": "relative",
        "coloraxis": {
         "colorbar": {
          "title": {
           "text": "article_year"
          }
         },
         "colorscale": [
          [
           0,
           "#0d0887"
          ],
          [
           0.1111111111111111,
           "#46039f"
          ],
          [
           0.2222222222222222,
           "#7201a8"
          ],
          [
           0.3333333333333333,
           "#9c179e"
          ],
          [
           0.4444444444444444,
           "#bd3786"
          ],
          [
           0.5555555555555556,
           "#d8576b"
          ],
          [
           0.6666666666666666,
           "#ed7953"
          ],
          [
           0.7777777777777778,
           "#fb9f3a"
          ],
          [
           0.8888888888888888,
           "#fdca26"
          ],
          [
           1,
           "#f0f921"
          ]
         ]
        },
        "height": 500,
        "legend": {
         "title": {
          "font": {
           "size": 15
          }
         },
         "tracegroupgap": 0
        },
        "template": {
         "data": {
          "bar": [
           {
            "error_x": {
             "color": "#2a3f5f"
            },
            "error_y": {
             "color": "#2a3f5f"
            },
            "marker": {
             "line": {
              "color": "#E5ECF6",
              "width": 0.5
             },
             "pattern": {
              "fillmode": "overlay",
              "size": 10,
              "solidity": 0.2
             }
            },
            "type": "bar"
           }
          ],
          "barpolar": [
           {
            "marker": {
             "line": {
              "color": "#E5ECF6",
              "width": 0.5
             },
             "pattern": {
              "fillmode": "overlay",
              "size": 10,
              "solidity": 0.2
             }
            },
            "type": "barpolar"
           }
          ],
          "carpet": [
           {
            "aaxis": {
             "endlinecolor": "#2a3f5f",
             "gridcolor": "white",
             "linecolor": "white",
             "minorgridcolor": "white",
             "startlinecolor": "#2a3f5f"
            },
            "baxis": {
             "endlinecolor": "#2a3f5f",
             "gridcolor": "white",
             "linecolor": "white",
             "minorgridcolor": "white",
             "startlinecolor": "#2a3f5f"
            },
            "type": "carpet"
           }
          ],
          "choropleth": [
           {
            "colorbar": {
             "outlinewidth": 0,
             "ticks": ""
            },
            "type": "choropleth"
           }
          ],
          "contour": [
           {
            "colorbar": {
             "outlinewidth": 0,
             "ticks": ""
            },
            "colorscale": [
             [
              0,
              "#0d0887"
             ],
             [
              0.1111111111111111,
              "#46039f"
             ],
             [
              0.2222222222222222,
              "#7201a8"
             ],
             [
              0.3333333333333333,
              "#9c179e"
             ],
             [
              0.4444444444444444,
              "#bd3786"
             ],
             [
              0.5555555555555556,
              "#d8576b"
             ],
             [
              0.6666666666666666,
              "#ed7953"
             ],
             [
              0.7777777777777778,
              "#fb9f3a"
             ],
             [
              0.8888888888888888,
              "#fdca26"
             ],
             [
              1,
              "#f0f921"
             ]
            ],
            "type": "contour"
           }
          ],
          "contourcarpet": [
           {
            "colorbar": {
             "outlinewidth": 0,
             "ticks": ""
            },
            "type": "contourcarpet"
           }
          ],
          "heatmap": [
           {
            "colorbar": {
             "outlinewidth": 0,
             "ticks": ""
            },
            "colorscale": [
             [
              0,
              "#0d0887"
             ],
             [
              0.1111111111111111,
              "#46039f"
             ],
             [
              0.2222222222222222,
              "#7201a8"
             ],
             [
              0.3333333333333333,
              "#9c179e"
             ],
             [
              0.4444444444444444,
              "#bd3786"
             ],
             [
              0.5555555555555556,
              "#d8576b"
             ],
             [
              0.6666666666666666,
              "#ed7953"
             ],
             [
              0.7777777777777778,
              "#fb9f3a"
             ],
             [
              0.8888888888888888,
              "#fdca26"
             ],
             [
              1,
              "#f0f921"
             ]
            ],
            "type": "heatmap"
           }
          ],
          "heatmapgl": [
           {
            "colorbar": {
             "outlinewidth": 0,
             "ticks": ""
            },
            "colorscale": [
             [
              0,
              "#0d0887"
             ],
             [
              0.1111111111111111,
              "#46039f"
             ],
             [
              0.2222222222222222,
              "#7201a8"
             ],
             [
              0.3333333333333333,
              "#9c179e"
             ],
             [
              0.4444444444444444,
              "#bd3786"
             ],
             [
              0.5555555555555556,
              "#d8576b"
             ],
             [
              0.6666666666666666,
              "#ed7953"
             ],
             [
              0.7777777777777778,
              "#fb9f3a"
             ],
             [
              0.8888888888888888,
              "#fdca26"
             ],
             [
              1,
              "#f0f921"
             ]
            ],
            "type": "heatmapgl"
           }
          ],
          "histogram": [
           {
            "marker": {
             "pattern": {
              "fillmode": "overlay",
              "size": 10,
              "solidity": 0.2
             }
            },
            "type": "histogram"
           }
          ],
          "histogram2d": [
           {
            "colorbar": {
             "outlinewidth": 0,
             "ticks": ""
            },
            "colorscale": [
             [
              0,
              "#0d0887"
             ],
             [
              0.1111111111111111,
              "#46039f"
             ],
             [
              0.2222222222222222,
              "#7201a8"
             ],
             [
              0.3333333333333333,
              "#9c179e"
             ],
             [
              0.4444444444444444,
              "#bd3786"
             ],
             [
              0.5555555555555556,
              "#d8576b"
             ],
             [
              0.6666666666666666,
              "#ed7953"
             ],
             [
              0.7777777777777778,
              "#fb9f3a"
             ],
             [
              0.8888888888888888,
              "#fdca26"
             ],
             [
              1,
              "#f0f921"
             ]
            ],
            "type": "histogram2d"
           }
          ],
          "histogram2dcontour": [
           {
            "colorbar": {
             "outlinewidth": 0,
             "ticks": ""
            },
            "colorscale": [
             [
              0,
              "#0d0887"
             ],
             [
              0.1111111111111111,
              "#46039f"
             ],
             [
              0.2222222222222222,
              "#7201a8"
             ],
             [
              0.3333333333333333,
              "#9c179e"
             ],
             [
              0.4444444444444444,
              "#bd3786"
             ],
             [
              0.5555555555555556,
              "#d8576b"
             ],
             [
              0.6666666666666666,
              "#ed7953"
             ],
             [
              0.7777777777777778,
              "#fb9f3a"
             ],
             [
              0.8888888888888888,
              "#fdca26"
             ],
             [
              1,
              "#f0f921"
             ]
            ],
            "type": "histogram2dcontour"
           }
          ],
          "mesh3d": [
           {
            "colorbar": {
             "outlinewidth": 0,
             "ticks": ""
            },
            "type": "mesh3d"
           }
          ],
          "parcoords": [
           {
            "line": {
             "colorbar": {
              "outlinewidth": 0,
              "ticks": ""
             }
            },
            "type": "parcoords"
           }
          ],
          "pie": [
           {
            "automargin": true,
            "type": "pie"
           }
          ],
          "scatter": [
           {
            "fillpattern": {
             "fillmode": "overlay",
             "size": 10,
             "solidity": 0.2
            },
            "type": "scatter"
           }
          ],
          "scatter3d": [
           {
            "line": {
             "colorbar": {
              "outlinewidth": 0,
              "ticks": ""
             }
            },
            "marker": {
             "colorbar": {
              "outlinewidth": 0,
              "ticks": ""
             }
            },
            "type": "scatter3d"
           }
          ],
          "scattercarpet": [
           {
            "marker": {
             "colorbar": {
              "outlinewidth": 0,
              "ticks": ""
             }
            },
            "type": "scattercarpet"
           }
          ],
          "scattergeo": [
           {
            "marker": {
             "colorbar": {
              "outlinewidth": 0,
              "ticks": ""
             }
            },
            "type": "scattergeo"
           }
          ],
          "scattergl": [
           {
            "marker": {
             "colorbar": {
              "outlinewidth": 0,
              "ticks": ""
             }
            },
            "type": "scattergl"
           }
          ],
          "scattermapbox": [
           {
            "marker": {
             "colorbar": {
              "outlinewidth": 0,
              "ticks": ""
             }
            },
            "type": "scattermapbox"
           }
          ],
          "scatterpolar": [
           {
            "marker": {
             "colorbar": {
              "outlinewidth": 0,
              "ticks": ""
             }
            },
            "type": "scatterpolar"
           }
          ],
          "scatterpolargl": [
           {
            "marker": {
             "colorbar": {
              "outlinewidth": 0,
              "ticks": ""
             }
            },
            "type": "scatterpolargl"
           }
          ],
          "scatterternary": [
           {
            "marker": {
             "colorbar": {
              "outlinewidth": 0,
              "ticks": ""
             }
            },
            "type": "scatterternary"
           }
          ],
          "surface": [
           {
            "colorbar": {
             "outlinewidth": 0,
             "ticks": ""
            },
            "colorscale": [
             [
              0,
              "#0d0887"
             ],
             [
              0.1111111111111111,
              "#46039f"
             ],
             [
              0.2222222222222222,
              "#7201a8"
             ],
             [
              0.3333333333333333,
              "#9c179e"
             ],
             [
              0.4444444444444444,
              "#bd3786"
             ],
             [
              0.5555555555555556,
              "#d8576b"
             ],
             [
              0.6666666666666666,
              "#ed7953"
             ],
             [
              0.7777777777777778,
              "#fb9f3a"
             ],
             [
              0.8888888888888888,
              "#fdca26"
             ],
             [
              1,
              "#f0f921"
             ]
            ],
            "type": "surface"
           }
          ],
          "table": [
           {
            "cells": {
             "fill": {
              "color": "#EBF0F8"
             },
             "line": {
              "color": "white"
             }
            },
            "header": {
             "fill": {
              "color": "#C8D4E3"
             },
             "line": {
              "color": "white"
             }
            },
            "type": "table"
           }
          ]
         },
         "layout": {
          "annotationdefaults": {
           "arrowcolor": "#2a3f5f",
           "arrowhead": 0,
           "arrowwidth": 1
          },
          "autotypenumbers": "strict",
          "coloraxis": {
           "colorbar": {
            "outlinewidth": 0,
            "ticks": ""
           }
          },
          "colorscale": {
           "diverging": [
            [
             0,
             "#8e0152"
            ],
            [
             0.1,
             "#c51b7d"
            ],
            [
             0.2,
             "#de77ae"
            ],
            [
             0.3,
             "#f1b6da"
            ],
            [
             0.4,
             "#fde0ef"
            ],
            [
             0.5,
             "#f7f7f7"
            ],
            [
             0.6,
             "#e6f5d0"
            ],
            [
             0.7,
             "#b8e186"
            ],
            [
             0.8,
             "#7fbc41"
            ],
            [
             0.9,
             "#4d9221"
            ],
            [
             1,
             "#276419"
            ]
           ],
           "sequential": [
            [
             0,
             "#0d0887"
            ],
            [
             0.1111111111111111,
             "#46039f"
            ],
            [
             0.2222222222222222,
             "#7201a8"
            ],
            [
             0.3333333333333333,
             "#9c179e"
            ],
            [
             0.4444444444444444,
             "#bd3786"
            ],
            [
             0.5555555555555556,
             "#d8576b"
            ],
            [
             0.6666666666666666,
             "#ed7953"
            ],
            [
             0.7777777777777778,
             "#fb9f3a"
            ],
            [
             0.8888888888888888,
             "#fdca26"
            ],
            [
             1,
             "#f0f921"
            ]
           ],
           "sequentialminus": [
            [
             0,
             "#0d0887"
            ],
            [
             0.1111111111111111,
             "#46039f"
            ],
            [
             0.2222222222222222,
             "#7201a8"
            ],
            [
             0.3333333333333333,
             "#9c179e"
            ],
            [
             0.4444444444444444,
             "#bd3786"
            ],
            [
             0.5555555555555556,
             "#d8576b"
            ],
            [
             0.6666666666666666,
             "#ed7953"
            ],
            [
             0.7777777777777778,
             "#fb9f3a"
            ],
            [
             0.8888888888888888,
             "#fdca26"
            ],
            [
             1,
             "#f0f921"
            ]
           ]
          },
          "colorway": [
           "#636efa",
           "#EF553B",
           "#00cc96",
           "#ab63fa",
           "#FFA15A",
           "#19d3f3",
           "#FF6692",
           "#B6E880",
           "#FF97FF",
           "#FECB52"
          ],
          "font": {
           "color": "#2a3f5f"
          },
          "geo": {
           "bgcolor": "white",
           "lakecolor": "white",
           "landcolor": "#E5ECF6",
           "showlakes": true,
           "showland": true,
           "subunitcolor": "white"
          },
          "hoverlabel": {
           "align": "left"
          },
          "hovermode": "closest",
          "mapbox": {
           "style": "light"
          },
          "paper_bgcolor": "white",
          "plot_bgcolor": "#E5ECF6",
          "polar": {
           "angularaxis": {
            "gridcolor": "white",
            "linecolor": "white",
            "ticks": ""
           },
           "bgcolor": "#E5ECF6",
           "radialaxis": {
            "gridcolor": "white",
            "linecolor": "white",
            "ticks": ""
           }
          },
          "scene": {
           "xaxis": {
            "backgroundcolor": "#E5ECF6",
            "gridcolor": "white",
            "gridwidth": 2,
            "linecolor": "white",
            "showbackground": true,
            "ticks": "",
            "zerolinecolor": "white"
           },
           "yaxis": {
            "backgroundcolor": "#E5ECF6",
            "gridcolor": "white",
            "gridwidth": 2,
            "linecolor": "white",
            "showbackground": true,
            "ticks": "",
            "zerolinecolor": "white"
           },
           "zaxis": {
            "backgroundcolor": "#E5ECF6",
            "gridcolor": "white",
            "gridwidth": 2,
            "linecolor": "white",
            "showbackground": true,
            "ticks": "",
            "zerolinecolor": "white"
           }
          },
          "shapedefaults": {
           "line": {
            "color": "#2a3f5f"
           }
          },
          "ternary": {
           "aaxis": {
            "gridcolor": "white",
            "linecolor": "white",
            "ticks": ""
           },
           "baxis": {
            "gridcolor": "white",
            "linecolor": "white",
            "ticks": ""
           },
           "bgcolor": "#E5ECF6",
           "caxis": {
            "gridcolor": "white",
            "linecolor": "white",
            "ticks": ""
           }
          },
          "title": {
           "x": 0.05
          },
          "xaxis": {
           "automargin": true,
           "gridcolor": "white",
           "linecolor": "white",
           "ticks": "",
           "title": {
            "standoff": 15
           },
           "zerolinecolor": "white",
           "zerolinewidth": 2
          },
          "yaxis": {
           "automargin": true,
           "gridcolor": "white",
           "linecolor": "white",
           "ticks": "",
           "title": {
            "standoff": 15
           },
           "zerolinecolor": "white",
           "zerolinewidth": 2
          }
         }
        },
        "title": {
         "font": {
          "size": 25
         },
         "text": "Distribuition of Topic Clusters as an Aggregated Proportion of Articles by Year",
         "x": 0.5
        },
        "xaxis": {
         "anchor": "y",
         "domain": [
          0,
          1
         ],
         "title": {
          "text": "Topic"
         }
        },
        "yaxis": {
         "anchor": "x",
         "domain": [
          0,
          1
         ],
         "title": {
          "text": "aggregated_mentions"
         }
        }
       }
      }
     },
     "metadata": {},
     "output_type": "display_data"
    },
    {
     "name": "stdout",
     "output_type": "stream",
     "text": [
      "Over the period The Guardian has posted an average of 1483 articles annually with as standard deviation of 288.\n"
     ]
    }
   ],
   "source": [
    "nmf_topics_df = pd.read_csv(\"data/nmf_topics_df.csv\")\n",
    "\n",
    "# Extract the article year from within the topic\n",
    "nmf_topics_df = nmf_topics_df.rename(columns={\"index\":\"article\"})\n",
    "nmf_topics_df[\"article_year\"] = nmf_topics_df[\"article\"].str.extract(r\"(?<=\\[)(\\d{4})(?=\\-)\").astype(int)\n",
    "nmf_topics_df = nmf_topics_df.drop('article', axis=1)\n",
    "\n",
    "#Normalise the weights into proportional topic representation within each article\n",
    "nmf_topics_df.set_index(\"article_year\", inplace= True)\n",
    "nmf_topics_df = nmf_topics_df.divide(nmf_topics_df.sum(axis =1), axis = 0).reset_index()\n",
    "\n",
    "# Convert wide dataframe to long and aggregate by year\n",
    "nmf_annual_topic_df = nmf_topics_df.melt(id_vars=[\"article_year\"], var_name=\"Topic\", value_name = \"aggregated_mentions\")\n",
    "nmf_annual_topic_df = nmf_annual_topic_df.groupby([\"article_year\",\"Topic\"]).sum().reset_index()\n",
    "\n",
    "# Article Count over Time\n",
    "yearly_articles_series = nmf_annual_topic_df.groupby([\"article_year\"]).sum().reset_index()[\"aggregated_mentions\"]\n",
    "\n",
    "# Graph topic representation over time\n",
    "annualised_topics_fig = px.bar(nmf_annual_topic_df, \n",
    "       x = \"Topic\", \n",
    "       y = \"aggregated_mentions\", \n",
    "       color = \"article_year\",\n",
    "       title = \"Distribuition of Topic Clusters as an Aggregated Proportion of Articles by Year\")\n",
    "\n",
    "annualised_topics_fig.update_layout(\n",
    "    title_font_size=25,\n",
    "    title_x=0.5,\n",
    "    legend_title_font_size=15,\n",
    "    height=500\n",
    ")\n",
    "\n",
    "annualised_topics_fig.show()\n",
    "\n",
    "print(f\"Over the period The Guardian has posted an average of {yearly_articles_series.mean():.0f} articles annually with as standard deviation of {yearly_articles_series.std():.0f}.\")"
   ]
  },
  {
   "cell_type": "markdown",
   "id": "fbc0d59f",
   "metadata": {},
   "source": [
    "It is important to note that 2024 is not complete which likely contributes to the the high standard deviation of the number of articles being published each year, with particularly 2017/2018 having less articles. While this is a potential innaccuracy when comparing The Guardian's articles to itself, the assumption is being made that an increased number of articles is also correlated to an increase in readership and thus still valuable when assessing with community needs.\n",
    "\n",
    "Many of the topics such as \"Family\" and \"Sport\" remain relatively constant in their representation, however others such as \"Flood\" and \"COVID\" can be interpreted by a rise in public attention with events occuring in each year. (E.g. 2022 Floods in SE Queensland) The \"Indigenous\" cluster can also be seen in the media attention, but doesn't appear to have much of a pattern."
   ]
  },
  {
   "cell_type": "markdown",
   "id": "7bc41872",
   "metadata": {},
   "source": [
    "### Insights\n",
    "By applying topic modelling to articles from The Guardian, the investigation revealed important insights into the patterns of media coverage related to Queensland and how they align with Advance Queensland programs. In particular it was found that specific themes, such as those surrounding Indigenous issues and COVID-19, closely correspond with initiatives like the \"Deadly Innovations\" program and funding for medical research during the pandemic.\n",
    "\n",
    "The study also highlighted the dynamic nature of community interests over time. Topics such as \"Flood\" and \"COVID\" surged in media coverage during significant events, reflecting heightened public attention and concern, while others such the as \"Indigenous\" topic did not indicate a trend over time. \n",
    "\n",
    "Overall the findings do indicate that some Advance Queensland programs address community interests, but cannot establish how well it performs. In order quantify a relationship between media coverage and Advance Queensland it is necessary to \n"
   ]
  },
  {
   "cell_type": "markdown",
   "id": "3ebb5793",
   "metadata": {},
   "source": [
    "# **Question:** *Can media attention impact indigenous funding through Advance Queensland?*\n",
    "\n",
    "This question is important because it explores the relationship between media coverage and funding allocation, highlighting how public narratives can influence government priorities and resource distribution. The approach that will be taken is to see if individual funding contribuitions can be predicted using a combination of Guardian article topic prevalence and Advance Queensland structured data.\n",
    "\n",
    "### Data\n",
    "For further analysis, additional data from Advance Queensland will be sourced from the previous investigation that looked at regional and city grants awarded by Advance Queensland between 2018 and 2023. In order to identify features for indigenous and medical features though, this dataset was additionally annotated manually based the Program Name, Project Title, or Recipients. This method of manual annotation is somewhat subjective and based upon interpretation, but some of the key phrases being indentified were \"Indigenous\", \"Aboriginal\", \"Deadly Innovations\", and \"COVID\". Both datasets were then filtered to indigenous topics and funding and joined upon the year to produce a combined dataset of funding features along with the aggregated media article values that can be used to analyse relationship between the two. \n",
    "\n",
    "**Note that there is an assumption being made here that media attention results in funding in the same year, however this may not be the case.**"
   ]
  },
  {
   "cell_type": "code",
   "execution_count": 138,
   "id": "91140187",
   "metadata": {},
   "outputs": [
    {
     "name": "stdout",
     "output_type": "stream",
     "text": [
      "Only 16 total indigenous grants were identified.\n"
     ]
    }
   ],
   "source": [
    "# Read in the Advance Queensland Dataset\n",
    "advance_df = pd.read_csv(\"data/cleaned_advance_queensland.csv\")\n",
    "\n",
    "# Combine with the Annual Indigenous Topic mentions\n",
    "combined_df = pd.merge(advance_df,nmf_annual_topic_df[nmf_annual_topic_df[\"Topic\"] == \"Indigenous\"] , left_on=\"Approval Year\", right_on = \"article_year\")\n",
    "combined_df = combined_df[combined_df[\"Indigenous_Related\"] == 1].reset_index()\n",
    "\n",
    "print(f\"Only {combined_df[\"Indigenous_Related\"].sum()} total indigenous grants were identified.\")"
   ]
  },
  {
   "cell_type": "markdown",
   "id": "b1e1e68c",
   "metadata": {},
   "source": [
    "### Analysis and Visualisation\n",
    "\n",
    "With such a low number of indigenous funding grants identified it is clear that this approach with manual annotation has limitations, as one cannot accurately reflect individuals' heritage based solely on the descriptions provided. According Advance Queensland [*\"8% identify as Aboriginal and/or Torres Strait Islander*](https://advance.qld.gov.au/about-advance-queensland/about-us) across their funding recipients, however the manual annotations only identifying 4% of funding recipients being related to the indigenous group within the selected time period. \n",
    "\n",
    "Manual review of the highest funding recipient in this group revealed that $360k went to Xujuan Zhou in collaboration with Cogninet Australia Pty Ltd, but also Goondir Aboriginal & Torres Strait Islanders Corporation for Health Services. This intersection between multiple manually annotated features highlights the hazards of manual annotation based off only descriptions as it can't really be said how much of this funding truly targeted Indigenous Groups.\n",
    "\n",
    "In order to establish which of the identified features for \"Aggregated Articles\", \"Regional\", \"Year\", and \"Medical Related\" have the greatest impact on the funding of indigenous grants, has been subseted to this group and all variables to enable further analysis for correlations. Using a correlogram provides a numeric respresentation of how close to directly proportional the variables are so that one can asssess their suitability for use in a linear model, while displaying the relationships between variable pairs on a scatter plot enables reviewing of individual records."
   ]
  },
  {
   "cell_type": "code",
   "execution_count": 139,
   "id": "ffe28d3c",
   "metadata": {},
   "outputs": [
    {
     "data": {
      "application/vnd.plotly.v1+json": {
       "config": {
        "plotlyServerURL": "https://plot.ly"
       },
       "data": [
        {
         "coloraxis": "coloraxis",
         "hovertemplate": "x: %{x}<br>y: %{y}<br>color: %{z}<extra></extra>",
         "name": "0",
         "type": "heatmap",
         "x": [
          "Aggregated Articles",
          "Regional",
          "Medical",
          "Year",
          "Funding ($)"
         ],
         "xaxis": "x",
         "y": [
          "Aggregated Articles",
          "Regional",
          "Medical",
          "Year",
          "Funding ($)"
         ],
         "yaxis": "y",
         "z": [
          [
           1,
           -0.14202333746865778,
           -0.12999608991143835,
           0.7422023043820986,
           -0.24713469160937238
          ],
          [
           -0.14202333746865778,
           1,
           -2.098124302125788e-17,
           -0.0553001263609249,
           -0.38948097297707923
          ],
          [
           -0.12999608991143835,
           -2.098124302125788e-17,
           1,
           0.10450741558674002,
           0.6064833648423831
          ],
          [
           0.7422023043820986,
           -0.0553001263609249,
           0.10450741558674002,
           1,
           -0.13362843589343262
          ],
          [
           -0.24713469160937238,
           -0.38948097297707923,
           0.6064833648423831,
           -0.13362843589343262,
           1
          ]
         ]
        }
       ],
       "layout": {
        "coloraxis": {
         "colorscale": [
          [
           0,
           "#0d0887"
          ],
          [
           0.1111111111111111,
           "#46039f"
          ],
          [
           0.2222222222222222,
           "#7201a8"
          ],
          [
           0.3333333333333333,
           "#9c179e"
          ],
          [
           0.4444444444444444,
           "#bd3786"
          ],
          [
           0.5555555555555556,
           "#d8576b"
          ],
          [
           0.6666666666666666,
           "#ed7953"
          ],
          [
           0.7777777777777778,
           "#fb9f3a"
          ],
          [
           0.8888888888888888,
           "#fdca26"
          ],
          [
           1,
           "#f0f921"
          ]
         ]
        },
        "height": 500,
        "legend": {
         "title": {
          "font": {
           "size": 15
          }
         }
        },
        "template": {
         "data": {
          "bar": [
           {
            "error_x": {
             "color": "#2a3f5f"
            },
            "error_y": {
             "color": "#2a3f5f"
            },
            "marker": {
             "line": {
              "color": "#E5ECF6",
              "width": 0.5
             },
             "pattern": {
              "fillmode": "overlay",
              "size": 10,
              "solidity": 0.2
             }
            },
            "type": "bar"
           }
          ],
          "barpolar": [
           {
            "marker": {
             "line": {
              "color": "#E5ECF6",
              "width": 0.5
             },
             "pattern": {
              "fillmode": "overlay",
              "size": 10,
              "solidity": 0.2
             }
            },
            "type": "barpolar"
           }
          ],
          "carpet": [
           {
            "aaxis": {
             "endlinecolor": "#2a3f5f",
             "gridcolor": "white",
             "linecolor": "white",
             "minorgridcolor": "white",
             "startlinecolor": "#2a3f5f"
            },
            "baxis": {
             "endlinecolor": "#2a3f5f",
             "gridcolor": "white",
             "linecolor": "white",
             "minorgridcolor": "white",
             "startlinecolor": "#2a3f5f"
            },
            "type": "carpet"
           }
          ],
          "choropleth": [
           {
            "colorbar": {
             "outlinewidth": 0,
             "ticks": ""
            },
            "type": "choropleth"
           }
          ],
          "contour": [
           {
            "colorbar": {
             "outlinewidth": 0,
             "ticks": ""
            },
            "colorscale": [
             [
              0,
              "#0d0887"
             ],
             [
              0.1111111111111111,
              "#46039f"
             ],
             [
              0.2222222222222222,
              "#7201a8"
             ],
             [
              0.3333333333333333,
              "#9c179e"
             ],
             [
              0.4444444444444444,
              "#bd3786"
             ],
             [
              0.5555555555555556,
              "#d8576b"
             ],
             [
              0.6666666666666666,
              "#ed7953"
             ],
             [
              0.7777777777777778,
              "#fb9f3a"
             ],
             [
              0.8888888888888888,
              "#fdca26"
             ],
             [
              1,
              "#f0f921"
             ]
            ],
            "type": "contour"
           }
          ],
          "contourcarpet": [
           {
            "colorbar": {
             "outlinewidth": 0,
             "ticks": ""
            },
            "type": "contourcarpet"
           }
          ],
          "heatmap": [
           {
            "colorbar": {
             "outlinewidth": 0,
             "ticks": ""
            },
            "colorscale": [
             [
              0,
              "#0d0887"
             ],
             [
              0.1111111111111111,
              "#46039f"
             ],
             [
              0.2222222222222222,
              "#7201a8"
             ],
             [
              0.3333333333333333,
              "#9c179e"
             ],
             [
              0.4444444444444444,
              "#bd3786"
             ],
             [
              0.5555555555555556,
              "#d8576b"
             ],
             [
              0.6666666666666666,
              "#ed7953"
             ],
             [
              0.7777777777777778,
              "#fb9f3a"
             ],
             [
              0.8888888888888888,
              "#fdca26"
             ],
             [
              1,
              "#f0f921"
             ]
            ],
            "type": "heatmap"
           }
          ],
          "heatmapgl": [
           {
            "colorbar": {
             "outlinewidth": 0,
             "ticks": ""
            },
            "colorscale": [
             [
              0,
              "#0d0887"
             ],
             [
              0.1111111111111111,
              "#46039f"
             ],
             [
              0.2222222222222222,
              "#7201a8"
             ],
             [
              0.3333333333333333,
              "#9c179e"
             ],
             [
              0.4444444444444444,
              "#bd3786"
             ],
             [
              0.5555555555555556,
              "#d8576b"
             ],
             [
              0.6666666666666666,
              "#ed7953"
             ],
             [
              0.7777777777777778,
              "#fb9f3a"
             ],
             [
              0.8888888888888888,
              "#fdca26"
             ],
             [
              1,
              "#f0f921"
             ]
            ],
            "type": "heatmapgl"
           }
          ],
          "histogram": [
           {
            "marker": {
             "pattern": {
              "fillmode": "overlay",
              "size": 10,
              "solidity": 0.2
             }
            },
            "type": "histogram"
           }
          ],
          "histogram2d": [
           {
            "colorbar": {
             "outlinewidth": 0,
             "ticks": ""
            },
            "colorscale": [
             [
              0,
              "#0d0887"
             ],
             [
              0.1111111111111111,
              "#46039f"
             ],
             [
              0.2222222222222222,
              "#7201a8"
             ],
             [
              0.3333333333333333,
              "#9c179e"
             ],
             [
              0.4444444444444444,
              "#bd3786"
             ],
             [
              0.5555555555555556,
              "#d8576b"
             ],
             [
              0.6666666666666666,
              "#ed7953"
             ],
             [
              0.7777777777777778,
              "#fb9f3a"
             ],
             [
              0.8888888888888888,
              "#fdca26"
             ],
             [
              1,
              "#f0f921"
             ]
            ],
            "type": "histogram2d"
           }
          ],
          "histogram2dcontour": [
           {
            "colorbar": {
             "outlinewidth": 0,
             "ticks": ""
            },
            "colorscale": [
             [
              0,
              "#0d0887"
             ],
             [
              0.1111111111111111,
              "#46039f"
             ],
             [
              0.2222222222222222,
              "#7201a8"
             ],
             [
              0.3333333333333333,
              "#9c179e"
             ],
             [
              0.4444444444444444,
              "#bd3786"
             ],
             [
              0.5555555555555556,
              "#d8576b"
             ],
             [
              0.6666666666666666,
              "#ed7953"
             ],
             [
              0.7777777777777778,
              "#fb9f3a"
             ],
             [
              0.8888888888888888,
              "#fdca26"
             ],
             [
              1,
              "#f0f921"
             ]
            ],
            "type": "histogram2dcontour"
           }
          ],
          "mesh3d": [
           {
            "colorbar": {
             "outlinewidth": 0,
             "ticks": ""
            },
            "type": "mesh3d"
           }
          ],
          "parcoords": [
           {
            "line": {
             "colorbar": {
              "outlinewidth": 0,
              "ticks": ""
             }
            },
            "type": "parcoords"
           }
          ],
          "pie": [
           {
            "automargin": true,
            "type": "pie"
           }
          ],
          "scatter": [
           {
            "fillpattern": {
             "fillmode": "overlay",
             "size": 10,
             "solidity": 0.2
            },
            "type": "scatter"
           }
          ],
          "scatter3d": [
           {
            "line": {
             "colorbar": {
              "outlinewidth": 0,
              "ticks": ""
             }
            },
            "marker": {
             "colorbar": {
              "outlinewidth": 0,
              "ticks": ""
             }
            },
            "type": "scatter3d"
           }
          ],
          "scattercarpet": [
           {
            "marker": {
             "colorbar": {
              "outlinewidth": 0,
              "ticks": ""
             }
            },
            "type": "scattercarpet"
           }
          ],
          "scattergeo": [
           {
            "marker": {
             "colorbar": {
              "outlinewidth": 0,
              "ticks": ""
             }
            },
            "type": "scattergeo"
           }
          ],
          "scattergl": [
           {
            "marker": {
             "colorbar": {
              "outlinewidth": 0,
              "ticks": ""
             }
            },
            "type": "scattergl"
           }
          ],
          "scattermapbox": [
           {
            "marker": {
             "colorbar": {
              "outlinewidth": 0,
              "ticks": ""
             }
            },
            "type": "scattermapbox"
           }
          ],
          "scatterpolar": [
           {
            "marker": {
             "colorbar": {
              "outlinewidth": 0,
              "ticks": ""
             }
            },
            "type": "scatterpolar"
           }
          ],
          "scatterpolargl": [
           {
            "marker": {
             "colorbar": {
              "outlinewidth": 0,
              "ticks": ""
             }
            },
            "type": "scatterpolargl"
           }
          ],
          "scatterternary": [
           {
            "marker": {
             "colorbar": {
              "outlinewidth": 0,
              "ticks": ""
             }
            },
            "type": "scatterternary"
           }
          ],
          "surface": [
           {
            "colorbar": {
             "outlinewidth": 0,
             "ticks": ""
            },
            "colorscale": [
             [
              0,
              "#0d0887"
             ],
             [
              0.1111111111111111,
              "#46039f"
             ],
             [
              0.2222222222222222,
              "#7201a8"
             ],
             [
              0.3333333333333333,
              "#9c179e"
             ],
             [
              0.4444444444444444,
              "#bd3786"
             ],
             [
              0.5555555555555556,
              "#d8576b"
             ],
             [
              0.6666666666666666,
              "#ed7953"
             ],
             [
              0.7777777777777778,
              "#fb9f3a"
             ],
             [
              0.8888888888888888,
              "#fdca26"
             ],
             [
              1,
              "#f0f921"
             ]
            ],
            "type": "surface"
           }
          ],
          "table": [
           {
            "cells": {
             "fill": {
              "color": "#EBF0F8"
             },
             "line": {
              "color": "white"
             }
            },
            "header": {
             "fill": {
              "color": "#C8D4E3"
             },
             "line": {
              "color": "white"
             }
            },
            "type": "table"
           }
          ]
         },
         "layout": {
          "annotationdefaults": {
           "arrowcolor": "#2a3f5f",
           "arrowhead": 0,
           "arrowwidth": 1
          },
          "autotypenumbers": "strict",
          "coloraxis": {
           "colorbar": {
            "outlinewidth": 0,
            "ticks": ""
           }
          },
          "colorscale": {
           "diverging": [
            [
             0,
             "#8e0152"
            ],
            [
             0.1,
             "#c51b7d"
            ],
            [
             0.2,
             "#de77ae"
            ],
            [
             0.3,
             "#f1b6da"
            ],
            [
             0.4,
             "#fde0ef"
            ],
            [
             0.5,
             "#f7f7f7"
            ],
            [
             0.6,
             "#e6f5d0"
            ],
            [
             0.7,
             "#b8e186"
            ],
            [
             0.8,
             "#7fbc41"
            ],
            [
             0.9,
             "#4d9221"
            ],
            [
             1,
             "#276419"
            ]
           ],
           "sequential": [
            [
             0,
             "#0d0887"
            ],
            [
             0.1111111111111111,
             "#46039f"
            ],
            [
             0.2222222222222222,
             "#7201a8"
            ],
            [
             0.3333333333333333,
             "#9c179e"
            ],
            [
             0.4444444444444444,
             "#bd3786"
            ],
            [
             0.5555555555555556,
             "#d8576b"
            ],
            [
             0.6666666666666666,
             "#ed7953"
            ],
            [
             0.7777777777777778,
             "#fb9f3a"
            ],
            [
             0.8888888888888888,
             "#fdca26"
            ],
            [
             1,
             "#f0f921"
            ]
           ],
           "sequentialminus": [
            [
             0,
             "#0d0887"
            ],
            [
             0.1111111111111111,
             "#46039f"
            ],
            [
             0.2222222222222222,
             "#7201a8"
            ],
            [
             0.3333333333333333,
             "#9c179e"
            ],
            [
             0.4444444444444444,
             "#bd3786"
            ],
            [
             0.5555555555555556,
             "#d8576b"
            ],
            [
             0.6666666666666666,
             "#ed7953"
            ],
            [
             0.7777777777777778,
             "#fb9f3a"
            ],
            [
             0.8888888888888888,
             "#fdca26"
            ],
            [
             1,
             "#f0f921"
            ]
           ]
          },
          "colorway": [
           "#636efa",
           "#EF553B",
           "#00cc96",
           "#ab63fa",
           "#FFA15A",
           "#19d3f3",
           "#FF6692",
           "#B6E880",
           "#FF97FF",
           "#FECB52"
          ],
          "font": {
           "color": "#2a3f5f"
          },
          "geo": {
           "bgcolor": "white",
           "lakecolor": "white",
           "landcolor": "#E5ECF6",
           "showlakes": true,
           "showland": true,
           "subunitcolor": "white"
          },
          "hoverlabel": {
           "align": "left"
          },
          "hovermode": "closest",
          "mapbox": {
           "style": "light"
          },
          "paper_bgcolor": "white",
          "plot_bgcolor": "#E5ECF6",
          "polar": {
           "angularaxis": {
            "gridcolor": "white",
            "linecolor": "white",
            "ticks": ""
           },
           "bgcolor": "#E5ECF6",
           "radialaxis": {
            "gridcolor": "white",
            "linecolor": "white",
            "ticks": ""
           }
          },
          "scene": {
           "xaxis": {
            "backgroundcolor": "#E5ECF6",
            "gridcolor": "white",
            "gridwidth": 2,
            "linecolor": "white",
            "showbackground": true,
            "ticks": "",
            "zerolinecolor": "white"
           },
           "yaxis": {
            "backgroundcolor": "#E5ECF6",
            "gridcolor": "white",
            "gridwidth": 2,
            "linecolor": "white",
            "showbackground": true,
            "ticks": "",
            "zerolinecolor": "white"
           },
           "zaxis": {
            "backgroundcolor": "#E5ECF6",
            "gridcolor": "white",
            "gridwidth": 2,
            "linecolor": "white",
            "showbackground": true,
            "ticks": "",
            "zerolinecolor": "white"
           }
          },
          "shapedefaults": {
           "line": {
            "color": "#2a3f5f"
           }
          },
          "ternary": {
           "aaxis": {
            "gridcolor": "white",
            "linecolor": "white",
            "ticks": ""
           },
           "baxis": {
            "gridcolor": "white",
            "linecolor": "white",
            "ticks": ""
           },
           "bgcolor": "#E5ECF6",
           "caxis": {
            "gridcolor": "white",
            "linecolor": "white",
            "ticks": ""
           }
          },
          "title": {
           "x": 0.05
          },
          "xaxis": {
           "automargin": true,
           "gridcolor": "white",
           "linecolor": "white",
           "ticks": "",
           "title": {
            "standoff": 15
           },
           "zerolinecolor": "white",
           "zerolinewidth": 2
          },
          "yaxis": {
           "automargin": true,
           "gridcolor": "white",
           "linecolor": "white",
           "ticks": "",
           "title": {
            "standoff": 15
           },
           "zerolinecolor": "white",
           "zerolinewidth": 2
          }
         }
        },
        "title": {
         "font": {
          "size": 25
         },
         "text": "Correlogram of Selected Features For Indigenous Funding Recipients",
         "x": 0.5
        },
        "xaxis": {
         "anchor": "y",
         "constrain": "domain",
         "domain": [
          0,
          1
         ],
         "scaleanchor": "y"
        },
        "yaxis": {
         "anchor": "x",
         "autorange": "reversed",
         "constrain": "domain",
         "domain": [
          0,
          1
         ]
        }
       }
      }
     },
     "metadata": {},
     "output_type": "display_data"
    },
    {
     "data": {
      "application/vnd.plotly.v1+json": {
       "config": {
        "plotlyServerURL": "https://plot.ly"
       },
       "data": [
        {
         "dimensions": [
          {
           "axis": {
            "matches": true
           },
           "label": "Aggregated Articles",
           "values": [
            46.08476850797229,
            46.08476850797229,
            46.08476850797229,
            46.08476850797229,
            46.08476850797229,
            43.55330316652832,
            43.55330316652832,
            43.55330316652832,
            43.55330316652832,
            43.55330316652832,
            43.55330316652832,
            46.143744109364114,
            46.143744109364114,
            46.143744109364114,
            61.2103100271408,
            94.56683648246239
           ]
          },
          {
           "axis": {
            "matches": true
           },
           "label": "Regional",
           "values": [
            1,
            1,
            1,
            0,
            0,
            1,
            0,
            1,
            0,
            0,
            0,
            1,
            0,
            1,
            1,
            0
           ]
          },
          {
           "axis": {
            "matches": true
           },
           "label": "Medical",
           "values": [
            0,
            0,
            0,
            0,
            0,
            0,
            0,
            1,
            0,
            0,
            0,
            0,
            1,
            0,
            0,
            0
           ]
          },
          {
           "axis": {
            "matches": true
           },
           "label": "Year",
           "values": [
            2019,
            2019,
            2019,
            2019,
            2019,
            2020,
            2020,
            2020,
            2020,
            2020,
            2020,
            2021,
            2021,
            2021,
            2022,
            2023
           ]
          },
          {
           "axis": {
            "matches": true
           },
           "label": "Funding ($)",
           "values": [
            43750,
            7500,
            107084,
            100000,
            300000,
            70000,
            72986,
            150000,
            75000,
            100000,
            100000,
            100000,
            360000,
            5000,
            60000,
            20000
           ]
          }
         ],
         "hovertemplate": "%{xaxis.title.text}=%{x}<br>%{yaxis.title.text}=%{y}<extra></extra>",
         "legendgroup": "",
         "marker": {
          "color": "#636efa",
          "symbol": "circle"
         },
         "name": "",
         "showlegend": false,
         "type": "splom"
        }
       ],
       "layout": {
        "dragmode": "select",
        "height": 800,
        "legend": {
         "title": {
          "font": {
           "size": 15
          }
         },
         "tracegroupgap": 0
        },
        "template": {
         "data": {
          "bar": [
           {
            "error_x": {
             "color": "#2a3f5f"
            },
            "error_y": {
             "color": "#2a3f5f"
            },
            "marker": {
             "line": {
              "color": "#E5ECF6",
              "width": 0.5
             },
             "pattern": {
              "fillmode": "overlay",
              "size": 10,
              "solidity": 0.2
             }
            },
            "type": "bar"
           }
          ],
          "barpolar": [
           {
            "marker": {
             "line": {
              "color": "#E5ECF6",
              "width": 0.5
             },
             "pattern": {
              "fillmode": "overlay",
              "size": 10,
              "solidity": 0.2
             }
            },
            "type": "barpolar"
           }
          ],
          "carpet": [
           {
            "aaxis": {
             "endlinecolor": "#2a3f5f",
             "gridcolor": "white",
             "linecolor": "white",
             "minorgridcolor": "white",
             "startlinecolor": "#2a3f5f"
            },
            "baxis": {
             "endlinecolor": "#2a3f5f",
             "gridcolor": "white",
             "linecolor": "white",
             "minorgridcolor": "white",
             "startlinecolor": "#2a3f5f"
            },
            "type": "carpet"
           }
          ],
          "choropleth": [
           {
            "colorbar": {
             "outlinewidth": 0,
             "ticks": ""
            },
            "type": "choropleth"
           }
          ],
          "contour": [
           {
            "colorbar": {
             "outlinewidth": 0,
             "ticks": ""
            },
            "colorscale": [
             [
              0,
              "#0d0887"
             ],
             [
              0.1111111111111111,
              "#46039f"
             ],
             [
              0.2222222222222222,
              "#7201a8"
             ],
             [
              0.3333333333333333,
              "#9c179e"
             ],
             [
              0.4444444444444444,
              "#bd3786"
             ],
             [
              0.5555555555555556,
              "#d8576b"
             ],
             [
              0.6666666666666666,
              "#ed7953"
             ],
             [
              0.7777777777777778,
              "#fb9f3a"
             ],
             [
              0.8888888888888888,
              "#fdca26"
             ],
             [
              1,
              "#f0f921"
             ]
            ],
            "type": "contour"
           }
          ],
          "contourcarpet": [
           {
            "colorbar": {
             "outlinewidth": 0,
             "ticks": ""
            },
            "type": "contourcarpet"
           }
          ],
          "heatmap": [
           {
            "colorbar": {
             "outlinewidth": 0,
             "ticks": ""
            },
            "colorscale": [
             [
              0,
              "#0d0887"
             ],
             [
              0.1111111111111111,
              "#46039f"
             ],
             [
              0.2222222222222222,
              "#7201a8"
             ],
             [
              0.3333333333333333,
              "#9c179e"
             ],
             [
              0.4444444444444444,
              "#bd3786"
             ],
             [
              0.5555555555555556,
              "#d8576b"
             ],
             [
              0.6666666666666666,
              "#ed7953"
             ],
             [
              0.7777777777777778,
              "#fb9f3a"
             ],
             [
              0.8888888888888888,
              "#fdca26"
             ],
             [
              1,
              "#f0f921"
             ]
            ],
            "type": "heatmap"
           }
          ],
          "heatmapgl": [
           {
            "colorbar": {
             "outlinewidth": 0,
             "ticks": ""
            },
            "colorscale": [
             [
              0,
              "#0d0887"
             ],
             [
              0.1111111111111111,
              "#46039f"
             ],
             [
              0.2222222222222222,
              "#7201a8"
             ],
             [
              0.3333333333333333,
              "#9c179e"
             ],
             [
              0.4444444444444444,
              "#bd3786"
             ],
             [
              0.5555555555555556,
              "#d8576b"
             ],
             [
              0.6666666666666666,
              "#ed7953"
             ],
             [
              0.7777777777777778,
              "#fb9f3a"
             ],
             [
              0.8888888888888888,
              "#fdca26"
             ],
             [
              1,
              "#f0f921"
             ]
            ],
            "type": "heatmapgl"
           }
          ],
          "histogram": [
           {
            "marker": {
             "pattern": {
              "fillmode": "overlay",
              "size": 10,
              "solidity": 0.2
             }
            },
            "type": "histogram"
           }
          ],
          "histogram2d": [
           {
            "colorbar": {
             "outlinewidth": 0,
             "ticks": ""
            },
            "colorscale": [
             [
              0,
              "#0d0887"
             ],
             [
              0.1111111111111111,
              "#46039f"
             ],
             [
              0.2222222222222222,
              "#7201a8"
             ],
             [
              0.3333333333333333,
              "#9c179e"
             ],
             [
              0.4444444444444444,
              "#bd3786"
             ],
             [
              0.5555555555555556,
              "#d8576b"
             ],
             [
              0.6666666666666666,
              "#ed7953"
             ],
             [
              0.7777777777777778,
              "#fb9f3a"
             ],
             [
              0.8888888888888888,
              "#fdca26"
             ],
             [
              1,
              "#f0f921"
             ]
            ],
            "type": "histogram2d"
           }
          ],
          "histogram2dcontour": [
           {
            "colorbar": {
             "outlinewidth": 0,
             "ticks": ""
            },
            "colorscale": [
             [
              0,
              "#0d0887"
             ],
             [
              0.1111111111111111,
              "#46039f"
             ],
             [
              0.2222222222222222,
              "#7201a8"
             ],
             [
              0.3333333333333333,
              "#9c179e"
             ],
             [
              0.4444444444444444,
              "#bd3786"
             ],
             [
              0.5555555555555556,
              "#d8576b"
             ],
             [
              0.6666666666666666,
              "#ed7953"
             ],
             [
              0.7777777777777778,
              "#fb9f3a"
             ],
             [
              0.8888888888888888,
              "#fdca26"
             ],
             [
              1,
              "#f0f921"
             ]
            ],
            "type": "histogram2dcontour"
           }
          ],
          "mesh3d": [
           {
            "colorbar": {
             "outlinewidth": 0,
             "ticks": ""
            },
            "type": "mesh3d"
           }
          ],
          "parcoords": [
           {
            "line": {
             "colorbar": {
              "outlinewidth": 0,
              "ticks": ""
             }
            },
            "type": "parcoords"
           }
          ],
          "pie": [
           {
            "automargin": true,
            "type": "pie"
           }
          ],
          "scatter": [
           {
            "fillpattern": {
             "fillmode": "overlay",
             "size": 10,
             "solidity": 0.2
            },
            "type": "scatter"
           }
          ],
          "scatter3d": [
           {
            "line": {
             "colorbar": {
              "outlinewidth": 0,
              "ticks": ""
             }
            },
            "marker": {
             "colorbar": {
              "outlinewidth": 0,
              "ticks": ""
             }
            },
            "type": "scatter3d"
           }
          ],
          "scattercarpet": [
           {
            "marker": {
             "colorbar": {
              "outlinewidth": 0,
              "ticks": ""
             }
            },
            "type": "scattercarpet"
           }
          ],
          "scattergeo": [
           {
            "marker": {
             "colorbar": {
              "outlinewidth": 0,
              "ticks": ""
             }
            },
            "type": "scattergeo"
           }
          ],
          "scattergl": [
           {
            "marker": {
             "colorbar": {
              "outlinewidth": 0,
              "ticks": ""
             }
            },
            "type": "scattergl"
           }
          ],
          "scattermapbox": [
           {
            "marker": {
             "colorbar": {
              "outlinewidth": 0,
              "ticks": ""
             }
            },
            "type": "scattermapbox"
           }
          ],
          "scatterpolar": [
           {
            "marker": {
             "colorbar": {
              "outlinewidth": 0,
              "ticks": ""
             }
            },
            "type": "scatterpolar"
           }
          ],
          "scatterpolargl": [
           {
            "marker": {
             "colorbar": {
              "outlinewidth": 0,
              "ticks": ""
             }
            },
            "type": "scatterpolargl"
           }
          ],
          "scatterternary": [
           {
            "marker": {
             "colorbar": {
              "outlinewidth": 0,
              "ticks": ""
             }
            },
            "type": "scatterternary"
           }
          ],
          "surface": [
           {
            "colorbar": {
             "outlinewidth": 0,
             "ticks": ""
            },
            "colorscale": [
             [
              0,
              "#0d0887"
             ],
             [
              0.1111111111111111,
              "#46039f"
             ],
             [
              0.2222222222222222,
              "#7201a8"
             ],
             [
              0.3333333333333333,
              "#9c179e"
             ],
             [
              0.4444444444444444,
              "#bd3786"
             ],
             [
              0.5555555555555556,
              "#d8576b"
             ],
             [
              0.6666666666666666,
              "#ed7953"
             ],
             [
              0.7777777777777778,
              "#fb9f3a"
             ],
             [
              0.8888888888888888,
              "#fdca26"
             ],
             [
              1,
              "#f0f921"
             ]
            ],
            "type": "surface"
           }
          ],
          "table": [
           {
            "cells": {
             "fill": {
              "color": "#EBF0F8"
             },
             "line": {
              "color": "white"
             }
            },
            "header": {
             "fill": {
              "color": "#C8D4E3"
             },
             "line": {
              "color": "white"
             }
            },
            "type": "table"
           }
          ]
         },
         "layout": {
          "annotationdefaults": {
           "arrowcolor": "#2a3f5f",
           "arrowhead": 0,
           "arrowwidth": 1
          },
          "autotypenumbers": "strict",
          "coloraxis": {
           "colorbar": {
            "outlinewidth": 0,
            "ticks": ""
           }
          },
          "colorscale": {
           "diverging": [
            [
             0,
             "#8e0152"
            ],
            [
             0.1,
             "#c51b7d"
            ],
            [
             0.2,
             "#de77ae"
            ],
            [
             0.3,
             "#f1b6da"
            ],
            [
             0.4,
             "#fde0ef"
            ],
            [
             0.5,
             "#f7f7f7"
            ],
            [
             0.6,
             "#e6f5d0"
            ],
            [
             0.7,
             "#b8e186"
            ],
            [
             0.8,
             "#7fbc41"
            ],
            [
             0.9,
             "#4d9221"
            ],
            [
             1,
             "#276419"
            ]
           ],
           "sequential": [
            [
             0,
             "#0d0887"
            ],
            [
             0.1111111111111111,
             "#46039f"
            ],
            [
             0.2222222222222222,
             "#7201a8"
            ],
            [
             0.3333333333333333,
             "#9c179e"
            ],
            [
             0.4444444444444444,
             "#bd3786"
            ],
            [
             0.5555555555555556,
             "#d8576b"
            ],
            [
             0.6666666666666666,
             "#ed7953"
            ],
            [
             0.7777777777777778,
             "#fb9f3a"
            ],
            [
             0.8888888888888888,
             "#fdca26"
            ],
            [
             1,
             "#f0f921"
            ]
           ],
           "sequentialminus": [
            [
             0,
             "#0d0887"
            ],
            [
             0.1111111111111111,
             "#46039f"
            ],
            [
             0.2222222222222222,
             "#7201a8"
            ],
            [
             0.3333333333333333,
             "#9c179e"
            ],
            [
             0.4444444444444444,
             "#bd3786"
            ],
            [
             0.5555555555555556,
             "#d8576b"
            ],
            [
             0.6666666666666666,
             "#ed7953"
            ],
            [
             0.7777777777777778,
             "#fb9f3a"
            ],
            [
             0.8888888888888888,
             "#fdca26"
            ],
            [
             1,
             "#f0f921"
            ]
           ]
          },
          "colorway": [
           "#636efa",
           "#EF553B",
           "#00cc96",
           "#ab63fa",
           "#FFA15A",
           "#19d3f3",
           "#FF6692",
           "#B6E880",
           "#FF97FF",
           "#FECB52"
          ],
          "font": {
           "color": "#2a3f5f"
          },
          "geo": {
           "bgcolor": "white",
           "lakecolor": "white",
           "landcolor": "#E5ECF6",
           "showlakes": true,
           "showland": true,
           "subunitcolor": "white"
          },
          "hoverlabel": {
           "align": "left"
          },
          "hovermode": "closest",
          "mapbox": {
           "style": "light"
          },
          "paper_bgcolor": "white",
          "plot_bgcolor": "#E5ECF6",
          "polar": {
           "angularaxis": {
            "gridcolor": "white",
            "linecolor": "white",
            "ticks": ""
           },
           "bgcolor": "#E5ECF6",
           "radialaxis": {
            "gridcolor": "white",
            "linecolor": "white",
            "ticks": ""
           }
          },
          "scene": {
           "xaxis": {
            "backgroundcolor": "#E5ECF6",
            "gridcolor": "white",
            "gridwidth": 2,
            "linecolor": "white",
            "showbackground": true,
            "ticks": "",
            "zerolinecolor": "white"
           },
           "yaxis": {
            "backgroundcolor": "#E5ECF6",
            "gridcolor": "white",
            "gridwidth": 2,
            "linecolor": "white",
            "showbackground": true,
            "ticks": "",
            "zerolinecolor": "white"
           },
           "zaxis": {
            "backgroundcolor": "#E5ECF6",
            "gridcolor": "white",
            "gridwidth": 2,
            "linecolor": "white",
            "showbackground": true,
            "ticks": "",
            "zerolinecolor": "white"
           }
          },
          "shapedefaults": {
           "line": {
            "color": "#2a3f5f"
           }
          },
          "ternary": {
           "aaxis": {
            "gridcolor": "white",
            "linecolor": "white",
            "ticks": ""
           },
           "baxis": {
            "gridcolor": "white",
            "linecolor": "white",
            "ticks": ""
           },
           "bgcolor": "#E5ECF6",
           "caxis": {
            "gridcolor": "white",
            "linecolor": "white",
            "ticks": ""
           }
          },
          "title": {
           "x": 0.05
          },
          "xaxis": {
           "automargin": true,
           "gridcolor": "white",
           "linecolor": "white",
           "ticks": "",
           "title": {
            "standoff": 15
           },
           "zerolinecolor": "white",
           "zerolinewidth": 2
          },
          "yaxis": {
           "automargin": true,
           "gridcolor": "white",
           "linecolor": "white",
           "ticks": "",
           "title": {
            "standoff": 15
           },
           "zerolinecolor": "white",
           "zerolinewidth": 2
          }
         }
        },
        "title": {
         "font": {
          "size": 25
         },
         "text": "Scatter Plots of Selected Features For Indigenous Funding Recipients",
         "x": 0.5
        }
       }
      }
     },
     "metadata": {},
     "output_type": "display_data"
    }
   ],
   "source": [
    "# Ensure all variables are numeric\n",
    "#combined_df[\"Is_Regional\"] = combined_df[\"LGA Status\"] == \"Regional Councils\"\n",
    "combined_df[\"Is_Regional\"] = combined_df[\"LGA Status\"].apply(lambda x: 1 if x == \"Regional Councils\" else 0)\n",
    "\n",
    "combined_df = combined_df[[\"aggregated_mentions\", \"Is_Regional\", \"Medical_Related\" , \"Approval Year\", \"Contractual Commitment ($ GST excl.)\"]]\n",
    "\n",
    "combined_df = combined_df.rename(columns={\"aggregated_mentions\":\"Aggregated Articles\", \"Is_Regional\":\"Regional\", \"Medical_Related\":\"Medical\",\"Approval Year\":\"Year\", \"Contractual Commitment ($ GST excl.)\":\"Funding ($)\"})\n",
    "\n",
    "# Apply correlogram and Display\n",
    "advance_corr = combined_df.corr()\n",
    "\n",
    "indigenous_corr_fig = px.imshow(advance_corr, title = \"Correlogram of Selected Features For Indigenous Funding Recipients\")\n",
    "indigenous_corr_fig.update_layout(\n",
    "    title_font_size=25,\n",
    "    title_x=0.5,\n",
    "    legend_title_font_size=15,\n",
    "    height=500\n",
    ")\n",
    "indigenous_corr_fig.show()\n",
    "\n",
    "\n",
    "indigenous_scatter_fig = px.scatter_matrix(combined_df, title = \"Scatter Plots of Selected Features For Indigenous Funding Recipients\")\n",
    "\n",
    "indigenous_scatter_fig.update_layout(\n",
    "    title_font_size=25,\n",
    "    title_x=0.5,\n",
    "    legend_title_font_size=15,\n",
    "    height=800\n",
    ")\n",
    "indigenous_scatter_fig.show()\n"
   ]
  },
  {
   "cell_type": "markdown",
   "id": "50094a69",
   "metadata": {},
   "source": [
    "Reviewing the correlogram reveals that the medical feature has the highest positive correlation with funding received by Indigenous groups, standing at approximately 0.6. The next significant correlation lies with the followed by a negative correlation with regional factors of -0.38. (Unsurprising as the previous investigation this data was sourced found the distribuition of funding was only equitable on a per capita basis) In contrast, media attention shows a relatively weak negative correlation of -0.24, which is surprising given the expectations of a more direct relationship.\n",
    "\n",
    "The Year feature can be discarded due to its weak correlation with funding, although it maintains a very high correlation with media attention, rendering it somewhat redundant.\n",
    "\n",
    "Now that \"Aggregated Articles\", \"Regional\", and \"Medical Related\" have been identified as the most suitable independent variables, these can be used to produce a linear model prediction of \"Funding ($)\" based upon a training set and then evaluate against a test set. \n",
    "\n",
    "Using a linear model allows for the quantifying predictions of funding allocation as a continuous variable, while a logistic regression would be better suited for binary outcomes such as whether a particular recipient received funding or not. This makes the multiple linear regression technique more appropriate when considering the objective of quantifying relationships that drive funding decisions in relation to Indigenous recipients and particular the impact of the media."
   ]
  },
  {
   "cell_type": "code",
   "execution_count": 161,
   "id": "faf1bf8f",
   "metadata": {},
   "outputs": [
    {
     "name": "stdout",
     "output_type": "stream",
     "text": [
      "The model R squared score across the training dataset is: 0.665\n"
     ]
    }
   ],
   "source": [
    "# Break the current dataset into train and test datasets\n",
    "x_train, x_test, y_train, y_test = train_test_split(combined_df[[\"Aggregated Articles\", \"Regional\",\"Medical\"]], \n",
    "                                                    combined_df[[\"Funding ($)\"]],\n",
    "                                                    shuffle=True, train_size=0.8, random_state=99) # Train size determines the percentage use for training the model\n",
    "\n",
    "# Create a new linear regression model\n",
    "linear_model = LinearRegression() \n",
    "\n",
    "# Train the model with the train dataset\n",
    "linear_model.fit(x_train, y_train) \n",
    "\n",
    "# Calculate the model's prediction error over the training dataset\n",
    "linear_R2 = r2_score(y_train, linear_model.predict(x_train) ) \n",
    "\n",
    "print(f'The model R squared score across the training dataset is: {linear_R2:0.3f}')"
   ]
  },
  {
   "cell_type": "markdown",
   "id": "abb2ee62",
   "metadata": {},
   "source": [
    "This R<sup>2</sup> indicates the model performs okay across the training dataset, which is actually surpising considering the biases identified in the media article dataset and also suspected issues caused by manually annotating the data. \n",
    "\n",
    "The linear regression model can now be applied to the test dataset to demonstrate the predictions and how these compare to the actual values of funding."
   ]
  },
  {
   "cell_type": "code",
   "execution_count": 160,
   "id": "73683c57",
   "metadata": {},
   "outputs": [
    {
     "data": {
      "application/vnd.plotly.v1+json": {
       "config": {
        "plotlyServerURL": "https://plot.ly"
       },
       "data": [
        {
         "hovertemplate": "Legend=Funding ($)<br>Grant Index=%{x}<br>Government Funding ($)=%{y}<extra></extra>",
         "legendgroup": "Funding ($)",
         "marker": {
          "color": "#636efa",
          "symbol": "circle"
         },
         "mode": "markers",
         "name": "Funding ($)",
         "orientation": "v",
         "showlegend": true,
         "type": "scatter",
         "x": [
          0,
          11,
          7,
          6
         ],
         "xaxis": "x",
         "y": [
          43750,
          100000,
          150000,
          72986
         ],
         "yaxis": "y"
        },
        {
         "hovertemplate": "Legend=Funding Prediction ($)<br>Grant Index=%{x}<br>Government Funding ($)=%{y}<extra></extra>",
         "legendgroup": "Funding Prediction ($)",
         "marker": {
          "color": "#EF553B",
          "symbol": "circle"
         },
         "mode": "markers",
         "name": "Funding Prediction ($)",
         "orientation": "v",
         "showlegend": true,
         "type": "scatter",
         "x": [
          0,
          11,
          7,
          6
         ],
         "xaxis": "x",
         "y": [
          54729.94242345856,
          54617.77265842352,
          290862.36674522434,
          133609.282602462
         ],
         "yaxis": "y"
        }
       ],
       "layout": {
        "height": 800,
        "legend": {
         "title": {
          "font": {
           "size": 15
          },
          "text": "Legend"
         },
         "tracegroupgap": 0
        },
        "template": {
         "data": {
          "bar": [
           {
            "error_x": {
             "color": "#2a3f5f"
            },
            "error_y": {
             "color": "#2a3f5f"
            },
            "marker": {
             "line": {
              "color": "#E5ECF6",
              "width": 0.5
             },
             "pattern": {
              "fillmode": "overlay",
              "size": 10,
              "solidity": 0.2
             }
            },
            "type": "bar"
           }
          ],
          "barpolar": [
           {
            "marker": {
             "line": {
              "color": "#E5ECF6",
              "width": 0.5
             },
             "pattern": {
              "fillmode": "overlay",
              "size": 10,
              "solidity": 0.2
             }
            },
            "type": "barpolar"
           }
          ],
          "carpet": [
           {
            "aaxis": {
             "endlinecolor": "#2a3f5f",
             "gridcolor": "white",
             "linecolor": "white",
             "minorgridcolor": "white",
             "startlinecolor": "#2a3f5f"
            },
            "baxis": {
             "endlinecolor": "#2a3f5f",
             "gridcolor": "white",
             "linecolor": "white",
             "minorgridcolor": "white",
             "startlinecolor": "#2a3f5f"
            },
            "type": "carpet"
           }
          ],
          "choropleth": [
           {
            "colorbar": {
             "outlinewidth": 0,
             "ticks": ""
            },
            "type": "choropleth"
           }
          ],
          "contour": [
           {
            "colorbar": {
             "outlinewidth": 0,
             "ticks": ""
            },
            "colorscale": [
             [
              0,
              "#0d0887"
             ],
             [
              0.1111111111111111,
              "#46039f"
             ],
             [
              0.2222222222222222,
              "#7201a8"
             ],
             [
              0.3333333333333333,
              "#9c179e"
             ],
             [
              0.4444444444444444,
              "#bd3786"
             ],
             [
              0.5555555555555556,
              "#d8576b"
             ],
             [
              0.6666666666666666,
              "#ed7953"
             ],
             [
              0.7777777777777778,
              "#fb9f3a"
             ],
             [
              0.8888888888888888,
              "#fdca26"
             ],
             [
              1,
              "#f0f921"
             ]
            ],
            "type": "contour"
           }
          ],
          "contourcarpet": [
           {
            "colorbar": {
             "outlinewidth": 0,
             "ticks": ""
            },
            "type": "contourcarpet"
           }
          ],
          "heatmap": [
           {
            "colorbar": {
             "outlinewidth": 0,
             "ticks": ""
            },
            "colorscale": [
             [
              0,
              "#0d0887"
             ],
             [
              0.1111111111111111,
              "#46039f"
             ],
             [
              0.2222222222222222,
              "#7201a8"
             ],
             [
              0.3333333333333333,
              "#9c179e"
             ],
             [
              0.4444444444444444,
              "#bd3786"
             ],
             [
              0.5555555555555556,
              "#d8576b"
             ],
             [
              0.6666666666666666,
              "#ed7953"
             ],
             [
              0.7777777777777778,
              "#fb9f3a"
             ],
             [
              0.8888888888888888,
              "#fdca26"
             ],
             [
              1,
              "#f0f921"
             ]
            ],
            "type": "heatmap"
           }
          ],
          "heatmapgl": [
           {
            "colorbar": {
             "outlinewidth": 0,
             "ticks": ""
            },
            "colorscale": [
             [
              0,
              "#0d0887"
             ],
             [
              0.1111111111111111,
              "#46039f"
             ],
             [
              0.2222222222222222,
              "#7201a8"
             ],
             [
              0.3333333333333333,
              "#9c179e"
             ],
             [
              0.4444444444444444,
              "#bd3786"
             ],
             [
              0.5555555555555556,
              "#d8576b"
             ],
             [
              0.6666666666666666,
              "#ed7953"
             ],
             [
              0.7777777777777778,
              "#fb9f3a"
             ],
             [
              0.8888888888888888,
              "#fdca26"
             ],
             [
              1,
              "#f0f921"
             ]
            ],
            "type": "heatmapgl"
           }
          ],
          "histogram": [
           {
            "marker": {
             "pattern": {
              "fillmode": "overlay",
              "size": 10,
              "solidity": 0.2
             }
            },
            "type": "histogram"
           }
          ],
          "histogram2d": [
           {
            "colorbar": {
             "outlinewidth": 0,
             "ticks": ""
            },
            "colorscale": [
             [
              0,
              "#0d0887"
             ],
             [
              0.1111111111111111,
              "#46039f"
             ],
             [
              0.2222222222222222,
              "#7201a8"
             ],
             [
              0.3333333333333333,
              "#9c179e"
             ],
             [
              0.4444444444444444,
              "#bd3786"
             ],
             [
              0.5555555555555556,
              "#d8576b"
             ],
             [
              0.6666666666666666,
              "#ed7953"
             ],
             [
              0.7777777777777778,
              "#fb9f3a"
             ],
             [
              0.8888888888888888,
              "#fdca26"
             ],
             [
              1,
              "#f0f921"
             ]
            ],
            "type": "histogram2d"
           }
          ],
          "histogram2dcontour": [
           {
            "colorbar": {
             "outlinewidth": 0,
             "ticks": ""
            },
            "colorscale": [
             [
              0,
              "#0d0887"
             ],
             [
              0.1111111111111111,
              "#46039f"
             ],
             [
              0.2222222222222222,
              "#7201a8"
             ],
             [
              0.3333333333333333,
              "#9c179e"
             ],
             [
              0.4444444444444444,
              "#bd3786"
             ],
             [
              0.5555555555555556,
              "#d8576b"
             ],
             [
              0.6666666666666666,
              "#ed7953"
             ],
             [
              0.7777777777777778,
              "#fb9f3a"
             ],
             [
              0.8888888888888888,
              "#fdca26"
             ],
             [
              1,
              "#f0f921"
             ]
            ],
            "type": "histogram2dcontour"
           }
          ],
          "mesh3d": [
           {
            "colorbar": {
             "outlinewidth": 0,
             "ticks": ""
            },
            "type": "mesh3d"
           }
          ],
          "parcoords": [
           {
            "line": {
             "colorbar": {
              "outlinewidth": 0,
              "ticks": ""
             }
            },
            "type": "parcoords"
           }
          ],
          "pie": [
           {
            "automargin": true,
            "type": "pie"
           }
          ],
          "scatter": [
           {
            "fillpattern": {
             "fillmode": "overlay",
             "size": 10,
             "solidity": 0.2
            },
            "type": "scatter"
           }
          ],
          "scatter3d": [
           {
            "line": {
             "colorbar": {
              "outlinewidth": 0,
              "ticks": ""
             }
            },
            "marker": {
             "colorbar": {
              "outlinewidth": 0,
              "ticks": ""
             }
            },
            "type": "scatter3d"
           }
          ],
          "scattercarpet": [
           {
            "marker": {
             "colorbar": {
              "outlinewidth": 0,
              "ticks": ""
             }
            },
            "type": "scattercarpet"
           }
          ],
          "scattergeo": [
           {
            "marker": {
             "colorbar": {
              "outlinewidth": 0,
              "ticks": ""
             }
            },
            "type": "scattergeo"
           }
          ],
          "scattergl": [
           {
            "marker": {
             "colorbar": {
              "outlinewidth": 0,
              "ticks": ""
             }
            },
            "type": "scattergl"
           }
          ],
          "scattermapbox": [
           {
            "marker": {
             "colorbar": {
              "outlinewidth": 0,
              "ticks": ""
             }
            },
            "type": "scattermapbox"
           }
          ],
          "scatterpolar": [
           {
            "marker": {
             "colorbar": {
              "outlinewidth": 0,
              "ticks": ""
             }
            },
            "type": "scatterpolar"
           }
          ],
          "scatterpolargl": [
           {
            "marker": {
             "colorbar": {
              "outlinewidth": 0,
              "ticks": ""
             }
            },
            "type": "scatterpolargl"
           }
          ],
          "scatterternary": [
           {
            "marker": {
             "colorbar": {
              "outlinewidth": 0,
              "ticks": ""
             }
            },
            "type": "scatterternary"
           }
          ],
          "surface": [
           {
            "colorbar": {
             "outlinewidth": 0,
             "ticks": ""
            },
            "colorscale": [
             [
              0,
              "#0d0887"
             ],
             [
              0.1111111111111111,
              "#46039f"
             ],
             [
              0.2222222222222222,
              "#7201a8"
             ],
             [
              0.3333333333333333,
              "#9c179e"
             ],
             [
              0.4444444444444444,
              "#bd3786"
             ],
             [
              0.5555555555555556,
              "#d8576b"
             ],
             [
              0.6666666666666666,
              "#ed7953"
             ],
             [
              0.7777777777777778,
              "#fb9f3a"
             ],
             [
              0.8888888888888888,
              "#fdca26"
             ],
             [
              1,
              "#f0f921"
             ]
            ],
            "type": "surface"
           }
          ],
          "table": [
           {
            "cells": {
             "fill": {
              "color": "#EBF0F8"
             },
             "line": {
              "color": "white"
             }
            },
            "header": {
             "fill": {
              "color": "#C8D4E3"
             },
             "line": {
              "color": "white"
             }
            },
            "type": "table"
           }
          ]
         },
         "layout": {
          "annotationdefaults": {
           "arrowcolor": "#2a3f5f",
           "arrowhead": 0,
           "arrowwidth": 1
          },
          "autotypenumbers": "strict",
          "coloraxis": {
           "colorbar": {
            "outlinewidth": 0,
            "ticks": ""
           }
          },
          "colorscale": {
           "diverging": [
            [
             0,
             "#8e0152"
            ],
            [
             0.1,
             "#c51b7d"
            ],
            [
             0.2,
             "#de77ae"
            ],
            [
             0.3,
             "#f1b6da"
            ],
            [
             0.4,
             "#fde0ef"
            ],
            [
             0.5,
             "#f7f7f7"
            ],
            [
             0.6,
             "#e6f5d0"
            ],
            [
             0.7,
             "#b8e186"
            ],
            [
             0.8,
             "#7fbc41"
            ],
            [
             0.9,
             "#4d9221"
            ],
            [
             1,
             "#276419"
            ]
           ],
           "sequential": [
            [
             0,
             "#0d0887"
            ],
            [
             0.1111111111111111,
             "#46039f"
            ],
            [
             0.2222222222222222,
             "#7201a8"
            ],
            [
             0.3333333333333333,
             "#9c179e"
            ],
            [
             0.4444444444444444,
             "#bd3786"
            ],
            [
             0.5555555555555556,
             "#d8576b"
            ],
            [
             0.6666666666666666,
             "#ed7953"
            ],
            [
             0.7777777777777778,
             "#fb9f3a"
            ],
            [
             0.8888888888888888,
             "#fdca26"
            ],
            [
             1,
             "#f0f921"
            ]
           ],
           "sequentialminus": [
            [
             0,
             "#0d0887"
            ],
            [
             0.1111111111111111,
             "#46039f"
            ],
            [
             0.2222222222222222,
             "#7201a8"
            ],
            [
             0.3333333333333333,
             "#9c179e"
            ],
            [
             0.4444444444444444,
             "#bd3786"
            ],
            [
             0.5555555555555556,
             "#d8576b"
            ],
            [
             0.6666666666666666,
             "#ed7953"
            ],
            [
             0.7777777777777778,
             "#fb9f3a"
            ],
            [
             0.8888888888888888,
             "#fdca26"
            ],
            [
             1,
             "#f0f921"
            ]
           ]
          },
          "colorway": [
           "#636efa",
           "#EF553B",
           "#00cc96",
           "#ab63fa",
           "#FFA15A",
           "#19d3f3",
           "#FF6692",
           "#B6E880",
           "#FF97FF",
           "#FECB52"
          ],
          "font": {
           "color": "#2a3f5f"
          },
          "geo": {
           "bgcolor": "white",
           "lakecolor": "white",
           "landcolor": "#E5ECF6",
           "showlakes": true,
           "showland": true,
           "subunitcolor": "white"
          },
          "hoverlabel": {
           "align": "left"
          },
          "hovermode": "closest",
          "mapbox": {
           "style": "light"
          },
          "paper_bgcolor": "white",
          "plot_bgcolor": "#E5ECF6",
          "polar": {
           "angularaxis": {
            "gridcolor": "white",
            "linecolor": "white",
            "ticks": ""
           },
           "bgcolor": "#E5ECF6",
           "radialaxis": {
            "gridcolor": "white",
            "linecolor": "white",
            "ticks": ""
           }
          },
          "scene": {
           "xaxis": {
            "backgroundcolor": "#E5ECF6",
            "gridcolor": "white",
            "gridwidth": 2,
            "linecolor": "white",
            "showbackground": true,
            "ticks": "",
            "zerolinecolor": "white"
           },
           "yaxis": {
            "backgroundcolor": "#E5ECF6",
            "gridcolor": "white",
            "gridwidth": 2,
            "linecolor": "white",
            "showbackground": true,
            "ticks": "",
            "zerolinecolor": "white"
           },
           "zaxis": {
            "backgroundcolor": "#E5ECF6",
            "gridcolor": "white",
            "gridwidth": 2,
            "linecolor": "white",
            "showbackground": true,
            "ticks": "",
            "zerolinecolor": "white"
           }
          },
          "shapedefaults": {
           "line": {
            "color": "#2a3f5f"
           }
          },
          "ternary": {
           "aaxis": {
            "gridcolor": "white",
            "linecolor": "white",
            "ticks": ""
           },
           "baxis": {
            "gridcolor": "white",
            "linecolor": "white",
            "ticks": ""
           },
           "bgcolor": "#E5ECF6",
           "caxis": {
            "gridcolor": "white",
            "linecolor": "white",
            "ticks": ""
           }
          },
          "title": {
           "x": 0.05
          },
          "xaxis": {
           "automargin": true,
           "gridcolor": "white",
           "linecolor": "white",
           "ticks": "",
           "title": {
            "standoff": 15
           },
           "zerolinecolor": "white",
           "zerolinewidth": 2
          },
          "yaxis": {
           "automargin": true,
           "gridcolor": "white",
           "linecolor": "white",
           "ticks": "",
           "title": {
            "standoff": 15
           },
           "zerolinecolor": "white",
           "zerolinewidth": 2
          }
         }
        },
        "title": {
         "font": {
          "size": 25
         },
         "text": "Linear Regression Model Prediction and Actual Advance Queensland Funding for Indigenous Grants",
         "x": 0.5
        },
        "xaxis": {
         "anchor": "y",
         "domain": [
          0,
          1
         ],
         "title": {
          "text": "Grant Index"
         }
        },
        "yaxis": {
         "anchor": "x",
         "domain": [
          0,
          1
         ],
         "title": {
          "text": "Government Funding ($)"
         }
        }
       }
      }
     },
     "metadata": {},
     "output_type": "display_data"
    }
   ],
   "source": [
    "# Apply linear model to predictions\n",
    "fund_fig_df=pd.DataFrame(y_test)\n",
    "fund_fig_df[\"Funding Prediction ($)\"] = linear_model.predict(x_test)\n",
    "\n",
    "linreg_fig = px.scatter(fund_fig_df, \n",
    "                        title = \"Linear Regression Model Prediction and Actual Advance Queensland Funding for Indigenous Grants\",\n",
    "                        labels = {\"variable\": \"Legend\", \n",
    "                                  \"value\":\"Government Funding ($)\",\n",
    "                                  \"index\": \"Grant Index\"})\n",
    "linreg_fig.update_layout(\n",
    "    title_font_size=25,\n",
    "    title_x=0.5,\n",
    "    legend_title_font_size=15,\n",
    "    height=800\n",
    ")\n",
    "linreg_fig.show()"
   ]
  },
  {
   "cell_type": "markdown",
   "id": "a250551a",
   "metadata": {},
   "source": [
    "Viewing the predictions compared to to the actual funding grants shows that the model gets them mostly in the right ballpark, but had a large margin of error. It is expected that with so many binary features having stronger correlation this has resulted behaves similar to a clustering model.\n",
    "\n",
    "### Insight\n",
    "The analysis yielded critical insights about the relationship between media attention and Indigenous funding through Advance Queensland. While the medical feature correlated strongly with funding for Indigenous groups, media attention surprisingly showed a weak negative correlation. This raises concerns about the influence of media narratives on government priorities.\n",
    "\n",
    "Biases in the dataset were evident, especially in manual annotations. Although Advance Queensland reports a certain percentage of funding recipients identifying as Aboriginal or Torres Strait Islander, the analysis identified a smaller fraction as related to Indigenous groups. This discrepancy highlights the challenges of accurately representing Indigenous interests based solely on descriptive data.\n",
    "\n",
    "While the linear model provided some correlations, it should not be relied upon for precise predictions due to potential biases and the limitations of the manual annotation process. Instead, the model offers valuable insights into the broader relationships at play, emphasizing the need for robust data collection methods. Reliance on media narratives for funding decisions is problematic; government allocations should be based on objective assessments of community needs rather than fluctuating coverage. Overall, the findings illustrate that while the results may be accurate, they do not translate into meaningful predictions for effective governance.\n",
    "\n",
    "# Closing statement\n",
    "\n",
    "In conclusion, this analysis underscores the complex interplay between media attention and Indigenous funding, revealing biases and limitations that can hinder accurate representation. While the findings offer valuable insights into the relationships influencing funding decisions, they also highlight the importance of objective data collection methods. Although it may be possible to acquire a more detailed dataset from Advance Queensland upon request, doing so would not be ethically appropriate due to concerns about personally identifiable information and Indigenous status. Ensuring that government allocations are based on genuine community needs, rather than media narratives, is essential for fostering equitable support for Indigenous communities. Continued examination and refinement of these processes will be crucial for effective governance and meaningful impact.\n"
   ]
  },
  {
   "cell_type": "markdown",
   "id": "e7318be6",
   "metadata": {},
   "source": [
    "### **References**\n",
    "\n",
    "Queensland Government Open Data Portal. (2024, July 1st) _Advance Queensland Funding Recipients_.\n",
    "\n",
    "    Retrieved August 12, 2024, from https://www.data.qld.gov.au/dataset/advance-queensland-funding-recipients"
   ]
  }
 ],
 "metadata": {
  "creation_period": "",
  "kernelspec": {
   "display_name": "Python 3 (ipykernel)",
   "language": "python",
   "name": "python3"
  },
  "language_info": {
   "codemirror_mode": {
    "name": "ipython",
    "version": 3
   },
   "file_extension": ".py",
   "mimetype": "text/x-python",
   "name": "python",
   "nbconvert_exporter": "python",
   "pygments_lexer": "ipython3",
   "version": "3.12.3"
  },
  "nb_name": "template",
  "qut": {
   "creation_period": "2023_sem1",
   "nb_name": "template-assignment2",
   "unit_code": "IFN619"
  },
  "unit_code": "",
  "vscode": {
   "interpreter": {
    "hash": "d4d1e4263499bec80672ea0156c357c1ee493ec2b1c70f0acce89fc37c4a6abe"
   }
  }
 },
 "nbformat": 4,
 "nbformat_minor": 5
}
