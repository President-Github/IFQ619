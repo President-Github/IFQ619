{
 "cells": [
  {
   "cell_type": "markdown",
   "id": "cdc30bc6-8bab-48ed-a375-833e6c556c6a",
   "metadata": {
    "cell_name": "header_cell"
   },
   "source": [
    "<div style=\"background:#E9FFF6; color:#440404; padding:8px; border-radius: 4px; text-align: center; font-weight: 500;\">IFQ619 - Data Analytics for Strategic Decision Makers (2024)</div>"
   ]
  },
  {
   "attachments": {},
   "cell_type": "markdown",
   "id": "ed5105af-66b9-41c5-95ab-7642aae82616",
   "metadata": {
    "cell_name": "title_cell"
   },
   "source": [
    "# IFQ619 :: B2-StructuredAnalytics Tutorial Exercises"
   ]
  },
  {
   "attachments": {},
   "cell_type": "markdown",
   "id": "0351e0c6",
   "metadata": {},
   "source": [
    "---\n",
    "## Task 1"
   ]
  },
  {
   "attachments": {},
   "cell_type": "markdown",
   "id": "08b61426",
   "metadata": {},
   "source": [
    "Using the structured analytics techniques demonstrated in this week's studio, work through the QDAVI cycle for the following business concern:\n",
    "\n",
    "\n",
    "> **CONCERN:** A business is looking to launch an agricultural product in either Australia or New Zealand. However, management is unsure which country to start with.\n",
    "\n",
    "### Question\n",
    "\n",
    "What questions might the business be interested in answering, and how might we use data analytics to address these questions?"
   ]
  },
  {
   "attachments": {},
   "cell_type": "markdown",
   "id": "96b0b3fc",
   "metadata": {},
   "source": [
    "### Data\n",
    "\n",
    "What data may be helpful in finding out the importance of agriculture to each country?\n",
    "\n",
    "Perhaps, data that shows the contribution of agriculture to the economy:\n",
    "\n",
    "1. Take a look at [GapMinder](https://www.gapminder.org/data/) - (based on [uw-madison resource](https://uw-madison-aci.github.io/python-novice-gapminder/39-plotting/))\n",
    "2. Under \"Choose individual indicators\", navigate to \"Agriculture, percent of GDP\" (economy>sectors>agriculture) and download the CSV file.\n",
    "3. Upload the CSV to your Jupyter files section with the 'upload' button into a 'data' directory."
   ]
  },
  {
   "cell_type": "code",
   "execution_count": 2,
   "id": "6f817367",
   "metadata": {},
   "outputs": [],
   "source": [
    "# import the required library to load the data\n",
    "import pandas as pd\n"
   ]
  },
  {
   "cell_type": "markdown",
   "id": "fe34d005",
   "metadata": {},
   "source": [
    "#### Load the data\n",
    "\n",
    "Now that we have the data file in our Jupyter environment, we can load the data out of the file into our notebook so that we can work with it."
   ]
  },
  {
   "cell_type": "code",
   "execution_count": 3,
   "id": "ed25ed72",
   "metadata": {},
   "outputs": [
    {
     "data": {
      "text/html": [
       "<div>\n",
       "<style scoped>\n",
       "    .dataframe tbody tr th:only-of-type {\n",
       "        vertical-align: middle;\n",
       "    }\n",
       "\n",
       "    .dataframe tbody tr th {\n",
       "        vertical-align: top;\n",
       "    }\n",
       "\n",
       "    .dataframe thead th {\n",
       "        text-align: right;\n",
       "    }\n",
       "</style>\n",
       "<table border=\"1\" class=\"dataframe\">\n",
       "  <thead>\n",
       "    <tr style=\"text-align: right;\">\n",
       "      <th></th>\n",
       "      <th>1960</th>\n",
       "      <th>1961</th>\n",
       "      <th>1962</th>\n",
       "      <th>1963</th>\n",
       "      <th>1964</th>\n",
       "      <th>1965</th>\n",
       "      <th>1966</th>\n",
       "      <th>1967</th>\n",
       "      <th>1968</th>\n",
       "      <th>1969</th>\n",
       "      <th>...</th>\n",
       "      <th>2013</th>\n",
       "      <th>2014</th>\n",
       "      <th>2015</th>\n",
       "      <th>2016</th>\n",
       "      <th>2017</th>\n",
       "      <th>2018</th>\n",
       "      <th>2019</th>\n",
       "      <th>2020</th>\n",
       "      <th>2021</th>\n",
       "      <th>2022</th>\n",
       "    </tr>\n",
       "    <tr>\n",
       "      <th>country</th>\n",
       "      <th></th>\n",
       "      <th></th>\n",
       "      <th></th>\n",
       "      <th></th>\n",
       "      <th></th>\n",
       "      <th></th>\n",
       "      <th></th>\n",
       "      <th></th>\n",
       "      <th></th>\n",
       "      <th></th>\n",
       "      <th></th>\n",
       "      <th></th>\n",
       "      <th></th>\n",
       "      <th></th>\n",
       "      <th></th>\n",
       "      <th></th>\n",
       "      <th></th>\n",
       "      <th></th>\n",
       "      <th></th>\n",
       "      <th></th>\n",
       "      <th></th>\n",
       "    </tr>\n",
       "  </thead>\n",
       "  <tbody>\n",
       "    <tr>\n",
       "      <th>Aruba</th>\n",
       "      <td>NaN</td>\n",
       "      <td>NaN</td>\n",
       "      <td>NaN</td>\n",
       "      <td>NaN</td>\n",
       "      <td>NaN</td>\n",
       "      <td>NaN</td>\n",
       "      <td>NaN</td>\n",
       "      <td>NaN</td>\n",
       "      <td>NaN</td>\n",
       "      <td>NaN</td>\n",
       "      <td>...</td>\n",
       "      <td>0.0178</td>\n",
       "      <td>0.0148</td>\n",
       "      <td>0.0125</td>\n",
       "      <td>0.0186</td>\n",
       "      <td>0.0239</td>\n",
       "      <td>0.0222</td>\n",
       "      <td>0.0276</td>\n",
       "      <td>NaN</td>\n",
       "      <td>NaN</td>\n",
       "      <td>NaN</td>\n",
       "    </tr>\n",
       "    <tr>\n",
       "      <th>Afghanistan</th>\n",
       "      <td>NaN</td>\n",
       "      <td>NaN</td>\n",
       "      <td>NaN</td>\n",
       "      <td>NaN</td>\n",
       "      <td>NaN</td>\n",
       "      <td>NaN</td>\n",
       "      <td>NaN</td>\n",
       "      <td>NaN</td>\n",
       "      <td>NaN</td>\n",
       "      <td>NaN</td>\n",
       "      <td>...</td>\n",
       "      <td>22.8000</td>\n",
       "      <td>22.1000</td>\n",
       "      <td>20.6000</td>\n",
       "      <td>25.7000</td>\n",
       "      <td>26.4000</td>\n",
       "      <td>22.0000</td>\n",
       "      <td>25.8000</td>\n",
       "      <td>30.000</td>\n",
       "      <td>33.600</td>\n",
       "      <td>NaN</td>\n",
       "    </tr>\n",
       "    <tr>\n",
       "      <th>Angola</th>\n",
       "      <td>NaN</td>\n",
       "      <td>NaN</td>\n",
       "      <td>NaN</td>\n",
       "      <td>NaN</td>\n",
       "      <td>NaN</td>\n",
       "      <td>NaN</td>\n",
       "      <td>NaN</td>\n",
       "      <td>NaN</td>\n",
       "      <td>NaN</td>\n",
       "      <td>NaN</td>\n",
       "      <td>...</td>\n",
       "      <td>6.5100</td>\n",
       "      <td>7.5500</td>\n",
       "      <td>9.1200</td>\n",
       "      <td>9.8300</td>\n",
       "      <td>10.0000</td>\n",
       "      <td>8.6100</td>\n",
       "      <td>7.8800</td>\n",
       "      <td>9.950</td>\n",
       "      <td>11.500</td>\n",
       "      <td>13.600</td>\n",
       "    </tr>\n",
       "    <tr>\n",
       "      <th>Albania</th>\n",
       "      <td>NaN</td>\n",
       "      <td>NaN</td>\n",
       "      <td>NaN</td>\n",
       "      <td>NaN</td>\n",
       "      <td>NaN</td>\n",
       "      <td>NaN</td>\n",
       "      <td>NaN</td>\n",
       "      <td>NaN</td>\n",
       "      <td>NaN</td>\n",
       "      <td>NaN</td>\n",
       "      <td>...</td>\n",
       "      <td>19.6000</td>\n",
       "      <td>20.0000</td>\n",
       "      <td>19.8000</td>\n",
       "      <td>19.8000</td>\n",
       "      <td>19.0000</td>\n",
       "      <td>18.4000</td>\n",
       "      <td>18.4000</td>\n",
       "      <td>19.200</td>\n",
       "      <td>18.400</td>\n",
       "      <td>18.600</td>\n",
       "    </tr>\n",
       "    <tr>\n",
       "      <th>Andorra</th>\n",
       "      <td>NaN</td>\n",
       "      <td>NaN</td>\n",
       "      <td>NaN</td>\n",
       "      <td>NaN</td>\n",
       "      <td>NaN</td>\n",
       "      <td>NaN</td>\n",
       "      <td>NaN</td>\n",
       "      <td>NaN</td>\n",
       "      <td>NaN</td>\n",
       "      <td>NaN</td>\n",
       "      <td>...</td>\n",
       "      <td>0.5860</td>\n",
       "      <td>0.5380</td>\n",
       "      <td>0.5130</td>\n",
       "      <td>0.5220</td>\n",
       "      <td>0.5600</td>\n",
       "      <td>0.5460</td>\n",
       "      <td>0.5230</td>\n",
       "      <td>0.559</td>\n",
       "      <td>0.534</td>\n",
       "      <td>0.496</td>\n",
       "    </tr>\n",
       "    <tr>\n",
       "      <th>...</th>\n",
       "      <td>...</td>\n",
       "      <td>...</td>\n",
       "      <td>...</td>\n",
       "      <td>...</td>\n",
       "      <td>...</td>\n",
       "      <td>...</td>\n",
       "      <td>...</td>\n",
       "      <td>...</td>\n",
       "      <td>...</td>\n",
       "      <td>...</td>\n",
       "      <td>...</td>\n",
       "      <td>...</td>\n",
       "      <td>...</td>\n",
       "      <td>...</td>\n",
       "      <td>...</td>\n",
       "      <td>...</td>\n",
       "      <td>...</td>\n",
       "      <td>...</td>\n",
       "      <td>...</td>\n",
       "      <td>...</td>\n",
       "      <td>...</td>\n",
       "    </tr>\n",
       "    <tr>\n",
       "      <th>Samoa</th>\n",
       "      <td>NaN</td>\n",
       "      <td>NaN</td>\n",
       "      <td>NaN</td>\n",
       "      <td>NaN</td>\n",
       "      <td>NaN</td>\n",
       "      <td>NaN</td>\n",
       "      <td>NaN</td>\n",
       "      <td>NaN</td>\n",
       "      <td>NaN</td>\n",
       "      <td>NaN</td>\n",
       "      <td>...</td>\n",
       "      <td>9.3700</td>\n",
       "      <td>8.9800</td>\n",
       "      <td>8.3200</td>\n",
       "      <td>8.6400</td>\n",
       "      <td>9.9100</td>\n",
       "      <td>9.1500</td>\n",
       "      <td>9.1000</td>\n",
       "      <td>9.540</td>\n",
       "      <td>9.850</td>\n",
       "      <td>9.990</td>\n",
       "    </tr>\n",
       "    <tr>\n",
       "      <th>Yemen</th>\n",
       "      <td>NaN</td>\n",
       "      <td>NaN</td>\n",
       "      <td>NaN</td>\n",
       "      <td>NaN</td>\n",
       "      <td>NaN</td>\n",
       "      <td>NaN</td>\n",
       "      <td>NaN</td>\n",
       "      <td>NaN</td>\n",
       "      <td>NaN</td>\n",
       "      <td>NaN</td>\n",
       "      <td>...</td>\n",
       "      <td>17.7000</td>\n",
       "      <td>17.7000</td>\n",
       "      <td>20.2000</td>\n",
       "      <td>25.1000</td>\n",
       "      <td>27.0000</td>\n",
       "      <td>28.7000</td>\n",
       "      <td>NaN</td>\n",
       "      <td>NaN</td>\n",
       "      <td>NaN</td>\n",
       "      <td>NaN</td>\n",
       "    </tr>\n",
       "    <tr>\n",
       "      <th>South Africa</th>\n",
       "      <td>9.04</td>\n",
       "      <td>9.32</td>\n",
       "      <td>8.96</td>\n",
       "      <td>8.84</td>\n",
       "      <td>7.65</td>\n",
       "      <td>7.43</td>\n",
       "      <td>7.7</td>\n",
       "      <td>8.49</td>\n",
       "      <td>7.14</td>\n",
       "      <td>6.67</td>\n",
       "      <td>...</td>\n",
       "      <td>1.9300</td>\n",
       "      <td>2.1300</td>\n",
       "      <td>2.2300</td>\n",
       "      <td>2.4100</td>\n",
       "      <td>2.4900</td>\n",
       "      <td>2.2600</td>\n",
       "      <td>1.9500</td>\n",
       "      <td>2.580</td>\n",
       "      <td>2.560</td>\n",
       "      <td>2.830</td>\n",
       "    </tr>\n",
       "    <tr>\n",
       "      <th>Zambia</th>\n",
       "      <td>11.50</td>\n",
       "      <td>12.80</td>\n",
       "      <td>12.30</td>\n",
       "      <td>13.00</td>\n",
       "      <td>12.00</td>\n",
       "      <td>14.30</td>\n",
       "      <td>13.4</td>\n",
       "      <td>12.80</td>\n",
       "      <td>11.40</td>\n",
       "      <td>9.67</td>\n",
       "      <td>...</td>\n",
       "      <td>8.2300</td>\n",
       "      <td>6.7800</td>\n",
       "      <td>4.9800</td>\n",
       "      <td>6.2300</td>\n",
       "      <td>4.0200</td>\n",
       "      <td>3.3400</td>\n",
       "      <td>2.8600</td>\n",
       "      <td>2.980</td>\n",
       "      <td>3.000</td>\n",
       "      <td>3.090</td>\n",
       "    </tr>\n",
       "    <tr>\n",
       "      <th>Zimbabwe</th>\n",
       "      <td>NaN</td>\n",
       "      <td>NaN</td>\n",
       "      <td>NaN</td>\n",
       "      <td>NaN</td>\n",
       "      <td>NaN</td>\n",
       "      <td>18.80</td>\n",
       "      <td>21.1</td>\n",
       "      <td>21.90</td>\n",
       "      <td>16.90</td>\n",
       "      <td>19.50</td>\n",
       "      <td>...</td>\n",
       "      <td>7.1400</td>\n",
       "      <td>8.7500</td>\n",
       "      <td>8.2800</td>\n",
       "      <td>7.8700</td>\n",
       "      <td>8.3400</td>\n",
       "      <td>7.3200</td>\n",
       "      <td>9.8200</td>\n",
       "      <td>8.770</td>\n",
       "      <td>8.850</td>\n",
       "      <td>7.190</td>\n",
       "    </tr>\n",
       "  </tbody>\n",
       "</table>\n",
       "<p>206 rows × 63 columns</p>\n",
       "</div>"
      ],
      "text/plain": [
       "               1960   1961   1962   1963   1964   1965  1966   1967   1968  \\\n",
       "country                                                                      \n",
       "Aruba           NaN    NaN    NaN    NaN    NaN    NaN   NaN    NaN    NaN   \n",
       "Afghanistan     NaN    NaN    NaN    NaN    NaN    NaN   NaN    NaN    NaN   \n",
       "Angola          NaN    NaN    NaN    NaN    NaN    NaN   NaN    NaN    NaN   \n",
       "Albania         NaN    NaN    NaN    NaN    NaN    NaN   NaN    NaN    NaN   \n",
       "Andorra         NaN    NaN    NaN    NaN    NaN    NaN   NaN    NaN    NaN   \n",
       "...             ...    ...    ...    ...    ...    ...   ...    ...    ...   \n",
       "Samoa           NaN    NaN    NaN    NaN    NaN    NaN   NaN    NaN    NaN   \n",
       "Yemen           NaN    NaN    NaN    NaN    NaN    NaN   NaN    NaN    NaN   \n",
       "South Africa   9.04   9.32   8.96   8.84   7.65   7.43   7.7   8.49   7.14   \n",
       "Zambia        11.50  12.80  12.30  13.00  12.00  14.30  13.4  12.80  11.40   \n",
       "Zimbabwe        NaN    NaN    NaN    NaN    NaN  18.80  21.1  21.90  16.90   \n",
       "\n",
       "               1969  ...     2013     2014     2015     2016     2017  \\\n",
       "country              ...                                                \n",
       "Aruba           NaN  ...   0.0178   0.0148   0.0125   0.0186   0.0239   \n",
       "Afghanistan     NaN  ...  22.8000  22.1000  20.6000  25.7000  26.4000   \n",
       "Angola          NaN  ...   6.5100   7.5500   9.1200   9.8300  10.0000   \n",
       "Albania         NaN  ...  19.6000  20.0000  19.8000  19.8000  19.0000   \n",
       "Andorra         NaN  ...   0.5860   0.5380   0.5130   0.5220   0.5600   \n",
       "...             ...  ...      ...      ...      ...      ...      ...   \n",
       "Samoa           NaN  ...   9.3700   8.9800   8.3200   8.6400   9.9100   \n",
       "Yemen           NaN  ...  17.7000  17.7000  20.2000  25.1000  27.0000   \n",
       "South Africa   6.67  ...   1.9300   2.1300   2.2300   2.4100   2.4900   \n",
       "Zambia         9.67  ...   8.2300   6.7800   4.9800   6.2300   4.0200   \n",
       "Zimbabwe      19.50  ...   7.1400   8.7500   8.2800   7.8700   8.3400   \n",
       "\n",
       "                 2018     2019    2020    2021    2022  \n",
       "country                                                 \n",
       "Aruba          0.0222   0.0276     NaN     NaN     NaN  \n",
       "Afghanistan   22.0000  25.8000  30.000  33.600     NaN  \n",
       "Angola         8.6100   7.8800   9.950  11.500  13.600  \n",
       "Albania       18.4000  18.4000  19.200  18.400  18.600  \n",
       "Andorra        0.5460   0.5230   0.559   0.534   0.496  \n",
       "...               ...      ...     ...     ...     ...  \n",
       "Samoa          9.1500   9.1000   9.540   9.850   9.990  \n",
       "Yemen         28.7000      NaN     NaN     NaN     NaN  \n",
       "South Africa   2.2600   1.9500   2.580   2.560   2.830  \n",
       "Zambia         3.3400   2.8600   2.980   3.000   3.090  \n",
       "Zimbabwe       7.3200   9.8200   8.770   8.850   7.190  \n",
       "\n",
       "[206 rows x 63 columns]"
      ]
     },
     "execution_count": 3,
     "metadata": {},
     "output_type": "execute_result"
    }
   ],
   "source": [
    "file_path = \"data/\"\n",
    "file_name = \"agriculture_percent_of_gdp.csv\"\n",
    "index_column = \"country\"\n",
    "\n",
    "ag_gdp_df = pd.read_csv(f\"{file_path}{file_name}\", index_col= index_column)\n",
    "\n",
    "ag_gdp_df"
   ]
  },
  {
   "attachments": {},
   "cell_type": "markdown",
   "id": "f5a6d0e6",
   "metadata": {},
   "source": [
    "#### Select relevant data\n",
    "\n",
    "Select the most recent 5 years. We can do this by getting a list of the columns, and selecting the last 5. However, we need to ensure that both countries have complete data for those years.\n",
    "\n",
    "Select the relevant rows (Australia and NZ)"
   ]
  },
  {
   "cell_type": "code",
   "execution_count": 6,
   "id": "e7a2865c",
   "metadata": {},
   "outputs": [
    {
     "data": {
      "text/plain": [
       "['2016', '2017', '2018', '2019', '2020']"
      ]
     },
     "execution_count": 6,
     "metadata": {},
     "output_type": "execute_result"
    }
   ],
   "source": [
    "# get columns as a list and select recent 5 that have complete data for Aus and NZ\n",
    "all_years = list(ag_gdp_df.columns)\n",
    "recent5_years = all_years[-7:-2]\n",
    "recent5_years"
   ]
  },
  {
   "cell_type": "code",
   "execution_count": 7,
   "id": "b3e509bf",
   "metadata": {},
   "outputs": [
    {
     "data": {
      "text/html": [
       "<div>\n",
       "<style scoped>\n",
       "    .dataframe tbody tr th:only-of-type {\n",
       "        vertical-align: middle;\n",
       "    }\n",
       "\n",
       "    .dataframe tbody tr th {\n",
       "        vertical-align: top;\n",
       "    }\n",
       "\n",
       "    .dataframe thead th {\n",
       "        text-align: right;\n",
       "    }\n",
       "</style>\n",
       "<table border=\"1\" class=\"dataframe\">\n",
       "  <thead>\n",
       "    <tr style=\"text-align: right;\">\n",
       "      <th></th>\n",
       "      <th>2016</th>\n",
       "      <th>2017</th>\n",
       "      <th>2018</th>\n",
       "      <th>2019</th>\n",
       "      <th>2020</th>\n",
       "    </tr>\n",
       "    <tr>\n",
       "      <th>country</th>\n",
       "      <th></th>\n",
       "      <th></th>\n",
       "      <th></th>\n",
       "      <th></th>\n",
       "      <th></th>\n",
       "    </tr>\n",
       "  </thead>\n",
       "  <tbody>\n",
       "    <tr>\n",
       "      <th>Aruba</th>\n",
       "      <td>0.0186</td>\n",
       "      <td>0.0239</td>\n",
       "      <td>0.0222</td>\n",
       "      <td>0.0276</td>\n",
       "      <td>NaN</td>\n",
       "    </tr>\n",
       "    <tr>\n",
       "      <th>Afghanistan</th>\n",
       "      <td>25.7000</td>\n",
       "      <td>26.4000</td>\n",
       "      <td>22.0000</td>\n",
       "      <td>25.8000</td>\n",
       "      <td>30.000</td>\n",
       "    </tr>\n",
       "    <tr>\n",
       "      <th>Angola</th>\n",
       "      <td>9.8300</td>\n",
       "      <td>10.0000</td>\n",
       "      <td>8.6100</td>\n",
       "      <td>7.8800</td>\n",
       "      <td>9.950</td>\n",
       "    </tr>\n",
       "    <tr>\n",
       "      <th>Albania</th>\n",
       "      <td>19.8000</td>\n",
       "      <td>19.0000</td>\n",
       "      <td>18.4000</td>\n",
       "      <td>18.4000</td>\n",
       "      <td>19.200</td>\n",
       "    </tr>\n",
       "    <tr>\n",
       "      <th>Andorra</th>\n",
       "      <td>0.5220</td>\n",
       "      <td>0.5600</td>\n",
       "      <td>0.5460</td>\n",
       "      <td>0.5230</td>\n",
       "      <td>0.559</td>\n",
       "    </tr>\n",
       "    <tr>\n",
       "      <th>...</th>\n",
       "      <td>...</td>\n",
       "      <td>...</td>\n",
       "      <td>...</td>\n",
       "      <td>...</td>\n",
       "      <td>...</td>\n",
       "    </tr>\n",
       "    <tr>\n",
       "      <th>Samoa</th>\n",
       "      <td>8.6400</td>\n",
       "      <td>9.9100</td>\n",
       "      <td>9.1500</td>\n",
       "      <td>9.1000</td>\n",
       "      <td>9.540</td>\n",
       "    </tr>\n",
       "    <tr>\n",
       "      <th>Yemen</th>\n",
       "      <td>25.1000</td>\n",
       "      <td>27.0000</td>\n",
       "      <td>28.7000</td>\n",
       "      <td>NaN</td>\n",
       "      <td>NaN</td>\n",
       "    </tr>\n",
       "    <tr>\n",
       "      <th>South Africa</th>\n",
       "      <td>2.4100</td>\n",
       "      <td>2.4900</td>\n",
       "      <td>2.2600</td>\n",
       "      <td>1.9500</td>\n",
       "      <td>2.580</td>\n",
       "    </tr>\n",
       "    <tr>\n",
       "      <th>Zambia</th>\n",
       "      <td>6.2300</td>\n",
       "      <td>4.0200</td>\n",
       "      <td>3.3400</td>\n",
       "      <td>2.8600</td>\n",
       "      <td>2.980</td>\n",
       "    </tr>\n",
       "    <tr>\n",
       "      <th>Zimbabwe</th>\n",
       "      <td>7.8700</td>\n",
       "      <td>8.3400</td>\n",
       "      <td>7.3200</td>\n",
       "      <td>9.8200</td>\n",
       "      <td>8.770</td>\n",
       "    </tr>\n",
       "  </tbody>\n",
       "</table>\n",
       "<p>206 rows × 5 columns</p>\n",
       "</div>"
      ],
      "text/plain": [
       "                 2016     2017     2018     2019    2020\n",
       "country                                                 \n",
       "Aruba          0.0186   0.0239   0.0222   0.0276     NaN\n",
       "Afghanistan   25.7000  26.4000  22.0000  25.8000  30.000\n",
       "Angola         9.8300  10.0000   8.6100   7.8800   9.950\n",
       "Albania       19.8000  19.0000  18.4000  18.4000  19.200\n",
       "Andorra        0.5220   0.5600   0.5460   0.5230   0.559\n",
       "...               ...      ...      ...      ...     ...\n",
       "Samoa          8.6400   9.9100   9.1500   9.1000   9.540\n",
       "Yemen         25.1000  27.0000  28.7000      NaN     NaN\n",
       "South Africa   2.4100   2.4900   2.2600   1.9500   2.580\n",
       "Zambia         6.2300   4.0200   3.3400   2.8600   2.980\n",
       "Zimbabwe       7.8700   8.3400   7.3200   9.8200   8.770\n",
       "\n",
       "[206 rows x 5 columns]"
      ]
     },
     "execution_count": 7,
     "metadata": {},
     "output_type": "execute_result"
    }
   ],
   "source": [
    "ag_gdp5_df = ag_gdp_df[recent5_years]\n",
    "ag_gdp5_df"
   ]
  },
  {
   "cell_type": "markdown",
   "id": "81fd869c",
   "metadata": {},
   "source": [
    "We are only interested in Australia and New Zealand, so we don't need 189 rows. We can use the .loc function of the dataframe to obtain the row."
   ]
  },
  {
   "cell_type": "code",
   "execution_count": 8,
   "id": "e1cfed03",
   "metadata": {},
   "outputs": [
    {
     "data": {
      "text/html": [
       "<div>\n",
       "<style scoped>\n",
       "    .dataframe tbody tr th:only-of-type {\n",
       "        vertical-align: middle;\n",
       "    }\n",
       "\n",
       "    .dataframe tbody tr th {\n",
       "        vertical-align: top;\n",
       "    }\n",
       "\n",
       "    .dataframe thead th {\n",
       "        text-align: right;\n",
       "    }\n",
       "</style>\n",
       "<table border=\"1\" class=\"dataframe\">\n",
       "  <thead>\n",
       "    <tr style=\"text-align: right;\">\n",
       "      <th></th>\n",
       "      <th>2016</th>\n",
       "      <th>2017</th>\n",
       "      <th>2018</th>\n",
       "      <th>2019</th>\n",
       "      <th>2020</th>\n",
       "    </tr>\n",
       "    <tr>\n",
       "      <th>country</th>\n",
       "      <th></th>\n",
       "      <th></th>\n",
       "      <th></th>\n",
       "      <th></th>\n",
       "      <th></th>\n",
       "    </tr>\n",
       "  </thead>\n",
       "  <tbody>\n",
       "    <tr>\n",
       "      <th>Australia</th>\n",
       "      <td>2.40</td>\n",
       "      <td>2.70</td>\n",
       "      <td>2.46</td>\n",
       "      <td>2.11</td>\n",
       "      <td>2.01</td>\n",
       "    </tr>\n",
       "    <tr>\n",
       "      <th>New Zealand</th>\n",
       "      <td>5.55</td>\n",
       "      <td>5.91</td>\n",
       "      <td>5.66</td>\n",
       "      <td>5.69</td>\n",
       "      <td>5.65</td>\n",
       "    </tr>\n",
       "  </tbody>\n",
       "</table>\n",
       "</div>"
      ],
      "text/plain": [
       "             2016  2017  2018  2019  2020\n",
       "country                                  \n",
       "Australia    2.40  2.70  2.46  2.11  2.01\n",
       "New Zealand  5.55  5.91  5.66  5.69  5.65"
      ]
     },
     "execution_count": 8,
     "metadata": {},
     "output_type": "execute_result"
    }
   ],
   "source": [
    "countries = [\"Australia\",\"New Zealand\"]\n",
    "ag_gdp5_df.loc[countries] # loc only works on the index I believe"
   ]
  },
  {
   "cell_type": "code",
   "execution_count": 16,
   "id": "defb3e95",
   "metadata": {},
   "outputs": [
    {
     "data": {
      "text/html": [
       "<div>\n",
       "<style scoped>\n",
       "    .dataframe tbody tr th:only-of-type {\n",
       "        vertical-align: middle;\n",
       "    }\n",
       "\n",
       "    .dataframe tbody tr th {\n",
       "        vertical-align: top;\n",
       "    }\n",
       "\n",
       "    .dataframe thead th {\n",
       "        text-align: right;\n",
       "    }\n",
       "</style>\n",
       "<table border=\"1\" class=\"dataframe\">\n",
       "  <thead>\n",
       "    <tr style=\"text-align: right;\">\n",
       "      <th>country</th>\n",
       "      <th>Australia</th>\n",
       "      <th>New Zealand</th>\n",
       "    </tr>\n",
       "    <tr>\n",
       "      <th>year</th>\n",
       "      <th></th>\n",
       "      <th></th>\n",
       "    </tr>\n",
       "  </thead>\n",
       "  <tbody>\n",
       "    <tr>\n",
       "      <th>2016</th>\n",
       "      <td>2.40</td>\n",
       "      <td>5.55</td>\n",
       "    </tr>\n",
       "    <tr>\n",
       "      <th>2017</th>\n",
       "      <td>2.70</td>\n",
       "      <td>5.91</td>\n",
       "    </tr>\n",
       "    <tr>\n",
       "      <th>2018</th>\n",
       "      <td>2.46</td>\n",
       "      <td>5.66</td>\n",
       "    </tr>\n",
       "    <tr>\n",
       "      <th>2019</th>\n",
       "      <td>2.11</td>\n",
       "      <td>5.69</td>\n",
       "    </tr>\n",
       "    <tr>\n",
       "      <th>2020</th>\n",
       "      <td>2.01</td>\n",
       "      <td>5.65</td>\n",
       "    </tr>\n",
       "  </tbody>\n",
       "</table>\n",
       "</div>"
      ],
      "text/plain": [
       "country  Australia  New Zealand\n",
       "year                           \n",
       "2016          2.40         5.55\n",
       "2017          2.70         5.91\n",
       "2018          2.46         5.66\n",
       "2019          2.11         5.69\n",
       "2020          2.01         5.65"
      ]
     },
     "execution_count": 16,
     "metadata": {},
     "output_type": "execute_result"
    }
   ],
   "source": [
    "# Transpose the dataframe (with .T) to better suit analysis\n",
    "au_nz_df = ag_gdp5_df.loc[countries].T\n",
    "au_nz_df.index.name = \"year\" # give the index an appropriate name\n",
    "au_nz_df"
   ]
  },
  {
   "attachments": {},
   "cell_type": "markdown",
   "id": "f2bfafc2",
   "metadata": {},
   "source": [
    "### Analysis\n",
    "\n",
    "Get a picture of the data, by using descriptives statistics"
   ]
  },
  {
   "cell_type": "code",
   "execution_count": 10,
   "id": "12d01c1c",
   "metadata": {},
   "outputs": [
    {
     "data": {
      "text/html": [
       "<div>\n",
       "<style scoped>\n",
       "    .dataframe tbody tr th:only-of-type {\n",
       "        vertical-align: middle;\n",
       "    }\n",
       "\n",
       "    .dataframe tbody tr th {\n",
       "        vertical-align: top;\n",
       "    }\n",
       "\n",
       "    .dataframe thead th {\n",
       "        text-align: right;\n",
       "    }\n",
       "</style>\n",
       "<table border=\"1\" class=\"dataframe\">\n",
       "  <thead>\n",
       "    <tr style=\"text-align: right;\">\n",
       "      <th>country</th>\n",
       "      <th>Australia</th>\n",
       "      <th>New Zealand</th>\n",
       "    </tr>\n",
       "  </thead>\n",
       "  <tbody>\n",
       "    <tr>\n",
       "      <th>count</th>\n",
       "      <td>5.000000</td>\n",
       "      <td>5.00000</td>\n",
       "    </tr>\n",
       "    <tr>\n",
       "      <th>mean</th>\n",
       "      <td>2.336000</td>\n",
       "      <td>5.69200</td>\n",
       "    </tr>\n",
       "    <tr>\n",
       "      <th>std</th>\n",
       "      <td>0.278083</td>\n",
       "      <td>0.13274</td>\n",
       "    </tr>\n",
       "    <tr>\n",
       "      <th>min</th>\n",
       "      <td>2.010000</td>\n",
       "      <td>5.55000</td>\n",
       "    </tr>\n",
       "    <tr>\n",
       "      <th>25%</th>\n",
       "      <td>2.110000</td>\n",
       "      <td>5.65000</td>\n",
       "    </tr>\n",
       "    <tr>\n",
       "      <th>50%</th>\n",
       "      <td>2.400000</td>\n",
       "      <td>5.66000</td>\n",
       "    </tr>\n",
       "    <tr>\n",
       "      <th>75%</th>\n",
       "      <td>2.460000</td>\n",
       "      <td>5.69000</td>\n",
       "    </tr>\n",
       "    <tr>\n",
       "      <th>max</th>\n",
       "      <td>2.700000</td>\n",
       "      <td>5.91000</td>\n",
       "    </tr>\n",
       "  </tbody>\n",
       "</table>\n",
       "</div>"
      ],
      "text/plain": [
       "country  Australia  New Zealand\n",
       "count     5.000000      5.00000\n",
       "mean      2.336000      5.69200\n",
       "std       0.278083      0.13274\n",
       "min       2.010000      5.55000\n",
       "25%       2.110000      5.65000\n",
       "50%       2.400000      5.66000\n",
       "75%       2.460000      5.69000\n",
       "max       2.700000      5.91000"
      ]
     },
     "execution_count": 10,
     "metadata": {},
     "output_type": "execute_result"
    }
   ],
   "source": [
    "au_nz_df.describe()"
   ]
  },
  {
   "cell_type": "code",
   "execution_count": 26,
   "id": "2680dfcb-4f11-4f9b-aedc-9ba2776020ae",
   "metadata": {},
   "outputs": [
    {
     "data": {
      "text/plain": [
       "Index(['2016', '2017', '2018', '2019', '2020'], dtype='object', name='year')"
      ]
     },
     "execution_count": 26,
     "metadata": {},
     "output_type": "execute_result"
    }
   ],
   "source": [
    "au_nz_df.index"
   ]
  },
  {
   "cell_type": "code",
   "execution_count": 38,
   "id": "b5e3a4ac",
   "metadata": {},
   "outputs": [
    {
     "name": "stdout",
     "output_type": "stream",
     "text": [
      "Agriculture as a percent of GDP for the years: 2016, 2017, 2018, 2019, 2020\n",
      "Australia mean: 2.336%, min: 2.01% max: 2.7%\n",
      "New Zealand mean: 5.692%, min: 5.55% max: 5.91%\n"
     ]
    }
   ],
   "source": [
    "\n",
    "\n",
    "years = list(au_nz_df.index)\n",
    "yrs_str = \", \".join(years)\n",
    "print(f\"Agriculture as a percent of GDP for the years: {yrs_str}\")\n",
    "for country in countries:\n",
    "    ds = au_nz_df[country].describe()\n",
    "    mean_pc = ds[\"mean\"]\n",
    "    min_pc = ds[\"min\"]\n",
    "    max_pc = ds[\"max\"]\n",
    "    \n",
    "    print(f\"{country} mean: {mean_pc:2}%, min: {min_pc}% max: {max_pc}%\")"
   ]
  },
  {
   "attachments": {},
   "cell_type": "markdown",
   "id": "b90c3e6d",
   "metadata": {},
   "source": [
    "### Visualisation\n",
    "\n",
    "Use plotly.express to create a line chart for the new dataframe"
   ]
  },
  {
   "cell_type": "code",
   "execution_count": 40,
   "id": "b0cd17af-e5ba-40df-852e-cd1ccb558440",
   "metadata": {},
   "outputs": [],
   "source": [
    "# Import the library required to use plotly express for visualisation\n",
    "import plotly.express as px"
   ]
  },
  {
   "cell_type": "code",
   "execution_count": 45,
   "id": "ab01eaee",
   "metadata": {},
   "outputs": [
    {
     "data": {
      "application/vnd.plotly.v1+json": {
       "config": {
        "plotlyServerURL": "https://plot.ly"
       },
       "data": [
        {
         "hovertemplate": "country=Australia<br>year=%{x}<br>value=%{y}<extra></extra>",
         "legendgroup": "Australia",
         "line": {
          "color": "#636efa",
          "dash": "solid"
         },
         "marker": {
          "symbol": "circle"
         },
         "mode": "lines",
         "name": "Australia",
         "orientation": "v",
         "showlegend": true,
         "type": "scatter",
         "x": [
          "2016",
          "2017",
          "2018",
          "2019",
          "2020"
         ],
         "xaxis": "x",
         "y": [
          2.4,
          2.7,
          2.46,
          2.11,
          2.01
         ],
         "yaxis": "y"
        },
        {
         "hovertemplate": "country=New Zealand<br>year=%{x}<br>value=%{y}<extra></extra>",
         "legendgroup": "New Zealand",
         "line": {
          "color": "#EF553B",
          "dash": "solid"
         },
         "marker": {
          "symbol": "circle"
         },
         "mode": "lines",
         "name": "New Zealand",
         "orientation": "v",
         "showlegend": true,
         "type": "scatter",
         "x": [
          "2016",
          "2017",
          "2018",
          "2019",
          "2020"
         ],
         "xaxis": "x",
         "y": [
          5.55,
          5.91,
          5.66,
          5.69,
          5.65
         ],
         "yaxis": "y"
        }
       ],
       "layout": {
        "autosize": true,
        "legend": {
         "title": {
          "text": "country"
         },
         "tracegroupgap": 0
        },
        "margin": {
         "t": 60
        },
        "template": {
         "data": {
          "bar": [
           {
            "error_x": {
             "color": "#2a3f5f"
            },
            "error_y": {
             "color": "#2a3f5f"
            },
            "marker": {
             "line": {
              "color": "#E5ECF6",
              "width": 0.5
             },
             "pattern": {
              "fillmode": "overlay",
              "size": 10,
              "solidity": 0.2
             }
            },
            "type": "bar"
           }
          ],
          "barpolar": [
           {
            "marker": {
             "line": {
              "color": "#E5ECF6",
              "width": 0.5
             },
             "pattern": {
              "fillmode": "overlay",
              "size": 10,
              "solidity": 0.2
             }
            },
            "type": "barpolar"
           }
          ],
          "carpet": [
           {
            "aaxis": {
             "endlinecolor": "#2a3f5f",
             "gridcolor": "white",
             "linecolor": "white",
             "minorgridcolor": "white",
             "startlinecolor": "#2a3f5f"
            },
            "baxis": {
             "endlinecolor": "#2a3f5f",
             "gridcolor": "white",
             "linecolor": "white",
             "minorgridcolor": "white",
             "startlinecolor": "#2a3f5f"
            },
            "type": "carpet"
           }
          ],
          "choropleth": [
           {
            "colorbar": {
             "outlinewidth": 0,
             "ticks": ""
            },
            "type": "choropleth"
           }
          ],
          "contour": [
           {
            "colorbar": {
             "outlinewidth": 0,
             "ticks": ""
            },
            "colorscale": [
             [
              0,
              "#0d0887"
             ],
             [
              0.1111111111111111,
              "#46039f"
             ],
             [
              0.2222222222222222,
              "#7201a8"
             ],
             [
              0.3333333333333333,
              "#9c179e"
             ],
             [
              0.4444444444444444,
              "#bd3786"
             ],
             [
              0.5555555555555556,
              "#d8576b"
             ],
             [
              0.6666666666666666,
              "#ed7953"
             ],
             [
              0.7777777777777778,
              "#fb9f3a"
             ],
             [
              0.8888888888888888,
              "#fdca26"
             ],
             [
              1,
              "#f0f921"
             ]
            ],
            "type": "contour"
           }
          ],
          "contourcarpet": [
           {
            "colorbar": {
             "outlinewidth": 0,
             "ticks": ""
            },
            "type": "contourcarpet"
           }
          ],
          "heatmap": [
           {
            "colorbar": {
             "outlinewidth": 0,
             "ticks": ""
            },
            "colorscale": [
             [
              0,
              "#0d0887"
             ],
             [
              0.1111111111111111,
              "#46039f"
             ],
             [
              0.2222222222222222,
              "#7201a8"
             ],
             [
              0.3333333333333333,
              "#9c179e"
             ],
             [
              0.4444444444444444,
              "#bd3786"
             ],
             [
              0.5555555555555556,
              "#d8576b"
             ],
             [
              0.6666666666666666,
              "#ed7953"
             ],
             [
              0.7777777777777778,
              "#fb9f3a"
             ],
             [
              0.8888888888888888,
              "#fdca26"
             ],
             [
              1,
              "#f0f921"
             ]
            ],
            "type": "heatmap"
           }
          ],
          "heatmapgl": [
           {
            "colorbar": {
             "outlinewidth": 0,
             "ticks": ""
            },
            "colorscale": [
             [
              0,
              "#0d0887"
             ],
             [
              0.1111111111111111,
              "#46039f"
             ],
             [
              0.2222222222222222,
              "#7201a8"
             ],
             [
              0.3333333333333333,
              "#9c179e"
             ],
             [
              0.4444444444444444,
              "#bd3786"
             ],
             [
              0.5555555555555556,
              "#d8576b"
             ],
             [
              0.6666666666666666,
              "#ed7953"
             ],
             [
              0.7777777777777778,
              "#fb9f3a"
             ],
             [
              0.8888888888888888,
              "#fdca26"
             ],
             [
              1,
              "#f0f921"
             ]
            ],
            "type": "heatmapgl"
           }
          ],
          "histogram": [
           {
            "marker": {
             "pattern": {
              "fillmode": "overlay",
              "size": 10,
              "solidity": 0.2
             }
            },
            "type": "histogram"
           }
          ],
          "histogram2d": [
           {
            "colorbar": {
             "outlinewidth": 0,
             "ticks": ""
            },
            "colorscale": [
             [
              0,
              "#0d0887"
             ],
             [
              0.1111111111111111,
              "#46039f"
             ],
             [
              0.2222222222222222,
              "#7201a8"
             ],
             [
              0.3333333333333333,
              "#9c179e"
             ],
             [
              0.4444444444444444,
              "#bd3786"
             ],
             [
              0.5555555555555556,
              "#d8576b"
             ],
             [
              0.6666666666666666,
              "#ed7953"
             ],
             [
              0.7777777777777778,
              "#fb9f3a"
             ],
             [
              0.8888888888888888,
              "#fdca26"
             ],
             [
              1,
              "#f0f921"
             ]
            ],
            "type": "histogram2d"
           }
          ],
          "histogram2dcontour": [
           {
            "colorbar": {
             "outlinewidth": 0,
             "ticks": ""
            },
            "colorscale": [
             [
              0,
              "#0d0887"
             ],
             [
              0.1111111111111111,
              "#46039f"
             ],
             [
              0.2222222222222222,
              "#7201a8"
             ],
             [
              0.3333333333333333,
              "#9c179e"
             ],
             [
              0.4444444444444444,
              "#bd3786"
             ],
             [
              0.5555555555555556,
              "#d8576b"
             ],
             [
              0.6666666666666666,
              "#ed7953"
             ],
             [
              0.7777777777777778,
              "#fb9f3a"
             ],
             [
              0.8888888888888888,
              "#fdca26"
             ],
             [
              1,
              "#f0f921"
             ]
            ],
            "type": "histogram2dcontour"
           }
          ],
          "mesh3d": [
           {
            "colorbar": {
             "outlinewidth": 0,
             "ticks": ""
            },
            "type": "mesh3d"
           }
          ],
          "parcoords": [
           {
            "line": {
             "colorbar": {
              "outlinewidth": 0,
              "ticks": ""
             }
            },
            "type": "parcoords"
           }
          ],
          "pie": [
           {
            "automargin": true,
            "type": "pie"
           }
          ],
          "scatter": [
           {
            "fillpattern": {
             "fillmode": "overlay",
             "size": 10,
             "solidity": 0.2
            },
            "type": "scatter"
           }
          ],
          "scatter3d": [
           {
            "line": {
             "colorbar": {
              "outlinewidth": 0,
              "ticks": ""
             }
            },
            "marker": {
             "colorbar": {
              "outlinewidth": 0,
              "ticks": ""
             }
            },
            "type": "scatter3d"
           }
          ],
          "scattercarpet": [
           {
            "marker": {
             "colorbar": {
              "outlinewidth": 0,
              "ticks": ""
             }
            },
            "type": "scattercarpet"
           }
          ],
          "scattergeo": [
           {
            "marker": {
             "colorbar": {
              "outlinewidth": 0,
              "ticks": ""
             }
            },
            "type": "scattergeo"
           }
          ],
          "scattergl": [
           {
            "marker": {
             "colorbar": {
              "outlinewidth": 0,
              "ticks": ""
             }
            },
            "type": "scattergl"
           }
          ],
          "scattermapbox": [
           {
            "marker": {
             "colorbar": {
              "outlinewidth": 0,
              "ticks": ""
             }
            },
            "type": "scattermapbox"
           }
          ],
          "scatterpolar": [
           {
            "marker": {
             "colorbar": {
              "outlinewidth": 0,
              "ticks": ""
             }
            },
            "type": "scatterpolar"
           }
          ],
          "scatterpolargl": [
           {
            "marker": {
             "colorbar": {
              "outlinewidth": 0,
              "ticks": ""
             }
            },
            "type": "scatterpolargl"
           }
          ],
          "scatterternary": [
           {
            "marker": {
             "colorbar": {
              "outlinewidth": 0,
              "ticks": ""
             }
            },
            "type": "scatterternary"
           }
          ],
          "surface": [
           {
            "colorbar": {
             "outlinewidth": 0,
             "ticks": ""
            },
            "colorscale": [
             [
              0,
              "#0d0887"
             ],
             [
              0.1111111111111111,
              "#46039f"
             ],
             [
              0.2222222222222222,
              "#7201a8"
             ],
             [
              0.3333333333333333,
              "#9c179e"
             ],
             [
              0.4444444444444444,
              "#bd3786"
             ],
             [
              0.5555555555555556,
              "#d8576b"
             ],
             [
              0.6666666666666666,
              "#ed7953"
             ],
             [
              0.7777777777777778,
              "#fb9f3a"
             ],
             [
              0.8888888888888888,
              "#fdca26"
             ],
             [
              1,
              "#f0f921"
             ]
            ],
            "type": "surface"
           }
          ],
          "table": [
           {
            "cells": {
             "fill": {
              "color": "#EBF0F8"
             },
             "line": {
              "color": "white"
             }
            },
            "header": {
             "fill": {
              "color": "#C8D4E3"
             },
             "line": {
              "color": "white"
             }
            },
            "type": "table"
           }
          ]
         },
         "layout": {
          "annotationdefaults": {
           "arrowcolor": "#2a3f5f",
           "arrowhead": 0,
           "arrowwidth": 1
          },
          "autotypenumbers": "strict",
          "coloraxis": {
           "colorbar": {
            "outlinewidth": 0,
            "ticks": ""
           }
          },
          "colorscale": {
           "diverging": [
            [
             0,
             "#8e0152"
            ],
            [
             0.1,
             "#c51b7d"
            ],
            [
             0.2,
             "#de77ae"
            ],
            [
             0.3,
             "#f1b6da"
            ],
            [
             0.4,
             "#fde0ef"
            ],
            [
             0.5,
             "#f7f7f7"
            ],
            [
             0.6,
             "#e6f5d0"
            ],
            [
             0.7,
             "#b8e186"
            ],
            [
             0.8,
             "#7fbc41"
            ],
            [
             0.9,
             "#4d9221"
            ],
            [
             1,
             "#276419"
            ]
           ],
           "sequential": [
            [
             0,
             "#0d0887"
            ],
            [
             0.1111111111111111,
             "#46039f"
            ],
            [
             0.2222222222222222,
             "#7201a8"
            ],
            [
             0.3333333333333333,
             "#9c179e"
            ],
            [
             0.4444444444444444,
             "#bd3786"
            ],
            [
             0.5555555555555556,
             "#d8576b"
            ],
            [
             0.6666666666666666,
             "#ed7953"
            ],
            [
             0.7777777777777778,
             "#fb9f3a"
            ],
            [
             0.8888888888888888,
             "#fdca26"
            ],
            [
             1,
             "#f0f921"
            ]
           ],
           "sequentialminus": [
            [
             0,
             "#0d0887"
            ],
            [
             0.1111111111111111,
             "#46039f"
            ],
            [
             0.2222222222222222,
             "#7201a8"
            ],
            [
             0.3333333333333333,
             "#9c179e"
            ],
            [
             0.4444444444444444,
             "#bd3786"
            ],
            [
             0.5555555555555556,
             "#d8576b"
            ],
            [
             0.6666666666666666,
             "#ed7953"
            ],
            [
             0.7777777777777778,
             "#fb9f3a"
            ],
            [
             0.8888888888888888,
             "#fdca26"
            ],
            [
             1,
             "#f0f921"
            ]
           ]
          },
          "colorway": [
           "#636efa",
           "#EF553B",
           "#00cc96",
           "#ab63fa",
           "#FFA15A",
           "#19d3f3",
           "#FF6692",
           "#B6E880",
           "#FF97FF",
           "#FECB52"
          ],
          "font": {
           "color": "#2a3f5f"
          },
          "geo": {
           "bgcolor": "white",
           "lakecolor": "white",
           "landcolor": "#E5ECF6",
           "showlakes": true,
           "showland": true,
           "subunitcolor": "white"
          },
          "hoverlabel": {
           "align": "left"
          },
          "hovermode": "closest",
          "mapbox": {
           "style": "light"
          },
          "paper_bgcolor": "white",
          "plot_bgcolor": "#E5ECF6",
          "polar": {
           "angularaxis": {
            "gridcolor": "white",
            "linecolor": "white",
            "ticks": ""
           },
           "bgcolor": "#E5ECF6",
           "radialaxis": {
            "gridcolor": "white",
            "linecolor": "white",
            "ticks": ""
           }
          },
          "scene": {
           "xaxis": {
            "backgroundcolor": "#E5ECF6",
            "gridcolor": "white",
            "gridwidth": 2,
            "linecolor": "white",
            "showbackground": true,
            "ticks": "",
            "zerolinecolor": "white"
           },
           "yaxis": {
            "backgroundcolor": "#E5ECF6",
            "gridcolor": "white",
            "gridwidth": 2,
            "linecolor": "white",
            "showbackground": true,
            "ticks": "",
            "zerolinecolor": "white"
           },
           "zaxis": {
            "backgroundcolor": "#E5ECF6",
            "gridcolor": "white",
            "gridwidth": 2,
            "linecolor": "white",
            "showbackground": true,
            "ticks": "",
            "zerolinecolor": "white"
           }
          },
          "shapedefaults": {
           "line": {
            "color": "#2a3f5f"
           }
          },
          "ternary": {
           "aaxis": {
            "gridcolor": "white",
            "linecolor": "white",
            "ticks": ""
           },
           "baxis": {
            "gridcolor": "white",
            "linecolor": "white",
            "ticks": ""
           },
           "bgcolor": "#E5ECF6",
           "caxis": {
            "gridcolor": "white",
            "linecolor": "white",
            "ticks": ""
           }
          },
          "title": {
           "x": 0.05
          },
          "xaxis": {
           "automargin": true,
           "gridcolor": "white",
           "linecolor": "white",
           "ticks": "",
           "title": {
            "standoff": 15
           },
           "zerolinecolor": "white",
           "zerolinewidth": 2
          },
          "yaxis": {
           "automargin": true,
           "gridcolor": "white",
           "linecolor": "white",
           "ticks": "",
           "title": {
            "standoff": 15
           },
           "zerolinecolor": "white",
           "zerolinewidth": 2
          }
         }
        },
        "xaxis": {
         "anchor": "y",
         "autorange": true,
         "domain": [
          0,
          1
         ],
         "range": [
          0,
          4
         ],
         "title": {
          "text": "year"
         },
         "type": "category"
        },
        "yaxis": {
         "anchor": "x",
         "autorange": true,
         "domain": [
          0,
          1
         ],
         "range": [
          1.793333333333333,
          6.126666666666667
         ],
         "title": {
          "text": "value"
         },
         "type": "linear"
        }
       }
      },
      "image/png": "[encoded data removed]",
      "text/html": [
       "<div>                            <div id=\"cd6c48fc-fda7-49d2-80b7-fc6eab7f4f0c\" class=\"plotly-graph-div\" style=\"height:525px; width:100%;\"></div>            <script type=\"text/javascript\">                require([\"plotly\"], function(Plotly) {                    window.PLOTLYENV=window.PLOTLYENV || {};                                    if (document.getElementById(\"cd6c48fc-fda7-49d2-80b7-fc6eab7f4f0c\")) {                    Plotly.newPlot(                        \"cd6c48fc-fda7-49d2-80b7-fc6eab7f4f0c\",                        [{\"hovertemplate\":\"country=Australia\\u003cbr\\u003eyear=%{x}\\u003cbr\\u003evalue=%{y}\\u003cextra\\u003e\\u003c\\u002fextra\\u003e\",\"legendgroup\":\"Australia\",\"line\":{\"color\":\"#636efa\",\"dash\":\"solid\"},\"marker\":{\"symbol\":\"circle\"},\"mode\":\"lines\",\"name\":\"Australia\",\"orientation\":\"v\",\"showlegend\":true,\"x\":[\"2016\",\"2017\",\"2018\",\"2019\",\"2020\"],\"xaxis\":\"x\",\"y\":[2.4,2.7,2.46,2.11,2.01],\"yaxis\":\"y\",\"type\":\"scatter\"},{\"hovertemplate\":\"country=New Zealand\\u003cbr\\u003eyear=%{x}\\u003cbr\\u003evalue=%{y}\\u003cextra\\u003e\\u003c\\u002fextra\\u003e\",\"legendgroup\":\"New Zealand\",\"line\":{\"color\":\"#EF553B\",\"dash\":\"solid\"},\"marker\":{\"symbol\":\"circle\"},\"mode\":\"lines\",\"name\":\"New Zealand\",\"orientation\":\"v\",\"showlegend\":true,\"x\":[\"2016\",\"2017\",\"2018\",\"2019\",\"2020\"],\"xaxis\":\"x\",\"y\":[5.55,5.91,5.66,5.69,5.65],\"yaxis\":\"y\",\"type\":\"scatter\"}],                        {\"template\":{\"data\":{\"histogram2dcontour\":[{\"type\":\"histogram2dcontour\",\"colorbar\":{\"outlinewidth\":0,\"ticks\":\"\"},\"colorscale\":[[0.0,\"#0d0887\"],[0.1111111111111111,\"#46039f\"],[0.2222222222222222,\"#7201a8\"],[0.3333333333333333,\"#9c179e\"],[0.4444444444444444,\"#bd3786\"],[0.5555555555555556,\"#d8576b\"],[0.6666666666666666,\"#ed7953\"],[0.7777777777777778,\"#fb9f3a\"],[0.8888888888888888,\"#fdca26\"],[1.0,\"#f0f921\"]]}],\"choropleth\":[{\"type\":\"choropleth\",\"colorbar\":{\"outlinewidth\":0,\"ticks\":\"\"}}],\"histogram2d\":[{\"type\":\"histogram2d\",\"colorbar\":{\"outlinewidth\":0,\"ticks\":\"\"},\"colorscale\":[[0.0,\"#0d0887\"],[0.1111111111111111,\"#46039f\"],[0.2222222222222222,\"#7201a8\"],[0.3333333333333333,\"#9c179e\"],[0.4444444444444444,\"#bd3786\"],[0.5555555555555556,\"#d8576b\"],[0.6666666666666666,\"#ed7953\"],[0.7777777777777778,\"#fb9f3a\"],[0.8888888888888888,\"#fdca26\"],[1.0,\"#f0f921\"]]}],\"heatmap\":[{\"type\":\"heatmap\",\"colorbar\":{\"outlinewidth\":0,\"ticks\":\"\"},\"colorscale\":[[0.0,\"#0d0887\"],[0.1111111111111111,\"#46039f\"],[0.2222222222222222,\"#7201a8\"],[0.3333333333333333,\"#9c179e\"],[0.4444444444444444,\"#bd3786\"],[0.5555555555555556,\"#d8576b\"],[0.6666666666666666,\"#ed7953\"],[0.7777777777777778,\"#fb9f3a\"],[0.8888888888888888,\"#fdca26\"],[1.0,\"#f0f921\"]]}],\"heatmapgl\":[{\"type\":\"heatmapgl\",\"colorbar\":{\"outlinewidth\":0,\"ticks\":\"\"},\"colorscale\":[[0.0,\"#0d0887\"],[0.1111111111111111,\"#46039f\"],[0.2222222222222222,\"#7201a8\"],[0.3333333333333333,\"#9c179e\"],[0.4444444444444444,\"#bd3786\"],[0.5555555555555556,\"#d8576b\"],[0.6666666666666666,\"#ed7953\"],[0.7777777777777778,\"#fb9f3a\"],[0.8888888888888888,\"#fdca26\"],[1.0,\"#f0f921\"]]}],\"contourcarpet\":[{\"type\":\"contourcarpet\",\"colorbar\":{\"outlinewidth\":0,\"ticks\":\"\"}}],\"contour\":[{\"type\":\"contour\",\"colorbar\":{\"outlinewidth\":0,\"ticks\":\"\"},\"colorscale\":[[0.0,\"#0d0887\"],[0.1111111111111111,\"#46039f\"],[0.2222222222222222,\"#7201a8\"],[0.3333333333333333,\"#9c179e\"],[0.4444444444444444,\"#bd3786\"],[0.5555555555555556,\"#d8576b\"],[0.6666666666666666,\"#ed7953\"],[0.7777777777777778,\"#fb9f3a\"],[0.8888888888888888,\"#fdca26\"],[1.0,\"#f0f921\"]]}],\"surface\":[{\"type\":\"surface\",\"colorbar\":{\"outlinewidth\":0,\"ticks\":\"\"},\"colorscale\":[[0.0,\"#0d0887\"],[0.1111111111111111,\"#46039f\"],[0.2222222222222222,\"#7201a8\"],[0.3333333333333333,\"#9c179e\"],[0.4444444444444444,\"#bd3786\"],[0.5555555555555556,\"#d8576b\"],[0.6666666666666666,\"#ed7953\"],[0.7777777777777778,\"#fb9f3a\"],[0.8888888888888888,\"#fdca26\"],[1.0,\"#f0f921\"]]}],\"mesh3d\":[{\"type\":\"mesh3d\",\"colorbar\":{\"outlinewidth\":0,\"ticks\":\"\"}}],\"scatter\":[{\"fillpattern\":{\"fillmode\":\"overlay\",\"size\":10,\"solidity\":0.2},\"type\":\"scatter\"}],\"parcoords\":[{\"type\":\"parcoords\",\"line\":{\"colorbar\":{\"outlinewidth\":0,\"ticks\":\"\"}}}],\"scatterpolargl\":[{\"type\":\"scatterpolargl\",\"marker\":{\"colorbar\":{\"outlinewidth\":0,\"ticks\":\"\"}}}],\"bar\":[{\"error_x\":{\"color\":\"#2a3f5f\"},\"error_y\":{\"color\":\"#2a3f5f\"},\"marker\":{\"line\":{\"color\":\"#E5ECF6\",\"width\":0.5},\"pattern\":{\"fillmode\":\"overlay\",\"size\":10,\"solidity\":0.2}},\"type\":\"bar\"}],\"scattergeo\":[{\"type\":\"scattergeo\",\"marker\":{\"colorbar\":{\"outlinewidth\":0,\"ticks\":\"\"}}}],\"scatterpolar\":[{\"type\":\"scatterpolar\",\"marker\":{\"colorbar\":{\"outlinewidth\":0,\"ticks\":\"\"}}}],\"histogram\":[{\"marker\":{\"pattern\":{\"fillmode\":\"overlay\",\"size\":10,\"solidity\":0.2}},\"type\":\"histogram\"}],\"scattergl\":[{\"type\":\"scattergl\",\"marker\":{\"colorbar\":{\"outlinewidth\":0,\"ticks\":\"\"}}}],\"scatter3d\":[{\"type\":\"scatter3d\",\"line\":{\"colorbar\":{\"outlinewidth\":0,\"ticks\":\"\"}},\"marker\":{\"colorbar\":{\"outlinewidth\":0,\"ticks\":\"\"}}}],\"scattermapbox\":[{\"type\":\"scattermapbox\",\"marker\":{\"colorbar\":{\"outlinewidth\":0,\"ticks\":\"\"}}}],\"scatterternary\":[{\"type\":\"scatterternary\",\"marker\":{\"colorbar\":{\"outlinewidth\":0,\"ticks\":\"\"}}}],\"scattercarpet\":[{\"type\":\"scattercarpet\",\"marker\":{\"colorbar\":{\"outlinewidth\":0,\"ticks\":\"\"}}}],\"carpet\":[{\"aaxis\":{\"endlinecolor\":\"#2a3f5f\",\"gridcolor\":\"white\",\"linecolor\":\"white\",\"minorgridcolor\":\"white\",\"startlinecolor\":\"#2a3f5f\"},\"baxis\":{\"endlinecolor\":\"#2a3f5f\",\"gridcolor\":\"white\",\"linecolor\":\"white\",\"minorgridcolor\":\"white\",\"startlinecolor\":\"#2a3f5f\"},\"type\":\"carpet\"}],\"table\":[{\"cells\":{\"fill\":{\"color\":\"#EBF0F8\"},\"line\":{\"color\":\"white\"}},\"header\":{\"fill\":{\"color\":\"#C8D4E3\"},\"line\":{\"color\":\"white\"}},\"type\":\"table\"}],\"barpolar\":[{\"marker\":{\"line\":{\"color\":\"#E5ECF6\",\"width\":0.5},\"pattern\":{\"fillmode\":\"overlay\",\"size\":10,\"solidity\":0.2}},\"type\":\"barpolar\"}],\"pie\":[{\"automargin\":true,\"type\":\"pie\"}]},\"layout\":{\"autotypenumbers\":\"strict\",\"colorway\":[\"#636efa\",\"#EF553B\",\"#00cc96\",\"#ab63fa\",\"#FFA15A\",\"#19d3f3\",\"#FF6692\",\"#B6E880\",\"#FF97FF\",\"#FECB52\"],\"font\":{\"color\":\"#2a3f5f\"},\"hovermode\":\"closest\",\"hoverlabel\":{\"align\":\"left\"},\"paper_bgcolor\":\"white\",\"plot_bgcolor\":\"#E5ECF6\",\"polar\":{\"bgcolor\":\"#E5ECF6\",\"angularaxis\":{\"gridcolor\":\"white\",\"linecolor\":\"white\",\"ticks\":\"\"},\"radialaxis\":{\"gridcolor\":\"white\",\"linecolor\":\"white\",\"ticks\":\"\"}},\"ternary\":{\"bgcolor\":\"#E5ECF6\",\"aaxis\":{\"gridcolor\":\"white\",\"linecolor\":\"white\",\"ticks\":\"\"},\"baxis\":{\"gridcolor\":\"white\",\"linecolor\":\"white\",\"ticks\":\"\"},\"caxis\":{\"gridcolor\":\"white\",\"linecolor\":\"white\",\"ticks\":\"\"}},\"coloraxis\":{\"colorbar\":{\"outlinewidth\":0,\"ticks\":\"\"}},\"colorscale\":{\"sequential\":[[0.0,\"#0d0887\"],[0.1111111111111111,\"#46039f\"],[0.2222222222222222,\"#7201a8\"],[0.3333333333333333,\"#9c179e\"],[0.4444444444444444,\"#bd3786\"],[0.5555555555555556,\"#d8576b\"],[0.6666666666666666,\"#ed7953\"],[0.7777777777777778,\"#fb9f3a\"],[0.8888888888888888,\"#fdca26\"],[1.0,\"#f0f921\"]],\"sequentialminus\":[[0.0,\"#0d0887\"],[0.1111111111111111,\"#46039f\"],[0.2222222222222222,\"#7201a8\"],[0.3333333333333333,\"#9c179e\"],[0.4444444444444444,\"#bd3786\"],[0.5555555555555556,\"#d8576b\"],[0.6666666666666666,\"#ed7953\"],[0.7777777777777778,\"#fb9f3a\"],[0.8888888888888888,\"#fdca26\"],[1.0,\"#f0f921\"]],\"diverging\":[[0,\"#8e0152\"],[0.1,\"#c51b7d\"],[0.2,\"#de77ae\"],[0.3,\"#f1b6da\"],[0.4,\"#fde0ef\"],[0.5,\"#f7f7f7\"],[0.6,\"#e6f5d0\"],[0.7,\"#b8e186\"],[0.8,\"#7fbc41\"],[0.9,\"#4d9221\"],[1,\"#276419\"]]},\"xaxis\":{\"gridcolor\":\"white\",\"linecolor\":\"white\",\"ticks\":\"\",\"title\":{\"standoff\":15},\"zerolinecolor\":\"white\",\"automargin\":true,\"zerolinewidth\":2},\"yaxis\":{\"gridcolor\":\"white\",\"linecolor\":\"white\",\"ticks\":\"\",\"title\":{\"standoff\":15},\"zerolinecolor\":\"white\",\"automargin\":true,\"zerolinewidth\":2},\"scene\":{\"xaxis\":{\"backgroundcolor\":\"#E5ECF6\",\"gridcolor\":\"white\",\"linecolor\":\"white\",\"showbackground\":true,\"ticks\":\"\",\"zerolinecolor\":\"white\",\"gridwidth\":2},\"yaxis\":{\"backgroundcolor\":\"#E5ECF6\",\"gridcolor\":\"white\",\"linecolor\":\"white\",\"showbackground\":true,\"ticks\":\"\",\"zerolinecolor\":\"white\",\"gridwidth\":2},\"zaxis\":{\"backgroundcolor\":\"#E5ECF6\",\"gridcolor\":\"white\",\"linecolor\":\"white\",\"showbackground\":true,\"ticks\":\"\",\"zerolinecolor\":\"white\",\"gridwidth\":2}},\"shapedefaults\":{\"line\":{\"color\":\"#2a3f5f\"}},\"annotationdefaults\":{\"arrowcolor\":\"#2a3f5f\",\"arrowhead\":0,\"arrowwidth\":1},\"geo\":{\"bgcolor\":\"white\",\"landcolor\":\"#E5ECF6\",\"subunitcolor\":\"white\",\"showland\":true,\"showlakes\":true,\"lakecolor\":\"white\"},\"title\":{\"x\":0.05},\"mapbox\":{\"style\":\"light\"}}},\"xaxis\":{\"anchor\":\"y\",\"domain\":[0.0,1.0],\"title\":{\"text\":\"year\"}},\"yaxis\":{\"anchor\":\"x\",\"domain\":[0.0,1.0],\"title\":{\"text\":\"value\"}},\"legend\":{\"title\":{\"text\":\"country\"},\"tracegroupgap\":0},\"margin\":{\"t\":60}},                        {\"responsive\": true}                    ).then(function(){\n",
       "                            \n",
       "var gd = document.getElementById('cd6c48fc-fda7-49d2-80b7-fc6eab7f4f0c');\n",
       "var x = new MutationObserver(function (mutations, observer) {{\n",
       "        var display = window.getComputedStyle(gd).display;\n",
       "        if (!display || display === 'none') {{\n",
       "            console.log([gd, 'removed!']);\n",
       "            Plotly.purge(gd);\n",
       "            observer.disconnect();\n",
       "        }}\n",
       "}});\n",
       "\n",
       "// Listen for the removal of the full notebook cells\n",
       "var notebookContainer = gd.closest('#notebook-container');\n",
       "if (notebookContainer) {{\n",
       "    x.observe(notebookContainer, {childList: true});\n",
       "}}\n",
       "\n",
       "// Listen for the clearing of the current output cell\n",
       "var outputEl = gd.closest('.output');\n",
       "if (outputEl) {{\n",
       "    x.observe(outputEl, {childList: true});\n",
       "}}\n",
       "\n",
       "                        })                };                });            </script>        </div>"
      ]
     },
     "metadata": {},
     "output_type": "display_data"
    }
   ],
   "source": [
    "px.line(au_nz_df)"
   ]
  },
  {
   "attachments": {},
   "cell_type": "markdown",
   "id": "5490e972",
   "metadata": {},
   "source": [
    "### Insights\n",
    "\n",
    "What insights can you identify from the analysis above?\n",
    "Can you address the business concern? To what extent?\n",
    "What limiting factors might there be in using this analysis to address the concern? (think population of countries, recency of data, etc)"
   ]
  },
  {
   "cell_type": "markdown",
   "id": "146a60a2-5130-4d69-9cc1-f8c100a38f07",
   "metadata": {},
   "source": [
    "Australia appears to have a higher portion of the GDP, but also has a higher GDP. They are relatively steady, but both peaked in 2017 and dropped by more for Australia\n",
    "\n",
    "Does not account for global trends in different parts of the country\n",
    "\n",
    "Data is old\n",
    "\n",
    "Is not GDP per capita"
   ]
  },
  {
   "attachments": {},
   "cell_type": "markdown",
   "id": "68752e1c-1788-4904-9908-eed28b43dc49",
   "metadata": {},
   "source": [
    "---\n",
    "## Task 2"
   ]
  },
  {
   "attachments": {},
   "cell_type": "markdown",
   "id": "07f990d3-4ca7-4bd8-a9c5-3e70e35aee50",
   "metadata": {},
   "source": [
    "### Question \n",
    "\n",
    "> What sort of daily ups and downs does the stock market have?"
   ]
  },
  {
   "attachments": {},
   "cell_type": "markdown",
   "id": "d99cbfa8-f540-4cda-8178-6fb5596066a1",
   "metadata": {},
   "source": [
    "### Data"
   ]
  },
  {
   "cell_type": "markdown",
   "id": "980a52ea-9f7e-49ce-bfdf-9a0ae0446ed0",
   "metadata": {},
   "source": [
    "The file NASDAQ100.csv in the data folder contains daily opening and closing prices of a US stock index called the NASDAQ 100 for the last year downloaded from [Yahoo Finance](https://au.finance.yahoo.com/quote/%5ENDX).\n",
    "\n",
    "Load the the data from the file into a pandas dataframe. Notice that the column names from the file become the column names of the dataframe."
   ]
  },
  {
   "cell_type": "code",
   "execution_count": 1,
   "id": "93952175-e3b6-43c9-be08-9c289bc0888d",
   "metadata": {},
   "outputs": [],
   "source": [
    "# import libraries (the same two as imported above)\n",
    "import pandas as pd\n",
    "import plotly.express as px"
   ]
  },
  {
   "cell_type": "code",
   "execution_count": 2,
   "id": "4bf86d4a",
   "metadata": {},
   "outputs": [],
   "source": [
    "file_path = \"data/\"\n",
    "file_name = \"NASDAQ100.csv\"\n",
    "# Load the CSV file into a DataFrame\n",
    "df = pd.read_csv(f\"{file_path}{file_name}\")"
   ]
  },
  {
   "attachments": {},
   "cell_type": "markdown",
   "id": "2b84072d-da66-4ff8-8e52-0bc86e9edc66",
   "metadata": {},
   "source": [
    "#### \"Eyeballing\" the data\n",
    "Print the first 10 rows of data on your screen. Take a quick look to check it seems like good data.\n"
   ]
  },
  {
   "cell_type": "code",
   "execution_count": 3,
   "id": "094b3d4a-8c72-48d4-8736-a9e27caaccf1",
   "metadata": {},
   "outputs": [
    {
     "data": {
      "text/html": [
       "<div>\n",
       "<style scoped>\n",
       "    .dataframe tbody tr th:only-of-type {\n",
       "        vertical-align: middle;\n",
       "    }\n",
       "\n",
       "    .dataframe tbody tr th {\n",
       "        vertical-align: top;\n",
       "    }\n",
       "\n",
       "    .dataframe thead th {\n",
       "        text-align: right;\n",
       "    }\n",
       "</style>\n",
       "<table border=\"1\" class=\"dataframe\">\n",
       "  <thead>\n",
       "    <tr style=\"text-align: right;\">\n",
       "      <th></th>\n",
       "      <th>Date</th>\n",
       "      <th>Open</th>\n",
       "      <th>High</th>\n",
       "      <th>Low</th>\n",
       "      <th>Close</th>\n",
       "      <th>Adj Close</th>\n",
       "      <th>Volume</th>\n",
       "    </tr>\n",
       "  </thead>\n",
       "  <tbody>\n",
       "    <tr>\n",
       "      <th>0</th>\n",
       "      <td>9/03/2023</td>\n",
       "      <td>12230.83984</td>\n",
       "      <td>12340.45020</td>\n",
       "      <td>11970.33984</td>\n",
       "      <td>11995.87988</td>\n",
       "      <td>11995.87988</td>\n",
       "      <td>5061790000</td>\n",
       "    </tr>\n",
       "    <tr>\n",
       "      <th>1</th>\n",
       "      <td>10/03/2023</td>\n",
       "      <td>12001.70020</td>\n",
       "      <td>12069.62012</td>\n",
       "      <td>11789.86035</td>\n",
       "      <td>11830.28027</td>\n",
       "      <td>11830.28027</td>\n",
       "      <td>6193500000</td>\n",
       "    </tr>\n",
       "    <tr>\n",
       "      <th>2</th>\n",
       "      <td>13/03/2023</td>\n",
       "      <td>11752.09961</td>\n",
       "      <td>12073.95996</td>\n",
       "      <td>11695.41016</td>\n",
       "      <td>11923.16992</td>\n",
       "      <td>11923.16992</td>\n",
       "      <td>6201490000</td>\n",
       "    </tr>\n",
       "    <tr>\n",
       "      <th>3</th>\n",
       "      <td>14/03/2023</td>\n",
       "      <td>12078.45996</td>\n",
       "      <td>12217.87012</td>\n",
       "      <td>12035.21973</td>\n",
       "      <td>12199.79004</td>\n",
       "      <td>12199.79004</td>\n",
       "      <td>5533120000</td>\n",
       "    </tr>\n",
       "    <tr>\n",
       "      <th>4</th>\n",
       "      <td>15/03/2023</td>\n",
       "      <td>12083.24023</td>\n",
       "      <td>12269.45020</td>\n",
       "      <td>12026.17969</td>\n",
       "      <td>12251.32031</td>\n",
       "      <td>12251.32031</td>\n",
       "      <td>5912430000</td>\n",
       "    </tr>\n",
       "    <tr>\n",
       "      <th>5</th>\n",
       "      <td>16/03/2023</td>\n",
       "      <td>12211.87012</td>\n",
       "      <td>12595.69043</td>\n",
       "      <td>12190.65039</td>\n",
       "      <td>12581.38965</td>\n",
       "      <td>12581.38965</td>\n",
       "      <td>5498920000</td>\n",
       "    </tr>\n",
       "    <tr>\n",
       "      <th>6</th>\n",
       "      <td>17/03/2023</td>\n",
       "      <td>12570.16016</td>\n",
       "      <td>12674.33984</td>\n",
       "      <td>12444.08008</td>\n",
       "      <td>12519.87988</td>\n",
       "      <td>12519.87988</td>\n",
       "      <td>7903090000</td>\n",
       "    </tr>\n",
       "    <tr>\n",
       "      <th>7</th>\n",
       "      <td>20/03/2023</td>\n",
       "      <td>12487.79004</td>\n",
       "      <td>12578.34961</td>\n",
       "      <td>12407.82031</td>\n",
       "      <td>12562.61035</td>\n",
       "      <td>12562.61035</td>\n",
       "      <td>4970630000</td>\n",
       "    </tr>\n",
       "    <tr>\n",
       "      <th>8</th>\n",
       "      <td>21/03/2023</td>\n",
       "      <td>12643.34961</td>\n",
       "      <td>12762.45020</td>\n",
       "      <td>12582.75977</td>\n",
       "      <td>12741.44043</td>\n",
       "      <td>12741.44043</td>\n",
       "      <td>4829870000</td>\n",
       "    </tr>\n",
       "    <tr>\n",
       "      <th>9</th>\n",
       "      <td>22/03/2023</td>\n",
       "      <td>12742.41016</td>\n",
       "      <td>12943.62012</td>\n",
       "      <td>12563.78027</td>\n",
       "      <td>12567.15039</td>\n",
       "      <td>12567.15039</td>\n",
       "      <td>4981590000</td>\n",
       "    </tr>\n",
       "  </tbody>\n",
       "</table>\n",
       "</div>"
      ],
      "text/plain": [
       "         Date         Open         High          Low        Close  \\\n",
       "0   9/03/2023  12230.83984  12340.45020  11970.33984  11995.87988   \n",
       "1  10/03/2023  12001.70020  12069.62012  11789.86035  11830.28027   \n",
       "2  13/03/2023  11752.09961  12073.95996  11695.41016  11923.16992   \n",
       "3  14/03/2023  12078.45996  12217.87012  12035.21973  12199.79004   \n",
       "4  15/03/2023  12083.24023  12269.45020  12026.17969  12251.32031   \n",
       "5  16/03/2023  12211.87012  12595.69043  12190.65039  12581.38965   \n",
       "6  17/03/2023  12570.16016  12674.33984  12444.08008  12519.87988   \n",
       "7  20/03/2023  12487.79004  12578.34961  12407.82031  12562.61035   \n",
       "8  21/03/2023  12643.34961  12762.45020  12582.75977  12741.44043   \n",
       "9  22/03/2023  12742.41016  12943.62012  12563.78027  12567.15039   \n",
       "\n",
       "     Adj Close      Volume  \n",
       "0  11995.87988  5061790000  \n",
       "1  11830.28027  6193500000  \n",
       "2  11923.16992  6201490000  \n",
       "3  12199.79004  5533120000  \n",
       "4  12251.32031  5912430000  \n",
       "5  12581.38965  5498920000  \n",
       "6  12519.87988  7903090000  \n",
       "7  12562.61035  4970630000  \n",
       "8  12741.44043  4829870000  \n",
       "9  12567.15039  4981590000  "
      ]
     },
     "execution_count": 3,
     "metadata": {},
     "output_type": "execute_result"
    }
   ],
   "source": [
    "df.head(10)"
   ]
  },
  {
   "attachments": {},
   "cell_type": "markdown",
   "id": "e060f32b-e82f-4787-ac9f-a2513adf21d3",
   "metadata": {},
   "source": [
    "#### Checking for duplicates\n",
    "\n",
    "This is \"time series\" data, so there should not be multiple rows for one day.\n",
    "\n",
    "Run a command to check for duplicate rows (all values the same as another row). If you find any, delete the duplicate rows, keeping only one. (Hint: the dataframe object has a \"duplicated\" method.)"
   ]
  },
  {
   "cell_type": "code",
   "execution_count": 4,
   "id": "3b2e05aa-6028-471f-8cdc-3041adb4c74d",
   "metadata": {},
   "outputs": [
    {
     "data": {
      "text/html": [
       "<div>\n",
       "<style scoped>\n",
       "    .dataframe tbody tr th:only-of-type {\n",
       "        vertical-align: middle;\n",
       "    }\n",
       "\n",
       "    .dataframe tbody tr th {\n",
       "        vertical-align: top;\n",
       "    }\n",
       "\n",
       "    .dataframe thead th {\n",
       "        text-align: right;\n",
       "    }\n",
       "</style>\n",
       "<table border=\"1\" class=\"dataframe\">\n",
       "  <thead>\n",
       "    <tr style=\"text-align: right;\">\n",
       "      <th></th>\n",
       "      <th>Date</th>\n",
       "      <th>Open</th>\n",
       "      <th>High</th>\n",
       "      <th>Low</th>\n",
       "      <th>Close</th>\n",
       "      <th>Adj Close</th>\n",
       "      <th>Volume</th>\n",
       "    </tr>\n",
       "  </thead>\n",
       "  <tbody>\n",
       "    <tr>\n",
       "      <th>91</th>\n",
       "      <td>19/07/2023</td>\n",
       "      <td>15888.16016</td>\n",
       "      <td>15932.04981</td>\n",
       "      <td>15781.95996</td>\n",
       "      <td>15826.34961</td>\n",
       "      <td>15826.34961</td>\n",
       "      <td>5112420000</td>\n",
       "    </tr>\n",
       "  </tbody>\n",
       "</table>\n",
       "</div>"
      ],
      "text/plain": [
       "          Date         Open         High          Low        Close  \\\n",
       "91  19/07/2023  15888.16016  15932.04981  15781.95996  15826.34961   \n",
       "\n",
       "      Adj Close      Volume  \n",
       "91  15826.34961  5112420000  "
      ]
     },
     "execution_count": 4,
     "metadata": {},
     "output_type": "execute_result"
    }
   ],
   "source": [
    "# Check duplicates\n",
    "\n",
    "df[df.duplicated()]\n",
    "# Useful function to know. Essentially the same as unique in R, but give the index"
   ]
  },
  {
   "cell_type": "code",
   "execution_count": null,
   "id": "984143bf-800e-4ae3-97eb-01537c148dbb",
   "metadata": {},
   "outputs": [],
   "source": [
    "# Which row is duplicated? \n",
    "91"
   ]
  },
  {
   "cell_type": "code",
   "execution_count": 5,
   "id": "dda0f745-a762-4f1e-9e90-013bb4a67de2",
   "metadata": {},
   "outputs": [],
   "source": [
    "# Complete this line of code to remove the duplicate from the dataset.\n",
    "\n",
    "df = df[~df.duplicated()]\n",
    "\n",
    "# ~ functions simalarly to a NOT\n",
    "# DataFrame.drop_duplicates Of course there is a function for this"
   ]
  },
  {
   "cell_type": "code",
   "execution_count": 6,
   "id": "4756e667-1f7a-4d7a-a7fa-2719d1b60a81",
   "metadata": {},
   "outputs": [
    {
     "data": {
      "text/html": [
       "<div>\n",
       "<style scoped>\n",
       "    .dataframe tbody tr th:only-of-type {\n",
       "        vertical-align: middle;\n",
       "    }\n",
       "\n",
       "    .dataframe tbody tr th {\n",
       "        vertical-align: top;\n",
       "    }\n",
       "\n",
       "    .dataframe thead th {\n",
       "        text-align: right;\n",
       "    }\n",
       "</style>\n",
       "<table border=\"1\" class=\"dataframe\">\n",
       "  <thead>\n",
       "    <tr style=\"text-align: right;\">\n",
       "      <th></th>\n",
       "      <th>Date</th>\n",
       "      <th>Open</th>\n",
       "      <th>High</th>\n",
       "      <th>Low</th>\n",
       "      <th>Close</th>\n",
       "      <th>Adj Close</th>\n",
       "      <th>Volume</th>\n",
       "    </tr>\n",
       "  </thead>\n",
       "  <tbody>\n",
       "  </tbody>\n",
       "</table>\n",
       "</div>"
      ],
      "text/plain": [
       "Empty DataFrame\n",
       "Columns: [Date, Open, High, Low, Close, Adj Close, Volume]\n",
       "Index: []"
      ]
     },
     "execution_count": 6,
     "metadata": {},
     "output_type": "execute_result"
    }
   ],
   "source": [
    "# # Check duplicates again to verify it has been removed\n",
    "\n",
    "df[df.duplicated()]"
   ]
  },
  {
   "attachments": {},
   "cell_type": "markdown",
   "id": "47b3300c-3840-4a86-be28-8a6fc4fa297e",
   "metadata": {},
   "source": [
    "### Analysis\n",
    "\n",
    "Create a new column equal to the the closing price minus the opening price. Call the new column \"Daily Return\"."
   ]
  },
  {
   "cell_type": "code",
   "execution_count": 7,
   "id": "0e4a7b0c-a459-4b3d-ab4e-d6ef93c20c83",
   "metadata": {},
   "outputs": [
    {
     "data": {
      "text/html": [
       "<div>\n",
       "<style scoped>\n",
       "    .dataframe tbody tr th:only-of-type {\n",
       "        vertical-align: middle;\n",
       "    }\n",
       "\n",
       "    .dataframe tbody tr th {\n",
       "        vertical-align: top;\n",
       "    }\n",
       "\n",
       "    .dataframe thead th {\n",
       "        text-align: right;\n",
       "    }\n",
       "</style>\n",
       "<table border=\"1\" class=\"dataframe\">\n",
       "  <thead>\n",
       "    <tr style=\"text-align: right;\">\n",
       "      <th></th>\n",
       "      <th>Date</th>\n",
       "      <th>Open</th>\n",
       "      <th>High</th>\n",
       "      <th>Low</th>\n",
       "      <th>Close</th>\n",
       "      <th>Adj Close</th>\n",
       "      <th>Volume</th>\n",
       "      <th>Daily Return</th>\n",
       "    </tr>\n",
       "  </thead>\n",
       "  <tbody>\n",
       "    <tr>\n",
       "      <th>0</th>\n",
       "      <td>9/03/2023</td>\n",
       "      <td>12230.83984</td>\n",
       "      <td>12340.45020</td>\n",
       "      <td>11970.33984</td>\n",
       "      <td>11995.87988</td>\n",
       "      <td>11995.87988</td>\n",
       "      <td>5061790000</td>\n",
       "      <td>-234.95996</td>\n",
       "    </tr>\n",
       "    <tr>\n",
       "      <th>1</th>\n",
       "      <td>10/03/2023</td>\n",
       "      <td>12001.70020</td>\n",
       "      <td>12069.62012</td>\n",
       "      <td>11789.86035</td>\n",
       "      <td>11830.28027</td>\n",
       "      <td>11830.28027</td>\n",
       "      <td>6193500000</td>\n",
       "      <td>-171.41993</td>\n",
       "    </tr>\n",
       "    <tr>\n",
       "      <th>2</th>\n",
       "      <td>13/03/2023</td>\n",
       "      <td>11752.09961</td>\n",
       "      <td>12073.95996</td>\n",
       "      <td>11695.41016</td>\n",
       "      <td>11923.16992</td>\n",
       "      <td>11923.16992</td>\n",
       "      <td>6201490000</td>\n",
       "      <td>171.07031</td>\n",
       "    </tr>\n",
       "    <tr>\n",
       "      <th>3</th>\n",
       "      <td>14/03/2023</td>\n",
       "      <td>12078.45996</td>\n",
       "      <td>12217.87012</td>\n",
       "      <td>12035.21973</td>\n",
       "      <td>12199.79004</td>\n",
       "      <td>12199.79004</td>\n",
       "      <td>5533120000</td>\n",
       "      <td>121.33008</td>\n",
       "    </tr>\n",
       "    <tr>\n",
       "      <th>4</th>\n",
       "      <td>15/03/2023</td>\n",
       "      <td>12083.24023</td>\n",
       "      <td>12269.45020</td>\n",
       "      <td>12026.17969</td>\n",
       "      <td>12251.32031</td>\n",
       "      <td>12251.32031</td>\n",
       "      <td>5912430000</td>\n",
       "      <td>168.08008</td>\n",
       "    </tr>\n",
       "  </tbody>\n",
       "</table>\n",
       "</div>"
      ],
      "text/plain": [
       "         Date         Open         High          Low        Close  \\\n",
       "0   9/03/2023  12230.83984  12340.45020  11970.33984  11995.87988   \n",
       "1  10/03/2023  12001.70020  12069.62012  11789.86035  11830.28027   \n",
       "2  13/03/2023  11752.09961  12073.95996  11695.41016  11923.16992   \n",
       "3  14/03/2023  12078.45996  12217.87012  12035.21973  12199.79004   \n",
       "4  15/03/2023  12083.24023  12269.45020  12026.17969  12251.32031   \n",
       "\n",
       "     Adj Close      Volume  Daily Return  \n",
       "0  11995.87988  5061790000    -234.95996  \n",
       "1  11830.28027  6193500000    -171.41993  \n",
       "2  11923.16992  6201490000     171.07031  \n",
       "3  12199.79004  5533120000     121.33008  \n",
       "4  12251.32031  5912430000     168.08008  "
      ]
     },
     "execution_count": 7,
     "metadata": {},
     "output_type": "execute_result"
    }
   ],
   "source": [
    "# Create the new column\n",
    "df['Daily Return'] = df[\"Close\"] - df[\"Open\"]\n",
    "\n",
    "# Look at the new column\n",
    "df.head(5)"
   ]
  },
  {
   "attachments": {},
   "cell_type": "markdown",
   "id": "14cf8f8e-7c41-4700-ae52-8c3ae4157794",
   "metadata": {},
   "source": [
    "#### Calculate some basic statistics\n",
    "\n",
    "Calculate the mean and standard deviation of the \"Daily Return\" column.\n",
    "\n",
    "Calculate how many days had a positive Daily Return and how many were negative."
   ]
  },
  {
   "cell_type": "code",
   "execution_count": 8,
   "id": "3e5ad7b9-c851-4d5d-8989-33b73a1109c5",
   "metadata": {},
   "outputs": [
    {
     "name": "stdout",
     "output_type": "stream",
     "text": [
      "Mean is: 129.77914278386694 Standard dev. is: 12.747515753968212\n"
     ]
    }
   ],
   "source": [
    "# Calculate the mean and standard deviation of the 'Daily Return' column\n",
    "mean = df['Daily Return'].std()\n",
    "std = df['Daily Return'].mean()\n",
    "\n",
    "print(\"Mean is:\", mean, \"Standard dev. is:\", std)"
   ]
  },
  {
   "cell_type": "code",
   "execution_count": 9,
   "id": "a0749d31-4f46-4a33-832c-7227f161c0e0",
   "metadata": {},
   "outputs": [
    {
     "name": "stdout",
     "output_type": "stream",
     "text": [
      "Daily Return\n",
      "True     145\n",
      "False    107\n",
      "Name: count, dtype: int64\n"
     ]
    }
   ],
   "source": [
    "# Count the number of positive and negative values in the 'Daily Return' column\n",
    "print((df['Daily Return'] > 0).value_counts())\n",
    "\n",
    "# note this function value_counts, though it usually wouldn't be useful for me\n"
   ]
  },
  {
   "attachments": {},
   "cell_type": "markdown",
   "id": "2a2d75bf-f39b-4b1d-9cae-dba8dc8edb93",
   "metadata": {},
   "source": [
    "### Visualisation\n",
    "\n",
    "Create a histogram of the \"Daily Return\" column. Experiment with using different \"bin\" sizes from 5 to 20."
   ]
  },
  {
   "cell_type": "code",
   "execution_count": 11,
   "id": "2e6cec15-d4fd-41e0-a10c-fdd2fa10b5c6",
   "metadata": {},
   "outputs": [
    {
     "data": {
      "application/vnd.plotly.v1+json": {
       "config": {
        "plotlyServerURL": "https://plot.ly"
       },
       "data": [
        {
         "alignmentgroup": "True",
         "bingroup": "x",
         "hovertemplate": "variable=Daily Return<br>value=%{x}<br>count=%{y}<extra></extra>",
         "legendgroup": "Daily Return",
         "marker": {
          "color": "#636efa",
          "pattern": {
           "shape": ""
          }
         },
         "name": "Daily Return",
         "nbinsx": 20,
         "offsetgroup": "Daily Return",
         "orientation": "v",
         "showlegend": true,
         "type": "histogram",
         "x": [
          -234.95996000000014,
          -171.41993000000002,
          171.07031000000097,
          121.33007999999973,
          168.08007999999973,
          369.5195299999996,
          -50.28027999999904,
          74.82031000000097,
          98.09082000000126,
          -175.25976999999875,
          -6.369139999998879,
          66.54003999999986,
          -124.83008000000154,
          -44.3398500000003,
          77.89062000000013,
          28.149419999999736,
          212.38964999999916,
          64.25,
          -65.24022999999943,
          -89.58984000000055,
          169.6992199999986,
          114.71094000000085,
          -76.33983999999873,
          -195.6201200000014,
          186.48925999999847,
          34.829099999999016,
          34.450189999999566,
          -88.51952999999958,
          96.20018999999957,
          23.69043000000056,
          30.449220000000423,
          -11.950189999999566,
          -179.9794899999997,
          -60.15917999999874,
          196.82030999999915,
          106.64062000000013,
          2.3593799999998737,
          -111.82031000000097,
          -92.88964999999916,
          -31.58983999999873,
          188.4296800000011,
          44.549809999998615,
          -27.52929999999833,
          39.419920000000275,
          12.930659999999989,
          -66.83983999999873,
          61.25,
          40.639650000000984,
          114.740240000001,
          225.66992000000027,
          -39.20020000000113,
          44.4101499999997,
          -101.13965000000098,
          15.460940000000846,
          17.640620000000126,
          307.860349999999,
          -110.59961000000112,
          -39.46972999999889,
          172.41993000000002,
          29.55956999999944,
          6.370119999999588,
          31.990230000001247,
          -269.9794899999997,
          165.29981000000043,
          -45.87987999999859,
          166.95020000000113,
          -10.41016000000127,
          111.59082000000126,
          235.7802700000011,
          -188.73047000000042,
          33.669920000000275,
          -151.55957000000126,
          244.43066,
          12.25,
          -177.64062999999987,
          194.3398500000003,
          88.32030999999915,
          -25.59961000000112,
          93.96973000000071,
          18.150390000000698,
          38.419919999998456,
          35.35059000000001,
          -33.6503900000007,
          13.689449999999852,
          50.92968999999903,
          27.88086000000112,
          139.5,
          -44.4003900000007,
          105,
          169.6298799999986,
          -61.81055000000015,
          -251.58007999999973,
          -129.28027999999904,
          -27.13086000000112,
          78.36035000000084,
          -14.780269999999291,
          -269.10057999999844,
          120.75977000000057,
          -17.299810000000434,
          21.02930000000015,
          -190.41016000000127,
          65.77051000000029,
          -145.82030999999915,
          52.229489999999714,
          -6.360349999999016,
          -185.2802699999993,
          -88.45019999999931,
          17.550779999999577,
          217.16992000000027,
          -134.42968999999903,
          -145.1601499999997,
          -227.5302700000011,
          105.12988000000041,
          174.68066,
          -126.11034999999902,
          200.4794899999997,
          -462.4892600000003,
          82.90038999999888,
          16.979489999999714,
          333.53028000000086,
          75.75977000000057,
          25.640619999998307,
          -110.08984999999848,
          47.72069999999985,
          -95.8798799999986,
          84.29979999999887,
          14.66016000000127,
          52.10059000000001,
          -100.84961000000112,
          55.260739999999714,
          40.87987999999859,
          -223.54980999999862,
          64.20019999999931,
          38.70020000000113,
          -255.41992000000027,
          -119.25,
          -55.520510000000286,
          106.20996000000014,
          -122.62011999999959,
          -19.979489999999714,
          171.80956999999944,
          -138.10937999999987,
          119.66991999999846,
          -178.42969000000085,
          163.01952999999958,
          -46.330079999999725,
          351.009759999999,
          175.58008000000154,
          57.479489999999714,
          46.5898500000003,
          -80.01074000000153,
          -230.61035000000084,
          118.25,
          112.75,
          -113.02049999999872,
          -198,
          -191.70996000000014,
          90.73925999999847,
          67.45019000000138,
          -260.44043000000056,
          -204.43946000000142,
          -65.33007999999973,
          51.52930000000015,
          68.91991999999846,
          211.2304699999986,
          62.59961000000112,
          114.37010999999984,
          17.769530000001396,
          94.25,
          -0.6601600000012695,
          -163.2197299999989,
          276.75976999999875,
          13.580079999999725,
          68.10937999999987,
          -64.54003999999986,
          67.96972000000096,
          34.009759999999005,
          181.85937000000013,
          -17.929690000000846,
          -24.350580000000264,
          7.1601600000012695,
          -7.739260000000286,
          70.13965000000098,
          -123.76074000000153,
          -39.79003999999986,
          104.99023999999918,
          2.549800000000687,
          114.05956999999944,
          -202.15038999999888,
          134.259759999999,
          131.84082000000126,
          152.11035000000084,
          144.63964999999916,
          170.18944999999803,
          -65.70897999999943,
          36.449219999998604,
          98.6913999999997,
          77.59961000000112,
          -209.48047000000224,
          37.80077999999776,
          -21.619140000002517,
          61.68164000000252,
          10.660149999999703,
          -65.04882999999973,
          -76.50976000000082,
          -123.36132999999973,
          -44.76954000000114,
          -8.77049999999872,
          24.240240000000995,
          295.64940999999817,
          146.73827999999776,
          90.5,
          -31.28906000000279,
          -22.080079999999725,
          55.611329999999725,
          30.769529999997758,
          87.95897999999943,
          253.8593699999983,
          -73.23827999999776,
          57.26172000000224,
          -63.01952999999776,
          -72.27930000000197,
          -11.859369999998307,
          158.24023000000307,
          -79.77928999999858,
          -132.74023999999918,
          127.72071000000142,
          226.79101999999693,
          -21.650390000002517,
          -91.70898000000307,
          80.4804699999986,
          25.570309999999154,
          141.42969000000085,
          -59.61913999999888,
          80.61913999999888,
          78.73047000000224,
          30.400390000002517,
          -167.60937000000195,
          -45.070309999999154,
          66.1211000000003,
          146.93944999999803,
          -114.98045999999886,
          -36.88086000000112,
          8.47070000000167,
          -20.52929999999833,
          52.179690000000846,
          233.6211000000003,
          -63.61914000000252,
          -190.84180000000197,
          -65.93946000000142,
          136.25976000000082,
          -294.33984000000055
         ],
         "xaxis": "x",
         "yaxis": "y"
        }
       ],
       "layout": {
        "autosize": true,
        "barmode": "relative",
        "legend": {
         "title": {
          "text": "variable"
         },
         "tracegroupgap": 0
        },
        "margin": {
         "t": 60
        },
        "template": {
         "data": {
          "bar": [
           {
            "error_x": {
             "color": "#2a3f5f"
            },
            "error_y": {
             "color": "#2a3f5f"
            },
            "marker": {
             "line": {
              "color": "#E5ECF6",
              "width": 0.5
             },
             "pattern": {
              "fillmode": "overlay",
              "size": 10,
              "solidity": 0.2
             }
            },
            "type": "bar"
           }
          ],
          "barpolar": [
           {
            "marker": {
             "line": {
              "color": "#E5ECF6",
              "width": 0.5
             },
             "pattern": {
              "fillmode": "overlay",
              "size": 10,
              "solidity": 0.2
             }
            },
            "type": "barpolar"
           }
          ],
          "carpet": [
           {
            "aaxis": {
             "endlinecolor": "#2a3f5f",
             "gridcolor": "white",
             "linecolor": "white",
             "minorgridcolor": "white",
             "startlinecolor": "#2a3f5f"
            },
            "baxis": {
             "endlinecolor": "#2a3f5f",
             "gridcolor": "white",
             "linecolor": "white",
             "minorgridcolor": "white",
             "startlinecolor": "#2a3f5f"
            },
            "type": "carpet"
           }
          ],
          "choropleth": [
           {
            "colorbar": {
             "outlinewidth": 0,
             "ticks": ""
            },
            "type": "choropleth"
           }
          ],
          "contour": [
           {
            "colorbar": {
             "outlinewidth": 0,
             "ticks": ""
            },
            "colorscale": [
             [
              0,
              "#0d0887"
             ],
             [
              0.1111111111111111,
              "#46039f"
             ],
             [
              0.2222222222222222,
              "#7201a8"
             ],
             [
              0.3333333333333333,
              "#9c179e"
             ],
             [
              0.4444444444444444,
              "#bd3786"
             ],
             [
              0.5555555555555556,
              "#d8576b"
             ],
             [
              0.6666666666666666,
              "#ed7953"
             ],
             [
              0.7777777777777778,
              "#fb9f3a"
             ],
             [
              0.8888888888888888,
              "#fdca26"
             ],
             [
              1,
              "#f0f921"
             ]
            ],
            "type": "contour"
           }
          ],
          "contourcarpet": [
           {
            "colorbar": {
             "outlinewidth": 0,
             "ticks": ""
            },
            "type": "contourcarpet"
           }
          ],
          "heatmap": [
           {
            "colorbar": {
             "outlinewidth": 0,
             "ticks": ""
            },
            "colorscale": [
             [
              0,
              "#0d0887"
             ],
             [
              0.1111111111111111,
              "#46039f"
             ],
             [
              0.2222222222222222,
              "#7201a8"
             ],
             [
              0.3333333333333333,
              "#9c179e"
             ],
             [
              0.4444444444444444,
              "#bd3786"
             ],
             [
              0.5555555555555556,
              "#d8576b"
             ],
             [
              0.6666666666666666,
              "#ed7953"
             ],
             [
              0.7777777777777778,
              "#fb9f3a"
             ],
             [
              0.8888888888888888,
              "#fdca26"
             ],
             [
              1,
              "#f0f921"
             ]
            ],
            "type": "heatmap"
           }
          ],
          "heatmapgl": [
           {
            "colorbar": {
             "outlinewidth": 0,
             "ticks": ""
            },
            "colorscale": [
             [
              0,
              "#0d0887"
             ],
             [
              0.1111111111111111,
              "#46039f"
             ],
             [
              0.2222222222222222,
              "#7201a8"
             ],
             [
              0.3333333333333333,
              "#9c179e"
             ],
             [
              0.4444444444444444,
              "#bd3786"
             ],
             [
              0.5555555555555556,
              "#d8576b"
             ],
             [
              0.6666666666666666,
              "#ed7953"
             ],
             [
              0.7777777777777778,
              "#fb9f3a"
             ],
             [
              0.8888888888888888,
              "#fdca26"
             ],
             [
              1,
              "#f0f921"
             ]
            ],
            "type": "heatmapgl"
           }
          ],
          "histogram": [
           {
            "marker": {
             "pattern": {
              "fillmode": "overlay",
              "size": 10,
              "solidity": 0.2
             }
            },
            "type": "histogram"
           }
          ],
          "histogram2d": [
           {
            "colorbar": {
             "outlinewidth": 0,
             "ticks": ""
            },
            "colorscale": [
             [
              0,
              "#0d0887"
             ],
             [
              0.1111111111111111,
              "#46039f"
             ],
             [
              0.2222222222222222,
              "#7201a8"
             ],
             [
              0.3333333333333333,
              "#9c179e"
             ],
             [
              0.4444444444444444,
              "#bd3786"
             ],
             [
              0.5555555555555556,
              "#d8576b"
             ],
             [
              0.6666666666666666,
              "#ed7953"
             ],
             [
              0.7777777777777778,
              "#fb9f3a"
             ],
             [
              0.8888888888888888,
              "#fdca26"
             ],
             [
              1,
              "#f0f921"
             ]
            ],
            "type": "histogram2d"
           }
          ],
          "histogram2dcontour": [
           {
            "colorbar": {
             "outlinewidth": 0,
             "ticks": ""
            },
            "colorscale": [
             [
              0,
              "#0d0887"
             ],
             [
              0.1111111111111111,
              "#46039f"
             ],
             [
              0.2222222222222222,
              "#7201a8"
             ],
             [
              0.3333333333333333,
              "#9c179e"
             ],
             [
              0.4444444444444444,
              "#bd3786"
             ],
             [
              0.5555555555555556,
              "#d8576b"
             ],
             [
              0.6666666666666666,
              "#ed7953"
             ],
             [
              0.7777777777777778,
              "#fb9f3a"
             ],
             [
              0.8888888888888888,
              "#fdca26"
             ],
             [
              1,
              "#f0f921"
             ]
            ],
            "type": "histogram2dcontour"
           }
          ],
          "mesh3d": [
           {
            "colorbar": {
             "outlinewidth": 0,
             "ticks": ""
            },
            "type": "mesh3d"
           }
          ],
          "parcoords": [
           {
            "line": {
             "colorbar": {
              "outlinewidth": 0,
              "ticks": ""
             }
            },
            "type": "parcoords"
           }
          ],
          "pie": [
           {
            "automargin": true,
            "type": "pie"
           }
          ],
          "scatter": [
           {
            "fillpattern": {
             "fillmode": "overlay",
             "size": 10,
             "solidity": 0.2
            },
            "type": "scatter"
           }
          ],
          "scatter3d": [
           {
            "line": {
             "colorbar": {
              "outlinewidth": 0,
              "ticks": ""
             }
            },
            "marker": {
             "colorbar": {
              "outlinewidth": 0,
              "ticks": ""
             }
            },
            "type": "scatter3d"
           }
          ],
          "scattercarpet": [
           {
            "marker": {
             "colorbar": {
              "outlinewidth": 0,
              "ticks": ""
             }
            },
            "type": "scattercarpet"
           }
          ],
          "scattergeo": [
           {
            "marker": {
             "colorbar": {
              "outlinewidth": 0,
              "ticks": ""
             }
            },
            "type": "scattergeo"
           }
          ],
          "scattergl": [
           {
            "marker": {
             "colorbar": {
              "outlinewidth": 0,
              "ticks": ""
             }
            },
            "type": "scattergl"
           }
          ],
          "scattermapbox": [
           {
            "marker": {
             "colorbar": {
              "outlinewidth": 0,
              "ticks": ""
             }
            },
            "type": "scattermapbox"
           }
          ],
          "scatterpolar": [
           {
            "marker": {
             "colorbar": {
              "outlinewidth": 0,
              "ticks": ""
             }
            },
            "type": "scatterpolar"
           }
          ],
          "scatterpolargl": [
           {
            "marker": {
             "colorbar": {
              "outlinewidth": 0,
              "ticks": ""
             }
            },
            "type": "scatterpolargl"
           }
          ],
          "scatterternary": [
           {
            "marker": {
             "colorbar": {
              "outlinewidth": 0,
              "ticks": ""
             }
            },
            "type": "scatterternary"
           }
          ],
          "surface": [
           {
            "colorbar": {
             "outlinewidth": 0,
             "ticks": ""
            },
            "colorscale": [
             [
              0,
              "#0d0887"
             ],
             [
              0.1111111111111111,
              "#46039f"
             ],
             [
              0.2222222222222222,
              "#7201a8"
             ],
             [
              0.3333333333333333,
              "#9c179e"
             ],
             [
              0.4444444444444444,
              "#bd3786"
             ],
             [
              0.5555555555555556,
              "#d8576b"
             ],
             [
              0.6666666666666666,
              "#ed7953"
             ],
             [
              0.7777777777777778,
              "#fb9f3a"
             ],
             [
              0.8888888888888888,
              "#fdca26"
             ],
             [
              1,
              "#f0f921"
             ]
            ],
            "type": "surface"
           }
          ],
          "table": [
           {
            "cells": {
             "fill": {
              "color": "#EBF0F8"
             },
             "line": {
              "color": "white"
             }
            },
            "header": {
             "fill": {
              "color": "#C8D4E3"
             },
             "line": {
              "color": "white"
             }
            },
            "type": "table"
           }
          ]
         },
         "layout": {
          "annotationdefaults": {
           "arrowcolor": "#2a3f5f",
           "arrowhead": 0,
           "arrowwidth": 1
          },
          "autotypenumbers": "strict",
          "coloraxis": {
           "colorbar": {
            "outlinewidth": 0,
            "ticks": ""
           }
          },
          "colorscale": {
           "diverging": [
            [
             0,
             "#8e0152"
            ],
            [
             0.1,
             "#c51b7d"
            ],
            [
             0.2,
             "#de77ae"
            ],
            [
             0.3,
             "#f1b6da"
            ],
            [
             0.4,
             "#fde0ef"
            ],
            [
             0.5,
             "#f7f7f7"
            ],
            [
             0.6,
             "#e6f5d0"
            ],
            [
             0.7,
             "#b8e186"
            ],
            [
             0.8,
             "#7fbc41"
            ],
            [
             0.9,
             "#4d9221"
            ],
            [
             1,
             "#276419"
            ]
           ],
           "sequential": [
            [
             0,
             "#0d0887"
            ],
            [
             0.1111111111111111,
             "#46039f"
            ],
            [
             0.2222222222222222,
             "#7201a8"
            ],
            [
             0.3333333333333333,
             "#9c179e"
            ],
            [
             0.4444444444444444,
             "#bd3786"
            ],
            [
             0.5555555555555556,
             "#d8576b"
            ],
            [
             0.6666666666666666,
             "#ed7953"
            ],
            [
             0.7777777777777778,
             "#fb9f3a"
            ],
            [
             0.8888888888888888,
             "#fdca26"
            ],
            [
             1,
             "#f0f921"
            ]
           ],
           "sequentialminus": [
            [
             0,
             "#0d0887"
            ],
            [
             0.1111111111111111,
             "#46039f"
            ],
            [
             0.2222222222222222,
             "#7201a8"
            ],
            [
             0.3333333333333333,
             "#9c179e"
            ],
            [
             0.4444444444444444,
             "#bd3786"
            ],
            [
             0.5555555555555556,
             "#d8576b"
            ],
            [
             0.6666666666666666,
             "#ed7953"
            ],
            [
             0.7777777777777778,
             "#fb9f3a"
            ],
            [
             0.8888888888888888,
             "#fdca26"
            ],
            [
             1,
             "#f0f921"
            ]
           ]
          },
          "colorway": [
           "#636efa",
           "#EF553B",
           "#00cc96",
           "#ab63fa",
           "#FFA15A",
           "#19d3f3",
           "#FF6692",
           "#B6E880",
           "#FF97FF",
           "#FECB52"
          ],
          "font": {
           "color": "#2a3f5f"
          },
          "geo": {
           "bgcolor": "white",
           "lakecolor": "white",
           "landcolor": "#E5ECF6",
           "showlakes": true,
           "showland": true,
           "subunitcolor": "white"
          },
          "hoverlabel": {
           "align": "left"
          },
          "hovermode": "closest",
          "mapbox": {
           "style": "light"
          },
          "paper_bgcolor": "white",
          "plot_bgcolor": "#E5ECF6",
          "polar": {
           "angularaxis": {
            "gridcolor": "white",
            "linecolor": "white",
            "ticks": ""
           },
           "bgcolor": "#E5ECF6",
           "radialaxis": {
            "gridcolor": "white",
            "linecolor": "white",
            "ticks": ""
           }
          },
          "scene": {
           "xaxis": {
            "backgroundcolor": "#E5ECF6",
            "gridcolor": "white",
            "gridwidth": 2,
            "linecolor": "white",
            "showbackground": true,
            "ticks": "",
            "zerolinecolor": "white"
           },
           "yaxis": {
            "backgroundcolor": "#E5ECF6",
            "gridcolor": "white",
            "gridwidth": 2,
            "linecolor": "white",
            "showbackground": true,
            "ticks": "",
            "zerolinecolor": "white"
           },
           "zaxis": {
            "backgroundcolor": "#E5ECF6",
            "gridcolor": "white",
            "gridwidth": 2,
            "linecolor": "white",
            "showbackground": true,
            "ticks": "",
            "zerolinecolor": "white"
           }
          },
          "shapedefaults": {
           "line": {
            "color": "#2a3f5f"
           }
          },
          "ternary": {
           "aaxis": {
            "gridcolor": "white",
            "linecolor": "white",
            "ticks": ""
           },
           "baxis": {
            "gridcolor": "white",
            "linecolor": "white",
            "ticks": ""
           },
           "bgcolor": "#E5ECF6",
           "caxis": {
            "gridcolor": "white",
            "linecolor": "white",
            "ticks": ""
           }
          },
          "title": {
           "x": 0.05
          },
          "xaxis": {
           "automargin": true,
           "gridcolor": "white",
           "linecolor": "white",
           "ticks": "",
           "title": {
            "standoff": 15
           },
           "zerolinecolor": "white",
           "zerolinewidth": 2
          },
          "yaxis": {
           "automargin": true,
           "gridcolor": "white",
           "linecolor": "white",
           "ticks": "",
           "title": {
            "standoff": 15
           },
           "zerolinecolor": "white",
           "zerolinewidth": 2
          }
         }
        },
        "xaxis": {
         "anchor": "y",
         "autorange": true,
         "domain": [
          0,
          1
         ],
         "range": [
          -500,
          400
         ],
         "title": {
          "text": "value"
         },
         "type": "linear"
        },
        "yaxis": {
         "anchor": "x",
         "autorange": true,
         "domain": [
          0,
          1
         ],
         "range": [
          0,
          47.36842105263158
         ],
         "title": {
          "text": "count"
         }
        }
       }
      },
      "image/png": "[encoded data removed]",
      "text/html": [
       "<div>                            <div id=\"c48387ea-ebca-471c-994e-3ea212c81bae\" class=\"plotly-graph-div\" style=\"height:525px; width:100%;\"></div>            <script type=\"text/javascript\">                require([\"plotly\"], function(Plotly) {                    window.PLOTLYENV=window.PLOTLYENV || {};                                    if (document.getElementById(\"c48387ea-ebca-471c-994e-3ea212c81bae\")) {                    Plotly.newPlot(                        \"c48387ea-ebca-471c-994e-3ea212c81bae\",                        [{\"alignmentgroup\":\"True\",\"bingroup\":\"x\",\"hovertemplate\":\"variable=Daily Return\\u003cbr\\u003evalue=%{x}\\u003cbr\\u003ecount=%{y}\\u003cextra\\u003e\\u003c\\u002fextra\\u003e\",\"legendgroup\":\"Daily Return\",\"marker\":{\"color\":\"#636efa\",\"pattern\":{\"shape\":\"\"}},\"name\":\"Daily Return\",\"nbinsx\":20,\"offsetgroup\":\"Daily Return\",\"orientation\":\"v\",\"showlegend\":true,\"x\":[-234.95996000000014,-171.41993000000002,171.07031000000097,121.33007999999973,168.08007999999973,369.5195299999996,-50.28027999999904,74.82031000000097,98.09082000000126,-175.25976999999875,-6.369139999998879,66.54003999999986,-124.83008000000154,-44.3398500000003,77.89062000000013,28.149419999999736,212.38964999999916,64.25,-65.24022999999943,-89.58984000000055,169.6992199999986,114.71094000000085,-76.33983999999873,-195.6201200000014,186.48925999999847,34.829099999999016,34.450189999999566,-88.51952999999958,96.20018999999957,23.69043000000056,30.449220000000423,-11.950189999999566,-179.9794899999997,-60.15917999999874,196.82030999999915,106.64062000000013,2.3593799999998737,-111.82031000000097,-92.88964999999916,-31.58983999999873,188.4296800000011,44.549809999998615,-27.52929999999833,39.419920000000275,12.930659999999989,-66.83983999999873,61.25,40.639650000000984,114.740240000001,225.66992000000027,-39.20020000000113,44.4101499999997,-101.13965000000098,15.460940000000846,17.640620000000126,307.860349999999,-110.59961000000112,-39.46972999999889,172.41993000000002,29.55956999999944,6.370119999999588,31.990230000001247,-269.9794899999997,165.29981000000043,-45.87987999999859,166.95020000000113,-10.41016000000127,111.59082000000126,235.7802700000011,-188.73047000000042,33.669920000000275,-151.55957000000126,244.43066,12.25,-177.64062999999987,194.3398500000003,88.32030999999915,-25.59961000000112,93.96973000000071,18.150390000000698,38.419919999998456,35.35059000000001,-33.6503900000007,13.689449999999852,50.92968999999903,27.88086000000112,139.5,-44.4003900000007,105.0,169.6298799999986,-61.81055000000015,-251.58007999999973,-129.28027999999904,-27.13086000000112,78.36035000000084,-14.780269999999291,-269.10057999999844,120.75977000000057,-17.299810000000434,21.02930000000015,-190.41016000000127,65.77051000000029,-145.82030999999915,52.229489999999714,-6.360349999999016,-185.2802699999993,-88.45019999999931,17.550779999999577,217.16992000000027,-134.42968999999903,-145.1601499999997,-227.5302700000011,105.12988000000041,174.68066,-126.11034999999902,200.4794899999997,-462.4892600000003,82.90038999999888,16.979489999999714,333.53028000000086,75.75977000000057,25.640619999998307,-110.08984999999848,47.72069999999985,-95.8798799999986,84.29979999999887,14.66016000000127,52.10059000000001,-100.84961000000112,55.260739999999714,40.87987999999859,-223.54980999999862,64.20019999999931,38.70020000000113,-255.41992000000027,-119.25,-55.520510000000286,106.20996000000014,-122.62011999999959,-19.979489999999714,171.80956999999944,-138.10937999999987,119.66991999999846,-178.42969000000085,163.01952999999958,-46.330079999999725,351.009759999999,175.58008000000154,57.479489999999714,46.5898500000003,-80.01074000000153,-230.61035000000084,118.25,112.75,-113.02049999999872,-198.0,-191.70996000000014,90.73925999999847,67.45019000000138,-260.44043000000056,-204.43946000000142,-65.33007999999973,51.52930000000015,68.91991999999846,211.2304699999986,62.59961000000112,114.37010999999984,17.769530000001396,94.25,-0.6601600000012695,-163.2197299999989,276.75976999999875,13.580079999999725,68.10937999999987,-64.54003999999986,67.96972000000096,34.009759999999005,181.85937000000013,-17.929690000000846,-24.350580000000264,7.1601600000012695,-7.739260000000286,70.13965000000098,-123.76074000000153,-39.79003999999986,104.99023999999918,2.549800000000687,114.05956999999944,-202.15038999999888,134.259759999999,131.84082000000126,152.11035000000084,144.63964999999916,170.18944999999803,-65.70897999999943,36.449219999998604,98.6913999999997,77.59961000000112,-209.48047000000224,37.80077999999776,-21.619140000002517,61.68164000000252,10.660149999999703,-65.04882999999973,-76.50976000000082,-123.36132999999973,-44.76954000000114,-8.77049999999872,24.240240000000995,295.64940999999817,146.73827999999776,90.5,-31.28906000000279,-22.080079999999725,55.611329999999725,30.769529999997758,87.95897999999943,253.8593699999983,-73.23827999999776,57.26172000000224,-63.01952999999776,-72.27930000000197,-11.859369999998307,158.24023000000307,-79.77928999999858,-132.74023999999918,127.72071000000142,226.79101999999693,-21.650390000002517,-91.70898000000307,80.4804699999986,25.570309999999154,141.42969000000085,-59.61913999999888,80.61913999999888,78.73047000000224,30.400390000002517,-167.60937000000195,-45.070309999999154,66.1211000000003,146.93944999999803,-114.98045999999886,-36.88086000000112,8.47070000000167,-20.52929999999833,52.179690000000846,233.6211000000003,-63.61914000000252,-190.84180000000197,-65.93946000000142,136.25976000000082,-294.33984000000055],\"xaxis\":\"x\",\"yaxis\":\"y\",\"type\":\"histogram\"}],                        {\"template\":{\"data\":{\"histogram2dcontour\":[{\"type\":\"histogram2dcontour\",\"colorbar\":{\"outlinewidth\":0,\"ticks\":\"\"},\"colorscale\":[[0.0,\"#0d0887\"],[0.1111111111111111,\"#46039f\"],[0.2222222222222222,\"#7201a8\"],[0.3333333333333333,\"#9c179e\"],[0.4444444444444444,\"#bd3786\"],[0.5555555555555556,\"#d8576b\"],[0.6666666666666666,\"#ed7953\"],[0.7777777777777778,\"#fb9f3a\"],[0.8888888888888888,\"#fdca26\"],[1.0,\"#f0f921\"]]}],\"choropleth\":[{\"type\":\"choropleth\",\"colorbar\":{\"outlinewidth\":0,\"ticks\":\"\"}}],\"histogram2d\":[{\"type\":\"histogram2d\",\"colorbar\":{\"outlinewidth\":0,\"ticks\":\"\"},\"colorscale\":[[0.0,\"#0d0887\"],[0.1111111111111111,\"#46039f\"],[0.2222222222222222,\"#7201a8\"],[0.3333333333333333,\"#9c179e\"],[0.4444444444444444,\"#bd3786\"],[0.5555555555555556,\"#d8576b\"],[0.6666666666666666,\"#ed7953\"],[0.7777777777777778,\"#fb9f3a\"],[0.8888888888888888,\"#fdca26\"],[1.0,\"#f0f921\"]]}],\"heatmap\":[{\"type\":\"heatmap\",\"colorbar\":{\"outlinewidth\":0,\"ticks\":\"\"},\"colorscale\":[[0.0,\"#0d0887\"],[0.1111111111111111,\"#46039f\"],[0.2222222222222222,\"#7201a8\"],[0.3333333333333333,\"#9c179e\"],[0.4444444444444444,\"#bd3786\"],[0.5555555555555556,\"#d8576b\"],[0.6666666666666666,\"#ed7953\"],[0.7777777777777778,\"#fb9f3a\"],[0.8888888888888888,\"#fdca26\"],[1.0,\"#f0f921\"]]}],\"heatmapgl\":[{\"type\":\"heatmapgl\",\"colorbar\":{\"outlinewidth\":0,\"ticks\":\"\"},\"colorscale\":[[0.0,\"#0d0887\"],[0.1111111111111111,\"#46039f\"],[0.2222222222222222,\"#7201a8\"],[0.3333333333333333,\"#9c179e\"],[0.4444444444444444,\"#bd3786\"],[0.5555555555555556,\"#d8576b\"],[0.6666666666666666,\"#ed7953\"],[0.7777777777777778,\"#fb9f3a\"],[0.8888888888888888,\"#fdca26\"],[1.0,\"#f0f921\"]]}],\"contourcarpet\":[{\"type\":\"contourcarpet\",\"colorbar\":{\"outlinewidth\":0,\"ticks\":\"\"}}],\"contour\":[{\"type\":\"contour\",\"colorbar\":{\"outlinewidth\":0,\"ticks\":\"\"},\"colorscale\":[[0.0,\"#0d0887\"],[0.1111111111111111,\"#46039f\"],[0.2222222222222222,\"#7201a8\"],[0.3333333333333333,\"#9c179e\"],[0.4444444444444444,\"#bd3786\"],[0.5555555555555556,\"#d8576b\"],[0.6666666666666666,\"#ed7953\"],[0.7777777777777778,\"#fb9f3a\"],[0.8888888888888888,\"#fdca26\"],[1.0,\"#f0f921\"]]}],\"surface\":[{\"type\":\"surface\",\"colorbar\":{\"outlinewidth\":0,\"ticks\":\"\"},\"colorscale\":[[0.0,\"#0d0887\"],[0.1111111111111111,\"#46039f\"],[0.2222222222222222,\"#7201a8\"],[0.3333333333333333,\"#9c179e\"],[0.4444444444444444,\"#bd3786\"],[0.5555555555555556,\"#d8576b\"],[0.6666666666666666,\"#ed7953\"],[0.7777777777777778,\"#fb9f3a\"],[0.8888888888888888,\"#fdca26\"],[1.0,\"#f0f921\"]]}],\"mesh3d\":[{\"type\":\"mesh3d\",\"colorbar\":{\"outlinewidth\":0,\"ticks\":\"\"}}],\"scatter\":[{\"fillpattern\":{\"fillmode\":\"overlay\",\"size\":10,\"solidity\":0.2},\"type\":\"scatter\"}],\"parcoords\":[{\"type\":\"parcoords\",\"line\":{\"colorbar\":{\"outlinewidth\":0,\"ticks\":\"\"}}}],\"scatterpolargl\":[{\"type\":\"scatterpolargl\",\"marker\":{\"colorbar\":{\"outlinewidth\":0,\"ticks\":\"\"}}}],\"bar\":[{\"error_x\":{\"color\":\"#2a3f5f\"},\"error_y\":{\"color\":\"#2a3f5f\"},\"marker\":{\"line\":{\"color\":\"#E5ECF6\",\"width\":0.5},\"pattern\":{\"fillmode\":\"overlay\",\"size\":10,\"solidity\":0.2}},\"type\":\"bar\"}],\"scattergeo\":[{\"type\":\"scattergeo\",\"marker\":{\"colorbar\":{\"outlinewidth\":0,\"ticks\":\"\"}}}],\"scatterpolar\":[{\"type\":\"scatterpolar\",\"marker\":{\"colorbar\":{\"outlinewidth\":0,\"ticks\":\"\"}}}],\"histogram\":[{\"marker\":{\"pattern\":{\"fillmode\":\"overlay\",\"size\":10,\"solidity\":0.2}},\"type\":\"histogram\"}],\"scattergl\":[{\"type\":\"scattergl\",\"marker\":{\"colorbar\":{\"outlinewidth\":0,\"ticks\":\"\"}}}],\"scatter3d\":[{\"type\":\"scatter3d\",\"line\":{\"colorbar\":{\"outlinewidth\":0,\"ticks\":\"\"}},\"marker\":{\"colorbar\":{\"outlinewidth\":0,\"ticks\":\"\"}}}],\"scattermapbox\":[{\"type\":\"scattermapbox\",\"marker\":{\"colorbar\":{\"outlinewidth\":0,\"ticks\":\"\"}}}],\"scatterternary\":[{\"type\":\"scatterternary\",\"marker\":{\"colorbar\":{\"outlinewidth\":0,\"ticks\":\"\"}}}],\"scattercarpet\":[{\"type\":\"scattercarpet\",\"marker\":{\"colorbar\":{\"outlinewidth\":0,\"ticks\":\"\"}}}],\"carpet\":[{\"aaxis\":{\"endlinecolor\":\"#2a3f5f\",\"gridcolor\":\"white\",\"linecolor\":\"white\",\"minorgridcolor\":\"white\",\"startlinecolor\":\"#2a3f5f\"},\"baxis\":{\"endlinecolor\":\"#2a3f5f\",\"gridcolor\":\"white\",\"linecolor\":\"white\",\"minorgridcolor\":\"white\",\"startlinecolor\":\"#2a3f5f\"},\"type\":\"carpet\"}],\"table\":[{\"cells\":{\"fill\":{\"color\":\"#EBF0F8\"},\"line\":{\"color\":\"white\"}},\"header\":{\"fill\":{\"color\":\"#C8D4E3\"},\"line\":{\"color\":\"white\"}},\"type\":\"table\"}],\"barpolar\":[{\"marker\":{\"line\":{\"color\":\"#E5ECF6\",\"width\":0.5},\"pattern\":{\"fillmode\":\"overlay\",\"size\":10,\"solidity\":0.2}},\"type\":\"barpolar\"}],\"pie\":[{\"automargin\":true,\"type\":\"pie\"}]},\"layout\":{\"autotypenumbers\":\"strict\",\"colorway\":[\"#636efa\",\"#EF553B\",\"#00cc96\",\"#ab63fa\",\"#FFA15A\",\"#19d3f3\",\"#FF6692\",\"#B6E880\",\"#FF97FF\",\"#FECB52\"],\"font\":{\"color\":\"#2a3f5f\"},\"hovermode\":\"closest\",\"hoverlabel\":{\"align\":\"left\"},\"paper_bgcolor\":\"white\",\"plot_bgcolor\":\"#E5ECF6\",\"polar\":{\"bgcolor\":\"#E5ECF6\",\"angularaxis\":{\"gridcolor\":\"white\",\"linecolor\":\"white\",\"ticks\":\"\"},\"radialaxis\":{\"gridcolor\":\"white\",\"linecolor\":\"white\",\"ticks\":\"\"}},\"ternary\":{\"bgcolor\":\"#E5ECF6\",\"aaxis\":{\"gridcolor\":\"white\",\"linecolor\":\"white\",\"ticks\":\"\"},\"baxis\":{\"gridcolor\":\"white\",\"linecolor\":\"white\",\"ticks\":\"\"},\"caxis\":{\"gridcolor\":\"white\",\"linecolor\":\"white\",\"ticks\":\"\"}},\"coloraxis\":{\"colorbar\":{\"outlinewidth\":0,\"ticks\":\"\"}},\"colorscale\":{\"sequential\":[[0.0,\"#0d0887\"],[0.1111111111111111,\"#46039f\"],[0.2222222222222222,\"#7201a8\"],[0.3333333333333333,\"#9c179e\"],[0.4444444444444444,\"#bd3786\"],[0.5555555555555556,\"#d8576b\"],[0.6666666666666666,\"#ed7953\"],[0.7777777777777778,\"#fb9f3a\"],[0.8888888888888888,\"#fdca26\"],[1.0,\"#f0f921\"]],\"sequentialminus\":[[0.0,\"#0d0887\"],[0.1111111111111111,\"#46039f\"],[0.2222222222222222,\"#7201a8\"],[0.3333333333333333,\"#9c179e\"],[0.4444444444444444,\"#bd3786\"],[0.5555555555555556,\"#d8576b\"],[0.6666666666666666,\"#ed7953\"],[0.7777777777777778,\"#fb9f3a\"],[0.8888888888888888,\"#fdca26\"],[1.0,\"#f0f921\"]],\"diverging\":[[0,\"#8e0152\"],[0.1,\"#c51b7d\"],[0.2,\"#de77ae\"],[0.3,\"#f1b6da\"],[0.4,\"#fde0ef\"],[0.5,\"#f7f7f7\"],[0.6,\"#e6f5d0\"],[0.7,\"#b8e186\"],[0.8,\"#7fbc41\"],[0.9,\"#4d9221\"],[1,\"#276419\"]]},\"xaxis\":{\"gridcolor\":\"white\",\"linecolor\":\"white\",\"ticks\":\"\",\"title\":{\"standoff\":15},\"zerolinecolor\":\"white\",\"automargin\":true,\"zerolinewidth\":2},\"yaxis\":{\"gridcolor\":\"white\",\"linecolor\":\"white\",\"ticks\":\"\",\"title\":{\"standoff\":15},\"zerolinecolor\":\"white\",\"automargin\":true,\"zerolinewidth\":2},\"scene\":{\"xaxis\":{\"backgroundcolor\":\"#E5ECF6\",\"gridcolor\":\"white\",\"linecolor\":\"white\",\"showbackground\":true,\"ticks\":\"\",\"zerolinecolor\":\"white\",\"gridwidth\":2},\"yaxis\":{\"backgroundcolor\":\"#E5ECF6\",\"gridcolor\":\"white\",\"linecolor\":\"white\",\"showbackground\":true,\"ticks\":\"\",\"zerolinecolor\":\"white\",\"gridwidth\":2},\"zaxis\":{\"backgroundcolor\":\"#E5ECF6\",\"gridcolor\":\"white\",\"linecolor\":\"white\",\"showbackground\":true,\"ticks\":\"\",\"zerolinecolor\":\"white\",\"gridwidth\":2}},\"shapedefaults\":{\"line\":{\"color\":\"#2a3f5f\"}},\"annotationdefaults\":{\"arrowcolor\":\"#2a3f5f\",\"arrowhead\":0,\"arrowwidth\":1},\"geo\":{\"bgcolor\":\"white\",\"landcolor\":\"#E5ECF6\",\"subunitcolor\":\"white\",\"showland\":true,\"showlakes\":true,\"lakecolor\":\"white\"},\"title\":{\"x\":0.05},\"mapbox\":{\"style\":\"light\"}}},\"xaxis\":{\"anchor\":\"y\",\"domain\":[0.0,1.0],\"title\":{\"text\":\"value\"}},\"yaxis\":{\"anchor\":\"x\",\"domain\":[0.0,1.0],\"title\":{\"text\":\"count\"}},\"legend\":{\"title\":{\"text\":\"variable\"},\"tracegroupgap\":0},\"margin\":{\"t\":60},\"barmode\":\"relative\"},                        {\"responsive\": true}                    ).then(function(){\n",
       "                            \n",
       "var gd = document.getElementById('c48387ea-ebca-471c-994e-3ea212c81bae');\n",
       "var x = new MutationObserver(function (mutations, observer) {{\n",
       "        var display = window.getComputedStyle(gd).display;\n",
       "        if (!display || display === 'none') {{\n",
       "            console.log([gd, 'removed!']);\n",
       "            Plotly.purge(gd);\n",
       "            observer.disconnect();\n",
       "        }}\n",
       "}});\n",
       "\n",
       "// Listen for the removal of the full notebook cells\n",
       "var notebookContainer = gd.closest('#notebook-container');\n",
       "if (notebookContainer) {{\n",
       "    x.observe(notebookContainer, {childList: true});\n",
       "}}\n",
       "\n",
       "// Listen for the clearing of the current output cell\n",
       "var outputEl = gd.closest('.output');\n",
       "if (outputEl) {{\n",
       "    x.observe(outputEl, {childList: true});\n",
       "}}\n",
       "\n",
       "                        })                };                });            </script>        </div>"
      ]
     },
     "metadata": {},
     "output_type": "display_data"
    }
   ],
   "source": [
    "fig = px.histogram(df['Daily Return'], nbins=20)\n",
    "fig.show()\n",
    "\n",
    "# THose aren't the bin sizes, but the number of bins....\n",
    "\n",
    "#This actually looks way more normally distribuited with more bins\n",
    "\n",
    "#fig = px. distplot(df['Daily Return'])\n",
    "#fig.show()"
   ]
  },
  {
   "cell_type": "markdown",
   "id": "7598c7e9-d493-44be-94a4-0637127168c4",
   "metadata": {},
   "source": [
    "# Interpreting results\n",
    "\n",
    "Is the mean very far from zero?\n",
    "\n",
    "What sort of distribution does \"Daily Return\" seem to be?\n",
    "\n",
    "Does there appear to be any asymmetry in the distribution?\n",
    "\n",
    "What sort of investment strategy might have made money in this year? What sort of investment strategy might have lost money?"
   ]
  },
  {
   "cell_type": "markdown",
   "id": "80e87f00-c2a9-4cc2-846e-88b332fac33b",
   "metadata": {},
   "source": [
    "* Relatively... no\n",
    "* Looks pretty normal to me\n",
    "* Yes\n",
    "* HUH... There is no information given on what investment strats are used."
   ]
  },
  {
   "attachments": {},
   "cell_type": "markdown",
   "id": "d5819183-1482-4602-a2a3-06fa50d1ef52",
   "metadata": {},
   "source": [
    "---\n",
    "## Task 3\n",
    "\n",
    "### Examples of working with lists\n",
    "\n",
    "One of the most powerful features of python is lists. A list is a data structure that has no special way to get values out except by position.\n",
    "\n",
    "The next cell creates a list of numbers, but list elements can be any datatype."
   ]
  },
  {
   "cell_type": "code",
   "execution_count": 12,
   "id": "ec316838-f27e-4406-aae7-6a353f2decf0",
   "metadata": {},
   "outputs": [],
   "source": [
    "# Here's a list\n",
    "\n",
    "list1 = [0,1,2,3,4,5,6,7,8,9]\n"
   ]
  },
  {
   "cell_type": "markdown",
   "id": "e385249e-fde6-40dd-b4c2-c61299213330",
   "metadata": {},
   "source": [
    "## Do some things with the list\n",
    "\n",
    "If you are new to python, you might have to do some looking around on the course materials or the internet to find the write code to do the following tasks with list1, but it shouldn't be difficult."
   ]
  },
  {
   "cell_type": "markdown",
   "id": "a3accb7f-7a7e-4f3e-af49-7f68f2829f21",
   "metadata": {},
   "source": [
    "### Add up the numbers in list1"
   ]
  },
  {
   "cell_type": "code",
   "execution_count": 13,
   "id": "9ae9a865-d321-4ac6-9bb8-2580e4c23fc3",
   "metadata": {},
   "outputs": [
    {
     "data": {
      "text/plain": [
       "45"
      ]
     },
     "execution_count": 13,
     "metadata": {},
     "output_type": "execute_result"
    }
   ],
   "source": [
    "sum(list1)"
   ]
  },
  {
   "cell_type": "markdown",
   "id": "ca15eace-e140-4720-9534-69dbd7a5b4c6",
   "metadata": {},
   "source": [
    "### What is the length of list1?"
   ]
  },
  {
   "cell_type": "code",
   "execution_count": 14,
   "id": "679e7922-e627-4db9-bf47-96fb9de07fa3",
   "metadata": {},
   "outputs": [
    {
     "data": {
      "text/plain": [
       "10"
      ]
     },
     "execution_count": 14,
     "metadata": {},
     "output_type": "execute_result"
    }
   ],
   "source": [
    "len(list1)"
   ]
  },
  {
   "cell_type": "markdown",
   "id": "2d7544cf-2e2e-4293-a20a-3180abe46c9c",
   "metadata": {},
   "source": [
    "### So what is the mean of list1?"
   ]
  },
  {
   "cell_type": "code",
   "execution_count": 15,
   "id": "7b9b79ef-5e6d-4d0e-aeeb-b82564b6b686",
   "metadata": {},
   "outputs": [
    {
     "data": {
      "text/plain": [
       "4.5"
      ]
     },
     "execution_count": 15,
     "metadata": {},
     "output_type": "execute_result"
    }
   ],
   "source": [
    "sum(list1)/len(list1)"
   ]
  },
  {
   "cell_type": "code",
   "execution_count": null,
   "id": "5b6a2d75-885c-4a13-8281-5563ff521ff5",
   "metadata": {},
   "outputs": [],
   "source": [
    "### Print the 5th number in list1? (remember there is a \"0\" element so the first item in the list is list[0])"
   ]
  },
  {
   "cell_type": "code",
   "execution_count": 16,
   "id": "0587687d-fe47-4926-80cb-f87df5182a0f",
   "metadata": {},
   "outputs": [
    {
     "data": {
      "text/plain": [
       "4"
      ]
     },
     "execution_count": 16,
     "metadata": {},
     "output_type": "execute_result"
    }
   ],
   "source": [
    "list1[4]"
   ]
  },
  {
   "cell_type": "markdown",
   "id": "dc01e18c-5f8f-49dd-abec-05e8e8e6947a",
   "metadata": {},
   "source": [
    "You can \"slice\" a list to get different values easily\n",
    "\n",
    "### What are the last 3 numbers in list1?"
   ]
  },
  {
   "cell_type": "code",
   "execution_count": 17,
   "id": "48acee62-fe14-4781-87c5-ca6213a3dad1",
   "metadata": {},
   "outputs": [
    {
     "data": {
      "text/plain": [
       "[7, 8, 9]"
      ]
     },
     "execution_count": 17,
     "metadata": {},
     "output_type": "execute_result"
    }
   ],
   "source": [
    "list1[7:10]"
   ]
  },
  {
   "cell_type": "markdown",
   "id": "7c8426ae-dad0-44c6-a00f-508fbe0be3df",
   "metadata": {},
   "source": [
    "### Loop through all the elements of list1 using a for loop"
   ]
  },
  {
   "cell_type": "code",
   "execution_count": 18,
   "id": "8bcb55a4-7098-4935-a5bd-28e9d631a7a9",
   "metadata": {},
   "outputs": [
    {
     "name": "stdout",
     "output_type": "stream",
     "text": [
      "This is: 0\n",
      "This is: 1\n",
      "This is: 2\n",
      "This is: 3\n",
      "This is: 4\n",
      "This is: 5\n",
      "This is: 6\n",
      "This is: 7\n",
      "This is: 8\n",
      "This is: 9\n"
     ]
    }
   ],
   "source": [
    "for element in list1:\n",
    "    print(\"This is:\", element)"
   ]
  },
  {
   "cell_type": "markdown",
   "id": "40d01a7c-3270-4ab5-9cfb-64fb77254740",
   "metadata": {},
   "source": [
    "There is a shortcut way to do things with lists called \"list comprehensions\". Find out what they are.\n",
    "### Use a list comprehension to print all the elements of list1 squared"
   ]
  },
  {
   "cell_type": "code",
   "execution_count": 19,
   "id": "cecb0997-1c1d-4521-aa5e-e961950c2797",
   "metadata": {},
   "outputs": [
    {
     "data": {
      "text/plain": [
       "[0, 1, 4, 9, 16, 25, 36, 49, 64, 81]"
      ]
     },
     "execution_count": 19,
     "metadata": {},
     "output_type": "execute_result"
    }
   ],
   "source": [
    "[x**2 for x in list1]"
   ]
  },
  {
   "cell_type": "markdown",
   "id": "b80d97af-9341-4fd8-bd31-75ae92ee3bb5",
   "metadata": {},
   "source": [
    "A list can be any combination of things.\n",
    "\n",
    "### Add a word to list1"
   ]
  },
  {
   "cell_type": "code",
   "execution_count": null,
   "id": "dc22c1a6-b2c9-40ee-9f27-72079d86829a",
   "metadata": {},
   "outputs": [],
   "source": [
    "list1.append('this list item contains some words')\n",
    "list1"
   ]
  },
  {
   "cell_type": "markdown",
   "id": "680ff5a1-5a51-4037-a12e-da45bd57aca2",
   "metadata": {},
   "source": [
    "Now if you try to sum the elements in the list, however, we will get an error because you can't add strings and numbers."
   ]
  },
  {
   "cell_type": "markdown",
   "id": "5a518fe6-591a-4fb5-832f-469a15f542c3",
   "metadata": {},
   "source": [
    "An empty list looks like this: []\n",
    "\n",
    "To empty list1 we can simply do: list1=[]\n",
    "\n"
   ]
  },
  {
   "cell_type": "code",
   "execution_count": null,
   "id": "57b96be6-81c7-4ed5-8052-18c2d67bdf2a",
   "metadata": {},
   "outputs": [],
   "source": [
    "list1=[]\n",
    "list1"
   ]
  }
 ],
 "metadata": {
  "creation_period": "",
  "kernelspec": {
   "display_name": "Python 3 (ipykernel)",
   "language": "python",
   "name": "python3"
  },
  "language_info": {
   "codemirror_mode": {
    "name": "ipython",
    "version": 3
   },
   "file_extension": ".py",
   "mimetype": "text/x-python",
   "name": "python",
   "nbconvert_exporter": "python",
   "pygments_lexer": "ipython3",
   "version": "3.11.9"
  },
  "nb_name": "template",
  "qut": {
   "creation_period": "2023_sem1",
   "nb_name": "B2-StructuredAnalytics-tutorial-solution",
   "unit_code": "IFQ619"
  },
  "unit_code": ""
 },
 "nbformat": 4,
 "nbformat_minor": 5
}
